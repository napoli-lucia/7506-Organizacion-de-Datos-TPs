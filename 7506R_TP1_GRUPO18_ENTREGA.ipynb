{
 "cells": [
  {
   "cell_type": "markdown",
   "metadata": {
    "id": "eG-y4VJqK9HT"
   },
   "source": [
    "# <center>Organizaci&oacute;n de Datos</center>\n",
    "#### <center>C&aacute;tedra Ing. Rodriguez, Juan Manuel </center>\n",
    "\n",
    "## <center>Trabajo Práctico 1:</center>\n",
    "### <center>  Propiedades en Venta</center>\n",
    "### <center>  Grupo 18</center>\n",
    "\n",
    "\n",
    "#### **Integrantes:**\n",
    "\n",
    "* Analía Acevedo\n",
    "* Santiago Daniel Marczewski Neudeck\n",
    "* Lucia Belén Napoli\n",
    "* Brayan Ricaldi"
   ]
  },
  {
   "cell_type": "markdown",
   "metadata": {},
   "source": [
    "#### **Introducción**\n",
    "\n",
    "En este trabajo práctico se propone que cada grupo de alumnos se enfrente a un problema real\n",
    "de ciencia de datos, que trabaje en cada una de las etapas del proceso y que pueda resolverlo\n",
    "aplicando los contenidos que vemos en la materia.\n",
    "\n",
    "Vamos a utilizar el conjunto de datos provisto por la empresa [Properati](https://www.properati.com.ar/) correspondiente a anuncios de propiedades en venta de la República Argentina publicados durante el año 2021 .\n",
    "La información fue extraída desde BigQuery (producto de Google Cloud para consultar grandes\n",
    "volúmenes de datos) donde la empresa disponibiliza sus datasets con avisos de propiedades y\n",
    "desarrollos inmobiliarios que están y estuvieron publicados en Properati en todo Latinoamérica\n",
    "desde 2015 hasta dos meses atrás. Los datos se actualizan diariamente para mayor información\n",
    "pueden consultar el siguiente [link](https://www.properati.com.ar/data/).\n",
    "\n",
    "El objetivo principal del trabajo será aplicar técnicas de análisis exploratorio, preprocesamiento\n",
    "de datos, agrupamiento, clasificación y regresión. En la sección enunciado se detallan los\n",
    "objetivos particulares."
   ]
  },
  {
   "cell_type": "markdown",
   "metadata": {},
   "source": [
    "#### **Descargamos en DataSet**"
   ]
  },
  {
   "cell_type": "code",
   "execution_count": 1,
   "metadata": {},
   "outputs": [],
   "source": [
    "import pandas as pd\n",
    "import matplotlib.pyplot as plt\n",
    "import seaborn as sns"
   ]
  },
  {
   "cell_type": "code",
   "execution_count": 2,
   "metadata": {},
   "outputs": [],
   "source": [
    "url='https://drive.google.com/file/d/1wScqb_M8lq3yL3ZfSZvnLyZbh4ImI7dI/view?usp=sharing'\n",
    "url='https://drive.google.com/uc?id=' + url.split('/')[-2]\n",
    "dp_properity = pd.read_csv(url)"
   ]
  },
  {
   "cell_type": "code",
   "execution_count": 3,
   "metadata": {},
   "outputs": [],
   "source": [
    "df = dp_properity.copy()"
   ]
  },
  {
   "cell_type": "code",
   "execution_count": 4,
   "metadata": {},
   "outputs": [
    {
     "data": {
      "text/html": [
       "<div>\n",
       "<style scoped>\n",
       "    .dataframe tbody tr th:only-of-type {\n",
       "        vertical-align: middle;\n",
       "    }\n",
       "\n",
       "    .dataframe tbody tr th {\n",
       "        vertical-align: top;\n",
       "    }\n",
       "\n",
       "    .dataframe thead th {\n",
       "        text-align: right;\n",
       "    }\n",
       "</style>\n",
       "<table border=\"1\" class=\"dataframe\">\n",
       "  <thead>\n",
       "    <tr style=\"text-align: right;\">\n",
       "      <th></th>\n",
       "      <th>id</th>\n",
       "      <th>start_date</th>\n",
       "      <th>end_date</th>\n",
       "      <th>created_on</th>\n",
       "      <th>latitud</th>\n",
       "      <th>longitud</th>\n",
       "      <th>place_l2</th>\n",
       "      <th>place_l3</th>\n",
       "      <th>place_l4</th>\n",
       "      <th>place_l5</th>\n",
       "      <th>place_l6</th>\n",
       "      <th>operation</th>\n",
       "      <th>property_type</th>\n",
       "      <th>property_rooms</th>\n",
       "      <th>property_bedrooms</th>\n",
       "      <th>property_surface_total</th>\n",
       "      <th>property_surface_covered</th>\n",
       "      <th>property_price</th>\n",
       "      <th>property_currency</th>\n",
       "      <th>property_title</th>\n",
       "    </tr>\n",
       "  </thead>\n",
       "  <tbody>\n",
       "    <tr>\n",
       "      <th>0</th>\n",
       "      <td>XZq2dFGxBiboHY3Bo/tqlw==</td>\n",
       "      <td>2021-09-09</td>\n",
       "      <td>2022-01-27</td>\n",
       "      <td>2021-09-09</td>\n",
       "      <td>-38.957632</td>\n",
       "      <td>-68.105443</td>\n",
       "      <td>Neuquén</td>\n",
       "      <td>NaN</td>\n",
       "      <td>NaN</td>\n",
       "      <td>NaN</td>\n",
       "      <td>NaN</td>\n",
       "      <td>Venta</td>\n",
       "      <td>Casa</td>\n",
       "      <td>6.0</td>\n",
       "      <td>NaN</td>\n",
       "      <td>NaN</td>\n",
       "      <td>206.0</td>\n",
       "      <td>NaN</td>\n",
       "      <td>NaN</td>\n",
       "      <td>Casa - Capital</td>\n",
       "    </tr>\n",
       "    <tr>\n",
       "      <th>1</th>\n",
       "      <td>8afoK+yMH/rnnlYiktwgNA==</td>\n",
       "      <td>2021-09-09</td>\n",
       "      <td>2021-10-23</td>\n",
       "      <td>2021-09-09</td>\n",
       "      <td>-34.888878</td>\n",
       "      <td>-56.092368</td>\n",
       "      <td>Montevideo</td>\n",
       "      <td>NaN</td>\n",
       "      <td>NaN</td>\n",
       "      <td>NaN</td>\n",
       "      <td>NaN</td>\n",
       "      <td>Venta</td>\n",
       "      <td>Casa</td>\n",
       "      <td>4.0</td>\n",
       "      <td>3.0</td>\n",
       "      <td>193.0</td>\n",
       "      <td>193.0</td>\n",
       "      <td>390000.0</td>\n",
       "      <td>USD</td>\n",
       "      <td>Casa - Malvín</td>\n",
       "    </tr>\n",
       "    <tr>\n",
       "      <th>2</th>\n",
       "      <td>iVaG5rBB47dd1Ya4BMXREA==</td>\n",
       "      <td>2021-09-09</td>\n",
       "      <td>2022-03-09</td>\n",
       "      <td>2021-09-09</td>\n",
       "      <td>-32.488717</td>\n",
       "      <td>-58.257499</td>\n",
       "      <td>Entre Ríos</td>\n",
       "      <td>NaN</td>\n",
       "      <td>NaN</td>\n",
       "      <td>NaN</td>\n",
       "      <td>NaN</td>\n",
       "      <td>Venta</td>\n",
       "      <td>Casa</td>\n",
       "      <td>NaN</td>\n",
       "      <td>NaN</td>\n",
       "      <td>110.0</td>\n",
       "      <td>45.0</td>\n",
       "      <td>47000.0</td>\n",
       "      <td>USD</td>\n",
       "      <td>Casa - Uruguay</td>\n",
       "    </tr>\n",
       "    <tr>\n",
       "      <th>3</th>\n",
       "      <td>QE1QVMWKAHWkd0qT0FtPWA==</td>\n",
       "      <td>2021-09-09</td>\n",
       "      <td>2022-01-27</td>\n",
       "      <td>2021-09-09</td>\n",
       "      <td>-34.900165</td>\n",
       "      <td>-54.808453</td>\n",
       "      <td>Maldonado</td>\n",
       "      <td>NaN</td>\n",
       "      <td>NaN</td>\n",
       "      <td>NaN</td>\n",
       "      <td>NaN</td>\n",
       "      <td>Venta</td>\n",
       "      <td>Casa</td>\n",
       "      <td>NaN</td>\n",
       "      <td>3.0</td>\n",
       "      <td>NaN</td>\n",
       "      <td>180.0</td>\n",
       "      <td>400000.0</td>\n",
       "      <td>USD</td>\n",
       "      <td>Casa - El Chorro</td>\n",
       "    </tr>\n",
       "    <tr>\n",
       "      <th>4</th>\n",
       "      <td>tJ5lSk7IysG/71OGhacNZA==</td>\n",
       "      <td>2021-09-09</td>\n",
       "      <td>2022-01-27</td>\n",
       "      <td>2021-09-09</td>\n",
       "      <td>-38.954528</td>\n",
       "      <td>-68.041862</td>\n",
       "      <td>Neuquén</td>\n",
       "      <td>NaN</td>\n",
       "      <td>NaN</td>\n",
       "      <td>NaN</td>\n",
       "      <td>NaN</td>\n",
       "      <td>Venta</td>\n",
       "      <td>PH</td>\n",
       "      <td>3.0</td>\n",
       "      <td>2.0</td>\n",
       "      <td>NaN</td>\n",
       "      <td>98.0</td>\n",
       "      <td>102000.0</td>\n",
       "      <td>USD</td>\n",
       "      <td>PH - Villa Farrell</td>\n",
       "    </tr>\n",
       "  </tbody>\n",
       "</table>\n",
       "</div>"
      ],
      "text/plain": [
       "                         id  start_date    end_date  created_on    latitud  \\\n",
       "0  XZq2dFGxBiboHY3Bo/tqlw==  2021-09-09  2022-01-27  2021-09-09 -38.957632   \n",
       "1  8afoK+yMH/rnnlYiktwgNA==  2021-09-09  2021-10-23  2021-09-09 -34.888878   \n",
       "2  iVaG5rBB47dd1Ya4BMXREA==  2021-09-09  2022-03-09  2021-09-09 -32.488717   \n",
       "3  QE1QVMWKAHWkd0qT0FtPWA==  2021-09-09  2022-01-27  2021-09-09 -34.900165   \n",
       "4  tJ5lSk7IysG/71OGhacNZA==  2021-09-09  2022-01-27  2021-09-09 -38.954528   \n",
       "\n",
       "    longitud    place_l2 place_l3 place_l4 place_l5  place_l6 operation  \\\n",
       "0 -68.105443     Neuquén      NaN      NaN      NaN       NaN     Venta   \n",
       "1 -56.092368  Montevideo      NaN      NaN      NaN       NaN     Venta   \n",
       "2 -58.257499  Entre Ríos      NaN      NaN      NaN       NaN     Venta   \n",
       "3 -54.808453   Maldonado      NaN      NaN      NaN       NaN     Venta   \n",
       "4 -68.041862     Neuquén      NaN      NaN      NaN       NaN     Venta   \n",
       "\n",
       "  property_type  property_rooms  property_bedrooms  property_surface_total  \\\n",
       "0          Casa             6.0                NaN                     NaN   \n",
       "1          Casa             4.0                3.0                   193.0   \n",
       "2          Casa             NaN                NaN                   110.0   \n",
       "3          Casa             NaN                3.0                     NaN   \n",
       "4            PH             3.0                2.0                     NaN   \n",
       "\n",
       "   property_surface_covered  property_price property_currency  \\\n",
       "0                     206.0             NaN               NaN   \n",
       "1                     193.0        390000.0               USD   \n",
       "2                      45.0         47000.0               USD   \n",
       "3                     180.0        400000.0               USD   \n",
       "4                      98.0        102000.0               USD   \n",
       "\n",
       "       property_title  \n",
       "0      Casa - Capital  \n",
       "1       Casa - Malvín  \n",
       "2      Casa - Uruguay  \n",
       "3    Casa - El Chorro  \n",
       "4  PH - Villa Farrell  "
      ]
     },
     "execution_count": 4,
     "metadata": {},
     "output_type": "execute_result"
    }
   ],
   "source": [
    "df.head()"
   ]
  },
  {
   "cell_type": "code",
   "execution_count": 5,
   "metadata": {},
   "outputs": [
    {
     "data": {
      "text/plain": [
       "(460154, 20)"
      ]
     },
     "execution_count": 5,
     "metadata": {},
     "output_type": "execute_result"
    }
   ],
   "source": [
    "df.shape"
   ]
  },
  {
   "cell_type": "markdown",
   "metadata": {},
   "source": [
    "#### **Enunciado**\n",
    "El conjunto de datos a utilizar properati_argentina_2021 se encuentra disponible en el\n",
    "siguiente [enlace](https://drive.google.com/drive/folders/1BPCdW_Jab91WhMqfXcf0jYMHzjxW_XkD?usp=sharing), la descripción de las variables se encuentra disponible [aquí](https://www.properati.com.ar/data/). Para este trabajo\n",
    "se plantean los siguientes objetivos generales:\n",
    "\n",
    "* _Agrupamiento_: el objetivo será analizar si es posible agrupar los datos en función de\n",
    "algún criterio, identificando a qué obedece el mismo.\n",
    "\n",
    "* _Clasificación_: el objetivo será clasificar cada anuncio en tres categorías relacionadas al\n",
    "precio de venta (alto, medio y bajo).\n",
    "\n",
    "* _Regresión_: el objetivo será predecir el precio de venta en dólares de una propiedad tipo\n",
    "vivienda ubicada en Capital Federal.\n",
    "\n",
    "A continuación se detallan las etapas que deben ser desarrolladas en el trabajo:"
   ]
  },
  {
   "cell_type": "markdown",
   "metadata": {
    "id": "fHgtvAnENcec"
   },
   "source": [
    "### **1. Análisis Exploratorio y Preprocesamiento de Datos**\n",
    "El primer paso consiste en la selección de los datos que se van a utilizar, se deben filtrar\n",
    "únicamente los anuncios de propiedades de tipo vivienda ( Casa, PH y Departamento ) ubicados\n",
    "en Capital Federal cuyo tipo de operación sea venta y su precio se encuentre en dólares (USD).\n",
    "Se debe separar un conjunto de entrenamiento (80%) y un conjunto de test (20%)."
   ]
  },
  {
   "cell_type": "markdown",
   "metadata": {
    "id": "DzErbCVNVBQ1"
   },
   "source": [
    "**a) Exploración Inicial:** analizar cada variable, considerando los siguientes aspectos\n",
    "* Tipo de variable\n",
    "* Variables Cuantitativas: calcular medidas de resumen: media, mediana, q1,\n",
    "q3, moda.\n",
    "* Variables Cualitativas mostrar cantidad de valores posibles, y frecuencias de cada\n",
    "uno.\n",
    "* Determinar variables irrelevantes en el análisis (Ids por ejemplo)\n",
    "* Realizar un análisis gráfico de las distribuciones de las variables\n",
    "* Analizar las correlaciones existentes entre las variables.\n",
    "\n",
    "A partir de este análisis generar conclusiones sobre los datos.\n",
    "\n"
   ]
  },
  {
   "cell_type": "markdown",
   "metadata": {
    "tags": []
   },
   "source": [
    "<h4 align=\"center\"><b> Tipo de variable </b></h4>"
   ]
  },
  {
   "cell_type": "code",
   "execution_count": 6,
   "metadata": {},
   "outputs": [
    {
     "name": "stdout",
     "output_type": "stream",
     "text": [
      "<class 'pandas.core.frame.DataFrame'>\n",
      "RangeIndex: 460154 entries, 0 to 460153\n",
      "Data columns (total 20 columns):\n",
      " #   Column                    Non-Null Count   Dtype  \n",
      "---  ------                    --------------   -----  \n",
      " 0   id                        460154 non-null  object \n",
      " 1   start_date                460154 non-null  object \n",
      " 2   end_date                  460154 non-null  object \n",
      " 3   created_on                460154 non-null  object \n",
      " 4   latitud                   419740 non-null  float64\n",
      " 5   longitud                  419740 non-null  float64\n",
      " 6   place_l2                  460154 non-null  object \n",
      " 7   place_l3                  437665 non-null  object \n",
      " 8   place_l4                  139020 non-null  object \n",
      " 9   place_l5                  2430 non-null    object \n",
      " 10  place_l6                  0 non-null       float64\n",
      " 11  operation                 460154 non-null  object \n",
      " 12  property_type             460154 non-null  object \n",
      " 13  property_rooms            368498 non-null  float64\n",
      " 14  property_bedrooms         344113 non-null  float64\n",
      " 15  property_surface_total    397813 non-null  float64\n",
      " 16  property_surface_covered  427916 non-null  float64\n",
      " 17  property_price            442153 non-null  float64\n",
      " 18  property_currency         441590 non-null  object \n",
      " 19  property_title            460154 non-null  object \n",
      "dtypes: float64(8), object(12)\n",
      "memory usage: 70.2+ MB\n"
     ]
    }
   ],
   "source": [
    "df.info()"
   ]
  },
  {
   "cell_type": "code",
   "execution_count": 7,
   "metadata": {},
   "outputs": [],
   "source": [
    "dic = {'object':0,  'float': 0}\n",
    "f_float = []\n",
    "f_object = []\n",
    "\n",
    "for f in dp_properity.columns:\n",
    "    if df[f].dtype == 'O': \n",
    "        f_object.append(f)\n",
    "        dic['object'] = dic.get('object', 0) + 1 \n",
    "    if df[f].dtype == 'float': \n",
    "        f_float.append(f)\n",
    "        dic['float'] = dic.get('float', 0) + 1\n",
    "    \n",
    "df_type = pd.DataFrame()\n",
    "df_type['Type'] = None\n",
    "for key in dic:\n",
    "    df_type.loc[key] = [dic[key]]"
   ]
  },
  {
   "cell_type": "code",
   "execution_count": 8,
   "metadata": {},
   "outputs": [
    {
     "data": {
      "text/html": [
       "<div>\n",
       "<style scoped>\n",
       "    .dataframe tbody tr th:only-of-type {\n",
       "        vertical-align: middle;\n",
       "    }\n",
       "\n",
       "    .dataframe tbody tr th {\n",
       "        vertical-align: top;\n",
       "    }\n",
       "\n",
       "    .dataframe thead th {\n",
       "        text-align: right;\n",
       "    }\n",
       "</style>\n",
       "<table border=\"1\" class=\"dataframe\">\n",
       "  <thead>\n",
       "    <tr style=\"text-align: right;\">\n",
       "      <th></th>\n",
       "      <th>Type</th>\n",
       "    </tr>\n",
       "  </thead>\n",
       "  <tbody>\n",
       "    <tr>\n",
       "      <th>object</th>\n",
       "      <td>12</td>\n",
       "    </tr>\n",
       "    <tr>\n",
       "      <th>float</th>\n",
       "      <td>8</td>\n",
       "    </tr>\n",
       "  </tbody>\n",
       "</table>\n",
       "</div>"
      ],
      "text/plain": [
       "        Type\n",
       "object    12\n",
       "float      8"
      ]
     },
     "execution_count": 8,
     "metadata": {},
     "output_type": "execute_result"
    }
   ],
   "source": [
    "df_type"
   ]
  },
  {
   "cell_type": "markdown",
   "metadata": {},
   "source": [
    "Se observa que hay 12 variables string y 8 float"
   ]
  },
  {
   "cell_type": "markdown",
   "metadata": {},
   "source": [
    "<h4 align=\"center\"><b> Variables Cuantitativas: calcular medidas de resumen: media, mediana, q1,\n",
    "q3, moda. </b></h4>"
   ]
  },
  {
   "cell_type": "code",
   "execution_count": 9,
   "metadata": {},
   "outputs": [
    {
     "data": {
      "text/html": [
       "<div>\n",
       "<style scoped>\n",
       "    .dataframe tbody tr th:only-of-type {\n",
       "        vertical-align: middle;\n",
       "    }\n",
       "\n",
       "    .dataframe tbody tr th {\n",
       "        vertical-align: top;\n",
       "    }\n",
       "\n",
       "    .dataframe thead th {\n",
       "        text-align: right;\n",
       "    }\n",
       "</style>\n",
       "<table border=\"1\" class=\"dataframe\">\n",
       "  <thead>\n",
       "    <tr style=\"text-align: right;\">\n",
       "      <th></th>\n",
       "      <th>latitud</th>\n",
       "      <th>longitud</th>\n",
       "      <th>place_l6</th>\n",
       "      <th>property_rooms</th>\n",
       "      <th>property_bedrooms</th>\n",
       "      <th>property_surface_total</th>\n",
       "      <th>property_surface_covered</th>\n",
       "      <th>property_price</th>\n",
       "    </tr>\n",
       "  </thead>\n",
       "  <tbody>\n",
       "    <tr>\n",
       "      <th>count</th>\n",
       "      <td>419740.000000</td>\n",
       "      <td>419740.000000</td>\n",
       "      <td>0.0</td>\n",
       "      <td>368498.000000</td>\n",
       "      <td>344113.000000</td>\n",
       "      <td>397813.000000</td>\n",
       "      <td>4.279160e+05</td>\n",
       "      <td>4.421530e+05</td>\n",
       "    </tr>\n",
       "    <tr>\n",
       "      <th>mean</th>\n",
       "      <td>-34.228570</td>\n",
       "      <td>-59.557066</td>\n",
       "      <td>NaN</td>\n",
       "      <td>3.278053</td>\n",
       "      <td>2.297960</td>\n",
       "      <td>420.601250</td>\n",
       "      <td>9.605005e+03</td>\n",
       "      <td>3.063273e+05</td>\n",
       "    </tr>\n",
       "    <tr>\n",
       "      <th>std</th>\n",
       "      <td>3.251509</td>\n",
       "      <td>2.905129</td>\n",
       "      <td>NaN</td>\n",
       "      <td>1.870832</td>\n",
       "      <td>1.673985</td>\n",
       "      <td>4026.380748</td>\n",
       "      <td>3.440367e+06</td>\n",
       "      <td>4.899613e+06</td>\n",
       "    </tr>\n",
       "    <tr>\n",
       "      <th>min</th>\n",
       "      <td>-54.832057</td>\n",
       "      <td>-103.219258</td>\n",
       "      <td>NaN</td>\n",
       "      <td>1.000000</td>\n",
       "      <td>-3.000000</td>\n",
       "      <td>-1.000000</td>\n",
       "      <td>-3.000000e+00</td>\n",
       "      <td>0.000000e+00</td>\n",
       "    </tr>\n",
       "    <tr>\n",
       "      <th>25%</th>\n",
       "      <td>-34.640132</td>\n",
       "      <td>-58.899343</td>\n",
       "      <td>NaN</td>\n",
       "      <td>2.000000</td>\n",
       "      <td>1.000000</td>\n",
       "      <td>50.000000</td>\n",
       "      <td>4.500000e+01</td>\n",
       "      <td>4.490000e+04</td>\n",
       "    </tr>\n",
       "    <tr>\n",
       "      <th>50%</th>\n",
       "      <td>-34.585122</td>\n",
       "      <td>-58.488309</td>\n",
       "      <td>NaN</td>\n",
       "      <td>3.000000</td>\n",
       "      <td>2.000000</td>\n",
       "      <td>90.000000</td>\n",
       "      <td>7.800000e+01</td>\n",
       "      <td>9.800000e+04</td>\n",
       "    </tr>\n",
       "    <tr>\n",
       "      <th>75%</th>\n",
       "      <td>-34.423414</td>\n",
       "      <td>-58.404876</td>\n",
       "      <td>NaN</td>\n",
       "      <td>4.000000</td>\n",
       "      <td>3.000000</td>\n",
       "      <td>210.000000</td>\n",
       "      <td>1.700000e+02</td>\n",
       "      <td>1.990000e+05</td>\n",
       "    </tr>\n",
       "    <tr>\n",
       "      <th>max</th>\n",
       "      <td>42.557773</td>\n",
       "      <td>-35.044991</td>\n",
       "      <td>NaN</td>\n",
       "      <td>40.000000</td>\n",
       "      <td>390.000000</td>\n",
       "      <td>200000.000000</td>\n",
       "      <td>2.147484e+09</td>\n",
       "      <td>1.500000e+09</td>\n",
       "    </tr>\n",
       "  </tbody>\n",
       "</table>\n",
       "</div>"
      ],
      "text/plain": [
       "             latitud       longitud  place_l6  property_rooms  \\\n",
       "count  419740.000000  419740.000000       0.0   368498.000000   \n",
       "mean      -34.228570     -59.557066       NaN        3.278053   \n",
       "std         3.251509       2.905129       NaN        1.870832   \n",
       "min       -54.832057    -103.219258       NaN        1.000000   \n",
       "25%       -34.640132     -58.899343       NaN        2.000000   \n",
       "50%       -34.585122     -58.488309       NaN        3.000000   \n",
       "75%       -34.423414     -58.404876       NaN        4.000000   \n",
       "max        42.557773     -35.044991       NaN       40.000000   \n",
       "\n",
       "       property_bedrooms  property_surface_total  property_surface_covered  \\\n",
       "count      344113.000000           397813.000000              4.279160e+05   \n",
       "mean            2.297960              420.601250              9.605005e+03   \n",
       "std             1.673985             4026.380748              3.440367e+06   \n",
       "min            -3.000000               -1.000000             -3.000000e+00   \n",
       "25%             1.000000               50.000000              4.500000e+01   \n",
       "50%             2.000000               90.000000              7.800000e+01   \n",
       "75%             3.000000              210.000000              1.700000e+02   \n",
       "max           390.000000           200000.000000              2.147484e+09   \n",
       "\n",
       "       property_price  \n",
       "count    4.421530e+05  \n",
       "mean     3.063273e+05  \n",
       "std      4.899613e+06  \n",
       "min      0.000000e+00  \n",
       "25%      4.490000e+04  \n",
       "50%      9.800000e+04  \n",
       "75%      1.990000e+05  \n",
       "max      1.500000e+09  "
      ]
     },
     "execution_count": 9,
     "metadata": {},
     "output_type": "execute_result"
    }
   ],
   "source": [
    "df.describe()"
   ]
  },
  {
   "cell_type": "code",
   "execution_count": 10,
   "metadata": {},
   "outputs": [
    {
     "data": {
      "text/html": [
       "<div>\n",
       "<style scoped>\n",
       "    .dataframe tbody tr th:only-of-type {\n",
       "        vertical-align: middle;\n",
       "    }\n",
       "\n",
       "    .dataframe tbody tr th {\n",
       "        vertical-align: top;\n",
       "    }\n",
       "\n",
       "    .dataframe thead th {\n",
       "        text-align: right;\n",
       "    }\n",
       "</style>\n",
       "<table border=\"1\" class=\"dataframe\">\n",
       "  <thead>\n",
       "    <tr style=\"text-align: right;\">\n",
       "      <th></th>\n",
       "      <th>latitud</th>\n",
       "      <th>longitud</th>\n",
       "      <th>place_l6</th>\n",
       "      <th>property_rooms</th>\n",
       "      <th>property_bedrooms</th>\n",
       "      <th>property_surface_total</th>\n",
       "      <th>property_surface_covered</th>\n",
       "      <th>property_price</th>\n",
       "    </tr>\n",
       "  </thead>\n",
       "  <tbody>\n",
       "    <tr>\n",
       "      <th>0</th>\n",
       "      <td>-34.407182</td>\n",
       "      <td>-58.650749</td>\n",
       "      <td>NaN</td>\n",
       "      <td>3.0</td>\n",
       "      <td>2.0</td>\n",
       "      <td>40.0</td>\n",
       "      <td>40.0</td>\n",
       "      <td>120000.0</td>\n",
       "    </tr>\n",
       "  </tbody>\n",
       "</table>\n",
       "</div>"
      ],
      "text/plain": [
       "     latitud   longitud  place_l6  property_rooms  property_bedrooms  \\\n",
       "0 -34.407182 -58.650749       NaN             3.0                2.0   \n",
       "\n",
       "   property_surface_total  property_surface_covered  property_price  \n",
       "0                    40.0                      40.0        120000.0  "
      ]
     },
     "execution_count": 10,
     "metadata": {},
     "output_type": "execute_result"
    }
   ],
   "source": [
    "df[f_float].mode()"
   ]
  },
  {
   "cell_type": "markdown",
   "metadata": {},
   "source": [
    "<h4 align=\"center\"><b> Variables Cualitativas mostrar cantidad de valores posibles, y frecuencias de cada\n",
    "uno </b></h4>"
   ]
  },
  {
   "cell_type": "markdown",
   "metadata": {
    "tags": []
   },
   "source": [
    "<h5 style=\"color:#FF0000\"> Tarea de cada uno. <br> Luego Ctrl + C y Ctrl + V</h5>"
   ]
  },
  {
   "cell_type": "markdown",
   "metadata": {},
   "source": [
    "<h4 align=\"center\"><b> Determinar variables irrelevantes en el análisis </b></h4>"
   ]
  },
  {
   "cell_type": "markdown",
   "metadata": {},
   "source": [
    "Se eliminara el feature Id y place_l6.\n",
    "Las razones:\n",
    "* Id: Por ser irrelevante\n",
    "*  Place_l6: Por solo tener valores nan"
   ]
  },
  {
   "cell_type": "code",
   "execution_count": 11,
   "metadata": {},
   "outputs": [
    {
     "name": "stdout",
     "output_type": "stream",
     "text": [
      "Porcentaje de nan de place_l6: 100.0\n"
     ]
    }
   ],
   "source": [
    "na_ratio = ((df.isnull().sum() / len(df))*100).sort_values(ascending = False)\n",
    "print(f\"Porcentaje de nan de place_l6: { na_ratio.place_l6}\")"
   ]
  },
  {
   "cell_type": "code",
   "execution_count": 12,
   "metadata": {},
   "outputs": [],
   "source": [
    "df.drop(columns = ['place_l6', 'id'], inplace=True) "
   ]
  },
  {
   "cell_type": "markdown",
   "metadata": {},
   "source": [
    "<h5 style=\"color:#FF0000\"> Si se encuentra uno mas avisar y agregarlo a la lista</h5>"
   ]
  },
  {
   "cell_type": "markdown",
   "metadata": {},
   "source": [
    "<h4 align=\"center\"><b> Realizar un análisis gráfico de las distribuciones de las variables </b></h4>"
   ]
  },
  {
   "cell_type": "markdown",
   "metadata": {},
   "source": [
    "<h5 style=\"color:#FF0000\"> Tarea de cada uno. <br> Luego Ctrl + C y Ctrl + V</h5>"
   ]
  },
  {
   "cell_type": "markdown",
   "metadata": {},
   "source": [
    "<h4 align=\"center\"><b> Analizar las correlaciones existentes entre las variables </b></h4>"
   ]
  },
  {
   "cell_type": "markdown",
   "metadata": {},
   "source": [
    "<h5 style=\"color:#FF0000\"> Tarea de cada uno, investigar si su variable tiene alguna correlacion importante.<br> Luego Ctrl + C y Ctrl + V</h5>"
   ]
  },
  {
   "cell_type": "markdown",
   "metadata": {},
   "source": [
    "**b) Datos Faltantes:** analizar la presencia de datos faltantes en el dataset\n",
    "* Realizar análisis de datos faltantes a nivel de columna. Graficar para cada variable\n",
    "el porcentaje de datos faltantes con respecto al total del dataset\n",
    "* Realizar un análisis de datos faltantes a nivel de fila. Calcular el porcentaje de\n",
    "datos faltantes de cada registro. Realizar un gráfico que permita conocer la\n",
    "proporción de faltantes por fila en el dataset.\n",
    "* Determinar, de ser posible, estrategias para reparar los valores faltantes.\n",
    "* En caso de realizar imputaciones comparar las distribuciones de cada atributo\n",
    "reparado con la distribución anterior a la imputación de los datos faltantes."
   ]
  },
  {
   "cell_type": "markdown",
   "metadata": {},
   "source": [
    "<h4 align=\"center\"><b> Realizar análisis de datos faltantes a nivel de columna. Graficar para cada variable\n",
    "el porcentaje de datos faltantes con respecto al total del dataset </b></h4>"
   ]
  },
  {
   "cell_type": "code",
   "execution_count": 13,
   "metadata": {},
   "outputs": [],
   "source": [
    "na_ratio_column = pd.DataFrame()\n",
    "na_ratio_column[\"Percent\"] = ((df.isnull().sum() / len(df))*100).sort_values(ascending = False)\n",
    "na_ratio_column[\"Count\"] =(df.isnull().sum()).sort_values(ascending = False)"
   ]
  },
  {
   "cell_type": "code",
   "execution_count": 14,
   "metadata": {},
   "outputs": [
    {
     "data": {
      "image/png": "[encoded data removed]",
      "text/plain": [
       "<Figure size 900x600 with 1 Axes>"
      ]
     },
     "metadata": {
      "needs_background": "light"
     },
     "output_type": "display_data"
    }
   ],
   "source": [
    "eje_x = na_ratio_column.index\n",
    "eje_y = list(na_ratio_column['Percent'])\n",
    "\n",
    "plt.figure(dpi=150)\n",
    "sns_bar_plot=sns.barplot(x=eje_x, y=eje_y, color=(0.6, 0, 0), alpha = 1)\n",
    "plt.ylabel(\"Porcentaje\")\n",
    "plt.xlabel(\"Feature\")\n",
    "plt.title(\"Porcentaje de nan por columna\")\n",
    "plt.xticks(rotation=90)\n",
    "plt.show()"
   ]
  },
  {
   "cell_type": "code",
   "execution_count": 15,
   "metadata": {},
   "outputs": [
    {
     "data": {
      "image/png": "[encoded data removed]",
      "text/plain": [
       "<Figure size 900x600 with 1 Axes>"
      ]
     },
     "metadata": {
      "needs_background": "light"
     },
     "output_type": "display_data"
    }
   ],
   "source": [
    "eje_x = na_ratio_column.index\n",
    "eje_y = list(na_ratio_column['Count'])\n",
    "\n",
    "plt.figure(dpi=150)\n",
    "sns_bar_plot=sns.barplot(x=eje_x, y=eje_y, color=(0.6, 0, 0), alpha = 1)\n",
    "plt.ylabel(\"Cantidad\")\n",
    "plt.xlabel(\"Feature\")\n",
    "plt.title(\"Cantidad de nan por columna\")\n",
    "plt.xticks(rotation=90)\n",
    "plt.show()"
   ]
  },
  {
   "cell_type": "markdown",
   "metadata": {},
   "source": [
    "<h4 align=\"center\"><b> Realizar un análisis de datos faltantes a nivel de fila. Calcular el porcentaje de datos faltantes de cada registro. Realizar un gráfico que permita conocer la proporción de faltantes por fila en el dataset </b></h4>"
   ]
  },
  {
   "cell_type": "code",
   "execution_count": 16,
   "metadata": {},
   "outputs": [],
   "source": [
    "na_ratio_row = pd.DataFrame()\n",
    "n_column = df.shape[1]\n",
    "na_ratio_row[\"Percent\"] = df.isnull().sum(axis=1) / n_column\n",
    "na_ratio_row[\"Count\"] = df.isnull().sum(axis=1)"
   ]
  },
  {
   "cell_type": "code",
   "execution_count": 17,
   "metadata": {},
   "outputs": [
    {
     "data": {
      "image/png": "[encoded data removed]",
      "text/plain": [
       "<Figure size 900x600 with 1 Axes>"
      ]
     },
     "metadata": {
      "needs_background": "light"
     },
     "output_type": "display_data"
    }
   ],
   "source": [
    "plt.figure(dpi=150)\n",
    "sns.histplot(data=na_ratio_row, x=\"Percent\", bins=10, color=(0.6, 0, 0), alpha = 1)\n",
    "plt.title(\"Porcentaje de nan por fila\")\n",
    "plt.show()"
   ]
  },
  {
   "cell_type": "code",
   "execution_count": 18,
   "metadata": {},
   "outputs": [
    {
     "data": {
      "image/png": "[encoded data removed]",
      "text/plain": [
       "<Figure size 900x600 with 1 Axes>"
      ]
     },
     "metadata": {
      "needs_background": "light"
     },
     "output_type": "display_data"
    }
   ],
   "source": [
    "plt.figure(dpi=150)\n",
    "sns.countplot(\n",
    "    x=\"Count\", data=na_ratio_row, color=(0.6, 0, 0), alpha = 1\n",
    ")\n",
    "plt.ylabel(\"Cantidad\")\n",
    "plt.xlabel(\"Nan\")\n",
    "plt.title(\"Cantidad de nan por fila\")\n",
    "plt.show()"
   ]
  },
  {
   "cell_type": "markdown",
   "metadata": {},
   "source": [
    "<h4 align=\"center\"><b> Determinar, de ser posible, estrategias para reparar los valores faltantes </b></h4>"
   ]
  },
  {
   "cell_type": "code",
   "execution_count": 19,
   "metadata": {},
   "outputs": [],
   "source": [
    "# Codigo"
   ]
  },
  {
   "cell_type": "markdown",
   "metadata": {},
   "source": [
    "<h4 align=\"center\"><b> En caso de realizar imputaciones comparar las distribuciones de cada atributo\n",
    "reparado con la distribución anterior a la imputación de los datos faltantes </b></h4>"
   ]
  },
  {
   "cell_type": "code",
   "execution_count": 20,
   "metadata": {},
   "outputs": [],
   "source": [
    "# Codigo"
   ]
  },
  {
   "cell_type": "markdown",
   "metadata": {},
   "source": [
    "<img src=\"https://www.infobae.com/new-resizer/6Z2ub_JTNhj8x69p5MHcSV8vwVo=/1200x628/filters:format(webp):quality(85)//s3.amazonaws.com/arc-wordpress-client-uploads/infobae-wp/wp-content/uploads/2017/05/12115047/homero-simpson-1920.jpg\">"
   ]
  },
  {
   "cell_type": "markdown",
   "metadata": {},
   "source": [
    "**c) Valores atípicos:** analizar la existencia de valores atípicos\n",
    "* Detectar valores atípicos en los datos tanto en forma univariada como\n",
    "multivariada. Realizar gráficos que permitan visualizar los valores atípicos.\n",
    "* Explicar qué características poseen los datos atípicos detectados.\n",
    "* Decidir el tratamiento a aplicar sobre los mismos.\n",
    "* Analizar la relación entre el precio de venta y los metros de superficie ¿hay\n",
    "valores atípicos que no se detectaron previamente?"
   ]
  },
  {
   "cell_type": "code",
   "execution_count": null,
   "metadata": {},
   "outputs": [],
   "source": [
    "# Codigo"
   ]
  },
  {
   "cell_type": "code",
   "execution_count": null,
   "metadata": {},
   "outputs": [],
   "source": [
    "# Codigo"
   ]
  },
  {
   "cell_type": "code",
   "execution_count": null,
   "metadata": {},
   "outputs": [],
   "source": [
    "# Codigo"
   ]
  },
  {
   "cell_type": "markdown",
   "metadata": {},
   "source": [
    "**d) Reducción de la dimensionalidad:** en este punto se pide crear un nuevo dataset que\n",
    "resulte de aplicar una reducción de dimensionalidad sobre el dataset que se obtuvo al\n",
    "finalizar el preprocesamiento."
   ]
  },
  {
   "cell_type": "code",
   "execution_count": null,
   "metadata": {},
   "outputs": [],
   "source": [
    "# Codigo"
   ]
  },
  {
   "cell_type": "code",
   "execution_count": null,
   "metadata": {},
   "outputs": [],
   "source": [
    "# Codigo"
   ]
  },
  {
   "cell_type": "code",
   "execution_count": null,
   "metadata": {},
   "outputs": [],
   "source": [
    "# Codigo"
   ]
  },
  {
   "cell_type": "markdown",
   "metadata": {},
   "source": [
    "**Nota:** Los ítems a, b, c y d son los mínimos requeridos para esta etapa, cada grupo puede crear\n",
    "nuevas variables que resulten derivadas de los atributos existentes o que resulten de incorporar\n",
    "nuevas fuentes de datos."
   ]
  },
  {
   "cell_type": "markdown",
   "metadata": {
    "id": "fHgtvAnENcec"
   },
   "source": [
    "### **2. Agrupamiento**\n",
    "En este punto se busca analizar si es posible agrupar los datos en función de algún criterio. Para\n",
    "esta tarea utilizar el algoritmo K-Means y se deberán realizar los siguientes puntos:\n",
    "* Analizar la tendencia al *clustering* del dataset.\n",
    "* Estimar la cantidad apropiada de grupos que se deben formar.\n",
    "* Evaluar la calidad de los grupos formados realizando un análisis de *Silhouette*.\n",
    "* Realizar un análisis de cada grupo intentando entender en función de qué\n",
    "características fueron formados.\n",
    "* Graficar sobre un mapa de CABA los avisos coloreados según el grupo al que\n",
    "pertenecen.\n",
    "* Repetir el análisis anterior, utilizando sólo 3 grupos."
   ]
  },
  {
   "cell_type": "code",
   "execution_count": null,
   "metadata": {},
   "outputs": [],
   "source": [
    "# Codigo"
   ]
  },
  {
   "cell_type": "code",
   "execution_count": null,
   "metadata": {},
   "outputs": [],
   "source": [
    "# Codigo"
   ]
  },
  {
   "cell_type": "code",
   "execution_count": null,
   "metadata": {},
   "outputs": [],
   "source": [
    "# Codigo"
   ]
  },
  {
   "cell_type": "code",
   "execution_count": null,
   "metadata": {},
   "outputs": [],
   "source": [
    "# Codigo"
   ]
  },
  {
   "cell_type": "markdown",
   "metadata": {
    "id": "fHgtvAnENcec"
   },
   "source": [
    "### **3. Clasificación**"
   ]
  },
  {
   "cell_type": "markdown",
   "metadata": {
    "id": "DzErbCVNVBQ1"
   },
   "source": [
    "**a) Construcción del target**\n",
    "\n",
    "Para esta tarea se debe crear una nueva variable ***tipo_precio*** que tendrá tres categorías:\n",
    "**alto**, **medio**, **bajo**. Esta nueva variable será nuestra clase en el problema de clasificación.\n",
    "Para determinar cuándo el tipo_precio de una propiedad es alto, medio o bajo se deberá\n",
    "analizar el precio por metro cuadrado (pxm2). Se propone evaluar las siguientes\n",
    "alternativas para establecer los límites de cada categoría:\n",
    "\n",
    "1. Dividir la variable *pxm2* en 3 intervalos con igual cantidad de observaciones.\n",
    "2. Dividir la variable pxm2 en 3 intervalos, el primero con el 25% de las observaciones,\n",
    "el siguiente con el 50% y el último con el 25% de las observaciones restantes.\n",
    "3. Trabajar la variable pxm2 relativa a cada tipo de propiedad y luego dividirla como en\n",
    "el punto anterior.\n",
    "\n",
    "Se pide:\n",
    "* Mostrar la distribución del precio por metro cuadrado\n",
    "* Mostrar la distribución del precio por metro cuadrado por tipo de propiedad\n",
    "* Para cada una de las tres alternativas mostrar gráficamente la distribución de la\n",
    "nueva variable creada *tipo_precio*.\n",
    "* Seleccionar una de las alternativas, justificando la misma.\n",
    "* Comparar, si aplica, la alternativa seleccionada con la división en 3 grupos obtenida\n",
    "utilizando agrupamiento por K Means.\n",
    "* Mostrar en un mapa de CABA los avisos coloreados por *tipo_precio*"
   ]
  },
  {
   "cell_type": "code",
   "execution_count": null,
   "metadata": {},
   "outputs": [],
   "source": [
    "# Codigo"
   ]
  },
  {
   "cell_type": "code",
   "execution_count": null,
   "metadata": {},
   "outputs": [],
   "source": [
    "# Codigo"
   ]
  },
  {
   "cell_type": "code",
   "execution_count": null,
   "metadata": {},
   "outputs": [],
   "source": [
    "# Codigo"
   ]
  },
  {
   "cell_type": "code",
   "execution_count": null,
   "metadata": {},
   "outputs": [],
   "source": [
    "# Codigo"
   ]
  },
  {
   "cell_type": "markdown",
   "metadata": {
    "id": "DzErbCVNVBQ1"
   },
   "source": [
    "**b) Entrenamiento y Predicción**\n",
    "\n",
    "Predecir el valor del atributo **tipo_precio**, excluyendo del entrenamiento la variable price,\n",
    "**pxm2** y cualquier otra que pueda contener información del precio de venta. Para todos los\n",
    "modelos se pide:\n",
    "* Realizar las tareas de ingeniería de características necesarias para trabajar con\n",
    "cada algoritmo (*encoding*, normalización, etc)\n",
    "* Todos los modelos deben ser entrenados también con el *dataset* generado en el\n",
    "punto **1 d)**\n"
   ]
  },
  {
   "cell_type": "markdown",
   "metadata": {
    "id": "DzErbCVNVBQ1"
   },
   "source": [
    "**Modelo 1 : Árbol de decisión**\n",
    "\n",
    "a. Construir un árbol de decisión y optimizar sus hiperparámetros mediante *k-fold\n",
    "Cross Validation* para obtener la mejor performance. ¿Cuántos *folds* utilizaron?\n",
    "¿Qué métrica consideran adecuada para buscar los parámetros?\n",
    "\n",
    "b. Graficar el árbol de decisión con mejor performance encontrado en el punto\n",
    "anterior. Si es muy extenso mostrar una porción representativa.\n",
    "\n",
    "c. Analizar el árbol de decisión seleccionado describiendo los atributos elegidos, y\n",
    "decisiones evaluadas (explicar las primeras reglas obtenidas).\n",
    "\n",
    "d. Evaluar la performance del árbol en el conjunto de evaluación, explicar todas las\n",
    "métricas y mostrar la matriz de confusión. Comparar con la performance de\n",
    "entrenamiento.\n"
   ]
  },
  {
   "cell_type": "code",
   "execution_count": null,
   "metadata": {},
   "outputs": [],
   "source": [
    "# Codigo"
   ]
  },
  {
   "cell_type": "code",
   "execution_count": null,
   "metadata": {},
   "outputs": [],
   "source": [
    "# Codigo"
   ]
  },
  {
   "cell_type": "code",
   "execution_count": null,
   "metadata": {},
   "outputs": [],
   "source": [
    "# Codigo"
   ]
  },
  {
   "cell_type": "code",
   "execution_count": null,
   "metadata": {},
   "outputs": [],
   "source": [
    "# Codigo"
   ]
  },
  {
   "cell_type": "markdown",
   "metadata": {
    "id": "DzErbCVNVBQ1"
   },
   "source": [
    "**Modelo 2: Random Forest**\n",
    "\n",
    "a. Construir un clasificador RF y optimizar sus hiperparámetros mediante *k-fold\n",
    "Cross Validation* para obtener la mejor performance. ¿Cuántos *folds* utilizaron?\n",
    "¿Qué métrica consideran adecuada para buscar los parámetros?\n",
    "\n",
    "b. Analizar la importancia de los atributos\n",
    "\n",
    "c. Mostrar la conformación final de uno de los árboles generados. Si es muy\n",
    "extenso mostrar una porción representativa y explicar las primeras reglas.\n",
    "\n",
    "d. Evaluar la performance del modelo en el conjunto de evaluación, explicar todas\n",
    "las métricas y mostrar la matriz de confusión. Comparar con la performance de\n",
    "entrenamiento.\n"
   ]
  },
  {
   "cell_type": "code",
   "execution_count": null,
   "metadata": {},
   "outputs": [],
   "source": [
    "# Codigo"
   ]
  },
  {
   "cell_type": "code",
   "execution_count": null,
   "metadata": {},
   "outputs": [],
   "source": [
    "# Codigo"
   ]
  },
  {
   "cell_type": "code",
   "execution_count": null,
   "metadata": {},
   "outputs": [],
   "source": [
    "# Codigo"
   ]
  },
  {
   "cell_type": "code",
   "execution_count": null,
   "metadata": {},
   "outputs": [],
   "source": [
    "# Codigo"
   ]
  },
  {
   "cell_type": "markdown",
   "metadata": {
    "id": "DzErbCVNVBQ1"
   },
   "source": [
    "**Modelo 3: a elección**\n",
    "\n",
    "a. En este punto se debe entrenar (mediante cross-validation) un modelo elegido\n",
    "por el grupo. Se debe evaluar su performance en entrenamiento y sobre el\n",
    "conjunto de evaluación, explicar todas las métricas y mostrar la matriz de\n",
    "confusión."
   ]
  },
  {
   "cell_type": "code",
   "execution_count": null,
   "metadata": {},
   "outputs": [],
   "source": [
    "# Codigo"
   ]
  },
  {
   "cell_type": "code",
   "execution_count": null,
   "metadata": {},
   "outputs": [],
   "source": [
    "# Codigo"
   ]
  },
  {
   "cell_type": "code",
   "execution_count": null,
   "metadata": {},
   "outputs": [],
   "source": [
    "# Codigo"
   ]
  },
  {
   "cell_type": "code",
   "execution_count": null,
   "metadata": {},
   "outputs": [],
   "source": [
    "# Codigo"
   ]
  },
  {
   "cell_type": "markdown",
   "metadata": {
    "id": "DzErbCVNVBQ1"
   },
   "source": [
    "¿Qué modelo elegirían para clasificar el tipo de precio de las propiedades?\n",
    "\n",
    "R:"
   ]
  },
  {
   "cell_type": "markdown",
   "metadata": {
    "id": "fHgtvAnENcec"
   },
   "source": [
    "### **4. Regresión**\n",
    "\n",
    "En esta etapa se busca predecir el precio de la propiedad utilizando dos modelos diferentes.\n",
    "Para todos los modelos se pide:\n",
    "\n",
    "* Realizar las tareas de ingeniería de características necesarias para trabajar con\n",
    "cada algoritmo (encoding, normalización, etc)\n",
    "* Todos los modelos deben ser entrenados también con el dataset generado en el\n",
    "punto **1 d)**"
   ]
  },
  {
   "cell_type": "markdown",
   "metadata": {
    "id": "DzErbCVNVBQ1"
   },
   "source": [
    "**Modelo 1: KNN**\n",
    "\n",
    "a. Construir un modelo [KNN](https://scikit-learn.org/stable/modules/generated/sklearn.neighbors.KNeighborsRegressor.html#sklearn.neighbors.KNeighborsRegressor) para regresión y optimizar sus hiperparámetros\n",
    "mediante *k-fold Cross Validation* para obtener la mejor performance .¿Cuántos\n",
    "*folds* utilizaron? ¿Qué métrica consideran adecuada para buscar los parámetros?\n",
    "\n",
    "b. Evaluar la performance del modelo en el conjunto de evaluación, explicar todas\n",
    "las métricas. Comparar con la performance de entrenamiento."
   ]
  },
  {
   "cell_type": "code",
   "execution_count": null,
   "metadata": {},
   "outputs": [],
   "source": [
    "# Codigo"
   ]
  },
  {
   "cell_type": "code",
   "execution_count": null,
   "metadata": {},
   "outputs": [],
   "source": [
    "# Codigo"
   ]
  },
  {
   "cell_type": "code",
   "execution_count": null,
   "metadata": {},
   "outputs": [],
   "source": [
    "# Codigo"
   ]
  },
  {
   "cell_type": "markdown",
   "metadata": {
    "id": "DzErbCVNVBQ1"
   },
   "source": [
    "**Modelo 2: XGBoost**\n",
    "\n",
    "a. Construir un modelo **XGBoost** y optimizar sus hiperparámetros mediante *k-fold\n",
    "Cross Validation* para obtener la mejor performance. ¿Cuántos *folds* utilizaron?\n",
    "¿Qué métrica consideran adecuada para buscar los parámetros?\n",
    "\n",
    "b. Evaluar la performance del modelo en el conjunto de evaluación, explicar todas\n",
    "las métricas. Comparar con la performance de entrenamiento."
   ]
  },
  {
   "cell_type": "code",
   "execution_count": null,
   "metadata": {},
   "outputs": [],
   "source": [
    "# Codigo"
   ]
  },
  {
   "cell_type": "code",
   "execution_count": null,
   "metadata": {},
   "outputs": [],
   "source": [
    "# Codigo"
   ]
  },
  {
   "cell_type": "code",
   "execution_count": null,
   "metadata": {},
   "outputs": [],
   "source": [
    "# Codigo"
   ]
  },
  {
   "cell_type": "markdown",
   "metadata": {
    "id": "DzErbCVNVBQ1"
   },
   "source": [
    "**Modelo 3: a elección**\n",
    "\n",
    "a. En este punto se debe entrenar (mediante *cross-validation*) un modelo elegido\n",
    "por el grupo. Se debe evaluar su performance en entrenamiento y sobre el\n",
    "conjunto de evaluación explicando todas las métricas."
   ]
  },
  {
   "cell_type": "code",
   "execution_count": null,
   "metadata": {},
   "outputs": [],
   "source": [
    "# Codigo"
   ]
  },
  {
   "cell_type": "code",
   "execution_count": null,
   "metadata": {},
   "outputs": [],
   "source": [
    "# Codigo"
   ]
  },
  {
   "cell_type": "code",
   "execution_count": null,
   "metadata": {},
   "outputs": [],
   "source": [
    "# Codigo"
   ]
  },
  {
   "cell_type": "markdown",
   "metadata": {
    "id": "DzErbCVNVBQ1"
   },
   "source": [
    "¿Qué modelo elegirían para predecir el precio de venta de las propiedades?\n",
    "\n",
    "R:"
   ]
  },
  {
   "cell_type": "markdown",
   "metadata": {
    "id": "fHgtvAnENcec"
   },
   "source": [
    "### **5. Conclusiones**\n",
    "\n",
    "Realizar las conclusiones correspondientes al trabajo realizado en su totalidad, destacando\n",
    "principalmente los aspectos que consideren más relevantes. Comentar brevemente qué otras\n",
    "opciones hubiesen explorado y quedaron fuera del alcance de este trabajo\n",
    "\n",
    "R:"
   ]
  },
  {
   "cell_type": "code",
   "execution_count": null,
   "metadata": {},
   "outputs": [],
   "source": []
  }
 ],
 "metadata": {
  "kernelspec": {
   "display_name": "Python 3 (ipykernel)",
   "language": "python",
   "name": "python3"
  },
  "language_info": {
   "codemirror_mode": {
    "name": "ipython",
    "version": 3
   },
   "file_extension": ".py",
   "mimetype": "text/x-python",
   "name": "python",
   "nbconvert_exporter": "python",
   "pygments_lexer": "ipython3",
   "version": "3.9.12"
  },
  "vscode": {
   "interpreter": {
    "hash": "31f2aee4e71d21fbe5cf8b01ff0e069b9275f58929596ceb00d14d90e3e16cd6"
   }
  }
 },
 "nbformat": 4,
 "nbformat_minor": 4
}
