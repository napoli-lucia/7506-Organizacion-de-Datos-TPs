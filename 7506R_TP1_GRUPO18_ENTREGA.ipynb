{
 "cells": [
  {
   "cell_type": "markdown",
   "metadata": {
    "id": "eG-y4VJqK9HT"
   },
   "source": [
    "# <center>Organizaci&oacute;n de Datos</center>\n",
    "#### <center>C&aacute;tedra Ing. Rodriguez, Juan Manuel </center>\n",
    "\n",
    "## <center>Trabajo Práctico 1:</center>\n",
    "### <center>  Propiedades en Venta</center>\n",
    "### <center>  Grupo 18</center>\n",
    "\n",
    "\n",
    "#### **Integrantes:**\n",
    "\n",
    "* Analía Acevedo\n",
    "* Santiago Daniel Marczewski Neudeck\n",
    "* Lucia Belén Napoli\n",
    "* Brayan Ricaldi"
   ]
  },
  {
   "cell_type": "markdown",
   "metadata": {},
   "source": [
    "#### **Introducción**\n",
    "\n",
    "En este trabajo práctico se propone que cada grupo de alumnos se enfrente a un problema real\n",
    "de ciencia de datos, que trabaje en cada una de las etapas del proceso y que pueda resolverlo\n",
    "aplicando los contenidos que vemos en la materia.\n",
    "\n",
    "Vamos a utilizar el conjunto de datos provisto por la empresa [Properati](https://www.properati.com.ar/) correspondiente a anuncios de propiedades en venta de la República Argentina publicados durante el año 2021 .\n",
    "La información fue extraída desde BigQuery (producto de Google Cloud para consultar grandes\n",
    "volúmenes de datos) donde la empresa disponibiliza sus datasets con avisos de propiedades y\n",
    "desarrollos inmobiliarios que están y estuvieron publicados en Properati en todo Latinoamérica\n",
    "desde 2015 hasta dos meses atrás. Los datos se actualizan diariamente para mayor información\n",
    "pueden consultar el siguiente [link](https://www.properati.com.ar/data/).\n",
    "\n",
    "El objetivo principal del trabajo será aplicar técnicas de análisis exploratorio, preprocesamiento\n",
    "de datos, agrupamiento, clasificación y regresión. En la sección enunciado se detallan los\n",
    "objetivos particulares."
   ]
  },
  {
   "cell_type": "markdown",
   "metadata": {},
   "source": [
    "#### **Enunciado**\n",
    "El conjunto de datos a utilizar properati_argentina_2021 se encuentra disponible en el\n",
    "siguiente [enlace](https://drive.google.com/drive/folders/1BPCdW_Jab91WhMqfXcf0jYMHzjxW_XkD?usp=sharing), la descripción de las variables se encuentra disponible [aquí](https://www.properati.com.ar/data/). Para este trabajo\n",
    "se plantean los siguientes objetivos generales:\n",
    "\n",
    "* _Agrupamiento_: el objetivo será analizar si es posible agrupar los datos en función de\n",
    "algún criterio, identificando a qué obedece el mismo.\n",
    "\n",
    "* _Clasificación_: el objetivo será clasificar cada anuncio en tres categorías relacionadas al\n",
    "precio de venta (alto, medio y bajo).\n",
    "\n",
    "* _Regresión_: el objetivo será predecir el precio de venta en dólares de una propiedad tipo\n",
    "vivienda ubicada en Capital Federal.\n",
    "\n",
    "A continuación se detallan las etapas que deben ser desarrolladas en el trabajo:"
   ]
  },
  {
   "cell_type": "markdown",
   "metadata": {
    "id": "fHgtvAnENcec"
   },
   "source": [
    "#### **1. Análisis Exploratorio y Preprocesamiento de Datos**\n",
    "El primer paso consiste en la selección de los datos que se van a utilizar, se deben filtrar\n",
    "únicamente los anuncios de propiedades de tipo vivienda ( Casa, PH y Departamento ) ubicados\n",
    "en Capital Federal cuyo tipo de operación sea venta y su precio se encuentre en dólares (USD).\n",
    "Se debe separar un conjunto de entrenamiento (80%) y un conjunto de test (20%)."
   ]
  },
  {
   "cell_type": "markdown",
   "metadata": {
    "id": "DzErbCVNVBQ1"
   },
   "source": [
    "**a) Exploración Inicial:** analizar cada variable, considerando los siguientes aspectos\n",
    "* Tipo de variable\n",
    "* Variables Cuantitativas: calcular medidas de resumen: media, mediana, q1,\n",
    "q3, moda.\n",
    "* Variables Cualitativas mostrar cantidad de valores posibles, y frecuencias de cada\n",
    "uno.\n",
    "* Determinar variables irrelevantes en el análisis (Ids por ejemplo)\n",
    "* Realizar un análisis gráfico de las distribuciones de las variables\n",
    "* Analizar las correlaciones existentes entre las variables.\n",
    "\n",
    "A partir de este análisis generar conclusiones sobre los datos.\n",
    "\n"
   ]
  },
  {
   "cell_type": "code",
   "execution_count": null,
   "metadata": {},
   "outputs": [],
   "source": [
    "# Codigo"
   ]
  },
  {
   "cell_type": "code",
   "execution_count": null,
   "metadata": {},
   "outputs": [],
   "source": [
    "# Codigo"
   ]
  },
  {
   "cell_type": "code",
   "execution_count": null,
   "metadata": {},
   "outputs": [],
   "source": [
    "# Codigo"
   ]
  },
  {
   "cell_type": "markdown",
   "metadata": {},
   "source": [
    "**b) Datos Faltantes:** analizar la presencia de datos faltantes en el dataset\n",
    "* Realizar análisis de datos faltantes a nivel de columna. Graficar para cada variable\n",
    "el porcentaje de datos faltantes con respecto al total del dataset\n",
    "* Realizar un análisis de datos faltantes a nivel de fila. Calcular el porcentaje de\n",
    "datos faltantes de cada registro. Realizar un gráfico que permita conocer la\n",
    "proporción de faltantes por fila en el dataset.\n",
    "* Determinar, de ser posible, estrategias para reparar los valores faltantes.\n",
    "* En caso de realizar imputaciones comparar las distribuciones de cada atributo\n",
    "reparado con la distribución anterior a la imputación de los datos faltantes."
   ]
  },
  {
   "cell_type": "code",
   "execution_count": null,
   "metadata": {},
   "outputs": [],
   "source": [
    "# Codigo"
   ]
  },
  {
   "cell_type": "code",
   "execution_count": null,
   "metadata": {},
   "outputs": [],
   "source": [
    "# Codigo"
   ]
  },
  {
   "cell_type": "code",
   "execution_count": null,
   "metadata": {},
   "outputs": [],
   "source": [
    "# Codigo"
   ]
  },
  {
   "cell_type": "markdown",
   "metadata": {},
   "source": [
    "**c) Valores atípicos:** analizar la existencia de valores atípicos\n",
    "* Detectar valores atípicos en los datos tanto en forma univariada como\n",
    "multivariada. Realizar gráficos que permitan visualizar los valores atípicos.\n",
    "* Explicar qué características poseen los datos atípicos detectados.\n",
    "* Decidir el tratamiento a aplicar sobre los mismos.\n",
    "* Analizar la relación entre el precio de venta y los metros de superficie ¿hay\n",
    "valores atípicos que no se detectaron previamente?"
   ]
  },
  {
   "cell_type": "code",
   "execution_count": null,
   "metadata": {},
   "outputs": [],
   "source": [
    "# Codigo"
   ]
  },
  {
   "cell_type": "code",
   "execution_count": null,
   "metadata": {},
   "outputs": [],
   "source": [
    "# Codigo"
   ]
  },
  {
   "cell_type": "code",
   "execution_count": null,
   "metadata": {},
   "outputs": [],
   "source": [
    "# Codigo"
   ]
  },
  {
   "cell_type": "markdown",
   "metadata": {},
   "source": [
    "**d) Reducción de la dimensionalidad:** en este punto se pide crear un nuevo dataset que\n",
    "resulte de aplicar una reducción de dimensionalidad sobre el dataset que se obtuvo al\n",
    "finalizar el preprocesamiento."
   ]
  },
  {
   "cell_type": "code",
   "execution_count": null,
   "metadata": {},
   "outputs": [],
   "source": [
    "# Codigo"
   ]
  },
  {
   "cell_type": "code",
   "execution_count": null,
   "metadata": {},
   "outputs": [],
   "source": [
    "# Codigo"
   ]
  },
  {
   "cell_type": "code",
   "execution_count": null,
   "metadata": {},
   "outputs": [],
   "source": [
    "# Codigo"
   ]
  },
  {
   "cell_type": "markdown",
   "metadata": {},
   "source": [
    "**Nota:** Los ítems a, b, c y d son los mínimos requeridos para esta etapa, cada grupo puede crear\n",
    "nuevas variables que resulten derivadas de los atributos existentes o que resulten de incorporar\n",
    "nuevas fuentes de datos."
   ]
  },
  {
   "cell_type": "markdown",
   "metadata": {
    "id": "fHgtvAnENcec"
   },
   "source": [
    "#### **2. Agrupamiento**\n",
    "En este punto se busca analizar si es posible agrupar los datos en función de algún criterio. Para\n",
    "esta tarea utilizar el algoritmo K-Means y se deberán realizar los siguientes puntos:\n",
    "* Analizar la tendencia al *clustering* del dataset.\n",
    "* Estimar la cantidad apropiada de grupos que se deben formar.\n",
    "* Evaluar la calidad de los grupos formados realizando un análisis de *Silhouette*.\n",
    "* Realizar un análisis de cada grupo intentando entender en función de qué\n",
    "características fueron formados.\n",
    "* Graficar sobre un mapa de CABA los avisos coloreados según el grupo al que\n",
    "pertenecen.\n",
    "* Repetir el análisis anterior, utilizando sólo 3 grupos."
   ]
  },
  {
   "cell_type": "code",
   "execution_count": null,
   "metadata": {},
   "outputs": [],
   "source": [
    "# Codigo"
   ]
  },
  {
   "cell_type": "code",
   "execution_count": null,
   "metadata": {},
   "outputs": [],
   "source": [
    "# Codigo"
   ]
  },
  {
   "cell_type": "code",
   "execution_count": null,
   "metadata": {},
   "outputs": [],
   "source": [
    "# Codigo"
   ]
  },
  {
   "cell_type": "code",
   "execution_count": null,
   "metadata": {},
   "outputs": [],
   "source": [
    "# Codigo"
   ]
  },
  {
   "cell_type": "markdown",
   "metadata": {
    "id": "fHgtvAnENcec"
   },
   "source": [
    "#### **3. Clasificación**"
   ]
  },
  {
   "cell_type": "markdown",
   "metadata": {
    "id": "DzErbCVNVBQ1"
   },
   "source": [
    "**a) Construcción del target**\n",
    "\n",
    "Para esta tarea se debe crear una nueva variable ***tipo_precio*** que tendrá tres categorías:\n",
    "**alto**, **medio**, **bajo**. Esta nueva variable será nuestra clase en el problema de clasificación.\n",
    "Para determinar cuándo el tipo_precio de una propiedad es alto, medio o bajo se deberá\n",
    "analizar el precio por metro cuadrado (pxm2). Se propone evaluar las siguientes\n",
    "alternativas para establecer los límites de cada categoría:\n",
    "\n",
    "1. Dividir la variable *pxm2* en 3 intervalos con igual cantidad de observaciones.\n",
    "2. Dividir la variable pxm2 en 3 intervalos, el primero con el 25% de las observaciones,\n",
    "el siguiente con el 50% y el último con el 25% de las observaciones restantes.\n",
    "3. Trabajar la variable pxm2 relativa a cada tipo de propiedad y luego dividirla como en\n",
    "el punto anterior.\n",
    "\n",
    "Se pide:\n",
    "* Mostrar la distribución del precio por metro cuadrado\n",
    "* Mostrar la distribución del precio por metro cuadrado por tipo de propiedad\n",
    "* Para cada una de las tres alternativas mostrar gráficamente la distribución de la\n",
    "nueva variable creada *tipo_precio*.\n",
    "* Seleccionar una de las alternativas, justificando la misma.\n",
    "* Comparar, si aplica, la alternativa seleccionada con la división en 3 grupos obtenida\n",
    "utilizando agrupamiento por K Means.\n",
    "* Mostrar en un mapa de CABA los avisos coloreados por *tipo_precio*"
   ]
  },
  {
   "cell_type": "code",
   "execution_count": null,
   "metadata": {},
   "outputs": [],
   "source": [
    "# Codigo"
   ]
  },
  {
   "cell_type": "code",
   "execution_count": null,
   "metadata": {},
   "outputs": [],
   "source": [
    "# Codigo"
   ]
  },
  {
   "cell_type": "code",
   "execution_count": null,
   "metadata": {},
   "outputs": [],
   "source": [
    "# Codigo"
   ]
  },
  {
   "cell_type": "code",
   "execution_count": null,
   "metadata": {},
   "outputs": [],
   "source": [
    "# Codigo"
   ]
  },
  {
   "cell_type": "markdown",
   "metadata": {
    "id": "DzErbCVNVBQ1"
   },
   "source": [
    "**b) Entrenamiento y Predicción**\n",
    "\n",
    "Predecir el valor del atributo **tipo_precio**, excluyendo del entrenamiento la variable price,\n",
    "**pxm2** y cualquier otra que pueda contener información del precio de venta. Para todos los\n",
    "modelos se pide:\n",
    "* Realizar las tareas de ingeniería de características necesarias para trabajar con\n",
    "cada algoritmo (*encoding*, normalización, etc)\n",
    "* Todos los modelos deben ser entrenados también con el *dataset* generado en el\n",
    "punto **1 d)**\n"
   ]
  },
  {
   "cell_type": "markdown",
   "metadata": {
    "id": "DzErbCVNVBQ1"
   },
   "source": [
    "**Modelo 1 : Árbol de decisión**\n",
    "\n",
    "a. Construir un árbol de decisión y optimizar sus hiperparámetros mediante *k-fold\n",
    "Cross Validation* para obtener la mejor performance. ¿Cuántos *folds* utilizaron?\n",
    "¿Qué métrica consideran adecuada para buscar los parámetros?\n",
    "\n",
    "b. Graficar el árbol de decisión con mejor performance encontrado en el punto\n",
    "anterior. Si es muy extenso mostrar una porción representativa.\n",
    "\n",
    "c. Analizar el árbol de decisión seleccionado describiendo los atributos elegidos, y\n",
    "decisiones evaluadas (explicar las primeras reglas obtenidas).\n",
    "\n",
    "d. Evaluar la performance del árbol en el conjunto de evaluación, explicar todas las\n",
    "métricas y mostrar la matriz de confusión. Comparar con la performance de\n",
    "entrenamiento.\n"
   ]
  },
  {
   "cell_type": "code",
   "execution_count": null,
   "metadata": {},
   "outputs": [],
   "source": [
    "# Codigo"
   ]
  },
  {
   "cell_type": "code",
   "execution_count": null,
   "metadata": {},
   "outputs": [],
   "source": [
    "# Codigo"
   ]
  },
  {
   "cell_type": "code",
   "execution_count": null,
   "metadata": {},
   "outputs": [],
   "source": [
    "# Codigo"
   ]
  },
  {
   "cell_type": "code",
   "execution_count": null,
   "metadata": {},
   "outputs": [],
   "source": [
    "# Codigo"
   ]
  },
  {
   "cell_type": "markdown",
   "metadata": {
    "id": "DzErbCVNVBQ1"
   },
   "source": [
    "**Modelo 2: Random Forest**\n",
    "\n",
    "a. Construir un clasificador RF y optimizar sus hiperparámetros mediante *k-fold\n",
    "Cross Validation* para obtener la mejor performance. ¿Cuántos *folds* utilizaron?\n",
    "¿Qué métrica consideran adecuada para buscar los parámetros?\n",
    "\n",
    "b. Analizar la importancia de los atributos\n",
    "\n",
    "c. Mostrar la conformación final de uno de los árboles generados. Si es muy\n",
    "extenso mostrar una porción representativa y explicar las primeras reglas.\n",
    "\n",
    "d. Evaluar la performance del modelo en el conjunto de evaluación, explicar todas\n",
    "las métricas y mostrar la matriz de confusión. Comparar con la performance de\n",
    "entrenamiento.\n"
   ]
  },
  {
   "cell_type": "code",
   "execution_count": null,
   "metadata": {},
   "outputs": [],
   "source": [
    "# Codigo"
   ]
  },
  {
   "cell_type": "code",
   "execution_count": null,
   "metadata": {},
   "outputs": [],
   "source": [
    "# Codigo"
   ]
  },
  {
   "cell_type": "code",
   "execution_count": null,
   "metadata": {},
   "outputs": [],
   "source": [
    "# Codigo"
   ]
  },
  {
   "cell_type": "code",
   "execution_count": null,
   "metadata": {},
   "outputs": [],
   "source": [
    "# Codigo"
   ]
  },
  {
   "cell_type": "markdown",
   "metadata": {
    "id": "DzErbCVNVBQ1"
   },
   "source": [
    "**Modelo 3: a elección**\n",
    "\n",
    "a. En este punto se debe entrenar (mediante cross-validation) un modelo elegido\n",
    "por el grupo. Se debe evaluar su performance en entrenamiento y sobre el\n",
    "conjunto de evaluación, explicar todas las métricas y mostrar la matriz de\n",
    "confusión."
   ]
  },
  {
   "cell_type": "code",
   "execution_count": null,
   "metadata": {},
   "outputs": [],
   "source": [
    "# Codigo"
   ]
  },
  {
   "cell_type": "code",
   "execution_count": null,
   "metadata": {},
   "outputs": [],
   "source": [
    "# Codigo"
   ]
  },
  {
   "cell_type": "code",
   "execution_count": null,
   "metadata": {},
   "outputs": [],
   "source": [
    "# Codigo"
   ]
  },
  {
   "cell_type": "code",
   "execution_count": null,
   "metadata": {},
   "outputs": [],
   "source": [
    "# Codigo"
   ]
  },
  {
   "cell_type": "markdown",
   "metadata": {
    "id": "DzErbCVNVBQ1"
   },
   "source": [
    "¿Qué modelo elegirían para clasificar el tipo de precio de las propiedades?\n",
    "\n",
    "R:"
   ]
  },
  {
   "cell_type": "markdown",
   "metadata": {
    "id": "fHgtvAnENcec"
   },
   "source": [
    "#### **4. Regresión**\n",
    "\n",
    "En esta etapa se busca predecir el precio de la propiedad utilizando dos modelos diferentes.\n",
    "Para todos los modelos se pide:\n",
    "\n",
    "* Realizar las tareas de ingeniería de características necesarias para trabajar con\n",
    "cada algoritmo (encoding, normalización, etc)\n",
    "* Todos los modelos deben ser entrenados también con el dataset generado en el\n",
    "punto **1 d)**"
   ]
  },
  {
   "cell_type": "markdown",
   "metadata": {
    "id": "DzErbCVNVBQ1"
   },
   "source": [
    "**Modelo 1: KNN**\n",
    "\n",
    "a. Construir un modelo [KNN](https://scikit-learn.org/stable/modules/generated/sklearn.neighbors.KNeighborsRegressor.html#sklearn.neighbors.KNeighborsRegressor) para regresión y optimizar sus hiperparámetros\n",
    "mediante *k-fold Cross Validation* para obtener la mejor performance .¿Cuántos\n",
    "*folds* utilizaron? ¿Qué métrica consideran adecuada para buscar los parámetros?\n",
    "\n",
    "b. Evaluar la performance del modelo en el conjunto de evaluación, explicar todas\n",
    "las métricas. Comparar con la performance de entrenamiento."
   ]
  },
  {
   "cell_type": "code",
   "execution_count": null,
   "metadata": {},
   "outputs": [],
   "source": [
    "# Codigo"
   ]
  },
  {
   "cell_type": "code",
   "execution_count": null,
   "metadata": {},
   "outputs": [],
   "source": [
    "# Codigo"
   ]
  },
  {
   "cell_type": "code",
   "execution_count": null,
   "metadata": {},
   "outputs": [],
   "source": [
    "# Codigo"
   ]
  },
  {
   "cell_type": "markdown",
   "metadata": {
    "id": "DzErbCVNVBQ1"
   },
   "source": [
    "**Modelo 2: XGBoost**\n",
    "\n",
    "a. Construir un modelo **XGBoost** y optimizar sus hiperparámetros mediante *k-fold\n",
    "Cross Validation* para obtener la mejor performance. ¿Cuántos *folds* utilizaron?\n",
    "¿Qué métrica consideran adecuada para buscar los parámetros?\n",
    "\n",
    "b. Evaluar la performance del modelo en el conjunto de evaluación, explicar todas\n",
    "las métricas. Comparar con la performance de entrenamiento."
   ]
  },
  {
   "cell_type": "code",
   "execution_count": null,
   "metadata": {},
   "outputs": [],
   "source": [
    "# Codigo"
   ]
  },
  {
   "cell_type": "code",
   "execution_count": null,
   "metadata": {},
   "outputs": [],
   "source": [
    "# Codigo"
   ]
  },
  {
   "cell_type": "code",
   "execution_count": null,
   "metadata": {},
   "outputs": [],
   "source": [
    "# Codigo"
   ]
  },
  {
   "cell_type": "markdown",
   "metadata": {
    "id": "DzErbCVNVBQ1"
   },
   "source": [
    "**Modelo 3: a elección**\n",
    "\n",
    "a. En este punto se debe entrenar (mediante *cross-validation*) un modelo elegido\n",
    "por el grupo. Se debe evaluar su performance en entrenamiento y sobre el\n",
    "conjunto de evaluación explicando todas las métricas."
   ]
  },
  {
   "cell_type": "code",
   "execution_count": null,
   "metadata": {},
   "outputs": [],
   "source": [
    "# Codigo"
   ]
  },
  {
   "cell_type": "code",
   "execution_count": null,
   "metadata": {},
   "outputs": [],
   "source": [
    "# Codigo"
   ]
  },
  {
   "cell_type": "code",
   "execution_count": null,
   "metadata": {},
   "outputs": [],
   "source": [
    "# Codigo"
   ]
  },
  {
   "cell_type": "markdown",
   "metadata": {
    "id": "DzErbCVNVBQ1"
   },
   "source": [
    "¿Qué modelo elegirían para predecir el precio de venta de las propiedades?\n",
    "\n",
    "R:"
   ]
  },
  {
   "cell_type": "markdown",
   "metadata": {
    "id": "fHgtvAnENcec"
   },
   "source": [
    "#### **5. Conclusiones**\n",
    "\n",
    "Realizar las conclusiones correspondientes al trabajo realizado en su totalidad, destacando\n",
    "principalmente los aspectos que consideren más relevantes. Comentar brevemente qué otras\n",
    "opciones hubiesen explorado y quedaron fuera del alcance de este trabajo\n",
    "\n",
    "R:"
   ]
  }
 ],
 "metadata": {
  "kernelspec": {
   "display_name": "Python 3.9.7 64-bit",
   "language": "python",
   "name": "python3"
  },
  "language_info": {
   "name": "python",
   "version": "3.9.7"
  },
  "orig_nbformat": 4,
  "vscode": {
   "interpreter": {
    "hash": "31f2aee4e71d21fbe5cf8b01ff0e069b9275f58929596ceb00d14d90e3e16cd6"
   }
  }
 },
 "nbformat": 4,
 "nbformat_minor": 2
}
