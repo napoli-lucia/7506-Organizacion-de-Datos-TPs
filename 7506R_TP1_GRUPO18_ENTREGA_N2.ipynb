{
 "cells": [
  {
   "cell_type": "markdown",
   "id": "33db9172-5d33-45a5-bfe5-434e3bb174c5",
   "metadata": {},
   "source": [
    "# <center>Organizaci&oacute;n de Datos</center>\n",
    "#### <center>C&aacute;tedra Ing. Rodriguez, Juan Manuel </center>\n",
    "\n",
    "## <center>Trabajo Práctico 1:</center>\n",
    "### <center>  Propiedades en Venta</center>\n",
    "### <center>  Grupo 18</center>\n",
    "\n",
    "\n",
    "#### **Integrantes:**\n",
    "\n",
    "* Analía Acevedo\n",
    "* Santiago Daniel Marczewski Neudeck\n",
    "* Lucia Belén Napoli\n",
    "* Brayan Ricaldi"
   ]
  },
  {
   "cell_type": "code",
   "execution_count": 1,
   "id": "2dd0eac6-bb5e-482c-a0de-4b1e2412cfce",
   "metadata": {},
   "outputs": [],
   "source": [
    "import pandas as pd\n",
    "import matplotlib.pyplot as plt\n",
    "import seaborn as sns\n",
    "import numpy as np\n",
    "\n",
    "import sklearn.preprocessing as skp\n",
    "from sklearn.preprocessing import StandardScaler\n",
    "\n",
    "from sklearn.decomposition import PCA\n",
    "from sklearn.model_selection import train_test_split\n",
    "from sklearn.cluster import KMeans\n",
    "from sklearn.metrics import silhouette_score\n",
    "from sklearn.feature_extraction import FeatureHasher\n",
    "from sklearn.feature_selection import VarianceThreshold\n",
    "from sklearn.impute import KNNImputer, SimpleImputer\n",
    "from sklearn.preprocessing import (\n",
    "    KBinsDiscretizer,\n",
    "    LabelEncoder,\n",
    "    MinMaxScaler,\n",
    "    Normalizer,\n",
    "    OneHotEncoder,\n",
    "    OrdinalEncoder,\n",
    "    PowerTransformer,\n",
    "    RobustScaler,\n",
    "    StandardScaler,\n",
    ")\n",
    "\n",
    "import warnings\n",
    "\n",
    "warnings.simplefilter(action=\"ignore\", category=FutureWarning)\n",
    "from preprocessing import preprocesamiento\n",
    "\n",
    "pd.options.display.max_columns = None"
   ]
  },
  {
   "cell_type": "code",
   "execution_count": 2,
   "id": "dfc53381-2f00-4c91-a3b3-cb2f3188f942",
   "metadata": {},
   "outputs": [],
   "source": [
    "_x_train = pd.read_csv('./DataSet/x_train')\n",
    "_x_train.drop(columns=['Unnamed: 0'],inplace=True)\n",
    "_y_train = pd.read_csv('./DataSet/y_train')\n",
    "_y_train.drop(columns=['Unnamed: 0'],inplace=True)\n",
    "_x_test = pd.read_csv('./DataSet/x_test')\n",
    "_x_test.drop(columns=['Unnamed: 0'],inplace=True)\n",
    "_y_test = pd.read_csv('./DataSet/y_test')\n",
    "_y_test.drop(columns=['Unnamed: 0'],inplace=True)"
   ]
  },
  {
   "cell_type": "markdown",
   "id": "d140ffec-e92a-4e59-8b16-bee52844a4d4",
   "metadata": {},
   "source": [
    "# Reducción de la dimensionalidad"
   ]
  },
  {
   "cell_type": "markdown",
   "id": "7b5fd8d2-70f8-44de-8359-12b66aac240f",
   "metadata": {},
   "source": [
    "**d) Reducción de la dimensionalidad:** en este punto se pide crear un nuevo dataset que\n",
    "resulte de aplicar una reducción de dimensionalidad sobre el dataset que se obtuvo al\n",
    "finalizar el preprocesamiento."
   ]
  },
  {
   "cell_type": "markdown",
   "id": "fce05033-38b1-44da-975c-4df31a002deb",
   "metadata": {},
   "source": [
    "## ZSCORE - PCA"
   ]
  },
  {
   "cell_type": "code",
   "execution_count": 3,
   "id": "b30bbf05-6947-4a1c-bf00-353aebd8a36c",
   "metadata": {},
   "outputs": [],
   "source": [
    "x_train = _x_train.copy()\n",
    "y_train = _y_train.copy()\n",
    "x_test = _x_test.copy()\n",
    "y_test = _y_test.copy()"
   ]
  },
  {
   "cell_type": "markdown",
   "id": "5914ffd4-ba55-41fd-9010-e793514918d7",
   "metadata": {},
   "source": [
    "Primero normalizamos los datos"
   ]
  },
  {
   "cell_type": "code",
   "execution_count": 4,
   "id": "77af1f47-7a9b-48e3-9e70-6ad0edcc488d",
   "metadata": {},
   "outputs": [],
   "source": [
    "f = ['latitud', 'longitud', 'ambientes', 'dormitorios','superficie_total', 'superficie_cubierta', 'precio', 'comuna']"
   ]
  },
  {
   "cell_type": "code",
   "execution_count": 5,
   "id": "243171f5-d8be-42f0-987c-ee9d0d44f7f4",
   "metadata": {},
   "outputs": [],
   "source": [
    "scaler = StandardScaler()\n",
    "scaler.fit(x_train[f])#Porque PCA no se lleva bien con las variables dummies\n",
    "x_train_scaler = scaler.transform(x_train[f]) #Porque PCA no se lleva bien con las variables dummies"
   ]
  },
  {
   "cell_type": "markdown",
   "id": "f7b3b321-bd46-4c33-8b7b-e29477c29347",
   "metadata": {},
   "source": [
    "Ahora buscamos el hiperparametro de PCA"
   ]
  },
  {
   "cell_type": "code",
   "execution_count": 6,
   "id": "5ee75bb7-a665-4129-bb87-afe2f0c5f0a9",
   "metadata": {},
   "outputs": [
    {
     "name": "stdout",
     "output_type": "stream",
     "text": [
      "El numero minimo de componentes para explicar el 95% de la varianza es: 4\n"
     ]
    },
    {
     "data": {
      "image/png": "[encoded data removed]",
      "text/plain": [
       "<Figure size 720x360 with 1 Axes>"
      ]
     },
     "metadata": {
      "needs_background": "light"
     },
     "output_type": "display_data"
    }
   ],
   "source": [
    "pca = PCA()\n",
    "pca.fit(x_train_scaler)\n",
    "var_cumu = np.cumsum(pca.explained_variance_ratio_) * 100\n",
    "\n",
    "# How many PCs explain 95% of the variance?\n",
    "k = np.argmax(var_cumu > 95)\n",
    "print(\n",
    "    \"El numero minimo de componentes para explicar el 95% de la varianza es: \" + str(k)\n",
    ")\n",
    "# print(\"\\n\")\n",
    "\n",
    "plt.figure(figsize=[10, 5])\n",
    "plt.title('Varianza acumulada explicada por componente')\n",
    "plt.ylabel('Varianza acumulada explicada')\n",
    "plt.xlabel('Componentes principales')\n",
    "plt.axvline(x=k, color=\"k\", linestyle=\"--\")\n",
    "plt.axhline(y=95, color=\"r\", linestyle=\"--\")\n",
    "ax = plt.plot(var_cumu)"
   ]
  },
  {
   "cell_type": "markdown",
   "id": "42f04819-9905-43b0-b9b0-38e409639a65",
   "metadata": {},
   "source": [
    "Aplico PCA con el k obtenido"
   ]
  },
  {
   "cell_type": "code",
   "execution_count": 7,
   "id": "a0836ea2-57e3-41a7-a69e-f3df12b72f90",
   "metadata": {},
   "outputs": [],
   "source": [
    "ipca = PCA(n_components=k)\n",
    "ipca_transform=ipca.fit_transform(x_train_scaler)"
   ]
  },
  {
   "cell_type": "code",
   "execution_count": 8,
   "id": "971b20f4-e636-4970-b4e2-ca4cf30e5331",
   "metadata": {},
   "outputs": [],
   "source": [
    "df = pd.DataFrame(data=ipca_transform, columns = [\"PCA1\", \"PCA2\", \"PCA3\", \"PCA4\"])"
   ]
  },
  {
   "cell_type": "code",
   "execution_count": 9,
   "id": "dffda948-b603-4270-96de-80dd062493c6",
   "metadata": {},
   "outputs": [],
   "source": [
    "x_train = pd.concat([df, x_train[[\"Departamento\", \"PH\"]]], axis=1)"
   ]
  },
  {
   "cell_type": "code",
   "execution_count": 10,
   "id": "f611d898-df7f-4d39-9dff-8a05d25c6b46",
   "metadata": {},
   "outputs": [
    {
     "data": {
      "text/html": [
       "<div>\n",
       "<style scoped>\n",
       "    .dataframe tbody tr th:only-of-type {\n",
       "        vertical-align: middle;\n",
       "    }\n",
       "\n",
       "    .dataframe tbody tr th {\n",
       "        vertical-align: top;\n",
       "    }\n",
       "\n",
       "    .dataframe thead th {\n",
       "        text-align: right;\n",
       "    }\n",
       "</style>\n",
       "<table border=\"1\" class=\"dataframe\">\n",
       "  <thead>\n",
       "    <tr style=\"text-align: right;\">\n",
       "      <th></th>\n",
       "      <th>PCA1</th>\n",
       "      <th>PCA2</th>\n",
       "      <th>PCA3</th>\n",
       "      <th>PCA4</th>\n",
       "      <th>Departamento</th>\n",
       "      <th>PH</th>\n",
       "    </tr>\n",
       "  </thead>\n",
       "  <tbody>\n",
       "    <tr>\n",
       "      <th>0</th>\n",
       "      <td>-1.602030</td>\n",
       "      <td>-0.773015</td>\n",
       "      <td>-0.486354</td>\n",
       "      <td>0.367727</td>\n",
       "      <td>1.0</td>\n",
       "      <td>0.0</td>\n",
       "    </tr>\n",
       "    <tr>\n",
       "      <th>1</th>\n",
       "      <td>0.654601</td>\n",
       "      <td>0.936289</td>\n",
       "      <td>0.917039</td>\n",
       "      <td>0.313538</td>\n",
       "      <td>1.0</td>\n",
       "      <td>0.0</td>\n",
       "    </tr>\n",
       "    <tr>\n",
       "      <th>2</th>\n",
       "      <td>-1.843431</td>\n",
       "      <td>2.038912</td>\n",
       "      <td>0.935624</td>\n",
       "      <td>-0.241790</td>\n",
       "      <td>1.0</td>\n",
       "      <td>0.0</td>\n",
       "    </tr>\n",
       "    <tr>\n",
       "      <th>3</th>\n",
       "      <td>-1.769079</td>\n",
       "      <td>-0.661204</td>\n",
       "      <td>0.149534</td>\n",
       "      <td>0.495650</td>\n",
       "      <td>1.0</td>\n",
       "      <td>0.0</td>\n",
       "    </tr>\n",
       "    <tr>\n",
       "      <th>4</th>\n",
       "      <td>1.644939</td>\n",
       "      <td>-1.467514</td>\n",
       "      <td>0.065164</td>\n",
       "      <td>-1.075714</td>\n",
       "      <td>1.0</td>\n",
       "      <td>0.0</td>\n",
       "    </tr>\n",
       "    <tr>\n",
       "      <th>...</th>\n",
       "      <td>...</td>\n",
       "      <td>...</td>\n",
       "      <td>...</td>\n",
       "      <td>...</td>\n",
       "      <td>...</td>\n",
       "      <td>...</td>\n",
       "    </tr>\n",
       "    <tr>\n",
       "      <th>56099</th>\n",
       "      <td>1.971805</td>\n",
       "      <td>1.575698</td>\n",
       "      <td>-0.086600</td>\n",
       "      <td>-0.315362</td>\n",
       "      <td>0.0</td>\n",
       "      <td>1.0</td>\n",
       "    </tr>\n",
       "    <tr>\n",
       "      <th>56100</th>\n",
       "      <td>-1.255585</td>\n",
       "      <td>-1.402908</td>\n",
       "      <td>1.073892</td>\n",
       "      <td>-0.140651</td>\n",
       "      <td>1.0</td>\n",
       "      <td>0.0</td>\n",
       "    </tr>\n",
       "    <tr>\n",
       "      <th>56101</th>\n",
       "      <td>-1.252651</td>\n",
       "      <td>-1.738174</td>\n",
       "      <td>0.061480</td>\n",
       "      <td>0.525044</td>\n",
       "      <td>1.0</td>\n",
       "      <td>0.0</td>\n",
       "    </tr>\n",
       "    <tr>\n",
       "      <th>56102</th>\n",
       "      <td>2.285889</td>\n",
       "      <td>-2.272690</td>\n",
       "      <td>2.318965</td>\n",
       "      <td>1.767226</td>\n",
       "      <td>1.0</td>\n",
       "      <td>0.0</td>\n",
       "    </tr>\n",
       "    <tr>\n",
       "      <th>56103</th>\n",
       "      <td>-1.488449</td>\n",
       "      <td>1.715845</td>\n",
       "      <td>0.694776</td>\n",
       "      <td>-0.449600</td>\n",
       "      <td>1.0</td>\n",
       "      <td>0.0</td>\n",
       "    </tr>\n",
       "  </tbody>\n",
       "</table>\n",
       "<p>56104 rows × 6 columns</p>\n",
       "</div>"
      ],
      "text/plain": [
       "           PCA1      PCA2      PCA3      PCA4  Departamento   PH\n",
       "0     -1.602030 -0.773015 -0.486354  0.367727           1.0  0.0\n",
       "1      0.654601  0.936289  0.917039  0.313538           1.0  0.0\n",
       "2     -1.843431  2.038912  0.935624 -0.241790           1.0  0.0\n",
       "3     -1.769079 -0.661204  0.149534  0.495650           1.0  0.0\n",
       "4      1.644939 -1.467514  0.065164 -1.075714           1.0  0.0\n",
       "...         ...       ...       ...       ...           ...  ...\n",
       "56099  1.971805  1.575698 -0.086600 -0.315362           0.0  1.0\n",
       "56100 -1.255585 -1.402908  1.073892 -0.140651           1.0  0.0\n",
       "56101 -1.252651 -1.738174  0.061480  0.525044           1.0  0.0\n",
       "56102  2.285889 -2.272690  2.318965  1.767226           1.0  0.0\n",
       "56103 -1.488449  1.715845  0.694776 -0.449600           1.0  0.0\n",
       "\n",
       "[56104 rows x 6 columns]"
      ]
     },
     "execution_count": 10,
     "metadata": {},
     "output_type": "execute_result"
    }
   ],
   "source": [
    "x_train"
   ]
  },
  {
   "cell_type": "markdown",
   "id": "9fa3d5ea-9e39-4f7c-9f46-e925012b4714",
   "metadata": {},
   "source": [
    "Replico lo mismo en el test"
   ]
  },
  {
   "cell_type": "code",
   "execution_count": 11,
   "id": "ce0cf6bc-da57-435a-ac5c-47c2548f50f8",
   "metadata": {},
   "outputs": [],
   "source": [
    "def zscore_pca(df, scaler, ipca):\n",
    "    f = ['latitud', 'longitud', 'ambientes', 'dormitorios','superficie_total', 'superficie_cubierta', 'precio', 'comuna']\n",
    "    df_scaler = scaler.transform(df[f])\n",
    "    ipca_transform=ipca.transform(df_scaler)\n",
    "    _df = pd.DataFrame(data=ipca_transform, columns = [\"PCA1\", \"PCA2\", \"PCA3\", \"PCA4\"])\n",
    "    return pd.concat([_df, df[[\"Departamento\", \"PH\"]]], axis=1)"
   ]
  },
  {
   "cell_type": "code",
   "execution_count": 12,
   "id": "650f8efa-e3c4-4ff5-ac23-2f9837dd0d02",
   "metadata": {},
   "outputs": [
    {
     "data": {
      "text/html": [
       "<div>\n",
       "<style scoped>\n",
       "    .dataframe tbody tr th:only-of-type {\n",
       "        vertical-align: middle;\n",
       "    }\n",
       "\n",
       "    .dataframe tbody tr th {\n",
       "        vertical-align: top;\n",
       "    }\n",
       "\n",
       "    .dataframe thead th {\n",
       "        text-align: right;\n",
       "    }\n",
       "</style>\n",
       "<table border=\"1\" class=\"dataframe\">\n",
       "  <thead>\n",
       "    <tr style=\"text-align: right;\">\n",
       "      <th></th>\n",
       "      <th>PCA1</th>\n",
       "      <th>PCA2</th>\n",
       "      <th>PCA3</th>\n",
       "      <th>PCA4</th>\n",
       "      <th>Departamento</th>\n",
       "      <th>PH</th>\n",
       "    </tr>\n",
       "  </thead>\n",
       "  <tbody>\n",
       "    <tr>\n",
       "      <th>0</th>\n",
       "      <td>-0.371700</td>\n",
       "      <td>-0.946210</td>\n",
       "      <td>-0.003776</td>\n",
       "      <td>-0.498956</td>\n",
       "      <td>1.0</td>\n",
       "      <td>0.0</td>\n",
       "    </tr>\n",
       "    <tr>\n",
       "      <th>1</th>\n",
       "      <td>0.304085</td>\n",
       "      <td>0.366498</td>\n",
       "      <td>-1.948687</td>\n",
       "      <td>1.314113</td>\n",
       "      <td>1.0</td>\n",
       "      <td>0.0</td>\n",
       "    </tr>\n",
       "    <tr>\n",
       "      <th>2</th>\n",
       "      <td>-0.918649</td>\n",
       "      <td>1.685378</td>\n",
       "      <td>1.085866</td>\n",
       "      <td>0.124199</td>\n",
       "      <td>1.0</td>\n",
       "      <td>0.0</td>\n",
       "    </tr>\n",
       "    <tr>\n",
       "      <th>3</th>\n",
       "      <td>0.702612</td>\n",
       "      <td>1.086060</td>\n",
       "      <td>0.764122</td>\n",
       "      <td>-0.151824</td>\n",
       "      <td>1.0</td>\n",
       "      <td>0.0</td>\n",
       "    </tr>\n",
       "    <tr>\n",
       "      <th>4</th>\n",
       "      <td>1.118991</td>\n",
       "      <td>1.489461</td>\n",
       "      <td>-0.520264</td>\n",
       "      <td>-0.549561</td>\n",
       "      <td>1.0</td>\n",
       "      <td>0.0</td>\n",
       "    </tr>\n",
       "    <tr>\n",
       "      <th>...</th>\n",
       "      <td>...</td>\n",
       "      <td>...</td>\n",
       "      <td>...</td>\n",
       "      <td>...</td>\n",
       "      <td>...</td>\n",
       "      <td>...</td>\n",
       "    </tr>\n",
       "    <tr>\n",
       "      <th>14021</th>\n",
       "      <td>-1.064349</td>\n",
       "      <td>1.311759</td>\n",
       "      <td>0.389015</td>\n",
       "      <td>0.258262</td>\n",
       "      <td>1.0</td>\n",
       "      <td>0.0</td>\n",
       "    </tr>\n",
       "    <tr>\n",
       "      <th>14022</th>\n",
       "      <td>1.436507</td>\n",
       "      <td>-1.027618</td>\n",
       "      <td>-3.723683</td>\n",
       "      <td>-0.219018</td>\n",
       "      <td>1.0</td>\n",
       "      <td>0.0</td>\n",
       "    </tr>\n",
       "    <tr>\n",
       "      <th>14023</th>\n",
       "      <td>-1.758420</td>\n",
       "      <td>0.580921</td>\n",
       "      <td>0.798697</td>\n",
       "      <td>0.139519</td>\n",
       "      <td>1.0</td>\n",
       "      <td>0.0</td>\n",
       "    </tr>\n",
       "    <tr>\n",
       "      <th>14024</th>\n",
       "      <td>-1.859137</td>\n",
       "      <td>0.822888</td>\n",
       "      <td>0.727176</td>\n",
       "      <td>0.044262</td>\n",
       "      <td>1.0</td>\n",
       "      <td>0.0</td>\n",
       "    </tr>\n",
       "    <tr>\n",
       "      <th>14025</th>\n",
       "      <td>2.046271</td>\n",
       "      <td>1.514903</td>\n",
       "      <td>-0.177265</td>\n",
       "      <td>-1.714135</td>\n",
       "      <td>1.0</td>\n",
       "      <td>0.0</td>\n",
       "    </tr>\n",
       "  </tbody>\n",
       "</table>\n",
       "<p>14026 rows × 6 columns</p>\n",
       "</div>"
      ],
      "text/plain": [
       "           PCA1      PCA2      PCA3      PCA4  Departamento   PH\n",
       "0     -0.371700 -0.946210 -0.003776 -0.498956           1.0  0.0\n",
       "1      0.304085  0.366498 -1.948687  1.314113           1.0  0.0\n",
       "2     -0.918649  1.685378  1.085866  0.124199           1.0  0.0\n",
       "3      0.702612  1.086060  0.764122 -0.151824           1.0  0.0\n",
       "4      1.118991  1.489461 -0.520264 -0.549561           1.0  0.0\n",
       "...         ...       ...       ...       ...           ...  ...\n",
       "14021 -1.064349  1.311759  0.389015  0.258262           1.0  0.0\n",
       "14022  1.436507 -1.027618 -3.723683 -0.219018           1.0  0.0\n",
       "14023 -1.758420  0.580921  0.798697  0.139519           1.0  0.0\n",
       "14024 -1.859137  0.822888  0.727176  0.044262           1.0  0.0\n",
       "14025  2.046271  1.514903 -0.177265 -1.714135           1.0  0.0\n",
       "\n",
       "[14026 rows x 6 columns]"
      ]
     },
     "execution_count": 12,
     "metadata": {},
     "output_type": "execute_result"
    }
   ],
   "source": [
    "x_test = zscore_pca(x_test, scaler, ipca)\n",
    "x_test"
   ]
  },
  {
   "cell_type": "markdown",
   "id": "dff9e9db",
   "metadata": {},
   "source": [
    "**Nota:** Los ítems a, b, c y d son los mínimos requeridos para esta etapa, cada grupo puede crear\n",
    "nuevas variables que resulten derivadas de los atributos existentes o que resulten de incorporar\n",
    "nuevas fuentes de datos."
   ]
  },
  {
   "cell_type": "markdown",
   "id": "1fa5c1aa",
   "metadata": {
    "id": "fHgtvAnENcec"
   },
   "source": [
    "### **2. Agrupamiento**\n",
    "En este punto se busca analizar si es posible agrupar los datos en función de algún criterio. Para\n",
    "esta tarea utilizar el algoritmo K-Means y se deberán realizar los siguientes puntos:\n",
    "* Analizar la tendencia al *clustering* del dataset.\n",
    "* Estimar la cantidad apropiada de grupos que se deben formar.\n",
    "* Evaluar la calidad de los grupos formados realizando un análisis de *Silhouette*.\n",
    "* Realizar un análisis de cada grupo intentando entender en función de qué\n",
    "características fueron formados.\n",
    "* Graficar sobre un mapa de CABA los avisos coloreados según el grupo al que\n",
    "pertenecen.\n",
    "* Repetir el análisis anterior, utilizando sólo 3 grupos."
   ]
  },
  {
   "cell_type": "code",
   "execution_count": null,
   "id": "2c2f6362",
   "metadata": {},
   "outputs": [],
   "source": [
    "scaler = StandardScaler()\n",
    "scaler.fit(x_train[f])"
   ]
  },
  {
   "cell_type": "code",
   "execution_count": null,
   "id": "2918b9cb",
   "metadata": {},
   "outputs": [],
   "source": [
    "scaler.transform(x_train[f])"
   ]
  },
  {
   "cell_type": "code",
   "execution_count": null,
   "id": "621b854f",
   "metadata": {},
   "outputs": [],
   "source": [
    "from sklearn.model_selection import train_test_split, cross_val_score\n",
    "from sklearn.cluster import KMeans"
   ]
  },
  {
   "cell_type": "code",
   "execution_count": null,
   "id": "05a76c1a",
   "metadata": {},
   "outputs": [],
   "source": [
    "from pyclustertend import hopkins\n",
    "hopkins(scaler.transform(x_train[f]), x_train[f].shape[0])"
   ]
  },
  {
   "cell_type": "code",
   "execution_count": null,
   "id": "14a0589f",
   "metadata": {},
   "outputs": [],
   "source": [
    "# Corro el algoritmo con K entre 2 y 12 y voy guardando el error para luego graficarlo.\n",
    "sse = []\n",
    "list_k = list(range(1, 12))\n",
    "\n",
    "for k in list_k:\n",
    "    km = KMeans(n_clusters=k)\n",
    "    km.fit(scaler.transform(x_train[f]))\n",
    "    sse.append(km.inertia_)\n",
    "\n",
    "# Grafico el SSE por K\n",
    "plt.figure(figsize=(6, 6))\n",
    "plt.plot(list_k, sse, '-o')\n",
    "plt.xlabel(r'Cantidad de clusters')\n",
    "plt.ylabel('SSE')\n",
    "plt.show()"
   ]
  },
  {
   "cell_type": "code",
   "execution_count": null,
   "id": "d5b59c17",
   "metadata": {},
   "outputs": [],
   "source": [
    "# Codigo"
   ]
  },
  {
   "cell_type": "markdown",
   "id": "710dbb4b",
   "metadata": {
    "id": "fHgtvAnENcec"
   },
   "source": [
    "### **3. Clasificación**"
   ]
  },
  {
   "cell_type": "markdown",
   "id": "c60ec876",
   "metadata": {
    "id": "DzErbCVNVBQ1"
   },
   "source": [
    "**a) Construcción del target**\n",
    "\n",
    "Para esta tarea se debe crear una nueva variable ***tipo_precio*** que tendrá tres categorías:\n",
    "**alto**, **medio**, **bajo**. Esta nueva variable será nuestra clase en el problema de clasificación.\n",
    "Para determinar cuándo el tipo_precio de una propiedad es alto, medio o bajo se deberá\n",
    "analizar el precio por metro cuadrado (pxm2). Se propone evaluar las siguientes\n",
    "alternativas para establecer los límites de cada categoría:\n",
    "\n",
    "1. Dividir la variable *pxm2* en 3 intervalos con igual cantidad de observaciones.\n",
    "2. Dividir la variable pxm2 en 3 intervalos, el primero con el 25% de las observaciones,\n",
    "el siguiente con el 50% y el último con el 25% de las observaciones restantes.\n",
    "3. Trabajar la variable pxm2 relativa a cada tipo de propiedad y luego dividirla como en\n",
    "el punto anterior.\n",
    "\n",
    "Se pide:\n",
    "* Mostrar la distribución del precio por metro cuadrado\n",
    "* Mostrar la distribución del precio por metro cuadrado por tipo de propiedad\n",
    "* Para cada una de las tres alternativas mostrar gráficamente la distribución de la\n",
    "nueva variable creada *tipo_precio*.\n",
    "* Seleccionar una de las alternativas, justificando la misma.\n",
    "* Comparar, si aplica, la alternativa seleccionada con la división en 3 grupos obtenida\n",
    "utilizando agrupamiento por K Means.\n",
    "* Mostrar en un mapa de CABA los avisos coloreados por *tipo_precio*"
   ]
  },
  {
   "cell_type": "code",
   "execution_count": null,
   "id": "06e91a7e",
   "metadata": {},
   "outputs": [],
   "source": [
    "# Codigo"
   ]
  },
  {
   "cell_type": "code",
   "execution_count": null,
   "id": "85b26025",
   "metadata": {},
   "outputs": [],
   "source": [
    "# Codigo"
   ]
  },
  {
   "cell_type": "code",
   "execution_count": null,
   "id": "be6ba323",
   "metadata": {},
   "outputs": [],
   "source": [
    "# Codigo"
   ]
  },
  {
   "cell_type": "code",
   "execution_count": null,
   "id": "891580fc",
   "metadata": {},
   "outputs": [],
   "source": [
    "# Codigo"
   ]
  },
  {
   "cell_type": "markdown",
   "id": "c1656284",
   "metadata": {
    "id": "DzErbCVNVBQ1"
   },
   "source": [
    "**b) Entrenamiento y Predicción**\n",
    "\n",
    "Predecir el valor del atributo **tipo_precio**, excluyendo del entrenamiento la variable price,\n",
    "**pxm2** y cualquier otra que pueda contener información del precio de venta. Para todos los\n",
    "modelos se pide:\n",
    "* Realizar las tareas de ingeniería de características necesarias para trabajar con\n",
    "cada algoritmo (*encoding*, normalización, etc)\n",
    "* Todos los modelos deben ser entrenados también con el *dataset* generado en el\n",
    "punto **1 d)**\n"
   ]
  },
  {
   "cell_type": "markdown",
   "id": "996adf99",
   "metadata": {
    "id": "DzErbCVNVBQ1"
   },
   "source": [
    "**Modelo 1 : Árbol de decisión**\n",
    "\n",
    "a. Construir un árbol de decisión y optimizar sus hiperparámetros mediante *k-fold\n",
    "Cross Validation* para obtener la mejor performance. ¿Cuántos *folds* utilizaron?\n",
    "¿Qué métrica consideran adecuada para buscar los parámetros?\n",
    "\n",
    "b. Graficar el árbol de decisión con mejor performance encontrado en el punto\n",
    "anterior. Si es muy extenso mostrar una porción representativa.\n",
    "\n",
    "c. Analizar el árbol de decisión seleccionado describiendo los atributos elegidos, y\n",
    "decisiones evaluadas (explicar las primeras reglas obtenidas).\n",
    "\n",
    "d. Evaluar la performance del árbol en el conjunto de evaluación, explicar todas las\n",
    "métricas y mostrar la matriz de confusión. Comparar con la performance de\n",
    "entrenamiento.\n"
   ]
  },
  {
   "cell_type": "code",
   "execution_count": null,
   "id": "ebba2918",
   "metadata": {},
   "outputs": [],
   "source": [
    "# Codigo"
   ]
  },
  {
   "cell_type": "code",
   "execution_count": null,
   "id": "4463faf5",
   "metadata": {},
   "outputs": [],
   "source": [
    "# Codigo"
   ]
  },
  {
   "cell_type": "code",
   "execution_count": null,
   "id": "b60d7a28",
   "metadata": {},
   "outputs": [],
   "source": [
    "# Codigo"
   ]
  },
  {
   "cell_type": "code",
   "execution_count": null,
   "id": "e1488ead",
   "metadata": {},
   "outputs": [],
   "source": [
    "# Codigo"
   ]
  },
  {
   "cell_type": "markdown",
   "id": "c0b112fa",
   "metadata": {
    "id": "DzErbCVNVBQ1"
   },
   "source": [
    "**Modelo 2: Random Forest**\n",
    "\n",
    "a. Construir un clasificador RF y optimizar sus hiperparámetros mediante *k-fold\n",
    "Cross Validation* para obtener la mejor performance. ¿Cuántos *folds* utilizaron?\n",
    "¿Qué métrica consideran adecuada para buscar los parámetros?\n",
    "\n",
    "b. Analizar la importancia de los atributos\n",
    "\n",
    "c. Mostrar la conformación final de uno de los árboles generados. Si es muy\n",
    "extenso mostrar una porción representativa y explicar las primeras reglas.\n",
    "\n",
    "d. Evaluar la performance del modelo en el conjunto de evaluación, explicar todas\n",
    "las métricas y mostrar la matriz de confusión. Comparar con la performance de\n",
    "entrenamiento.\n"
   ]
  },
  {
   "cell_type": "code",
   "execution_count": null,
   "id": "aae87985",
   "metadata": {},
   "outputs": [],
   "source": [
    "# Codigo"
   ]
  },
  {
   "cell_type": "code",
   "execution_count": null,
   "id": "c0df95af",
   "metadata": {},
   "outputs": [],
   "source": [
    "# Codigo"
   ]
  },
  {
   "cell_type": "code",
   "execution_count": null,
   "id": "7117ea9b",
   "metadata": {},
   "outputs": [],
   "source": [
    "# Codigo"
   ]
  },
  {
   "cell_type": "code",
   "execution_count": null,
   "id": "84dd4738",
   "metadata": {},
   "outputs": [],
   "source": [
    "# Codigo"
   ]
  },
  {
   "cell_type": "markdown",
   "id": "62bf92d9",
   "metadata": {
    "id": "DzErbCVNVBQ1"
   },
   "source": [
    "**Modelo 3: a elección**\n",
    "\n",
    "a. En este punto se debe entrenar (mediante cross-validation) un modelo elegido\n",
    "por el grupo. Se debe evaluar su performance en entrenamiento y sobre el\n",
    "conjunto de evaluación, explicar todas las métricas y mostrar la matriz de\n",
    "confusión."
   ]
  },
  {
   "cell_type": "code",
   "execution_count": null,
   "id": "0d421ef6",
   "metadata": {},
   "outputs": [],
   "source": [
    "# Codigo"
   ]
  },
  {
   "cell_type": "code",
   "execution_count": null,
   "id": "bd1f04af",
   "metadata": {},
   "outputs": [],
   "source": [
    "# Codigo"
   ]
  },
  {
   "cell_type": "code",
   "execution_count": null,
   "id": "27bb4ede",
   "metadata": {},
   "outputs": [],
   "source": [
    "# Codigo"
   ]
  },
  {
   "cell_type": "code",
   "execution_count": null,
   "id": "030c1e52",
   "metadata": {},
   "outputs": [],
   "source": [
    "# Codigo"
   ]
  },
  {
   "cell_type": "markdown",
   "id": "4f49a85b",
   "metadata": {
    "id": "DzErbCVNVBQ1"
   },
   "source": [
    "¿Qué modelo elegirían para clasificar el tipo de precio de las propiedades?\n",
    "\n",
    "R:"
   ]
  }
 ],
 "metadata": {
  "kernelspec": {
   "display_name": "Python 3.9.7 64-bit",
   "language": "python",
   "name": "python3"
  },
  "language_info": {
   "codemirror_mode": {
    "name": "ipython",
    "version": 3
   },
   "file_extension": ".py",
   "mimetype": "text/x-python",
   "name": "python",
   "nbconvert_exporter": "python",
   "pygments_lexer": "ipython3",
   "version": "3.9.7"
  },
  "vscode": {
   "interpreter": {
    "hash": "31f2aee4e71d21fbe5cf8b01ff0e069b9275f58929596ceb00d14d90e3e16cd6"
   }
  }
 },
 "nbformat": 4,
 "nbformat_minor": 5
}
