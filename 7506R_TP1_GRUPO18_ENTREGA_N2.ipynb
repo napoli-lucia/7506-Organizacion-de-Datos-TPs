{
 "cells": [
  {
   "cell_type": "markdown",
   "id": "33db9172-5d33-45a5-bfe5-434e3bb174c5",
   "metadata": {},
   "source": [
    "# <center>Organizaci&oacute;n de Datos</center>\n",
    "#### <center>C&aacute;tedra Ing. Rodriguez, Juan Manuel </center>\n",
    "\n",
    "## <center>Trabajo Práctico 1:</center>\n",
    "### <center>  Propiedades en Venta</center>\n",
    "### <center>  Grupo 18</center>\n",
    "\n",
    "\n",
    "#### **Integrantes:**\n",
    "\n",
    "* Analía Acevedo\n",
    "* Santiago Daniel Marczewski Neudeck\n",
    "* Lucia Belén Napoli\n",
    "* Brayan Ricaldi"
   ]
  },
  {
   "cell_type": "code",
   "execution_count": 1,
   "id": "2dd0eac6-bb5e-482c-a0de-4b1e2412cfce",
   "metadata": {},
   "outputs": [],
   "source": [
    "import pandas as pd\n",
    "import matplotlib.pyplot as plt\n",
    "import seaborn as sns\n",
    "import numpy as np\n",
    "\n",
    "import sklearn.preprocessing as skp\n",
    "from sklearn.preprocessing import StandardScaler\n",
    "\n",
    "from sklearn.decomposition import PCA\n",
    "from sklearn.model_selection import train_test_split\n",
    "from sklearn.cluster import KMeans\n",
    "from sklearn.metrics import silhouette_score\n",
    "from sklearn.feature_extraction import FeatureHasher\n",
    "from sklearn.feature_selection import VarianceThreshold\n",
    "from sklearn.impute import KNNImputer, SimpleImputer\n",
    "from sklearn.preprocessing import (\n",
    "    KBinsDiscretizer,\n",
    "    LabelEncoder,\n",
    "    MinMaxScaler,\n",
    "    Normalizer,\n",
    "    OneHotEncoder,\n",
    "    OrdinalEncoder,\n",
    "    PowerTransformer,\n",
    "    RobustScaler,\n",
    "    StandardScaler,\n",
    ")\n",
    "\n",
    "import warnings\n",
    "\n",
    "warnings.simplefilter(action=\"ignore\", category=FutureWarning)\n",
    "from preprocessing import preprocesamiento\n",
    "\n",
    "pd.options.display.max_columns = None"
   ]
  },
  {
   "cell_type": "code",
   "execution_count": 2,
   "id": "dfc53381-2f00-4c91-a3b3-cb2f3188f942",
   "metadata": {},
   "outputs": [],
   "source": [
    "_x_train = pd.read_csv('./DataSet/x_train')\n",
    "_x_train.drop(columns=['Unnamed: 0'],inplace=True)\n",
    "_y_train = pd.read_csv('./DataSet/y_train')\n",
    "_y_train.drop(columns=['Unnamed: 0'],inplace=True)\n",
    "_x_test = pd.read_csv('./DataSet/x_test')\n",
    "_x_test.drop(columns=['Unnamed: 0'],inplace=True)\n",
    "_y_test = pd.read_csv('./DataSet/y_test')\n",
    "_y_test.drop(columns=['Unnamed: 0'],inplace=True)"
   ]
  },
  {
   "cell_type": "markdown",
   "id": "d140ffec-e92a-4e59-8b16-bee52844a4d4",
   "metadata": {},
   "source": [
    "# Reducción de la dimensionalidad"
   ]
  },
  {
   "cell_type": "markdown",
   "id": "7b5fd8d2-70f8-44de-8359-12b66aac240f",
   "metadata": {},
   "source": [
    "**d) Reducción de la dimensionalidad:** en este punto se pide crear un nuevo dataset que\n",
    "resulte de aplicar una reducción de dimensionalidad sobre el dataset que se obtuvo al\n",
    "finalizar el preprocesamiento."
   ]
  },
  {
   "cell_type": "markdown",
   "id": "fce05033-38b1-44da-975c-4df31a002deb",
   "metadata": {},
   "source": [
    "## ZSCORE - PCA"
   ]
  },
  {
   "cell_type": "code",
   "execution_count": 3,
   "id": "b30bbf05-6947-4a1c-bf00-353aebd8a36c",
   "metadata": {},
   "outputs": [],
   "source": [
    "x_train = _x_train.copy()\n",
    "y_train = _y_train.copy()\n",
    "x_test = _x_test.copy()\n",
    "y_test = _y_test.copy()"
   ]
  },
  {
   "cell_type": "markdown",
   "id": "5914ffd4-ba55-41fd-9010-e793514918d7",
   "metadata": {},
   "source": [
    "Primero normalizamos los datos"
   ]
  },
  {
   "cell_type": "code",
   "execution_count": 6,
   "id": "77af1f47-7a9b-48e3-9e70-6ad0edcc488d",
   "metadata": {},
   "outputs": [],
   "source": [
    "f = ['latitud', 'longitud', 'ambientes', 'dormitorios', 'superficie_cubierta', 'comuna']"
   ]
  },
  {
   "cell_type": "code",
   "execution_count": 7,
   "id": "243171f5-d8be-42f0-987c-ee9d0d44f7f4",
   "metadata": {},
   "outputs": [],
   "source": [
    "scaler = StandardScaler()\n",
    "scaler.fit(x_train[f])#Porque PCA no se lleva bien con las variables dummies\n",
    "x_train_scaler = scaler.transform(x_train[f]) #Porque PCA no se lleva bien con las variables dummies"
   ]
  },
  {
   "cell_type": "markdown",
   "id": "f7b3b321-bd46-4c33-8b7b-e29477c29347",
   "metadata": {},
   "source": [
    "Ahora buscamos el hiperparametro de PCA"
   ]
  },
  {
   "cell_type": "code",
   "execution_count": 8,
   "id": "5ee75bb7-a665-4129-bb87-afe2f0c5f0a9",
   "metadata": {},
   "outputs": [
    {
     "name": "stdout",
     "output_type": "stream",
     "text": [
      "El numero minimo de componentes para explicar el 95% de la varianza es: 4\n"
     ]
    },
    {
     "data": {
      "image/png": "[encoded data removed]",
      "text/plain": [
       "<Figure size 720x360 with 1 Axes>"
      ]
     },
     "metadata": {
      "needs_background": "light"
     },
     "output_type": "display_data"
    }
   ],
   "source": [
    "pca = PCA()\n",
    "pca.fit(x_train_scaler)\n",
    "var_cumu = np.cumsum(pca.explained_variance_ratio_) * 100\n",
    "\n",
    "# How many PCs explain 95% of the variance?\n",
    "k = np.argmax(var_cumu > 95)\n",
    "print(\n",
    "    \"El numero minimo de componentes para explicar el 95% de la varianza es: \" + str(k)\n",
    ")\n",
    "# print(\"\\n\")\n",
    "\n",
    "plt.figure(figsize=[10, 5])\n",
    "plt.title('Varianza acumulada explicada por componente')\n",
    "plt.ylabel('Varianza acumulada explicada')\n",
    "plt.xlabel('Componentes principales')\n",
    "plt.axvline(x=k, color=\"k\", linestyle=\"--\")\n",
    "plt.axhline(y=95, color=\"r\", linestyle=\"--\")\n",
    "ax = plt.plot(var_cumu)"
   ]
  },
  {
   "cell_type": "markdown",
   "id": "42f04819-9905-43b0-b9b0-38e409639a65",
   "metadata": {},
   "source": [
    "Aplico PCA con el k obtenido"
   ]
  },
  {
   "cell_type": "code",
   "execution_count": 9,
   "id": "a0836ea2-57e3-41a7-a69e-f3df12b72f90",
   "metadata": {},
   "outputs": [],
   "source": [
    "ipca = PCA(n_components=k)\n",
    "ipca_transform=ipca.fit_transform(x_train_scaler)"
   ]
  },
  {
   "cell_type": "code",
   "execution_count": 10,
   "id": "971b20f4-e636-4970-b4e2-ca4cf30e5331",
   "metadata": {},
   "outputs": [],
   "source": [
    "df = pd.DataFrame(data=ipca_transform, columns = [\"PCA1\", \"PCA2\", \"PCA3\", \"PCA4\"])"
   ]
  },
  {
   "cell_type": "code",
   "execution_count": 11,
   "id": "dffda948-b603-4270-96de-80dd062493c6",
   "metadata": {},
   "outputs": [],
   "source": [
    "x_train = pd.concat([df, x_train[[\"Departamento\", \"PH\"]]], axis=1)"
   ]
  },
  {
   "cell_type": "code",
   "execution_count": 12,
   "id": "f611d898-df7f-4d39-9dff-8a05d25c6b46",
   "metadata": {},
   "outputs": [
    {
     "data": {
      "text/html": [
       "<div>\n",
       "<style scoped>\n",
       "    .dataframe tbody tr th:only-of-type {\n",
       "        vertical-align: middle;\n",
       "    }\n",
       "\n",
       "    .dataframe tbody tr th {\n",
       "        vertical-align: top;\n",
       "    }\n",
       "\n",
       "    .dataframe thead th {\n",
       "        text-align: right;\n",
       "    }\n",
       "</style>\n",
       "<table border=\"1\" class=\"dataframe\">\n",
       "  <thead>\n",
       "    <tr style=\"text-align: right;\">\n",
       "      <th></th>\n",
       "      <th>PCA1</th>\n",
       "      <th>PCA2</th>\n",
       "      <th>PCA3</th>\n",
       "      <th>PCA4</th>\n",
       "      <th>Departamento</th>\n",
       "      <th>PH</th>\n",
       "    </tr>\n",
       "  </thead>\n",
       "  <tbody>\n",
       "    <tr>\n",
       "      <th>0</th>\n",
       "      <td>-1.013799</td>\n",
       "      <td>-2.310668</td>\n",
       "      <td>-0.161948</td>\n",
       "      <td>0.180866</td>\n",
       "      <td>1.0</td>\n",
       "      <td>0.0</td>\n",
       "    </tr>\n",
       "    <tr>\n",
       "      <th>1</th>\n",
       "      <td>-1.108385</td>\n",
       "      <td>-1.728945</td>\n",
       "      <td>-0.030619</td>\n",
       "      <td>0.005277</td>\n",
       "      <td>1.0</td>\n",
       "      <td>0.0</td>\n",
       "    </tr>\n",
       "    <tr>\n",
       "      <th>2</th>\n",
       "      <td>-0.123248</td>\n",
       "      <td>1.124049</td>\n",
       "      <td>-0.533799</td>\n",
       "      <td>-0.405115</td>\n",
       "      <td>1.0</td>\n",
       "      <td>0.0</td>\n",
       "    </tr>\n",
       "    <tr>\n",
       "      <th>3</th>\n",
       "      <td>-0.057025</td>\n",
       "      <td>0.568322</td>\n",
       "      <td>-0.645011</td>\n",
       "      <td>-0.304296</td>\n",
       "      <td>1.0</td>\n",
       "      <td>0.0</td>\n",
       "    </tr>\n",
       "    <tr>\n",
       "      <th>4</th>\n",
       "      <td>0.397719</td>\n",
       "      <td>0.867322</td>\n",
       "      <td>-0.953229</td>\n",
       "      <td>0.355667</td>\n",
       "      <td>1.0</td>\n",
       "      <td>0.0</td>\n",
       "    </tr>\n",
       "    <tr>\n",
       "      <th>...</th>\n",
       "      <td>...</td>\n",
       "      <td>...</td>\n",
       "      <td>...</td>\n",
       "      <td>...</td>\n",
       "      <td>...</td>\n",
       "      <td>...</td>\n",
       "    </tr>\n",
       "    <tr>\n",
       "      <th>58156</th>\n",
       "      <td>0.148876</td>\n",
       "      <td>-2.487246</td>\n",
       "      <td>-0.272148</td>\n",
       "      <td>-0.334680</td>\n",
       "      <td>1.0</td>\n",
       "      <td>0.0</td>\n",
       "    </tr>\n",
       "    <tr>\n",
       "      <th>58157</th>\n",
       "      <td>-1.217875</td>\n",
       "      <td>0.476842</td>\n",
       "      <td>-0.507543</td>\n",
       "      <td>0.122228</td>\n",
       "      <td>1.0</td>\n",
       "      <td>0.0</td>\n",
       "    </tr>\n",
       "    <tr>\n",
       "      <th>58158</th>\n",
       "      <td>-1.158385</td>\n",
       "      <td>-1.473037</td>\n",
       "      <td>-0.835364</td>\n",
       "      <td>-0.176502</td>\n",
       "      <td>1.0</td>\n",
       "      <td>0.0</td>\n",
       "    </tr>\n",
       "    <tr>\n",
       "      <th>58159</th>\n",
       "      <td>-1.296330</td>\n",
       "      <td>1.734346</td>\n",
       "      <td>0.153912</td>\n",
       "      <td>-0.028343</td>\n",
       "      <td>1.0</td>\n",
       "      <td>0.0</td>\n",
       "    </tr>\n",
       "    <tr>\n",
       "      <th>58160</th>\n",
       "      <td>0.148137</td>\n",
       "      <td>-1.924398</td>\n",
       "      <td>0.492513</td>\n",
       "      <td>-0.181757</td>\n",
       "      <td>1.0</td>\n",
       "      <td>0.0</td>\n",
       "    </tr>\n",
       "  </tbody>\n",
       "</table>\n",
       "<p>58161 rows × 6 columns</p>\n",
       "</div>"
      ],
      "text/plain": [
       "           PCA1      PCA2      PCA3      PCA4  Departamento   PH\n",
       "0     -1.013799 -2.310668 -0.161948  0.180866           1.0  0.0\n",
       "1     -1.108385 -1.728945 -0.030619  0.005277           1.0  0.0\n",
       "2     -0.123248  1.124049 -0.533799 -0.405115           1.0  0.0\n",
       "3     -0.057025  0.568322 -0.645011 -0.304296           1.0  0.0\n",
       "4      0.397719  0.867322 -0.953229  0.355667           1.0  0.0\n",
       "...         ...       ...       ...       ...           ...  ...\n",
       "58156  0.148876 -2.487246 -0.272148 -0.334680           1.0  0.0\n",
       "58157 -1.217875  0.476842 -0.507543  0.122228           1.0  0.0\n",
       "58158 -1.158385 -1.473037 -0.835364 -0.176502           1.0  0.0\n",
       "58159 -1.296330  1.734346  0.153912 -0.028343           1.0  0.0\n",
       "58160  0.148137 -1.924398  0.492513 -0.181757           1.0  0.0\n",
       "\n",
       "[58161 rows x 6 columns]"
      ]
     },
     "execution_count": 12,
     "metadata": {},
     "output_type": "execute_result"
    }
   ],
   "source": [
    "x_train"
   ]
  },
  {
   "cell_type": "markdown",
   "id": "9fa3d5ea-9e39-4f7c-9f46-e925012b4714",
   "metadata": {},
   "source": [
    "Replico lo mismo en el test"
   ]
  },
  {
   "cell_type": "code",
   "execution_count": 15,
   "id": "ce0cf6bc-da57-435a-ac5c-47c2548f50f8",
   "metadata": {},
   "outputs": [],
   "source": [
    "def zscore_pca(df, scaler, ipca):\n",
    "    f = ['latitud', 'longitud', 'ambientes', 'dormitorios', 'superficie_cubierta', 'comuna']\n",
    "    df_scaler = scaler.transform(df[f])\n",
    "    ipca_transform=ipca.transform(df_scaler)\n",
    "    _df = pd.DataFrame(data=ipca_transform, columns = [\"PCA1\", \"PCA2\", \"PCA3\", \"PCA4\"])\n",
    "    return pd.concat([_df, df[[\"Departamento\", \"PH\"]]], axis=1)"
   ]
  },
  {
   "cell_type": "code",
   "execution_count": 16,
   "id": "650f8efa-e3c4-4ff5-ac23-2f9837dd0d02",
   "metadata": {},
   "outputs": [
    {
     "data": {
      "text/html": [
       "<div>\n",
       "<style scoped>\n",
       "    .dataframe tbody tr th:only-of-type {\n",
       "        vertical-align: middle;\n",
       "    }\n",
       "\n",
       "    .dataframe tbody tr th {\n",
       "        vertical-align: top;\n",
       "    }\n",
       "\n",
       "    .dataframe thead th {\n",
       "        text-align: right;\n",
       "    }\n",
       "</style>\n",
       "<table border=\"1\" class=\"dataframe\">\n",
       "  <thead>\n",
       "    <tr style=\"text-align: right;\">\n",
       "      <th></th>\n",
       "      <th>PCA1</th>\n",
       "      <th>PCA2</th>\n",
       "      <th>PCA3</th>\n",
       "      <th>PCA4</th>\n",
       "      <th>Departamento</th>\n",
       "      <th>PH</th>\n",
       "    </tr>\n",
       "  </thead>\n",
       "  <tbody>\n",
       "    <tr>\n",
       "      <th>0</th>\n",
       "      <td>4.879731</td>\n",
       "      <td>-1.823742</td>\n",
       "      <td>1.097820</td>\n",
       "      <td>-1.650970</td>\n",
       "      <td>0.0</td>\n",
       "      <td>0.0</td>\n",
       "    </tr>\n",
       "    <tr>\n",
       "      <th>1</th>\n",
       "      <td>1.374922</td>\n",
       "      <td>-2.498697</td>\n",
       "      <td>0.340685</td>\n",
       "      <td>-0.497767</td>\n",
       "      <td>0.0</td>\n",
       "      <td>1.0</td>\n",
       "    </tr>\n",
       "    <tr>\n",
       "      <th>2</th>\n",
       "      <td>1.821322</td>\n",
       "      <td>-1.392457</td>\n",
       "      <td>-0.925101</td>\n",
       "      <td>0.377884</td>\n",
       "      <td>1.0</td>\n",
       "      <td>0.0</td>\n",
       "    </tr>\n",
       "    <tr>\n",
       "      <th>3</th>\n",
       "      <td>1.197545</td>\n",
       "      <td>-0.794620</td>\n",
       "      <td>0.237632</td>\n",
       "      <td>-0.772707</td>\n",
       "      <td>1.0</td>\n",
       "      <td>0.0</td>\n",
       "    </tr>\n",
       "    <tr>\n",
       "      <th>4</th>\n",
       "      <td>0.156142</td>\n",
       "      <td>-0.966397</td>\n",
       "      <td>0.121841</td>\n",
       "      <td>-0.184738</td>\n",
       "      <td>1.0</td>\n",
       "      <td>0.0</td>\n",
       "    </tr>\n",
       "    <tr>\n",
       "      <th>...</th>\n",
       "      <td>...</td>\n",
       "      <td>...</td>\n",
       "      <td>...</td>\n",
       "      <td>...</td>\n",
       "      <td>...</td>\n",
       "      <td>...</td>\n",
       "    </tr>\n",
       "    <tr>\n",
       "      <th>14536</th>\n",
       "      <td>-1.052349</td>\n",
       "      <td>-1.692866</td>\n",
       "      <td>-0.587629</td>\n",
       "      <td>0.042478</td>\n",
       "      <td>1.0</td>\n",
       "      <td>0.0</td>\n",
       "    </tr>\n",
       "    <tr>\n",
       "      <th>14537</th>\n",
       "      <td>0.166904</td>\n",
       "      <td>0.529568</td>\n",
       "      <td>-0.697265</td>\n",
       "      <td>0.032363</td>\n",
       "      <td>0.0</td>\n",
       "      <td>1.0</td>\n",
       "    </tr>\n",
       "    <tr>\n",
       "      <th>14538</th>\n",
       "      <td>-1.716246</td>\n",
       "      <td>0.668013</td>\n",
       "      <td>-0.633542</td>\n",
       "      <td>0.244802</td>\n",
       "      <td>1.0</td>\n",
       "      <td>0.0</td>\n",
       "    </tr>\n",
       "    <tr>\n",
       "      <th>14539</th>\n",
       "      <td>-1.709192</td>\n",
       "      <td>1.341258</td>\n",
       "      <td>-0.178855</td>\n",
       "      <td>0.315477</td>\n",
       "      <td>1.0</td>\n",
       "      <td>0.0</td>\n",
       "    </tr>\n",
       "    <tr>\n",
       "      <th>14540</th>\n",
       "      <td>-1.231744</td>\n",
       "      <td>0.833461</td>\n",
       "      <td>0.012126</td>\n",
       "      <td>0.172089</td>\n",
       "      <td>1.0</td>\n",
       "      <td>0.0</td>\n",
       "    </tr>\n",
       "  </tbody>\n",
       "</table>\n",
       "<p>14541 rows × 6 columns</p>\n",
       "</div>"
      ],
      "text/plain": [
       "           PCA1      PCA2      PCA3      PCA4  Departamento   PH\n",
       "0      4.879731 -1.823742  1.097820 -1.650970           0.0  0.0\n",
       "1      1.374922 -2.498697  0.340685 -0.497767           0.0  1.0\n",
       "2      1.821322 -1.392457 -0.925101  0.377884           1.0  0.0\n",
       "3      1.197545 -0.794620  0.237632 -0.772707           1.0  0.0\n",
       "4      0.156142 -0.966397  0.121841 -0.184738           1.0  0.0\n",
       "...         ...       ...       ...       ...           ...  ...\n",
       "14536 -1.052349 -1.692866 -0.587629  0.042478           1.0  0.0\n",
       "14537  0.166904  0.529568 -0.697265  0.032363           0.0  1.0\n",
       "14538 -1.716246  0.668013 -0.633542  0.244802           1.0  0.0\n",
       "14539 -1.709192  1.341258 -0.178855  0.315477           1.0  0.0\n",
       "14540 -1.231744  0.833461  0.012126  0.172089           1.0  0.0\n",
       "\n",
       "[14541 rows x 6 columns]"
      ]
     },
     "execution_count": 16,
     "metadata": {},
     "output_type": "execute_result"
    }
   ],
   "source": [
    "x_test = zscore_pca(x_test, scaler, ipca)\n",
    "x_test"
   ]
  },
  {
   "cell_type": "markdown",
   "id": "dff9e9db",
   "metadata": {},
   "source": [
    "**Nota:** Los ítems a, b, c y d son los mínimos requeridos para esta etapa, cada grupo puede crear\n",
    "nuevas variables que resulten derivadas de los atributos existentes o que resulten de incorporar\n",
    "nuevas fuentes de datos."
   ]
  },
  {
   "cell_type": "markdown",
   "id": "1fa5c1aa",
   "metadata": {
    "id": "fHgtvAnENcec"
   },
   "source": [
    "### **2. Agrupamiento**\n",
    "En este punto se busca analizar si es posible agrupar los datos en función de algún criterio. Para\n",
    "esta tarea utilizar el algoritmo K-Means y se deberán realizar los siguientes puntos:\n",
    "* Analizar la tendencia al *clustering* del dataset.\n",
    "* Estimar la cantidad apropiada de grupos que se deben formar.\n",
    "* Evaluar la calidad de los grupos formados realizando un análisis de *Silhouette*.\n",
    "* Realizar un análisis de cada grupo intentando entender en función de qué\n",
    "características fueron formados.\n",
    "* Graficar sobre un mapa de CABA los avisos coloreados según el grupo al que\n",
    "pertenecen.\n",
    "* Repetir el análisis anterior, utilizando sólo 3 grupos."
   ]
  },
  {
   "cell_type": "code",
   "execution_count": null,
   "id": "2c2f6362",
   "metadata": {},
   "outputs": [],
   "source": [
    "scaler = StandardScaler()\n",
    "scaler.fit(x_train[f])"
   ]
  },
  {
   "cell_type": "code",
   "execution_count": null,
   "id": "2918b9cb",
   "metadata": {},
   "outputs": [],
   "source": [
    "scaler.transform(x_train[f])"
   ]
  },
  {
   "cell_type": "code",
   "execution_count": null,
   "id": "621b854f",
   "metadata": {},
   "outputs": [],
   "source": [
    "from sklearn.model_selection import train_test_split, cross_val_score\n",
    "from sklearn.cluster import KMeans"
   ]
  },
  {
   "cell_type": "code",
   "execution_count": null,
   "id": "05a76c1a",
   "metadata": {},
   "outputs": [],
   "source": [
    "from pyclustertend import hopkins\n",
    "hopkins(scaler.transform(x_train[f]), x_train[f].shape[0])"
   ]
  },
  {
   "cell_type": "code",
   "execution_count": null,
   "id": "14a0589f",
   "metadata": {},
   "outputs": [],
   "source": [
    "# Corro el algoritmo con K entre 2 y 12 y voy guardando el error para luego graficarlo.\n",
    "sse = []\n",
    "list_k = list(range(1, 12))\n",
    "\n",
    "for k in list_k:\n",
    "    km = KMeans(n_clusters=k)\n",
    "    km.fit(scaler.transform(x_train[f]))\n",
    "    sse.append(km.inertia_)\n",
    "\n",
    "# Grafico el SSE por K\n",
    "plt.figure(figsize=(6, 6))\n",
    "plt.plot(list_k, sse, '-o')\n",
    "plt.xlabel(r'Cantidad de clusters')\n",
    "plt.ylabel('SSE')\n",
    "plt.show()"
   ]
  },
  {
   "cell_type": "code",
   "execution_count": null,
   "id": "d5b59c17",
   "metadata": {},
   "outputs": [],
   "source": [
    "# Codigo"
   ]
  },
  {
   "cell_type": "markdown",
   "id": "710dbb4b",
   "metadata": {
    "id": "fHgtvAnENcec"
   },
   "source": [
    "### **3. Clasificación**"
   ]
  },
  {
   "cell_type": "markdown",
   "id": "c60ec876",
   "metadata": {
    "id": "DzErbCVNVBQ1"
   },
   "source": [
    "**a) Construcción del target**\n",
    "\n",
    "Para esta tarea se debe crear una nueva variable ***tipo_precio*** que tendrá tres categorías:\n",
    "**alto**, **medio**, **bajo**. Esta nueva variable será nuestra clase en el problema de clasificación.\n",
    "Para determinar cuándo el tipo_precio de una propiedad es alto, medio o bajo se deberá\n",
    "analizar el precio por metro cuadrado (pxm2). Se propone evaluar las siguientes\n",
    "alternativas para establecer los límites de cada categoría:\n",
    "\n",
    "1. Dividir la variable *pxm2* en 3 intervalos con igual cantidad de observaciones.\n",
    "2. Dividir la variable pxm2 en 3 intervalos, el primero con el 25% de las observaciones,\n",
    "el siguiente con el 50% y el último con el 25% de las observaciones restantes.\n",
    "3. Trabajar la variable pxm2 relativa a cada tipo de propiedad y luego dividirla como en\n",
    "el punto anterior.\n",
    "\n",
    "Se pide:\n",
    "* Mostrar la distribución del precio por metro cuadrado\n",
    "* Mostrar la distribución del precio por metro cuadrado por tipo de propiedad\n",
    "* Para cada una de las tres alternativas mostrar gráficamente la distribución de la\n",
    "nueva variable creada *tipo_precio*.\n",
    "* Seleccionar una de las alternativas, justificando la misma.\n",
    "* Comparar, si aplica, la alternativa seleccionada con la división en 3 grupos obtenida\n",
    "utilizando agrupamiento por K Means.\n",
    "* Mostrar en un mapa de CABA los avisos coloreados por *tipo_precio*"
   ]
  },
  {
   "cell_type": "code",
   "execution_count": null,
   "id": "06e91a7e",
   "metadata": {},
   "outputs": [],
   "source": [
    "# Codigo"
   ]
  },
  {
   "cell_type": "code",
   "execution_count": null,
   "id": "85b26025",
   "metadata": {},
   "outputs": [],
   "source": [
    "# Codigo"
   ]
  },
  {
   "cell_type": "code",
   "execution_count": null,
   "id": "be6ba323",
   "metadata": {},
   "outputs": [],
   "source": [
    "# Codigo"
   ]
  },
  {
   "cell_type": "code",
   "execution_count": null,
   "id": "891580fc",
   "metadata": {},
   "outputs": [],
   "source": [
    "# Codigo"
   ]
  },
  {
   "cell_type": "markdown",
   "id": "c1656284",
   "metadata": {
    "id": "DzErbCVNVBQ1"
   },
   "source": [
    "**b) Entrenamiento y Predicción**\n",
    "\n",
    "Predecir el valor del atributo **tipo_precio**, excluyendo del entrenamiento la variable price,\n",
    "**pxm2** y cualquier otra que pueda contener información del precio de venta. Para todos los\n",
    "modelos se pide:\n",
    "* Realizar las tareas de ingeniería de características necesarias para trabajar con\n",
    "cada algoritmo (*encoding*, normalización, etc)\n",
    "* Todos los modelos deben ser entrenados también con el *dataset* generado en el\n",
    "punto **1 d)**\n"
   ]
  },
  {
   "cell_type": "markdown",
   "id": "996adf99",
   "metadata": {
    "id": "DzErbCVNVBQ1"
   },
   "source": [
    "**Modelo 1 : Árbol de decisión**\n",
    "\n",
    "a. Construir un árbol de decisión y optimizar sus hiperparámetros mediante *k-fold\n",
    "Cross Validation* para obtener la mejor performance. ¿Cuántos *folds* utilizaron?\n",
    "¿Qué métrica consideran adecuada para buscar los parámetros?\n",
    "\n",
    "b. Graficar el árbol de decisión con mejor performance encontrado en el punto\n",
    "anterior. Si es muy extenso mostrar una porción representativa.\n",
    "\n",
    "c. Analizar el árbol de decisión seleccionado describiendo los atributos elegidos, y\n",
    "decisiones evaluadas (explicar las primeras reglas obtenidas).\n",
    "\n",
    "d. Evaluar la performance del árbol en el conjunto de evaluación, explicar todas las\n",
    "métricas y mostrar la matriz de confusión. Comparar con la performance de\n",
    "entrenamiento.\n"
   ]
  },
  {
   "cell_type": "code",
   "execution_count": null,
   "id": "ebba2918",
   "metadata": {},
   "outputs": [],
   "source": [
    "# Codigo"
   ]
  },
  {
   "cell_type": "code",
   "execution_count": null,
   "id": "4463faf5",
   "metadata": {},
   "outputs": [],
   "source": [
    "# Codigo"
   ]
  },
  {
   "cell_type": "code",
   "execution_count": null,
   "id": "b60d7a28",
   "metadata": {},
   "outputs": [],
   "source": [
    "# Codigo"
   ]
  },
  {
   "cell_type": "code",
   "execution_count": null,
   "id": "e1488ead",
   "metadata": {},
   "outputs": [],
   "source": [
    "# Codigo"
   ]
  },
  {
   "cell_type": "markdown",
   "id": "c0b112fa",
   "metadata": {
    "id": "DzErbCVNVBQ1"
   },
   "source": [
    "**Modelo 2: Random Forest**\n",
    "\n",
    "a. Construir un clasificador RF y optimizar sus hiperparámetros mediante *k-fold\n",
    "Cross Validation* para obtener la mejor performance. ¿Cuántos *folds* utilizaron?\n",
    "¿Qué métrica consideran adecuada para buscar los parámetros?\n",
    "\n",
    "b. Analizar la importancia de los atributos\n",
    "\n",
    "c. Mostrar la conformación final de uno de los árboles generados. Si es muy\n",
    "extenso mostrar una porción representativa y explicar las primeras reglas.\n",
    "\n",
    "d. Evaluar la performance del modelo en el conjunto de evaluación, explicar todas\n",
    "las métricas y mostrar la matriz de confusión. Comparar con la performance de\n",
    "entrenamiento.\n"
   ]
  },
  {
   "cell_type": "code",
   "execution_count": null,
   "id": "aae87985",
   "metadata": {},
   "outputs": [],
   "source": [
    "# Codigo"
   ]
  },
  {
   "cell_type": "code",
   "execution_count": null,
   "id": "c0df95af",
   "metadata": {},
   "outputs": [],
   "source": [
    "# Codigo"
   ]
  },
  {
   "cell_type": "code",
   "execution_count": null,
   "id": "7117ea9b",
   "metadata": {},
   "outputs": [],
   "source": [
    "# Codigo"
   ]
  },
  {
   "cell_type": "code",
   "execution_count": null,
   "id": "84dd4738",
   "metadata": {},
   "outputs": [],
   "source": [
    "# Codigo"
   ]
  },
  {
   "cell_type": "markdown",
   "id": "62bf92d9",
   "metadata": {
    "id": "DzErbCVNVBQ1"
   },
   "source": [
    "**Modelo 3: a elección**\n",
    "\n",
    "a. En este punto se debe entrenar (mediante cross-validation) un modelo elegido\n",
    "por el grupo. Se debe evaluar su performance en entrenamiento y sobre el\n",
    "conjunto de evaluación, explicar todas las métricas y mostrar la matriz de\n",
    "confusión."
   ]
  },
  {
   "cell_type": "code",
   "execution_count": null,
   "id": "0d421ef6",
   "metadata": {},
   "outputs": [],
   "source": [
    "# Codigo"
   ]
  },
  {
   "cell_type": "code",
   "execution_count": null,
   "id": "bd1f04af",
   "metadata": {},
   "outputs": [],
   "source": [
    "# Codigo"
   ]
  },
  {
   "cell_type": "code",
   "execution_count": null,
   "id": "27bb4ede",
   "metadata": {},
   "outputs": [],
   "source": [
    "# Codigo"
   ]
  },
  {
   "cell_type": "code",
   "execution_count": null,
   "id": "030c1e52",
   "metadata": {},
   "outputs": [],
   "source": [
    "# Codigo"
   ]
  },
  {
   "cell_type": "markdown",
   "id": "4f49a85b",
   "metadata": {
    "id": "DzErbCVNVBQ1"
   },
   "source": [
    "¿Qué modelo elegirían para clasificar el tipo de precio de las propiedades?\n",
    "\n",
    "R:"
   ]
  }
 ],
 "metadata": {
  "kernelspec": {
   "display_name": "Python 3 (ipykernel)",
   "language": "python",
   "name": "python3"
  },
  "language_info": {
   "codemirror_mode": {
    "name": "ipython",
    "version": 3
   },
   "file_extension": ".py",
   "mimetype": "text/x-python",
   "name": "python",
   "nbconvert_exporter": "python",
   "pygments_lexer": "ipython3",
   "version": "3.9.12"
  },
  "vscode": {
   "interpreter": {
    "hash": "31f2aee4e71d21fbe5cf8b01ff0e069b9275f58929596ceb00d14d90e3e16cd6"
   }
  }
 },
 "nbformat": 4,
 "nbformat_minor": 5
}
