{
 "cells": [
  {
   "cell_type": "markdown",
   "id": "fe2f4708-1480-487a-8ede-6f5606447202",
   "metadata": {},
   "source": [
    "# <center>Organizaci&oacute;n de Datos</center>\n",
    "#### <center>C&aacute;tedra Ing. Rodriguez, Juan Manuel </center>\n",
    "\n",
    "## <center>Trabajo Práctico 1:</center>\n",
    "### <center>  Propiedades en Venta</center>\n",
    "### <center>  Grupo 18</center>\n",
    "\n",
    "\n",
    "#### **Integrantes:**\n",
    "\n",
    "* Analía Acevedo\n",
    "* Santiago Daniel Marczewski Neudeck\n",
    "* Lucia Belén Napoli\n",
    "* Brayan Ricaldi"
   ]
  },
  {
   "cell_type": "code",
   "execution_count": 1,
   "id": "2d74b18d-3e0c-401d-830d-0f2badfcd6c7",
   "metadata": {},
   "outputs": [],
   "source": [
    "import pandas as pd\n",
    "import matplotlib.pyplot as plt\n",
    "import seaborn as sns\n",
    "import numpy as np\n",
    "\n",
    "import sklearn.preprocessing as skp\n",
    "from sklearn.preprocessing import StandardScaler\n",
    "from sklearn.preprocessing import MinMaxScaler\n",
    "\n",
    "\n",
    "from sklearn.metrics import mean_squared_error\n",
    "from sklearn.neighbors import KNeighborsRegressor\n",
    "from sklearn.decomposition import PCA\n",
    "from sklearn.model_selection import train_test_split\n",
    "from sklearn.cluster import KMeans\n",
    "from sklearn.metrics import silhouette_score\n",
    "from sklearn.feature_extraction import FeatureHasher\n",
    "from sklearn.feature_selection import VarianceThreshold\n",
    "from sklearn.impute import KNNImputer, SimpleImputer\n",
    "from sklearn.linear_model import LinearRegression\n",
    "from sklearn.preprocessing import (\n",
    "    KBinsDiscretizer,\n",
    "    LabelEncoder,\n",
    "    MinMaxScaler,\n",
    "    Normalizer,\n",
    "    OneHotEncoder,\n",
    "    OrdinalEncoder,\n",
    "    PowerTransformer,\n",
    "    RobustScaler,\n",
    "    StandardScaler,\n",
    ")\n",
    "\n",
    "import warnings\n",
    "\n",
    "warnings.simplefilter(action=\"ignore\", category=FutureWarning)\n",
    "from preprocessing import preprocesamiento\n",
    "\n",
    "from sklearn.model_selection import RandomizedSearchCV\n",
    "from joblib import dump, load\n",
    "\n",
    "pd.options.display.max_columns = None"
   ]
  },
  {
   "cell_type": "markdown",
   "id": "2b2e4080-6167-4376-bff1-cb815c0d1375",
   "metadata": {},
   "source": [
    "Descargo los datos para el modelo 1"
   ]
  },
  {
   "cell_type": "code",
   "execution_count": 2,
   "id": "702ccab5-dedd-4369-89a4-e90f0b3ef6d3",
   "metadata": {},
   "outputs": [],
   "source": [
    "_x_train_model1 = pd.read_csv('./DataSet/x_train')\n",
    "_x_train_model1.drop(columns=['Unnamed: 0'],inplace=True)\n",
    "_y_train_model1 = pd.read_csv('./DataSet/y_train')\n",
    "_y_train_model1.drop(columns=['Unnamed: 0'],inplace=True)\n",
    "_x_test_model1 = pd.read_csv('./DataSet/x_test')\n",
    "_x_test_model1.drop(columns=['Unnamed: 0'],inplace=True)\n",
    "_y_test_model1 = pd.read_csv('./DataSet/y_test')\n",
    "_y_test_model1.drop(columns=['Unnamed: 0'],inplace=True)\n",
    "_y_train_model1.rename(columns={'0':'pxm2'}, inplace=True)\n",
    "_y_test_model1.rename(columns={'0':'pxm2'}, inplace=True)"
   ]
  },
  {
   "cell_type": "markdown",
   "id": "4d85a1f0-c662-48f9-9959-dd9bf6eda496",
   "metadata": {},
   "source": [
    "Descargo los datos para el modelo 2(ZSCORE-PCA)"
   ]
  },
  {
   "cell_type": "code",
   "execution_count": 3,
   "id": "8a551c8d-52d8-4d68-bc86-ec1644fde19f",
   "metadata": {},
   "outputs": [],
   "source": [
    "_x_train_model2 = pd.read_csv('./DataSet-Modificados/ZSCORE-PCA/x_train')\n",
    "_x_train_model2.drop(columns=['Unnamed: 0'],inplace=True)\n",
    "_y_train_model2 = pd.read_csv('./DataSet-Modificados/ZSCORE-PCA/y_train')\n",
    "_y_train_model2.drop(columns=['Unnamed: 0'],inplace=True)\n",
    "_x_test_model2 = pd.read_csv('./DataSet-Modificados/ZSCORE-PCA/x_test')\n",
    "_x_test_model2.drop(columns=['Unnamed: 0'],inplace=True)\n",
    "_y_test_model2 = pd.read_csv('./DataSet-Modificados/ZSCORE-PCA/y_test')\n",
    "_y_test_model2.drop(columns=['Unnamed: 0'],inplace=True)\n",
    "_y_train_model2.rename(columns={'0':'pxm2'}, inplace=True)\n",
    "_y_test_model2.rename(columns={'0':'pxm2'}, inplace=True)"
   ]
  },
  {
   "cell_type": "markdown",
   "id": "203ff0b7-5565-4eea-8d0b-7895a9f91cf2",
   "metadata": {},
   "source": [
    "### **4. Regresión**\n",
    "\n",
    "En esta etapa se busca predecir el precio de la propiedad utilizando dos modelos diferentes.\n",
    "Para todos los modelos se pide:\n",
    "\n",
    "* Realizar las tareas de ingeniería de características necesarias para trabajar con\n",
    "cada algoritmo (encoding, normalización, etc)\n",
    "* Todos los modelos deben ser entrenados también con el dataset generado en el\n",
    "punto **1 d)**"
   ]
  },
  {
   "cell_type": "markdown",
   "id": "3854c52f-b82a-41a3-8857-56a49ebcfab5",
   "metadata": {},
   "source": [
    "## Modelo 1: KNN\n",
    "\n",
    "a. Construir un modelo [KNN](https://scikit-learn.org/stable/modules/generated/sklearn.neighbors.KNeighborsRegressor.html#sklearn.neighbors.KNeighborsRegressor) para regresión y optimizar sus hiperparámetros\n",
    "mediante *k-fold Cross Validation* para obtener la mejor performance .¿Cuántos\n",
    "*folds* utilizaron? ¿Qué métrica consideran adecuada para buscar los parámetros?\n",
    "\n",
    "b. Evaluar la performance del modelo en el conjunto de evaluación, explicar todas\n",
    "las métricas. Comparar con la performance de entrenamiento."
   ]
  },
  {
   "cell_type": "markdown",
   "id": "c0a1ede4-1510-4950-9ae4-c736aa8d1b4f",
   "metadata": {},
   "source": [
    "### 1er modelo"
   ]
  },
  {
   "cell_type": "code",
   "execution_count": 4,
   "id": "77f31bae-e6ee-4d6f-a13e-5768896851ec",
   "metadata": {},
   "outputs": [],
   "source": [
    "#Ejecutare mis modelos con una copia\n",
    "x_train = _x_train_model1.copy()\n",
    "y_train = _y_train_model1.copy()\n",
    "x_test = _x_test_model1.copy()\n",
    "y_test = _y_test_model1.copy()"
   ]
  },
  {
   "cell_type": "markdown",
   "id": "c67316d6-40d3-4894-ad4d-2005fc70049a",
   "metadata": {},
   "source": [
    "Normalizo con min-max"
   ]
  },
  {
   "cell_type": "code",
   "execution_count": 5,
   "id": "e71da352-6a09-4297-af42-8cbb620c5bb8",
   "metadata": {},
   "outputs": [],
   "source": [
    "scaler = MinMaxScaler()\n",
    "x_train = scaler.fit_transform(x_train)\n",
    "x_test = scaler.transform(x_test)"
   ]
  },
  {
   "cell_type": "markdown",
   "id": "fbffb6ad-6097-438f-895d-457335d6aa10",
   "metadata": {},
   "source": [
    "Busco los mejores parametros para KNN con respecto Root Mean Squared Error."
   ]
  },
  {
   "cell_type": "code",
   "execution_count": 6,
   "id": "9325f85e-889b-49cb-87fe-50765768b001",
   "metadata": {},
   "outputs": [
    {
     "data": {
      "text/plain": [
       "RandomizedSearchCV(cv=5, estimator=KNeighborsRegressor(),\n",
       "                   param_distributions={'algorithm': ['ball_tree', 'kd_tree',\n",
       "                                                      'brute'],\n",
       "                                        'metric': ['euclidean', 'manhattan',\n",
       "                                                   'chebyshev'],\n",
       "                                        'n_neighbors': range(5, 25),\n",
       "                                        'weights': ['distance', 'uniform']},\n",
       "                   random_state=5, scoring='neg_root_mean_squared_error')"
      ]
     },
     "execution_count": 6,
     "metadata": {},
     "output_type": "execute_result"
    }
   ],
   "source": [
    "#Grilla de Parámetros\n",
    "params_grid={ 'n_neighbors':range(5,25), \n",
    "              'weights':['distance','uniform'],\n",
    "              'algorithm':['ball_tree', 'kd_tree', 'brute'],\n",
    "              'metric':['euclidean','manhattan','chebyshev']\n",
    "             }\n",
    "\n",
    "#Clasificador KNN\n",
    "knn=KNeighborsRegressor()\n",
    "\n",
    "#Random Search con 10 Folds y 10 iteraciones\n",
    "rand_knn_model1 = RandomizedSearchCV(knn, params_grid, scoring='neg_root_mean_squared_error', cv=5, n_iter=10, random_state=5)\n",
    "\n",
    "rand_knn_model1.fit(x_train, y_train)"
   ]
  },
  {
   "cell_type": "code",
   "execution_count": 7,
   "id": "47b63435-a393-4c91-8380-ec16d20a707b",
   "metadata": {},
   "outputs": [
    {
     "data": {
      "text/plain": [
       "KNeighborsRegressor(algorithm='brute', metric='chebyshev', n_neighbors=23)"
      ]
     },
     "execution_count": 7,
     "metadata": {},
     "output_type": "execute_result"
    }
   ],
   "source": [
    "rand_knn_model1.best_estimator_"
   ]
  },
  {
   "cell_type": "code",
   "execution_count": 8,
   "id": "ebb5d24d-8f7a-4370-9b0f-85a9203cc48c",
   "metadata": {},
   "outputs": [
    {
     "name": "stdout",
     "output_type": "stream",
     "text": [
      "Observamos que los parametros que performaron mejor son: KNeighborsRegressor(algorithm='brute', metric='chebyshev', n_neighbors=23)\n"
     ]
    }
   ],
   "source": [
    "print(f\"Observamos que los parametros que performaron mejor son: {rand_knn_model1.best_estimator_}\")"
   ]
  },
  {
   "cell_type": "code",
   "execution_count": 9,
   "id": "73cb8286-1d31-44e7-a3a6-81c4656d23fc",
   "metadata": {},
   "outputs": [
    {
     "name": "stdout",
     "output_type": "stream",
     "text": [
      "Y el error mas bajo fue: -1223.8241565096353\n"
     ]
    }
   ],
   "source": [
    "print(f\"Y el error mas bajo fue: {rand_knn_model1.best_score_}\")"
   ]
  },
  {
   "cell_type": "markdown",
   "id": "f0c74987-3f49-4722-ac5b-6c078477662d",
   "metadata": {},
   "source": [
    "Ahora veamos como nos anda en test"
   ]
  },
  {
   "cell_type": "code",
   "execution_count": 10,
   "id": "fdc843d0-ff58-40ea-895c-b0d19ccf9d72",
   "metadata": {},
   "outputs": [
    {
     "data": {
      "text/plain": [
       "1217.401032628558"
      ]
     },
     "execution_count": 10,
     "metadata": {},
     "output_type": "execute_result"
    }
   ],
   "source": [
    "#Mejor estimador\n",
    "best_knn=rand_knn_model1.best_estimator_\n",
    "\n",
    "#Predicción con mejor estimador\n",
    "y_pred=best_knn.predict(x_test)\n",
    "\n",
    "#RootMean Squared Error\n",
    "mean_squared_error(y_test, y_pred, squared=False)"
   ]
  },
  {
   "cell_type": "code",
   "execution_count": 29,
   "id": "d97e5652-49f4-483e-adf3-ab2fb39d074e",
   "metadata": {},
   "outputs": [
    {
     "data": {
      "text/plain": [
       "KNeighborsRegressor(algorithm='brute', metric='chebyshev', n_neighbors=23)"
      ]
     },
     "execution_count": 29,
     "metadata": {},
     "output_type": "execute_result"
    }
   ],
   "source": [
    "rand_knn_model1.best_estimator_"
   ]
  },
  {
   "cell_type": "markdown",
   "id": "adc954a0-2c6d-47ff-a570-85eb94fcc031",
   "metadata": {},
   "source": [
    "Lo guardamos"
   ]
  },
  {
   "cell_type": "code",
   "execution_count": 33,
   "id": "f8c40432-d0f2-4904-ad24-948a0dc3af24",
   "metadata": {},
   "outputs": [
    {
     "data": {
      "text/plain": [
       "['./Modelos/KNN-model1.joblib']"
      ]
     },
     "execution_count": 33,
     "metadata": {},
     "output_type": "execute_result"
    }
   ],
   "source": [
    "dump(rand_knn_model1.best_estimator_, './Modelos/KNN-model1.joblib') "
   ]
  },
  {
   "cell_type": "markdown",
   "id": "8ece625a-8a5c-4aa3-950f-84a3c764f47b",
   "metadata": {},
   "source": [
    "No se observa una gran diferencia entre el score del train con el del test.\n",
    "Al parecer el modelo no esta haciendo overfitting y creemos que es un buen resultado."
   ]
  },
  {
   "cell_type": "markdown",
   "id": "20229738-3ca4-4fe8-a9a7-87f68efa4748",
   "metadata": {},
   "source": [
    "### 2do modelo"
   ]
  },
  {
   "cell_type": "code",
   "execution_count": 11,
   "id": "9470c527-52d8-455a-bca8-62a936f0982a",
   "metadata": {},
   "outputs": [],
   "source": [
    "#Ejecutare_estimator_are mis modelos con una copia\n",
    "x_train = _x_train_model2.copy()\n",
    "y_train = _y_train_model2.copy()\n",
    "x_test = _x_test_model2.copy()\n",
    "y_test = _y_test_model2.copy()"
   ]
  },
  {
   "cell_type": "markdown",
   "id": "f7586dd9-c834-40d0-9e01-a0b1f0b63ae8",
   "metadata": {},
   "source": [
    "Busco los mejores parametros para KNN con respecto Root Mean Squared Error."
   ]
  },
  {
   "cell_type": "code",
   "execution_count": 12,
   "id": "d0ba4a40-efe6-43fb-8c5c-f7d7a91e8963",
   "metadata": {},
   "outputs": [
    {
     "data": {
      "text/plain": [
       "RandomizedSearchCV(cv=5, estimator=KNeighborsRegressor(),\n",
       "                   param_distributions={'algorithm': ['ball_tree', 'kd_tree',\n",
       "                                                      'brute'],\n",
       "                                        'metric': ['euclidean', 'manhattan',\n",
       "                                                   'chebyshev'],\n",
       "                                        'n_neighbors': range(5, 25),\n",
       "                                        'weights': ['distance', 'uniform']},\n",
       "                   random_state=5, scoring='neg_root_mean_squared_error')"
      ]
     },
     "execution_count": 12,
     "metadata": {},
     "output_type": "execute_result"
    }
   ],
   "source": [
    "#Grilla de Parámetros\n",
    "params_grid={ 'n_neighbors':range(5,25), \n",
    "              'weights':['distance','uniform'],\n",
    "              'algorithm':['ball_tree', 'kd_tree', 'brute'],\n",
    "              'metric':['euclidean','manhattan','chebyshev']\n",
    "             }\n",
    "\n",
    "#Clasificador KNN\n",
    "knn=KNeighborsRegressor()\n",
    "\n",
    "#Random Search con 10 Folds y 10 iteraciones\n",
    "rand_knn_model2 = RandomizedSearchCV(knn, params_grid, scoring='neg_root_mean_squared_error', cv=5, n_iter=10, random_state=5)\n",
    "\n",
    "rand_knn_model2.fit(x_train, y_train)"
   ]
  },
  {
   "cell_type": "code",
   "execution_count": 13,
   "id": "75476d8b-3121-4cec-b962-fc65121eca41",
   "metadata": {},
   "outputs": [
    {
     "name": "stdout",
     "output_type": "stream",
     "text": [
      "Observamos que los parametros que performaron mejor son: KNeighborsRegressor(algorithm='brute', metric='chebyshev', n_neighbors=23)\n"
     ]
    }
   ],
   "source": [
    "print(f\"Observamos que los parametros que performaron mejor son: {rand_knn_model2.best_estimator_}\")"
   ]
  },
  {
   "cell_type": "code",
   "execution_count": 14,
   "id": "5aa7ef8c-5ac0-4883-9b96-5e2632a43ad0",
   "metadata": {},
   "outputs": [
    {
     "name": "stdout",
     "output_type": "stream",
     "text": [
      "Y el error mas bajo fue: -1239.339511601893\n"
     ]
    }
   ],
   "source": [
    "print(f\"Y el error mas bajo fue: {rand_knn_model2.best_score_}\")"
   ]
  },
  {
   "cell_type": "markdown",
   "id": "d771bbc5-9f64-4cae-ac98-8d22261c6796",
   "metadata": {},
   "source": [
    "Ahora veamos como nos anda en test"
   ]
  },
  {
   "cell_type": "code",
   "execution_count": 15,
   "id": "6acde4d6-0c60-463c-a057-a9a7086347f7",
   "metadata": {},
   "outputs": [
    {
     "data": {
      "text/plain": [
       "718.1341916561961"
      ]
     },
     "execution_count": 15,
     "metadata": {},
     "output_type": "execute_result"
    }
   ],
   "source": [
    "#Mejor estimador\n",
    "best_knn=rand_knn_model2.best_estimator_\n",
    "\n",
    "#Predicción con mejor estimador\n",
    "y_pred=best_knn.predict(x_test)\n",
    "\n",
    "#RootMean Squared Error\n",
    "mean_squared_error(y_test, y_pred, squared=False)"
   ]
  },
  {
   "cell_type": "markdown",
   "id": "c9dd045c-894b-4c90-aef0-b3a350382312",
   "metadata": {},
   "source": [
    "Se observa una gran diferencia entre el score del train con el del test, es casi la mitad."
   ]
  },
  {
   "cell_type": "markdown",
   "id": "51bc650a-7172-4843-911d-c8802f5a36ae",
   "metadata": {},
   "source": [
    "Lo guardamos"
   ]
  },
  {
   "cell_type": "code",
   "execution_count": 34,
   "id": "1d8f1eee-edb7-4f1a-8331-e174b5ec7e5b",
   "metadata": {},
   "outputs": [
    {
     "data": {
      "text/plain": [
       "['./Modelos/KNN-model2.joblib']"
      ]
     },
     "execution_count": 34,
     "metadata": {},
     "output_type": "execute_result"
    }
   ],
   "source": [
    "dump(rand_knn_model2.best_estimator_, './Modelos/KNN-model2.joblib') "
   ]
  },
  {
   "cell_type": "markdown",
   "id": "1e8ad1eb-068b-4dfc-9e70-051938abdecf",
   "metadata": {},
   "source": [
    "## Modelo 2: XGBoost\n",
    "\n",
    "a. Construir un modelo **XGBoost** y optimizar sus hiperparámetros mediante *k-fold\n",
    "Cross Validation* para obtener la mejor performance. ¿Cuántos *folds* utilizaron?\n",
    "¿Qué métrica consideran adecuada para buscar los parámetros?\n",
    "\n",
    "b. Evaluar la performance del modelo en el conjunto de evaluación, explicar todas\n",
    "las métricas. Comparar con la performance de entrenamiento."
   ]
  },
  {
   "cell_type": "code",
   "execution_count": 16,
   "id": "7f6d4b43-00b1-4514-ad98-bc2a077aab2e",
   "metadata": {},
   "outputs": [],
   "source": [
    "import xgboost as xgb"
   ]
  },
  {
   "cell_type": "markdown",
   "id": "815310cb-ce78-43e8-bb39-a5f10d86b48b",
   "metadata": {},
   "source": [
    "### 1er modelo"
   ]
  },
  {
   "cell_type": "code",
   "execution_count": 17,
   "id": "f819970e-9f70-4c73-8356-c656353f1a05",
   "metadata": {},
   "outputs": [],
   "source": [
    "#Ejecutare mis modelos con una copia\n",
    "x_train = _x_train_model1.copy()\n",
    "y_train = _y_train_model1.copy()\n",
    "x_test = _x_test_model1.copy()\n",
    "y_test = _y_test_model1.copy()"
   ]
  },
  {
   "cell_type": "markdown",
   "id": "674aff3d-f0bd-4d52-b2a8-84cd4f1cdfbb",
   "metadata": {},
   "source": [
    "Normalizo con ZScore"
   ]
  },
  {
   "cell_type": "code",
   "execution_count": 18,
   "id": "dbeecf17-b97b-4c1e-9f8a-50ef8da39dbf",
   "metadata": {},
   "outputs": [],
   "source": [
    "scaler = StandardScaler()\n",
    "x_train = scaler.fit_transform(x_train)\n",
    "x_test = scaler.transform(x_test)"
   ]
  },
  {
   "cell_type": "code",
   "execution_count": 19,
   "id": "d1d6e233-8702-4623-b472-0a637620218f",
   "metadata": {},
   "outputs": [
    {
     "data": {
      "text/plain": [
       "RandomizedSearchCV(cv=5,\n",
       "                   estimator=XGBRegressor(base_score=None, booster=None,\n",
       "                                          colsample_bylevel=None,\n",
       "                                          colsample_bynode=None,\n",
       "                                          colsample_bytree=None,\n",
       "                                          enable_categorical=False, gamma=None,\n",
       "                                          gpu_id=None, importance_type=None,\n",
       "                                          interaction_constraints=None,\n",
       "                                          learning_rate=None,\n",
       "                                          max_delta_step=None, max_depth=None,\n",
       "                                          min_child_weight=None, missing=nan,\n",
       "                                          monotone_constraints=...\n",
       "                                          predictor=None, random_state=0,\n",
       "                                          reg_alpha=None, reg_lambda=None,\n",
       "                                          scale_pos_weight=None, subsample=None,\n",
       "                                          tree_method=None,\n",
       "                                          validate_parameters=None,\n",
       "                                          verbosity=None),\n",
       "                   n_iter=8,\n",
       "                   param_distributions={'learning_rate': [0.05, 0.1, 0.15, 0.2],\n",
       "                                        'max_depth': [2, 3, 5, 10, 15],\n",
       "                                        'min_child_weight': [1, 2, 3, 4],\n",
       "                                        'n_estimators': [100, 500, 900, 1100,\n",
       "                                                         1500]},\n",
       "                   random_state=5, scoring='neg_root_mean_squared_error')"
      ]
     },
     "execution_count": 19,
     "metadata": {},
     "output_type": "execute_result"
    }
   ],
   "source": [
    "#Grilla de Parámetros\n",
    "params_grid={\n",
    "    'n_estimators': [100, 500, 900, 1100, 1500],\n",
    "    'max_depth': [2, 3, 5, 10, 15],\n",
    "    'learning_rate': [0.05, 0.1, 0.15, 0.20],\n",
    "    'min_child_weight': [1, 2, 3, 4]\n",
    "    }\n",
    "\n",
    "#Clasificador XGBRegressor\n",
    "xgbr = xgb.XGBRegressor(random_state = 0)\n",
    "\n",
    "#Random Search con 5 Folds y 8 iteraciones\n",
    "rand_xgboost_model1 = RandomizedSearchCV(xgbr, params_grid, scoring='neg_root_mean_squared_error', cv=5, n_iter=8, random_state=5)\n",
    "\n",
    "rand_xgboost_model1.fit(x_train, y_train)"
   ]
  },
  {
   "cell_type": "code",
   "execution_count": 20,
   "id": "506367f9-2c9e-4698-b514-52a42fc39292",
   "metadata": {},
   "outputs": [
    {
     "name": "stdout",
     "output_type": "stream",
     "text": [
      "Observamos que los parametros que performaron mejor son: XGBRegressor(base_score=0.5, booster='gbtree', colsample_bylevel=1,\n",
      "             colsample_bynode=1, colsample_bytree=1, enable_categorical=False,\n",
      "             gamma=0, gpu_id=-1, importance_type=None,\n",
      "             interaction_constraints='', learning_rate=0.05, max_delta_step=0,\n",
      "             max_depth=5, min_child_weight=3, missing=nan,\n",
      "             monotone_constraints='()', n_estimators=100, n_jobs=8,\n",
      "             num_parallel_tree=1, predictor='auto', random_state=0, reg_alpha=0,\n",
      "             reg_lambda=1, scale_pos_weight=1, subsample=1, tree_method='exact',\n",
      "             validate_parameters=1, verbosity=None)\n"
     ]
    }
   ],
   "source": [
    "print(f\"Observamos que los parametros que performaron mejor son: {rand_xgboost_model1.best_estimator_}\")"
   ]
  },
  {
   "cell_type": "code",
   "execution_count": 21,
   "id": "e24a1327-3a36-4e50-90d3-8a04f81e2d05",
   "metadata": {},
   "outputs": [
    {
     "name": "stdout",
     "output_type": "stream",
     "text": [
      "Y el error mas bajo fue: -1233.6146529699324\n"
     ]
    }
   ],
   "source": [
    "print(f\"Y el error mas bajo fue: {rand_xgboost_model1.best_score_}\")"
   ]
  },
  {
   "cell_type": "markdown",
   "id": "781477bc-8592-48e5-bd4e-cbfc295e13db",
   "metadata": {},
   "source": [
    "Ahora veamos como nos anda en test"
   ]
  },
  {
   "cell_type": "code",
   "execution_count": 22,
   "id": "9a750a75-81ac-4533-9d0f-59d681ec7815",
   "metadata": {},
   "outputs": [
    {
     "data": {
      "text/plain": [
       "906.6026978535414"
      ]
     },
     "execution_count": 22,
     "metadata": {},
     "output_type": "execute_result"
    }
   ],
   "source": [
    "#Mejor estimador\n",
    "best_xgbr=rand_xgboost_model1.best_estimator_\n",
    "\n",
    "#Predicción con mejor estimador\n",
    "y_pred=best_xgbr.predict(x_test)\n",
    "\n",
    "#RootMean Squared Error\n",
    "mean_squared_error(y_test, y_pred, squared=False)"
   ]
  },
  {
   "cell_type": "markdown",
   "id": "b923307e-7a15-477c-8e4c-7b849c7102ee",
   "metadata": {},
   "source": [
    "Observamos un score bajo en el test, al parecer el modelo funciona correctamente con nuevos datos"
   ]
  },
  {
   "cell_type": "markdown",
   "id": "59dbfabe-e8ca-445f-baeb-cd8ca669f530",
   "metadata": {},
   "source": [
    "Lo guardamos"
   ]
  },
  {
   "cell_type": "code",
   "execution_count": 35,
   "id": "26bab8b9-259f-47da-9f59-0052fac1d4d5",
   "metadata": {},
   "outputs": [
    {
     "data": {
      "text/plain": [
       "['./Modelos/XGBOOST-model1.joblib']"
      ]
     },
     "execution_count": 35,
     "metadata": {},
     "output_type": "execute_result"
    }
   ],
   "source": [
    "dump(rand_xgboost_model1.best_estimator_, './Modelos/XGBOOST-model1.joblib') "
   ]
  },
  {
   "cell_type": "markdown",
   "id": "33ca7eb8-87ca-4cbd-b5b7-2b33a09d1652",
   "metadata": {},
   "source": [
    "### 2do modelo"
   ]
  },
  {
   "cell_type": "code",
   "execution_count": 23,
   "id": "051b0116-e216-413a-85ab-c0dc59791056",
   "metadata": {},
   "outputs": [],
   "source": [
    "#Ejecutare_estimator_are mis modelos con una copia\n",
    "x_train = _x_train_model2.copy()\n",
    "y_train = _y_train_model2.copy()\n",
    "x_test = _x_test_model2.copy()\n",
    "y_test = _y_test_model2.copy()"
   ]
  },
  {
   "cell_type": "markdown",
   "id": "b5e68488-3e9b-4e39-baa9-3dfda7f72464",
   "metadata": {},
   "source": [
    "Busco los mejores parametros para XGBOOST con respecto Root Mean Squared Error."
   ]
  },
  {
   "cell_type": "code",
   "execution_count": 24,
   "id": "aa6024de-957a-4717-b38a-ff544419cf91",
   "metadata": {},
   "outputs": [
    {
     "data": {
      "text/plain": [
       "RandomizedSearchCV(cv=5,\n",
       "                   estimator=XGBRegressor(base_score=None, booster=None,\n",
       "                                          colsample_bylevel=None,\n",
       "                                          colsample_bynode=None,\n",
       "                                          colsample_bytree=None,\n",
       "                                          enable_categorical=False, gamma=None,\n",
       "                                          gpu_id=None, importance_type=None,\n",
       "                                          interaction_constraints=None,\n",
       "                                          learning_rate=None,\n",
       "                                          max_delta_step=None, max_depth=None,\n",
       "                                          min_child_weight=None, missing=nan,\n",
       "                                          monotone_constraints=...\n",
       "                                          predictor=None, random_state=0,\n",
       "                                          reg_alpha=None, reg_lambda=None,\n",
       "                                          scale_pos_weight=None, subsample=None,\n",
       "                                          tree_method=None,\n",
       "                                          validate_parameters=None,\n",
       "                                          verbosity=None),\n",
       "                   n_iter=8,\n",
       "                   param_distributions={'learning_rate': [0.05, 0.1, 0.15, 0.2],\n",
       "                                        'max_depth': [2, 3, 5, 10, 15],\n",
       "                                        'min_child_weight': [1, 2, 3, 4],\n",
       "                                        'n_estimators': [100, 500, 900, 1100,\n",
       "                                                         1500]},\n",
       "                   random_state=5, scoring='neg_root_mean_squared_error')"
      ]
     },
     "execution_count": 24,
     "metadata": {},
     "output_type": "execute_result"
    }
   ],
   "source": [
    "#Grilla de Parámetros\n",
    "params_grid={\n",
    "    'n_estimators': [100, 500, 900, 1100, 1500],\n",
    "    'max_depth': [2, 3, 5, 10, 15],\n",
    "    'learning_rate': [0.05, 0.1, 0.15, 0.20],\n",
    "    'min_child_weight': [1, 2, 3, 4]\n",
    "    }\n",
    "\n",
    "#Clasificador XGBRegressor\n",
    "xgbr = xgb.XGBRegressor(random_state = 0)\n",
    "\n",
    "#Random Search con 5 Folds y 8 iteraciones\n",
    "rand_xgboost_model2 = RandomizedSearchCV(xgbr, params_grid, scoring='neg_root_mean_squared_error', cv=5, n_iter=8, random_state=5)\n",
    "\n",
    "rand_xgboost_model2.fit(x_train, y_train)"
   ]
  },
  {
   "cell_type": "code",
   "execution_count": 25,
   "id": "49e870fe-4727-45b5-8312-10c07948ff6a",
   "metadata": {},
   "outputs": [
    {
     "name": "stdout",
     "output_type": "stream",
     "text": [
      "Observamos que los parametros que performaron mejor son: XGBRegressor(base_score=0.5, booster='gbtree', colsample_bylevel=1,\n",
      "             colsample_bynode=1, colsample_bytree=1, enable_categorical=False,\n",
      "             gamma=0, gpu_id=-1, importance_type=None,\n",
      "             interaction_constraints='', learning_rate=0.05, max_delta_step=0,\n",
      "             max_depth=5, min_child_weight=3, missing=nan,\n",
      "             monotone_constraints='()', n_estimators=100, n_jobs=8,\n",
      "             num_parallel_tree=1, predictor='auto', random_state=0, reg_alpha=0,\n",
      "             reg_lambda=1, scale_pos_weight=1, subsample=1, tree_method='exact',\n",
      "             validate_parameters=1, verbosity=None)\n"
     ]
    }
   ],
   "source": [
    "print(f\"Observamos que los parametros que performaron mejor son: {rand_xgboost_model2.best_estimator_}\")"
   ]
  },
  {
   "cell_type": "code",
   "execution_count": 26,
   "id": "52e897e5-68ad-41eb-b40a-e53bee096446",
   "metadata": {},
   "outputs": [
    {
     "name": "stdout",
     "output_type": "stream",
     "text": [
      "Y el error mas bajo fue: -1239.3398821556414\n"
     ]
    }
   ],
   "source": [
    "print(f\"Y el error mas bajo fue: {rand_xgboost_model2.best_score_}\")"
   ]
  },
  {
   "cell_type": "markdown",
   "id": "3c147840-e424-421c-b4fa-9ce66d589414",
   "metadata": {},
   "source": [
    "Ahora veamos como nos anda en test"
   ]
  },
  {
   "cell_type": "code",
   "execution_count": 27,
   "id": "c7d8ea64-c4e4-427d-aeff-29833241a5ef",
   "metadata": {},
   "outputs": [
    {
     "data": {
      "text/plain": [
       "641.5620151352072"
      ]
     },
     "execution_count": 27,
     "metadata": {},
     "output_type": "execute_result"
    }
   ],
   "source": [
    "#Mejor estimador\n",
    "best_xgbr=rand_xgboost_model2.best_estimator_\n",
    "\n",
    "#Predicción con mejor estimador\n",
    "y_pred=best_xgbr.predict(x_test)\n",
    "\n",
    "#RootMean Squared Error\n",
    "mean_squared_error(y_test, y_pred, squared=False)"
   ]
  },
  {
   "cell_type": "markdown",
   "id": "027a796b-d989-4d7d-abf1-01e2c276db09",
   "metadata": {},
   "source": [
    "Lo guardamos"
   ]
  },
  {
   "cell_type": "code",
   "execution_count": 36,
   "id": "6ba76e21-4594-47a7-af09-740b59a20fe0",
   "metadata": {},
   "outputs": [
    {
     "data": {
      "text/plain": [
       "['./Modelos/XGBOOST-model2.joblib']"
      ]
     },
     "execution_count": 36,
     "metadata": {},
     "output_type": "execute_result"
    }
   ],
   "source": [
    "dump(rand_xgboost_model2.best_estimator_, './Modelos/XGBOOST-model2.joblib') "
   ]
  },
  {
   "cell_type": "markdown",
   "id": "be692a97-ba28-4740-859a-dd98b8ce630d",
   "metadata": {},
   "source": [
    "## Modelo 3: Arbol de Regresion"
   ]
  },
  {
   "cell_type": "code",
   "execution_count": 4,
   "id": "9ad18340-1dad-4319-8e3d-64f9ebcbb066",
   "metadata": {},
   "outputs": [],
   "source": [
    "from sklearn.tree import DecisionTreeRegressor"
   ]
  },
  {
   "cell_type": "markdown",
   "id": "541555c2-8ff9-4a13-8634-d0524609f3ef",
   "metadata": {},
   "source": [
    "### 1er modelo"
   ]
  },
  {
   "cell_type": "code",
   "execution_count": 5,
   "id": "2dee7c10-1ca5-4bb9-b5ac-94635ade95c2",
   "metadata": {},
   "outputs": [],
   "source": [
    "#Ejecutare mis modelos con una copia\n",
    "x_train = _x_train_model1.copy()\n",
    "y_train = _y_train_model1.copy()\n",
    "x_test = _x_test_model1.copy()\n",
    "y_test = _y_test_model1.copy()"
   ]
  },
  {
   "cell_type": "markdown",
   "id": "52e2bb04-e679-47c1-83c0-12ec7c58485d",
   "metadata": {},
   "source": [
    "Normalizo con min-max"
   ]
  },
  {
   "cell_type": "code",
   "execution_count": 6,
   "id": "aa98c4c9-f881-442c-b626-00fc99365ddf",
   "metadata": {},
   "outputs": [],
   "source": [
    "scaler = MinMaxScaler()\n",
    "x_train = scaler.fit_transform(x_train)\n",
    "x_test = scaler.transform(x_test)"
   ]
  },
  {
   "cell_type": "markdown",
   "id": "dbfe66a0-3266-4298-b3db-5f3d0b386644",
   "metadata": {},
   "source": [
    "Busco los mejores parametros para mi Arbol de Regresion con respecto Root Mean Squared Error."
   ]
  },
  {
   "cell_type": "code",
   "execution_count": 8,
   "id": "8c205667-ce0e-4157-b2b0-e97f9623a866",
   "metadata": {},
   "outputs": [
    {
     "data": {
      "text/plain": [
       "RandomizedSearchCV(cv=5, estimator=DecisionTreeRegressor(random_state=5),\n",
       "                   param_distributions={'criterion': ['squared_error',\n",
       "                                                      'friedman_mse',\n",
       "                                                      'absolute_error'],\n",
       "                                        'min_samples_leaf': [5, 10],\n",
       "                                        'min_samples_split': [2, 4, 10, 12, 16],\n",
       "                                        'splitter': ['random', 'best']},\n",
       "                   random_state=5, scoring='neg_root_mean_squared_error')"
      ]
     },
     "execution_count": 8,
     "metadata": {},
     "output_type": "execute_result"
    }
   ],
   "source": [
    "#Grilla de Parámetros\n",
    "params_grid = { \"criterion\" : [\"squared_error\", \"friedman_mse\", \"absolute_error\"], \n",
    "               \"min_samples_leaf\" : [5, 10], \n",
    "               \"min_samples_split\" : [2, 4, 10, 12, 16], \n",
    "               \"splitter\": ['random','best'] }\n",
    "\n",
    "#Clasificador Arbol\n",
    "tree = DecisionTreeRegressor(random_state = 5)\n",
    "\n",
    "#Random Search con 5 Folds y 10 iteraciones\n",
    "rand_tree_model1 = RandomizedSearchCV(tree, params_grid, scoring='neg_root_mean_squared_error', cv=5, n_iter=10, random_state=5)\n",
    "\n",
    "rand_tree_model1.fit(x_train, y_train)"
   ]
  },
  {
   "cell_type": "code",
   "execution_count": 9,
   "id": "7ab712fa-e29e-4367-a8eb-97af84f63c32",
   "metadata": {},
   "outputs": [
    {
     "name": "stdout",
     "output_type": "stream",
     "text": [
      "Observamos que los parametros que performaron mejor son: DecisionTreeRegressor(criterion='absolute_error', min_samples_leaf=5,\n",
      "                      min_samples_split=4, random_state=5)\n"
     ]
    }
   ],
   "source": [
    "print(f\"Observamos que los parametros que performaron mejor son: {rand_tree_model1.best_estimator_}\")"
   ]
  },
  {
   "cell_type": "code",
   "execution_count": 10,
   "id": "dcc8522e-ff56-4671-9167-bd406be309e1",
   "metadata": {},
   "outputs": [
    {
     "name": "stdout",
     "output_type": "stream",
     "text": [
      "Y el error mas bajo fue: -1171.865033492837\n"
     ]
    }
   ],
   "source": [
    "print(f\"Y el error mas bajo fue: {rand_tree_model1.best_score_}\")"
   ]
  },
  {
   "cell_type": "markdown",
   "id": "71f2e3a2-62a3-487a-9957-46dce21ab762",
   "metadata": {},
   "source": [
    "Ahora veamos como nos anda en test"
   ]
  },
  {
   "cell_type": "code",
   "execution_count": 11,
   "id": "a8eddc69-93b0-49c3-abd0-6a82368608ed",
   "metadata": {},
   "outputs": [
    {
     "data": {
      "text/plain": [
       "1077.7757830732962"
      ]
     },
     "execution_count": 11,
     "metadata": {},
     "output_type": "execute_result"
    }
   ],
   "source": [
    "#Mejor estimador\n",
    "best_svr=rand_tree_model1.best_estimator_\n",
    "\n",
    "#Predicción con mejor estimador\n",
    "y_pred=best_svr.predict(x_test)\n",
    "\n",
    "#RootMean Squared Error\n",
    "mean_squared_error(y_test, y_pred, squared=False)"
   ]
  },
  {
   "cell_type": "markdown",
   "id": "071cc263-f618-47ca-91c9-4933804c7909",
   "metadata": {},
   "source": [
    "Lo guardamos"
   ]
  },
  {
   "cell_type": "code",
   "execution_count": 17,
   "id": "074b0fa3-13c2-4e21-a626-2f1012aae17c",
   "metadata": {},
   "outputs": [
    {
     "data": {
      "text/plain": [
       "['./Modelos/DecisionTreeRegressor-model1.joblib']"
      ]
     },
     "execution_count": 17,
     "metadata": {},
     "output_type": "execute_result"
    }
   ],
   "source": [
    "dump(rand_tree_model1.best_estimator_, './Modelos/DecisionTreeRegressor-model1.joblib') "
   ]
  },
  {
   "cell_type": "markdown",
   "id": "c3069f70-3516-4434-8663-91805c922c0a",
   "metadata": {},
   "source": [
    "### 2do modelo"
   ]
  },
  {
   "cell_type": "code",
   "execution_count": 12,
   "id": "d7d4cc04-37e4-4bb9-9394-090f490dd46f",
   "metadata": {},
   "outputs": [],
   "source": [
    "#Ejecutare_estimator_are mis modelos con una copia\n",
    "x_train = _x_train_model2.copy()\n",
    "y_train = _y_train_model2.copy()\n",
    "x_test = _x_test_model2.copy()\n",
    "y_test = _y_test_model2.copy()"
   ]
  },
  {
   "cell_type": "markdown",
   "id": "55bf5892-c7ef-4b1d-b6a3-b4c322a30937",
   "metadata": {},
   "source": [
    "Busco los mejores parametros para mi Arbol de Regresion con respecto Root Mean Squared Error."
   ]
  },
  {
   "cell_type": "code",
   "execution_count": 13,
   "id": "f528a5d6-aa44-4c7a-92ed-9322fab40d43",
   "metadata": {},
   "outputs": [
    {
     "data": {
      "text/plain": [
       "RandomizedSearchCV(cv=5, estimator=DecisionTreeRegressor(random_state=5),\n",
       "                   param_distributions={'criterion': ['squared_error',\n",
       "                                                      'friedman_mse',\n",
       "                                                      'absolute_error'],\n",
       "                                        'min_samples_leaf': [5, 10],\n",
       "                                        'min_samples_split': [2, 4, 10, 12, 16],\n",
       "                                        'splitter': ['random', 'best']},\n",
       "                   random_state=5, scoring='neg_root_mean_squared_error')"
      ]
     },
     "execution_count": 13,
     "metadata": {},
     "output_type": "execute_result"
    }
   ],
   "source": [
    "#Grilla de Parámetros\n",
    "params_grid = { \"criterion\" : [\"squared_error\", \"friedman_mse\", \"absolute_error\"], \n",
    "               \"min_samples_leaf\" : [5, 10], \n",
    "               \"min_samples_split\" : [2, 4, 10, 12, 16], \n",
    "               \"splitter\": ['random','best'] }\n",
    "\n",
    "#Clasificador Arbol\n",
    "tree = DecisionTreeRegressor(random_state = 5)\n",
    "\n",
    "#Random Search con 5 Folds y 10 iteraciones\n",
    "rand_tree_model2 = RandomizedSearchCV(tree, params_grid, scoring='neg_root_mean_squared_error', cv=5, n_iter=10, random_state=5)\n",
    "\n",
    "rand_tree_model2.fit(x_train, y_train)"
   ]
  },
  {
   "cell_type": "code",
   "execution_count": 14,
   "id": "0a9f69d3-b86d-4d8c-b8c8-97ceb9f2f5e1",
   "metadata": {},
   "outputs": [
    {
     "name": "stdout",
     "output_type": "stream",
     "text": [
      "Observamos que los parametros que performaron mejor son: DecisionTreeRegressor(criterion='absolute_error', min_samples_leaf=10,\n",
      "                      min_samples_split=4, random_state=5, splitter='random')\n"
     ]
    }
   ],
   "source": [
    "print(f\"Observamos que los parametros que performaron mejor son: {rand_tree_model2.best_estimator_}\")"
   ]
  },
  {
   "cell_type": "code",
   "execution_count": 15,
   "id": "2933dd38-9b38-4cfc-9af5-01a85af1e56f",
   "metadata": {},
   "outputs": [
    {
     "name": "stdout",
     "output_type": "stream",
     "text": [
      "Y el error mas bajo fue: -1195.969554193854\n"
     ]
    }
   ],
   "source": [
    "print(f\"Y el error mas bajo fue: {rand_tree_model2.best_score_}\")"
   ]
  },
  {
   "cell_type": "markdown",
   "id": "e55dd70c-947e-4f35-ac6e-85ed3a35fbf7",
   "metadata": {},
   "source": [
    "Ahora veamos como nos anda en test"
   ]
  },
  {
   "cell_type": "code",
   "execution_count": 16,
   "id": "dfcd11c8-6cd5-47dd-8d6c-51d5fb8e1b17",
   "metadata": {},
   "outputs": [
    {
     "data": {
      "text/plain": [
       "655.5528626402848"
      ]
     },
     "execution_count": 16,
     "metadata": {},
     "output_type": "execute_result"
    }
   ],
   "source": [
    "#Mejor estimador\n",
    "best_svr=rand_tree_model2.best_estimator_\n",
    "\n",
    "#Predicción con mejor estimador\n",
    "y_pred=best_svr.predict(x_test)\n",
    "\n",
    "#RootMean Squared Error\n",
    "mean_squared_error(y_test, y_pred, squared=False)"
   ]
  },
  {
   "cell_type": "markdown",
   "id": "1975c4c5-aca7-492f-89f3-4d25e2fb3793",
   "metadata": {},
   "source": [
    "Lo guardamos"
   ]
  },
  {
   "cell_type": "code",
   "execution_count": 18,
   "id": "3aa6b31a-4612-40b7-8ccd-d753bde4d1bb",
   "metadata": {},
   "outputs": [
    {
     "data": {
      "text/plain": [
       "['./Modelos/DecisionTreeRegressor-model2.joblib']"
      ]
     },
     "execution_count": 18,
     "metadata": {},
     "output_type": "execute_result"
    }
   ],
   "source": [
    "dump(rand_tree_model2.best_estimator_, './Modelos/DecisionTreeRegressor-model2.joblib') "
   ]
  },
  {
   "cell_type": "markdown",
   "id": "ebe78b8a-3ca6-4c13-846e-f10b4920a0a1",
   "metadata": {},
   "source": [
    "## Resumen de RMSE en test:\n",
    "   + KNN - Model 1: 1217.401032628558\n",
    "   + KNN - Model 2: 718.1341916561961\n",
    "   + XGBoost - Model 1: 906.6026978535414\n",
    "   + XGBoost - Model 2: 641.5620151352072\n",
    "   + Arbol de Regresion - Model 1: 1077.7757830732962\n",
    "   + Arbol de Regresion - Model 2: 655.5528626402848"
   ]
  },
  {
   "cell_type": "markdown",
   "id": "78b37cde-b61f-4e7a-ae68-a0c18a0e4211",
   "metadata": {},
   "source": [
    "Observamos que los modelos entrenados con el dataSet reducido nos dan mejores resultados."
   ]
  },
  {
   "cell_type": "markdown",
   "id": "7c8e9f5c-510f-43c6-98ad-0d25f378bde5",
   "metadata": {},
   "source": [
    "**¿Qué modelo elegirían para predecir el precio de venta de las propiedades?**<br>\n",
    "Elegiría el modelo 2 de árbol de decisión, porque es el más intuitivo y fácil de entender, además es el 2do con mejor score."
   ]
  }
 ],
 "metadata": {
  "kernelspec": {
   "display_name": "Python 3 (ipykernel)",
   "language": "python",
   "name": "python3"
  },
  "language_info": {
   "codemirror_mode": {
    "name": "ipython",
    "version": 3
   },
   "file_extension": ".py",
   "mimetype": "text/x-python",
   "name": "python",
   "nbconvert_exporter": "python",
   "pygments_lexer": "ipython3",
   "version": "3.9.13"
  }
 },
 "nbformat": 4,
 "nbformat_minor": 5
}
