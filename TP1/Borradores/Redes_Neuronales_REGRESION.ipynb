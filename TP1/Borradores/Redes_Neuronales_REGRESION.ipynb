{
 "cells": [
  {
   "cell_type": "markdown",
   "id": "aa302853-9918-4c2c-a45a-f57f1b6c3a95",
   "metadata": {},
   "source": [
    "# <center>Organizaci&oacute;n de Datos</center>\n",
    "#### <center>C&aacute;tedra Ing. Rodriguez, Juan Manuel </center>\n",
    "\n",
    "## <center>Trabajo Práctico 2:</center>\n",
    "### <center> Propiedades en Venta </center>\n",
    "### <center>  Grupo 18</center>\n",
    "\n",
    "\n",
    "#### **Integrantes:**\n",
    "\n",
    "* Analía Acevedo\n",
    "* Santiago Daniel Marczewski Neudeck\n",
    "* Lucia Belén Napoli\n",
    "* Brayan Ricaldi"
   ]
  },
  {
   "cell_type": "code",
   "execution_count": 12,
   "id": "4621e92d-429a-41cd-8c6d-279e8baccf5b",
   "metadata": {},
   "outputs": [],
   "source": [
    "import pandas as pd\n",
    "import matplotlib.pyplot as plt\n",
    "import seaborn as sns\n",
    "import numpy as np\n",
    "import sklearn.preprocessing as skp\n",
    "\n",
    "from sklearn.impute import KNNImputer, SimpleImputer\n",
    "from sklearn.preprocessing import (\n",
    "    KBinsDiscretizer,\n",
    "    LabelEncoder,\n",
    "    MinMaxScaler,\n",
    "    Normalizer,\n",
    "    OneHotEncoder,\n",
    "    OrdinalEncoder,\n",
    "    PowerTransformer,\n",
    "    RobustScaler,\n",
    "    StandardScaler,\n",
    ")\n",
    "\n",
    "import warnings\n",
    "\n",
    "warnings.simplefilter(action=\"ignore\", category=FutureWarning)\n",
    "from preprocessing import preprocesamiento\n",
    "\n",
    "from sklearn.model_selection import RandomizedSearchCV\n",
    "from joblib import dump, load\n",
    "\n",
    "pd.options.display.max_columns = None\n",
    "\n",
    "from sklearn.ensemble import RandomForestClassifier \n",
    "from sklearn.linear_model import LogisticRegression \n",
    "from sklearn.neighbors import KNeighborsClassifier\n",
    "from sklearn.tree import DecisionTreeClassifier\n",
    "from sklearn.svm import SVC\n",
    "from sklearn.neural_network import MLPClassifier\n",
    "from sklearn.linear_model import LogisticRegressionCV\n",
    "from sklearn.ensemble import VotingClassifier\n",
    "from sklearn.model_selection import train_test_split\n",
    "from sklearn.metrics import accuracy_score, f1_score\n",
    "from sklearn.datasets import make_classification\n",
    "from collections import defaultdict\n",
    "from sklearn.model_selection import GridSearchCV\n",
    "\n",
    "import plotly.graph_objects as go\n",
    "%matplotlib inline\n",
    "\n",
    "\n",
    "from sklearn.model_selection import cross_val_score, RepeatedStratifiedKFold\n",
    "\n",
    "from sklearn.metrics import mean_absolute_error, mean_squared_error\n",
    "from sklearn.preprocessing import StandardScaler\n",
    "\n",
    "import tensorflow as tf\n",
    "from tensorflow import keras\n",
    "import keras_tuner as kt\n",
    "import visualkeras\n",
    "from keras.wrappers.scikit_learn import KerasClassifier\n",
    "\n",
    "np.random.seed(1)\n",
    "tf.random.set_seed(1)\n",
    "\n",
    "import warnings\n",
    "warnings.filterwarnings(\"ignore\", category=DeprecationWarning) "
   ]
  },
  {
   "cell_type": "markdown",
   "id": "8201a314-d045-466f-975e-1b5c0b1bbdf7",
   "metadata": {},
   "source": [
    "Descargo los datos para el modelo 1"
   ]
  },
  {
   "cell_type": "code",
   "execution_count": 2,
   "id": "d5c9c4f4-dfc4-4170-a50d-fca9a2c5a295",
   "metadata": {},
   "outputs": [],
   "source": [
    "_x_train_model1 = pd.read_csv('./DataSet/x_train')\n",
    "_x_train_model1.drop(columns=['Unnamed: 0'],inplace=True)\n",
    "_y_train_model1 = pd.read_csv('./DataSet/y_train')\n",
    "_y_train_model1.drop(columns=['Unnamed: 0'],inplace=True)\n",
    "_x_test_model1 = pd.read_csv('./DataSet/x_test')\n",
    "_x_test_model1.drop(columns=['Unnamed: 0'],inplace=True)\n",
    "_y_test_model1 = pd.read_csv('./DataSet/y_test')\n",
    "_y_test_model1.drop(columns=['Unnamed: 0'],inplace=True)\n",
    "_y_train_model1.rename(columns={'0':'pxm2'}, inplace=True)\n",
    "_y_test_model1.rename(columns={'0':'pxm2'}, inplace=True)"
   ]
  },
  {
   "cell_type": "markdown",
   "id": "a461cbc9-30b2-4c93-8ee6-393c575c0ad9",
   "metadata": {},
   "source": [
    "# Redes neuronales"
   ]
  },
  {
   "cell_type": "markdown",
   "id": "96e435cc-353a-430e-a974-080d82677591",
   "metadata": {},
   "source": [
    "Construir dos modelos de redes neuronales, uno para regresión y otro para clasificación,\n",
    "considerando los datasets creados en el TP1. Mejorar estos modelos de redes\n",
    "neuronales a través de la búsqueda de arquitectura e hiperparámetros adecuados. Se\n",
    "pide:\n",
    "\n",
    "● Regresión: predecir el precio de la propiedad y utilizar como métrica de\n",
    "evaluación el error cuadrático medio.\n",
    "\n",
    "● Clasificación: predecir el atributo tipo_precio creado en el TP 1 y utilizar como\n",
    "métricas precisión, recall y F1-Score.\n"
   ]
  },
  {
   "cell_type": "markdown",
   "id": "1137cdcf-4193-4617-b8a6-e0ec64465393",
   "metadata": {
    "id": "NTFyS4teZKip",
    "tags": []
   },
   "source": [
    "# Modelo de Redes Neuronales para regresión"
   ]
  },
  {
   "cell_type": "markdown",
   "id": "2b7619e8-9907-495e-8814-4e840dc4b93f",
   "metadata": {},
   "source": [
    "Los hiperparametros a buscar son los siguientes:\n",
    "\n",
    "- **Función de activación:** relu, tanh\n",
    "- **Cantidad de capas:** Es la cantidad de capas que tendrá la red neuronal. Tendremos una capa input, x ocultas y una capa de salida.\n",
    "- **Cantidad de neuronas por capa:** Tendremos una neurona en la capa de salida porque queremos predecir un valor numerico. En la capa de entrada tendremos 8 neuronas, la cantidad de features que tiene el dataset.\n",
    "- **Optimizador:** Un optimizador es una implementación concreta del algoritmo de descenso por gradiente dentro de backpropagation.\n",
    "    - SGD (Stochastic Gradient Descent): Backpropagation simple, sin ningún tipo de optimización. \n",
    "    - Adam (Adaptive moment estimation): Hace un seguimiento de una media de decaimiento exponencial de gradientes pasados y de gradientes cuadrados pasados.\n",
    "- **Función de perdida:** Es la función utilizada por el optimizador para minimizar. En regresion utilizaremos Mean Absolute Error (MAE)\n",
    "- **Learning rate o tasa de aprendizaje:** Indica qué tan rápido se va descediendo en la función de costo, qué tan rápido va acercandose al minimo local o global.\n",
    "- **Metricas:** Se van calculando en cada iteracion o batch. Utilizaremos Mean Squared Error (MSE).\n",
    "- **Cantidad de epochs:** Es la cantidad de iteraciones que tendrá el entrenamiento."
   ]
  },
  {
   "cell_type": "markdown",
   "id": "88fb85d3-ea52-4510-bf7b-678182269f29",
   "metadata": {},
   "source": [
    "Ejecutamos una copia de los modelos"
   ]
  },
  {
   "cell_type": "code",
   "execution_count": 3,
   "id": "2b05f0ca-d239-4a9e-8378-3be56344ae3e",
   "metadata": {},
   "outputs": [],
   "source": [
    "x_train = _x_train_model1.copy()\n",
    "y_train = _y_train_model1.copy()\n",
    "x_test = _x_test_model1.copy()\n",
    "y_test = _y_test_model1.copy()"
   ]
  },
  {
   "cell_type": "code",
   "execution_count": 4,
   "id": "34052511-d86b-466d-8b26-a204b5756e7f",
   "metadata": {},
   "outputs": [
    {
     "data": {
      "text/html": [
       "<div>\n",
       "<style scoped>\n",
       "    .dataframe tbody tr th:only-of-type {\n",
       "        vertical-align: middle;\n",
       "    }\n",
       "\n",
       "    .dataframe tbody tr th {\n",
       "        vertical-align: top;\n",
       "    }\n",
       "\n",
       "    .dataframe thead th {\n",
       "        text-align: right;\n",
       "    }\n",
       "</style>\n",
       "<table border=\"1\" class=\"dataframe\">\n",
       "  <thead>\n",
       "    <tr style=\"text-align: right;\">\n",
       "      <th></th>\n",
       "      <th>latitud</th>\n",
       "      <th>longitud</th>\n",
       "      <th>ambientes</th>\n",
       "      <th>dormitorios</th>\n",
       "      <th>superficie_cubierta</th>\n",
       "      <th>comuna</th>\n",
       "      <th>Departamento</th>\n",
       "      <th>PH</th>\n",
       "    </tr>\n",
       "  </thead>\n",
       "  <tbody>\n",
       "    <tr>\n",
       "      <th>0</th>\n",
       "      <td>-34.583010</td>\n",
       "      <td>-58.481533</td>\n",
       "      <td>4.0</td>\n",
       "      <td>3.0</td>\n",
       "      <td>70.0</td>\n",
       "      <td>15</td>\n",
       "      <td>1.0</td>\n",
       "      <td>0.0</td>\n",
       "    </tr>\n",
       "    <tr>\n",
       "      <th>1</th>\n",
       "      <td>-34.660079</td>\n",
       "      <td>-58.485894</td>\n",
       "      <td>6.0</td>\n",
       "      <td>4.0</td>\n",
       "      <td>275.0</td>\n",
       "      <td>9</td>\n",
       "      <td>0.0</td>\n",
       "      <td>0.0</td>\n",
       "    </tr>\n",
       "    <tr>\n",
       "      <th>2</th>\n",
       "      <td>-34.581856</td>\n",
       "      <td>-58.425088</td>\n",
       "      <td>3.0</td>\n",
       "      <td>2.0</td>\n",
       "      <td>97.0</td>\n",
       "      <td>14</td>\n",
       "      <td>1.0</td>\n",
       "      <td>0.0</td>\n",
       "    </tr>\n",
       "    <tr>\n",
       "      <th>3</th>\n",
       "      <td>-34.607547</td>\n",
       "      <td>-58.442194</td>\n",
       "      <td>2.0</td>\n",
       "      <td>1.0</td>\n",
       "      <td>42.0</td>\n",
       "      <td>6</td>\n",
       "      <td>1.0</td>\n",
       "      <td>0.0</td>\n",
       "    </tr>\n",
       "    <tr>\n",
       "      <th>4</th>\n",
       "      <td>-34.607416</td>\n",
       "      <td>-58.509680</td>\n",
       "      <td>2.0</td>\n",
       "      <td>1.0</td>\n",
       "      <td>38.0</td>\n",
       "      <td>11</td>\n",
       "      <td>1.0</td>\n",
       "      <td>0.0</td>\n",
       "    </tr>\n",
       "  </tbody>\n",
       "</table>\n",
       "</div>"
      ],
      "text/plain": [
       "     latitud   longitud  ambientes  dormitorios  superficie_cubierta  comuna  \\\n",
       "0 -34.583010 -58.481533        4.0          3.0                 70.0      15   \n",
       "1 -34.660079 -58.485894        6.0          4.0                275.0       9   \n",
       "2 -34.581856 -58.425088        3.0          2.0                 97.0      14   \n",
       "3 -34.607547 -58.442194        2.0          1.0                 42.0       6   \n",
       "4 -34.607416 -58.509680        2.0          1.0                 38.0      11   \n",
       "\n",
       "   Departamento   PH  \n",
       "0           1.0  0.0  \n",
       "1           0.0  0.0  \n",
       "2           1.0  0.0  \n",
       "3           1.0  0.0  \n",
       "4           1.0  0.0  "
      ]
     },
     "execution_count": 4,
     "metadata": {},
     "output_type": "execute_result"
    }
   ],
   "source": [
    "x_train.head()"
   ]
  },
  {
   "cell_type": "code",
   "execution_count": 5,
   "id": "841d2c92-ae35-4dc8-b883-6ae1e0fa9567",
   "metadata": {},
   "outputs": [
    {
     "data": {
      "text/html": [
       "<div>\n",
       "<style scoped>\n",
       "    .dataframe tbody tr th:only-of-type {\n",
       "        vertical-align: middle;\n",
       "    }\n",
       "\n",
       "    .dataframe tbody tr th {\n",
       "        vertical-align: top;\n",
       "    }\n",
       "\n",
       "    .dataframe thead th {\n",
       "        text-align: right;\n",
       "    }\n",
       "</style>\n",
       "<table border=\"1\" class=\"dataframe\">\n",
       "  <thead>\n",
       "    <tr style=\"text-align: right;\">\n",
       "      <th></th>\n",
       "      <th>pxm2</th>\n",
       "    </tr>\n",
       "  </thead>\n",
       "  <tbody>\n",
       "    <tr>\n",
       "      <th>0</th>\n",
       "      <td>2911.392405</td>\n",
       "    </tr>\n",
       "    <tr>\n",
       "      <th>1</th>\n",
       "      <td>671.428571</td>\n",
       "    </tr>\n",
       "    <tr>\n",
       "      <th>2</th>\n",
       "      <td>2546.391753</td>\n",
       "    </tr>\n",
       "    <tr>\n",
       "      <th>3</th>\n",
       "      <td>1733.333333</td>\n",
       "    </tr>\n",
       "    <tr>\n",
       "      <th>4</th>\n",
       "      <td>2804.878049</td>\n",
       "    </tr>\n",
       "  </tbody>\n",
       "</table>\n",
       "</div>"
      ],
      "text/plain": [
       "          pxm2\n",
       "0  2911.392405\n",
       "1   671.428571\n",
       "2  2546.391753\n",
       "3  1733.333333\n",
       "4  2804.878049"
      ]
     },
     "execution_count": 5,
     "metadata": {},
     "output_type": "execute_result"
    }
   ],
   "source": [
    "y_train.head()"
   ]
  },
  {
   "cell_type": "code",
   "execution_count": 6,
   "id": "92c3cb03-6942-4665-b149-1c3715be28a1",
   "metadata": {},
   "outputs": [
    {
     "data": {
      "text/plain": [
       "(58133, 8)"
      ]
     },
     "execution_count": 6,
     "metadata": {},
     "output_type": "execute_result"
    }
   ],
   "source": [
    "x_train.shape"
   ]
  },
  {
   "cell_type": "markdown",
   "id": "fc77d4e5-a02d-4fec-9dfa-1fd3088a103e",
   "metadata": {},
   "source": [
    "+ Transformo los set de datos"
   ]
  },
  {
   "cell_type": "code",
   "execution_count": 7,
   "id": "33a4ae9b-546a-4e55-9848-620c6905d9a9",
   "metadata": {},
   "outputs": [
    {
     "data": {
      "text/html": [
       "<style>#sk-container-id-1 {color: black;background-color: white;}#sk-container-id-1 pre{padding: 0;}#sk-container-id-1 div.sk-toggleable {background-color: white;}#sk-container-id-1 label.sk-toggleable__label {cursor: pointer;display: block;width: 100%;margin-bottom: 0;padding: 0.3em;box-sizing: border-box;text-align: center;}#sk-container-id-1 label.sk-toggleable__label-arrow:before {content: \"▸\";float: left;margin-right: 0.25em;color: #696969;}#sk-container-id-1 label.sk-toggleable__label-arrow:hover:before {color: black;}#sk-container-id-1 div.sk-estimator:hover label.sk-toggleable__label-arrow:before {color: black;}#sk-container-id-1 div.sk-toggleable__content {max-height: 0;max-width: 0;overflow: hidden;text-align: left;background-color: #f0f8ff;}#sk-container-id-1 div.sk-toggleable__content pre {margin: 0.2em;color: black;border-radius: 0.25em;background-color: #f0f8ff;}#sk-container-id-1 input.sk-toggleable__control:checked~div.sk-toggleable__content {max-height: 200px;max-width: 100%;overflow: auto;}#sk-container-id-1 input.sk-toggleable__control:checked~label.sk-toggleable__label-arrow:before {content: \"▾\";}#sk-container-id-1 div.sk-estimator input.sk-toggleable__control:checked~label.sk-toggleable__label {background-color: #d4ebff;}#sk-container-id-1 div.sk-label input.sk-toggleable__control:checked~label.sk-toggleable__label {background-color: #d4ebff;}#sk-container-id-1 input.sk-hidden--visually {border: 0;clip: rect(1px 1px 1px 1px);clip: rect(1px, 1px, 1px, 1px);height: 1px;margin: -1px;overflow: hidden;padding: 0;position: absolute;width: 1px;}#sk-container-id-1 div.sk-estimator {font-family: monospace;background-color: #f0f8ff;border: 1px dotted black;border-radius: 0.25em;box-sizing: border-box;margin-bottom: 0.5em;}#sk-container-id-1 div.sk-estimator:hover {background-color: #d4ebff;}#sk-container-id-1 div.sk-parallel-item::after {content: \"\";width: 100%;border-bottom: 1px solid gray;flex-grow: 1;}#sk-container-id-1 div.sk-label:hover label.sk-toggleable__label {background-color: #d4ebff;}#sk-container-id-1 div.sk-serial::before {content: \"\";position: absolute;border-left: 1px solid gray;box-sizing: border-box;top: 0;bottom: 0;left: 50%;z-index: 0;}#sk-container-id-1 div.sk-serial {display: flex;flex-direction: column;align-items: center;background-color: white;padding-right: 0.2em;padding-left: 0.2em;position: relative;}#sk-container-id-1 div.sk-item {position: relative;z-index: 1;}#sk-container-id-1 div.sk-parallel {display: flex;align-items: stretch;justify-content: center;background-color: white;position: relative;}#sk-container-id-1 div.sk-item::before, #sk-container-id-1 div.sk-parallel-item::before {content: \"\";position: absolute;border-left: 1px solid gray;box-sizing: border-box;top: 0;bottom: 0;left: 50%;z-index: -1;}#sk-container-id-1 div.sk-parallel-item {display: flex;flex-direction: column;z-index: 1;position: relative;background-color: white;}#sk-container-id-1 div.sk-parallel-item:first-child::after {align-self: flex-end;width: 50%;}#sk-container-id-1 div.sk-parallel-item:last-child::after {align-self: flex-start;width: 50%;}#sk-container-id-1 div.sk-parallel-item:only-child::after {width: 0;}#sk-container-id-1 div.sk-dashed-wrapped {border: 1px dashed gray;margin: 0 0.4em 0.5em 0.4em;box-sizing: border-box;padding-bottom: 0.4em;background-color: white;}#sk-container-id-1 div.sk-label label {font-family: monospace;font-weight: bold;display: inline-block;line-height: 1.2em;}#sk-container-id-1 div.sk-label-container {text-align: center;}#sk-container-id-1 div.sk-container {/* jupyter's `normalize.less` sets `[hidden] { display: none; }` but bootstrap.min.css set `[hidden] { display: none !important; }` so we also need the `!important` here to be able to override the default hidden behavior on the sphinx rendered scikit-learn.org. See: https://github.com/scikit-learn/scikit-learn/issues/21755 */display: inline-block !important;position: relative;}#sk-container-id-1 div.sk-text-repr-fallback {display: none;}</style><div id=\"sk-container-id-1\" class=\"sk-top-container\"><div class=\"sk-text-repr-fallback\"><pre>StandardScaler()</pre><b>In a Jupyter environment, please rerun this cell to show the HTML representation or trust the notebook. <br />On GitHub, the HTML representation is unable to render, please try loading this page with nbviewer.org.</b></div><div class=\"sk-container\" hidden><div class=\"sk-item\"><div class=\"sk-estimator sk-toggleable\"><input class=\"sk-toggleable__control sk-hidden--visually\" id=\"sk-estimator-id-1\" type=\"checkbox\" checked><label for=\"sk-estimator-id-1\" class=\"sk-toggleable__label sk-toggleable__label-arrow\">StandardScaler</label><div class=\"sk-toggleable__content\"><pre>StandardScaler()</pre></div></div></div></div></div>"
      ],
      "text/plain": [
       "StandardScaler()"
      ]
     },
     "execution_count": 7,
     "metadata": {},
     "output_type": "execute_result"
    }
   ],
   "source": [
    "sscaler = StandardScaler()\n",
    "sscaler.fit(pd.DataFrame(x_train))"
   ]
  },
  {
   "cell_type": "code",
   "execution_count": 8,
   "id": "000b5867-8e32-4063-9b65-d30bbc05c29b",
   "metadata": {},
   "outputs": [],
   "source": [
    "x_train_transform = sscaler.transform(pd.DataFrame(x_train))\n",
    "x_test_transform = sscaler.transform(pd.DataFrame(x_test))"
   ]
  },
  {
   "cell_type": "code",
   "execution_count": 9,
   "id": "4b37f68a-7f09-4c04-8f80-ade802acbb85",
   "metadata": {},
   "outputs": [
    {
     "data": {
      "text/plain": [
       "array([[ 0.50172268, -1.12215239,  0.89519544, ...,  1.27157065,\n",
       "         0.40756802, -0.34041477],\n",
       "       [-2.41244287, -1.23741004,  2.38416976, ...,  0.04401013,\n",
       "        -2.45357818, -0.34041477],\n",
       "       [ 0.54533212,  0.36963696,  0.15070829, ...,  1.06697723,\n",
       "         0.40756802, -0.34041477],\n",
       "       ...,\n",
       "       [-0.42789946, -0.17643136, -0.59377887, ..., -0.56977013,\n",
       "         0.40756802, -0.34041477],\n",
       "       [-2.51066718, -1.91003212,  1.6396826 , ...,  0.04401013,\n",
       "        -2.45357818,  2.93759284],\n",
       "       [-0.08062026, -2.23160042,  0.89519544, ...,  0.45319697,\n",
       "        -2.45357818,  2.93759284]])"
      ]
     },
     "execution_count": 9,
     "metadata": {},
     "output_type": "execute_result"
    }
   ],
   "source": [
    "x_train_transform"
   ]
  },
  {
   "cell_type": "markdown",
   "id": "8aa563fd-e98d-4741-a091-5f31265809c5",
   "metadata": {},
   "source": [
    "## Modelo 1"
   ]
  },
  {
   "cell_type": "code",
   "execution_count": 19,
   "id": "da1239ee-08de-47a1-9bbd-ead78aedcdc2",
   "metadata": {},
   "outputs": [],
   "source": [
    "d_in=8\n",
    "d_out=1\n",
    "\n",
    "modelo_1 = keras.Sequential([\n",
    "    keras.layers.Dense(8,input_shape=(d_in,), activation=\"relu\"),\n",
    "    \n",
    "    keras.layers.Dense(d_out, )])"
   ]
  },
  {
   "cell_type": "code",
   "execution_count": 20,
   "id": "7b1eb037-44b4-4417-81f7-d5b32cd27801",
   "metadata": {},
   "outputs": [
    {
     "name": "stdout",
     "output_type": "stream",
     "text": [
      "Model: \"sequential_1\"\n",
      "_________________________________________________________________\n",
      " Layer (type)                Output Shape              Param #   \n",
      "=================================================================\n",
      " dense_7 (Dense)             (None, 8)                 72        \n",
      "                                                                 \n",
      " dense_8 (Dense)             (None, 1)                 9         \n",
      "                                                                 \n",
      "=================================================================\n",
      "Total params: 81\n",
      "Trainable params: 81\n",
      "Non-trainable params: 0\n",
      "_________________________________________________________________\n"
     ]
    }
   ],
   "source": [
    "modelo_1.summary()"
   ]
  },
  {
   "cell_type": "code",
   "execution_count": 22,
   "id": "d9deb341-49d2-4477-9f3f-e1a5527c52ef",
   "metadata": {},
   "outputs": [],
   "source": [
    "modelo_1.compile(\n",
    "      optimizer=keras.optimizers.SGD(learning_rate=0.01), \n",
    "      loss='mae', \n",
    "      metrics=['mse'], \n",
    ")"
   ]
  },
  {
   "cell_type": "code",
   "execution_count": 23,
   "id": "1a8a6a26-0ea1-4d11-8dcb-a8ee48356638",
   "metadata": {
    "collapsed": true,
    "jupyter": {
     "outputs_hidden": true
    },
    "tags": []
   },
   "outputs": [
    {
     "name": "stdout",
     "output_type": "stream",
     "text": [
      "Epoch 1/50\n",
      "5814/5814 - 4s - loss: 665.7269 - mse: 1127414.2500 - 4s/epoch - 754us/step\n",
      "Epoch 2/50\n",
      "5814/5814 - 5s - loss: 518.6342 - mse: 679279.3750 - 5s/epoch - 919us/step\n",
      "Epoch 3/50\n",
      "5814/5814 - 4s - loss: 510.7743 - mse: 659503.8125 - 4s/epoch - 734us/step\n",
      "Epoch 4/50\n",
      "5814/5814 - 4s - loss: 508.2623 - mse: 654783.8750 - 4s/epoch - 706us/step\n",
      "Epoch 5/50\n",
      "5814/5814 - 4s - loss: 507.0320 - mse: 655059.4375 - 4s/epoch - 726us/step\n",
      "Epoch 6/50\n",
      "5814/5814 - 5s - loss: 506.6178 - mse: 655167.8750 - 5s/epoch - 855us/step\n",
      "Epoch 7/50\n",
      "5814/5814 - 5s - loss: 506.2896 - mse: 654720.6250 - 5s/epoch - 817us/step\n",
      "Epoch 8/50\n",
      "5814/5814 - 5s - loss: 505.6833 - mse: 651325.9375 - 5s/epoch - 794us/step\n",
      "Epoch 9/50\n",
      "5814/5814 - 5s - loss: 505.1441 - mse: 651166.9375 - 5s/epoch - 804us/step\n",
      "Epoch 10/50\n",
      "5814/5814 - 4s - loss: 504.4974 - mse: 648332.0000 - 4s/epoch - 757us/step\n",
      "Epoch 11/50\n",
      "5814/5814 - 5s - loss: 504.1756 - mse: 646986.0000 - 5s/epoch - 775us/step\n",
      "Epoch 12/50\n",
      "5814/5814 - 4s - loss: 502.6363 - mse: 643862.3125 - 4s/epoch - 764us/step\n",
      "Epoch 13/50\n",
      "5814/5814 - 4s - loss: 501.6723 - mse: 641420.8125 - 4s/epoch - 724us/step\n",
      "Epoch 14/50\n",
      "5814/5814 - 5s - loss: 500.6917 - mse: 637511.8125 - 5s/epoch - 801us/step\n",
      "Epoch 15/50\n",
      "5814/5814 - 5s - loss: 500.3509 - mse: 638421.3750 - 5s/epoch - 822us/step\n",
      "Epoch 16/50\n",
      "5814/5814 - 4s - loss: 499.7413 - mse: 639503.2500 - 4s/epoch - 714us/step\n",
      "Epoch 17/50\n",
      "5814/5814 - 4s - loss: 499.6194 - mse: 635976.2500 - 4s/epoch - 721us/step\n",
      "Epoch 18/50\n",
      "5814/5814 - 4s - loss: 499.0206 - mse: 634666.3750 - 4s/epoch - 704us/step\n",
      "Epoch 19/50\n",
      "5814/5814 - 4s - loss: 498.4558 - mse: 632916.7500 - 4s/epoch - 702us/step\n",
      "Epoch 20/50\n",
      "5814/5814 - 4s - loss: 497.6453 - mse: 632904.6250 - 4s/epoch - 711us/step\n",
      "Epoch 21/50\n",
      "5814/5814 - 5s - loss: 497.7131 - mse: 630946.7500 - 5s/epoch - 803us/step\n",
      "Epoch 22/50\n",
      "5814/5814 - 5s - loss: 497.5361 - mse: 631094.8125 - 5s/epoch - 805us/step\n",
      "Epoch 23/50\n",
      "5814/5814 - 4s - loss: 497.5089 - mse: 630593.6250 - 4s/epoch - 716us/step\n",
      "Epoch 24/50\n",
      "5814/5814 - 4s - loss: 496.9576 - mse: 628072.0000 - 4s/epoch - 716us/step\n",
      "Epoch 25/50\n",
      "5814/5814 - 4s - loss: 497.2286 - mse: 631404.8125 - 4s/epoch - 719us/step\n",
      "Epoch 26/50\n",
      "5814/5814 - 4s - loss: 497.1888 - mse: 630396.0000 - 4s/epoch - 712us/step\n",
      "Epoch 27/50\n",
      "5814/5814 - 4s - loss: 496.9744 - mse: 629934.5625 - 4s/epoch - 706us/step\n",
      "Epoch 28/50\n",
      "5814/5814 - 4s - loss: 496.4404 - mse: 629013.2500 - 4s/epoch - 695us/step\n",
      "Epoch 29/50\n",
      "5814/5814 - 4s - loss: 496.1565 - mse: 627548.3125 - 4s/epoch - 716us/step\n",
      "Epoch 30/50\n",
      "5814/5814 - 4s - loss: 495.3522 - mse: 625689.1250 - 4s/epoch - 710us/step\n",
      "Epoch 31/50\n",
      "5814/5814 - 4s - loss: 495.6666 - mse: 623411.8125 - 4s/epoch - 716us/step\n",
      "Epoch 32/50\n",
      "5814/5814 - 4s - loss: 494.9596 - mse: 622545.3125 - 4s/epoch - 717us/step\n",
      "Epoch 33/50\n",
      "5814/5814 - 4s - loss: 494.9642 - mse: 622902.3750 - 4s/epoch - 705us/step\n",
      "Epoch 34/50\n",
      "5814/5814 - 4s - loss: 494.5774 - mse: 621596.8750 - 4s/epoch - 709us/step\n",
      "Epoch 35/50\n",
      "5814/5814 - 5s - loss: 494.3399 - mse: 623075.5625 - 5s/epoch - 828us/step\n",
      "Epoch 36/50\n",
      "5814/5814 - 4s - loss: 494.3515 - mse: 620109.6250 - 4s/epoch - 726us/step\n",
      "Epoch 37/50\n",
      "5814/5814 - 4s - loss: 494.2501 - mse: 618935.5000 - 4s/epoch - 724us/step\n",
      "Epoch 38/50\n",
      "5814/5814 - 4s - loss: 494.2092 - mse: 619054.0625 - 4s/epoch - 713us/step\n",
      "Epoch 39/50\n",
      "5814/5814 - 4s - loss: 494.0205 - mse: 620437.5000 - 4s/epoch - 723us/step\n",
      "Epoch 40/50\n",
      "5814/5814 - 4s - loss: 494.3850 - mse: 619506.1875 - 4s/epoch - 709us/step\n",
      "Epoch 41/50\n",
      "5814/5814 - 4s - loss: 494.3609 - mse: 619687.6250 - 4s/epoch - 722us/step\n",
      "Epoch 42/50\n",
      "5814/5814 - 4s - loss: 493.7053 - mse: 619845.8750 - 4s/epoch - 719us/step\n",
      "Epoch 43/50\n",
      "5814/5814 - 4s - loss: 493.4237 - mse: 618270.7500 - 4s/epoch - 723us/step\n",
      "Epoch 44/50\n",
      "5814/5814 - 4s - loss: 494.2719 - mse: 618954.6875 - 4s/epoch - 701us/step\n",
      "Epoch 45/50\n",
      "5814/5814 - 4s - loss: 494.0339 - mse: 616640.3750 - 4s/epoch - 701us/step\n",
      "Epoch 46/50\n",
      "5814/5814 - 4s - loss: 494.1657 - mse: 618542.6250 - 4s/epoch - 736us/step\n",
      "Epoch 47/50\n",
      "5814/5814 - 4s - loss: 493.8707 - mse: 617393.9375 - 4s/epoch - 710us/step\n",
      "Epoch 48/50\n",
      "5814/5814 - 4s - loss: 493.9821 - mse: 619023.5000 - 4s/epoch - 717us/step\n",
      "Epoch 49/50\n",
      "5814/5814 - 4s - loss: 493.8222 - mse: 617131.1875 - 4s/epoch - 714us/step\n",
      "Epoch 50/50\n",
      "5814/5814 - 4s - loss: 494.1140 - mse: 618500.1875 - 4s/epoch - 705us/step\n"
     ]
    },
    {
     "data": {
      "text/plain": [
       "<keras.callbacks.History at 0x7f06ac46fc70>"
      ]
     },
     "execution_count": 23,
     "metadata": {},
     "output_type": "execute_result"
    }
   ],
   "source": [
    "# Entrenamiento del modelo\n",
    "modelo_1.fit(x_train_transform,y_train,epochs=50,batch_size=10,verbose=2)"
   ]
  },
  {
   "cell_type": "code",
   "execution_count": 24,
   "id": "1bc3009f-3848-4d81-9d84-131cc3c625be",
   "metadata": {},
   "outputs": [
    {
     "name": "stdout",
     "output_type": "stream",
     "text": [
      "455/455 [==============================] - 0s 808us/step\n",
      "Error absoluto medio 2632.6389761478313\n",
      "Error cuadrático medio 10640431.25052853\n"
     ]
    }
   ],
   "source": [
    "y_pred = modelo_1.predict(x_test_transform)\n",
    "\n",
    "mae = mean_absolute_error(y_test,y_pred)\n",
    "mse = mean_squared_error(y_test,y_pred)\n",
    "\n",
    "print(f\"Error absoluto medio {mae}\")\n",
    "print(f\"Error cuadrático medio {mse}\")"
   ]
  },
  {
   "cell_type": "markdown",
   "id": "efd1d8d5-ad87-4e08-b6f9-9df91b316dca",
   "metadata": {
    "tags": []
   },
   "source": [
    "## Modelo 2"
   ]
  },
  {
   "cell_type": "code",
   "execution_count": 25,
   "id": "768fe394-4ed2-46e2-97c3-58aeff553b6d",
   "metadata": {},
   "outputs": [],
   "source": [
    "d_in=8\n",
    "d_out=1\n",
    "\n",
    "modelo_2 = keras.Sequential([\n",
    "    keras.layers.Dense(8,input_shape=(d_in,), activation=\"relu\"),\n",
    "    \n",
    "    keras.layers.Dense(2, activation=\"tanh\" ),\n",
    "    \n",
    "    keras.layers.Dense(d_out, )])"
   ]
  },
  {
   "cell_type": "code",
   "execution_count": 26,
   "id": "072b2ae7-7028-448f-b3eb-4581f8061fa2",
   "metadata": {},
   "outputs": [
    {
     "name": "stdout",
     "output_type": "stream",
     "text": [
      "Model: \"sequential_2\"\n",
      "_________________________________________________________________\n",
      " Layer (type)                Output Shape              Param #   \n",
      "=================================================================\n",
      " dense_9 (Dense)             (None, 8)                 72        \n",
      "                                                                 \n",
      " dense_10 (Dense)            (None, 2)                 18        \n",
      "                                                                 \n",
      " dense_11 (Dense)            (None, 1)                 3         \n",
      "                                                                 \n",
      "=================================================================\n",
      "Total params: 93\n",
      "Trainable params: 93\n",
      "Non-trainable params: 0\n",
      "_________________________________________________________________\n"
     ]
    }
   ],
   "source": [
    "modelo_2.summary()"
   ]
  },
  {
   "cell_type": "code",
   "execution_count": 27,
   "id": "d5323bd3-4897-4bc9-8d36-5aaf134660a8",
   "metadata": {},
   "outputs": [],
   "source": [
    "modelo_2.compile(\n",
    "      optimizer=keras.optimizers.SGD(learning_rate=0.01), \n",
    "      loss='mae', \n",
    "      metrics=['mse'], \n",
    ")"
   ]
  },
  {
   "cell_type": "code",
   "execution_count": 28,
   "id": "51371c32-2f0e-4415-aa19-c7c80f9a7ecf",
   "metadata": {
    "collapsed": true,
    "jupyter": {
     "outputs_hidden": true
    },
    "tags": []
   },
   "outputs": [
    {
     "name": "stdout",
     "output_type": "stream",
     "text": [
      "Epoch 1/50\n",
      "5814/5814 - 5s - loss: 2270.2227 - mse: 6124504.0000 - 5s/epoch - 900us/step\n",
      "Epoch 2/50\n",
      "5814/5814 - 5s - loss: 2095.9065 - mse: 5363692.5000 - 5s/epoch - 842us/step\n",
      "Epoch 3/50\n",
      "5814/5814 - 5s - loss: 1921.8785 - mse: 4662857.5000 - 5s/epoch - 775us/step\n",
      "Epoch 4/50\n",
      "5814/5814 - 5s - loss: 1749.1750 - mse: 4026891.2500 - 5s/epoch - 800us/step\n",
      "Epoch 5/50\n",
      "5814/5814 - 5s - loss: 1579.8099 - mse: 3455174.0000 - 5s/epoch - 863us/step\n",
      "Epoch 6/50\n",
      "5814/5814 - 4s - loss: 1416.9655 - mse: 2952105.2500 - 4s/epoch - 750us/step\n",
      "Epoch 7/50\n",
      "5814/5814 - 5s - loss: 1264.6191 - mse: 2519243.7500 - 5s/epoch - 780us/step\n",
      "Epoch 8/50\n",
      "5814/5814 - 5s - loss: 1126.9596 - mse: 2156782.0000 - 5s/epoch - 800us/step\n",
      "Epoch 9/50\n",
      "5814/5814 - 5s - loss: 1007.7740 - mse: 1863271.8750 - 5s/epoch - 806us/step\n",
      "Epoch 10/50\n",
      "5814/5814 - 5s - loss: 910.0781 - mse: 1633937.5000 - 5s/epoch - 809us/step\n",
      "Epoch 11/50\n",
      "5814/5814 - 5s - loss: 834.1715 - mse: 1459187.6250 - 5s/epoch - 783us/step\n",
      "Epoch 12/50\n",
      "5814/5814 - 4s - loss: 778.7419 - mse: 1330900.7500 - 4s/epoch - 758us/step\n",
      "Epoch 13/50\n",
      "5814/5814 - 5s - loss: 739.0797 - mse: 1237630.8750 - 5s/epoch - 786us/step\n",
      "Epoch 14/50\n",
      "5814/5814 - 5s - loss: 710.3882 - mse: 1170498.3750 - 5s/epoch - 808us/step\n",
      "Epoch 15/50\n",
      "5814/5814 - 5s - loss: 683.6354 - mse: 1113473.6250 - 5s/epoch - 784us/step\n",
      "Epoch 16/50\n",
      "5814/5814 - 5s - loss: 662.5313 - mse: 1062688.1250 - 5s/epoch - 800us/step\n",
      "Epoch 17/50\n",
      "5814/5814 - 5s - loss: 651.6320 - mse: 1031810.3125 - 5s/epoch - 801us/step\n",
      "Epoch 18/50\n",
      "5814/5814 - 5s - loss: 641.6888 - mse: 1006961.4375 - 5s/epoch - 793us/step\n",
      "Epoch 19/50\n",
      "5814/5814 - 4s - loss: 638.0869 - mse: 991792.3750 - 4s/epoch - 772us/step\n",
      "Epoch 20/50\n",
      "5814/5814 - 5s - loss: 634.9681 - mse: 979252.3125 - 5s/epoch - 795us/step\n",
      "Epoch 21/50\n",
      "5814/5814 - 5s - loss: 632.1706 - mse: 968633.1250 - 5s/epoch - 781us/step\n",
      "Epoch 22/50\n",
      "5814/5814 - 5s - loss: 628.9388 - mse: 959338.8125 - 5s/epoch - 775us/step\n",
      "Epoch 23/50\n",
      "5814/5814 - 4s - loss: 629.2555 - mse: 954381.7500 - 4s/epoch - 757us/step\n",
      "Epoch 24/50\n",
      "5814/5814 - 4s - loss: 630.7096 - mse: 953709.9375 - 4s/epoch - 771us/step\n",
      "Epoch 25/50\n",
      "5814/5814 - 4s - loss: 630.2183 - mse: 950330.0000 - 4s/epoch - 767us/step\n",
      "Epoch 26/50\n",
      "5814/5814 - 5s - loss: 626.4267 - mse: 942620.6250 - 5s/epoch - 781us/step\n",
      "Epoch 27/50\n",
      "5814/5814 - 5s - loss: 623.6519 - mse: 937330.4375 - 5s/epoch - 777us/step\n",
      "Epoch 28/50\n",
      "5814/5814 - 4s - loss: 622.5859 - mse: 933042.6875 - 4s/epoch - 764us/step\n",
      "Epoch 29/50\n",
      "5814/5814 - 5s - loss: 621.3380 - mse: 930347.0625 - 5s/epoch - 775us/step\n",
      "Epoch 30/50\n",
      "5814/5814 - 4s - loss: 636.7210 - mse: 953112.2500 - 4s/epoch - 760us/step\n",
      "Epoch 31/50\n",
      "5814/5814 - 4s - loss: 747.5315 - mse: 1227397.5000 - 4s/epoch - 770us/step\n",
      "Epoch 32/50\n",
      "5814/5814 - 4s - loss: 634.9525 - mse: 951371.2500 - 4s/epoch - 756us/step\n",
      "Epoch 33/50\n",
      "5814/5814 - 4s - loss: 631.8498 - mse: 943954.7500 - 4s/epoch - 772us/step\n",
      "Epoch 34/50\n",
      "5814/5814 - 4s - loss: 628.1263 - mse: 934166.9375 - 4s/epoch - 769us/step\n",
      "Epoch 35/50\n",
      "5814/5814 - 5s - loss: 629.6100 - mse: 935774.6875 - 5s/epoch - 796us/step\n",
      "Epoch 36/50\n",
      "5814/5814 - 5s - loss: 627.5444 - mse: 931635.0625 - 5s/epoch - 792us/step\n",
      "Epoch 37/50\n",
      "5814/5814 - 4s - loss: 628.3489 - mse: 932192.8125 - 4s/epoch - 763us/step\n",
      "Epoch 38/50\n",
      "5814/5814 - 4s - loss: 638.8185 - mse: 945106.1250 - 4s/epoch - 767us/step\n",
      "Epoch 39/50\n",
      "5814/5814 - 4s - loss: 627.6625 - mse: 930360.4375 - 4s/epoch - 768us/step\n",
      "Epoch 40/50\n",
      "5814/5814 - 4s - loss: 625.8680 - mse: 929365.9375 - 4s/epoch - 768us/step\n",
      "Epoch 41/50\n",
      "5814/5814 - 5s - loss: 633.9895 - mse: 941837.3125 - 5s/epoch - 781us/step\n",
      "Epoch 42/50\n",
      "5814/5814 - 4s - loss: 630.3638 - mse: 940247.5000 - 4s/epoch - 769us/step\n",
      "Epoch 43/50\n",
      "5814/5814 - 4s - loss: 626.8760 - mse: 933459.1250 - 4s/epoch - 761us/step\n",
      "Epoch 44/50\n",
      "5814/5814 - 5s - loss: 625.4786 - mse: 930352.5625 - 5s/epoch - 807us/step\n",
      "Epoch 45/50\n",
      "5814/5814 - 4s - loss: 624.0197 - mse: 926683.6875 - 4s/epoch - 770us/step\n",
      "Epoch 46/50\n",
      "5814/5814 - 4s - loss: 625.6532 - mse: 926625.9375 - 4s/epoch - 768us/step\n",
      "Epoch 47/50\n",
      "5814/5814 - 5s - loss: 624.4265 - mse: 924056.9375 - 5s/epoch - 774us/step\n",
      "Epoch 48/50\n",
      "5814/5814 - 4s - loss: 624.7764 - mse: 925710.5625 - 4s/epoch - 771us/step\n",
      "Epoch 49/50\n",
      "5814/5814 - 5s - loss: 623.2531 - mse: 922161.4375 - 5s/epoch - 781us/step\n",
      "Epoch 50/50\n",
      "5814/5814 - 5s - loss: 623.1220 - mse: 921605.1250 - 5s/epoch - 786us/step\n"
     ]
    },
    {
     "data": {
      "text/plain": [
       "<keras.callbacks.History at 0x7f06a4401970>"
      ]
     },
     "execution_count": 28,
     "metadata": {},
     "output_type": "execute_result"
    }
   ],
   "source": [
    "# Entrenamiento del modelo\n",
    "modelo_2.fit(x_train_transform,y_train,epochs=50,batch_size=10,verbose=2)"
   ]
  },
  {
   "cell_type": "code",
   "execution_count": 29,
   "id": "e94ac23f-cf14-4158-a14b-eb2df447717d",
   "metadata": {},
   "outputs": [
    {
     "name": "stdout",
     "output_type": "stream",
     "text": [
      "455/455 [==============================] - 0s 801us/step\n",
      "Error absoluto medio 869.3670241384706\n",
      "Error cuadrático medio 1480091.557447561\n"
     ]
    }
   ],
   "source": [
    "y_pred = modelo_2.predict(x_test_transform)\n",
    "\n",
    "mae = mean_absolute_error(y_test,y_pred)\n",
    "mse = mean_squared_error(y_test,y_pred)\n",
    "\n",
    "print(f\"Error absoluto medio {mae}\")\n",
    "print(f\"Error cuadrático medio {mse}\")"
   ]
  },
  {
   "cell_type": "markdown",
   "id": "58ead6a4-fd67-47b6-b8c7-8c39b3f7b979",
   "metadata": {},
   "source": [
    "Disminuyo el error"
   ]
  },
  {
   "cell_type": "markdown",
   "id": "406e432b-d5b5-4d5d-b1d3-0e7766f900dd",
   "metadata": {
    "tags": []
   },
   "source": [
    "## Modelo 3"
   ]
  },
  {
   "cell_type": "code",
   "execution_count": 30,
   "id": "bc4015c2-773b-4604-9669-da2c2b0a3250",
   "metadata": {},
   "outputs": [],
   "source": [
    "d_in=8\n",
    "d_out=1\n",
    "\n",
    "modelo_3 = keras.Sequential([\n",
    "    keras.layers.Dense(8,input_shape=(d_in,), activation=\"relu\"),\n",
    "    \n",
    "    keras.layers.Dense(2, activation=\"tanh\" ),\n",
    "    \n",
    "    keras.layers.Dense(d_out, )])"
   ]
  },
  {
   "cell_type": "code",
   "execution_count": 31,
   "id": "08158cc1-615f-4e4b-a7ac-cf2266657840",
   "metadata": {},
   "outputs": [
    {
     "name": "stdout",
     "output_type": "stream",
     "text": [
      "Model: \"sequential_3\"\n",
      "_________________________________________________________________\n",
      " Layer (type)                Output Shape              Param #   \n",
      "=================================================================\n",
      " dense_12 (Dense)            (None, 8)                 72        \n",
      "                                                                 \n",
      " dense_13 (Dense)            (None, 2)                 18        \n",
      "                                                                 \n",
      " dense_14 (Dense)            (None, 1)                 3         \n",
      "                                                                 \n",
      "=================================================================\n",
      "Total params: 93\n",
      "Trainable params: 93\n",
      "Non-trainable params: 0\n",
      "_________________________________________________________________\n"
     ]
    }
   ],
   "source": [
    "modelo_3.summary()"
   ]
  },
  {
   "cell_type": "code",
   "execution_count": 32,
   "id": "cb52f050-bf76-423f-8b7c-6f750bed13ab",
   "metadata": {},
   "outputs": [],
   "source": [
    "modelo_3.compile(\n",
    "      optimizer=keras.optimizers.SGD(learning_rate=0.01), \n",
    "      loss='mae', \n",
    "      metrics=['mse'], \n",
    ")"
   ]
  },
  {
   "cell_type": "code",
   "execution_count": 33,
   "id": "a56061df-1bb2-48b7-aae3-8c5ff2944495",
   "metadata": {
    "tags": []
   },
   "outputs": [
    {
     "name": "stdout",
     "output_type": "stream",
     "text": [
      "Epoch 1/100\n",
      "3634/3634 - 3s - loss: 2301.4167 - mse: 6265573.5000 - 3s/epoch - 884us/step\n",
      "Epoch 2/100\n",
      "3634/3634 - 3s - loss: 2192.4392 - mse: 5776061.5000 - 3s/epoch - 801us/step\n",
      "Epoch 3/100\n",
      "3634/3634 - 3s - loss: 2083.4766 - mse: 5309455.5000 - 3s/epoch - 764us/step\n",
      "Epoch 4/100\n",
      "3634/3634 - 3s - loss: 1974.6259 - mse: 4867917.5000 - 3s/epoch - 789us/step\n",
      "Epoch 5/100\n",
      "3634/3634 - 3s - loss: 1866.1239 - mse: 4450082.5000 - 3s/epoch - 767us/step\n",
      "Epoch 6/100\n",
      "3634/3634 - 3s - loss: 1758.3347 - mse: 4057627.0000 - 3s/epoch - 752us/step\n",
      "Epoch 7/100\n",
      "3634/3634 - 3s - loss: 1651.7354 - mse: 3690412.2500 - 3s/epoch - 748us/step\n",
      "Epoch 8/100\n",
      "3634/3634 - 3s - loss: 1547.0867 - mse: 3348864.5000 - 3s/epoch - 785us/step\n",
      "Epoch 9/100\n",
      "3634/3634 - 3s - loss: 1445.2424 - mse: 3034706.7500 - 3s/epoch - 877us/step\n",
      "Epoch 10/100\n",
      "3634/3634 - 3s - loss: 1347.2334 - mse: 2748592.2500 - 3s/epoch - 855us/step\n",
      "Epoch 11/100\n",
      "3634/3634 - 3s - loss: 1253.9591 - mse: 2489571.5000 - 3s/epoch - 856us/step\n",
      "Epoch 12/100\n",
      "3634/3634 - 3s - loss: 1166.5853 - mse: 2258375.2500 - 3s/epoch - 741us/step\n",
      "Epoch 13/100\n",
      "3634/3634 - 3s - loss: 1086.0342 - mse: 2054030.5000 - 3s/epoch - 765us/step\n",
      "Epoch 14/100\n",
      "3634/3634 - 3s - loss: 1013.2202 - mse: 1876357.7500 - 3s/epoch - 885us/step\n",
      "Epoch 15/100\n",
      "3634/3634 - 3s - loss: 948.7598 - mse: 1723417.2500 - 3s/epoch - 945us/step\n",
      "Epoch 16/100\n",
      "3634/3634 - 3s - loss: 893.0861 - mse: 1594468.5000 - 3s/epoch - 894us/step\n",
      "Epoch 17/100\n",
      "3634/3634 - 3s - loss: 846.0645 - mse: 1486025.8750 - 3s/epoch - 863us/step\n",
      "Epoch 18/100\n",
      "3634/3634 - 3s - loss: 807.1728 - mse: 1397074.3750 - 3s/epoch - 893us/step\n",
      "Epoch 19/100\n",
      "3634/3634 - 3s - loss: 775.4144 - mse: 1323082.3750 - 3s/epoch - 796us/step\n",
      "Epoch 20/100\n",
      "3634/3634 - 3s - loss: 749.6960 - mse: 1262683.7500 - 3s/epoch - 814us/step\n",
      "Epoch 21/100\n",
      "3634/3634 - 3s - loss: 729.0253 - mse: 1213828.0000 - 3s/epoch - 952us/step\n",
      "Epoch 22/100\n",
      "3634/3634 - 3s - loss: 712.5340 - mse: 1173440.0000 - 3s/epoch - 747us/step\n",
      "Epoch 23/100\n",
      "3634/3634 - 3s - loss: 699.6422 - mse: 1140969.2500 - 3s/epoch - 771us/step\n",
      "Epoch 24/100\n",
      "3634/3634 - 3s - loss: 689.4600 - mse: 1114622.5000 - 3s/epoch - 762us/step\n",
      "Epoch 25/100\n",
      "3634/3634 - 3s - loss: 681.5119 - mse: 1092834.1250 - 3s/epoch - 764us/step\n",
      "Epoch 26/100\n",
      "3634/3634 - 3s - loss: 675.4010 - mse: 1075359.8750 - 3s/epoch - 763us/step\n",
      "Epoch 27/100\n",
      "3634/3634 - 3s - loss: 670.6503 - mse: 1061006.8750 - 3s/epoch - 758us/step\n",
      "Epoch 28/100\n",
      "3634/3634 - 3s - loss: 666.7993 - mse: 1049016.0000 - 3s/epoch - 769us/step\n",
      "Epoch 29/100\n",
      "3634/3634 - 3s - loss: 652.3722 - mse: 1025471.2500 - 3s/epoch - 774us/step\n",
      "Epoch 30/100\n",
      "3634/3634 - 3s - loss: 644.6390 - mse: 1009464.3750 - 3s/epoch - 754us/step\n",
      "Epoch 31/100\n",
      "3634/3634 - 3s - loss: 658.8870 - mse: 1019933.5625 - 3s/epoch - 808us/step\n",
      "Epoch 32/100\n",
      "3634/3634 - 3s - loss: 657.7534 - mse: 1015005.0000 - 3s/epoch - 758us/step\n",
      "Epoch 33/100\n",
      "3634/3634 - 3s - loss: 656.8725 - mse: 1010875.8125 - 3s/epoch - 774us/step\n",
      "Epoch 34/100\n",
      "3634/3634 - 3s - loss: 656.1811 - mse: 1007357.0000 - 3s/epoch - 750us/step\n",
      "Epoch 35/100\n",
      "3634/3634 - 3s - loss: 655.6336 - mse: 1004420.2500 - 3s/epoch - 819us/step\n",
      "Epoch 36/100\n",
      "3634/3634 - 3s - loss: 655.2009 - mse: 1001818.5000 - 3s/epoch - 787us/step\n",
      "Epoch 37/100\n",
      "3634/3634 - 3s - loss: 654.8550 - mse: 999536.3750 - 3s/epoch - 786us/step\n",
      "Epoch 38/100\n",
      "3634/3634 - 3s - loss: 654.5856 - mse: 997715.4375 - 3s/epoch - 775us/step\n",
      "Epoch 39/100\n",
      "3634/3634 - 3s - loss: 654.3730 - mse: 996096.9375 - 3s/epoch - 757us/step\n",
      "Epoch 40/100\n",
      "3634/3634 - 3s - loss: 654.2090 - mse: 994560.6250 - 3s/epoch - 764us/step\n",
      "Epoch 41/100\n",
      "3634/3634 - 3s - loss: 654.0812 - mse: 993433.9375 - 3s/epoch - 768us/step\n",
      "Epoch 42/100\n",
      "3634/3634 - 3s - loss: 653.9787 - mse: 992335.2500 - 3s/epoch - 789us/step\n",
      "Epoch 43/100\n",
      "3634/3634 - 3s - loss: 653.9069 - mse: 991524.1250 - 3s/epoch - 765us/step\n",
      "Epoch 44/100\n",
      "3634/3634 - 3s - loss: 653.8538 - mse: 990838.0000 - 3s/epoch - 756us/step\n",
      "Epoch 45/100\n",
      "3634/3634 - 3s - loss: 653.8100 - mse: 990172.2500 - 3s/epoch - 798us/step\n",
      "Epoch 46/100\n",
      "3634/3634 - 3s - loss: 653.7778 - mse: 989589.2500 - 3s/epoch - 790us/step\n",
      "Epoch 47/100\n",
      "3634/3634 - 3s - loss: 653.7503 - mse: 989132.1250 - 3s/epoch - 797us/step\n",
      "Epoch 48/100\n",
      "3634/3634 - 3s - loss: 653.7291 - mse: 988758.6875 - 3s/epoch - 771us/step\n",
      "Epoch 49/100\n",
      "3634/3634 - 3s - loss: 653.7128 - mse: 988352.7500 - 3s/epoch - 787us/step\n",
      "Epoch 50/100\n",
      "3634/3634 - 3s - loss: 653.7001 - mse: 987977.3125 - 3s/epoch - 776us/step\n",
      "Epoch 51/100\n",
      "3634/3634 - 3s - loss: 653.6896 - mse: 987669.7500 - 3s/epoch - 751us/step\n",
      "Epoch 52/100\n",
      "3634/3634 - 3s - loss: 653.6826 - mse: 987450.6875 - 3s/epoch - 754us/step\n",
      "Epoch 53/100\n",
      "3634/3634 - 3s - loss: 653.6749 - mse: 987140.8750 - 3s/epoch - 782us/step\n",
      "Epoch 54/100\n",
      "3634/3634 - 3s - loss: 653.6697 - mse: 986940.5625 - 3s/epoch - 761us/step\n",
      "Epoch 55/100\n",
      "3634/3634 - 3s - loss: 653.6654 - mse: 986829.8125 - 3s/epoch - 773us/step\n",
      "Epoch 56/100\n",
      "3634/3634 - 3s - loss: 653.6609 - mse: 986557.7500 - 3s/epoch - 782us/step\n",
      "Epoch 57/100\n",
      "3634/3634 - 3s - loss: 653.6576 - mse: 986430.4375 - 3s/epoch - 802us/step\n",
      "Epoch 58/100\n",
      "3634/3634 - 3s - loss: 653.6545 - mse: 986253.6875 - 3s/epoch - 771us/step\n",
      "Epoch 59/100\n",
      "3634/3634 - 3s - loss: 653.6519 - mse: 986086.4375 - 3s/epoch - 758us/step\n",
      "Epoch 60/100\n",
      "3634/3634 - 3s - loss: 653.6489 - mse: 985911.1250 - 3s/epoch - 774us/step\n",
      "Epoch 61/100\n",
      "3634/3634 - 3s - loss: 653.6463 - mse: 985869.5000 - 3s/epoch - 778us/step\n",
      "Epoch 62/100\n",
      "3634/3634 - 3s - loss: 653.6440 - mse: 985737.8750 - 3s/epoch - 751us/step\n",
      "Epoch 63/100\n",
      "3634/3634 - 3s - loss: 653.6425 - mse: 985636.6250 - 3s/epoch - 786us/step\n",
      "Epoch 64/100\n",
      "3634/3634 - 3s - loss: 653.6426 - mse: 985624.9375 - 3s/epoch - 770us/step\n",
      "Epoch 65/100\n",
      "3634/3634 - 3s - loss: 653.6429 - mse: 985548.0625 - 3s/epoch - 764us/step\n",
      "Epoch 66/100\n",
      "3634/3634 - 3s - loss: 653.6429 - mse: 985598.6250 - 3s/epoch - 774us/step\n",
      "Epoch 67/100\n",
      "3634/3634 - 3s - loss: 653.6426 - mse: 985543.1875 - 3s/epoch - 774us/step\n",
      "Epoch 68/100\n",
      "3634/3634 - 3s - loss: 653.6441 - mse: 985533.6875 - 3s/epoch - 756us/step\n",
      "Epoch 69/100\n",
      "3634/3634 - 3s - loss: 653.6423 - mse: 985516.8750 - 3s/epoch - 784us/step\n",
      "Epoch 70/100\n",
      "3634/3634 - 3s - loss: 653.6434 - mse: 985532.0625 - 3s/epoch - 766us/step\n",
      "Epoch 71/100\n",
      "3634/3634 - 3s - loss: 653.6434 - mse: 985486.7500 - 3s/epoch - 795us/step\n",
      "Epoch 72/100\n",
      "3634/3634 - 3s - loss: 653.6435 - mse: 985515.2500 - 3s/epoch - 769us/step\n",
      "Epoch 73/100\n",
      "3634/3634 - 3s - loss: 653.6422 - mse: 985486.6250 - 3s/epoch - 780us/step\n",
      "Epoch 74/100\n",
      "3634/3634 - 3s - loss: 653.6423 - mse: 985523.1250 - 3s/epoch - 819us/step\n",
      "Epoch 75/100\n",
      "3634/3634 - 3s - loss: 653.6437 - mse: 985533.5625 - 3s/epoch - 763us/step\n",
      "Epoch 76/100\n",
      "3634/3634 - 3s - loss: 653.6418 - mse: 985498.3750 - 3s/epoch - 764us/step\n",
      "Epoch 77/100\n",
      "3634/3634 - 3s - loss: 653.6432 - mse: 985463.8125 - 3s/epoch - 809us/step\n",
      "Epoch 78/100\n",
      "3634/3634 - 3s - loss: 653.6437 - mse: 985469.8125 - 3s/epoch - 773us/step\n",
      "Epoch 79/100\n",
      "3634/3634 - 3s - loss: 653.6432 - mse: 985514.1875 - 3s/epoch - 767us/step\n",
      "Epoch 80/100\n",
      "3634/3634 - 3s - loss: 653.6429 - mse: 985413.9375 - 3s/epoch - 768us/step\n",
      "Epoch 81/100\n",
      "3634/3634 - 3s - loss: 653.6428 - mse: 985380.0000 - 3s/epoch - 792us/step\n",
      "Epoch 82/100\n",
      "3634/3634 - 3s - loss: 653.6443 - mse: 985514.8125 - 3s/epoch - 766us/step\n",
      "Epoch 83/100\n",
      "3634/3634 - 3s - loss: 653.6426 - mse: 985453.6250 - 3s/epoch - 771us/step\n",
      "Epoch 84/100\n",
      "3634/3634 - 3s - loss: 653.6437 - mse: 985426.1250 - 3s/epoch - 784us/step\n",
      "Epoch 85/100\n",
      "3634/3634 - 3s - loss: 653.6425 - mse: 985409.2500 - 3s/epoch - 792us/step\n",
      "Epoch 86/100\n",
      "3634/3634 - 3s - loss: 653.6436 - mse: 985464.6875 - 3s/epoch - 772us/step\n",
      "Epoch 87/100\n",
      "3634/3634 - 3s - loss: 653.6430 - mse: 985466.6250 - 3s/epoch - 765us/step\n",
      "Epoch 88/100\n",
      "3634/3634 - 3s - loss: 653.6431 - mse: 985392.5625 - 3s/epoch - 796us/step\n",
      "Epoch 89/100\n",
      "3634/3634 - 3s - loss: 653.6430 - mse: 985496.8125 - 3s/epoch - 771us/step\n",
      "Epoch 90/100\n",
      "3634/3634 - 3s - loss: 653.6428 - mse: 985475.4375 - 3s/epoch - 773us/step\n",
      "Epoch 91/100\n",
      "3634/3634 - 3s - loss: 653.6429 - mse: 985447.4375 - 3s/epoch - 773us/step\n",
      "Epoch 92/100\n",
      "3634/3634 - 3s - loss: 653.6428 - mse: 985425.8125 - 3s/epoch - 769us/step\n",
      "Epoch 93/100\n",
      "3634/3634 - 3s - loss: 653.6417 - mse: 985491.5000 - 3s/epoch - 757us/step\n",
      "Epoch 94/100\n",
      "3634/3634 - 3s - loss: 653.6426 - mse: 985410.8125 - 3s/epoch - 783us/step\n",
      "Epoch 95/100\n",
      "3634/3634 - 3s - loss: 653.6436 - mse: 985367.0000 - 3s/epoch - 799us/step\n",
      "Epoch 96/100\n",
      "3634/3634 - 3s - loss: 653.6431 - mse: 985441.9375 - 3s/epoch - 777us/step\n",
      "Epoch 97/100\n",
      "3634/3634 - 3s - loss: 653.6425 - mse: 985407.1875 - 3s/epoch - 785us/step\n",
      "Epoch 98/100\n",
      "3634/3634 - 3s - loss: 653.6417 - mse: 985448.6875 - 3s/epoch - 787us/step\n",
      "Epoch 99/100\n",
      "3634/3634 - 3s - loss: 653.6431 - mse: 985400.8125 - 3s/epoch - 805us/step\n",
      "Epoch 100/100\n",
      "3634/3634 - 3s - loss: 653.6432 - mse: 985449.5000 - 3s/epoch - 785us/step\n"
     ]
    },
    {
     "data": {
      "text/plain": [
       "<keras.callbacks.History at 0x7f06a4312340>"
      ]
     },
     "execution_count": 33,
     "metadata": {},
     "output_type": "execute_result"
    }
   ],
   "source": [
    "# Entrenamiento del modelo\n",
    "modelo_3.fit(x_train_transform,y_train,epochs=100,batch_size=16,verbose=2)"
   ]
  },
  {
   "cell_type": "code",
   "execution_count": 34,
   "id": "6691e98c-1a8e-4e33-a08c-dab1ba796658",
   "metadata": {},
   "outputs": [
    {
     "name": "stdout",
     "output_type": "stream",
     "text": [
      "455/455 [==============================] - 0s 737us/step\n",
      "Error absoluto medio 642.9030507443471\n",
      "Error cuadrático medio 916732.3549775477\n"
     ]
    }
   ],
   "source": [
    "y_pred = modelo_3.predict(x_test_transform)\n",
    "\n",
    "mae = mean_absolute_error(y_test,y_pred)\n",
    "mse = mean_squared_error(y_test,y_pred)\n",
    "\n",
    "print(f\"Error absoluto medio {mae}\")\n",
    "print(f\"Error cuadrático medio {mse}\")"
   ]
  },
  {
   "cell_type": "markdown",
   "id": "b68f1c62-8506-476f-9a98-05b1e7b38331",
   "metadata": {
    "tags": []
   },
   "source": [
    "## Modelo 4"
   ]
  },
  {
   "cell_type": "code",
   "execution_count": 36,
   "id": "30db322b-c853-429d-a347-64658858a51d",
   "metadata": {},
   "outputs": [],
   "source": [
    "d_in=8\n",
    "d_out=1\n",
    "\n",
    "modelo_4 = keras.Sequential([\n",
    "    keras.layers.Dense(8,input_shape=(d_in,), activation=\"relu\"),\n",
    "    \n",
    "    keras.layers.Dense(2, activation=\"tanh\" ),\n",
    "    \n",
    "    keras.layers.Dense(d_out, )])"
   ]
  },
  {
   "cell_type": "code",
   "execution_count": 37,
   "id": "f2b8d7a9-ea3e-4c46-8781-3ad7bb905477",
   "metadata": {},
   "outputs": [
    {
     "name": "stdout",
     "output_type": "stream",
     "text": [
      "Model: \"sequential_5\"\n",
      "_________________________________________________________________\n",
      " Layer (type)                Output Shape              Param #   \n",
      "=================================================================\n",
      " dense_18 (Dense)            (None, 8)                 72        \n",
      "                                                                 \n",
      " dense_19 (Dense)            (None, 2)                 18        \n",
      "                                                                 \n",
      " dense_20 (Dense)            (None, 1)                 3         \n",
      "                                                                 \n",
      "=================================================================\n",
      "Total params: 93\n",
      "Trainable params: 93\n",
      "Non-trainable params: 0\n",
      "_________________________________________________________________\n"
     ]
    }
   ],
   "source": [
    "modelo_4.summary()"
   ]
  },
  {
   "cell_type": "code",
   "execution_count": 38,
   "id": "b282f3c0-8556-443c-a4df-783242540d12",
   "metadata": {},
   "outputs": [],
   "source": [
    "modelo_4.compile(\n",
    "      optimizer='adam', \n",
    "      loss='mae', \n",
    "      metrics=['mse'], \n",
    ")"
   ]
  },
  {
   "cell_type": "code",
   "execution_count": 39,
   "id": "994e539b-8478-461b-a71d-371356df553c",
   "metadata": {
    "tags": []
   },
   "outputs": [
    {
     "name": "stdout",
     "output_type": "stream",
     "text": [
      "Epoch 1/100\n",
      "3634/3634 - 4s - loss: 2347.5730 - mse: 6479163.0000 - 4s/epoch - 1ms/step\n",
      "Epoch 2/100\n",
      "3634/3634 - 3s - loss: 2336.4302 - mse: 6426984.0000 - 3s/epoch - 881us/step\n",
      "Epoch 3/100\n",
      "3634/3634 - 3s - loss: 2325.5286 - mse: 6376093.0000 - 3s/epoch - 863us/step\n",
      "Epoch 4/100\n",
      "3634/3634 - 3s - loss: 2314.6184 - mse: 6325543.5000 - 3s/epoch - 863us/step\n",
      "Epoch 5/100\n",
      "3634/3634 - 3s - loss: 2303.7192 - mse: 6275179.0000 - 3s/epoch - 849us/step\n",
      "Epoch 6/100\n",
      "3634/3634 - 3s - loss: 2292.8267 - mse: 6225100.5000 - 3s/epoch - 876us/step\n",
      "Epoch 7/100\n",
      "3634/3634 - 3s - loss: 2281.9260 - mse: 6175266.5000 - 3s/epoch - 840us/step\n",
      "Epoch 8/100\n",
      "3634/3634 - 3s - loss: 2271.0376 - mse: 6125613.5000 - 3s/epoch - 862us/step\n",
      "Epoch 9/100\n",
      "3634/3634 - 3s - loss: 2260.1448 - mse: 6076222.0000 - 3s/epoch - 840us/step\n",
      "Epoch 10/100\n",
      "3634/3634 - 3s - loss: 2249.2463 - mse: 6027136.0000 - 3s/epoch - 961us/step\n",
      "Epoch 11/100\n",
      "3634/3634 - 3s - loss: 2238.3574 - mse: 5978249.5000 - 3s/epoch - 844us/step\n",
      "Epoch 12/100\n",
      "3634/3634 - 3s - loss: 2227.4680 - mse: 5929626.5000 - 3s/epoch - 841us/step\n",
      "Epoch 13/100\n",
      "3634/3634 - 3s - loss: 2216.5757 - mse: 5881194.0000 - 3s/epoch - 844us/step\n",
      "Epoch 14/100\n",
      "3634/3634 - 3s - loss: 2205.6782 - mse: 5833005.0000 - 3s/epoch - 855us/step\n",
      "Epoch 15/100\n",
      "3634/3634 - 3s - loss: 2194.7866 - mse: 5785036.5000 - 3s/epoch - 866us/step\n",
      "Epoch 16/100\n",
      "3634/3634 - 3s - loss: 2183.8955 - mse: 5737391.5000 - 3s/epoch - 843us/step\n",
      "Epoch 17/100\n",
      "3634/3634 - 3s - loss: 2173.0032 - mse: 5689911.0000 - 3s/epoch - 842us/step\n",
      "Epoch 18/100\n",
      "3634/3634 - 3s - loss: 2162.1128 - mse: 5642719.5000 - 3s/epoch - 843us/step\n",
      "Epoch 19/100\n",
      "3634/3634 - 3s - loss: 2151.2214 - mse: 5595670.5000 - 3s/epoch - 850us/step\n",
      "Epoch 20/100\n",
      "3634/3634 - 3s - loss: 2140.3267 - mse: 5548944.5000 - 3s/epoch - 838us/step\n",
      "Epoch 21/100\n",
      "3634/3634 - 3s - loss: 2129.4404 - mse: 5502433.5000 - 3s/epoch - 836us/step\n",
      "Epoch 22/100\n",
      "3634/3634 - 3s - loss: 2118.5505 - mse: 5456129.5000 - 3s/epoch - 857us/step\n",
      "Epoch 23/100\n",
      "3634/3634 - 3s - loss: 2107.6614 - mse: 5410109.0000 - 3s/epoch - 858us/step\n",
      "Epoch 24/100\n",
      "3634/3634 - 3s - loss: 2096.7693 - mse: 5364313.0000 - 3s/epoch - 852us/step\n",
      "Epoch 25/100\n",
      "3634/3634 - 3s - loss: 2085.8806 - mse: 5318719.5000 - 3s/epoch - 844us/step\n",
      "Epoch 26/100\n",
      "3634/3634 - 3s - loss: 2074.9922 - mse: 5273436.5000 - 3s/epoch - 839us/step\n",
      "Epoch 27/100\n",
      "3634/3634 - 3s - loss: 2064.1057 - mse: 5228282.5000 - 3s/epoch - 852us/step\n",
      "Epoch 28/100\n",
      "3634/3634 - 3s - loss: 2053.2219 - mse: 5183522.0000 - 3s/epoch - 838us/step\n",
      "Epoch 29/100\n",
      "3634/3634 - 3s - loss: 2042.3330 - mse: 5138869.0000 - 3s/epoch - 859us/step\n",
      "Epoch 30/100\n",
      "3634/3634 - 3s - loss: 2031.4501 - mse: 5094539.0000 - 3s/epoch - 851us/step\n",
      "Epoch 31/100\n",
      "3634/3634 - 3s - loss: 2020.5658 - mse: 5050360.0000 - 3s/epoch - 847us/step\n",
      "Epoch 32/100\n",
      "3634/3634 - 3s - loss: 2009.6891 - mse: 5006535.5000 - 3s/epoch - 841us/step\n",
      "Epoch 33/100\n",
      "3634/3634 - 3s - loss: 1998.8049 - mse: 4962871.5000 - 3s/epoch - 846us/step\n",
      "Epoch 34/100\n",
      "3634/3634 - 3s - loss: 1987.9327 - mse: 4919428.0000 - 3s/epoch - 854us/step\n",
      "Epoch 35/100\n",
      "3634/3634 - 3s - loss: 1977.0590 - mse: 4876208.0000 - 3s/epoch - 849us/step\n",
      "Epoch 36/100\n",
      "3634/3634 - 3s - loss: 1966.1543 - mse: 4833238.0000 - 3s/epoch - 886us/step\n",
      "Epoch 37/100\n",
      "3634/3634 - 3s - loss: 1955.2228 - mse: 4790307.5000 - 3s/epoch - 858us/step\n",
      "Epoch 38/100\n",
      "3634/3634 - 3s - loss: 1944.2926 - mse: 4747575.5000 - 3s/epoch - 850us/step\n",
      "Epoch 39/100\n",
      "3634/3634 - 3s - loss: 1933.3743 - mse: 4705196.5000 - 3s/epoch - 837us/step\n",
      "Epoch 40/100\n",
      "3634/3634 - 3s - loss: 1922.4523 - mse: 4663057.0000 - 3s/epoch - 865us/step\n",
      "Epoch 41/100\n",
      "3634/3634 - 3s - loss: 1911.5383 - mse: 4621094.5000 - 3s/epoch - 874us/step\n",
      "Epoch 42/100\n",
      "3634/3634 - 4s - loss: 1900.6304 - mse: 4579436.5000 - 4s/epoch - 1ms/step\n",
      "Epoch 43/100\n",
      "3634/3634 - 4s - loss: 1889.7195 - mse: 4538001.0000 - 4s/epoch - 1ms/step\n",
      "Epoch 44/100\n",
      "3634/3634 - 3s - loss: 1878.8214 - mse: 4496766.5000 - 3s/epoch - 878us/step\n",
      "Epoch 45/100\n",
      "3634/3634 - 4s - loss: 1867.9301 - mse: 4455880.5000 - 4s/epoch - 1ms/step\n",
      "Epoch 46/100\n",
      "3634/3634 - 3s - loss: 1857.0416 - mse: 4415149.0000 - 3s/epoch - 910us/step\n",
      "Epoch 47/100\n",
      "3634/3634 - 3s - loss: 1846.1642 - mse: 4374756.0000 - 3s/epoch - 879us/step\n",
      "Epoch 48/100\n",
      "3634/3634 - 3s - loss: 1835.2917 - mse: 4334523.5000 - 3s/epoch - 859us/step\n",
      "Epoch 49/100\n",
      "3634/3634 - 3s - loss: 1824.4205 - mse: 4294579.5000 - 3s/epoch - 882us/step\n",
      "Epoch 50/100\n",
      "3634/3634 - 3s - loss: 1813.5607 - mse: 4254897.0000 - 3s/epoch - 869us/step\n",
      "Epoch 51/100\n",
      "3634/3634 - 3s - loss: 1802.7012 - mse: 4215471.5000 - 3s/epoch - 865us/step\n",
      "Epoch 52/100\n",
      "3634/3634 - 3s - loss: 1791.8572 - mse: 4176272.5000 - 3s/epoch - 928us/step\n",
      "Epoch 53/100\n",
      "3634/3634 - 3s - loss: 1781.0142 - mse: 4137309.2500 - 3s/epoch - 923us/step\n",
      "Epoch 54/100\n",
      "3634/3634 - 3s - loss: 1770.1818 - mse: 4098589.7500 - 3s/epoch - 884us/step\n",
      "Epoch 55/100\n",
      "3634/3634 - 3s - loss: 1759.3563 - mse: 4060108.7500 - 3s/epoch - 882us/step\n",
      "Epoch 56/100\n",
      "3634/3634 - 3s - loss: 1748.5374 - mse: 4021937.0000 - 3s/epoch - 960us/step\n",
      "Epoch 57/100\n",
      "3634/3634 - 3s - loss: 1737.7214 - mse: 3983872.5000 - 3s/epoch - 913us/step\n",
      "Epoch 58/100\n",
      "3634/3634 - 3s - loss: 1726.9143 - mse: 3946133.5000 - 3s/epoch - 882us/step\n",
      "Epoch 59/100\n",
      "3634/3634 - 3s - loss: 1716.1212 - mse: 3908681.0000 - 3s/epoch - 871us/step\n",
      "Epoch 60/100\n",
      "3634/3634 - 3s - loss: 1705.3402 - mse: 3871448.0000 - 3s/epoch - 858us/step\n",
      "Epoch 61/100\n",
      "3634/3634 - 3s - loss: 1694.5604 - mse: 3834398.5000 - 3s/epoch - 876us/step\n",
      "Epoch 62/100\n",
      "3634/3634 - 3s - loss: 1683.7953 - mse: 3797640.0000 - 3s/epoch - 867us/step\n",
      "Epoch 63/100\n",
      "3634/3634 - 3s - loss: 1673.0436 - mse: 3761143.5000 - 3s/epoch - 851us/step\n",
      "Epoch 64/100\n",
      "3634/3634 - 3s - loss: 1662.2949 - mse: 3724841.0000 - 3s/epoch - 869us/step\n",
      "Epoch 65/100\n",
      "3634/3634 - 3s - loss: 1651.5717 - mse: 3688814.2500 - 3s/epoch - 862us/step\n",
      "Epoch 66/100\n",
      "3634/3634 - 3s - loss: 1640.8551 - mse: 3652998.7500 - 3s/epoch - 851us/step\n",
      "Epoch 67/100\n",
      "3634/3634 - 3s - loss: 1630.1528 - mse: 3617471.0000 - 3s/epoch - 853us/step\n",
      "Epoch 68/100\n",
      "3634/3634 - 3s - loss: 1619.4645 - mse: 3582196.0000 - 3s/epoch - 866us/step\n",
      "Epoch 69/100\n",
      "3634/3634 - 3s - loss: 1608.7806 - mse: 3547060.5000 - 3s/epoch - 863us/step\n",
      "Epoch 70/100\n",
      "3634/3634 - 3s - loss: 1598.1039 - mse: 3512215.5000 - 3s/epoch - 857us/step\n",
      "Epoch 71/100\n",
      "3634/3634 - 3s - loss: 1587.4406 - mse: 3477650.2500 - 3s/epoch - 866us/step\n",
      "Epoch 72/100\n",
      "3634/3634 - 3s - loss: 1576.7899 - mse: 3443278.5000 - 3s/epoch - 846us/step\n",
      "Epoch 73/100\n",
      "3634/3634 - 3s - loss: 1566.1434 - mse: 3409099.5000 - 3s/epoch - 880us/step\n",
      "Epoch 74/100\n",
      "3634/3634 - 3s - loss: 1555.5243 - mse: 3375195.0000 - 3s/epoch - 854us/step\n",
      "Epoch 75/100\n",
      "3634/3634 - 3s - loss: 1544.9220 - mse: 3341540.5000 - 3s/epoch - 860us/step\n",
      "Epoch 76/100\n",
      "3634/3634 - 3s - loss: 1534.3293 - mse: 3308128.7500 - 3s/epoch - 864us/step\n",
      "Epoch 77/100\n",
      "3634/3634 - 3s - loss: 1523.7583 - mse: 3275028.5000 - 3s/epoch - 860us/step\n",
      "Epoch 78/100\n",
      "3634/3634 - 3s - loss: 1513.2068 - mse: 3242118.0000 - 3s/epoch - 857us/step\n",
      "Epoch 79/100\n",
      "3634/3634 - 3s - loss: 1502.6793 - mse: 3209393.2500 - 3s/epoch - 892us/step\n",
      "Epoch 80/100\n",
      "3634/3634 - 3s - loss: 1492.1692 - mse: 3177000.5000 - 3s/epoch - 851us/step\n",
      "Epoch 81/100\n",
      "3634/3634 - 3s - loss: 1481.6830 - mse: 3144822.7500 - 3s/epoch - 891us/step\n",
      "Epoch 82/100\n",
      "3634/3634 - 3s - loss: 1471.2039 - mse: 3112802.0000 - 3s/epoch - 865us/step\n",
      "Epoch 83/100\n",
      "3634/3634 - 3s - loss: 1460.7434 - mse: 3081149.5000 - 3s/epoch - 889us/step\n",
      "Epoch 84/100\n",
      "3634/3634 - 3s - loss: 1450.3127 - mse: 3049582.7500 - 3s/epoch - 908us/step\n",
      "Epoch 85/100\n",
      "3634/3634 - 3s - loss: 1439.9060 - mse: 3018372.7500 - 3s/epoch - 858us/step\n",
      "Epoch 86/100\n",
      "3634/3634 - 4s - loss: 1429.5189 - mse: 2987394.5000 - 4s/epoch - 1ms/step\n",
      "Epoch 87/100\n",
      "3634/3634 - 3s - loss: 1419.1633 - mse: 2956654.0000 - 3s/epoch - 953us/step\n",
      "Epoch 88/100\n",
      "3634/3634 - 3s - loss: 1408.8313 - mse: 2926148.7500 - 3s/epoch - 879us/step\n",
      "Epoch 89/100\n",
      "3634/3634 - 3s - loss: 1398.5121 - mse: 2895827.2500 - 3s/epoch - 859us/step\n",
      "Epoch 90/100\n",
      "3634/3634 - 3s - loss: 1388.2206 - mse: 2865809.2500 - 3s/epoch - 884us/step\n",
      "Epoch 91/100\n",
      "3634/3634 - 3s - loss: 1377.9657 - mse: 2836026.7500 - 3s/epoch - 863us/step\n",
      "Epoch 92/100\n",
      "3634/3634 - 3s - loss: 1367.7178 - mse: 2806497.2500 - 3s/epoch - 866us/step\n",
      "Epoch 93/100\n",
      "3634/3634 - 3s - loss: 1357.5240 - mse: 2777163.0000 - 3s/epoch - 860us/step\n",
      "Epoch 94/100\n",
      "3634/3634 - 3s - loss: 1347.3368 - mse: 2748091.5000 - 3s/epoch - 883us/step\n",
      "Epoch 95/100\n",
      "3634/3634 - 3s - loss: 1337.1654 - mse: 2719292.5000 - 3s/epoch - 860us/step\n",
      "Epoch 96/100\n",
      "3634/3634 - 3s - loss: 1327.0461 - mse: 2690686.0000 - 3s/epoch - 863us/step\n",
      "Epoch 97/100\n",
      "3634/3634 - 3s - loss: 1316.9517 - mse: 2662354.0000 - 3s/epoch - 857us/step\n",
      "Epoch 98/100\n",
      "3634/3634 - 3s - loss: 1306.8801 - mse: 2634239.0000 - 3s/epoch - 863us/step\n",
      "Epoch 99/100\n",
      "3634/3634 - 3s - loss: 1296.8516 - mse: 2606427.2500 - 3s/epoch - 852us/step\n",
      "Epoch 100/100\n",
      "3634/3634 - 4s - loss: 1286.8568 - mse: 2578752.5000 - 4s/epoch - 1ms/step\n"
     ]
    },
    {
     "data": {
      "text/plain": [
       "<keras.callbacks.History at 0x7f06a41bfb80>"
      ]
     },
     "execution_count": 39,
     "metadata": {},
     "output_type": "execute_result"
    }
   ],
   "source": [
    "# Entrenamiento del modelo\n",
    "modelo_4.fit(x_train_transform,y_train,epochs=100,batch_size=16,verbose=2)"
   ]
  },
  {
   "cell_type": "code",
   "execution_count": 40,
   "id": "ac1a1948-e7cd-4a8a-9384-947fe4c5387a",
   "metadata": {},
   "outputs": [
    {
     "name": "stdout",
     "output_type": "stream",
     "text": [
      "455/455 [==============================] - 0s 772us/step\n",
      "Error absoluto medio 1263.1427911532794\n",
      "Error cuadrático medio 2452647.5115254335\n"
     ]
    }
   ],
   "source": [
    "y_pred = modelo_4.predict(x_test_transform)\n",
    "\n",
    "mae = mean_absolute_error(y_test,y_pred)\n",
    "mse = mean_squared_error(y_test,y_pred)\n",
    "\n",
    "print(f\"Error absoluto medio {mae}\")\n",
    "print(f\"Error cuadrático medio {mse}\")"
   ]
  },
  {
   "cell_type": "code",
   "execution_count": null,
   "id": "1d80d390-3681-40bb-aa9f-2b106c4f18bb",
   "metadata": {},
   "outputs": [],
   "source": []
  }
 ],
 "metadata": {
  "kernelspec": {
   "display_name": "Python 3 (ipykernel)",
   "language": "python",
   "name": "python3"
  },
  "language_info": {
   "codemirror_mode": {
    "name": "ipython",
    "version": 3
   },
   "file_extension": ".py",
   "mimetype": "text/x-python",
   "name": "python",
   "nbconvert_exporter": "python",
   "pygments_lexer": "ipython3",
   "version": "3.8.10"
  }
 },
 "nbformat": 4,
 "nbformat_minor": 5
}
