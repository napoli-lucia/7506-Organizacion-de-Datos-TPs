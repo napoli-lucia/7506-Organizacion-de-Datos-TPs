{
 "cells": [
  {
   "cell_type": "markdown",
   "id": "c0db7545-d3e7-47bb-b687-76dcb4deba39",
   "metadata": {},
   "source": [
    "# <center>Organizaci&oacute;n de Datos</center>\n",
    "#### <center>C&aacute;tedra Ing. Rodriguez, Juan Manuel </center>\n",
    "\n",
    "## <center>Trabajo Práctico 2:</center>\n",
    "### <center>  Propiedades en Venta</center>\n",
    "### <center>  Grupo 18</center>\n",
    "### <center>NLP</center>\n",
    "\n",
    "\n",
    "#### **Integrantes:**\n",
    "\n",
    "* Analía Acevedo\n",
    "* Santiago Daniel Marczewski Neudeck\n",
    "* Lucia Belén Napoli\n",
    "* Brayan Ricaldi"
   ]
  },
  {
   "cell_type": "code",
   "execution_count": 2,
   "id": "f7090a4a-157e-4209-a1b4-07f910f59068",
   "metadata": {},
   "outputs": [],
   "source": [
    "import pandas as pd\n",
    "import matplotlib.pyplot as plt\n",
    "import seaborn as sns\n",
    "import numpy as np\n",
    "\n",
    "import sklearn.preprocessing as skp\n",
    "from sklearn.preprocessing import StandardScaler\n",
    "from sklearn.preprocessing import MinMaxScaler\n",
    "\n",
    "\n",
    "from sklearn.metrics import mean_squared_error\n",
    "from sklearn.neighbors import KNeighborsRegressor\n",
    "from sklearn.decomposition import PCA\n",
    "from sklearn.model_selection import train_test_split\n",
    "from sklearn.cluster import KMeans\n",
    "from sklearn.metrics import silhouette_score\n",
    "from sklearn.feature_extraction import FeatureHasher\n",
    "from sklearn.feature_selection import VarianceThreshold\n",
    "from sklearn.impute import KNNImputer, SimpleImputer\n",
    "from sklearn.linear_model import LinearRegression\n",
    "from sklearn.preprocessing import (\n",
    "    KBinsDiscretizer,\n",
    "    LabelEncoder,\n",
    "    MinMaxScaler,\n",
    "    Normalizer,\n",
    "    OneHotEncoder,\n",
    "    OrdinalEncoder,\n",
    "    PowerTransformer,\n",
    "    RobustScaler,\n",
    "    StandardScaler,\n",
    ")\n",
    "\n",
    "import warnings\n",
    "\n",
    "warnings.simplefilter(action=\"ignore\", category=FutureWarning)\n",
    "\n",
    "from sklearn.model_selection import RandomizedSearchCV\n",
    "from joblib import dump, load\n",
    "\n",
    "pd.options.display.max_columns = None"
   ]
  },
  {
   "cell_type": "markdown",
   "id": "46e500f2-1608-4e42-9412-134aa012bcd7",
   "metadata": {},
   "source": [
    "Descargo los dataSet a usar"
   ]
  },
  {
   "cell_type": "code",
   "execution_count": 3,
   "id": "2142391c-3e01-49be-95a7-398c8441f461",
   "metadata": {},
   "outputs": [],
   "source": [
    "_x_train = pd.read_csv('./DataSet/TP2-NLP/x_train')\n",
    "_x_train.drop(columns=['Unnamed: 0'],inplace=True)\n",
    "_y_train = pd.read_csv('./DataSet/TP2-NLP/y_train')\n",
    "_y_train.drop(columns=['Unnamed: 0'],inplace=True)\n",
    "_x_test = pd.read_csv('./DataSet/TP2-NLP/x_test')\n",
    "_x_test.drop(columns=['Unnamed: 0'],inplace=True)\n",
    "_y_test = pd.read_csv('./DataSet/TP2-NLP/y_test')\n",
    "_y_test.drop(columns=['Unnamed: 0'],inplace=True)\n",
    "_y_train.rename(columns={'0':'pxm2'}, inplace=True)\n",
    "_y_test.rename(columns={'0':'pxm2'}, inplace=True)"
   ]
  },
  {
   "cell_type": "markdown",
   "id": "95becf50-76a8-4f6d-acf4-aa266f2c33e0",
   "metadata": {},
   "source": [
    "Creo una copia, asi no modifico el original"
   ]
  },
  {
   "cell_type": "code",
   "execution_count": 4,
   "id": "9cef4040-7857-41b9-8262-cc8e591f4529",
   "metadata": {},
   "outputs": [],
   "source": [
    "x_train = _x_train.copy()\n",
    "y_train = _y_train.copy()\n",
    "x_test = _x_test.copy()\n",
    "y_test = _y_test.copy()"
   ]
  },
  {
   "cell_type": "markdown",
   "id": "41f2686f-8e02-4f94-8442-f91afa683f36",
   "metadata": {},
   "source": [
    "Descargo el dataSet de descripciones"
   ]
  },
  {
   "cell_type": "code",
   "execution_count": 5,
   "id": "4c58d078-1b1a-47c2-97d9-64d49fbb3419",
   "metadata": {},
   "outputs": [
    {
     "data": {
      "text/html": [
       "<div>\n",
       "<style scoped>\n",
       "    .dataframe tbody tr th:only-of-type {\n",
       "        vertical-align: middle;\n",
       "    }\n",
       "\n",
       "    .dataframe tbody tr th {\n",
       "        vertical-align: top;\n",
       "    }\n",
       "\n",
       "    .dataframe thead th {\n",
       "        text-align: right;\n",
       "    }\n",
       "</style>\n",
       "<table border=\"1\" class=\"dataframe\">\n",
       "  <thead>\n",
       "    <tr style=\"text-align: right;\">\n",
       "      <th></th>\n",
       "      <th>id</th>\n",
       "      <th>property_description</th>\n",
       "    </tr>\n",
       "  </thead>\n",
       "  <tbody>\n",
       "    <tr>\n",
       "      <th>0</th>\n",
       "      <td>BZCeiGkJr1WBUi6pKJQwJQ==</td>\n",
       "      <td>Corredor Responsable: MARIA ALEJANDRA GENOVEVA...</td>\n",
       "    </tr>\n",
       "    <tr>\n",
       "      <th>1</th>\n",
       "      <td>zuHOGgUE0UB71W7m/YCLoA==</td>\n",
       "      <td>¡HERMOSO PH TIPO CASA DE 2 AMBIENTES!&lt;br&gt;APTO ...</td>\n",
       "    </tr>\n",
       "    <tr>\n",
       "      <th>2</th>\n",
       "      <td>TUL813tXchVBlHUsfaA6DA==</td>\n",
       "      <td>Excelente PH en Núñez 4 amb!!!! Oportunidad !!...</td>\n",
       "    </tr>\n",
       "    <tr>\n",
       "      <th>3</th>\n",
       "      <td>gn55JPmcjftBV/at1a7fPg==</td>\n",
       "      <td>UNICO PH DE 4 DORMITORIOS EN IMPECABLE ESTADO,...</td>\n",
       "    </tr>\n",
       "    <tr>\n",
       "      <th>4</th>\n",
       "      <td>qg4m3QHcuo1+wMmyp7kx3Q==</td>\n",
       "      <td>Ph 2 Amb. Villa Crespo exclusivo uso profesion...</td>\n",
       "    </tr>\n",
       "  </tbody>\n",
       "</table>\n",
       "</div>"
      ],
      "text/plain": [
       "                         id                               property_description\n",
       "0  BZCeiGkJr1WBUi6pKJQwJQ==  Corredor Responsable: MARIA ALEJANDRA GENOVEVA...\n",
       "1  zuHOGgUE0UB71W7m/YCLoA==  ¡HERMOSO PH TIPO CASA DE 2 AMBIENTES!<br>APTO ...\n",
       "2  TUL813tXchVBlHUsfaA6DA==  Excelente PH en Núñez 4 amb!!!! Oportunidad !!...\n",
       "3  gn55JPmcjftBV/at1a7fPg==  UNICO PH DE 4 DORMITORIOS EN IMPECABLE ESTADO,...\n",
       "4  qg4m3QHcuo1+wMmyp7kx3Q==  Ph 2 Amb. Villa Crespo exclusivo uso profesion..."
      ]
     },
     "execution_count": 5,
     "metadata": {},
     "output_type": "execute_result"
    }
   ],
   "source": [
    "df_descrip = pd.read_csv(\"./DataSet/TP2-NLP/descripciones.csv\")\n",
    "df_descrip.head()"
   ]
  },
  {
   "cell_type": "code",
   "execution_count": 6,
   "id": "e16fd2b0-b571-443c-908f-d10642ccc7c1",
   "metadata": {},
   "outputs": [
    {
     "data": {
      "text/plain": [
       "(460154, 2)"
      ]
     },
     "execution_count": 6,
     "metadata": {},
     "output_type": "execute_result"
    }
   ],
   "source": [
    "df_descrip.shape"
   ]
  },
  {
   "cell_type": "markdown",
   "id": "e7249681-3be5-4985-9f1a-eb496cc103eb",
   "metadata": {},
   "source": [
    "A continuacion unire los datos de mi dataSet con su respectiva descripcion mediante su id."
   ]
  },
  {
   "cell_type": "code",
   "execution_count": 7,
   "id": "16d09f03-6f3e-4a26-b6a4-f0c7da41e2a3",
   "metadata": {},
   "outputs": [],
   "source": [
    "x_train = pd.merge(x_train, df_descrip, on=\"id\")"
   ]
  },
  {
   "cell_type": "code",
   "execution_count": 8,
   "id": "5d42bbe5-9504-4a7d-b6e8-df442012f5ed",
   "metadata": {},
   "outputs": [],
   "source": [
    "x_test = pd.merge(x_test, df_descrip, on=\"id\")"
   ]
  },
  {
   "cell_type": "markdown",
   "id": "49103dcf-a824-4618-a2cc-e2fcf71e11c3",
   "metadata": {},
   "source": [
    "Ahora si puedo eliminar el feature id"
   ]
  },
  {
   "cell_type": "code",
   "execution_count": 9,
   "id": "1868f8fb-5862-4211-93cd-fe6d3761b0e3",
   "metadata": {},
   "outputs": [],
   "source": [
    "x_train.drop(columns='id', inplace=True)\n",
    "x_test.drop(columns='id', inplace=True)\n",
    "x_train.rename(columns={'property_description':'descripcion'}, inplace=True)\n",
    "x_test.rename(columns={'property_description':'descripcion'}, inplace=True)"
   ]
  },
  {
   "cell_type": "code",
   "execution_count": 10,
   "id": "d50a9dde-7317-4f08-b363-782442f76625",
   "metadata": {},
   "outputs": [
    {
     "data": {
      "text/html": [
       "<div>\n",
       "<style scoped>\n",
       "    .dataframe tbody tr th:only-of-type {\n",
       "        vertical-align: middle;\n",
       "    }\n",
       "\n",
       "    .dataframe tbody tr th {\n",
       "        vertical-align: top;\n",
       "    }\n",
       "\n",
       "    .dataframe thead th {\n",
       "        text-align: right;\n",
       "    }\n",
       "</style>\n",
       "<table border=\"1\" class=\"dataframe\">\n",
       "  <thead>\n",
       "    <tr style=\"text-align: right;\">\n",
       "      <th></th>\n",
       "      <th>latitud</th>\n",
       "      <th>longitud</th>\n",
       "      <th>ambientes</th>\n",
       "      <th>dormitorios</th>\n",
       "      <th>superficie_cubierta</th>\n",
       "      <th>comuna</th>\n",
       "      <th>Departamento</th>\n",
       "      <th>PH</th>\n",
       "      <th>descripcion</th>\n",
       "    </tr>\n",
       "  </thead>\n",
       "  <tbody>\n",
       "    <tr>\n",
       "      <th>0</th>\n",
       "      <td>-34.583010</td>\n",
       "      <td>-58.481533</td>\n",
       "      <td>4.0</td>\n",
       "      <td>3.0</td>\n",
       "      <td>70.0</td>\n",
       "      <td>15</td>\n",
       "      <td>1.0</td>\n",
       "      <td>0.0</td>\n",
       "      <td>Corredor Responsable: MAURO MARVISI - CSI 5574...</td>\n",
       "    </tr>\n",
       "    <tr>\n",
       "      <th>1</th>\n",
       "      <td>-34.660079</td>\n",
       "      <td>-58.485894</td>\n",
       "      <td>6.0</td>\n",
       "      <td>4.0</td>\n",
       "      <td>275.0</td>\n",
       "      <td>9</td>\n",
       "      <td>0.0</td>\n",
       "      <td>0.0</td>\n",
       "      <td>Corredor Responsable: Ariel Champanier / Andre...</td>\n",
       "    </tr>\n",
       "    <tr>\n",
       "      <th>2</th>\n",
       "      <td>-34.581856</td>\n",
       "      <td>-58.425088</td>\n",
       "      <td>3.0</td>\n",
       "      <td>2.0</td>\n",
       "      <td>97.0</td>\n",
       "      <td>14</td>\n",
       "      <td>1.0</td>\n",
       "      <td>0.0</td>\n",
       "      <td>Departamento de 3 ambientes con dependencia de...</td>\n",
       "    </tr>\n",
       "    <tr>\n",
       "      <th>3</th>\n",
       "      <td>-34.607547</td>\n",
       "      <td>-58.442194</td>\n",
       "      <td>2.0</td>\n",
       "      <td>1.0</td>\n",
       "      <td>42.0</td>\n",
       "      <td>6</td>\n",
       "      <td>1.0</td>\n",
       "      <td>0.0</td>\n",
       "      <td>Corredor Responsable: Mauro Marvisi CMCPSI 557...</td>\n",
       "    </tr>\n",
       "    <tr>\n",
       "      <th>4</th>\n",
       "      <td>-34.607416</td>\n",
       "      <td>-58.509680</td>\n",
       "      <td>2.0</td>\n",
       "      <td>1.0</td>\n",
       "      <td>38.0</td>\n",
       "      <td>11</td>\n",
       "      <td>1.0</td>\n",
       "      <td>0.0</td>\n",
       "      <td>Departamento de 2 ambientes al frente con balc...</td>\n",
       "    </tr>\n",
       "  </tbody>\n",
       "</table>\n",
       "</div>"
      ],
      "text/plain": [
       "     latitud   longitud  ambientes  dormitorios  superficie_cubierta  comuna  \\\n",
       "0 -34.583010 -58.481533        4.0          3.0                 70.0      15   \n",
       "1 -34.660079 -58.485894        6.0          4.0                275.0       9   \n",
       "2 -34.581856 -58.425088        3.0          2.0                 97.0      14   \n",
       "3 -34.607547 -58.442194        2.0          1.0                 42.0       6   \n",
       "4 -34.607416 -58.509680        2.0          1.0                 38.0      11   \n",
       "\n",
       "   Departamento   PH                                        descripcion  \n",
       "0           1.0  0.0  Corredor Responsable: MAURO MARVISI - CSI 5574...  \n",
       "1           0.0  0.0  Corredor Responsable: Ariel Champanier / Andre...  \n",
       "2           1.0  0.0  Departamento de 3 ambientes con dependencia de...  \n",
       "3           1.0  0.0  Corredor Responsable: Mauro Marvisi CMCPSI 557...  \n",
       "4           1.0  0.0  Departamento de 2 ambientes al frente con balc...  "
      ]
     },
     "execution_count": 10,
     "metadata": {},
     "output_type": "execute_result"
    }
   ],
   "source": [
    "x_train.head()"
   ]
  },
  {
   "cell_type": "markdown",
   "id": "45167825-fc1e-4632-b0be-bd909c87a813",
   "metadata": {},
   "source": [
    "# Sentimientos y emociones"
   ]
  },
  {
   "cell_type": "markdown",
   "id": "bacba3fa-f8f1-4001-9829-7b71f2508a41",
   "metadata": {},
   "source": [
    "Con la gran polemica que twitter esta generando estos dias decidimos hacer un estudio sobre si existe una relacion entre las emociones/sentimientos de las descripciones con sus respectivos precios.\n",
    "Por eso tomamos un modelo ya preprocesado sobre un corpus de tweets y generaremos los siguientes features:"
   ]
  },
  {
   "cell_type": "code",
   "execution_count": 13,
   "id": "bc8635c1-5abd-4ed0-b81c-638fe7ecfe96",
   "metadata": {},
   "outputs": [
    {
     "name": "stderr",
     "output_type": "stream",
     "text": [
      "2022-12-08 19:08:59.004634: I tensorflow/core/platform/cpu_feature_guard.cc:193] This TensorFlow binary is optimized with oneAPI Deep Neural Network Library (oneDNN) to use the following CPU instructions in performance-critical operations:  SSE4.1 SSE4.2 AVX AVX2 FMA\n",
      "To enable them in other operations, rebuild TensorFlow with the appropriate compiler flags.\n"
     ]
    }
   ],
   "source": [
    "#Mas info: https://github.com/pysentimiento/pysentimiento\n",
    "from pysentimiento import create_analyzer "
   ]
  },
  {
   "cell_type": "markdown",
   "id": "09d3e7b8-5469-4dfc-af1f-cbf1e1e8e2c6",
   "metadata": {},
   "source": [
    "## Sentimientos"
   ]
  },
  {
   "cell_type": "code",
   "execution_count": 11,
   "id": "01134a20-2a7a-425c-89a4-52f711506de5",
   "metadata": {},
   "outputs": [],
   "source": [
    "# Crearemos una instancia del objeto a usar\n",
    "# Explicacion de los siguientes parametros\n",
    "# Task: Nombre de la tarea, en este caso pediremos los sentimientos de las descripciones\n",
    "# Lang: Idioma que usaremos, es -> español\n",
    "analyzer = create_analyzer(task=\"sentiment\", lang=\"es\")"
   ]
  },
  {
   "cell_type": "markdown",
   "id": "6d69bba5-af27-4a6c-82c3-fb75e83c1a01",
   "metadata": {},
   "source": [
    "Comenzamos con un ejemplo\n",
    "Predecimos una frase"
   ]
  },
  {
   "cell_type": "code",
   "execution_count": 12,
   "id": "59d75cef-9575-4716-95c0-8379ce184824",
   "metadata": {},
   "outputs": [
    {
     "data": {
      "text/plain": [
       "AnalyzerOutput(output=POS, probas={POS: 0.994, NEG: 0.003, NEU: 0.003})"
      ]
     },
     "execution_count": 12,
     "metadata": {},
     "output_type": "execute_result"
    }
   ],
   "source": [
    "analyzer.predict(\"Qué gran jugador es Messi\")"
   ]
  },
  {
   "cell_type": "markdown",
   "id": "e78d474e-1412-4ef2-ac4c-4bf8f164bf27",
   "metadata": {},
   "source": [
    "Observamos que nos devuelve un objeto con sus atributos:\n",
    "   - Output: Como categorizo la frase, en este caso considero que la frase es positiva\n",
    "   - Probas: Un diccionario con las probabilidades de que la frase sea positiva, negativa y neutra."
   ]
  },
  {
   "cell_type": "markdown",
   "id": "08089155-c868-4bda-8c4d-3119b7443658",
   "metadata": {},
   "source": [
    "Observamos otro ejemplo:"
   ]
  },
  {
   "cell_type": "code",
   "execution_count": 14,
   "id": "fab841e4-3501-4af6-a38e-60167a561f34",
   "metadata": {},
   "outputs": [
    {
     "data": {
      "text/plain": [
       "AnalyzerOutput(output=NEG, probas={NEG: 0.948, NEU: 0.048, POS: 0.004})"
      ]
     },
     "execution_count": 14,
     "metadata": {},
     "output_type": "execute_result"
    }
   ],
   "source": [
    "analyzer.predict(\"Esto es pésimo\")"
   ]
  },
  {
   "cell_type": "markdown",
   "id": "59ada084-ecfa-4f14-a03c-448b13231001",
   "metadata": {},
   "source": [
    "En este ejemplo considero la frase negativa y creemos que en definitiva si lo es."
   ]
  },
  {
   "cell_type": "markdown",
   "id": "88efb199-210c-48c8-979c-b6a5933144c3",
   "metadata": {},
   "source": [
    "Crearemos un feature con el porcentaje de sentimiento positivo de su descripcion."
   ]
  },
  {
   "cell_type": "markdown",
   "id": "35389a29-e1f3-4bfa-aed9-2d025f58b6f8",
   "metadata": {},
   "source": [
    "Comenzamos con x_train."
   ]
  },
  {
   "cell_type": "code",
   "execution_count": 19,
   "id": "c863e646-0194-4b1c-ba06-73e57dae3735",
   "metadata": {},
   "outputs": [],
   "source": [
    "sentimiento_positivo_x_train = []"
   ]
  },
  {
   "cell_type": "code",
   "execution_count": null,
   "id": "ba3020b6-97fc-4997-a0bc-1b9cdac025a0",
   "metadata": {},
   "outputs": [],
   "source": [
    "for descrip in list(x_train.descripcion):\n",
    "    analizador = analyzer.predict(descrip)\n",
    "    sentimiento_positivo_x_train.append(analizador.probas['POS'])"
   ]
  },
  {
   "cell_type": "markdown",
   "id": "a09bb9f5-72f3-4815-bdb6-7e652e1e87ab",
   "metadata": {},
   "source": [
    "Vamos a guardar el resultado porque el proceso es muy costoso y para no guardar el dataSet completo guardaremos el feature sentimiento con su respectivo id para luego unirlo con el dataSet completo."
   ]
  },
  {
   "cell_type": "code",
   "execution_count": 30,
   "id": "85c775ac-4e35-45fc-9307-fd67a32b2feb",
   "metadata": {},
   "outputs": [],
   "source": [
    "list_x_train_descrip = list(zip(list(_x_train.id), sentimiento_positivo_x_train))"
   ]
  },
  {
   "cell_type": "code",
   "execution_count": 31,
   "id": "da893887-4254-405b-b662-480d6f452b1d",
   "metadata": {},
   "outputs": [],
   "source": [
    "x_train_sentiment = pd.DataFrame(list_x_train_descrip)"
   ]
  },
  {
   "cell_type": "code",
   "execution_count": 39,
   "id": "400d5b6a-7b45-4598-aa7f-76c792827406",
   "metadata": {},
   "outputs": [],
   "source": [
    "x_train_sentiment.rename(columns={0:'id', 1:'Sentimiento Positivo'}, inplace=True)"
   ]
  },
  {
   "cell_type": "code",
   "execution_count": 40,
   "id": "843db69d-d616-43de-aacb-88aa2be2730e",
   "metadata": {},
   "outputs": [
    {
     "data": {
      "text/html": [
       "<div>\n",
       "<style scoped>\n",
       "    .dataframe tbody tr th:only-of-type {\n",
       "        vertical-align: middle;\n",
       "    }\n",
       "\n",
       "    .dataframe tbody tr th {\n",
       "        vertical-align: top;\n",
       "    }\n",
       "\n",
       "    .dataframe thead th {\n",
       "        text-align: right;\n",
       "    }\n",
       "</style>\n",
       "<table border=\"1\" class=\"dataframe\">\n",
       "  <thead>\n",
       "    <tr style=\"text-align: right;\">\n",
       "      <th></th>\n",
       "      <th>id</th>\n",
       "      <th>Sentimiento Positivo</th>\n",
       "    </tr>\n",
       "  </thead>\n",
       "  <tbody>\n",
       "    <tr>\n",
       "      <th>0</th>\n",
       "      <td>JhrnbHggMI/+a3HqPvSHpA==</td>\n",
       "      <td>0.296470</td>\n",
       "    </tr>\n",
       "    <tr>\n",
       "      <th>1</th>\n",
       "      <td>QgE3a9anrPSP3oqujv1C0g==</td>\n",
       "      <td>0.048648</td>\n",
       "    </tr>\n",
       "    <tr>\n",
       "      <th>2</th>\n",
       "      <td>GdDiEcbXr0qGtVgRjZYIXQ==</td>\n",
       "      <td>0.949890</td>\n",
       "    </tr>\n",
       "    <tr>\n",
       "      <th>3</th>\n",
       "      <td>EOc0KchotIHQCSq1oFQxyw==</td>\n",
       "      <td>0.244936</td>\n",
       "    </tr>\n",
       "    <tr>\n",
       "      <th>4</th>\n",
       "      <td>vLV4Bu3fyY5e9Stj/b/Ekw==</td>\n",
       "      <td>0.757725</td>\n",
       "    </tr>\n",
       "    <tr>\n",
       "      <th>...</th>\n",
       "      <td>...</td>\n",
       "      <td>...</td>\n",
       "    </tr>\n",
       "    <tr>\n",
       "      <th>58128</th>\n",
       "      <td>zDOIVJ3+aFbBvVOl+zNM4g==</td>\n",
       "      <td>0.991766</td>\n",
       "    </tr>\n",
       "    <tr>\n",
       "      <th>58129</th>\n",
       "      <td>KOM0QqwoP77Edwn85zAHag==</td>\n",
       "      <td>0.872351</td>\n",
       "    </tr>\n",
       "    <tr>\n",
       "      <th>58130</th>\n",
       "      <td>8SZBK9DZp4lmGvYzOpquOw==</td>\n",
       "      <td>0.959569</td>\n",
       "    </tr>\n",
       "    <tr>\n",
       "      <th>58131</th>\n",
       "      <td>avcVU8ThBABuYjg4y5T7vA==</td>\n",
       "      <td>0.942879</td>\n",
       "    </tr>\n",
       "    <tr>\n",
       "      <th>58132</th>\n",
       "      <td>+aeQAgmIpkRaNn1A08CytA==</td>\n",
       "      <td>0.317590</td>\n",
       "    </tr>\n",
       "  </tbody>\n",
       "</table>\n",
       "<p>58133 rows × 2 columns</p>\n",
       "</div>"
      ],
      "text/plain": [
       "                             id  Sentimiento Positivo\n",
       "0      JhrnbHggMI/+a3HqPvSHpA==              0.296470\n",
       "1      QgE3a9anrPSP3oqujv1C0g==              0.048648\n",
       "2      GdDiEcbXr0qGtVgRjZYIXQ==              0.949890\n",
       "3      EOc0KchotIHQCSq1oFQxyw==              0.244936\n",
       "4      vLV4Bu3fyY5e9Stj/b/Ekw==              0.757725\n",
       "...                         ...                   ...\n",
       "58128  zDOIVJ3+aFbBvVOl+zNM4g==              0.991766\n",
       "58129  KOM0QqwoP77Edwn85zAHag==              0.872351\n",
       "58130  8SZBK9DZp4lmGvYzOpquOw==              0.959569\n",
       "58131  avcVU8ThBABuYjg4y5T7vA==              0.942879\n",
       "58132  +aeQAgmIpkRaNn1A08CytA==              0.317590\n",
       "\n",
       "[58133 rows x 2 columns]"
      ]
     },
     "execution_count": 40,
     "metadata": {},
     "output_type": "execute_result"
    }
   ],
   "source": [
    "#Lo guardamos\n",
    "#x_train_sentiment.to_csv(\"./DataSet/TP2-NLP/x_train_sentiment\")"
   ]
  },
  {
   "cell_type": "markdown",
   "id": "eccc0c38-c188-4815-bdc7-f35bf38fe95f",
   "metadata": {},
   "source": [
    "Haremos el mismo proceso con el dataSet x_test."
   ]
  },
  {
   "cell_type": "code",
   "execution_count": 42,
   "id": "10da7c4c-f411-492d-a0d9-bcee69332859",
   "metadata": {},
   "outputs": [],
   "source": [
    "sentimiento_positivo_x_test = []"
   ]
  },
  {
   "cell_type": "code",
   "execution_count": 43,
   "id": "811db22b-d17f-4d1d-b154-b72f19ba2485",
   "metadata": {},
   "outputs": [],
   "source": [
    "for descrip in list(x_test.descripcion):\n",
    "    analizador = analyzer.predict(descrip)\n",
    "    sentimiento_positivo_x_test.append(analizador.probas['POS'])"
   ]
  },
  {
   "cell_type": "code",
   "execution_count": 64,
   "id": "d0b83137-b39c-4f13-8ed7-971216dc3e5d",
   "metadata": {},
   "outputs": [],
   "source": [
    "list_x_test_sentiment = list(zip(list(_x_test.id), sentimiento_positivo[-len(x_test):]))"
   ]
  },
  {
   "cell_type": "code",
   "execution_count": 65,
   "id": "72987153-6824-4fa9-82a8-ab8ac29431e5",
   "metadata": {},
   "outputs": [],
   "source": [
    "x_test_sentiment = pd.DataFrame(x_test_sentiment)"
   ]
  },
  {
   "cell_type": "code",
   "execution_count": 66,
   "id": "fcb27485-34a9-4bad-a0e7-6919032c6ba1",
   "metadata": {},
   "outputs": [],
   "source": [
    "x_test_sentiment.rename(columns={0:'id', 1:'Sentimiento Positivo'}, inplace=True)"
   ]
  },
  {
   "cell_type": "code",
   "execution_count": 67,
   "id": "b643fab3-98bf-4003-b615-1071857aa695",
   "metadata": {},
   "outputs": [
    {
     "data": {
      "text/html": [
       "<div>\n",
       "<style scoped>\n",
       "    .dataframe tbody tr th:only-of-type {\n",
       "        vertical-align: middle;\n",
       "    }\n",
       "\n",
       "    .dataframe tbody tr th {\n",
       "        vertical-align: top;\n",
       "    }\n",
       "\n",
       "    .dataframe thead th {\n",
       "        text-align: right;\n",
       "    }\n",
       "</style>\n",
       "<table border=\"1\" class=\"dataframe\">\n",
       "  <thead>\n",
       "    <tr style=\"text-align: right;\">\n",
       "      <th></th>\n",
       "      <th>id</th>\n",
       "      <th>Sentimiento Positivo</th>\n",
       "    </tr>\n",
       "  </thead>\n",
       "  <tbody>\n",
       "    <tr>\n",
       "      <th>0</th>\n",
       "      <td>L/i3QyPkam5OcxMoY4PD4A==</td>\n",
       "      <td>0.972614</td>\n",
       "    </tr>\n",
       "    <tr>\n",
       "      <th>1</th>\n",
       "      <td>qb5jsGial8hrGHZFt4kjXA==</td>\n",
       "      <td>0.016784</td>\n",
       "    </tr>\n",
       "    <tr>\n",
       "      <th>2</th>\n",
       "      <td>6sDtQxzc7YCbXMUl9V11ow==</td>\n",
       "      <td>0.093802</td>\n",
       "    </tr>\n",
       "    <tr>\n",
       "      <th>3</th>\n",
       "      <td>CqquLglwqJ/fzqhm2nMxog==</td>\n",
       "      <td>0.380551</td>\n",
       "    </tr>\n",
       "    <tr>\n",
       "      <th>4</th>\n",
       "      <td>nxWt1nd/+yFkzf2X6xdSfQ==</td>\n",
       "      <td>0.997235</td>\n",
       "    </tr>\n",
       "  </tbody>\n",
       "</table>\n",
       "</div>"
      ],
      "text/plain": [
       "                         id  Sentimiento Positivo\n",
       "0  L/i3QyPkam5OcxMoY4PD4A==              0.972614\n",
       "1  qb5jsGial8hrGHZFt4kjXA==              0.016784\n",
       "2  6sDtQxzc7YCbXMUl9V11ow==              0.093802\n",
       "3  CqquLglwqJ/fzqhm2nMxog==              0.380551\n",
       "4  nxWt1nd/+yFkzf2X6xdSfQ==              0.997235"
      ]
     },
     "execution_count": 67,
     "metadata": {},
     "output_type": "execute_result"
    }
   ],
   "source": [
    "x_test_sentiment.head()"
   ]
  },
  {
   "cell_type": "code",
   "execution_count": 61,
   "id": "c8378596-b62b-405e-9a0a-4ef92e170baf",
   "metadata": {},
   "outputs": [],
   "source": [
    "#Lo guardamos\n",
    "#x_test_sentiment.to_csv(\"./DataSet/TP2-NLP/x_test_sentiment\")"
   ]
  },
  {
   "cell_type": "markdown",
   "id": "a2ec4d1f-50eb-4d5d-8b83-29efbefa19b5",
   "metadata": {},
   "source": [
    "## Emociones"
   ]
  },
  {
   "cell_type": "code",
   "execution_count": 14,
   "id": "48af700d-581d-47f9-a760-18e53955b6e1",
   "metadata": {},
   "outputs": [],
   "source": [
    "# Crearemos una instancia del objeto a usar\n",
    "# Explicacion de los siguientes parametros\n",
    "# Task: Nombre de la tarea, en este caso pediremos las emociones de las descripciones\n",
    "# Lang: Idioma que usaremos, es -> español\n",
    "emotion_analyzer = create_analyzer(task=\"emotion\", lang=\"es\")"
   ]
  },
  {
   "cell_type": "markdown",
   "id": "5b8f7f20-406e-40a6-8117-39ec2882f575",
   "metadata": {},
   "source": [
    "Un ejemplo:"
   ]
  },
  {
   "cell_type": "code",
   "execution_count": 105,
   "id": "b97bd0c6-24f5-4cd4-8f8b-226844e0c18f",
   "metadata": {},
   "outputs": [
    {
     "data": {
      "text/plain": [
       "AnalyzerOutput(output=sadness, probas={sadness: 0.953, fear: 0.015, anger: 0.010, others: 0.009, disgust: 0.007, joy: 0.003, surprise: 0.002})"
      ]
     },
     "execution_count": 105,
     "metadata": {},
     "output_type": "execute_result"
    }
   ],
   "source": [
    "emotion_analyzer.predict(\"Estoy muy triste\")"
   ]
  },
  {
   "cell_type": "markdown",
   "id": "0a5f90d8-0799-4c5c-9d7e-41e6407b2765",
   "metadata": {},
   "source": [
    "Observamos que nos devuelve un objeto con 2 atributos:\n",
    "   - Output: Como categorizo la frase, en este caso considero que la frase es triste\n",
    "   - Probas: Un diccionario con las probabilidades de que la frase alegre, triste, sorpresa, miedo, enfado, otros, disgusto."
   ]
  },
  {
   "cell_type": "markdown",
   "id": "c25c35f7-2460-48a6-b738-64c20c1693b2",
   "metadata": {},
   "source": [
    "Crearemos 6 features, 1 por cada emocion y guardaremos en cada uno su respectiva probabilidad."
   ]
  },
  {
   "cell_type": "markdown",
   "id": "a72ad171-ac2f-4c34-9d84-769fd254bb82",
   "metadata": {},
   "source": [
    "Comenzamos con x_train"
   ]
  },
  {
   "cell_type": "code",
   "execution_count": 83,
   "id": "1dfca2d1-3bb4-45a8-879e-a92e3d8c0d4a",
   "metadata": {},
   "outputs": [],
   "source": [
    "emociones_x_train = []"
   ]
  },
  {
   "cell_type": "code",
   "execution_count": 84,
   "id": "26eabb17-cc2c-424e-a2d2-d374c91fb3b6",
   "metadata": {},
   "outputs": [],
   "source": [
    "for descrip in list(x_train.descripcion):\n",
    "    analizador = emotion_analyzer.predict(descrip)\n",
    "    probabilidades = analizador.probas\n",
    "    emociones_x_train.append([probabilidades['joy'], probabilidades['sadness'], probabilidades['surprise'], probabilidades['fear'], probabilidades['anger'], probabilidades['others'], probabilidades['disgust']])"
   ]
  },
  {
   "cell_type": "code",
   "execution_count": 94,
   "id": "b7880706-a725-4ba0-bb7b-bfcffb67894b",
   "metadata": {},
   "outputs": [],
   "source": [
    "x_train_emotion = pd.DataFrame(emociones_x_train)\n",
    "x_train_emotion.rename(columns={0:'alegria', 1:'tristeza', 2:'sorpresa', 3: 'miedo', 4:'enfado', 5: 'otros', 6:'disgusto'}, inplace=True)\n",
    "x_train_emotion['id'] = _x_train.id"
   ]
  },
  {
   "cell_type": "code",
   "execution_count": 96,
   "id": "9d2f5388-7d31-47ab-be5e-fdce0641d360",
   "metadata": {},
   "outputs": [
    {
     "data": {
      "text/html": [
       "<div>\n",
       "<style scoped>\n",
       "    .dataframe tbody tr th:only-of-type {\n",
       "        vertical-align: middle;\n",
       "    }\n",
       "\n",
       "    .dataframe tbody tr th {\n",
       "        vertical-align: top;\n",
       "    }\n",
       "\n",
       "    .dataframe thead th {\n",
       "        text-align: right;\n",
       "    }\n",
       "</style>\n",
       "<table border=\"1\" class=\"dataframe\">\n",
       "  <thead>\n",
       "    <tr style=\"text-align: right;\">\n",
       "      <th></th>\n",
       "      <th>alegria</th>\n",
       "      <th>tristeza</th>\n",
       "      <th>sorpresa</th>\n",
       "      <th>miedo</th>\n",
       "      <th>enfado</th>\n",
       "      <th>otros</th>\n",
       "      <th>disgusto</th>\n",
       "      <th>id</th>\n",
       "    </tr>\n",
       "  </thead>\n",
       "  <tbody>\n",
       "    <tr>\n",
       "      <th>0</th>\n",
       "      <td>0.290528</td>\n",
       "      <td>0.005603</td>\n",
       "      <td>0.014617</td>\n",
       "      <td>0.002689</td>\n",
       "      <td>0.007023</td>\n",
       "      <td>0.676980</td>\n",
       "      <td>0.002560</td>\n",
       "      <td>JhrnbHggMI/+a3HqPvSHpA==</td>\n",
       "    </tr>\n",
       "    <tr>\n",
       "      <th>1</th>\n",
       "      <td>0.257622</td>\n",
       "      <td>0.005772</td>\n",
       "      <td>0.018778</td>\n",
       "      <td>0.002709</td>\n",
       "      <td>0.004777</td>\n",
       "      <td>0.707761</td>\n",
       "      <td>0.002582</td>\n",
       "      <td>QgE3a9anrPSP3oqujv1C0g==</td>\n",
       "    </tr>\n",
       "    <tr>\n",
       "      <th>2</th>\n",
       "      <td>0.532302</td>\n",
       "      <td>0.011435</td>\n",
       "      <td>0.034491</td>\n",
       "      <td>0.006770</td>\n",
       "      <td>0.006357</td>\n",
       "      <td>0.403338</td>\n",
       "      <td>0.005306</td>\n",
       "      <td>GdDiEcbXr0qGtVgRjZYIXQ==</td>\n",
       "    </tr>\n",
       "    <tr>\n",
       "      <th>3</th>\n",
       "      <td>0.296273</td>\n",
       "      <td>0.006642</td>\n",
       "      <td>0.033718</td>\n",
       "      <td>0.006992</td>\n",
       "      <td>0.004343</td>\n",
       "      <td>0.647592</td>\n",
       "      <td>0.004440</td>\n",
       "      <td>EOc0KchotIHQCSq1oFQxyw==</td>\n",
       "    </tr>\n",
       "    <tr>\n",
       "      <th>4</th>\n",
       "      <td>0.657242</td>\n",
       "      <td>0.011658</td>\n",
       "      <td>0.043448</td>\n",
       "      <td>0.009398</td>\n",
       "      <td>0.004551</td>\n",
       "      <td>0.267826</td>\n",
       "      <td>0.005878</td>\n",
       "      <td>vLV4Bu3fyY5e9Stj/b/Ekw==</td>\n",
       "    </tr>\n",
       "    <tr>\n",
       "      <th>...</th>\n",
       "      <td>...</td>\n",
       "      <td>...</td>\n",
       "      <td>...</td>\n",
       "      <td>...</td>\n",
       "      <td>...</td>\n",
       "      <td>...</td>\n",
       "      <td>...</td>\n",
       "      <td>...</td>\n",
       "    </tr>\n",
       "    <tr>\n",
       "      <th>58128</th>\n",
       "      <td>0.897437</td>\n",
       "      <td>0.004728</td>\n",
       "      <td>0.024074</td>\n",
       "      <td>0.003241</td>\n",
       "      <td>0.002847</td>\n",
       "      <td>0.065259</td>\n",
       "      <td>0.002414</td>\n",
       "      <td>zDOIVJ3+aFbBvVOl+zNM4g==</td>\n",
       "    </tr>\n",
       "    <tr>\n",
       "      <th>58129</th>\n",
       "      <td>0.647558</td>\n",
       "      <td>0.007072</td>\n",
       "      <td>0.024863</td>\n",
       "      <td>0.004166</td>\n",
       "      <td>0.003186</td>\n",
       "      <td>0.310427</td>\n",
       "      <td>0.002729</td>\n",
       "      <td>KOM0QqwoP77Edwn85zAHag==</td>\n",
       "    </tr>\n",
       "    <tr>\n",
       "      <th>58130</th>\n",
       "      <td>0.890901</td>\n",
       "      <td>0.003285</td>\n",
       "      <td>0.015248</td>\n",
       "      <td>0.002070</td>\n",
       "      <td>0.002225</td>\n",
       "      <td>0.084157</td>\n",
       "      <td>0.002115</td>\n",
       "      <td>8SZBK9DZp4lmGvYzOpquOw==</td>\n",
       "    </tr>\n",
       "    <tr>\n",
       "      <th>58131</th>\n",
       "      <td>0.429254</td>\n",
       "      <td>0.011146</td>\n",
       "      <td>0.032825</td>\n",
       "      <td>0.006015</td>\n",
       "      <td>0.006050</td>\n",
       "      <td>0.509681</td>\n",
       "      <td>0.005028</td>\n",
       "      <td>avcVU8ThBABuYjg4y5T7vA==</td>\n",
       "    </tr>\n",
       "    <tr>\n",
       "      <th>58132</th>\n",
       "      <td>0.128089</td>\n",
       "      <td>0.008116</td>\n",
       "      <td>0.018668</td>\n",
       "      <td>0.006194</td>\n",
       "      <td>0.004446</td>\n",
       "      <td>0.830581</td>\n",
       "      <td>0.003905</td>\n",
       "      <td>+aeQAgmIpkRaNn1A08CytA==</td>\n",
       "    </tr>\n",
       "  </tbody>\n",
       "</table>\n",
       "<p>58133 rows × 8 columns</p>\n",
       "</div>"
      ],
      "text/plain": [
       "        alegria  tristeza  sorpresa     miedo    enfado     otros  disgusto  \\\n",
       "0      0.290528  0.005603  0.014617  0.002689  0.007023  0.676980  0.002560   \n",
       "1      0.257622  0.005772  0.018778  0.002709  0.004777  0.707761  0.002582   \n",
       "2      0.532302  0.011435  0.034491  0.006770  0.006357  0.403338  0.005306   \n",
       "3      0.296273  0.006642  0.033718  0.006992  0.004343  0.647592  0.004440   \n",
       "4      0.657242  0.011658  0.043448  0.009398  0.004551  0.267826  0.005878   \n",
       "...         ...       ...       ...       ...       ...       ...       ...   \n",
       "58128  0.897437  0.004728  0.024074  0.003241  0.002847  0.065259  0.002414   \n",
       "58129  0.647558  0.007072  0.024863  0.004166  0.003186  0.310427  0.002729   \n",
       "58130  0.890901  0.003285  0.015248  0.002070  0.002225  0.084157  0.002115   \n",
       "58131  0.429254  0.011146  0.032825  0.006015  0.006050  0.509681  0.005028   \n",
       "58132  0.128089  0.008116  0.018668  0.006194  0.004446  0.830581  0.003905   \n",
       "\n",
       "                             id  \n",
       "0      JhrnbHggMI/+a3HqPvSHpA==  \n",
       "1      QgE3a9anrPSP3oqujv1C0g==  \n",
       "2      GdDiEcbXr0qGtVgRjZYIXQ==  \n",
       "3      EOc0KchotIHQCSq1oFQxyw==  \n",
       "4      vLV4Bu3fyY5e9Stj/b/Ekw==  \n",
       "...                         ...  \n",
       "58128  zDOIVJ3+aFbBvVOl+zNM4g==  \n",
       "58129  KOM0QqwoP77Edwn85zAHag==  \n",
       "58130  8SZBK9DZp4lmGvYzOpquOw==  \n",
       "58131  avcVU8ThBABuYjg4y5T7vA==  \n",
       "58132  +aeQAgmIpkRaNn1A08CytA==  \n",
       "\n",
       "[58133 rows x 8 columns]"
      ]
     },
     "execution_count": 96,
     "metadata": {},
     "output_type": "execute_result"
    }
   ],
   "source": [
    "x_train_emotion"
   ]
  },
  {
   "cell_type": "code",
   "execution_count": 97,
   "id": "94e8f74f-77f3-4120-b675-b10a9299349f",
   "metadata": {},
   "outputs": [],
   "source": [
    "#Lo guardamos\n",
    "#x_train_emotion.to_csv(\"./DataSet/TP2-NLP/x_train_emotion\")"
   ]
  },
  {
   "cell_type": "markdown",
   "id": "ae43e8f7-4283-4f5b-9f0d-06b6450a6156",
   "metadata": {},
   "source": [
    "Ahora con x_test"
   ]
  },
  {
   "cell_type": "code",
   "execution_count": 15,
   "id": "eb22f79e-703f-42a7-9c05-f3e775212308",
   "metadata": {},
   "outputs": [],
   "source": [
    "emociones_x_test = []"
   ]
  },
  {
   "cell_type": "code",
   "execution_count": 16,
   "id": "84b9291f-a78e-4827-8c19-9d34cfd5d962",
   "metadata": {},
   "outputs": [],
   "source": [
    "for descrip in list(x_test.descripcion):\n",
    "    analizador = emotion_analyzer.predict(descrip)\n",
    "    probabilidades = analizador.probas\n",
    "    emociones_x_test.append([probabilidades['joy'], probabilidades['sadness'], probabilidades['surprise'], probabilidades['fear'], probabilidades['anger'], probabilidades['others'], probabilidades['disgust']])"
   ]
  },
  {
   "cell_type": "code",
   "execution_count": 17,
   "id": "60a7b076-a7c1-461a-a929-211e699549c4",
   "metadata": {},
   "outputs": [],
   "source": [
    "x_test_emotion = pd.DataFrame(emociones_x_test)\n",
    "x_test_emotion.rename(columns={0:'alegria', 1:'tristeza', 2:'sorpresa', 3: 'miedo', 4:'enfado', 5: 'otros', 6:'disgusto'}, inplace=True)\n",
    "x_test_emotion['id'] = _x_test.id"
   ]
  },
  {
   "cell_type": "code",
   "execution_count": 18,
   "id": "ba3ea341-fbd4-4965-ab14-594ef42ac7bd",
   "metadata": {},
   "outputs": [
    {
     "data": {
      "text/html": [
       "<div>\n",
       "<style scoped>\n",
       "    .dataframe tbody tr th:only-of-type {\n",
       "        vertical-align: middle;\n",
       "    }\n",
       "\n",
       "    .dataframe tbody tr th {\n",
       "        vertical-align: top;\n",
       "    }\n",
       "\n",
       "    .dataframe thead th {\n",
       "        text-align: right;\n",
       "    }\n",
       "</style>\n",
       "<table border=\"1\" class=\"dataframe\">\n",
       "  <thead>\n",
       "    <tr style=\"text-align: right;\">\n",
       "      <th></th>\n",
       "      <th>alegria</th>\n",
       "      <th>tristeza</th>\n",
       "      <th>sorpresa</th>\n",
       "      <th>miedo</th>\n",
       "      <th>enfado</th>\n",
       "      <th>otros</th>\n",
       "      <th>disgusto</th>\n",
       "      <th>id</th>\n",
       "    </tr>\n",
       "  </thead>\n",
       "  <tbody>\n",
       "    <tr>\n",
       "      <th>0</th>\n",
       "      <td>0.879647</td>\n",
       "      <td>0.002303</td>\n",
       "      <td>0.011425</td>\n",
       "      <td>0.001547</td>\n",
       "      <td>0.001716</td>\n",
       "      <td>0.102002</td>\n",
       "      <td>0.001360</td>\n",
       "      <td>L/i3QyPkam5OcxMoY4PD4A==</td>\n",
       "    </tr>\n",
       "    <tr>\n",
       "      <th>1</th>\n",
       "      <td>0.052972</td>\n",
       "      <td>0.003644</td>\n",
       "      <td>0.010320</td>\n",
       "      <td>0.001605</td>\n",
       "      <td>0.003328</td>\n",
       "      <td>0.926906</td>\n",
       "      <td>0.001225</td>\n",
       "      <td>qb5jsGial8hrGHZFt4kjXA==</td>\n",
       "    </tr>\n",
       "    <tr>\n",
       "      <th>2</th>\n",
       "      <td>0.115030</td>\n",
       "      <td>0.007334</td>\n",
       "      <td>0.013896</td>\n",
       "      <td>0.002847</td>\n",
       "      <td>0.004355</td>\n",
       "      <td>0.854284</td>\n",
       "      <td>0.002254</td>\n",
       "      <td>6sDtQxzc7YCbXMUl9V11ow==</td>\n",
       "    </tr>\n",
       "    <tr>\n",
       "      <th>3</th>\n",
       "      <td>0.404646</td>\n",
       "      <td>0.006501</td>\n",
       "      <td>0.026653</td>\n",
       "      <td>0.004463</td>\n",
       "      <td>0.004921</td>\n",
       "      <td>0.548926</td>\n",
       "      <td>0.003889</td>\n",
       "      <td>CqquLglwqJ/fzqhm2nMxog==</td>\n",
       "    </tr>\n",
       "    <tr>\n",
       "      <th>4</th>\n",
       "      <td>0.968894</td>\n",
       "      <td>0.001639</td>\n",
       "      <td>0.016190</td>\n",
       "      <td>0.001075</td>\n",
       "      <td>0.001141</td>\n",
       "      <td>0.009884</td>\n",
       "      <td>0.001177</td>\n",
       "      <td>nxWt1nd/+yFkzf2X6xdSfQ==</td>\n",
       "    </tr>\n",
       "  </tbody>\n",
       "</table>\n",
       "</div>"
      ],
      "text/plain": [
       "    alegria  tristeza  sorpresa     miedo    enfado     otros  disgusto  \\\n",
       "0  0.879647  0.002303  0.011425  0.001547  0.001716  0.102002  0.001360   \n",
       "1  0.052972  0.003644  0.010320  0.001605  0.003328  0.926906  0.001225   \n",
       "2  0.115030  0.007334  0.013896  0.002847  0.004355  0.854284  0.002254   \n",
       "3  0.404646  0.006501  0.026653  0.004463  0.004921  0.548926  0.003889   \n",
       "4  0.968894  0.001639  0.016190  0.001075  0.001141  0.009884  0.001177   \n",
       "\n",
       "                         id  \n",
       "0  L/i3QyPkam5OcxMoY4PD4A==  \n",
       "1  qb5jsGial8hrGHZFt4kjXA==  \n",
       "2  6sDtQxzc7YCbXMUl9V11ow==  \n",
       "3  CqquLglwqJ/fzqhm2nMxog==  \n",
       "4  nxWt1nd/+yFkzf2X6xdSfQ==  "
      ]
     },
     "execution_count": 18,
     "metadata": {},
     "output_type": "execute_result"
    }
   ],
   "source": [
    "x_test_emotion.head()"
   ]
  },
  {
   "cell_type": "code",
   "execution_count": 21,
   "id": "973220ce-d0fa-4e53-b9a0-e38eb8a656b1",
   "metadata": {},
   "outputs": [],
   "source": [
    "#Lo guardamos\n",
    "#x_test_emotion.to_csv(\"./DataSet/TP2-NLP/x_test_emotion\")"
   ]
  },
  {
   "cell_type": "code",
   "execution_count": null,
   "id": "394e5385-7314-46f0-98f9-a48ee3845c12",
   "metadata": {},
   "outputs": [],
   "source": []
  }
 ],
 "metadata": {
  "kernelspec": {
   "display_name": "Python 3 (ipykernel)",
   "language": "python",
   "name": "python3"
  },
  "language_info": {
   "codemirror_mode": {
    "name": "ipython",
    "version": 3
   },
   "file_extension": ".py",
   "mimetype": "text/x-python",
   "name": "python",
   "nbconvert_exporter": "python",
   "pygments_lexer": "ipython3",
   "version": "3.9.13"
  }
 },
 "nbformat": 4,
 "nbformat_minor": 5
}
