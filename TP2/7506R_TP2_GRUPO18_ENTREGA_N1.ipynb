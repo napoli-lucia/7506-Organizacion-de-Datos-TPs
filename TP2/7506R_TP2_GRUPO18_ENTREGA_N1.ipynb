{
 "cells": [
  {
   "cell_type": "markdown",
   "id": "c0db7545-d3e7-47bb-b687-76dcb4deba39",
   "metadata": {},
   "source": [
    "# <center>Organizaci&oacute;n de Datos</center>\n",
    "#### <center>C&aacute;tedra Ing. Rodriguez, Juan Manuel </center>\n",
    "\n",
    "## <center>Trabajo Práctico 2:</center>\n",
    "### <center>  Propiedades en Venta</center>\n",
    "### <center>  Grupo 18</center>\n",
    "### <center>NLP</center>\n",
    "\n",
    "\n",
    "#### **Integrantes:**\n",
    "\n",
    "* Analía Acevedo\n",
    "* Santiago Daniel Marczewski Neudeck\n",
    "* Lucia Belén Napoli\n",
    "* Brayan Ricaldi"
   ]
  },
  {
   "cell_type": "code",
   "execution_count": 5,
   "id": "f7090a4a-157e-4209-a1b4-07f910f59068",
   "metadata": {},
   "outputs": [],
   "source": [
    "import pandas as pd\n",
    "import matplotlib.pyplot as plt\n",
    "import seaborn as sns\n",
    "import numpy as np\n",
    "\n",
    "import sklearn.preprocessing as skp\n",
    "from sklearn.preprocessing import StandardScaler\n",
    "from sklearn.preprocessing import MinMaxScaler\n",
    "\n",
    "\n",
    "from sklearn.metrics import mean_squared_error\n",
    "from sklearn.neighbors import KNeighborsRegressor\n",
    "from sklearn.decomposition import PCA\n",
    "from sklearn.model_selection import train_test_split\n",
    "from sklearn.cluster import KMeans\n",
    "from sklearn.metrics import silhouette_score\n",
    "from sklearn.feature_extraction import FeatureHasher\n",
    "from sklearn.feature_selection import VarianceThreshold\n",
    "from sklearn.impute import KNNImputer, SimpleImputer\n",
    "from sklearn.linear_model import LinearRegression\n",
    "from sklearn.preprocessing import (\n",
    "    KBinsDiscretizer,\n",
    "    LabelEncoder,\n",
    "    MinMaxScaler,\n",
    "    Normalizer,\n",
    "    OneHotEncoder,\n",
    "    OrdinalEncoder,\n",
    "    PowerTransformer,\n",
    "    RobustScaler,\n",
    "    StandardScaler,\n",
    ")\n",
    "\n",
    "import warnings\n",
    "\n",
    "warnings.simplefilter(action=\"ignore\", category=FutureWarning)\n",
    "\n",
    "from sklearn.model_selection import RandomizedSearchCV\n",
    "from joblib import dump, load\n",
    "\n",
    "pd.options.display.max_columns = None"
   ]
  },
  {
   "cell_type": "markdown",
   "id": "46e500f2-1608-4e42-9412-134aa012bcd7",
   "metadata": {},
   "source": [
    "Descargo los dataSet a usar"
   ]
  },
  {
   "cell_type": "code",
   "execution_count": 6,
   "id": "2142391c-3e01-49be-95a7-398c8441f461",
   "metadata": {},
   "outputs": [],
   "source": [
    "_x_train = pd.read_csv('./DataSet/TP2-NLP/x_train')\n",
    "_x_train.drop(columns=['Unnamed: 0'],inplace=True)\n",
    "_y_train = pd.read_csv('./DataSet/TP2-NLP/y_train')\n",
    "_y_train.drop(columns=['Unnamed: 0'],inplace=True)\n",
    "_x_test = pd.read_csv('./DataSet/TP2-NLP/x_test')\n",
    "_x_test.drop(columns=['Unnamed: 0'],inplace=True)\n",
    "_y_test = pd.read_csv('./DataSet/TP2-NLP/y_test')\n",
    "_y_test.drop(columns=['Unnamed: 0'],inplace=True)\n",
    "_y_train.rename(columns={'0':'pxm2'}, inplace=True)\n",
    "_y_test.rename(columns={'0':'pxm2'}, inplace=True)"
   ]
  },
  {
   "cell_type": "markdown",
   "id": "95becf50-76a8-4f6d-acf4-aa266f2c33e0",
   "metadata": {},
   "source": [
    "Creo una copia, asi no modifico el original"
   ]
  },
  {
   "cell_type": "code",
   "execution_count": 7,
   "id": "9cef4040-7857-41b9-8262-cc8e591f4529",
   "metadata": {},
   "outputs": [],
   "source": [
    "x_train = _x_train.copy()\n",
    "y_train = _y_train.copy()\n",
    "x_test = _x_test.copy()\n",
    "y_test = _y_test.copy()"
   ]
  },
  {
   "cell_type": "markdown",
   "id": "41f2686f-8e02-4f94-8442-f91afa683f36",
   "metadata": {},
   "source": [
    "Descargo el dataSet de descripciones"
   ]
  },
  {
   "cell_type": "code",
   "execution_count": null,
   "id": "4c58d078-1b1a-47c2-97d9-64d49fbb3419",
   "metadata": {},
   "outputs": [],
   "source": [
    "df_descrip = pd.read_csv(\"./DataSet/TP2-NLP/descripciones.csv\")\n",
    "df_descrip.head()"
   ]
  },
  {
   "cell_type": "code",
   "execution_count": null,
   "id": "e16fd2b0-b571-443c-908f-d10642ccc7c1",
   "metadata": {},
   "outputs": [],
   "source": [
    "df_descrip.shape"
   ]
  },
  {
   "cell_type": "markdown",
   "id": "e7249681-3be5-4985-9f1a-eb496cc103eb",
   "metadata": {},
   "source": [
    "A continuacion unire los datos de mi dataSet con su respectiva descripcion mediante su id."
   ]
  },
  {
   "cell_type": "code",
   "execution_count": null,
   "id": "16d09f03-6f3e-4a26-b6a4-f0c7da41e2a3",
   "metadata": {},
   "outputs": [],
   "source": [
    "x_train = pd.merge(x_train, df_descrip, on=\"id\")"
   ]
  },
  {
   "cell_type": "code",
   "execution_count": null,
   "id": "5d42bbe5-9504-4a7d-b6e8-df442012f5ed",
   "metadata": {},
   "outputs": [],
   "source": [
    "x_test = pd.merge(x_test, df_descrip, on=\"id\")"
   ]
  },
  {
   "cell_type": "markdown",
   "id": "49103dcf-a824-4618-a2cc-e2fcf71e11c3",
   "metadata": {},
   "source": [
    "Ahora si puedo eliminar el feature id"
   ]
  },
  {
   "cell_type": "code",
   "execution_count": null,
   "id": "1868f8fb-5862-4211-93cd-fe6d3761b0e3",
   "metadata": {},
   "outputs": [],
   "source": [
    "x_train.drop(columns='id', inplace=True)\n",
    "x_test.drop(columns='id', inplace=True)\n",
    "x_train.rename(columns={'property_description':'descripcion'}, inplace=True)\n",
    "x_test.rename(columns={'property_description':'descripcion'}, inplace=True)"
   ]
  },
  {
   "cell_type": "code",
   "execution_count": null,
   "id": "d50a9dde-7317-4f08-b363-782442f76625",
   "metadata": {},
   "outputs": [],
   "source": [
    "x_train.head()"
   ]
  },
  {
   "cell_type": "markdown",
   "id": "45167825-fc1e-4632-b0be-bd909c87a813",
   "metadata": {},
   "source": [
    "# Sentimientos y emociones"
   ]
  },
  {
   "cell_type": "markdown",
   "id": "bacba3fa-f8f1-4001-9829-7b71f2508a41",
   "metadata": {},
   "source": [
    "Con la gran polemica que twitter esta generando estos dias decidimos hacer un estudio sobre si existe una relacion entre las emociones/sentimientos de las descripciones con sus respectivos precios.<br>\n",
    "Por eso tomamos un modelo ya preprocesado sobre un corpus de tweets y generaremos los siguientes features:"
   ]
  },
  {
   "cell_type": "code",
   "execution_count": null,
   "id": "bc8635c1-5abd-4ed0-b81c-638fe7ecfe96",
   "metadata": {},
   "outputs": [],
   "source": [
    "#Mas info: https://github.com/pysentimiento/pysentimiento\n",
    "from pysentimiento import create_analyzer "
   ]
  },
  {
   "cell_type": "markdown",
   "id": "09d3e7b8-5469-4dfc-af1f-cbf1e1e8e2c6",
   "metadata": {},
   "source": [
    "## Sentimientos"
   ]
  },
  {
   "cell_type": "code",
   "execution_count": null,
   "id": "01134a20-2a7a-425c-89a4-52f711506de5",
   "metadata": {},
   "outputs": [],
   "source": [
    "# Crearemos una instancia del objeto a usar\n",
    "# Explicacion de los siguientes parametros\n",
    "# Task: Nombre de la tarea, en este caso pediremos los sentimientos de las descripciones\n",
    "# Lang: Idioma que usaremos, es -> español\n",
    "analyzer = create_analyzer(task=\"sentiment\", lang=\"es\")"
   ]
  },
  {
   "cell_type": "markdown",
   "id": "6d69bba5-af27-4a6c-82c3-fb75e83c1a01",
   "metadata": {},
   "source": [
    "Comenzamos con un ejemplo\n",
    "Predecimos una frase"
   ]
  },
  {
   "cell_type": "code",
   "execution_count": null,
   "id": "59d75cef-9575-4716-95c0-8379ce184824",
   "metadata": {},
   "outputs": [],
   "source": [
    "analyzer.predict(\"Qué gran jugador es Messi\")"
   ]
  },
  {
   "cell_type": "markdown",
   "id": "e78d474e-1412-4ef2-ac4c-4bf8f164bf27",
   "metadata": {},
   "source": [
    "Observamos que nos devuelve un objeto con sus atributos:\n",
    "   - Output: Como categorizo la frase, en este caso considero que la frase es positiva\n",
    "   - Probas: Un diccionario con las probabilidades de que la frase sea positiva, negativa y neutra."
   ]
  },
  {
   "cell_type": "markdown",
   "id": "08089155-c868-4bda-8c4d-3119b7443658",
   "metadata": {},
   "source": [
    "Observamos otro ejemplo:"
   ]
  },
  {
   "cell_type": "code",
   "execution_count": null,
   "id": "fab841e4-3501-4af6-a38e-60167a561f34",
   "metadata": {},
   "outputs": [],
   "source": [
    "analyzer.predict(\"Esto es pésimo\")"
   ]
  },
  {
   "cell_type": "markdown",
   "id": "59ada084-ecfa-4f14-a03c-448b13231001",
   "metadata": {},
   "source": [
    "En este ejemplo considero la frase negativa y creemos que en definitiva si lo es."
   ]
  },
  {
   "cell_type": "markdown",
   "id": "88efb199-210c-48c8-979c-b6a5933144c3",
   "metadata": {},
   "source": [
    "Crearemos un feature con el porcentaje de sentimiento positivo de su descripcion."
   ]
  },
  {
   "cell_type": "markdown",
   "id": "35389a29-e1f3-4bfa-aed9-2d025f58b6f8",
   "metadata": {},
   "source": [
    "Comenzamos con x_train."
   ]
  },
  {
   "cell_type": "code",
   "execution_count": null,
   "id": "c863e646-0194-4b1c-ba06-73e57dae3735",
   "metadata": {},
   "outputs": [],
   "source": [
    "sentimiento_positivo_x_train = []"
   ]
  },
  {
   "cell_type": "code",
   "execution_count": null,
   "id": "ba3020b6-97fc-4997-a0bc-1b9cdac025a0",
   "metadata": {},
   "outputs": [],
   "source": [
    "for descrip in list(x_train.descripcion):\n",
    "    analizador = analyzer.predict(descrip)\n",
    "    sentimiento_positivo_x_train.append(analizador.probas['POS'])"
   ]
  },
  {
   "cell_type": "markdown",
   "id": "a09bb9f5-72f3-4815-bdb6-7e652e1e87ab",
   "metadata": {},
   "source": [
    "Vamos a guardar el resultado porque el proceso es muy costoso y para no guardar el dataSet completo guardaremos el feature sentimiento con su respectivo id para luego unirlo con el dataSet completo."
   ]
  },
  {
   "cell_type": "code",
   "execution_count": null,
   "id": "85c775ac-4e35-45fc-9307-fd67a32b2feb",
   "metadata": {},
   "outputs": [],
   "source": [
    "list_x_train_descrip = list(zip(list(_x_train.id), sentimiento_positivo_x_train))"
   ]
  },
  {
   "cell_type": "code",
   "execution_count": null,
   "id": "da893887-4254-405b-b662-480d6f452b1d",
   "metadata": {},
   "outputs": [],
   "source": [
    "x_train_sentiment = pd.DataFrame(list_x_train_descrip)"
   ]
  },
  {
   "cell_type": "code",
   "execution_count": null,
   "id": "400d5b6a-7b45-4598-aa7f-76c792827406",
   "metadata": {},
   "outputs": [],
   "source": [
    "x_train_sentiment.rename(columns={0:'id', 1:'Sentimiento Positivo'}, inplace=True)"
   ]
  },
  {
   "cell_type": "code",
   "execution_count": null,
   "id": "843db69d-d616-43de-aacb-88aa2be2730e",
   "metadata": {},
   "outputs": [],
   "source": [
    "#Lo guardamos\n",
    "#x_train_sentiment.to_csv(\"./DataSet/TP2-NLP/x_train_sentiment\")"
   ]
  },
  {
   "cell_type": "markdown",
   "id": "eccc0c38-c188-4815-bdc7-f35bf38fe95f",
   "metadata": {},
   "source": [
    "Haremos el mismo proceso con el dataSet x_test."
   ]
  },
  {
   "cell_type": "code",
   "execution_count": null,
   "id": "10da7c4c-f411-492d-a0d9-bcee69332859",
   "metadata": {},
   "outputs": [],
   "source": [
    "sentimiento_positivo_x_test = []"
   ]
  },
  {
   "cell_type": "code",
   "execution_count": null,
   "id": "811db22b-d17f-4d1d-b154-b72f19ba2485",
   "metadata": {},
   "outputs": [],
   "source": [
    "for descrip in list(x_test.descripcion):\n",
    "    analizador = analyzer.predict(descrip)\n",
    "    sentimiento_positivo_x_test.append(analizador.probas['POS'])"
   ]
  },
  {
   "cell_type": "code",
   "execution_count": null,
   "id": "d0b83137-b39c-4f13-8ed7-971216dc3e5d",
   "metadata": {},
   "outputs": [],
   "source": [
    "list_x_test_sentiment = list(zip(list(_x_test.id), sentimiento_positivo[-len(x_test):]))"
   ]
  },
  {
   "cell_type": "code",
   "execution_count": null,
   "id": "72987153-6824-4fa9-82a8-ab8ac29431e5",
   "metadata": {},
   "outputs": [],
   "source": [
    "x_test_sentiment = pd.DataFrame(x_test_sentiment)"
   ]
  },
  {
   "cell_type": "code",
   "execution_count": null,
   "id": "fcb27485-34a9-4bad-a0e7-6919032c6ba1",
   "metadata": {},
   "outputs": [],
   "source": [
    "x_test_sentiment.rename(columns={0:'id', 1:'Sentimiento Positivo'}, inplace=True)"
   ]
  },
  {
   "cell_type": "code",
   "execution_count": null,
   "id": "b643fab3-98bf-4003-b615-1071857aa695",
   "metadata": {},
   "outputs": [],
   "source": [
    "x_test_sentiment.head()"
   ]
  },
  {
   "cell_type": "code",
   "execution_count": null,
   "id": "c8378596-b62b-405e-9a0a-4ef92e170baf",
   "metadata": {},
   "outputs": [],
   "source": [
    "#Lo guardamos\n",
    "#x_test_sentiment.to_csv(\"./DataSet/TP2-NLP/x_test_sentiment\")"
   ]
  },
  {
   "cell_type": "markdown",
   "id": "a2ec4d1f-50eb-4d5d-8b83-29efbefa19b5",
   "metadata": {},
   "source": [
    "## Emociones"
   ]
  },
  {
   "cell_type": "code",
   "execution_count": null,
   "id": "48af700d-581d-47f9-a760-18e53955b6e1",
   "metadata": {},
   "outputs": [],
   "source": [
    "# Crearemos una instancia del objeto a usar\n",
    "# Explicacion de los siguientes parametros\n",
    "# Task: Nombre de la tarea, en este caso pediremos las emociones de las descripciones\n",
    "# Lang: Idioma que usaremos, es -> español\n",
    "emotion_analyzer = create_analyzer(task=\"emotion\", lang=\"es\")"
   ]
  },
  {
   "cell_type": "markdown",
   "id": "5b8f7f20-406e-40a6-8117-39ec2882f575",
   "metadata": {},
   "source": [
    "Un ejemplo:"
   ]
  },
  {
   "cell_type": "code",
   "execution_count": null,
   "id": "b97bd0c6-24f5-4cd4-8f8b-226844e0c18f",
   "metadata": {},
   "outputs": [],
   "source": [
    "emotion_analyzer.predict(\"Estoy muy triste\")"
   ]
  },
  {
   "cell_type": "markdown",
   "id": "0a5f90d8-0799-4c5c-9d7e-41e6407b2765",
   "metadata": {},
   "source": [
    "Observamos que nos devuelve un objeto con 2 atributos:\n",
    "   - Output: Como categorizo la frase, en este caso considero que la frase es triste\n",
    "   - Probas: Un diccionario con las probabilidades de que la frase alegre, triste, sorpresa, miedo, enfado, otros, disgusto."
   ]
  },
  {
   "cell_type": "markdown",
   "id": "c25c35f7-2460-48a6-b738-64c20c1693b2",
   "metadata": {},
   "source": [
    "Crearemos 6 features, 1 por cada emocion y guardaremos en cada uno su respectiva probabilidad."
   ]
  },
  {
   "cell_type": "markdown",
   "id": "a72ad171-ac2f-4c34-9d84-769fd254bb82",
   "metadata": {},
   "source": [
    "Comenzamos con x_train"
   ]
  },
  {
   "cell_type": "code",
   "execution_count": null,
   "id": "1dfca2d1-3bb4-45a8-879e-a92e3d8c0d4a",
   "metadata": {},
   "outputs": [],
   "source": [
    "emociones_x_train = []"
   ]
  },
  {
   "cell_type": "code",
   "execution_count": null,
   "id": "26eabb17-cc2c-424e-a2d2-d374c91fb3b6",
   "metadata": {},
   "outputs": [],
   "source": [
    "for descrip in list(x_train.descripcion):\n",
    "    analizador = emotion_analyzer.predict(descrip)\n",
    "    probabilidades = analizador.probas\n",
    "    emociones_x_train.append([probabilidades['joy'], probabilidades['sadness'], probabilidades['surprise'], probabilidades['fear'], probabilidades['anger'], probabilidades['others'], probabilidades['disgust']])"
   ]
  },
  {
   "cell_type": "code",
   "execution_count": null,
   "id": "b7880706-a725-4ba0-bb7b-bfcffb67894b",
   "metadata": {},
   "outputs": [],
   "source": [
    "x_train_emotion = pd.DataFrame(emociones_x_train)\n",
    "x_train_emotion.rename(columns={0:'alegria', 1:'tristeza', 2:'sorpresa', 3: 'miedo', 4:'enfado', 5: 'otros', 6:'disgusto'}, inplace=True)\n",
    "x_train_emotion['id'] = _x_train.id"
   ]
  },
  {
   "cell_type": "code",
   "execution_count": null,
   "id": "9d2f5388-7d31-47ab-be5e-fdce0641d360",
   "metadata": {},
   "outputs": [],
   "source": [
    "x_train_emotion"
   ]
  },
  {
   "cell_type": "code",
   "execution_count": null,
   "id": "94e8f74f-77f3-4120-b675-b10a9299349f",
   "metadata": {},
   "outputs": [],
   "source": [
    "#Lo guardamos\n",
    "#x_train_emotion.to_csv(\"./DataSet/TP2-NLP/x_train_emotion\")"
   ]
  },
  {
   "cell_type": "markdown",
   "id": "ae43e8f7-4283-4f5b-9f0d-06b6450a6156",
   "metadata": {},
   "source": [
    "Ahora con x_test"
   ]
  },
  {
   "cell_type": "code",
   "execution_count": null,
   "id": "eb22f79e-703f-42a7-9c05-f3e775212308",
   "metadata": {},
   "outputs": [],
   "source": [
    "emociones_x_test = []"
   ]
  },
  {
   "cell_type": "code",
   "execution_count": null,
   "id": "84b9291f-a78e-4827-8c19-9d34cfd5d962",
   "metadata": {},
   "outputs": [],
   "source": [
    "for descrip in list(x_test.descripcion):\n",
    "    analizador = emotion_analyzer.predict(descrip)\n",
    "    probabilidades = analizador.probas\n",
    "    emociones_x_test.append([probabilidades['joy'], probabilidades['sadness'], probabilidades['surprise'], probabilidades['fear'], probabilidades['anger'], probabilidades['others'], probabilidades['disgust']])"
   ]
  },
  {
   "cell_type": "code",
   "execution_count": null,
   "id": "60a7b076-a7c1-461a-a929-211e699549c4",
   "metadata": {},
   "outputs": [],
   "source": [
    "x_test_emotion = pd.DataFrame(emociones_x_test)\n",
    "x_test_emotion.rename(columns={0:'alegria', 1:'tristeza', 2:'sorpresa', 3: 'miedo', 4:'enfado', 5: 'otros', 6:'disgusto'}, inplace=True)\n",
    "x_test_emotion['id'] = _x_test.id"
   ]
  },
  {
   "cell_type": "code",
   "execution_count": null,
   "id": "ba3ea341-fbd4-4965-ab14-594ef42ac7bd",
   "metadata": {},
   "outputs": [],
   "source": [
    "x_test_emotion.head()"
   ]
  },
  {
   "cell_type": "code",
   "execution_count": null,
   "id": "973220ce-d0fa-4e53-b9a0-e38eb8a656b1",
   "metadata": {},
   "outputs": [],
   "source": [
    "#Lo guardamos\n",
    "#x_test_emotion.to_csv(\"./DataSet/TP2-NLP/x_test_emotion\")"
   ]
  },
  {
   "cell_type": "markdown",
   "id": "94c3ca8f-b52d-4eb6-99a3-c74dcb73ca0f",
   "metadata": {},
   "source": [
    "# Comenzamos el analisis de sentimientos y uniones"
   ]
  },
  {
   "cell_type": "markdown",
   "id": "ac576436-a173-40a5-8fac-c84a21ba3c10",
   "metadata": {},
   "source": [
    "Vamos a crear un arbol de regresion para saber si en realidad los features de emociones y sentimientos son importantes para calcular el precio."
   ]
  },
  {
   "cell_type": "markdown",
   "id": "42168e45-4533-403a-bb36-ea752b08cbdd",
   "metadata": {},
   "source": [
    "Descargo los dataSet y uno los features de emociones y sentimientos con el dataSet principal"
   ]
  },
  {
   "cell_type": "code",
   "execution_count": 8,
   "id": "87b5baa7-fd15-42cb-b025-0ee89e5b538d",
   "metadata": {},
   "outputs": [],
   "source": [
    "x_train = _x_train.copy()\n",
    "y_train = _y_train.copy()\n",
    "x_test = _x_test.copy()\n",
    "y_test = _y_test.copy()"
   ]
  },
  {
   "cell_type": "code",
   "execution_count": 9,
   "id": "bf006048-8bd3-4639-a67d-90759d7d9971",
   "metadata": {},
   "outputs": [],
   "source": [
    "#Descargo los features de sentimientos\n",
    "x_train_sentiment = pd.read_csv(\"./DataSet/TP2-NLP/x_train_sentiment\")\n",
    "x_train_sentiment.drop(columns='Unnamed: 0', inplace=True)\n",
    "x_test_sentiment = pd.read_csv(\"./DataSet/TP2-NLP/x_test_sentiment\")\n",
    "x_test_sentiment.drop(columns='Unnamed: 0', inplace=True)\n",
    "#Descargo los features de emociones\n",
    "x_train_emotion = pd.read_csv(\"./DataSet/TP2-NLP/x_train_emotion\")\n",
    "x_train_emotion.drop(columns='Unnamed: 0', inplace=True)\n",
    "x_test_emotion = pd.read_csv(\"./DataSet/TP2-NLP/x_test_emotion\")\n",
    "x_test_emotion.drop(columns='Unnamed: 0', inplace=True)"
   ]
  },
  {
   "cell_type": "markdown",
   "id": "993264b6-1796-4954-b71a-03e3bd384edd",
   "metadata": {},
   "source": [
    "Uno los features de sentimientos y emociones con el dataSet principal."
   ]
  },
  {
   "cell_type": "code",
   "execution_count": 10,
   "id": "90df567c-d1a4-4a7b-a627-ac3772bea906",
   "metadata": {},
   "outputs": [],
   "source": [
    "#x_train\n",
    "x_train = pd.merge(x_train, x_train_sentiment, on=\"id\")\n",
    "x_train = pd.merge(x_train, x_train_emotion, on=\"id\")"
   ]
  },
  {
   "cell_type": "code",
   "execution_count": 11,
   "id": "8762ec8b-9258-4c56-a07c-82aecedeac37",
   "metadata": {},
   "outputs": [
    {
     "data": {
      "text/html": [
       "<div>\n",
       "<style scoped>\n",
       "    .dataframe tbody tr th:only-of-type {\n",
       "        vertical-align: middle;\n",
       "    }\n",
       "\n",
       "    .dataframe tbody tr th {\n",
       "        vertical-align: top;\n",
       "    }\n",
       "\n",
       "    .dataframe thead th {\n",
       "        text-align: right;\n",
       "    }\n",
       "</style>\n",
       "<table border=\"1\" class=\"dataframe\">\n",
       "  <thead>\n",
       "    <tr style=\"text-align: right;\">\n",
       "      <th></th>\n",
       "      <th>id</th>\n",
       "      <th>latitud</th>\n",
       "      <th>longitud</th>\n",
       "      <th>ambientes</th>\n",
       "      <th>dormitorios</th>\n",
       "      <th>superficie_cubierta</th>\n",
       "      <th>comuna</th>\n",
       "      <th>Departamento</th>\n",
       "      <th>PH</th>\n",
       "      <th>Sentimiento Positivo</th>\n",
       "      <th>alegria</th>\n",
       "      <th>tristeza</th>\n",
       "      <th>sorpresa</th>\n",
       "      <th>miedo</th>\n",
       "      <th>enfado</th>\n",
       "      <th>otros</th>\n",
       "      <th>disgusto</th>\n",
       "    </tr>\n",
       "  </thead>\n",
       "  <tbody>\n",
       "    <tr>\n",
       "      <th>0</th>\n",
       "      <td>JhrnbHggMI/+a3HqPvSHpA==</td>\n",
       "      <td>-34.583010</td>\n",
       "      <td>-58.481533</td>\n",
       "      <td>4.0</td>\n",
       "      <td>3.0</td>\n",
       "      <td>70.0</td>\n",
       "      <td>15</td>\n",
       "      <td>1.0</td>\n",
       "      <td>0.0</td>\n",
       "      <td>0.296470</td>\n",
       "      <td>0.290528</td>\n",
       "      <td>0.005603</td>\n",
       "      <td>0.014617</td>\n",
       "      <td>0.002689</td>\n",
       "      <td>0.007023</td>\n",
       "      <td>0.676980</td>\n",
       "      <td>0.002560</td>\n",
       "    </tr>\n",
       "    <tr>\n",
       "      <th>1</th>\n",
       "      <td>QgE3a9anrPSP3oqujv1C0g==</td>\n",
       "      <td>-34.660079</td>\n",
       "      <td>-58.485894</td>\n",
       "      <td>6.0</td>\n",
       "      <td>4.0</td>\n",
       "      <td>275.0</td>\n",
       "      <td>9</td>\n",
       "      <td>0.0</td>\n",
       "      <td>0.0</td>\n",
       "      <td>0.048648</td>\n",
       "      <td>0.257622</td>\n",
       "      <td>0.005772</td>\n",
       "      <td>0.018778</td>\n",
       "      <td>0.002709</td>\n",
       "      <td>0.004777</td>\n",
       "      <td>0.707761</td>\n",
       "      <td>0.002582</td>\n",
       "    </tr>\n",
       "    <tr>\n",
       "      <th>2</th>\n",
       "      <td>GdDiEcbXr0qGtVgRjZYIXQ==</td>\n",
       "      <td>-34.581856</td>\n",
       "      <td>-58.425088</td>\n",
       "      <td>3.0</td>\n",
       "      <td>2.0</td>\n",
       "      <td>97.0</td>\n",
       "      <td>14</td>\n",
       "      <td>1.0</td>\n",
       "      <td>0.0</td>\n",
       "      <td>0.949890</td>\n",
       "      <td>0.532302</td>\n",
       "      <td>0.011435</td>\n",
       "      <td>0.034491</td>\n",
       "      <td>0.006770</td>\n",
       "      <td>0.006357</td>\n",
       "      <td>0.403338</td>\n",
       "      <td>0.005306</td>\n",
       "    </tr>\n",
       "    <tr>\n",
       "      <th>3</th>\n",
       "      <td>EOc0KchotIHQCSq1oFQxyw==</td>\n",
       "      <td>-34.607547</td>\n",
       "      <td>-58.442194</td>\n",
       "      <td>2.0</td>\n",
       "      <td>1.0</td>\n",
       "      <td>42.0</td>\n",
       "      <td>6</td>\n",
       "      <td>1.0</td>\n",
       "      <td>0.0</td>\n",
       "      <td>0.244936</td>\n",
       "      <td>0.296273</td>\n",
       "      <td>0.006642</td>\n",
       "      <td>0.033718</td>\n",
       "      <td>0.006992</td>\n",
       "      <td>0.004343</td>\n",
       "      <td>0.647592</td>\n",
       "      <td>0.004440</td>\n",
       "    </tr>\n",
       "    <tr>\n",
       "      <th>4</th>\n",
       "      <td>vLV4Bu3fyY5e9Stj/b/Ekw==</td>\n",
       "      <td>-34.607416</td>\n",
       "      <td>-58.509680</td>\n",
       "      <td>2.0</td>\n",
       "      <td>1.0</td>\n",
       "      <td>38.0</td>\n",
       "      <td>11</td>\n",
       "      <td>1.0</td>\n",
       "      <td>0.0</td>\n",
       "      <td>0.757725</td>\n",
       "      <td>0.657242</td>\n",
       "      <td>0.011658</td>\n",
       "      <td>0.043448</td>\n",
       "      <td>0.009398</td>\n",
       "      <td>0.004551</td>\n",
       "      <td>0.267826</td>\n",
       "      <td>0.005878</td>\n",
       "    </tr>\n",
       "  </tbody>\n",
       "</table>\n",
       "</div>"
      ],
      "text/plain": [
       "                         id    latitud   longitud  ambientes  dormitorios  \\\n",
       "0  JhrnbHggMI/+a3HqPvSHpA== -34.583010 -58.481533        4.0          3.0   \n",
       "1  QgE3a9anrPSP3oqujv1C0g== -34.660079 -58.485894        6.0          4.0   \n",
       "2  GdDiEcbXr0qGtVgRjZYIXQ== -34.581856 -58.425088        3.0          2.0   \n",
       "3  EOc0KchotIHQCSq1oFQxyw== -34.607547 -58.442194        2.0          1.0   \n",
       "4  vLV4Bu3fyY5e9Stj/b/Ekw== -34.607416 -58.509680        2.0          1.0   \n",
       "\n",
       "   superficie_cubierta  comuna  Departamento   PH  Sentimiento Positivo  \\\n",
       "0                 70.0      15           1.0  0.0              0.296470   \n",
       "1                275.0       9           0.0  0.0              0.048648   \n",
       "2                 97.0      14           1.0  0.0              0.949890   \n",
       "3                 42.0       6           1.0  0.0              0.244936   \n",
       "4                 38.0      11           1.0  0.0              0.757725   \n",
       "\n",
       "    alegria  tristeza  sorpresa     miedo    enfado     otros  disgusto  \n",
       "0  0.290528  0.005603  0.014617  0.002689  0.007023  0.676980  0.002560  \n",
       "1  0.257622  0.005772  0.018778  0.002709  0.004777  0.707761  0.002582  \n",
       "2  0.532302  0.011435  0.034491  0.006770  0.006357  0.403338  0.005306  \n",
       "3  0.296273  0.006642  0.033718  0.006992  0.004343  0.647592  0.004440  \n",
       "4  0.657242  0.011658  0.043448  0.009398  0.004551  0.267826  0.005878  "
      ]
     },
     "execution_count": 11,
     "metadata": {},
     "output_type": "execute_result"
    }
   ],
   "source": [
    "x_train.head()"
   ]
  },
  {
   "cell_type": "code",
   "execution_count": 12,
   "id": "0189f34a-aaa5-4f4c-ba05-2134d2aed618",
   "metadata": {},
   "outputs": [],
   "source": [
    "#x_test\n",
    "x_test = pd.merge(x_test, x_test_sentiment, on=\"id\")\n",
    "x_test = pd.merge(x_test, x_test_emotion, on=\"id\")"
   ]
  },
  {
   "cell_type": "code",
   "execution_count": 13,
   "id": "40e1fe09-59f0-4e94-9bce-5847129816ff",
   "metadata": {},
   "outputs": [
    {
     "data": {
      "text/html": [
       "<div>\n",
       "<style scoped>\n",
       "    .dataframe tbody tr th:only-of-type {\n",
       "        vertical-align: middle;\n",
       "    }\n",
       "\n",
       "    .dataframe tbody tr th {\n",
       "        vertical-align: top;\n",
       "    }\n",
       "\n",
       "    .dataframe thead th {\n",
       "        text-align: right;\n",
       "    }\n",
       "</style>\n",
       "<table border=\"1\" class=\"dataframe\">\n",
       "  <thead>\n",
       "    <tr style=\"text-align: right;\">\n",
       "      <th></th>\n",
       "      <th>id</th>\n",
       "      <th>latitud</th>\n",
       "      <th>longitud</th>\n",
       "      <th>ambientes</th>\n",
       "      <th>dormitorios</th>\n",
       "      <th>superficie_cubierta</th>\n",
       "      <th>Departamento</th>\n",
       "      <th>PH</th>\n",
       "      <th>comuna</th>\n",
       "      <th>Sentimiento Positivo</th>\n",
       "      <th>alegria</th>\n",
       "      <th>tristeza</th>\n",
       "      <th>sorpresa</th>\n",
       "      <th>miedo</th>\n",
       "      <th>enfado</th>\n",
       "      <th>otros</th>\n",
       "      <th>disgusto</th>\n",
       "    </tr>\n",
       "  </thead>\n",
       "  <tbody>\n",
       "    <tr>\n",
       "      <th>0</th>\n",
       "      <td>L/i3QyPkam5OcxMoY4PD4A==</td>\n",
       "      <td>-34.577296</td>\n",
       "      <td>-58.407220</td>\n",
       "      <td>4.0</td>\n",
       "      <td>3.0</td>\n",
       "      <td>165.0</td>\n",
       "      <td>1.0</td>\n",
       "      <td>0.0</td>\n",
       "      <td>14</td>\n",
       "      <td>0.972614</td>\n",
       "      <td>0.879647</td>\n",
       "      <td>0.002303</td>\n",
       "      <td>0.011425</td>\n",
       "      <td>0.001547</td>\n",
       "      <td>0.001716</td>\n",
       "      <td>0.102002</td>\n",
       "      <td>0.001360</td>\n",
       "    </tr>\n",
       "    <tr>\n",
       "      <th>1</th>\n",
       "      <td>qb5jsGial8hrGHZFt4kjXA==</td>\n",
       "      <td>-34.545025</td>\n",
       "      <td>-58.460216</td>\n",
       "      <td>4.0</td>\n",
       "      <td>3.0</td>\n",
       "      <td>96.0</td>\n",
       "      <td>1.0</td>\n",
       "      <td>0.0</td>\n",
       "      <td>13</td>\n",
       "      <td>0.016784</td>\n",
       "      <td>0.052972</td>\n",
       "      <td>0.003644</td>\n",
       "      <td>0.010320</td>\n",
       "      <td>0.001605</td>\n",
       "      <td>0.003328</td>\n",
       "      <td>0.926906</td>\n",
       "      <td>0.001225</td>\n",
       "    </tr>\n",
       "    <tr>\n",
       "      <th>2</th>\n",
       "      <td>6sDtQxzc7YCbXMUl9V11ow==</td>\n",
       "      <td>-34.592060</td>\n",
       "      <td>-58.394667</td>\n",
       "      <td>4.0</td>\n",
       "      <td>3.0</td>\n",
       "      <td>118.0</td>\n",
       "      <td>1.0</td>\n",
       "      <td>0.0</td>\n",
       "      <td>2</td>\n",
       "      <td>0.093802</td>\n",
       "      <td>0.115030</td>\n",
       "      <td>0.007334</td>\n",
       "      <td>0.013896</td>\n",
       "      <td>0.002847</td>\n",
       "      <td>0.004355</td>\n",
       "      <td>0.854284</td>\n",
       "      <td>0.002254</td>\n",
       "    </tr>\n",
       "    <tr>\n",
       "      <th>3</th>\n",
       "      <td>CqquLglwqJ/fzqhm2nMxog==</td>\n",
       "      <td>-34.629050</td>\n",
       "      <td>-58.433047</td>\n",
       "      <td>1.0</td>\n",
       "      <td>1.0</td>\n",
       "      <td>33.0</td>\n",
       "      <td>1.0</td>\n",
       "      <td>0.0</td>\n",
       "      <td>7</td>\n",
       "      <td>0.380551</td>\n",
       "      <td>0.404646</td>\n",
       "      <td>0.006501</td>\n",
       "      <td>0.026653</td>\n",
       "      <td>0.004463</td>\n",
       "      <td>0.004921</td>\n",
       "      <td>0.548926</td>\n",
       "      <td>0.003889</td>\n",
       "    </tr>\n",
       "    <tr>\n",
       "      <th>4</th>\n",
       "      <td>nxWt1nd/+yFkzf2X6xdSfQ==</td>\n",
       "      <td>-34.592154</td>\n",
       "      <td>-58.378277</td>\n",
       "      <td>3.0</td>\n",
       "      <td>2.0</td>\n",
       "      <td>156.0</td>\n",
       "      <td>1.0</td>\n",
       "      <td>0.0</td>\n",
       "      <td>1</td>\n",
       "      <td>0.997235</td>\n",
       "      <td>0.968894</td>\n",
       "      <td>0.001639</td>\n",
       "      <td>0.016190</td>\n",
       "      <td>0.001075</td>\n",
       "      <td>0.001141</td>\n",
       "      <td>0.009884</td>\n",
       "      <td>0.001177</td>\n",
       "    </tr>\n",
       "  </tbody>\n",
       "</table>\n",
       "</div>"
      ],
      "text/plain": [
       "                         id    latitud   longitud  ambientes  dormitorios  \\\n",
       "0  L/i3QyPkam5OcxMoY4PD4A== -34.577296 -58.407220        4.0          3.0   \n",
       "1  qb5jsGial8hrGHZFt4kjXA== -34.545025 -58.460216        4.0          3.0   \n",
       "2  6sDtQxzc7YCbXMUl9V11ow== -34.592060 -58.394667        4.0          3.0   \n",
       "3  CqquLglwqJ/fzqhm2nMxog== -34.629050 -58.433047        1.0          1.0   \n",
       "4  nxWt1nd/+yFkzf2X6xdSfQ== -34.592154 -58.378277        3.0          2.0   \n",
       "\n",
       "   superficie_cubierta  Departamento   PH  comuna  Sentimiento Positivo  \\\n",
       "0                165.0           1.0  0.0      14              0.972614   \n",
       "1                 96.0           1.0  0.0      13              0.016784   \n",
       "2                118.0           1.0  0.0       2              0.093802   \n",
       "3                 33.0           1.0  0.0       7              0.380551   \n",
       "4                156.0           1.0  0.0       1              0.997235   \n",
       "\n",
       "    alegria  tristeza  sorpresa     miedo    enfado     otros  disgusto  \n",
       "0  0.879647  0.002303  0.011425  0.001547  0.001716  0.102002  0.001360  \n",
       "1  0.052972  0.003644  0.010320  0.001605  0.003328  0.926906  0.001225  \n",
       "2  0.115030  0.007334  0.013896  0.002847  0.004355  0.854284  0.002254  \n",
       "3  0.404646  0.006501  0.026653  0.004463  0.004921  0.548926  0.003889  \n",
       "4  0.968894  0.001639  0.016190  0.001075  0.001141  0.009884  0.001177  "
      ]
     },
     "execution_count": 13,
     "metadata": {},
     "output_type": "execute_result"
    }
   ],
   "source": [
    "x_test.head()"
   ]
  },
  {
   "cell_type": "markdown",
   "id": "a1035d57-898d-44c7-924d-9e7241df155f",
   "metadata": {},
   "source": [
    "Elimino los feature id"
   ]
  },
  {
   "cell_type": "code",
   "execution_count": 14,
   "id": "46238822-34c6-4348-ac0c-b42bffea31f1",
   "metadata": {},
   "outputs": [],
   "source": [
    "x_train.drop(columns='id', inplace=True)\n",
    "x_test.drop(columns='id', inplace=True)"
   ]
  },
  {
   "cell_type": "markdown",
   "id": "4fa1b985-10e6-44d8-aab0-7527d059caee",
   "metadata": {},
   "source": [
    "Analizamos los valores de los features de emociones"
   ]
  },
  {
   "cell_type": "code",
   "execution_count": 15,
   "id": "1ac183f1-96ed-4bb3-95c6-3b28c27cbb5c",
   "metadata": {},
   "outputs": [],
   "source": [
    "df = x_train[['alegria', 'tristeza', 'sorpresa', 'miedo', 'enfado', 'otros', 'disgusto']]"
   ]
  },
  {
   "cell_type": "code",
   "execution_count": 16,
   "id": "b9396f74-1392-42e6-b320-c8a8a5782c1a",
   "metadata": {},
   "outputs": [
    {
     "data": {
      "text/html": [
       "<div>\n",
       "<style scoped>\n",
       "    .dataframe tbody tr th:only-of-type {\n",
       "        vertical-align: middle;\n",
       "    }\n",
       "\n",
       "    .dataframe tbody tr th {\n",
       "        vertical-align: top;\n",
       "    }\n",
       "\n",
       "    .dataframe thead th {\n",
       "        text-align: right;\n",
       "    }\n",
       "</style>\n",
       "<table border=\"1\" class=\"dataframe\">\n",
       "  <thead>\n",
       "    <tr style=\"text-align: right;\">\n",
       "      <th></th>\n",
       "      <th>alegria</th>\n",
       "      <th>tristeza</th>\n",
       "      <th>sorpresa</th>\n",
       "      <th>miedo</th>\n",
       "      <th>enfado</th>\n",
       "      <th>otros</th>\n",
       "      <th>disgusto</th>\n",
       "    </tr>\n",
       "  </thead>\n",
       "  <tbody>\n",
       "    <tr>\n",
       "      <th>0</th>\n",
       "      <td>0.290528</td>\n",
       "      <td>0.005603</td>\n",
       "      <td>0.014617</td>\n",
       "      <td>0.002689</td>\n",
       "      <td>0.007023</td>\n",
       "      <td>0.676980</td>\n",
       "      <td>0.002560</td>\n",
       "    </tr>\n",
       "    <tr>\n",
       "      <th>1</th>\n",
       "      <td>0.257622</td>\n",
       "      <td>0.005772</td>\n",
       "      <td>0.018778</td>\n",
       "      <td>0.002709</td>\n",
       "      <td>0.004777</td>\n",
       "      <td>0.707761</td>\n",
       "      <td>0.002582</td>\n",
       "    </tr>\n",
       "    <tr>\n",
       "      <th>2</th>\n",
       "      <td>0.532302</td>\n",
       "      <td>0.011435</td>\n",
       "      <td>0.034491</td>\n",
       "      <td>0.006770</td>\n",
       "      <td>0.006357</td>\n",
       "      <td>0.403338</td>\n",
       "      <td>0.005306</td>\n",
       "    </tr>\n",
       "    <tr>\n",
       "      <th>3</th>\n",
       "      <td>0.296273</td>\n",
       "      <td>0.006642</td>\n",
       "      <td>0.033718</td>\n",
       "      <td>0.006992</td>\n",
       "      <td>0.004343</td>\n",
       "      <td>0.647592</td>\n",
       "      <td>0.004440</td>\n",
       "    </tr>\n",
       "    <tr>\n",
       "      <th>4</th>\n",
       "      <td>0.657242</td>\n",
       "      <td>0.011658</td>\n",
       "      <td>0.043448</td>\n",
       "      <td>0.009398</td>\n",
       "      <td>0.004551</td>\n",
       "      <td>0.267826</td>\n",
       "      <td>0.005878</td>\n",
       "    </tr>\n",
       "  </tbody>\n",
       "</table>\n",
       "</div>"
      ],
      "text/plain": [
       "    alegria  tristeza  sorpresa     miedo    enfado     otros  disgusto\n",
       "0  0.290528  0.005603  0.014617  0.002689  0.007023  0.676980  0.002560\n",
       "1  0.257622  0.005772  0.018778  0.002709  0.004777  0.707761  0.002582\n",
       "2  0.532302  0.011435  0.034491  0.006770  0.006357  0.403338  0.005306\n",
       "3  0.296273  0.006642  0.033718  0.006992  0.004343  0.647592  0.004440\n",
       "4  0.657242  0.011658  0.043448  0.009398  0.004551  0.267826  0.005878"
      ]
     },
     "execution_count": 16,
     "metadata": {},
     "output_type": "execute_result"
    }
   ],
   "source": [
    "df.head()"
   ]
  },
  {
   "cell_type": "code",
   "execution_count": 17,
   "id": "d87c196b-7c60-4fa4-b9df-2ee7570d9957",
   "metadata": {},
   "outputs": [
    {
     "data": {
      "image/png": "[encoded data removed]",
      "text/plain": [
       "<Figure size 640x480 with 1 Axes>"
      ]
     },
     "metadata": {},
     "output_type": "display_data"
    }
   ],
   "source": [
    "grf_box = sns.boxplot(data=df).set(\n",
    "    title=\"Boxplot variable superficie_cubierta pos-eliminacion\",\n",
    "    xlabel=\" \",\n",
    "    ylabel=\"Superficie cubierta\",\n",
    ")"
   ]
  },
  {
   "cell_type": "markdown",
   "id": "c3cfbdcc-c32c-4f2e-badc-229f8c83820b",
   "metadata": {},
   "source": [
    "Observamos que alegria y otros tienen mayor variacion de datos."
   ]
  },
  {
   "cell_type": "markdown",
   "id": "1487702e-c872-425a-9213-485e899384a0",
   "metadata": {},
   "source": [
    "Analizo su varianza"
   ]
  },
  {
   "cell_type": "code",
   "execution_count": 18,
   "id": "d0bfc249-1f5a-4d5f-bd72-918abe2f6431",
   "metadata": {},
   "outputs": [
    {
     "data": {
      "text/plain": [
       "alegria     0.071110\n",
       "tristeza    0.000022\n",
       "sorpresa    0.000115\n",
       "miedo       0.000007\n",
       "enfado      0.000012\n",
       "otros       0.070530\n",
       "disgusto    0.000004\n",
       "dtype: float64"
      ]
     },
     "execution_count": 18,
     "metadata": {},
     "output_type": "execute_result"
    }
   ],
   "source": [
    "df.var()"
   ]
  },
  {
   "cell_type": "markdown",
   "id": "4a967e93-9e76-464c-9798-c7092ef30e19",
   "metadata": {},
   "source": [
    "Decido eliminar los feature con varianza menor a 0.000020"
   ]
  },
  {
   "cell_type": "code",
   "execution_count": 19,
   "id": "b2f96202-231b-42da-93ae-3a7709e2b471",
   "metadata": {},
   "outputs": [],
   "source": [
    "f_a_eliminar = []"
   ]
  },
  {
   "cell_type": "code",
   "execution_count": 20,
   "id": "0df4a6a2-ec30-411b-8cbd-e4de405b146c",
   "metadata": {},
   "outputs": [],
   "source": [
    "for f in df.columns:\n",
    "    if df[f].var() < 0.000020:\n",
    "        f_a_eliminar.append(f)"
   ]
  },
  {
   "cell_type": "code",
   "execution_count": 21,
   "id": "0d5502c5-b3e6-48eb-a630-f8fc6d1d5645",
   "metadata": {},
   "outputs": [
    {
     "data": {
      "text/plain": [
       "['miedo', 'enfado', 'disgusto']"
      ]
     },
     "execution_count": 21,
     "metadata": {},
     "output_type": "execute_result"
    }
   ],
   "source": [
    "f_a_eliminar"
   ]
  },
  {
   "cell_type": "code",
   "execution_count": 22,
   "id": "3c6d3597-702f-44ba-904e-d57fd6888fe5",
   "metadata": {},
   "outputs": [],
   "source": [
    "#Los elimino del dataSet, train y test\n",
    "#Aclaro que el estudio fue hecho con los datos del train asi no sesgo los valores del test\n",
    "x_train.drop(columns=f_a_eliminar, inplace=True)\n",
    "x_test.drop(columns=f_a_eliminar, inplace=True)"
   ]
  },
  {
   "cell_type": "code",
   "execution_count": 23,
   "id": "4b583cb8-9fb0-4f27-b47c-826993098e30",
   "metadata": {},
   "outputs": [
    {
     "data": {
      "text/html": [
       "<div>\n",
       "<style scoped>\n",
       "    .dataframe tbody tr th:only-of-type {\n",
       "        vertical-align: middle;\n",
       "    }\n",
       "\n",
       "    .dataframe tbody tr th {\n",
       "        vertical-align: top;\n",
       "    }\n",
       "\n",
       "    .dataframe thead th {\n",
       "        text-align: right;\n",
       "    }\n",
       "</style>\n",
       "<table border=\"1\" class=\"dataframe\">\n",
       "  <thead>\n",
       "    <tr style=\"text-align: right;\">\n",
       "      <th></th>\n",
       "      <th>latitud</th>\n",
       "      <th>longitud</th>\n",
       "      <th>ambientes</th>\n",
       "      <th>dormitorios</th>\n",
       "      <th>superficie_cubierta</th>\n",
       "      <th>Departamento</th>\n",
       "      <th>PH</th>\n",
       "      <th>comuna</th>\n",
       "      <th>Sentimiento Positivo</th>\n",
       "      <th>alegria</th>\n",
       "      <th>tristeza</th>\n",
       "      <th>sorpresa</th>\n",
       "      <th>otros</th>\n",
       "    </tr>\n",
       "  </thead>\n",
       "  <tbody>\n",
       "    <tr>\n",
       "      <th>0</th>\n",
       "      <td>-34.577296</td>\n",
       "      <td>-58.407220</td>\n",
       "      <td>4.0</td>\n",
       "      <td>3.0</td>\n",
       "      <td>165.0</td>\n",
       "      <td>1.0</td>\n",
       "      <td>0.0</td>\n",
       "      <td>14</td>\n",
       "      <td>0.972614</td>\n",
       "      <td>0.879647</td>\n",
       "      <td>0.002303</td>\n",
       "      <td>0.011425</td>\n",
       "      <td>0.102002</td>\n",
       "    </tr>\n",
       "    <tr>\n",
       "      <th>1</th>\n",
       "      <td>-34.545025</td>\n",
       "      <td>-58.460216</td>\n",
       "      <td>4.0</td>\n",
       "      <td>3.0</td>\n",
       "      <td>96.0</td>\n",
       "      <td>1.0</td>\n",
       "      <td>0.0</td>\n",
       "      <td>13</td>\n",
       "      <td>0.016784</td>\n",
       "      <td>0.052972</td>\n",
       "      <td>0.003644</td>\n",
       "      <td>0.010320</td>\n",
       "      <td>0.926906</td>\n",
       "    </tr>\n",
       "    <tr>\n",
       "      <th>2</th>\n",
       "      <td>-34.592060</td>\n",
       "      <td>-58.394667</td>\n",
       "      <td>4.0</td>\n",
       "      <td>3.0</td>\n",
       "      <td>118.0</td>\n",
       "      <td>1.0</td>\n",
       "      <td>0.0</td>\n",
       "      <td>2</td>\n",
       "      <td>0.093802</td>\n",
       "      <td>0.115030</td>\n",
       "      <td>0.007334</td>\n",
       "      <td>0.013896</td>\n",
       "      <td>0.854284</td>\n",
       "    </tr>\n",
       "    <tr>\n",
       "      <th>3</th>\n",
       "      <td>-34.629050</td>\n",
       "      <td>-58.433047</td>\n",
       "      <td>1.0</td>\n",
       "      <td>1.0</td>\n",
       "      <td>33.0</td>\n",
       "      <td>1.0</td>\n",
       "      <td>0.0</td>\n",
       "      <td>7</td>\n",
       "      <td>0.380551</td>\n",
       "      <td>0.404646</td>\n",
       "      <td>0.006501</td>\n",
       "      <td>0.026653</td>\n",
       "      <td>0.548926</td>\n",
       "    </tr>\n",
       "    <tr>\n",
       "      <th>4</th>\n",
       "      <td>-34.592154</td>\n",
       "      <td>-58.378277</td>\n",
       "      <td>3.0</td>\n",
       "      <td>2.0</td>\n",
       "      <td>156.0</td>\n",
       "      <td>1.0</td>\n",
       "      <td>0.0</td>\n",
       "      <td>1</td>\n",
       "      <td>0.997235</td>\n",
       "      <td>0.968894</td>\n",
       "      <td>0.001639</td>\n",
       "      <td>0.016190</td>\n",
       "      <td>0.009884</td>\n",
       "    </tr>\n",
       "  </tbody>\n",
       "</table>\n",
       "</div>"
      ],
      "text/plain": [
       "     latitud   longitud  ambientes  dormitorios  superficie_cubierta  \\\n",
       "0 -34.577296 -58.407220        4.0          3.0                165.0   \n",
       "1 -34.545025 -58.460216        4.0          3.0                 96.0   \n",
       "2 -34.592060 -58.394667        4.0          3.0                118.0   \n",
       "3 -34.629050 -58.433047        1.0          1.0                 33.0   \n",
       "4 -34.592154 -58.378277        3.0          2.0                156.0   \n",
       "\n",
       "   Departamento   PH  comuna  Sentimiento Positivo   alegria  tristeza  \\\n",
       "0           1.0  0.0      14              0.972614  0.879647  0.002303   \n",
       "1           1.0  0.0      13              0.016784  0.052972  0.003644   \n",
       "2           1.0  0.0       2              0.093802  0.115030  0.007334   \n",
       "3           1.0  0.0       7              0.380551  0.404646  0.006501   \n",
       "4           1.0  0.0       1              0.997235  0.968894  0.001639   \n",
       "\n",
       "   sorpresa     otros  \n",
       "0  0.011425  0.102002  \n",
       "1  0.010320  0.926906  \n",
       "2  0.013896  0.854284  \n",
       "3  0.026653  0.548926  \n",
       "4  0.016190  0.009884  "
      ]
     },
     "execution_count": 23,
     "metadata": {},
     "output_type": "execute_result"
    }
   ],
   "source": [
    "x_test.head()"
   ]
  },
  {
   "cell_type": "markdown",
   "id": "941cdd68-d9d3-4264-8adb-cd08b4cbe3f3",
   "metadata": {},
   "source": [
    "### Arbol de regresion"
   ]
  },
  {
   "cell_type": "markdown",
   "id": "393e1b05-2228-4feb-a352-4c49b14f4120",
   "metadata": {},
   "source": [
    "Analizare la importancia de los features sentimiento y emociones con un arbol de regresion."
   ]
  },
  {
   "cell_type": "code",
   "execution_count": 24,
   "id": "ad8cc286-2e6a-4ac4-be27-2ebbc3727ca2",
   "metadata": {},
   "outputs": [],
   "source": [
    "from sklearn.tree import DecisionTreeRegressor"
   ]
  },
  {
   "cell_type": "code",
   "execution_count": 25,
   "id": "914ac31f-923b-4e86-9070-06bb0642bc8c",
   "metadata": {},
   "outputs": [
    {
     "data": {
      "text/plain": [
       "RandomizedSearchCV(cv=5, estimator=DecisionTreeRegressor(random_state=5),\n",
       "                   n_iter=15,\n",
       "                   param_distributions={'criterion': ['squared_error',\n",
       "                                                      'friedman_mse',\n",
       "                                                      'absolute_error'],\n",
       "                                        'min_samples_leaf': [5, 10],\n",
       "                                        'min_samples_split': [2, 4, 10, 12, 16],\n",
       "                                        'splitter': ['random', 'best']},\n",
       "                   random_state=5, scoring='neg_root_mean_squared_error')"
      ]
     },
     "execution_count": 25,
     "metadata": {},
     "output_type": "execute_result"
    }
   ],
   "source": [
    "#Grilla de Parámetros\n",
    "params_grid = { \"criterion\" : [\"squared_error\", \"friedman_mse\", \"absolute_error\"], \n",
    "               \"min_samples_leaf\" : [5, 10], \n",
    "               \"min_samples_split\" : [2, 4, 10, 12, 16], \n",
    "               \"splitter\": ['random','best'] }\n",
    "\n",
    "#Clasificador Arbol\n",
    "tree = DecisionTreeRegressor(random_state = 5)\n",
    "\n",
    "#Random Search con 5 Folds y 15 iteraciones\n",
    "rand_tree_model1 = RandomizedSearchCV(tree, params_grid, scoring='neg_root_mean_squared_error', cv=5, n_iter=15, random_state=5)\n",
    "\n",
    "rand_tree_model1.fit(x_train, y_train)"
   ]
  },
  {
   "cell_type": "code",
   "execution_count": 26,
   "id": "2fbbb995-d4ad-4945-8527-9e6a067d3a89",
   "metadata": {},
   "outputs": [
    {
     "name": "stdout",
     "output_type": "stream",
     "text": [
      "Observamos que los parametros que performaron mejor son: DecisionTreeRegressor(criterion='friedman_mse', min_samples_leaf=10,\n",
      "                      min_samples_split=10, random_state=5, splitter='random')\n"
     ]
    }
   ],
   "source": [
    "print(f\"Observamos que los parametros que performaron mejor son: {rand_tree_model1.best_estimator_}\")"
   ]
  },
  {
   "cell_type": "code",
   "execution_count": 27,
   "id": "42ff2411-e916-4f13-ab7a-b509e24b90c9",
   "metadata": {},
   "outputs": [
    {
     "name": "stdout",
     "output_type": "stream",
     "text": [
      "Y el error mas bajo fue: -708.1974794125333\n"
     ]
    }
   ],
   "source": [
    "print(f\"Y el error mas bajo fue: {rand_tree_model1.best_score_}\")"
   ]
  },
  {
   "cell_type": "markdown",
   "id": "2fb7e4ea-c8a5-42c1-8ddb-bc64beaaef61",
   "metadata": {},
   "source": [
    "Este resultado sorprende porque en el TP1 cuando calculamos el arbol de regresion, el mejor error para el dataSet sin reducir fue: -1171.865033492837 y ahora tenemos un error que es casi la mitad."
   ]
  },
  {
   "cell_type": "markdown",
   "id": "3e529597-4c8a-46c0-94dd-53ef3cdc37d9",
   "metadata": {},
   "source": [
    "Vaemos la importancia de los features"
   ]
  },
  {
   "cell_type": "code",
   "execution_count": 30,
   "id": "b68281a3-37cc-42a9-8c9e-ab152f1b1b0e",
   "metadata": {},
   "outputs": [
    {
     "data": {
      "text/plain": [
       "[('longitud', 0.30726374082019775),\n",
       " ('latitud', 0.2252740060183832),\n",
       " ('Departamento', 0.16532012078356534),\n",
       " ('superficie_cubierta', 0.11584866178439773),\n",
       " ('comuna', 0.08752482460558482),\n",
       " ('alegria', 0.020695319096288946),\n",
       " ('ambientes', 0.018788507643784612),\n",
       " ('otros', 0.01577008417466985),\n",
       " ('Sentimiento Positivo', 0.01438230352310374),\n",
       " ('dormitorios', 0.01078833914379046),\n",
       " ('tristeza', 0.00988952827707629),\n",
       " ('sorpresa', 0.007698542909535647),\n",
       " ('PH', 0.0007560212196215606)]"
      ]
     },
     "execution_count": 30,
     "metadata": {},
     "output_type": "execute_result"
    }
   ],
   "source": [
    "#Mejor estimador\n",
    "best_tree=rand_tree_model1.best_estimator_\n",
    "sorted(list(zip(x_train.columns, best_tree.feature_importances_)), key=lambda x: -x[1])"
   ]
  },
  {
   "cell_type": "markdown",
   "id": "5443bf20-7181-485a-8a63-f7fed8590aa1",
   "metadata": {},
   "source": [
    "Observamos que el feature de alegria tiene una importancia mayor que la de ambientes, dormitorios y PH.<br>\n",
    "Coincidencia? Yo no lo creo"
   ]
  },
  {
   "cell_type": "markdown",
   "id": "5c6465dd-f1dd-45be-bfee-417e10a53c4c",
   "metadata": {},
   "source": [
    "<img src=\"https://www.fotosdememes.com/wp-content/uploads/2022/03/Coincidencia-no-lo-creo.jpg\">"
   ]
  },
  {
   "cell_type": "markdown",
   "id": "59ec9830-808d-4ab2-9fbd-f468102f3a93",
   "metadata": {},
   "source": [
    "Guardo el arbol"
   ]
  },
  {
   "cell_type": "code",
   "execution_count": 63,
   "id": "431c5ff3-4daa-4003-89d9-1463a1667bdd",
   "metadata": {},
   "outputs": [
    {
     "data": {
      "text/plain": [
       "['./Modelos/DecisionTreeRegressor-model1.joblib']"
      ]
     },
     "execution_count": 63,
     "metadata": {},
     "output_type": "execute_result"
    }
   ],
   "source": [
    "dump(best_tree, './Modelos_TP2/DecisionTreeRegressor-model1.joblib') "
   ]
  },
  {
   "cell_type": "markdown",
   "id": "a0e5b241-e175-4744-9d86-bebb99c3449e",
   "metadata": {},
   "source": [
    "# XGBoost"
   ]
  },
  {
   "cell_type": "code",
   "execution_count": 32,
   "id": "0732f42b-f234-4733-b951-bcaf5da37212",
   "metadata": {},
   "outputs": [],
   "source": [
    "import xgboost as xgb"
   ]
  },
  {
   "cell_type": "markdown",
   "id": "2ec76f14-bf28-4edc-b66c-25e4a657b6db",
   "metadata": {},
   "source": [
    "Normalizo con ZScore"
   ]
  },
  {
   "cell_type": "code",
   "execution_count": 33,
   "id": "f915a0ce-8b1c-4f1d-a932-704cba47d86c",
   "metadata": {},
   "outputs": [],
   "source": [
    "scaler = StandardScaler()\n",
    "x_train = scaler.fit_transform(x_train)\n",
    "x_test = scaler.transform(x_test)"
   ]
  },
  {
   "cell_type": "markdown",
   "id": "205337ea-d917-47df-93dd-1d06218f3dad",
   "metadata": {},
   "source": [
    "## Modelo 1: XGBoost del TP1"
   ]
  },
  {
   "cell_type": "markdown",
   "id": "32fffa93-254d-4218-9c4e-4112ed659958",
   "metadata": {},
   "source": [
    "Usare los parametros obtenidos en el TP1"
   ]
  },
  {
   "cell_type": "code",
   "execution_count": 46,
   "id": "a718ed0e-74a5-44a7-9992-6e6ca3b67e11",
   "metadata": {},
   "outputs": [],
   "source": [
    "xgboost_model1 = xgb.XGBRegressor(n_estimators=100, max_depth=5, learning_rate=0.05, min_child_weight=3)"
   ]
  },
  {
   "cell_type": "code",
   "execution_count": 48,
   "id": "30415902-bbc4-40da-87db-5f40b723b2c8",
   "metadata": {},
   "outputs": [
    {
     "data": {
      "text/plain": [
       "XGBRegressor(base_score=0.5, booster='gbtree', colsample_bylevel=1,\n",
       "             colsample_bynode=1, colsample_bytree=1, enable_categorical=False,\n",
       "             gamma=0, gpu_id=-1, importance_type=None,\n",
       "             interaction_constraints='', learning_rate=0.05, max_delta_step=0,\n",
       "             max_depth=5, min_child_weight=3, missing=nan,\n",
       "             monotone_constraints='()', n_estimators=100, n_jobs=8,\n",
       "             num_parallel_tree=1, predictor='auto', random_state=0, reg_alpha=0,\n",
       "             reg_lambda=1, scale_pos_weight=1, subsample=1, tree_method='exact',\n",
       "             validate_parameters=1, verbosity=None)"
      ]
     },
     "execution_count": 48,
     "metadata": {},
     "output_type": "execute_result"
    }
   ],
   "source": [
    "xgboost_model1.fit(x_train, y_train)"
   ]
  },
  {
   "cell_type": "code",
   "execution_count": 51,
   "id": "f840f435-94c8-4e15-9efa-7f206a46f65f",
   "metadata": {},
   "outputs": [],
   "source": [
    "#Predigo\n",
    "y_pred=xgboost_model1.predict(x_test)"
   ]
  },
  {
   "cell_type": "code",
   "execution_count": 52,
   "id": "4b6f052f-67ce-4ea7-a4fb-81252d6f5ff5",
   "metadata": {},
   "outputs": [],
   "source": [
    "from sklearn.metrics import mean_squared_error"
   ]
  },
  {
   "cell_type": "code",
   "execution_count": 58,
   "id": "b778c043-3582-4024-852b-06d1cf4eef05",
   "metadata": {},
   "outputs": [
    {
     "data": {
      "text/plain": [
       "820.2106236039823"
      ]
     },
     "execution_count": 58,
     "metadata": {},
     "output_type": "execute_result"
    }
   ],
   "source": [
    "#Calculo el RMSE\n",
    "mean_squared_error(y_test, y_pred, squared=False)"
   ]
  },
  {
   "cell_type": "markdown",
   "id": "2e4b542b-8749-4e62-ad52-b7926cc1f394",
   "metadata": {},
   "source": [
    "Lo guardamos"
   ]
  },
  {
   "cell_type": "code",
   "execution_count": 60,
   "id": "8ab19463-8f71-49cd-bf43-cb51353eb5fe",
   "metadata": {},
   "outputs": [
    {
     "data": {
      "text/plain": [
       "['./Modelos/XGBOOST-model1.joblib']"
      ]
     },
     "execution_count": 60,
     "metadata": {},
     "output_type": "execute_result"
    }
   ],
   "source": [
    "dump(xgboost_model1, './Modelos_TP2/XGBOOST-model1.joblib') "
   ]
  },
  {
   "cell_type": "markdown",
   "id": "b70955d6-5e6f-443b-9c0c-cc9ff21d035d",
   "metadata": {},
   "source": [
    "## Modelo 2: XGBoost"
   ]
  },
  {
   "cell_type": "code",
   "execution_count": 34,
   "id": "df9eb1da-423b-4318-bcb2-7b3b3bb924ee",
   "metadata": {},
   "outputs": [
    {
     "data": {
      "text/plain": [
       "RandomizedSearchCV(cv=5,\n",
       "                   estimator=XGBRegressor(base_score=None, booster=None,\n",
       "                                          colsample_bylevel=None,\n",
       "                                          colsample_bynode=None,\n",
       "                                          colsample_bytree=None,\n",
       "                                          enable_categorical=False, gamma=None,\n",
       "                                          gpu_id=None, importance_type=None,\n",
       "                                          interaction_constraints=None,\n",
       "                                          learning_rate=None,\n",
       "                                          max_delta_step=None, max_depth=None,\n",
       "                                          min_child_weight=None, missing=nan,\n",
       "                                          monotone_constraints=...\n",
       "                                          predictor=None, random_state=0,\n",
       "                                          reg_alpha=None, reg_lambda=None,\n",
       "                                          scale_pos_weight=None, subsample=None,\n",
       "                                          tree_method=None,\n",
       "                                          validate_parameters=None,\n",
       "                                          verbosity=None),\n",
       "                   n_iter=8,\n",
       "                   param_distributions={'learning_rate': [0.05, 0.1, 0.15, 0.2],\n",
       "                                        'max_depth': [2, 3, 5, 10, 15],\n",
       "                                        'min_child_weight': [1, 2, 3, 4],\n",
       "                                        'n_estimators': [100, 500, 900, 1100,\n",
       "                                                         1500]},\n",
       "                   random_state=5, scoring='neg_root_mean_squared_error')"
      ]
     },
     "execution_count": 34,
     "metadata": {},
     "output_type": "execute_result"
    }
   ],
   "source": [
    "#Grilla de Parámetros\n",
    "params_grid={\n",
    "    'n_estimators': [100, 500, 900, 1100, 1500],\n",
    "    'max_depth': [2, 3, 5, 10, 15],\n",
    "    'learning_rate': [0.05, 0.1, 0.15, 0.20],\n",
    "    'min_child_weight': [1, 2, 3, 4]\n",
    "    }\n",
    "\n",
    "#Clasificador XGBRegressor\n",
    "xgbr = xgb.XGBRegressor(random_state = 0)\n",
    "\n",
    "#Random Search con 5 Folds y 8 iteraciones\n",
    "rand_xgboost_model2 = RandomizedSearchCV(xgbr, params_grid, scoring='neg_root_mean_squared_error', cv=5, n_iter=8, random_state=5)\n",
    "\n",
    "rand_xgboost_model2.fit(x_train, y_train)"
   ]
  },
  {
   "cell_type": "code",
   "execution_count": 35,
   "id": "5dad19c4-8944-45f3-8d0d-5e5f4d664247",
   "metadata": {},
   "outputs": [
    {
     "name": "stdout",
     "output_type": "stream",
     "text": [
      "Observamos que los parametros que performaron mejor son: XGBRegressor(base_score=0.5, booster='gbtree', colsample_bylevel=1,\n",
      "             colsample_bynode=1, colsample_bytree=1, enable_categorical=False,\n",
      "             gamma=0, gpu_id=-1, importance_type=None,\n",
      "             interaction_constraints='', learning_rate=0.1, max_delta_step=0,\n",
      "             max_depth=15, min_child_weight=4, missing=nan,\n",
      "             monotone_constraints='()', n_estimators=100, n_jobs=8,\n",
      "             num_parallel_tree=1, predictor='auto', random_state=0, reg_alpha=0,\n",
      "             reg_lambda=1, scale_pos_weight=1, subsample=1, tree_method='exact',\n",
      "             validate_parameters=1, verbosity=None)\n"
     ]
    }
   ],
   "source": [
    "print(f\"Observamos que los parametros que performaron mejor son: {rand_xgboost_model2.best_estimator_}\")"
   ]
  },
  {
   "cell_type": "code",
   "execution_count": 36,
   "id": "c2e5b67f-620e-4c97-bc58-5bef5bad537d",
   "metadata": {},
   "outputs": [
    {
     "name": "stdout",
     "output_type": "stream",
     "text": [
      "Y el error mas bajo fue: -614.869862017698\n"
     ]
    }
   ],
   "source": [
    "print(f\"Y el error mas bajo fue: {rand_xgboost_model2.best_score_}\")"
   ]
  },
  {
   "cell_type": "markdown",
   "id": "913be320-0f81-4a32-b21f-192e08738382",
   "metadata": {},
   "source": [
    "Ahora veamos como nos anda en test"
   ]
  },
  {
   "cell_type": "code",
   "execution_count": 37,
   "id": "3f8ffe5c-26f5-4829-b40c-2939bd678441",
   "metadata": {},
   "outputs": [
    {
     "data": {
      "text/plain": [
       "847.7825981629121"
      ]
     },
     "execution_count": 37,
     "metadata": {},
     "output_type": "execute_result"
    }
   ],
   "source": [
    "#Mejor estimador\n",
    "best_xgbr=rand_xgboost_model2.best_estimator_\n",
    "\n",
    "#Predicción con mejor estimador\n",
    "y_pred=best_xgbr.predict(x_test)\n",
    "\n",
    "#RootMean Squared Error\n",
    "mean_squared_error(y_test, y_pred, squared=False)"
   ]
  },
  {
   "cell_type": "markdown",
   "id": "ffb57eb5-e566-4272-8ff0-e550eee2b675",
   "metadata": {},
   "source": [
    "Lo guardamos"
   ]
  },
  {
   "cell_type": "code",
   "execution_count": 38,
   "id": "990ea8aa-7ec0-456a-a877-78b03ea9baf6",
   "metadata": {},
   "outputs": [
    {
     "data": {
      "text/plain": [
       "['./Modelos/XGBOOST-model2.joblib']"
      ]
     },
     "execution_count": 38,
     "metadata": {},
     "output_type": "execute_result"
    }
   ],
   "source": [
    "dump(rand_xgboost_model2.best_estimator_, './Modelos_TP2/XGBOOST-model2.joblib') "
   ]
  },
  {
   "cell_type": "markdown",
   "id": "26e6a8ba-d4ca-4c17-82e0-6337a46f11c9",
   "metadata": {},
   "source": [
    "# Conclusiones"
   ]
  },
  {
   "cell_type": "markdown",
   "id": "ed0c6cc7-d9b6-4508-b0e4-e3a496c05e89",
   "metadata": {},
   "source": [
    "## Resumen de RMSE en test - TP1:\n",
    "   + KNN - Model 1: 1217.401032628558\n",
    "   + KNN - Model 2: 718.1341916561961\n",
    "   + XGBoost - Model 1: 906.6026978535414\n",
    "   + XGBoost - Model 2: 641.5620151352072\n",
    "   + Arbol de Regresion - Model 1: 1077.7757830732962\n",
    "   + Arbol de Regresion - Model 2: 655.5528626402848"
   ]
  },
  {
   "cell_type": "markdown",
   "id": "a9c83579-c728-4b56-9093-6724cfb093ae",
   "metadata": {},
   "source": [
    "## Resumen de RMSE en test - TP2:\n",
    "   + XGBoost - Model 1: 820.2106236039823\n",
    "   + XGBoost - Model 2: 847.7825981629121\n",
    "   + Arbol de Regresion - Extra: 708.1974794125333"
   ]
  },
  {
   "cell_type": "markdown",
   "id": "a6e6b98b-a4ed-49e6-a706-b87537c4d045",
   "metadata": {},
   "source": [
    "Si comparamos los modelos del tp2 con los modelos del TP1 que fueron construidos con los dataSets no reducidos, podemos decir que si son mejores y si hay una diferencia notoria.\n",
    "Pero los modelos construidos con el dataSet reducido con PCA siguen siendo mejores por darnos un margen de error menor. <br>\n",
    "Observacion: No se pedia, pero se observa que el arbol construido para ver la importancia de los feature dio una metrica muy buena, siendo mejor que los 2 XGBoost."
   ]
  }
 ],
 "metadata": {
  "kernelspec": {
   "display_name": "Python 3 (ipykernel)",
   "language": "python",
   "name": "python3"
  },
  "language_info": {
   "codemirror_mode": {
    "name": "ipython",
    "version": 3
   },
   "file_extension": ".py",
   "mimetype": "text/x-python",
   "name": "python",
   "nbconvert_exporter": "python",
   "pygments_lexer": "ipython3",
   "version": "3.9.13"
  }
 },
 "nbformat": 4,
 "nbformat_minor": 5
}
