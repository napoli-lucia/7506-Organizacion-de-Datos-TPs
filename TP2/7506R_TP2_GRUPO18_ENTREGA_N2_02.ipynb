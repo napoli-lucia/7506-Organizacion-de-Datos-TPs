{
 "cells": [
  {
   "cell_type": "markdown",
   "id": "aa302853-9918-4c2c-a45a-f57f1b6c3a95",
   "metadata": {},
   "source": [
    "# <center>Organizaci&oacute;n de Datos</center>\n",
    "#### <center>C&aacute;tedra Ing. Rodriguez, Juan Manuel </center>\n",
    "\n",
    "## <center>Trabajo Práctico 2:</center>\n",
    "### <center> Propiedades en Venta </center>\n",
    "### <center>  Grupo 18</center>\n",
    "\n",
    "\n",
    "#### **Integrantes:**\n",
    "\n",
    "* Analía Acevedo\n",
    "* Santiago Daniel Marczewski Neudeck\n",
    "* Lucia Belén Napoli\n",
    "* Brayan Ricaldi"
   ]
  },
  {
   "cell_type": "code",
   "execution_count": 1,
   "id": "4621e92d-429a-41cd-8c6d-279e8baccf5b",
   "metadata": {},
   "outputs": [
    {
     "name": "stderr",
     "output_type": "stream",
     "text": [
      "/home/lucia/.local/lib/python3.8/site-packages/pandas/core/computation/expressions.py:20: UserWarning: Pandas requires version '2.7.3' or newer of 'numexpr' (version '2.7.1' currently installed).\n",
      "  from pandas.core.computation.check import NUMEXPR_INSTALLED\n",
      "2022-12-08 22:42:30.252102: I tensorflow/core/platform/cpu_feature_guard.cc:193] This TensorFlow binary is optimized with oneAPI Deep Neural Network Library (oneDNN) to use the following CPU instructions in performance-critical operations:  AVX2 FMA\n",
      "To enable them in other operations, rebuild TensorFlow with the appropriate compiler flags.\n",
      "2022-12-08 22:42:30.403091: W tensorflow/compiler/xla/stream_executor/platform/default/dso_loader.cc:64] Could not load dynamic library 'libcudart.so.11.0'; dlerror: libcudart.so.11.0: cannot open shared object file: No such file or directory\n",
      "2022-12-08 22:42:30.403114: I tensorflow/compiler/xla/stream_executor/cuda/cudart_stub.cc:29] Ignore above cudart dlerror if you do not have a GPU set up on your machine.\n",
      "2022-12-08 22:42:31.228066: W tensorflow/compiler/xla/stream_executor/platform/default/dso_loader.cc:64] Could not load dynamic library 'libnvinfer.so.7'; dlerror: libnvinfer.so.7: cannot open shared object file: No such file or directory\n",
      "2022-12-08 22:42:31.228208: W tensorflow/compiler/xla/stream_executor/platform/default/dso_loader.cc:64] Could not load dynamic library 'libnvinfer_plugin.so.7'; dlerror: libnvinfer_plugin.so.7: cannot open shared object file: No such file or directory\n",
      "2022-12-08 22:42:31.228218: W tensorflow/compiler/tf2tensorrt/utils/py_utils.cc:38] TF-TRT Warning: Cannot dlopen some TensorRT libraries. If you would like to use Nvidia GPU with TensorRT, please make sure the missing libraries mentioned above are installed properly.\n"
     ]
    }
   ],
   "source": [
    "import pandas as pd\n",
    "import matplotlib.pyplot as plt\n",
    "import seaborn as sns\n",
    "import numpy as np\n",
    "import sklearn.preprocessing as skp\n",
    "\n",
    "from sklearn.impute import KNNImputer, SimpleImputer\n",
    "from sklearn.preprocessing import (\n",
    "    KBinsDiscretizer,\n",
    "    LabelEncoder,\n",
    "    MinMaxScaler,\n",
    "    Normalizer,\n",
    "    OneHotEncoder,\n",
    "    OrdinalEncoder,\n",
    "    PowerTransformer,\n",
    "    RobustScaler,\n",
    "    StandardScaler,\n",
    ")\n",
    "\n",
    "import warnings\n",
    "\n",
    "warnings.simplefilter(action=\"ignore\", category=FutureWarning)\n",
    "from preprocessing import preprocesamiento\n",
    "\n",
    "from sklearn.model_selection import RandomizedSearchCV\n",
    "from joblib import dump, load\n",
    "\n",
    "pd.options.display.max_columns = None\n",
    "\n",
    "from sklearn.ensemble import RandomForestClassifier \n",
    "from sklearn.linear_model import LogisticRegression \n",
    "from sklearn.neighbors import KNeighborsClassifier\n",
    "from sklearn.tree import DecisionTreeClassifier\n",
    "from sklearn.svm import SVC\n",
    "from sklearn.neural_network import MLPClassifier\n",
    "from sklearn.linear_model import LogisticRegressionCV\n",
    "from sklearn.ensemble import VotingClassifier\n",
    "from sklearn.model_selection import train_test_split\n",
    "from sklearn.metrics import accuracy_score, f1_score\n",
    "from sklearn.datasets import make_classification\n",
    "from collections import defaultdict\n",
    "from sklearn.model_selection import GridSearchCV\n",
    "\n",
    "import plotly.graph_objects as go\n",
    "%matplotlib inline\n",
    "\n",
    "\n",
    "from sklearn.model_selection import cross_val_score, RepeatedStratifiedKFold\n",
    "\n",
    "from sklearn.metrics import mean_absolute_error, mean_squared_error\n",
    "from sklearn.preprocessing import StandardScaler\n",
    "\n",
    "import tensorflow as tf\n",
    "from tensorflow import keras\n",
    "import keras_tuner as kt\n",
    "import visualkeras\n",
    "from keras.wrappers.scikit_learn import KerasClassifier\n",
    "\n",
    "np.random.seed(1)\n",
    "tf.random.set_seed(1)\n",
    "\n",
    "import warnings\n",
    "warnings.filterwarnings(\"ignore\", category=DeprecationWarning) "
   ]
  },
  {
   "cell_type": "markdown",
   "id": "8201a314-d045-466f-975e-1b5c0b1bbdf7",
   "metadata": {},
   "source": [
    "Descargo los datos"
   ]
  },
  {
   "cell_type": "code",
   "execution_count": 2,
   "id": "d5c9c4f4-dfc4-4170-a50d-fca9a2c5a295",
   "metadata": {},
   "outputs": [],
   "source": [
    "_x_train_model = pd.read_csv('./DataSet/x_train')\n",
    "_x_train_model.drop(columns=['Unnamed: 0'],inplace=True)\n",
    "_y_train_model = pd.read_csv('./DataSet/y_train')\n",
    "_y_train_model.drop(columns=['Unnamed: 0'],inplace=True)\n",
    "_x_test_model = pd.read_csv('./DataSet/x_test')\n",
    "_x_test_model.drop(columns=['Unnamed: 0'],inplace=True)\n",
    "_y_test_model = pd.read_csv('./DataSet/y_test')\n",
    "_y_test_model.drop(columns=['Unnamed: 0'],inplace=True)\n",
    "_y_train_model.rename(columns={'0':'pxm2'}, inplace=True)\n",
    "_y_test_model.rename(columns={'0':'pxm2'}, inplace=True)"
   ]
  },
  {
   "cell_type": "markdown",
   "id": "a461cbc9-30b2-4c93-8ee6-393c575c0ad9",
   "metadata": {},
   "source": [
    "# Redes neuronales"
   ]
  },
  {
   "cell_type": "markdown",
   "id": "96e435cc-353a-430e-a974-080d82677591",
   "metadata": {},
   "source": [
    "Construir dos modelos de redes neuronales, uno para regresión y otro para clasificación,\n",
    "considerando los datasets creados en el TP1. Mejorar estos modelos de redes\n",
    "neuronales a través de la búsqueda de arquitectura e hiperparámetros adecuados. Se\n",
    "pide:\n",
    "\n",
    "● Regresión: predecir el precio de la propiedad y utilizar como métrica de\n",
    "evaluación el error cuadrático medio.\n",
    "\n",
    "● Clasificación: predecir el atributo tipo_precio creado en el TP 1 y utilizar como\n",
    "métricas precisión, recall y F1-Score.\n"
   ]
  },
  {
   "cell_type": "markdown",
   "id": "1137cdcf-4193-4617-b8a6-e0ec64465393",
   "metadata": {
    "id": "NTFyS4teZKip",
    "tags": []
   },
   "source": [
    "# Modelo de Redes Neuronales para regresión"
   ]
  },
  {
   "cell_type": "markdown",
   "id": "2b7619e8-9907-495e-8814-4e840dc4b93f",
   "metadata": {},
   "source": [
    "Los hiperparametros a buscar son los siguientes:\n",
    "\n",
    "- **Función de activación:** Usamos relu\n",
    "- **Cantidad de capas:** Es la cantidad de capas que tendrá la red neuronal. Tendremos una capa input y una capa de salida.\n",
    "- **Cantidad de neuronas por capa:** Tendremos una neurona en la capa de salida porque queremos predecir un valor numerico. En la capa de entrada tendremos 6 neuronas.\n",
    "- **Optimizador:** Un optimizador es una implementación concreta del algoritmo de descenso por gradiente dentro de backpropagation.\n",
    "    - SGD (Stochastic Gradient Descent): Backpropagation simple, sin ningún tipo de optimización. \n",
    "    - Adam (Adaptive moment estimation): Hace un seguimiento de una media de decaimiento exponencial de gradientes pasados y de gradientes cuadrados pasados.\n",
    "- **Función de perdida:** Es la función utilizada por el optimizador para minimizar. En regresion utilizaremos Mean Absolute Error (MAE)\n",
    "- **Learning rate o tasa de aprendizaje:** Indica qué tan rápido se va descediendo en la función de costo, qué tan rápido va acercandose al minimo local o global.\n",
    "- **Metricas:** Se van calculando en cada iteracion o batch. Utilizaremos Mean Squared Error (MSE) y Mean Absolute Error (MAE).\n",
    "- **Cantidad de epochs:** Es la cantidad de iteraciones que tendrá el entrenamiento."
   ]
  },
  {
   "cell_type": "markdown",
   "id": "88fb85d3-ea52-4510-bf7b-678182269f29",
   "metadata": {},
   "source": [
    "Ejecutamos una copia de los modelos"
   ]
  },
  {
   "cell_type": "code",
   "execution_count": 3,
   "id": "2b05f0ca-d239-4a9e-8378-3be56344ae3e",
   "metadata": {},
   "outputs": [],
   "source": [
    "x_train = _x_train_model.copy()\n",
    "y_train = _y_train_model.copy()\n",
    "x_test = _x_test_model.copy()\n",
    "y_test = _y_test_model.copy()"
   ]
  },
  {
   "cell_type": "code",
   "execution_count": 4,
   "id": "34052511-d86b-466d-8b26-a204b5756e7f",
   "metadata": {},
   "outputs": [
    {
     "data": {
      "text/html": [
       "<div>\n",
       "<style scoped>\n",
       "    .dataframe tbody tr th:only-of-type {\n",
       "        vertical-align: middle;\n",
       "    }\n",
       "\n",
       "    .dataframe tbody tr th {\n",
       "        vertical-align: top;\n",
       "    }\n",
       "\n",
       "    .dataframe thead th {\n",
       "        text-align: right;\n",
       "    }\n",
       "</style>\n",
       "<table border=\"1\" class=\"dataframe\">\n",
       "  <thead>\n",
       "    <tr style=\"text-align: right;\">\n",
       "      <th></th>\n",
       "      <th>latitud</th>\n",
       "      <th>longitud</th>\n",
       "      <th>ambientes</th>\n",
       "      <th>dormitorios</th>\n",
       "      <th>superficie_cubierta</th>\n",
       "      <th>comuna</th>\n",
       "      <th>Departamento</th>\n",
       "      <th>PH</th>\n",
       "    </tr>\n",
       "  </thead>\n",
       "  <tbody>\n",
       "    <tr>\n",
       "      <th>0</th>\n",
       "      <td>-34.583010</td>\n",
       "      <td>-58.481533</td>\n",
       "      <td>4.0</td>\n",
       "      <td>3.0</td>\n",
       "      <td>70.0</td>\n",
       "      <td>15</td>\n",
       "      <td>1.0</td>\n",
       "      <td>0.0</td>\n",
       "    </tr>\n",
       "    <tr>\n",
       "      <th>1</th>\n",
       "      <td>-34.660079</td>\n",
       "      <td>-58.485894</td>\n",
       "      <td>6.0</td>\n",
       "      <td>4.0</td>\n",
       "      <td>275.0</td>\n",
       "      <td>9</td>\n",
       "      <td>0.0</td>\n",
       "      <td>0.0</td>\n",
       "    </tr>\n",
       "    <tr>\n",
       "      <th>2</th>\n",
       "      <td>-34.581856</td>\n",
       "      <td>-58.425088</td>\n",
       "      <td>3.0</td>\n",
       "      <td>2.0</td>\n",
       "      <td>97.0</td>\n",
       "      <td>14</td>\n",
       "      <td>1.0</td>\n",
       "      <td>0.0</td>\n",
       "    </tr>\n",
       "    <tr>\n",
       "      <th>3</th>\n",
       "      <td>-34.607547</td>\n",
       "      <td>-58.442194</td>\n",
       "      <td>2.0</td>\n",
       "      <td>1.0</td>\n",
       "      <td>42.0</td>\n",
       "      <td>6</td>\n",
       "      <td>1.0</td>\n",
       "      <td>0.0</td>\n",
       "    </tr>\n",
       "    <tr>\n",
       "      <th>4</th>\n",
       "      <td>-34.607416</td>\n",
       "      <td>-58.509680</td>\n",
       "      <td>2.0</td>\n",
       "      <td>1.0</td>\n",
       "      <td>38.0</td>\n",
       "      <td>11</td>\n",
       "      <td>1.0</td>\n",
       "      <td>0.0</td>\n",
       "    </tr>\n",
       "  </tbody>\n",
       "</table>\n",
       "</div>"
      ],
      "text/plain": [
       "     latitud   longitud  ambientes  dormitorios  superficie_cubierta  comuna  \\\n",
       "0 -34.583010 -58.481533        4.0          3.0                 70.0      15   \n",
       "1 -34.660079 -58.485894        6.0          4.0                275.0       9   \n",
       "2 -34.581856 -58.425088        3.0          2.0                 97.0      14   \n",
       "3 -34.607547 -58.442194        2.0          1.0                 42.0       6   \n",
       "4 -34.607416 -58.509680        2.0          1.0                 38.0      11   \n",
       "\n",
       "   Departamento   PH  \n",
       "0           1.0  0.0  \n",
       "1           0.0  0.0  \n",
       "2           1.0  0.0  \n",
       "3           1.0  0.0  \n",
       "4           1.0  0.0  "
      ]
     },
     "execution_count": 4,
     "metadata": {},
     "output_type": "execute_result"
    }
   ],
   "source": [
    "x_train.head()"
   ]
  },
  {
   "cell_type": "code",
   "execution_count": 5,
   "id": "841d2c92-ae35-4dc8-b883-6ae1e0fa9567",
   "metadata": {},
   "outputs": [
    {
     "data": {
      "text/html": [
       "<div>\n",
       "<style scoped>\n",
       "    .dataframe tbody tr th:only-of-type {\n",
       "        vertical-align: middle;\n",
       "    }\n",
       "\n",
       "    .dataframe tbody tr th {\n",
       "        vertical-align: top;\n",
       "    }\n",
       "\n",
       "    .dataframe thead th {\n",
       "        text-align: right;\n",
       "    }\n",
       "</style>\n",
       "<table border=\"1\" class=\"dataframe\">\n",
       "  <thead>\n",
       "    <tr style=\"text-align: right;\">\n",
       "      <th></th>\n",
       "      <th>pxm2</th>\n",
       "    </tr>\n",
       "  </thead>\n",
       "  <tbody>\n",
       "    <tr>\n",
       "      <th>0</th>\n",
       "      <td>2911.392405</td>\n",
       "    </tr>\n",
       "    <tr>\n",
       "      <th>1</th>\n",
       "      <td>671.428571</td>\n",
       "    </tr>\n",
       "    <tr>\n",
       "      <th>2</th>\n",
       "      <td>2546.391753</td>\n",
       "    </tr>\n",
       "    <tr>\n",
       "      <th>3</th>\n",
       "      <td>1733.333333</td>\n",
       "    </tr>\n",
       "    <tr>\n",
       "      <th>4</th>\n",
       "      <td>2804.878049</td>\n",
       "    </tr>\n",
       "  </tbody>\n",
       "</table>\n",
       "</div>"
      ],
      "text/plain": [
       "          pxm2\n",
       "0  2911.392405\n",
       "1   671.428571\n",
       "2  2546.391753\n",
       "3  1733.333333\n",
       "4  2804.878049"
      ]
     },
     "execution_count": 5,
     "metadata": {},
     "output_type": "execute_result"
    }
   ],
   "source": [
    "y_train.head()"
   ]
  },
  {
   "cell_type": "code",
   "execution_count": 6,
   "id": "92c3cb03-6942-4665-b149-1c3715be28a1",
   "metadata": {},
   "outputs": [
    {
     "data": {
      "text/plain": [
       "(58133, 8)"
      ]
     },
     "execution_count": 6,
     "metadata": {},
     "output_type": "execute_result"
    }
   ],
   "source": [
    "x_train.shape"
   ]
  },
  {
   "cell_type": "markdown",
   "id": "23d2b2c0-bc57-4530-a6a2-c0b902c952ac",
   "metadata": {},
   "source": [
    "Normalizo datos"
   ]
  },
  {
   "cell_type": "code",
   "execution_count": 7,
   "id": "845950be-cec5-4eff-98b2-a9cc39b5df28",
   "metadata": {},
   "outputs": [
    {
     "data": {
      "text/html": [
       "<div>\n",
       "<style scoped>\n",
       "    .dataframe tbody tr th:only-of-type {\n",
       "        vertical-align: middle;\n",
       "    }\n",
       "\n",
       "    .dataframe tbody tr th {\n",
       "        vertical-align: top;\n",
       "    }\n",
       "\n",
       "    .dataframe thead th {\n",
       "        text-align: right;\n",
       "    }\n",
       "</style>\n",
       "<table border=\"1\" class=\"dataframe\">\n",
       "  <thead>\n",
       "    <tr style=\"text-align: right;\">\n",
       "      <th></th>\n",
       "      <th>latitud</th>\n",
       "      <th>longitud</th>\n",
       "      <th>ambientes</th>\n",
       "      <th>dormitorios</th>\n",
       "      <th>superficie_cubierta</th>\n",
       "      <th>comuna</th>\n",
       "    </tr>\n",
       "  </thead>\n",
       "  <tbody>\n",
       "    <tr>\n",
       "      <th>0</th>\n",
       "      <td>0.501718</td>\n",
       "      <td>-1.122143</td>\n",
       "      <td>0.895188</td>\n",
       "      <td>1.112654</td>\n",
       "      <td>-0.086764</td>\n",
       "      <td>1.271560</td>\n",
       "    </tr>\n",
       "    <tr>\n",
       "      <th>1</th>\n",
       "      <td>-2.412422</td>\n",
       "      <td>-1.237399</td>\n",
       "      <td>2.384149</td>\n",
       "      <td>2.110384</td>\n",
       "      <td>3.243882</td>\n",
       "      <td>0.044010</td>\n",
       "    </tr>\n",
       "    <tr>\n",
       "      <th>2</th>\n",
       "      <td>0.545327</td>\n",
       "      <td>0.369634</td>\n",
       "      <td>0.150707</td>\n",
       "      <td>0.114923</td>\n",
       "      <td>0.351906</td>\n",
       "      <td>1.066968</td>\n",
       "    </tr>\n",
       "    <tr>\n",
       "      <th>3</th>\n",
       "      <td>-0.426107</td>\n",
       "      <td>-0.082471</td>\n",
       "      <td>-0.593774</td>\n",
       "      <td>-0.882808</td>\n",
       "      <td>-0.541681</td>\n",
       "      <td>-0.569765</td>\n",
       "    </tr>\n",
       "    <tr>\n",
       "      <th>4</th>\n",
       "      <td>-0.421158</td>\n",
       "      <td>-1.866017</td>\n",
       "      <td>-0.593774</td>\n",
       "      <td>-0.882808</td>\n",
       "      <td>-0.606670</td>\n",
       "      <td>0.453193</td>\n",
       "    </tr>\n",
       "  </tbody>\n",
       "</table>\n",
       "</div>"
      ],
      "text/plain": [
       "    latitud  longitud  ambientes  dormitorios  superficie_cubierta    comuna\n",
       "0  0.501718 -1.122143   0.895188     1.112654            -0.086764  1.271560\n",
       "1 -2.412422 -1.237399   2.384149     2.110384             3.243882  0.044010\n",
       "2  0.545327  0.369634   0.150707     0.114923             0.351906  1.066968\n",
       "3 -0.426107 -0.082471  -0.593774    -0.882808            -0.541681 -0.569765\n",
       "4 -0.421158 -1.866017  -0.593774    -0.882808            -0.606670  0.453193"
      ]
     },
     "execution_count": 7,
     "metadata": {},
     "output_type": "execute_result"
    }
   ],
   "source": [
    "x_train_red = x_train.iloc[:, 0:6]\n",
    "x_train_norm = (x_train_red - x_train_red.mean())/x_train_red.std()\n",
    "x_train_norm.head()"
   ]
  },
  {
   "cell_type": "code",
   "execution_count": 8,
   "id": "5f3498d1-6909-46aa-9863-f8ffacaad2b2",
   "metadata": {},
   "outputs": [
    {
     "data": {
      "text/html": [
       "<div>\n",
       "<style scoped>\n",
       "    .dataframe tbody tr th:only-of-type {\n",
       "        vertical-align: middle;\n",
       "    }\n",
       "\n",
       "    .dataframe tbody tr th {\n",
       "        vertical-align: top;\n",
       "    }\n",
       "\n",
       "    .dataframe thead th {\n",
       "        text-align: right;\n",
       "    }\n",
       "</style>\n",
       "<table border=\"1\" class=\"dataframe\">\n",
       "  <thead>\n",
       "    <tr style=\"text-align: right;\">\n",
       "      <th></th>\n",
       "      <th>latitud</th>\n",
       "      <th>longitud</th>\n",
       "      <th>ambientes</th>\n",
       "      <th>dormitorios</th>\n",
       "      <th>superficie_cubierta</th>\n",
       "      <th>Departamento</th>\n",
       "    </tr>\n",
       "  </thead>\n",
       "  <tbody>\n",
       "    <tr>\n",
       "      <th>0</th>\n",
       "      <td>0.736100</td>\n",
       "      <td>0.852283</td>\n",
       "      <td>0.871830</td>\n",
       "      <td>1.091760</td>\n",
       "      <td>1.474945</td>\n",
       "      <td>0.415401</td>\n",
       "    </tr>\n",
       "    <tr>\n",
       "      <th>1</th>\n",
       "      <td>1.964042</td>\n",
       "      <td>-0.548882</td>\n",
       "      <td>0.871830</td>\n",
       "      <td>1.091760</td>\n",
       "      <td>0.342862</td>\n",
       "      <td>0.415401</td>\n",
       "    </tr>\n",
       "    <tr>\n",
       "      <th>2</th>\n",
       "      <td>0.174311</td>\n",
       "      <td>1.184193</td>\n",
       "      <td>0.871830</td>\n",
       "      <td>1.091760</td>\n",
       "      <td>0.703816</td>\n",
       "      <td>0.415401</td>\n",
       "    </tr>\n",
       "    <tr>\n",
       "      <th>3</th>\n",
       "      <td>-1.233172</td>\n",
       "      <td>0.169444</td>\n",
       "      <td>-1.309095</td>\n",
       "      <td>-0.854592</td>\n",
       "      <td>-0.690780</td>\n",
       "      <td>0.415401</td>\n",
       "    </tr>\n",
       "    <tr>\n",
       "      <th>4</th>\n",
       "      <td>0.170750</td>\n",
       "      <td>1.617522</td>\n",
       "      <td>0.144855</td>\n",
       "      <td>0.118584</td>\n",
       "      <td>1.327282</td>\n",
       "      <td>0.415401</td>\n",
       "    </tr>\n",
       "  </tbody>\n",
       "</table>\n",
       "</div>"
      ],
      "text/plain": [
       "    latitud  longitud  ambientes  dormitorios  superficie_cubierta  \\\n",
       "0  0.736100  0.852283   0.871830     1.091760             1.474945   \n",
       "1  1.964042 -0.548882   0.871830     1.091760             0.342862   \n",
       "2  0.174311  1.184193   0.871830     1.091760             0.703816   \n",
       "3 -1.233172  0.169444  -1.309095    -0.854592            -0.690780   \n",
       "4  0.170750  1.617522   0.144855     0.118584             1.327282   \n",
       "\n",
       "   Departamento  \n",
       "0      0.415401  \n",
       "1      0.415401  \n",
       "2      0.415401  \n",
       "3      0.415401  \n",
       "4      0.415401  "
      ]
     },
     "execution_count": 8,
     "metadata": {},
     "output_type": "execute_result"
    }
   ],
   "source": [
    "x_test_red = x_test.iloc[:, 0:6]\n",
    "x_test_norm = (x_test_red - x_test_red.mean())/x_test_red.std()\n",
    "x_test_norm.head()"
   ]
  },
  {
   "cell_type": "markdown",
   "id": "fc77d4e5-a02d-4fec-9dfa-1fd3088a103e",
   "metadata": {},
   "source": [
    "+ Transformo los set de datos"
   ]
  },
  {
   "cell_type": "code",
   "execution_count": 9,
   "id": "33a4ae9b-546a-4e55-9848-620c6905d9a9",
   "metadata": {},
   "outputs": [
    {
     "data": {
      "text/html": [
       "<style>#sk-container-id-1 {color: black;background-color: white;}#sk-container-id-1 pre{padding: 0;}#sk-container-id-1 div.sk-toggleable {background-color: white;}#sk-container-id-1 label.sk-toggleable__label {cursor: pointer;display: block;width: 100%;margin-bottom: 0;padding: 0.3em;box-sizing: border-box;text-align: center;}#sk-container-id-1 label.sk-toggleable__label-arrow:before {content: \"▸\";float: left;margin-right: 0.25em;color: #696969;}#sk-container-id-1 label.sk-toggleable__label-arrow:hover:before {color: black;}#sk-container-id-1 div.sk-estimator:hover label.sk-toggleable__label-arrow:before {color: black;}#sk-container-id-1 div.sk-toggleable__content {max-height: 0;max-width: 0;overflow: hidden;text-align: left;background-color: #f0f8ff;}#sk-container-id-1 div.sk-toggleable__content pre {margin: 0.2em;color: black;border-radius: 0.25em;background-color: #f0f8ff;}#sk-container-id-1 input.sk-toggleable__control:checked~div.sk-toggleable__content {max-height: 200px;max-width: 100%;overflow: auto;}#sk-container-id-1 input.sk-toggleable__control:checked~label.sk-toggleable__label-arrow:before {content: \"▾\";}#sk-container-id-1 div.sk-estimator input.sk-toggleable__control:checked~label.sk-toggleable__label {background-color: #d4ebff;}#sk-container-id-1 div.sk-label input.sk-toggleable__control:checked~label.sk-toggleable__label {background-color: #d4ebff;}#sk-container-id-1 input.sk-hidden--visually {border: 0;clip: rect(1px 1px 1px 1px);clip: rect(1px, 1px, 1px, 1px);height: 1px;margin: -1px;overflow: hidden;padding: 0;position: absolute;width: 1px;}#sk-container-id-1 div.sk-estimator {font-family: monospace;background-color: #f0f8ff;border: 1px dotted black;border-radius: 0.25em;box-sizing: border-box;margin-bottom: 0.5em;}#sk-container-id-1 div.sk-estimator:hover {background-color: #d4ebff;}#sk-container-id-1 div.sk-parallel-item::after {content: \"\";width: 100%;border-bottom: 1px solid gray;flex-grow: 1;}#sk-container-id-1 div.sk-label:hover label.sk-toggleable__label {background-color: #d4ebff;}#sk-container-id-1 div.sk-serial::before {content: \"\";position: absolute;border-left: 1px solid gray;box-sizing: border-box;top: 0;bottom: 0;left: 50%;z-index: 0;}#sk-container-id-1 div.sk-serial {display: flex;flex-direction: column;align-items: center;background-color: white;padding-right: 0.2em;padding-left: 0.2em;position: relative;}#sk-container-id-1 div.sk-item {position: relative;z-index: 1;}#sk-container-id-1 div.sk-parallel {display: flex;align-items: stretch;justify-content: center;background-color: white;position: relative;}#sk-container-id-1 div.sk-item::before, #sk-container-id-1 div.sk-parallel-item::before {content: \"\";position: absolute;border-left: 1px solid gray;box-sizing: border-box;top: 0;bottom: 0;left: 50%;z-index: -1;}#sk-container-id-1 div.sk-parallel-item {display: flex;flex-direction: column;z-index: 1;position: relative;background-color: white;}#sk-container-id-1 div.sk-parallel-item:first-child::after {align-self: flex-end;width: 50%;}#sk-container-id-1 div.sk-parallel-item:last-child::after {align-self: flex-start;width: 50%;}#sk-container-id-1 div.sk-parallel-item:only-child::after {width: 0;}#sk-container-id-1 div.sk-dashed-wrapped {border: 1px dashed gray;margin: 0 0.4em 0.5em 0.4em;box-sizing: border-box;padding-bottom: 0.4em;background-color: white;}#sk-container-id-1 div.sk-label label {font-family: monospace;font-weight: bold;display: inline-block;line-height: 1.2em;}#sk-container-id-1 div.sk-label-container {text-align: center;}#sk-container-id-1 div.sk-container {/* jupyter's `normalize.less` sets `[hidden] { display: none; }` but bootstrap.min.css set `[hidden] { display: none !important; }` so we also need the `!important` here to be able to override the default hidden behavior on the sphinx rendered scikit-learn.org. See: https://github.com/scikit-learn/scikit-learn/issues/21755 */display: inline-block !important;position: relative;}#sk-container-id-1 div.sk-text-repr-fallback {display: none;}</style><div id=\"sk-container-id-1\" class=\"sk-top-container\"><div class=\"sk-text-repr-fallback\"><pre>StandardScaler()</pre><b>In a Jupyter environment, please rerun this cell to show the HTML representation or trust the notebook. <br />On GitHub, the HTML representation is unable to render, please try loading this page with nbviewer.org.</b></div><div class=\"sk-container\" hidden><div class=\"sk-item\"><div class=\"sk-estimator sk-toggleable\"><input class=\"sk-toggleable__control sk-hidden--visually\" id=\"sk-estimator-id-1\" type=\"checkbox\" checked><label for=\"sk-estimator-id-1\" class=\"sk-toggleable__label sk-toggleable__label-arrow\">StandardScaler</label><div class=\"sk-toggleable__content\"><pre>StandardScaler()</pre></div></div></div></div></div>"
      ],
      "text/plain": [
       "StandardScaler()"
      ]
     },
     "execution_count": 9,
     "metadata": {},
     "output_type": "execute_result"
    }
   ],
   "source": [
    "sscaler = StandardScaler()\n",
    "sscaler.fit(pd.DataFrame(x_train_norm))"
   ]
  },
  {
   "cell_type": "code",
   "execution_count": 10,
   "id": "000b5867-8e32-4063-9b65-d30bbc05c29b",
   "metadata": {},
   "outputs": [],
   "source": [
    "x_train_transform = sscaler.transform(pd.DataFrame(x_train_norm))\n",
    "x_test_transform = sscaler.transform(pd.DataFrame(x_test_norm))"
   ]
  },
  {
   "cell_type": "code",
   "execution_count": 11,
   "id": "4b37f68a-7f09-4c04-8f80-ade802acbb85",
   "metadata": {},
   "outputs": [
    {
     "data": {
      "text/plain": [
       "array([[ 0.50172268, -1.12215239,  0.89519544,  1.11266314, -0.0867647 ,\n",
       "         1.27157065],\n",
       "       [-2.41244287, -1.23741004,  2.38416976,  2.11040252,  3.24390971,\n",
       "         0.04401013],\n",
       "       [ 0.54533212,  0.36963696,  0.15070829,  0.11492376,  0.35190949,\n",
       "         1.06697723],\n",
       "       [-0.42611094, -0.08247136, -0.59377887, -0.88281562, -0.54168608,\n",
       "        -0.56977013],\n",
       "       [-0.42116132, -1.86603329, -0.59377887, -0.88281562, -0.60667485,\n",
       "         0.45319697]])"
      ]
     },
     "execution_count": 11,
     "metadata": {},
     "output_type": "execute_result"
    }
   ],
   "source": [
    "x_train_transform[0:5]"
   ]
  },
  {
   "cell_type": "markdown",
   "id": "c25e601b-4974-4ef6-bf44-698a11758b06",
   "metadata": {},
   "source": [
    "# Con dos capas"
   ]
  },
  {
   "cell_type": "markdown",
   "id": "7b481ab7-1b44-45c9-8f0d-0bc852cd3972",
   "metadata": {
    "tags": []
   },
   "source": [
    "## Modelo 1"
   ]
  },
  {
   "cell_type": "code",
   "execution_count": 12,
   "id": "1c569c96-49ba-4a77-81b3-b9aaac32e659",
   "metadata": {},
   "outputs": [
    {
     "name": "stderr",
     "output_type": "stream",
     "text": [
      "2022-12-08 22:42:33.997261: W tensorflow/compiler/xla/stream_executor/platform/default/dso_loader.cc:64] Could not load dynamic library 'libcuda.so.1'; dlerror: libcuda.so.1: cannot open shared object file: No such file or directory\n",
      "2022-12-08 22:42:33.997290: W tensorflow/compiler/xla/stream_executor/cuda/cuda_driver.cc:265] failed call to cuInit: UNKNOWN ERROR (303)\n",
      "2022-12-08 22:42:33.997320: I tensorflow/compiler/xla/stream_executor/cuda/cuda_diagnostics.cc:156] kernel driver does not appear to be running on this host (lucia-UbuntuNotebook): /proc/driver/nvidia/version does not exist\n",
      "2022-12-08 22:42:33.997592: I tensorflow/core/platform/cpu_feature_guard.cc:193] This TensorFlow binary is optimized with oneAPI Deep Neural Network Library (oneDNN) to use the following CPU instructions in performance-critical operations:  AVX2 FMA\n",
      "To enable them in other operations, rebuild TensorFlow with the appropriate compiler flags.\n"
     ]
    }
   ],
   "source": [
    "d_in=6\n",
    "d_out=1\n",
    "\n",
    "modelo_1 = keras.Sequential([\n",
    "    keras.layers.Dense(6,input_shape=(d_in,), activation=\"relu\"),\n",
    "    \n",
    "    keras.layers.Dense(d_out)])"
   ]
  },
  {
   "cell_type": "code",
   "execution_count": 13,
   "id": "cf2e7b49-75ed-496c-b3a4-b2d4876930c9",
   "metadata": {},
   "outputs": [
    {
     "name": "stdout",
     "output_type": "stream",
     "text": [
      "Model: \"sequential\"\n",
      "_________________________________________________________________\n",
      " Layer (type)                Output Shape              Param #   \n",
      "=================================================================\n",
      " dense (Dense)               (None, 6)                 42        \n",
      "                                                                 \n",
      " dense_1 (Dense)             (None, 1)                 7         \n",
      "                                                                 \n",
      "=================================================================\n",
      "Total params: 49\n",
      "Trainable params: 49\n",
      "Non-trainable params: 0\n",
      "_________________________________________________________________\n"
     ]
    }
   ],
   "source": [
    "modelo_1.summary()"
   ]
  },
  {
   "cell_type": "code",
   "execution_count": 14,
   "id": "be14f07e-3332-47c2-b8da-d493628dea2a",
   "metadata": {},
   "outputs": [],
   "source": [
    "modelo_1.compile(\n",
    "      optimizer=keras.optimizers.SGD(learning_rate=0.01), \n",
    "      loss='mae', \n",
    "      metrics=['mse','mae'], \n",
    ")"
   ]
  },
  {
   "cell_type": "code",
   "execution_count": 16,
   "id": "61f20ade-787e-4eca-8b50-1e3df1da8fda",
   "metadata": {
    "tags": []
   },
   "outputs": [
    {
     "name": "stdout",
     "output_type": "stream",
     "text": [
      "Epoch 1/100\n",
      "5814/5814 - 8s - loss: 528.1580 - mse: 691934.0000 - mae: 528.1580 - 8s/epoch - 1ms/step\n",
      "Epoch 2/100\n",
      "5814/5814 - 7s - loss: 526.9576 - mse: 689640.0625 - mae: 526.9576 - 7s/epoch - 1ms/step\n",
      "Epoch 3/100\n",
      "5814/5814 - 8s - loss: 526.8239 - mse: 691614.8750 - mae: 526.8239 - 8s/epoch - 1ms/step\n",
      "Epoch 4/100\n",
      "5814/5814 - 7s - loss: 526.5167 - mse: 689669.9375 - mae: 526.5167 - 7s/epoch - 1ms/step\n",
      "Epoch 5/100\n",
      "5814/5814 - 7s - loss: 526.4987 - mse: 689328.1250 - mae: 526.4987 - 7s/epoch - 1ms/step\n",
      "Epoch 6/100\n",
      "5814/5814 - 7s - loss: 526.8333 - mse: 689287.6875 - mae: 526.8333 - 7s/epoch - 1ms/step\n",
      "Epoch 7/100\n",
      "5814/5814 - 8s - loss: 526.6851 - mse: 690707.0625 - mae: 526.6851 - 8s/epoch - 1ms/step\n",
      "Epoch 8/100\n",
      "5814/5814 - 8s - loss: 526.3092 - mse: 688104.6875 - mae: 526.3092 - 8s/epoch - 1ms/step\n",
      "Epoch 9/100\n",
      "5814/5814 - 8s - loss: 526.4319 - mse: 691266.9375 - mae: 526.4319 - 8s/epoch - 1ms/step\n",
      "Epoch 10/100\n",
      "5814/5814 - 8s - loss: 526.1762 - mse: 689331.5625 - mae: 526.1762 - 8s/epoch - 1ms/step\n",
      "Epoch 11/100\n",
      "5814/5814 - 8s - loss: 526.5648 - mse: 690846.6875 - mae: 526.5648 - 8s/epoch - 1ms/step\n",
      "Epoch 12/100\n",
      "5814/5814 - 8s - loss: 526.1984 - mse: 689040.8750 - mae: 526.1984 - 8s/epoch - 1ms/step\n",
      "Epoch 13/100\n",
      "5814/5814 - 8s - loss: 525.9307 - mse: 689821.7500 - mae: 525.9307 - 8s/epoch - 1ms/step\n",
      "Epoch 14/100\n",
      "5814/5814 - 8s - loss: 525.7593 - mse: 688805.1875 - mae: 525.7593 - 8s/epoch - 1ms/step\n",
      "Epoch 15/100\n",
      "5814/5814 - 8s - loss: 525.8058 - mse: 689906.8750 - mae: 525.8058 - 8s/epoch - 1ms/step\n",
      "Epoch 16/100\n",
      "5814/5814 - 8s - loss: 525.7324 - mse: 689709.6875 - mae: 525.7324 - 8s/epoch - 1ms/step\n",
      "Epoch 17/100\n",
      "5814/5814 - 8s - loss: 525.9233 - mse: 688001.5000 - mae: 525.9233 - 8s/epoch - 1ms/step\n",
      "Epoch 18/100\n",
      "5814/5814 - 8s - loss: 525.7539 - mse: 688098.3125 - mae: 525.7539 - 8s/epoch - 1ms/step\n",
      "Epoch 19/100\n",
      "5814/5814 - 8s - loss: 525.2938 - mse: 687579.8125 - mae: 525.2938 - 8s/epoch - 1ms/step\n",
      "Epoch 20/100\n",
      "5814/5814 - 8s - loss: 525.3693 - mse: 688257.3125 - mae: 525.3693 - 8s/epoch - 1ms/step\n",
      "Epoch 21/100\n",
      "5814/5814 - 8s - loss: 525.3593 - mse: 686132.6875 - mae: 525.3593 - 8s/epoch - 1ms/step\n",
      "Epoch 22/100\n",
      "5814/5814 - 8s - loss: 525.4680 - mse: 685973.1250 - mae: 525.4680 - 8s/epoch - 1ms/step\n",
      "Epoch 23/100\n",
      "5814/5814 - 8s - loss: 524.9559 - mse: 684564.1875 - mae: 524.9559 - 8s/epoch - 1ms/step\n",
      "Epoch 24/100\n",
      "5814/5814 - 8s - loss: 524.1838 - mse: 683881.0625 - mae: 524.1838 - 8s/epoch - 1ms/step\n",
      "Epoch 25/100\n",
      "5814/5814 - 10s - loss: 523.9855 - mse: 685830.3750 - mae: 523.9855 - 10s/epoch - 2ms/step\n",
      "Epoch 26/100\n",
      "5814/5814 - 8s - loss: 524.2761 - mse: 684455.7500 - mae: 524.2761 - 8s/epoch - 1ms/step\n",
      "Epoch 27/100\n",
      "5814/5814 - 8s - loss: 524.1829 - mse: 682543.3125 - mae: 524.1829 - 8s/epoch - 1ms/step\n",
      "Epoch 28/100\n",
      "5814/5814 - 8s - loss: 523.7380 - mse: 682819.6250 - mae: 523.7380 - 8s/epoch - 1ms/step\n",
      "Epoch 29/100\n",
      "5814/5814 - 8s - loss: 523.8915 - mse: 684241.7500 - mae: 523.8915 - 8s/epoch - 1ms/step\n",
      "Epoch 30/100\n",
      "5814/5814 - 8s - loss: 523.7397 - mse: 683113.3750 - mae: 523.7397 - 8s/epoch - 1ms/step\n",
      "Epoch 31/100\n",
      "5814/5814 - 8s - loss: 524.1073 - mse: 683269.9375 - mae: 524.1073 - 8s/epoch - 1ms/step\n",
      "Epoch 32/100\n",
      "5814/5814 - 8s - loss: 523.2604 - mse: 682889.8125 - mae: 523.2604 - 8s/epoch - 1ms/step\n",
      "Epoch 33/100\n",
      "5814/5814 - 8s - loss: 524.1069 - mse: 683447.6250 - mae: 524.1069 - 8s/epoch - 1ms/step\n",
      "Epoch 34/100\n",
      "5814/5814 - 8s - loss: 523.6562 - mse: 682102.0625 - mae: 523.6562 - 8s/epoch - 1ms/step\n",
      "Epoch 35/100\n",
      "5814/5814 - 7s - loss: 524.0648 - mse: 685686.1250 - mae: 524.0648 - 7s/epoch - 1ms/step\n",
      "Epoch 36/100\n",
      "5814/5814 - 7s - loss: 523.3576 - mse: 683713.6250 - mae: 523.3576 - 7s/epoch - 1ms/step\n",
      "Epoch 37/100\n",
      "5814/5814 - 7s - loss: 523.5469 - mse: 681660.7500 - mae: 523.5469 - 7s/epoch - 1ms/step\n",
      "Epoch 38/100\n",
      "5814/5814 - 7s - loss: 523.3497 - mse: 682348.3125 - mae: 523.3497 - 7s/epoch - 1ms/step\n",
      "Epoch 39/100\n",
      "5814/5814 - 7s - loss: 523.2807 - mse: 682525.0000 - mae: 523.2807 - 7s/epoch - 1ms/step\n",
      "Epoch 40/100\n",
      "5814/5814 - 7s - loss: 523.1553 - mse: 682257.9375 - mae: 523.1553 - 7s/epoch - 1ms/step\n",
      "Epoch 41/100\n",
      "5814/5814 - 7s - loss: 523.4593 - mse: 681106.8750 - mae: 523.4593 - 7s/epoch - 1ms/step\n",
      "Epoch 42/100\n",
      "5814/5814 - 7s - loss: 522.7725 - mse: 679184.1875 - mae: 522.7725 - 7s/epoch - 1ms/step\n",
      "Epoch 43/100\n",
      "5814/5814 - 7s - loss: 522.6852 - mse: 682006.4375 - mae: 522.6852 - 7s/epoch - 1ms/step\n",
      "Epoch 44/100\n",
      "5814/5814 - 8s - loss: 523.5155 - mse: 682842.0625 - mae: 523.5155 - 8s/epoch - 1ms/step\n",
      "Epoch 45/100\n",
      "5814/5814 - 7s - loss: 523.1153 - mse: 679442.9375 - mae: 523.1153 - 7s/epoch - 1ms/step\n",
      "Epoch 46/100\n",
      "5814/5814 - 7s - loss: 523.1556 - mse: 683027.5625 - mae: 523.1556 - 7s/epoch - 1ms/step\n",
      "Epoch 47/100\n",
      "5814/5814 - 7s - loss: 522.6210 - mse: 682099.1875 - mae: 522.6210 - 7s/epoch - 1ms/step\n",
      "Epoch 48/100\n",
      "5814/5814 - 8s - loss: 522.4245 - mse: 683302.6250 - mae: 522.4245 - 8s/epoch - 1ms/step\n",
      "Epoch 49/100\n",
      "5814/5814 - 8s - loss: 521.9533 - mse: 681696.0000 - mae: 521.9533 - 8s/epoch - 1ms/step\n",
      "Epoch 50/100\n",
      "5814/5814 - 8s - loss: 522.2780 - mse: 683154.2500 - mae: 522.2780 - 8s/epoch - 1ms/step\n",
      "Epoch 51/100\n",
      "5814/5814 - 8s - loss: 522.7684 - mse: 683787.0625 - mae: 522.7684 - 8s/epoch - 1ms/step\n",
      "Epoch 52/100\n",
      "5814/5814 - 8s - loss: 522.2736 - mse: 682145.1875 - mae: 522.2736 - 8s/epoch - 1ms/step\n",
      "Epoch 53/100\n",
      "5814/5814 - 7s - loss: 522.3102 - mse: 683625.1875 - mae: 522.3102 - 7s/epoch - 1ms/step\n",
      "Epoch 54/100\n",
      "5814/5814 - 7s - loss: 522.1407 - mse: 684292.0000 - mae: 522.1407 - 7s/epoch - 1ms/step\n",
      "Epoch 55/100\n",
      "5814/5814 - 7s - loss: 522.2285 - mse: 684533.8125 - mae: 522.2285 - 7s/epoch - 1ms/step\n",
      "Epoch 56/100\n",
      "5814/5814 - 7s - loss: 522.3366 - mse: 681829.4375 - mae: 522.3366 - 7s/epoch - 1ms/step\n",
      "Epoch 57/100\n",
      "5814/5814 - 7s - loss: 522.1479 - mse: 683142.7500 - mae: 522.1479 - 7s/epoch - 1ms/step\n",
      "Epoch 58/100\n",
      "5814/5814 - 7s - loss: 521.7574 - mse: 682226.6875 - mae: 521.7574 - 7s/epoch - 1ms/step\n",
      "Epoch 59/100\n",
      "5814/5814 - 8s - loss: 521.9732 - mse: 683375.6875 - mae: 521.9732 - 8s/epoch - 1ms/step\n",
      "Epoch 60/100\n",
      "5814/5814 - 7s - loss: 522.0490 - mse: 682147.1250 - mae: 522.0490 - 7s/epoch - 1ms/step\n",
      "Epoch 61/100\n",
      "5814/5814 - 7s - loss: 522.3550 - mse: 684312.9375 - mae: 522.3550 - 7s/epoch - 1ms/step\n",
      "Epoch 62/100\n",
      "5814/5814 - 7s - loss: 522.0014 - mse: 682299.3125 - mae: 522.0014 - 7s/epoch - 1ms/step\n",
      "Epoch 63/100\n",
      "5814/5814 - 8s - loss: 521.8498 - mse: 683498.1875 - mae: 521.8499 - 8s/epoch - 1ms/step\n",
      "Epoch 64/100\n",
      "5814/5814 - 7s - loss: 522.2001 - mse: 683566.3125 - mae: 522.2001 - 7s/epoch - 1ms/step\n",
      "Epoch 65/100\n",
      "5814/5814 - 7s - loss: 521.5893 - mse: 682308.3750 - mae: 521.5893 - 7s/epoch - 1ms/step\n",
      "Epoch 66/100\n",
      "5814/5814 - 7s - loss: 522.0963 - mse: 683784.3125 - mae: 522.0963 - 7s/epoch - 1ms/step\n",
      "Epoch 67/100\n",
      "5814/5814 - 7s - loss: 521.8528 - mse: 684320.8750 - mae: 521.8528 - 7s/epoch - 1ms/step\n",
      "Epoch 68/100\n",
      "5814/5814 - 7s - loss: 522.1390 - mse: 684838.1250 - mae: 522.1390 - 7s/epoch - 1ms/step\n",
      "Epoch 69/100\n",
      "5814/5814 - 7s - loss: 522.1705 - mse: 683838.4375 - mae: 522.1705 - 7s/epoch - 1ms/step\n",
      "Epoch 70/100\n",
      "5814/5814 - 7s - loss: 522.2748 - mse: 684181.5625 - mae: 522.2748 - 7s/epoch - 1ms/step\n",
      "Epoch 71/100\n",
      "5814/5814 - 7s - loss: 522.2540 - mse: 682861.5625 - mae: 522.2540 - 7s/epoch - 1ms/step\n",
      "Epoch 72/100\n",
      "5814/5814 - 7s - loss: 521.9850 - mse: 682771.6875 - mae: 521.9850 - 7s/epoch - 1ms/step\n",
      "Epoch 73/100\n",
      "5814/5814 - 7s - loss: 522.0165 - mse: 683883.6250 - mae: 522.0165 - 7s/epoch - 1ms/step\n",
      "Epoch 74/100\n",
      "5814/5814 - 7s - loss: 521.9953 - mse: 682543.2500 - mae: 521.9954 - 7s/epoch - 1ms/step\n",
      "Epoch 75/100\n",
      "5814/5814 - 7s - loss: 521.9017 - mse: 681938.2500 - mae: 521.9017 - 7s/epoch - 1ms/step\n",
      "Epoch 76/100\n",
      "5814/5814 - 7s - loss: 522.1422 - mse: 685344.5625 - mae: 522.1422 - 7s/epoch - 1ms/step\n",
      "Epoch 77/100\n",
      "5814/5814 - 7s - loss: 521.9787 - mse: 683932.0000 - mae: 521.9787 - 7s/epoch - 1ms/step\n",
      "Epoch 78/100\n",
      "5814/5814 - 7s - loss: 521.9579 - mse: 683149.1875 - mae: 521.9579 - 7s/epoch - 1ms/step\n",
      "Epoch 79/100\n",
      "5814/5814 - 7s - loss: 522.2051 - mse: 685404.5000 - mae: 522.2051 - 7s/epoch - 1ms/step\n",
      "Epoch 80/100\n",
      "5814/5814 - 7s - loss: 521.4739 - mse: 683301.6875 - mae: 521.4739 - 7s/epoch - 1ms/step\n",
      "Epoch 81/100\n",
      "5814/5814 - 7s - loss: 521.7162 - mse: 682844.1250 - mae: 521.7162 - 7s/epoch - 1ms/step\n",
      "Epoch 82/100\n",
      "5814/5814 - 7s - loss: 521.7217 - mse: 683931.6250 - mae: 521.7217 - 7s/epoch - 1ms/step\n",
      "Epoch 83/100\n",
      "5814/5814 - 7s - loss: 521.8054 - mse: 683772.3750 - mae: 521.8054 - 7s/epoch - 1ms/step\n",
      "Epoch 84/100\n",
      "5814/5814 - 7s - loss: 521.2980 - mse: 683263.4375 - mae: 521.2980 - 7s/epoch - 1ms/step\n",
      "Epoch 85/100\n",
      "5814/5814 - 7s - loss: 522.0325 - mse: 683182.2500 - mae: 522.0325 - 7s/epoch - 1ms/step\n",
      "Epoch 86/100\n",
      "5814/5814 - 7s - loss: 521.8842 - mse: 684993.2500 - mae: 521.8842 - 7s/epoch - 1ms/step\n",
      "Epoch 87/100\n",
      "5814/5814 - 7s - loss: 521.8047 - mse: 684198.8750 - mae: 521.8047 - 7s/epoch - 1ms/step\n",
      "Epoch 88/100\n",
      "5814/5814 - 7s - loss: 521.6424 - mse: 683616.0000 - mae: 521.6424 - 7s/epoch - 1ms/step\n",
      "Epoch 89/100\n",
      "5814/5814 - 7s - loss: 521.9834 - mse: 684307.3750 - mae: 521.9834 - 7s/epoch - 1ms/step\n",
      "Epoch 90/100\n",
      "5814/5814 - 7s - loss: 521.8113 - mse: 684453.5625 - mae: 521.8113 - 7s/epoch - 1ms/step\n",
      "Epoch 91/100\n",
      "5814/5814 - 7s - loss: 521.6132 - mse: 683563.8125 - mae: 521.6132 - 7s/epoch - 1ms/step\n",
      "Epoch 92/100\n",
      "5814/5814 - 8s - loss: 521.7281 - mse: 684560.9375 - mae: 521.7281 - 8s/epoch - 1ms/step\n",
      "Epoch 93/100\n",
      "5814/5814 - 8s - loss: 521.7672 - mse: 683810.8125 - mae: 521.7672 - 8s/epoch - 1ms/step\n",
      "Epoch 94/100\n",
      "5814/5814 - 8s - loss: 521.7557 - mse: 684905.8125 - mae: 521.7557 - 8s/epoch - 1ms/step\n",
      "Epoch 95/100\n",
      "5814/5814 - 7s - loss: 521.5199 - mse: 685809.0625 - mae: 521.5199 - 7s/epoch - 1ms/step\n",
      "Epoch 96/100\n",
      "5814/5814 - 7s - loss: 522.2937 - mse: 684124.1875 - mae: 522.2937 - 7s/epoch - 1ms/step\n",
      "Epoch 97/100\n",
      "5814/5814 - 7s - loss: 522.1281 - mse: 684374.8750 - mae: 522.1281 - 7s/epoch - 1ms/step\n",
      "Epoch 98/100\n",
      "5814/5814 - 7s - loss: 521.6915 - mse: 682429.1250 - mae: 521.6915 - 7s/epoch - 1ms/step\n",
      "Epoch 99/100\n",
      "5814/5814 - 7s - loss: 522.0521 - mse: 684254.5000 - mae: 522.0521 - 7s/epoch - 1ms/step\n",
      "Epoch 100/100\n",
      "5814/5814 - 10s - loss: 521.9818 - mse: 685703.3750 - mae: 521.9818 - 10s/epoch - 2ms/step\n"
     ]
    }
   ],
   "source": [
    "# Entrenamiento del modelo\n",
    "cant_epochs = 100\n",
    "historia_modelo_1 = modelo_1.fit(x_train_transform,y_train,epochs=cant_epochs,batch_size=10,verbose=2)"
   ]
  },
  {
   "cell_type": "code",
   "execution_count": 17,
   "id": "1754d26f-6633-4fb8-b975-8aa637c2867d",
   "metadata": {},
   "outputs": [
    {
     "data": {
      "text/plain": [
       "<matplotlib.legend.Legend at 0x7f913c71d340>"
      ]
     },
     "execution_count": 17,
     "metadata": {},
     "output_type": "execute_result"
    },
    {
     "data": {
      "image/png": "[encoded data removed]",
      "text/plain": [
       "<Figure size 432x288 with 1 Axes>"
      ]
     },
     "metadata": {
      "needs_background": "light"
     },
     "output_type": "display_data"
    }
   ],
   "source": [
    "plt.figure()\n",
    "plt.xlabel('Epochs')\n",
    "plt.ylabel('Mean Square Error')\n",
    "plt.plot(range(cant_epochs), historia_modelo_1.history['mse'], label='Train Error')\n",
    "plt.legend()"
   ]
  },
  {
   "cell_type": "code",
   "execution_count": 18,
   "id": "0d522ecd-75dc-428f-bec4-ff8c03337514",
   "metadata": {},
   "outputs": [
    {
     "data": {
      "text/plain": [
       "<matplotlib.legend.Legend at 0x7f913c6544c0>"
      ]
     },
     "execution_count": 18,
     "metadata": {},
     "output_type": "execute_result"
    },
    {
     "data": {
      "image/png": "[encoded data removed]",
      "text/plain": [
       "<Figure size 432x288 with 1 Axes>"
      ]
     },
     "metadata": {
      "needs_background": "light"
     },
     "output_type": "display_data"
    }
   ],
   "source": [
    "plt.figure()\n",
    "plt.xlabel('Epochs')\n",
    "plt.ylabel('Mean Absolute Error')\n",
    "plt.plot(range(cant_epochs), historia_modelo_1.history['mae'], label='Train Error')\n",
    "plt.legend()"
   ]
  },
  {
   "cell_type": "code",
   "execution_count": 19,
   "id": "524c81bf-a9c8-4084-80eb-c9a33f6dcdd9",
   "metadata": {},
   "outputs": [
    {
     "name": "stdout",
     "output_type": "stream",
     "text": [
      "455/455 [==============================] - 1s 1ms/step\n",
      "Error absoluto medio 549.9630450724737\n",
      "Error cuadrático medio 634414.3136043805\n"
     ]
    }
   ],
   "source": [
    "y_pred = modelo_1.predict(x_test_transform)\n",
    "\n",
    "mae = mean_absolute_error(y_test,y_pred)\n",
    "mse = mean_squared_error(y_test,y_pred)\n",
    "\n",
    "print(f\"Error absoluto medio {mae}\")\n",
    "print(f\"Error cuadrático medio {mse}\")"
   ]
  },
  {
   "cell_type": "markdown",
   "id": "9068b04c-854f-4ebe-a357-a367f6449faa",
   "metadata": {},
   "source": [
    "La metrica del error cuadratico medio se encuentra en un rango entre 685.000 y 691.000, lo cual no es un muy buen resultado.\n",
    "\n",
    "Comparando la prediccion con el target de test, obtenemos como resultado un valor aprox 634.414"
   ]
  },
  {
   "cell_type": "code",
   "execution_count": 45,
   "id": "29860129-cc59-4662-8cea-81a8bb236ab2",
   "metadata": {},
   "outputs": [
    {
     "name": "stdout",
     "output_type": "stream",
     "text": [
      "Keras weights file (<HDF5 file \"variables.h5\" (mode r+)>) saving:\n",
      "...layers\n",
      "......dense\n",
      ".........vars\n",
      "............0\n",
      "............1\n",
      "......dense_1\n",
      ".........vars\n",
      "............0\n",
      "............1\n",
      "...metrics\n",
      "......mean\n",
      ".........vars\n",
      "............0\n",
      "............1\n",
      "......mean_metric_wrapper\n",
      ".........vars\n",
      "............0\n",
      "............1\n",
      "......mean_metric_wrapper_1\n",
      ".........vars\n",
      "............0\n",
      "............1\n",
      "...optimizer\n",
      "......vars\n",
      ".........0\n",
      ".........1\n",
      ".........2\n",
      ".........3\n",
      ".........4\n",
      "...vars\n",
      "Keras model archive saving:\n",
      "File Name                                             Modified             Size\n",
      "variables.h5                                   2022-12-08 23:57:05        22408\n",
      "config.json                                    2022-12-08 23:57:05         1775\n",
      "metadata.json                                  2022-12-08 23:57:05           64\n"
     ]
    },
    {
     "data": {
      "text/plain": [
       "['./Modelos_TP2/RedesNeuronalesRegresion1.joblib']"
      ]
     },
     "execution_count": 45,
     "metadata": {},
     "output_type": "execute_result"
    }
   ],
   "source": [
    "dump(modelo_1, './Modelos_TP2/RedesNeuronalesRegresion1.joblib')"
   ]
  },
  {
   "cell_type": "markdown",
   "id": "491c1d0e-328e-4518-b8db-f81ab09895b4",
   "metadata": {
    "tags": []
   },
   "source": [
    "## Modelo 2\n",
    "\n",
    "Veamos que ocurre si modificamos el learning rate"
   ]
  },
  {
   "cell_type": "code",
   "execution_count": 20,
   "id": "bfc4f3ac-dd10-411b-af88-6050e3d88afe",
   "metadata": {},
   "outputs": [],
   "source": [
    "d_in=6\n",
    "d_out=1\n",
    "\n",
    "modelo_2 = keras.Sequential([\n",
    "    keras.layers.Dense(6,input_shape=(d_in,), activation=\"relu\"),\n",
    "    \n",
    "    keras.layers.Dense(d_out)])"
   ]
  },
  {
   "cell_type": "code",
   "execution_count": 21,
   "id": "e1f191a0-68cd-4304-bf3a-f3a9403cd126",
   "metadata": {},
   "outputs": [
    {
     "name": "stdout",
     "output_type": "stream",
     "text": [
      "Model: \"sequential_1\"\n",
      "_________________________________________________________________\n",
      " Layer (type)                Output Shape              Param #   \n",
      "=================================================================\n",
      " dense_2 (Dense)             (None, 6)                 42        \n",
      "                                                                 \n",
      " dense_3 (Dense)             (None, 1)                 7         \n",
      "                                                                 \n",
      "=================================================================\n",
      "Total params: 49\n",
      "Trainable params: 49\n",
      "Non-trainable params: 0\n",
      "_________________________________________________________________\n"
     ]
    }
   ],
   "source": [
    "modelo_2.summary()"
   ]
  },
  {
   "cell_type": "code",
   "execution_count": 22,
   "id": "511eb9a7-eddc-43e0-b617-bd9166f45eb0",
   "metadata": {},
   "outputs": [],
   "source": [
    "modelo_2.compile(\n",
    "      optimizer=keras.optimizers.SGD(learning_rate=0.001), \n",
    "      loss='mae', \n",
    "      metrics=['mse','mae'], \n",
    ")"
   ]
  },
  {
   "cell_type": "code",
   "execution_count": 23,
   "id": "4655fb3f-0cd4-4af5-8847-ef1c0de88c6d",
   "metadata": {
    "tags": []
   },
   "outputs": [
    {
     "name": "stdout",
     "output_type": "stream",
     "text": [
      "Epoch 1/100\n",
      "2907/2907 - 4s - loss: 2350.8071 - mse: 6493768.0000 - mae: 2350.8071 - 4s/epoch - 1ms/step\n",
      "Epoch 2/100\n",
      "2907/2907 - 4s - loss: 1952.6487 - mse: 5005727.5000 - mae: 1952.6487 - 4s/epoch - 1ms/step\n",
      "Epoch 3/100\n",
      "2907/2907 - 4s - loss: 623.3842 - mse: 965223.3750 - mae: 623.3843 - 4s/epoch - 1ms/step\n",
      "Epoch 4/100\n",
      "2907/2907 - 4s - loss: 568.6291 - mse: 808141.9375 - mae: 568.6291 - 4s/epoch - 1ms/step\n",
      "Epoch 5/100\n",
      "2907/2907 - 4s - loss: 565.1473 - mse: 796485.3125 - mae: 565.1473 - 4s/epoch - 1ms/step\n",
      "Epoch 6/100\n",
      "2907/2907 - 4s - loss: 564.4573 - mse: 792231.3750 - mae: 564.4573 - 4s/epoch - 1ms/step\n",
      "Epoch 7/100\n",
      "2907/2907 - 4s - loss: 563.9270 - mse: 790733.0625 - mae: 563.9270 - 4s/epoch - 1ms/step\n",
      "Epoch 8/100\n",
      "2907/2907 - 4s - loss: 563.0449 - mse: 788658.2500 - mae: 563.0449 - 4s/epoch - 1ms/step\n",
      "Epoch 9/100\n",
      "2907/2907 - 4s - loss: 561.8815 - mse: 786668.9375 - mae: 561.8815 - 4s/epoch - 1ms/step\n",
      "Epoch 10/100\n",
      "2907/2907 - 4s - loss: 560.3943 - mse: 782700.5000 - mae: 560.3943 - 4s/epoch - 1ms/step\n",
      "Epoch 11/100\n",
      "2907/2907 - 4s - loss: 558.9465 - mse: 779432.8125 - mae: 558.9465 - 4s/epoch - 1ms/step\n",
      "Epoch 12/100\n",
      "2907/2907 - 4s - loss: 557.1488 - mse: 775131.5625 - mae: 557.1488 - 4s/epoch - 1ms/step\n",
      "Epoch 13/100\n",
      "2907/2907 - 4s - loss: 554.9947 - mse: 770704.7500 - mae: 554.9947 - 4s/epoch - 1ms/step\n",
      "Epoch 14/100\n",
      "2907/2907 - 4s - loss: 552.6816 - mse: 764303.0000 - mae: 552.6816 - 4s/epoch - 1ms/step\n",
      "Epoch 15/100\n",
      "2907/2907 - 4s - loss: 550.2458 - mse: 757767.8750 - mae: 550.2458 - 4s/epoch - 1ms/step\n",
      "Epoch 16/100\n",
      "2907/2907 - 4s - loss: 547.7678 - mse: 750954.5625 - mae: 547.7678 - 4s/epoch - 1ms/step\n",
      "Epoch 17/100\n",
      "2907/2907 - 4s - loss: 545.4648 - mse: 745053.8125 - mae: 545.4648 - 4s/epoch - 1ms/step\n",
      "Epoch 18/100\n",
      "2907/2907 - 4s - loss: 543.2472 - mse: 736890.2500 - mae: 543.2472 - 4s/epoch - 1ms/step\n",
      "Epoch 19/100\n",
      "2907/2907 - 4s - loss: 541.2097 - mse: 731966.6875 - mae: 541.2097 - 4s/epoch - 1ms/step\n",
      "Epoch 20/100\n",
      "2907/2907 - 4s - loss: 539.5277 - mse: 726078.1875 - mae: 539.5277 - 4s/epoch - 1ms/step\n",
      "Epoch 21/100\n",
      "2907/2907 - 4s - loss: 538.1843 - mse: 720779.3125 - mae: 538.1843 - 4s/epoch - 1ms/step\n",
      "Epoch 22/100\n",
      "2907/2907 - 4s - loss: 536.9703 - mse: 716987.9375 - mae: 536.9703 - 4s/epoch - 1ms/step\n",
      "Epoch 23/100\n",
      "2907/2907 - 4s - loss: 535.9628 - mse: 711448.6250 - mae: 535.9628 - 4s/epoch - 1ms/step\n",
      "Epoch 24/100\n",
      "2907/2907 - 4s - loss: 535.2615 - mse: 709589.0625 - mae: 535.2615 - 4s/epoch - 1ms/step\n",
      "Epoch 25/100\n",
      "2907/2907 - 4s - loss: 534.5829 - mse: 707649.5000 - mae: 534.5829 - 4s/epoch - 1ms/step\n",
      "Epoch 26/100\n",
      "2907/2907 - 4s - loss: 534.3192 - mse: 705644.4375 - mae: 534.3192 - 4s/epoch - 1ms/step\n",
      "Epoch 27/100\n",
      "2907/2907 - 4s - loss: 533.8749 - mse: 703211.0625 - mae: 533.8749 - 4s/epoch - 1ms/step\n",
      "Epoch 28/100\n",
      "2907/2907 - 4s - loss: 533.6120 - mse: 700943.6250 - mae: 533.6120 - 4s/epoch - 1ms/step\n",
      "Epoch 29/100\n",
      "2907/2907 - 4s - loss: 533.3613 - mse: 700751.6875 - mae: 533.3613 - 4s/epoch - 1ms/step\n",
      "Epoch 30/100\n",
      "2907/2907 - 4s - loss: 533.2000 - mse: 699602.1875 - mae: 533.2000 - 4s/epoch - 1ms/step\n",
      "Epoch 31/100\n",
      "2907/2907 - 4s - loss: 533.0375 - mse: 698402.0000 - mae: 533.0375 - 4s/epoch - 1ms/step\n",
      "Epoch 32/100\n",
      "2907/2907 - 4s - loss: 532.8565 - mse: 697492.9375 - mae: 532.8565 - 4s/epoch - 1ms/step\n",
      "Epoch 33/100\n",
      "2907/2907 - 4s - loss: 532.6930 - mse: 697051.0625 - mae: 532.6930 - 4s/epoch - 1ms/step\n",
      "Epoch 34/100\n",
      "2907/2907 - 4s - loss: 532.5421 - mse: 696580.6875 - mae: 532.5421 - 4s/epoch - 1ms/step\n",
      "Epoch 35/100\n",
      "2907/2907 - 4s - loss: 532.3993 - mse: 695555.3750 - mae: 532.3993 - 4s/epoch - 1ms/step\n",
      "Epoch 36/100\n",
      "2907/2907 - 4s - loss: 532.2233 - mse: 694991.6250 - mae: 532.2233 - 4s/epoch - 1ms/step\n",
      "Epoch 37/100\n",
      "2907/2907 - 4s - loss: 532.0454 - mse: 694995.7500 - mae: 532.0454 - 4s/epoch - 1ms/step\n",
      "Epoch 38/100\n",
      "2907/2907 - 4s - loss: 531.9411 - mse: 693839.2500 - mae: 531.9411 - 4s/epoch - 1ms/step\n",
      "Epoch 39/100\n",
      "2907/2907 - 4s - loss: 531.7361 - mse: 694108.5000 - mae: 531.7361 - 4s/epoch - 1ms/step\n",
      "Epoch 40/100\n",
      "2907/2907 - 4s - loss: 531.5306 - mse: 694006.8125 - mae: 531.5306 - 4s/epoch - 1ms/step\n",
      "Epoch 41/100\n",
      "2907/2907 - 4s - loss: 531.3266 - mse: 693497.7500 - mae: 531.3266 - 4s/epoch - 1ms/step\n",
      "Epoch 42/100\n",
      "2907/2907 - 4s - loss: 531.1102 - mse: 693675.6875 - mae: 531.1102 - 4s/epoch - 1ms/step\n",
      "Epoch 43/100\n",
      "2907/2907 - 4s - loss: 530.7649 - mse: 692941.4375 - mae: 530.7649 - 4s/epoch - 1ms/step\n",
      "Epoch 44/100\n",
      "2907/2907 - 4s - loss: 530.5970 - mse: 692536.7500 - mae: 530.5970 - 4s/epoch - 1ms/step\n",
      "Epoch 45/100\n",
      "2907/2907 - 4s - loss: 530.3029 - mse: 692805.3750 - mae: 530.3029 - 4s/epoch - 1ms/step\n",
      "Epoch 46/100\n",
      "2907/2907 - 4s - loss: 530.0129 - mse: 692801.6250 - mae: 530.0129 - 4s/epoch - 1ms/step\n",
      "Epoch 47/100\n",
      "2907/2907 - 4s - loss: 529.7052 - mse: 692314.9375 - mae: 529.7052 - 4s/epoch - 1ms/step\n",
      "Epoch 48/100\n",
      "2907/2907 - 4s - loss: 529.4125 - mse: 692706.8125 - mae: 529.4125 - 4s/epoch - 1ms/step\n",
      "Epoch 49/100\n",
      "2907/2907 - 4s - loss: 529.0576 - mse: 692292.1250 - mae: 529.0576 - 4s/epoch - 1ms/step\n",
      "Epoch 50/100\n",
      "2907/2907 - 4s - loss: 528.7556 - mse: 692100.1875 - mae: 528.7556 - 4s/epoch - 1ms/step\n",
      "Epoch 51/100\n",
      "2907/2907 - 4s - loss: 528.3998 - mse: 691577.1875 - mae: 528.3998 - 4s/epoch - 1ms/step\n",
      "Epoch 52/100\n",
      "2907/2907 - 4s - loss: 528.1111 - mse: 692114.3125 - mae: 528.1111 - 4s/epoch - 1ms/step\n",
      "Epoch 53/100\n",
      "2907/2907 - 4s - loss: 527.7650 - mse: 691591.9375 - mae: 527.7650 - 4s/epoch - 1ms/step\n",
      "Epoch 54/100\n",
      "2907/2907 - 4s - loss: 527.2852 - mse: 691321.3750 - mae: 527.2852 - 4s/epoch - 1ms/step\n",
      "Epoch 55/100\n",
      "2907/2907 - 4s - loss: 526.9883 - mse: 692010.0000 - mae: 526.9883 - 4s/epoch - 1ms/step\n",
      "Epoch 56/100\n",
      "2907/2907 - 4s - loss: 526.5364 - mse: 691333.5625 - mae: 526.5364 - 4s/epoch - 1ms/step\n",
      "Epoch 57/100\n",
      "2907/2907 - 4s - loss: 526.1232 - mse: 690509.0000 - mae: 526.1232 - 4s/epoch - 1ms/step\n",
      "Epoch 58/100\n",
      "2907/2907 - 4s - loss: 525.7367 - mse: 690192.9375 - mae: 525.7367 - 4s/epoch - 1ms/step\n",
      "Epoch 59/100\n",
      "2907/2907 - 4s - loss: 525.4128 - mse: 689685.0625 - mae: 525.4128 - 4s/epoch - 1ms/step\n",
      "Epoch 60/100\n",
      "2907/2907 - 4s - loss: 525.0847 - mse: 690223.8125 - mae: 525.0847 - 4s/epoch - 1ms/step\n",
      "Epoch 61/100\n",
      "2907/2907 - 4s - loss: 524.8483 - mse: 688796.9375 - mae: 524.8483 - 4s/epoch - 1ms/step\n",
      "Epoch 62/100\n",
      "2907/2907 - 4s - loss: 524.6225 - mse: 688858.4375 - mae: 524.6225 - 4s/epoch - 1ms/step\n",
      "Epoch 63/100\n",
      "2907/2907 - 4s - loss: 524.3645 - mse: 687685.1250 - mae: 524.3645 - 4s/epoch - 1ms/step\n",
      "Epoch 64/100\n",
      "2907/2907 - 4s - loss: 524.1678 - mse: 687737.4375 - mae: 524.1678 - 4s/epoch - 1ms/step\n",
      "Epoch 65/100\n",
      "2907/2907 - 4s - loss: 523.9712 - mse: 686635.0000 - mae: 523.9712 - 4s/epoch - 1ms/step\n",
      "Epoch 66/100\n",
      "2907/2907 - 4s - loss: 523.8276 - mse: 687446.5625 - mae: 523.8276 - 4s/epoch - 1ms/step\n",
      "Epoch 67/100\n",
      "2907/2907 - 4s - loss: 523.6303 - mse: 686166.0000 - mae: 523.6303 - 4s/epoch - 1ms/step\n",
      "Epoch 68/100\n",
      "2907/2907 - 4s - loss: 523.4557 - mse: 685498.9375 - mae: 523.4557 - 4s/epoch - 1ms/step\n",
      "Epoch 69/100\n",
      "2907/2907 - 4s - loss: 523.3870 - mse: 685944.5000 - mae: 523.3870 - 4s/epoch - 1ms/step\n",
      "Epoch 70/100\n",
      "2907/2907 - 4s - loss: 523.1111 - mse: 685597.8125 - mae: 523.1111 - 4s/epoch - 1ms/step\n",
      "Epoch 71/100\n",
      "2907/2907 - 4s - loss: 522.9214 - mse: 684541.6250 - mae: 522.9214 - 4s/epoch - 1ms/step\n",
      "Epoch 72/100\n",
      "2907/2907 - 4s - loss: 522.8520 - mse: 684816.0000 - mae: 522.8520 - 4s/epoch - 1ms/step\n",
      "Epoch 73/100\n",
      "2907/2907 - 4s - loss: 522.6987 - mse: 684179.2500 - mae: 522.6987 - 4s/epoch - 1ms/step\n",
      "Epoch 74/100\n",
      "2907/2907 - 4s - loss: 522.5593 - mse: 684200.5625 - mae: 522.5593 - 4s/epoch - 1ms/step\n",
      "Epoch 75/100\n",
      "2907/2907 - 4s - loss: 522.3869 - mse: 683235.1250 - mae: 522.3869 - 4s/epoch - 1ms/step\n",
      "Epoch 76/100\n",
      "2907/2907 - 4s - loss: 522.3563 - mse: 682130.5625 - mae: 522.3563 - 4s/epoch - 1ms/step\n",
      "Epoch 77/100\n",
      "2907/2907 - 4s - loss: 522.1600 - mse: 682555.4375 - mae: 522.1600 - 4s/epoch - 1ms/step\n",
      "Epoch 78/100\n",
      "2907/2907 - 4s - loss: 522.0809 - mse: 681488.5625 - mae: 522.0809 - 4s/epoch - 1ms/step\n",
      "Epoch 79/100\n",
      "2907/2907 - 4s - loss: 522.0251 - mse: 682076.3125 - mae: 522.0251 - 4s/epoch - 1ms/step\n",
      "Epoch 80/100\n",
      "2907/2907 - 4s - loss: 521.8797 - mse: 681907.9375 - mae: 521.8797 - 4s/epoch - 1ms/step\n",
      "Epoch 81/100\n",
      "2907/2907 - 4s - loss: 521.8641 - mse: 680934.1250 - mae: 521.8641 - 4s/epoch - 1ms/step\n",
      "Epoch 82/100\n",
      "2907/2907 - 4s - loss: 521.7817 - mse: 680888.3750 - mae: 521.7817 - 4s/epoch - 1ms/step\n",
      "Epoch 83/100\n",
      "2907/2907 - 4s - loss: 521.6332 - mse: 680628.8750 - mae: 521.6332 - 4s/epoch - 1ms/step\n",
      "Epoch 84/100\n",
      "2907/2907 - 4s - loss: 521.5932 - mse: 679871.5000 - mae: 521.5932 - 4s/epoch - 1ms/step\n",
      "Epoch 85/100\n",
      "2907/2907 - 4s - loss: 521.6105 - mse: 680448.3750 - mae: 521.6105 - 4s/epoch - 1ms/step\n",
      "Epoch 86/100\n",
      "2907/2907 - 4s - loss: 521.5764 - mse: 679809.9375 - mae: 521.5765 - 4s/epoch - 1ms/step\n",
      "Epoch 87/100\n",
      "2907/2907 - 4s - loss: 521.4695 - mse: 679391.5625 - mae: 521.4695 - 4s/epoch - 1ms/step\n",
      "Epoch 88/100\n",
      "2907/2907 - 4s - loss: 521.4675 - mse: 678962.8125 - mae: 521.4675 - 4s/epoch - 1ms/step\n",
      "Epoch 89/100\n",
      "2907/2907 - 4s - loss: 521.4161 - mse: 679436.6250 - mae: 521.4161 - 4s/epoch - 1ms/step\n",
      "Epoch 90/100\n",
      "2907/2907 - 4s - loss: 521.4019 - mse: 679179.0000 - mae: 521.4019 - 4s/epoch - 1ms/step\n",
      "Epoch 91/100\n",
      "2907/2907 - 4s - loss: 521.3502 - mse: 678334.1875 - mae: 521.3502 - 4s/epoch - 1ms/step\n",
      "Epoch 92/100\n",
      "2907/2907 - 4s - loss: 521.2747 - mse: 679475.0000 - mae: 521.2747 - 4s/epoch - 1ms/step\n",
      "Epoch 93/100\n",
      "2907/2907 - 4s - loss: 521.2654 - mse: 678369.4375 - mae: 521.2654 - 4s/epoch - 1ms/step\n",
      "Epoch 94/100\n",
      "2907/2907 - 4s - loss: 521.2623 - mse: 678682.8750 - mae: 521.2623 - 4s/epoch - 1ms/step\n",
      "Epoch 95/100\n",
      "2907/2907 - 4s - loss: 521.1532 - mse: 678586.6250 - mae: 521.1532 - 4s/epoch - 1ms/step\n",
      "Epoch 96/100\n",
      "2907/2907 - 4s - loss: 521.2325 - mse: 678273.9375 - mae: 521.2325 - 4s/epoch - 1ms/step\n",
      "Epoch 97/100\n",
      "2907/2907 - 4s - loss: 521.1873 - mse: 678491.2500 - mae: 521.1873 - 4s/epoch - 1ms/step\n",
      "Epoch 98/100\n",
      "2907/2907 - 4s - loss: 521.1638 - mse: 677309.3750 - mae: 521.1638 - 4s/epoch - 1ms/step\n",
      "Epoch 99/100\n",
      "2907/2907 - 4s - loss: 521.1505 - mse: 677894.8125 - mae: 521.1505 - 4s/epoch - 1ms/step\n",
      "Epoch 100/100\n",
      "2907/2907 - 4s - loss: 521.1538 - mse: 677792.1250 - mae: 521.1538 - 4s/epoch - 1ms/step\n"
     ]
    }
   ],
   "source": [
    "# Entrenamiento del modelo\n",
    "cant_epochs = 100\n",
    "historia_modelo_2 = modelo_2.fit(x_train_transform,y_train,epochs=cant_epochs,batch_size=20,verbose=2)"
   ]
  },
  {
   "cell_type": "code",
   "execution_count": 25,
   "id": "81f731da-80ce-461f-973f-a85e68c57442",
   "metadata": {},
   "outputs": [
    {
     "data": {
      "text/plain": [
       "<matplotlib.legend.Legend at 0x7f913c516d60>"
      ]
     },
     "execution_count": 25,
     "metadata": {},
     "output_type": "execute_result"
    },
    {
     "data": {
      "image/png": "[encoded data removed]",
      "text/plain": [
       "<Figure size 432x288 with 1 Axes>"
      ]
     },
     "metadata": {
      "needs_background": "light"
     },
     "output_type": "display_data"
    }
   ],
   "source": [
    "plt.figure()\n",
    "plt.xlabel('Epochs')\n",
    "plt.ylabel('Mean Square Error')\n",
    "plt.plot(range(cant_epochs), historia_modelo_2.history['mse'], label='Train Error')\n",
    "plt.legend()"
   ]
  },
  {
   "cell_type": "code",
   "execution_count": 26,
   "id": "2fa19101-6d5b-49ac-9f3c-ade6a95e7977",
   "metadata": {},
   "outputs": [
    {
     "data": {
      "text/plain": [
       "<matplotlib.legend.Legend at 0x7f913c44fc40>"
      ]
     },
     "execution_count": 26,
     "metadata": {},
     "output_type": "execute_result"
    },
    {
     "data": {
      "image/png": "[encoded data removed]",
      "text/plain": [
       "<Figure size 432x288 with 1 Axes>"
      ]
     },
     "metadata": {
      "needs_background": "light"
     },
     "output_type": "display_data"
    }
   ],
   "source": [
    "plt.figure()\n",
    "plt.xlabel('Epochs')\n",
    "plt.ylabel('Mean Absolute Error')\n",
    "plt.plot(range(cant_epochs), historia_modelo_2.history['mae'], label='Train Error')\n",
    "plt.legend()"
   ]
  },
  {
   "cell_type": "code",
   "execution_count": 27,
   "id": "47c94d79-1ab5-4ea9-9a33-2f175ab20063",
   "metadata": {},
   "outputs": [
    {
     "name": "stdout",
     "output_type": "stream",
     "text": [
      "455/455 [==============================] - 1s 1ms/step\n",
      "Error absoluto medio 553.9187378069531\n",
      "Error cuadrático medio 639954.2783119738\n"
     ]
    }
   ],
   "source": [
    "y_pred = modelo_2.predict(x_test_transform)\n",
    "\n",
    "mae = mean_absolute_error(y_test,y_pred)\n",
    "mse = mean_squared_error(y_test,y_pred)\n",
    "\n",
    "print(f\"Error absoluto medio {mae}\")\n",
    "print(f\"Error cuadrático medio {mse}\")"
   ]
  },
  {
   "cell_type": "markdown",
   "id": "34a36ed6-3053-4c62-8d71-a52d2526c750",
   "metadata": {},
   "source": [
    "La metrica del error cuadratico medio se encuentra en un rango entre 677.000 y 808.000, se incremento el rango.\n",
    "\n",
    "Comparando la prediccion con el target de test, obtenemos como resultado un valor aprox 639.954, mayor que en el modelo anterior"
   ]
  },
  {
   "cell_type": "markdown",
   "id": "0dd27b9a-e1f7-437a-b6de-8e1b438f947e",
   "metadata": {
    "tags": []
   },
   "source": [
    "## Modelo 3\n",
    "\n",
    "Cambio el optimizador por Adam con un learning rate de 0.01"
   ]
  },
  {
   "cell_type": "code",
   "execution_count": 30,
   "id": "e33f40c1-ad6b-411e-a5a1-290032a1669f",
   "metadata": {},
   "outputs": [],
   "source": [
    "d_in=6\n",
    "d_out=1\n",
    "\n",
    "modelo_3 = keras.Sequential([\n",
    "    keras.layers.Dense(6,input_shape=(d_in,), activation=\"relu\"),\n",
    "    \n",
    "    keras.layers.Dense(d_out)])"
   ]
  },
  {
   "cell_type": "code",
   "execution_count": 31,
   "id": "dbfb9d24-14d0-47ff-89cb-aa8557c0d344",
   "metadata": {},
   "outputs": [
    {
     "name": "stdout",
     "output_type": "stream",
     "text": [
      "Model: \"sequential_3\"\n",
      "_________________________________________________________________\n",
      " Layer (type)                Output Shape              Param #   \n",
      "=================================================================\n",
      " dense_6 (Dense)             (None, 6)                 42        \n",
      "                                                                 \n",
      " dense_7 (Dense)             (None, 1)                 7         \n",
      "                                                                 \n",
      "=================================================================\n",
      "Total params: 49\n",
      "Trainable params: 49\n",
      "Non-trainable params: 0\n",
      "_________________________________________________________________\n"
     ]
    }
   ],
   "source": [
    "modelo_3.summary()"
   ]
  },
  {
   "cell_type": "code",
   "execution_count": 32,
   "id": "ad8579a7-8171-40b3-9624-08b83bfdad4c",
   "metadata": {},
   "outputs": [],
   "source": [
    "modelo_3.compile(\n",
    "      optimizer=keras.optimizers.Adam(learning_rate=0.01, beta_1=0.9, beta_2=0.999), \n",
    "      loss='mae', \n",
    "      metrics=['mse','mae'], \n",
    ")"
   ]
  },
  {
   "cell_type": "code",
   "execution_count": 33,
   "id": "7ce75237-ae6e-46d1-bb31-62e8bc6f6038",
   "metadata": {
    "tags": []
   },
   "outputs": [
    {
     "name": "stdout",
     "output_type": "stream",
     "text": [
      "Epoch 1/100\n",
      "5814/5814 - 8s - loss: 929.8745 - mse: 1798087.0000 - mae: 929.8745 - 8s/epoch - 1ms/step\n",
      "Epoch 2/100\n",
      "5814/5814 - 7s - loss: 562.9066 - mse: 792546.4375 - mae: 562.9066 - 7s/epoch - 1ms/step\n",
      "Epoch 3/100\n",
      "5814/5814 - 7s - loss: 554.0801 - mse: 778759.0000 - mae: 554.0801 - 7s/epoch - 1ms/step\n",
      "Epoch 4/100\n",
      "5814/5814 - 7s - loss: 550.9157 - mse: 771859.2500 - mae: 550.9157 - 7s/epoch - 1ms/step\n",
      "Epoch 5/100\n",
      "5814/5814 - 8s - loss: 549.2285 - mse: 769709.0000 - mae: 549.2285 - 8s/epoch - 1ms/step\n",
      "Epoch 6/100\n",
      "5814/5814 - 8s - loss: 548.1538 - mse: 765824.1875 - mae: 548.1538 - 8s/epoch - 1ms/step\n",
      "Epoch 7/100\n",
      "5814/5814 - 7s - loss: 547.3018 - mse: 762056.4375 - mae: 547.3018 - 7s/epoch - 1ms/step\n",
      "Epoch 8/100\n",
      "5814/5814 - 8s - loss: 546.3475 - mse: 758165.4375 - mae: 546.3475 - 8s/epoch - 1ms/step\n",
      "Epoch 9/100\n",
      "5814/5814 - 8s - loss: 545.6532 - mse: 755210.2500 - mae: 545.6532 - 8s/epoch - 1ms/step\n",
      "Epoch 10/100\n",
      "5814/5814 - 7s - loss: 543.9828 - mse: 748956.4375 - mae: 543.9828 - 7s/epoch - 1ms/step\n",
      "Epoch 11/100\n",
      "5814/5814 - 7s - loss: 542.4809 - mse: 744247.1250 - mae: 542.4809 - 7s/epoch - 1ms/step\n",
      "Epoch 12/100\n",
      "5814/5814 - 8s - loss: 541.0640 - mse: 740201.1875 - mae: 541.0640 - 8s/epoch - 1ms/step\n",
      "Epoch 13/100\n",
      "5814/5814 - 7s - loss: 539.7950 - mse: 737114.9375 - mae: 539.7950 - 7s/epoch - 1ms/step\n",
      "Epoch 14/100\n",
      "5814/5814 - 7s - loss: 538.7269 - mse: 732610.0000 - mae: 538.7269 - 7s/epoch - 1ms/step\n",
      "Epoch 15/100\n",
      "5814/5814 - 7s - loss: 537.3545 - mse: 728247.3125 - mae: 537.3545 - 7s/epoch - 1ms/step\n",
      "Epoch 16/100\n",
      "5814/5814 - 7s - loss: 536.3236 - mse: 724507.9375 - mae: 536.3236 - 7s/epoch - 1ms/step\n",
      "Epoch 17/100\n",
      "5814/5814 - 7s - loss: 535.5618 - mse: 722239.5000 - mae: 535.5618 - 7s/epoch - 1ms/step\n",
      "Epoch 18/100\n",
      "5814/5814 - 7s - loss: 534.9712 - mse: 720062.3750 - mae: 534.9712 - 7s/epoch - 1ms/step\n",
      "Epoch 19/100\n",
      "5814/5814 - 8s - loss: 534.4894 - mse: 718302.5000 - mae: 534.4894 - 8s/epoch - 1ms/step\n",
      "Epoch 20/100\n",
      "5814/5814 - 8s - loss: 534.1013 - mse: 716618.4375 - mae: 534.1013 - 8s/epoch - 1ms/step\n",
      "Epoch 21/100\n",
      "5814/5814 - 8s - loss: 533.8896 - mse: 716190.3125 - mae: 533.8896 - 8s/epoch - 1ms/step\n",
      "Epoch 22/100\n",
      "5814/5814 - 8s - loss: 533.3672 - mse: 714025.1875 - mae: 533.3672 - 8s/epoch - 1ms/step\n",
      "Epoch 23/100\n",
      "5814/5814 - 8s - loss: 532.9153 - mse: 710668.0000 - mae: 532.9153 - 8s/epoch - 1ms/step\n",
      "Epoch 24/100\n",
      "5814/5814 - 7s - loss: 532.4301 - mse: 710218.0000 - mae: 532.4301 - 7s/epoch - 1ms/step\n",
      "Epoch 25/100\n",
      "5814/5814 - 7s - loss: 531.8854 - mse: 708171.3125 - mae: 531.8854 - 7s/epoch - 1ms/step\n",
      "Epoch 26/100\n",
      "5814/5814 - 7s - loss: 531.6939 - mse: 706981.2500 - mae: 531.6939 - 7s/epoch - 1ms/step\n",
      "Epoch 27/100\n",
      "5814/5814 - 7s - loss: 531.2558 - mse: 705390.0000 - mae: 531.2558 - 7s/epoch - 1ms/step\n",
      "Epoch 28/100\n",
      "5814/5814 - 7s - loss: 530.8635 - mse: 702820.8125 - mae: 530.8635 - 7s/epoch - 1ms/step\n",
      "Epoch 29/100\n",
      "5814/5814 - 7s - loss: 530.4070 - mse: 702101.3750 - mae: 530.4070 - 7s/epoch - 1ms/step\n",
      "Epoch 30/100\n",
      "5814/5814 - 8s - loss: 530.2716 - mse: 700939.1875 - mae: 530.2716 - 8s/epoch - 1ms/step\n",
      "Epoch 31/100\n",
      "5814/5814 - 8s - loss: 529.8683 - mse: 699410.4375 - mae: 529.8683 - 8s/epoch - 1ms/step\n",
      "Epoch 32/100\n",
      "5814/5814 - 7s - loss: 529.6208 - mse: 698478.8750 - mae: 529.6208 - 7s/epoch - 1ms/step\n",
      "Epoch 33/100\n",
      "5814/5814 - 7s - loss: 529.3555 - mse: 697765.1875 - mae: 529.3555 - 7s/epoch - 1ms/step\n",
      "Epoch 34/100\n",
      "5814/5814 - 7s - loss: 528.9254 - mse: 696033.8125 - mae: 528.9254 - 7s/epoch - 1ms/step\n",
      "Epoch 35/100\n",
      "5814/5814 - 7s - loss: 528.7438 - mse: 695493.0625 - mae: 528.7438 - 7s/epoch - 1ms/step\n",
      "Epoch 36/100\n",
      "5814/5814 - 7s - loss: 528.3318 - mse: 694380.0625 - mae: 528.3318 - 7s/epoch - 1ms/step\n",
      "Epoch 37/100\n",
      "5814/5814 - 8s - loss: 528.0393 - mse: 693146.3125 - mae: 528.0393 - 8s/epoch - 1ms/step\n",
      "Epoch 38/100\n",
      "5814/5814 - 8s - loss: 527.5866 - mse: 691725.6250 - mae: 527.5866 - 8s/epoch - 1ms/step\n",
      "Epoch 39/100\n",
      "5814/5814 - 7s - loss: 527.1790 - mse: 690622.0625 - mae: 527.1790 - 7s/epoch - 1ms/step\n",
      "Epoch 40/100\n",
      "5814/5814 - 7s - loss: 526.7556 - mse: 689743.4375 - mae: 526.7556 - 7s/epoch - 1ms/step\n",
      "Epoch 41/100\n",
      "5814/5814 - 8s - loss: 526.4514 - mse: 687511.3125 - mae: 526.4514 - 8s/epoch - 1ms/step\n",
      "Epoch 42/100\n",
      "5814/5814 - 7s - loss: 526.1131 - mse: 687302.6250 - mae: 526.1131 - 7s/epoch - 1ms/step\n",
      "Epoch 43/100\n",
      "5814/5814 - 7s - loss: 525.5543 - mse: 685687.0625 - mae: 525.5543 - 7s/epoch - 1ms/step\n",
      "Epoch 44/100\n",
      "5814/5814 - 7s - loss: 525.2729 - mse: 684357.9375 - mae: 525.2729 - 7s/epoch - 1ms/step\n",
      "Epoch 45/100\n",
      "5814/5814 - 7s - loss: 524.6997 - mse: 683815.1250 - mae: 524.6997 - 7s/epoch - 1ms/step\n",
      "Epoch 46/100\n",
      "5814/5814 - 8s - loss: 524.3906 - mse: 682768.3750 - mae: 524.3906 - 8s/epoch - 1ms/step\n",
      "Epoch 47/100\n",
      "5814/5814 - 7s - loss: 523.6687 - mse: 680521.3750 - mae: 523.6687 - 7s/epoch - 1ms/step\n",
      "Epoch 48/100\n",
      "5814/5814 - 8s - loss: 523.2858 - mse: 679138.5000 - mae: 523.2858 - 8s/epoch - 1ms/step\n",
      "Epoch 49/100\n",
      "5814/5814 - 7s - loss: 522.6569 - mse: 677730.1250 - mae: 522.6569 - 7s/epoch - 1ms/step\n",
      "Epoch 50/100\n",
      "5814/5814 - 7s - loss: 522.3438 - mse: 676482.6875 - mae: 522.3438 - 7s/epoch - 1ms/step\n",
      "Epoch 51/100\n",
      "5814/5814 - 7s - loss: 521.9353 - mse: 675210.5000 - mae: 521.9353 - 7s/epoch - 1ms/step\n",
      "Epoch 52/100\n",
      "5814/5814 - 7s - loss: 521.6673 - mse: 673542.3750 - mae: 521.6674 - 7s/epoch - 1ms/step\n",
      "Epoch 53/100\n",
      "5814/5814 - 8s - loss: 521.3188 - mse: 672369.1250 - mae: 521.3188 - 8s/epoch - 1ms/step\n",
      "Epoch 54/100\n",
      "5814/5814 - 8s - loss: 521.0035 - mse: 671600.2500 - mae: 521.0035 - 8s/epoch - 1ms/step\n",
      "Epoch 55/100\n",
      "5814/5814 - 7s - loss: 520.6795 - mse: 670970.8125 - mae: 520.6795 - 7s/epoch - 1ms/step\n",
      "Epoch 56/100\n",
      "5814/5814 - 7s - loss: 520.3073 - mse: 669981.7500 - mae: 520.3073 - 7s/epoch - 1ms/step\n",
      "Epoch 57/100\n",
      "5814/5814 - 7s - loss: 519.8372 - mse: 669620.6875 - mae: 519.8372 - 7s/epoch - 1ms/step\n",
      "Epoch 58/100\n",
      "5814/5814 - 7s - loss: 519.4092 - mse: 667235.2500 - mae: 519.4092 - 7s/epoch - 1ms/step\n",
      "Epoch 59/100\n",
      "5814/5814 - 7s - loss: 519.0315 - mse: 666503.7500 - mae: 519.0315 - 7s/epoch - 1ms/step\n",
      "Epoch 60/100\n",
      "5814/5814 - 7s - loss: 518.6713 - mse: 666260.7500 - mae: 518.6713 - 7s/epoch - 1ms/step\n",
      "Epoch 61/100\n",
      "5814/5814 - 7s - loss: 518.5224 - mse: 665172.9375 - mae: 518.5224 - 7s/epoch - 1ms/step\n",
      "Epoch 62/100\n",
      "5814/5814 - 7s - loss: 518.2611 - mse: 664992.2500 - mae: 518.2611 - 7s/epoch - 1ms/step\n",
      "Epoch 63/100\n",
      "5814/5814 - 7s - loss: 518.0876 - mse: 663956.3750 - mae: 518.0876 - 7s/epoch - 1ms/step\n",
      "Epoch 64/100\n",
      "5814/5814 - 7s - loss: 517.8843 - mse: 663536.9375 - mae: 517.8843 - 7s/epoch - 1ms/step\n",
      "Epoch 65/100\n",
      "5814/5814 - 7s - loss: 517.6739 - mse: 662863.9375 - mae: 517.6739 - 7s/epoch - 1ms/step\n",
      "Epoch 66/100\n",
      "5814/5814 - 7s - loss: 517.5522 - mse: 662966.6250 - mae: 517.5522 - 7s/epoch - 1ms/step\n",
      "Epoch 67/100\n",
      "5814/5814 - 7s - loss: 517.3448 - mse: 661967.4375 - mae: 517.3448 - 7s/epoch - 1ms/step\n",
      "Epoch 68/100\n",
      "5814/5814 - 8s - loss: 517.1743 - mse: 660924.1875 - mae: 517.1743 - 8s/epoch - 1ms/step\n",
      "Epoch 69/100\n",
      "5814/5814 - 8s - loss: 517.2291 - mse: 661815.2500 - mae: 517.2291 - 8s/epoch - 1ms/step\n",
      "Epoch 70/100\n",
      "5814/5814 - 10s - loss: 516.8986 - mse: 661184.9375 - mae: 516.8986 - 10s/epoch - 2ms/step\n",
      "Epoch 71/100\n",
      "5814/5814 - 10s - loss: 516.7387 - mse: 660092.6250 - mae: 516.7387 - 10s/epoch - 2ms/step\n",
      "Epoch 72/100\n",
      "5814/5814 - 11s - loss: 516.7269 - mse: 660572.5000 - mae: 516.7269 - 11s/epoch - 2ms/step\n",
      "Epoch 73/100\n",
      "5814/5814 - 9s - loss: 516.4499 - mse: 659514.2500 - mae: 516.4499 - 9s/epoch - 1ms/step\n",
      "Epoch 74/100\n",
      "5814/5814 - 9s - loss: 516.2535 - mse: 658784.8750 - mae: 516.2535 - 9s/epoch - 2ms/step\n",
      "Epoch 75/100\n",
      "5814/5814 - 10s - loss: 516.1094 - mse: 657536.6875 - mae: 516.1094 - 10s/epoch - 2ms/step\n",
      "Epoch 76/100\n",
      "5814/5814 - 8s - loss: 515.9019 - mse: 657061.1875 - mae: 515.9019 - 8s/epoch - 1ms/step\n",
      "Epoch 77/100\n",
      "5814/5814 - 9s - loss: 515.7629 - mse: 656081.9375 - mae: 515.7629 - 9s/epoch - 1ms/step\n",
      "Epoch 78/100\n",
      "5814/5814 - 8s - loss: 515.6821 - mse: 654789.1875 - mae: 515.6821 - 8s/epoch - 1ms/step\n",
      "Epoch 79/100\n",
      "5814/5814 - 8s - loss: 515.6553 - mse: 656022.7500 - mae: 515.6553 - 8s/epoch - 1ms/step\n",
      "Epoch 80/100\n",
      "5814/5814 - 7s - loss: 515.5703 - mse: 655330.7500 - mae: 515.5703 - 7s/epoch - 1ms/step\n",
      "Epoch 81/100\n",
      "5814/5814 - 7s - loss: 515.4612 - mse: 654080.9375 - mae: 515.4612 - 7s/epoch - 1ms/step\n",
      "Epoch 82/100\n",
      "5814/5814 - 7s - loss: 515.4735 - mse: 654634.2500 - mae: 515.4735 - 7s/epoch - 1ms/step\n",
      "Epoch 83/100\n",
      "5814/5814 - 7s - loss: 515.2506 - mse: 653341.5000 - mae: 515.2506 - 7s/epoch - 1ms/step\n",
      "Epoch 84/100\n",
      "5814/5814 - 8s - loss: 515.2942 - mse: 653284.6250 - mae: 515.2942 - 8s/epoch - 1ms/step\n",
      "Epoch 85/100\n",
      "5814/5814 - 7s - loss: 515.1896 - mse: 653242.4375 - mae: 515.1896 - 7s/epoch - 1ms/step\n",
      "Epoch 86/100\n",
      "5814/5814 - 8s - loss: 515.2452 - mse: 652480.1250 - mae: 515.2452 - 8s/epoch - 1ms/step\n",
      "Epoch 87/100\n",
      "5814/5814 - 7s - loss: 515.1553 - mse: 652047.0000 - mae: 515.1553 - 7s/epoch - 1ms/step\n",
      "Epoch 88/100\n",
      "5814/5814 - 7s - loss: 515.1556 - mse: 652204.0625 - mae: 515.1556 - 7s/epoch - 1ms/step\n",
      "Epoch 89/100\n",
      "5814/5814 - 7s - loss: 515.1061 - mse: 652522.0000 - mae: 515.1061 - 7s/epoch - 1ms/step\n",
      "Epoch 90/100\n",
      "5814/5814 - 7s - loss: 515.0003 - mse: 652316.3750 - mae: 515.0003 - 7s/epoch - 1ms/step\n",
      "Epoch 91/100\n",
      "5814/5814 - 7s - loss: 515.0602 - mse: 651227.2500 - mae: 515.0602 - 7s/epoch - 1ms/step\n",
      "Epoch 92/100\n",
      "5814/5814 - 8s - loss: 515.0123 - mse: 651429.2500 - mae: 515.0123 - 8s/epoch - 1ms/step\n",
      "Epoch 93/100\n",
      "5814/5814 - 7s - loss: 514.9128 - mse: 650804.0000 - mae: 514.9128 - 7s/epoch - 1ms/step\n",
      "Epoch 94/100\n",
      "5814/5814 - 8s - loss: 514.8990 - mse: 651298.8125 - mae: 514.8990 - 8s/epoch - 1ms/step\n",
      "Epoch 95/100\n",
      "5814/5814 - 8s - loss: 514.8578 - mse: 651466.5625 - mae: 514.8578 - 8s/epoch - 1ms/step\n",
      "Epoch 96/100\n",
      "5814/5814 - 7s - loss: 514.9327 - mse: 650691.4375 - mae: 514.9327 - 7s/epoch - 1ms/step\n",
      "Epoch 97/100\n",
      "5814/5814 - 7s - loss: 514.7991 - mse: 650102.1250 - mae: 514.7991 - 7s/epoch - 1ms/step\n",
      "Epoch 98/100\n",
      "5814/5814 - 8s - loss: 514.5731 - mse: 649436.0000 - mae: 514.5731 - 8s/epoch - 1ms/step\n",
      "Epoch 99/100\n",
      "5814/5814 - 7s - loss: 514.5786 - mse: 649089.7500 - mae: 514.5786 - 7s/epoch - 1ms/step\n",
      "Epoch 100/100\n",
      "5814/5814 - 8s - loss: 514.4700 - mse: 648931.1875 - mae: 514.4700 - 8s/epoch - 1ms/step\n"
     ]
    }
   ],
   "source": [
    "# Entrenamiento del modelo\n",
    "cant_epochs = 100\n",
    "historia_modelo_3 = modelo_3.fit(x_train_transform,y_train,epochs=cant_epochs,batch_size=10,verbose=2)"
   ]
  },
  {
   "cell_type": "code",
   "execution_count": 34,
   "id": "1a009f8a-36ad-40e8-b5c6-7e5a81724aee",
   "metadata": {},
   "outputs": [
    {
     "data": {
      "text/plain": [
       "<matplotlib.legend.Legend at 0x7f913c2dfd00>"
      ]
     },
     "execution_count": 34,
     "metadata": {},
     "output_type": "execute_result"
    },
    {
     "data": {
      "image/png": "[encoded data removed]",
      "text/plain": [
       "<Figure size 432x288 with 1 Axes>"
      ]
     },
     "metadata": {
      "needs_background": "light"
     },
     "output_type": "display_data"
    }
   ],
   "source": [
    "plt.figure()\n",
    "plt.xlabel('Epochs')\n",
    "plt.ylabel('Mean Square Error')\n",
    "plt.plot(range(cant_epochs), historia_modelo_3.history['mse'], label='Train Error')\n",
    "plt.legend()"
   ]
  },
  {
   "cell_type": "code",
   "execution_count": 35,
   "id": "35f5186e-3ff8-43eb-a3ac-66c45691eaf4",
   "metadata": {},
   "outputs": [
    {
     "data": {
      "text/plain": [
       "<matplotlib.legend.Legend at 0x7f913c2afc40>"
      ]
     },
     "execution_count": 35,
     "metadata": {},
     "output_type": "execute_result"
    },
    {
     "data": {
      "image/png": "[encoded data removed]",
      "text/plain": [
       "<Figure size 432x288 with 1 Axes>"
      ]
     },
     "metadata": {
      "needs_background": "light"
     },
     "output_type": "display_data"
    }
   ],
   "source": [
    "plt.figure()\n",
    "plt.xlabel('Epochs')\n",
    "plt.ylabel('Mean Absolute Error')\n",
    "plt.plot(range(cant_epochs), historia_modelo_3.history['mae'], label='Train Error')\n",
    "plt.legend()"
   ]
  },
  {
   "cell_type": "code",
   "execution_count": 36,
   "id": "85916f5a-e08f-4098-98ff-ecbb99363349",
   "metadata": {},
   "outputs": [
    {
     "name": "stdout",
     "output_type": "stream",
     "text": [
      "455/455 [==============================] - 1s 1ms/step\n",
      "Error absoluto medio 628.1474362372534\n",
      "Error cuadrático medio 755367.4572533136\n"
     ]
    }
   ],
   "source": [
    "y_pred = modelo_3.predict(x_test_transform)\n",
    "\n",
    "mae = mean_absolute_error(y_test,y_pred)\n",
    "mse = mean_squared_error(y_test,y_pred)\n",
    "\n",
    "print(f\"Error absoluto medio {mae}\")\n",
    "print(f\"Error cuadrático medio {mse}\")"
   ]
  },
  {
   "cell_type": "markdown",
   "id": "3311d103-d364-40fd-9d8b-06c84bfdec77",
   "metadata": {},
   "source": [
    "La metrica del error cuadratico medio se encuentra en un rango entre 648.000 y 792.000, nuevamente el rango es mayor.\n",
    "\n",
    "Obtenemos como resultado un valor aprox 755.367, es decir, que en este modelo se incremento mas."
   ]
  },
  {
   "cell_type": "code",
   "execution_count": null,
   "id": "402d55b8-a0ad-4165-aea9-d8b21d8d7e80",
   "metadata": {},
   "outputs": [],
   "source": [
    "d_in=6\n",
    "d_out=1\n",
    "\n",
    "modelo_5 = keras.Sequential([\n",
    "    \n",
    "    keras.layers.Dense(6,input_shape=(d_in,), activation=\"relu\"),\n",
    "    #keras.layers.Dense(6,input_shape=(d_in,), activation=\"relu\", kernel_initializer='normal'),\n",
    "    \n",
    "    keras.layers.Dense(3, activation=\"relu\"),\n",
    "    \n",
    "    keras.layers.Dense(d_out)])"
   ]
  },
  {
   "cell_type": "code",
   "execution_count": null,
   "id": "1cad0118-3e47-4838-8845-d87ac96a097e",
   "metadata": {},
   "outputs": [],
   "source": [
    "modelo_5.summary()"
   ]
  },
  {
   "cell_type": "code",
   "execution_count": null,
   "id": "6f1b8321-84c5-4486-bf70-b6eb6066faac",
   "metadata": {},
   "outputs": [],
   "source": [
    "modelo_5.compile(\n",
    "      #optimizer=keras.optimizers.SGD(learning_rate=0.01), \n",
    "      optimizer=keras.optimizers.RMSprop(learning_rate=0.01, rho=0.9), \n",
    "      loss='mae', \n",
    "      metrics=['mse','mae'], \n",
    ")"
   ]
  },
  {
   "cell_type": "code",
   "execution_count": null,
   "id": "34deef33-9f27-497f-b7e4-3a607a4c1b20",
   "metadata": {
    "tags": []
   },
   "outputs": [],
   "source": [
    "# Entrenamiento del modelo\n",
    "modelo_5.fit(x_train_transform,y_train,epochs=100,batch_size=32,verbose=2)"
   ]
  },
  {
   "cell_type": "code",
   "execution_count": null,
   "id": "542bc35e-1de4-4593-8b70-f9ff92aad3bd",
   "metadata": {},
   "outputs": [],
   "source": [
    "y_pred = modelo_5.predict(x_test_transform)\n",
    "\n",
    "mae = mean_absolute_error(y_test,y_pred)\n",
    "mse = mean_squared_error(y_test,y_pred)\n",
    "\n",
    "print(f\"Error absoluto medio {mae}\")\n",
    "print(f\"Error cuadrático medio {mse}\")"
   ]
  },
  {
   "cell_type": "markdown",
   "id": "3b379437-fd18-4421-981f-db149bfa34ed",
   "metadata": {},
   "source": [
    "# Conclusion\n",
    "----\n"
   ]
  },
  {
   "cell_type": "markdown",
   "id": "6cff798b-2c1f-4f86-8de3-a3d0d1e66ecd",
   "metadata": {},
   "source": [
    "Obtuvimos mejores metricas con el modelo 1 donde los resultados fueron:\n",
    "\n",
    "+ Error absoluto medio (MAE): 549.96\n",
    "+ Error cuadrático medio (MSE): 634414.3"
   ]
  }
 ],
 "metadata": {
  "kernelspec": {
   "display_name": "Python 3 (ipykernel)",
   "language": "python",
   "name": "python3"
  },
  "language_info": {
   "codemirror_mode": {
    "name": "ipython",
    "version": 3
   },
   "file_extension": ".py",
   "mimetype": "text/x-python",
   "name": "python",
   "nbconvert_exporter": "python",
   "pygments_lexer": "ipython3",
   "version": "3.8.10"
  }
 },
 "nbformat": 4,
 "nbformat_minor": 5
}
