{
 "cells": [
  {
   "cell_type": "markdown",
   "id": "aa302853-9918-4c2c-a45a-f57f1b6c3a95",
   "metadata": {},
   "source": [
    "# <center>Organizaci&oacute;n de Datos</center>\n",
    "#### <center>C&aacute;tedra Ing. Rodriguez, Juan Manuel </center>\n",
    "\n",
    "## <center>Trabajo Práctico 2:</center>\n",
    "### <center> Propiedades en Venta </center>\n",
    "### <center>  Grupo 18</center>\n",
    "\n",
    "\n",
    "#### **Integrantes:**\n",
    "\n",
    "* Analía Acevedo\n",
    "* Santiago Daniel Marczewski Neudeck\n",
    "* Lucia Belén Napoli\n",
    "* Brayan Ricaldi"
   ]
  },
  {
   "cell_type": "code",
   "execution_count": 1,
   "id": "4621e92d-429a-41cd-8c6d-279e8baccf5b",
   "metadata": {},
   "outputs": [
    {
     "name": "stderr",
     "output_type": "stream",
     "text": [
      "/home/lucia/.local/lib/python3.8/site-packages/pandas/core/computation/expressions.py:20: UserWarning: Pandas requires version '2.7.3' or newer of 'numexpr' (version '2.7.1' currently installed).\n",
      "  from pandas.core.computation.check import NUMEXPR_INSTALLED\n",
      "2022-12-08 21:49:29.541673: I tensorflow/core/platform/cpu_feature_guard.cc:193] This TensorFlow binary is optimized with oneAPI Deep Neural Network Library (oneDNN) to use the following CPU instructions in performance-critical operations:  AVX2 FMA\n",
      "To enable them in other operations, rebuild TensorFlow with the appropriate compiler flags.\n",
      "2022-12-08 21:49:29.754332: W tensorflow/compiler/xla/stream_executor/platform/default/dso_loader.cc:64] Could not load dynamic library 'libcudart.so.11.0'; dlerror: libcudart.so.11.0: cannot open shared object file: No such file or directory\n",
      "2022-12-08 21:49:29.754358: I tensorflow/compiler/xla/stream_executor/cuda/cudart_stub.cc:29] Ignore above cudart dlerror if you do not have a GPU set up on your machine.\n",
      "2022-12-08 21:49:30.785947: W tensorflow/compiler/xla/stream_executor/platform/default/dso_loader.cc:64] Could not load dynamic library 'libnvinfer.so.7'; dlerror: libnvinfer.so.7: cannot open shared object file: No such file or directory\n",
      "2022-12-08 21:49:30.786416: W tensorflow/compiler/xla/stream_executor/platform/default/dso_loader.cc:64] Could not load dynamic library 'libnvinfer_plugin.so.7'; dlerror: libnvinfer_plugin.so.7: cannot open shared object file: No such file or directory\n",
      "2022-12-08 21:49:30.786467: W tensorflow/compiler/tf2tensorrt/utils/py_utils.cc:38] TF-TRT Warning: Cannot dlopen some TensorRT libraries. If you would like to use Nvidia GPU with TensorRT, please make sure the missing libraries mentioned above are installed properly.\n"
     ]
    }
   ],
   "source": [
    "import pandas as pd\n",
    "import matplotlib.pyplot as plt\n",
    "import seaborn as sns\n",
    "import numpy as np\n",
    "import sklearn.preprocessing as skp\n",
    "\n",
    "from sklearn.impute import KNNImputer, SimpleImputer\n",
    "from sklearn.preprocessing import (\n",
    "    KBinsDiscretizer,\n",
    "    LabelEncoder,\n",
    "    MinMaxScaler,\n",
    "    Normalizer,\n",
    "    OneHotEncoder,\n",
    "    OrdinalEncoder,\n",
    "    PowerTransformer,\n",
    "    RobustScaler,\n",
    "    StandardScaler,\n",
    ")\n",
    "\n",
    "import warnings\n",
    "\n",
    "warnings.simplefilter(action=\"ignore\", category=FutureWarning)\n",
    "from preprocessing import preprocesamiento\n",
    "\n",
    "from sklearn.model_selection import RandomizedSearchCV\n",
    "from joblib import dump, load\n",
    "\n",
    "pd.options.display.max_columns = None\n",
    "\n",
    "from sklearn.ensemble import RandomForestClassifier \n",
    "from sklearn.linear_model import LogisticRegression \n",
    "from sklearn.neighbors import KNeighborsClassifier\n",
    "from sklearn.tree import DecisionTreeClassifier\n",
    "from sklearn.svm import SVC\n",
    "from sklearn.neural_network import MLPClassifier\n",
    "from sklearn.linear_model import LogisticRegressionCV\n",
    "from sklearn.ensemble import VotingClassifier\n",
    "from sklearn.model_selection import train_test_split\n",
    "from sklearn.metrics import accuracy_score, f1_score\n",
    "from sklearn.datasets import make_classification\n",
    "from collections import defaultdict\n",
    "from sklearn.model_selection import GridSearchCV\n",
    "\n",
    "import plotly.graph_objects as go\n",
    "%matplotlib inline\n",
    "\n",
    "\n",
    "from sklearn.model_selection import cross_val_score, RepeatedStratifiedKFold\n",
    "\n",
    "from sklearn.metrics import mean_absolute_error, mean_squared_error\n",
    "from sklearn.preprocessing import StandardScaler\n",
    "\n",
    "import tensorflow as tf\n",
    "from tensorflow import keras\n",
    "import keras_tuner as kt\n",
    "import visualkeras\n",
    "from keras.wrappers.scikit_learn import KerasClassifier\n",
    "\n",
    "np.random.seed(1)\n",
    "tf.random.set_seed(1)\n",
    "\n",
    "import warnings\n",
    "warnings.filterwarnings(\"ignore\", category=DeprecationWarning) "
   ]
  },
  {
   "cell_type": "markdown",
   "id": "8201a314-d045-466f-975e-1b5c0b1bbdf7",
   "metadata": {},
   "source": [
    "Descargo los datos para el modelo 1"
   ]
  },
  {
   "cell_type": "code",
   "execution_count": 2,
   "id": "d5c9c4f4-dfc4-4170-a50d-fca9a2c5a295",
   "metadata": {},
   "outputs": [],
   "source": [
    "_x_train_model = pd.read_csv('./DataSet/x_train')\n",
    "_x_train_model.drop(columns=['Unnamed: 0'],inplace=True)\n",
    "_y_train_model = pd.read_csv('./DataSet/y_train')\n",
    "_y_train_model.drop(columns=['Unnamed: 0'],inplace=True)\n",
    "_x_test_model = pd.read_csv('./DataSet/x_test')\n",
    "_x_test_model.drop(columns=['Unnamed: 0'],inplace=True)\n",
    "_y_test_model = pd.read_csv('./DataSet/y_test')\n",
    "_y_test_model.drop(columns=['Unnamed: 0'],inplace=True)\n",
    "_y_train_model.rename(columns={'0':'pxm2'}, inplace=True)\n",
    "_y_test_model.rename(columns={'0':'pxm2'}, inplace=True)"
   ]
  },
  {
   "cell_type": "markdown",
   "id": "a461cbc9-30b2-4c93-8ee6-393c575c0ad9",
   "metadata": {},
   "source": [
    "# Redes neuronales"
   ]
  },
  {
   "cell_type": "markdown",
   "id": "96e435cc-353a-430e-a974-080d82677591",
   "metadata": {},
   "source": [
    "Construir dos modelos de redes neuronales, uno para regresión y otro para clasificación,\n",
    "considerando los datasets creados en el TP1. Mejorar estos modelos de redes\n",
    "neuronales a través de la búsqueda de arquitectura e hiperparámetros adecuados. Se\n",
    "pide:\n",
    "\n",
    "● Regresión: predecir el precio de la propiedad y utilizar como métrica de\n",
    "evaluación el error cuadrático medio.\n",
    "\n",
    "● Clasificación: predecir el atributo tipo_precio creado en el TP 1 y utilizar como\n",
    "métricas precisión, recall y F1-Score.\n"
   ]
  },
  {
   "cell_type": "markdown",
   "id": "1137cdcf-4193-4617-b8a6-e0ec64465393",
   "metadata": {
    "id": "NTFyS4teZKip",
    "tags": []
   },
   "source": [
    "# Modelo de Redes Neuronales para regresión"
   ]
  },
  {
   "cell_type": "markdown",
   "id": "2b7619e8-9907-495e-8814-4e840dc4b93f",
   "metadata": {},
   "source": [
    "Los hiperparametros a buscar son los siguientes:\n",
    "\n",
    "- **Función de activación:** relu, tanh\n",
    "- **Cantidad de capas:** Es la cantidad de capas que tendrá la red neuronal. Tendremos una capa input, x ocultas y una capa de salida.\n",
    "- **Cantidad de neuronas por capa:** Tendremos una neurona en la capa de salida porque queremos predecir un valor numerico. En la capa de entrada tendremos 8 neuronas, la cantidad de features que tiene el dataset.\n",
    "- **Optimizador:** Un optimizador es una implementación concreta del algoritmo de descenso por gradiente dentro de backpropagation.\n",
    "    - SGD (Stochastic Gradient Descent): Backpropagation simple, sin ningún tipo de optimización. \n",
    "    - Adam (Adaptive moment estimation): Hace un seguimiento de una media de decaimiento exponencial de gradientes pasados y de gradientes cuadrados pasados.\n",
    "- **Función de perdida:** Es la función utilizada por el optimizador para minimizar. En regresion utilizaremos Mean Absolute Error (MAE)\n",
    "- **Learning rate o tasa de aprendizaje:** Indica qué tan rápido se va descediendo en la función de costo, qué tan rápido va acercandose al minimo local o global.\n",
    "- **Metricas:** Se van calculando en cada iteracion o batch. Utilizaremos Mean Squared Error (MSE) y Mean Absolute Error (MAE).\n",
    "- **Cantidad de epochs:** Es la cantidad de iteraciones que tendrá el entrenamiento."
   ]
  },
  {
   "cell_type": "markdown",
   "id": "88fb85d3-ea52-4510-bf7b-678182269f29",
   "metadata": {},
   "source": [
    "Ejecutamos una copia de los modelos"
   ]
  },
  {
   "cell_type": "code",
   "execution_count": 3,
   "id": "2b05f0ca-d239-4a9e-8378-3be56344ae3e",
   "metadata": {},
   "outputs": [],
   "source": [
    "x_train = _x_train_model.copy()\n",
    "y_train = _y_train_model.copy()\n",
    "x_test = _x_test_model.copy()\n",
    "y_test = _y_test_model.copy()"
   ]
  },
  {
   "cell_type": "code",
   "execution_count": 4,
   "id": "34052511-d86b-466d-8b26-a204b5756e7f",
   "metadata": {},
   "outputs": [
    {
     "data": {
      "text/html": [
       "<div>\n",
       "<style scoped>\n",
       "    .dataframe tbody tr th:only-of-type {\n",
       "        vertical-align: middle;\n",
       "    }\n",
       "\n",
       "    .dataframe tbody tr th {\n",
       "        vertical-align: top;\n",
       "    }\n",
       "\n",
       "    .dataframe thead th {\n",
       "        text-align: right;\n",
       "    }\n",
       "</style>\n",
       "<table border=\"1\" class=\"dataframe\">\n",
       "  <thead>\n",
       "    <tr style=\"text-align: right;\">\n",
       "      <th></th>\n",
       "      <th>latitud</th>\n",
       "      <th>longitud</th>\n",
       "      <th>ambientes</th>\n",
       "      <th>dormitorios</th>\n",
       "      <th>superficie_cubierta</th>\n",
       "      <th>comuna</th>\n",
       "      <th>Departamento</th>\n",
       "      <th>PH</th>\n",
       "    </tr>\n",
       "  </thead>\n",
       "  <tbody>\n",
       "    <tr>\n",
       "      <th>0</th>\n",
       "      <td>-34.583010</td>\n",
       "      <td>-58.481533</td>\n",
       "      <td>4.0</td>\n",
       "      <td>3.0</td>\n",
       "      <td>70.0</td>\n",
       "      <td>15</td>\n",
       "      <td>1.0</td>\n",
       "      <td>0.0</td>\n",
       "    </tr>\n",
       "    <tr>\n",
       "      <th>1</th>\n",
       "      <td>-34.660079</td>\n",
       "      <td>-58.485894</td>\n",
       "      <td>6.0</td>\n",
       "      <td>4.0</td>\n",
       "      <td>275.0</td>\n",
       "      <td>9</td>\n",
       "      <td>0.0</td>\n",
       "      <td>0.0</td>\n",
       "    </tr>\n",
       "    <tr>\n",
       "      <th>2</th>\n",
       "      <td>-34.581856</td>\n",
       "      <td>-58.425088</td>\n",
       "      <td>3.0</td>\n",
       "      <td>2.0</td>\n",
       "      <td>97.0</td>\n",
       "      <td>14</td>\n",
       "      <td>1.0</td>\n",
       "      <td>0.0</td>\n",
       "    </tr>\n",
       "    <tr>\n",
       "      <th>3</th>\n",
       "      <td>-34.607547</td>\n",
       "      <td>-58.442194</td>\n",
       "      <td>2.0</td>\n",
       "      <td>1.0</td>\n",
       "      <td>42.0</td>\n",
       "      <td>6</td>\n",
       "      <td>1.0</td>\n",
       "      <td>0.0</td>\n",
       "    </tr>\n",
       "    <tr>\n",
       "      <th>4</th>\n",
       "      <td>-34.607416</td>\n",
       "      <td>-58.509680</td>\n",
       "      <td>2.0</td>\n",
       "      <td>1.0</td>\n",
       "      <td>38.0</td>\n",
       "      <td>11</td>\n",
       "      <td>1.0</td>\n",
       "      <td>0.0</td>\n",
       "    </tr>\n",
       "  </tbody>\n",
       "</table>\n",
       "</div>"
      ],
      "text/plain": [
       "     latitud   longitud  ambientes  dormitorios  superficie_cubierta  comuna  \\\n",
       "0 -34.583010 -58.481533        4.0          3.0                 70.0      15   \n",
       "1 -34.660079 -58.485894        6.0          4.0                275.0       9   \n",
       "2 -34.581856 -58.425088        3.0          2.0                 97.0      14   \n",
       "3 -34.607547 -58.442194        2.0          1.0                 42.0       6   \n",
       "4 -34.607416 -58.509680        2.0          1.0                 38.0      11   \n",
       "\n",
       "   Departamento   PH  \n",
       "0           1.0  0.0  \n",
       "1           0.0  0.0  \n",
       "2           1.0  0.0  \n",
       "3           1.0  0.0  \n",
       "4           1.0  0.0  "
      ]
     },
     "execution_count": 4,
     "metadata": {},
     "output_type": "execute_result"
    }
   ],
   "source": [
    "x_train.head()"
   ]
  },
  {
   "cell_type": "code",
   "execution_count": 5,
   "id": "841d2c92-ae35-4dc8-b883-6ae1e0fa9567",
   "metadata": {},
   "outputs": [
    {
     "data": {
      "text/html": [
       "<div>\n",
       "<style scoped>\n",
       "    .dataframe tbody tr th:only-of-type {\n",
       "        vertical-align: middle;\n",
       "    }\n",
       "\n",
       "    .dataframe tbody tr th {\n",
       "        vertical-align: top;\n",
       "    }\n",
       "\n",
       "    .dataframe thead th {\n",
       "        text-align: right;\n",
       "    }\n",
       "</style>\n",
       "<table border=\"1\" class=\"dataframe\">\n",
       "  <thead>\n",
       "    <tr style=\"text-align: right;\">\n",
       "      <th></th>\n",
       "      <th>pxm2</th>\n",
       "    </tr>\n",
       "  </thead>\n",
       "  <tbody>\n",
       "    <tr>\n",
       "      <th>0</th>\n",
       "      <td>2911.392405</td>\n",
       "    </tr>\n",
       "    <tr>\n",
       "      <th>1</th>\n",
       "      <td>671.428571</td>\n",
       "    </tr>\n",
       "    <tr>\n",
       "      <th>2</th>\n",
       "      <td>2546.391753</td>\n",
       "    </tr>\n",
       "    <tr>\n",
       "      <th>3</th>\n",
       "      <td>1733.333333</td>\n",
       "    </tr>\n",
       "    <tr>\n",
       "      <th>4</th>\n",
       "      <td>2804.878049</td>\n",
       "    </tr>\n",
       "  </tbody>\n",
       "</table>\n",
       "</div>"
      ],
      "text/plain": [
       "          pxm2\n",
       "0  2911.392405\n",
       "1   671.428571\n",
       "2  2546.391753\n",
       "3  1733.333333\n",
       "4  2804.878049"
      ]
     },
     "execution_count": 5,
     "metadata": {},
     "output_type": "execute_result"
    }
   ],
   "source": [
    "y_train.head()"
   ]
  },
  {
   "cell_type": "code",
   "execution_count": 6,
   "id": "92c3cb03-6942-4665-b149-1c3715be28a1",
   "metadata": {},
   "outputs": [
    {
     "data": {
      "text/plain": [
       "(58133, 8)"
      ]
     },
     "execution_count": 6,
     "metadata": {},
     "output_type": "execute_result"
    }
   ],
   "source": [
    "x_train.shape"
   ]
  },
  {
   "cell_type": "markdown",
   "id": "23d2b2c0-bc57-4530-a6a2-c0b902c952ac",
   "metadata": {},
   "source": [
    "Normalizo datos"
   ]
  },
  {
   "cell_type": "code",
   "execution_count": 7,
   "id": "845950be-cec5-4eff-98b2-a9cc39b5df28",
   "metadata": {},
   "outputs": [
    {
     "data": {
      "text/html": [
       "<div>\n",
       "<style scoped>\n",
       "    .dataframe tbody tr th:only-of-type {\n",
       "        vertical-align: middle;\n",
       "    }\n",
       "\n",
       "    .dataframe tbody tr th {\n",
       "        vertical-align: top;\n",
       "    }\n",
       "\n",
       "    .dataframe thead th {\n",
       "        text-align: right;\n",
       "    }\n",
       "</style>\n",
       "<table border=\"1\" class=\"dataframe\">\n",
       "  <thead>\n",
       "    <tr style=\"text-align: right;\">\n",
       "      <th></th>\n",
       "      <th>latitud</th>\n",
       "      <th>longitud</th>\n",
       "      <th>ambientes</th>\n",
       "      <th>dormitorios</th>\n",
       "      <th>superficie_cubierta</th>\n",
       "      <th>comuna</th>\n",
       "    </tr>\n",
       "  </thead>\n",
       "  <tbody>\n",
       "    <tr>\n",
       "      <th>0</th>\n",
       "      <td>0.501718</td>\n",
       "      <td>-1.122143</td>\n",
       "      <td>0.895188</td>\n",
       "      <td>1.112654</td>\n",
       "      <td>-0.086764</td>\n",
       "      <td>1.271560</td>\n",
       "    </tr>\n",
       "    <tr>\n",
       "      <th>1</th>\n",
       "      <td>-2.412422</td>\n",
       "      <td>-1.237399</td>\n",
       "      <td>2.384149</td>\n",
       "      <td>2.110384</td>\n",
       "      <td>3.243882</td>\n",
       "      <td>0.044010</td>\n",
       "    </tr>\n",
       "    <tr>\n",
       "      <th>2</th>\n",
       "      <td>0.545327</td>\n",
       "      <td>0.369634</td>\n",
       "      <td>0.150707</td>\n",
       "      <td>0.114923</td>\n",
       "      <td>0.351906</td>\n",
       "      <td>1.066968</td>\n",
       "    </tr>\n",
       "    <tr>\n",
       "      <th>3</th>\n",
       "      <td>-0.426107</td>\n",
       "      <td>-0.082471</td>\n",
       "      <td>-0.593774</td>\n",
       "      <td>-0.882808</td>\n",
       "      <td>-0.541681</td>\n",
       "      <td>-0.569765</td>\n",
       "    </tr>\n",
       "    <tr>\n",
       "      <th>4</th>\n",
       "      <td>-0.421158</td>\n",
       "      <td>-1.866017</td>\n",
       "      <td>-0.593774</td>\n",
       "      <td>-0.882808</td>\n",
       "      <td>-0.606670</td>\n",
       "      <td>0.453193</td>\n",
       "    </tr>\n",
       "  </tbody>\n",
       "</table>\n",
       "</div>"
      ],
      "text/plain": [
       "    latitud  longitud  ambientes  dormitorios  superficie_cubierta    comuna\n",
       "0  0.501718 -1.122143   0.895188     1.112654            -0.086764  1.271560\n",
       "1 -2.412422 -1.237399   2.384149     2.110384             3.243882  0.044010\n",
       "2  0.545327  0.369634   0.150707     0.114923             0.351906  1.066968\n",
       "3 -0.426107 -0.082471  -0.593774    -0.882808            -0.541681 -0.569765\n",
       "4 -0.421158 -1.866017  -0.593774    -0.882808            -0.606670  0.453193"
      ]
     },
     "execution_count": 7,
     "metadata": {},
     "output_type": "execute_result"
    }
   ],
   "source": [
    "x_train_red = x_train.iloc[:, 0:6]\n",
    "x_train_norm = (x_train_red - x_train_red.mean())/x_train_red.std()\n",
    "x_train_norm.head()"
   ]
  },
  {
   "cell_type": "code",
   "execution_count": 8,
   "id": "5f3498d1-6909-46aa-9863-f8ffacaad2b2",
   "metadata": {},
   "outputs": [
    {
     "data": {
      "text/html": [
       "<div>\n",
       "<style scoped>\n",
       "    .dataframe tbody tr th:only-of-type {\n",
       "        vertical-align: middle;\n",
       "    }\n",
       "\n",
       "    .dataframe tbody tr th {\n",
       "        vertical-align: top;\n",
       "    }\n",
       "\n",
       "    .dataframe thead th {\n",
       "        text-align: right;\n",
       "    }\n",
       "</style>\n",
       "<table border=\"1\" class=\"dataframe\">\n",
       "  <thead>\n",
       "    <tr style=\"text-align: right;\">\n",
       "      <th></th>\n",
       "      <th>latitud</th>\n",
       "      <th>longitud</th>\n",
       "      <th>ambientes</th>\n",
       "      <th>dormitorios</th>\n",
       "      <th>superficie_cubierta</th>\n",
       "      <th>Departamento</th>\n",
       "    </tr>\n",
       "  </thead>\n",
       "  <tbody>\n",
       "    <tr>\n",
       "      <th>0</th>\n",
       "      <td>0.736100</td>\n",
       "      <td>0.852283</td>\n",
       "      <td>0.871830</td>\n",
       "      <td>1.091760</td>\n",
       "      <td>1.474945</td>\n",
       "      <td>0.415401</td>\n",
       "    </tr>\n",
       "    <tr>\n",
       "      <th>1</th>\n",
       "      <td>1.964042</td>\n",
       "      <td>-0.548882</td>\n",
       "      <td>0.871830</td>\n",
       "      <td>1.091760</td>\n",
       "      <td>0.342862</td>\n",
       "      <td>0.415401</td>\n",
       "    </tr>\n",
       "    <tr>\n",
       "      <th>2</th>\n",
       "      <td>0.174311</td>\n",
       "      <td>1.184193</td>\n",
       "      <td>0.871830</td>\n",
       "      <td>1.091760</td>\n",
       "      <td>0.703816</td>\n",
       "      <td>0.415401</td>\n",
       "    </tr>\n",
       "    <tr>\n",
       "      <th>3</th>\n",
       "      <td>-1.233172</td>\n",
       "      <td>0.169444</td>\n",
       "      <td>-1.309095</td>\n",
       "      <td>-0.854592</td>\n",
       "      <td>-0.690780</td>\n",
       "      <td>0.415401</td>\n",
       "    </tr>\n",
       "    <tr>\n",
       "      <th>4</th>\n",
       "      <td>0.170750</td>\n",
       "      <td>1.617522</td>\n",
       "      <td>0.144855</td>\n",
       "      <td>0.118584</td>\n",
       "      <td>1.327282</td>\n",
       "      <td>0.415401</td>\n",
       "    </tr>\n",
       "  </tbody>\n",
       "</table>\n",
       "</div>"
      ],
      "text/plain": [
       "    latitud  longitud  ambientes  dormitorios  superficie_cubierta  \\\n",
       "0  0.736100  0.852283   0.871830     1.091760             1.474945   \n",
       "1  1.964042 -0.548882   0.871830     1.091760             0.342862   \n",
       "2  0.174311  1.184193   0.871830     1.091760             0.703816   \n",
       "3 -1.233172  0.169444  -1.309095    -0.854592            -0.690780   \n",
       "4  0.170750  1.617522   0.144855     0.118584             1.327282   \n",
       "\n",
       "   Departamento  \n",
       "0      0.415401  \n",
       "1      0.415401  \n",
       "2      0.415401  \n",
       "3      0.415401  \n",
       "4      0.415401  "
      ]
     },
     "execution_count": 8,
     "metadata": {},
     "output_type": "execute_result"
    }
   ],
   "source": [
    "x_test_red = x_test.iloc[:, 0:6]\n",
    "x_test_norm = (x_test_red - x_test_red.mean())/x_test_red.std()\n",
    "x_test_norm.head()"
   ]
  },
  {
   "cell_type": "markdown",
   "id": "fc77d4e5-a02d-4fec-9dfa-1fd3088a103e",
   "metadata": {},
   "source": [
    "+ Transformo los set de datos"
   ]
  },
  {
   "cell_type": "code",
   "execution_count": 9,
   "id": "33a4ae9b-546a-4e55-9848-620c6905d9a9",
   "metadata": {},
   "outputs": [
    {
     "data": {
      "text/html": [
       "<style>#sk-container-id-1 {color: black;background-color: white;}#sk-container-id-1 pre{padding: 0;}#sk-container-id-1 div.sk-toggleable {background-color: white;}#sk-container-id-1 label.sk-toggleable__label {cursor: pointer;display: block;width: 100%;margin-bottom: 0;padding: 0.3em;box-sizing: border-box;text-align: center;}#sk-container-id-1 label.sk-toggleable__label-arrow:before {content: \"▸\";float: left;margin-right: 0.25em;color: #696969;}#sk-container-id-1 label.sk-toggleable__label-arrow:hover:before {color: black;}#sk-container-id-1 div.sk-estimator:hover label.sk-toggleable__label-arrow:before {color: black;}#sk-container-id-1 div.sk-toggleable__content {max-height: 0;max-width: 0;overflow: hidden;text-align: left;background-color: #f0f8ff;}#sk-container-id-1 div.sk-toggleable__content pre {margin: 0.2em;color: black;border-radius: 0.25em;background-color: #f0f8ff;}#sk-container-id-1 input.sk-toggleable__control:checked~div.sk-toggleable__content {max-height: 200px;max-width: 100%;overflow: auto;}#sk-container-id-1 input.sk-toggleable__control:checked~label.sk-toggleable__label-arrow:before {content: \"▾\";}#sk-container-id-1 div.sk-estimator input.sk-toggleable__control:checked~label.sk-toggleable__label {background-color: #d4ebff;}#sk-container-id-1 div.sk-label input.sk-toggleable__control:checked~label.sk-toggleable__label {background-color: #d4ebff;}#sk-container-id-1 input.sk-hidden--visually {border: 0;clip: rect(1px 1px 1px 1px);clip: rect(1px, 1px, 1px, 1px);height: 1px;margin: -1px;overflow: hidden;padding: 0;position: absolute;width: 1px;}#sk-container-id-1 div.sk-estimator {font-family: monospace;background-color: #f0f8ff;border: 1px dotted black;border-radius: 0.25em;box-sizing: border-box;margin-bottom: 0.5em;}#sk-container-id-1 div.sk-estimator:hover {background-color: #d4ebff;}#sk-container-id-1 div.sk-parallel-item::after {content: \"\";width: 100%;border-bottom: 1px solid gray;flex-grow: 1;}#sk-container-id-1 div.sk-label:hover label.sk-toggleable__label {background-color: #d4ebff;}#sk-container-id-1 div.sk-serial::before {content: \"\";position: absolute;border-left: 1px solid gray;box-sizing: border-box;top: 0;bottom: 0;left: 50%;z-index: 0;}#sk-container-id-1 div.sk-serial {display: flex;flex-direction: column;align-items: center;background-color: white;padding-right: 0.2em;padding-left: 0.2em;position: relative;}#sk-container-id-1 div.sk-item {position: relative;z-index: 1;}#sk-container-id-1 div.sk-parallel {display: flex;align-items: stretch;justify-content: center;background-color: white;position: relative;}#sk-container-id-1 div.sk-item::before, #sk-container-id-1 div.sk-parallel-item::before {content: \"\";position: absolute;border-left: 1px solid gray;box-sizing: border-box;top: 0;bottom: 0;left: 50%;z-index: -1;}#sk-container-id-1 div.sk-parallel-item {display: flex;flex-direction: column;z-index: 1;position: relative;background-color: white;}#sk-container-id-1 div.sk-parallel-item:first-child::after {align-self: flex-end;width: 50%;}#sk-container-id-1 div.sk-parallel-item:last-child::after {align-self: flex-start;width: 50%;}#sk-container-id-1 div.sk-parallel-item:only-child::after {width: 0;}#sk-container-id-1 div.sk-dashed-wrapped {border: 1px dashed gray;margin: 0 0.4em 0.5em 0.4em;box-sizing: border-box;padding-bottom: 0.4em;background-color: white;}#sk-container-id-1 div.sk-label label {font-family: monospace;font-weight: bold;display: inline-block;line-height: 1.2em;}#sk-container-id-1 div.sk-label-container {text-align: center;}#sk-container-id-1 div.sk-container {/* jupyter's `normalize.less` sets `[hidden] { display: none; }` but bootstrap.min.css set `[hidden] { display: none !important; }` so we also need the `!important` here to be able to override the default hidden behavior on the sphinx rendered scikit-learn.org. See: https://github.com/scikit-learn/scikit-learn/issues/21755 */display: inline-block !important;position: relative;}#sk-container-id-1 div.sk-text-repr-fallback {display: none;}</style><div id=\"sk-container-id-1\" class=\"sk-top-container\"><div class=\"sk-text-repr-fallback\"><pre>StandardScaler()</pre><b>In a Jupyter environment, please rerun this cell to show the HTML representation or trust the notebook. <br />On GitHub, the HTML representation is unable to render, please try loading this page with nbviewer.org.</b></div><div class=\"sk-container\" hidden><div class=\"sk-item\"><div class=\"sk-estimator sk-toggleable\"><input class=\"sk-toggleable__control sk-hidden--visually\" id=\"sk-estimator-id-1\" type=\"checkbox\" checked><label for=\"sk-estimator-id-1\" class=\"sk-toggleable__label sk-toggleable__label-arrow\">StandardScaler</label><div class=\"sk-toggleable__content\"><pre>StandardScaler()</pre></div></div></div></div></div>"
      ],
      "text/plain": [
       "StandardScaler()"
      ]
     },
     "execution_count": 9,
     "metadata": {},
     "output_type": "execute_result"
    }
   ],
   "source": [
    "sscaler = StandardScaler()\n",
    "sscaler.fit(pd.DataFrame(x_train_norm))"
   ]
  },
  {
   "cell_type": "code",
   "execution_count": 10,
   "id": "000b5867-8e32-4063-9b65-d30bbc05c29b",
   "metadata": {},
   "outputs": [],
   "source": [
    "x_train_transform = sscaler.transform(pd.DataFrame(x_train_norm))\n",
    "x_test_transform = sscaler.transform(pd.DataFrame(x_test_norm))"
   ]
  },
  {
   "cell_type": "code",
   "execution_count": 11,
   "id": "4b37f68a-7f09-4c04-8f80-ade802acbb85",
   "metadata": {},
   "outputs": [
    {
     "data": {
      "text/plain": [
       "array([[ 0.50172268, -1.12215239,  0.89519544,  1.11266314, -0.0867647 ,\n",
       "         1.27157065],\n",
       "       [-2.41244287, -1.23741004,  2.38416976,  2.11040252,  3.24390971,\n",
       "         0.04401013],\n",
       "       [ 0.54533212,  0.36963696,  0.15070829,  0.11492376,  0.35190949,\n",
       "         1.06697723],\n",
       "       [-0.42611094, -0.08247136, -0.59377887, -0.88281562, -0.54168608,\n",
       "        -0.56977013],\n",
       "       [-0.42116132, -1.86603329, -0.59377887, -0.88281562, -0.60667485,\n",
       "         0.45319697]])"
      ]
     },
     "execution_count": 11,
     "metadata": {},
     "output_type": "execute_result"
    }
   ],
   "source": [
    "x_train_transform[0:5]"
   ]
  },
  {
   "cell_type": "markdown",
   "id": "c25e601b-4974-4ef6-bf44-698a11758b06",
   "metadata": {},
   "source": [
    "# Con dos capas"
   ]
  },
  {
   "cell_type": "markdown",
   "id": "7b481ab7-1b44-45c9-8f0d-0bc852cd3972",
   "metadata": {
    "jp-MarkdownHeadingCollapsed": true,
    "tags": []
   },
   "source": [
    "## Modelo 1"
   ]
  },
  {
   "cell_type": "code",
   "execution_count": 14,
   "id": "1c569c96-49ba-4a77-81b3-b9aaac32e659",
   "metadata": {},
   "outputs": [],
   "source": [
    "d_in=6\n",
    "d_out=1\n",
    "\n",
    "modelo_1 = keras.Sequential([\n",
    "    keras.layers.Dense(6,input_shape=(d_in,), activation=\"relu\"),\n",
    "    \n",
    "    keras.layers.Dense(d_out)])"
   ]
  },
  {
   "cell_type": "code",
   "execution_count": 15,
   "id": "cf2e7b49-75ed-496c-b3a4-b2d4876930c9",
   "metadata": {},
   "outputs": [
    {
     "name": "stdout",
     "output_type": "stream",
     "text": [
      "Model: \"sequential_2\"\n",
      "_________________________________________________________________\n",
      " Layer (type)                Output Shape              Param #   \n",
      "=================================================================\n",
      " dense_4 (Dense)             (None, 6)                 42        \n",
      "                                                                 \n",
      " dense_5 (Dense)             (None, 1)                 7         \n",
      "                                                                 \n",
      "=================================================================\n",
      "Total params: 49\n",
      "Trainable params: 49\n",
      "Non-trainable params: 0\n",
      "_________________________________________________________________\n"
     ]
    }
   ],
   "source": [
    "modelo_1.summary()"
   ]
  },
  {
   "cell_type": "code",
   "execution_count": 16,
   "id": "be14f07e-3332-47c2-b8da-d493628dea2a",
   "metadata": {},
   "outputs": [],
   "source": [
    "modelo_1.compile(\n",
    "      optimizer=keras.optimizers.SGD(learning_rate=0.01), \n",
    "      loss='mae', \n",
    "      metrics=['mse','mae'], \n",
    ")"
   ]
  },
  {
   "cell_type": "code",
   "execution_count": 17,
   "id": "61f20ade-787e-4eca-8b50-1e3df1da8fda",
   "metadata": {
    "collapsed": true,
    "jupyter": {
     "outputs_hidden": true
    },
    "tags": []
   },
   "outputs": [
    {
     "name": "stdout",
     "output_type": "stream",
     "text": [
      "Epoch 1/50\n",
      "5814/5814 - 5s - loss: 676.1497 - mse: 1143967.3750 - mae: 676.1497 - 5s/epoch - 778us/step\n",
      "Epoch 2/50\n",
      "5814/5814 - 4s - loss: 537.6767 - mse: 707642.9375 - mae: 537.6767 - 4s/epoch - 717us/step\n",
      "Epoch 3/50\n",
      "5814/5814 - 4s - loss: 532.7826 - mse: 697072.5000 - mae: 532.7826 - 4s/epoch - 701us/step\n",
      "Epoch 4/50\n",
      "5814/5814 - 4s - loss: 528.2028 - mse: 690834.2500 - mae: 528.2027 - 4s/epoch - 704us/step\n",
      "Epoch 5/50\n",
      "5814/5814 - 4s - loss: 526.5625 - mse: 687893.8125 - mae: 526.5625 - 4s/epoch - 693us/step\n",
      "Epoch 6/50\n",
      "5814/5814 - 4s - loss: 526.5090 - mse: 687842.6250 - mae: 526.5090 - 4s/epoch - 681us/step\n",
      "Epoch 7/50\n",
      "5814/5814 - 4s - loss: 525.8823 - mse: 688373.1875 - mae: 525.8823 - 4s/epoch - 691us/step\n",
      "Epoch 8/50\n",
      "5814/5814 - 4s - loss: 524.9023 - mse: 683293.8125 - mae: 524.9023 - 4s/epoch - 680us/step\n",
      "Epoch 9/50\n",
      "5814/5814 - 4s - loss: 523.1291 - mse: 687042.8125 - mae: 523.1291 - 4s/epoch - 702us/step\n",
      "Epoch 10/50\n",
      "5814/5814 - 4s - loss: 520.6960 - mse: 680641.9375 - mae: 520.6960 - 4s/epoch - 693us/step\n",
      "Epoch 11/50\n",
      "5814/5814 - 4s - loss: 519.6467 - mse: 677988.7500 - mae: 519.6467 - 4s/epoch - 683us/step\n",
      "Epoch 12/50\n",
      "5814/5814 - 4s - loss: 516.1414 - mse: 659670.6250 - mae: 516.1414 - 4s/epoch - 707us/step\n",
      "Epoch 13/50\n",
      "5814/5814 - 4s - loss: 515.0114 - mse: 655813.2500 - mae: 515.0114 - 4s/epoch - 700us/step\n",
      "Epoch 14/50\n",
      "5814/5814 - 4s - loss: 513.8449 - mse: 651858.0625 - mae: 513.8449 - 4s/epoch - 702us/step\n",
      "Epoch 15/50\n",
      "5814/5814 - 4s - loss: 513.1255 - mse: 650496.3750 - mae: 513.1255 - 4s/epoch - 688us/step\n",
      "Epoch 16/50\n",
      "5814/5814 - 4s - loss: 512.8254 - mse: 650540.6250 - mae: 512.8254 - 4s/epoch - 711us/step\n",
      "Epoch 17/50\n",
      "5814/5814 - 4s - loss: 512.7187 - mse: 648280.2500 - mae: 512.7187 - 4s/epoch - 694us/step\n",
      "Epoch 18/50\n",
      "5814/5814 - 4s - loss: 512.2789 - mse: 647157.0625 - mae: 512.2789 - 4s/epoch - 676us/step\n",
      "Epoch 19/50\n",
      "5814/5814 - 4s - loss: 512.3657 - mse: 647323.3750 - mae: 512.3657 - 4s/epoch - 705us/step\n",
      "Epoch 20/50\n",
      "5814/5814 - 4s - loss: 511.9638 - mse: 647344.1250 - mae: 511.9638 - 4s/epoch - 693us/step\n",
      "Epoch 21/50\n",
      "5814/5814 - 4s - loss: 511.9689 - mse: 647530.2500 - mae: 511.9689 - 4s/epoch - 699us/step\n",
      "Epoch 22/50\n",
      "5814/5814 - 4s - loss: 512.4642 - mse: 647556.4375 - mae: 512.4642 - 4s/epoch - 685us/step\n",
      "Epoch 23/50\n",
      "5814/5814 - 4s - loss: 511.9744 - mse: 646226.2500 - mae: 511.9744 - 4s/epoch - 702us/step\n",
      "Epoch 24/50\n",
      "5814/5814 - 4s - loss: 511.7490 - mse: 645201.9375 - mae: 511.7490 - 4s/epoch - 697us/step\n",
      "Epoch 25/50\n",
      "5814/5814 - 4s - loss: 511.4694 - mse: 647076.0000 - mae: 511.4693 - 4s/epoch - 701us/step\n",
      "Epoch 26/50\n",
      "5814/5814 - 4s - loss: 512.0126 - mse: 646329.3125 - mae: 512.0126 - 4s/epoch - 693us/step\n",
      "Epoch 27/50\n",
      "5814/5814 - 4s - loss: 511.4962 - mse: 644571.4375 - mae: 511.4962 - 4s/epoch - 695us/step\n",
      "Epoch 28/50\n",
      "5814/5814 - 4s - loss: 511.6287 - mse: 645750.0000 - mae: 511.6287 - 4s/epoch - 702us/step\n",
      "Epoch 29/50\n",
      "5814/5814 - 4s - loss: 511.5094 - mse: 646400.9375 - mae: 511.5094 - 4s/epoch - 692us/step\n",
      "Epoch 30/50\n",
      "5814/5814 - 4s - loss: 511.9486 - mse: 646287.9375 - mae: 511.9486 - 4s/epoch - 705us/step\n",
      "Epoch 31/50\n",
      "5814/5814 - 4s - loss: 511.7318 - mse: 645643.6875 - mae: 511.7318 - 4s/epoch - 740us/step\n",
      "Epoch 32/50\n",
      "5814/5814 - 5s - loss: 511.7105 - mse: 645745.6875 - mae: 511.7105 - 5s/epoch - 936us/step\n",
      "Epoch 33/50\n",
      "5814/5814 - 5s - loss: 511.8705 - mse: 646422.9375 - mae: 511.8705 - 5s/epoch - 886us/step\n",
      "Epoch 34/50\n",
      "5814/5814 - 6s - loss: 511.6364 - mse: 644810.0000 - mae: 511.6364 - 6s/epoch - 969us/step\n",
      "Epoch 35/50\n",
      "5814/5814 - 4s - loss: 511.8382 - mse: 649033.2500 - mae: 511.8382 - 4s/epoch - 751us/step\n",
      "Epoch 36/50\n",
      "5814/5814 - 6s - loss: 511.6525 - mse: 647020.2500 - mae: 511.6525 - 6s/epoch - 1ms/step\n",
      "Epoch 37/50\n",
      "5814/5814 - 6s - loss: 511.5483 - mse: 647008.8125 - mae: 511.5483 - 6s/epoch - 1ms/step\n",
      "Epoch 38/50\n",
      "5814/5814 - 5s - loss: 511.5978 - mse: 646321.3750 - mae: 511.5978 - 5s/epoch - 901us/step\n",
      "Epoch 39/50\n",
      "5814/5814 - 5s - loss: 511.6364 - mse: 646947.2500 - mae: 511.6364 - 5s/epoch - 836us/step\n",
      "Epoch 40/50\n",
      "5814/5814 - 4s - loss: 511.6070 - mse: 646223.0625 - mae: 511.6070 - 4s/epoch - 698us/step\n",
      "Epoch 41/50\n",
      "5814/5814 - 5s - loss: 511.7109 - mse: 644290.3125 - mae: 511.7109 - 5s/epoch - 926us/step\n",
      "Epoch 42/50\n",
      "5814/5814 - 5s - loss: 511.3460 - mse: 645221.0625 - mae: 511.3460 - 5s/epoch - 872us/step\n",
      "Epoch 43/50\n",
      "5814/5814 - 4s - loss: 511.1690 - mse: 644996.2500 - mae: 511.1690 - 4s/epoch - 740us/step\n",
      "Epoch 44/50\n",
      "5814/5814 - 4s - loss: 512.1464 - mse: 645759.7500 - mae: 512.1464 - 4s/epoch - 710us/step\n",
      "Epoch 45/50\n",
      "5814/5814 - 4s - loss: 511.4152 - mse: 643636.4375 - mae: 511.4152 - 4s/epoch - 729us/step\n",
      "Epoch 46/50\n",
      "5814/5814 - 5s - loss: 511.4608 - mse: 645960.5625 - mae: 511.4608 - 5s/epoch - 874us/step\n",
      "Epoch 47/50\n",
      "5814/5814 - 5s - loss: 511.5249 - mse: 645379.8750 - mae: 511.5249 - 5s/epoch - 848us/step\n",
      "Epoch 48/50\n",
      "5814/5814 - 5s - loss: 511.3874 - mse: 646295.1250 - mae: 511.3874 - 5s/epoch - 809us/step\n",
      "Epoch 49/50\n",
      "5814/5814 - 4s - loss: 511.4570 - mse: 644756.8750 - mae: 511.4570 - 4s/epoch - 758us/step\n",
      "Epoch 50/50\n",
      "5814/5814 - 5s - loss: 511.6647 - mse: 646797.8750 - mae: 511.6647 - 5s/epoch - 866us/step\n"
     ]
    },
    {
     "data": {
      "text/plain": [
       "<keras.callbacks.History at 0x7f5d7b783c10>"
      ]
     },
     "execution_count": 17,
     "metadata": {},
     "output_type": "execute_result"
    }
   ],
   "source": [
    "# Entrenamiento del modelo\n",
    "modelo_1.fit(x_train_transform,y_train,epochs=50,batch_size=10,verbose=2)"
   ]
  },
  {
   "cell_type": "code",
   "execution_count": 18,
   "id": "524c81bf-a9c8-4084-80eb-c9a33f6dcdd9",
   "metadata": {},
   "outputs": [
    {
     "name": "stdout",
     "output_type": "stream",
     "text": [
      "455/455 [==============================] - 0s 745us/step\n",
      "Error absoluto medio 546.3714164951018\n",
      "Error cuadrático medio 612587.9254594041\n"
     ]
    }
   ],
   "source": [
    "y_pred = modelo_1.predict(x_test_transform)\n",
    "\n",
    "mae = mean_absolute_error(y_test,y_pred)\n",
    "mse = mean_squared_error(y_test,y_pred)\n",
    "\n",
    "print(f\"Error absoluto medio {mae}\")\n",
    "print(f\"Error cuadrático medio {mse}\")"
   ]
  },
  {
   "cell_type": "markdown",
   "id": "491c1d0e-328e-4518-b8db-f81ab09895b4",
   "metadata": {
    "jp-MarkdownHeadingCollapsed": true,
    "tags": []
   },
   "source": [
    "## Modelo 2\n",
    "\n",
    "Cambio learning rate"
   ]
  },
  {
   "cell_type": "code",
   "execution_count": 19,
   "id": "bfc4f3ac-dd10-411b-af88-6050e3d88afe",
   "metadata": {},
   "outputs": [],
   "source": [
    "d_in=6\n",
    "d_out=1\n",
    "\n",
    "modelo_2 = keras.Sequential([\n",
    "    keras.layers.Dense(6,input_shape=(d_in,), activation=\"relu\"),\n",
    "    \n",
    "    keras.layers.Dense(d_out)])"
   ]
  },
  {
   "cell_type": "code",
   "execution_count": 20,
   "id": "e1f191a0-68cd-4304-bf3a-f3a9403cd126",
   "metadata": {},
   "outputs": [
    {
     "name": "stdout",
     "output_type": "stream",
     "text": [
      "Model: \"sequential_3\"\n",
      "_________________________________________________________________\n",
      " Layer (type)                Output Shape              Param #   \n",
      "=================================================================\n",
      " dense_6 (Dense)             (None, 6)                 42        \n",
      "                                                                 \n",
      " dense_7 (Dense)             (None, 1)                 7         \n",
      "                                                                 \n",
      "=================================================================\n",
      "Total params: 49\n",
      "Trainable params: 49\n",
      "Non-trainable params: 0\n",
      "_________________________________________________________________\n"
     ]
    }
   ],
   "source": [
    "modelo_2.summary()"
   ]
  },
  {
   "cell_type": "code",
   "execution_count": 21,
   "id": "511eb9a7-eddc-43e0-b617-bd9166f45eb0",
   "metadata": {},
   "outputs": [],
   "source": [
    "modelo_2.compile(\n",
    "      optimizer=keras.optimizers.SGD(learning_rate=0.001), \n",
    "      loss='mae', \n",
    "      metrics=['mse','mae'], \n",
    ")"
   ]
  },
  {
   "cell_type": "code",
   "execution_count": 22,
   "id": "f2488ba2-566f-41b9-a731-6a4d8de2a793",
   "metadata": {
    "collapsed": true,
    "jupyter": {
     "outputs_hidden": true
    },
    "tags": []
   },
   "outputs": [
    {
     "name": "stdout",
     "output_type": "stream",
     "text": [
      "Epoch 1/50\n",
      "5814/5814 - 4s - loss: 1922.6705 - mse: 5013111.0000 - mae: 1922.6705 - 4s/epoch - 751us/step\n",
      "Epoch 2/50\n",
      "5814/5814 - 4s - loss: 565.9844 - mse: 800535.7500 - mae: 565.9844 - 4s/epoch - 701us/step\n",
      "Epoch 3/50\n",
      "5814/5814 - 4s - loss: 565.3915 - mse: 794925.0625 - mae: 565.3915 - 4s/epoch - 710us/step\n",
      "Epoch 4/50\n",
      "5814/5814 - 4s - loss: 565.2048 - mse: 792485.5625 - mae: 565.2048 - 4s/epoch - 703us/step\n",
      "Epoch 5/50\n",
      "5814/5814 - 4s - loss: 565.2154 - mse: 793979.1875 - mae: 565.2154 - 4s/epoch - 705us/step\n",
      "Epoch 6/50\n",
      "5814/5814 - 4s - loss: 565.1254 - mse: 792572.0625 - mae: 565.1254 - 4s/epoch - 716us/step\n",
      "Epoch 7/50\n",
      "5814/5814 - 4s - loss: 564.8787 - mse: 792370.6250 - mae: 564.8787 - 4s/epoch - 710us/step\n",
      "Epoch 8/50\n",
      "5814/5814 - 4s - loss: 564.2918 - mse: 790889.9375 - mae: 564.2918 - 4s/epoch - 712us/step\n",
      "Epoch 9/50\n",
      "5814/5814 - 4s - loss: 563.4897 - mse: 790016.6250 - mae: 563.4897 - 4s/epoch - 723us/step\n",
      "Epoch 10/50\n",
      "5814/5814 - 4s - loss: 561.9044 - mse: 785108.5000 - mae: 561.9044 - 4s/epoch - 746us/step\n",
      "Epoch 11/50\n",
      "5814/5814 - 4s - loss: 559.4490 - mse: 780628.9375 - mae: 559.4490 - 4s/epoch - 713us/step\n",
      "Epoch 12/50\n",
      "5814/5814 - 4s - loss: 554.6637 - mse: 771951.3125 - mae: 554.6637 - 4s/epoch - 747us/step\n",
      "Epoch 13/50\n",
      "5814/5814 - 5s - loss: 548.9039 - mse: 758280.0625 - mae: 548.9040 - 5s/epoch - 856us/step\n",
      "Epoch 14/50\n",
      "5814/5814 - 4s - loss: 543.9961 - mse: 745237.8125 - mae: 543.9961 - 4s/epoch - 725us/step\n",
      "Epoch 15/50\n",
      "5814/5814 - 4s - loss: 540.3140 - mse: 735873.9375 - mae: 540.3140 - 4s/epoch - 709us/step\n",
      "Epoch 16/50\n",
      "5814/5814 - 4s - loss: 537.3691 - mse: 729524.6875 - mae: 537.3691 - 4s/epoch - 714us/step\n",
      "Epoch 17/50\n",
      "5814/5814 - 4s - loss: 534.9536 - mse: 724254.9375 - mae: 534.9536 - 4s/epoch - 712us/step\n",
      "Epoch 18/50\n",
      "5814/5814 - 4s - loss: 532.9163 - mse: 720343.6250 - mae: 532.9163 - 4s/epoch - 708us/step\n",
      "Epoch 19/50\n",
      "5814/5814 - 4s - loss: 531.0527 - mse: 718217.4375 - mae: 531.0527 - 4s/epoch - 708us/step\n",
      "Epoch 20/50\n",
      "5814/5814 - 4s - loss: 529.5123 - mse: 714905.0000 - mae: 529.5123 - 4s/epoch - 714us/step\n",
      "Epoch 21/50\n",
      "5814/5814 - 4s - loss: 528.4705 - mse: 712862.7500 - mae: 528.4705 - 4s/epoch - 698us/step\n",
      "Epoch 22/50\n",
      "5814/5814 - 4s - loss: 527.5134 - mse: 710460.8750 - mae: 527.5134 - 4s/epoch - 709us/step\n",
      "Epoch 23/50\n",
      "5814/5814 - 4s - loss: 526.7173 - mse: 706870.8750 - mae: 526.7173 - 4s/epoch - 712us/step\n",
      "Epoch 24/50\n",
      "5814/5814 - 4s - loss: 526.1414 - mse: 706719.6875 - mae: 526.1414 - 4s/epoch - 719us/step\n",
      "Epoch 25/50\n",
      "5814/5814 - 4s - loss: 525.6603 - mse: 705172.0000 - mae: 525.6603 - 4s/epoch - 713us/step\n",
      "Epoch 26/50\n",
      "5814/5814 - 4s - loss: 525.4382 - mse: 703492.8750 - mae: 525.4382 - 4s/epoch - 737us/step\n",
      "Epoch 27/50\n",
      "5814/5814 - 4s - loss: 525.0791 - mse: 702204.3750 - mae: 525.0791 - 4s/epoch - 713us/step\n",
      "Epoch 28/50\n",
      "5814/5814 - 4s - loss: 524.7819 - mse: 700269.2500 - mae: 524.7819 - 4s/epoch - 707us/step\n",
      "Epoch 29/50\n",
      "5814/5814 - 4s - loss: 524.3751 - mse: 700243.4375 - mae: 524.3751 - 4s/epoch - 709us/step\n",
      "Epoch 30/50\n",
      "5814/5814 - 4s - loss: 524.2305 - mse: 699358.7500 - mae: 524.2305 - 4s/epoch - 715us/step\n",
      "Epoch 31/50\n",
      "5814/5814 - 4s - loss: 524.0034 - mse: 697106.6250 - mae: 524.0034 - 4s/epoch - 717us/step\n",
      "Epoch 32/50\n",
      "5814/5814 - 4s - loss: 523.6273 - mse: 696916.5625 - mae: 523.6273 - 4s/epoch - 712us/step\n",
      "Epoch 33/50\n",
      "5814/5814 - 4s - loss: 523.4426 - mse: 695802.2500 - mae: 523.4426 - 4s/epoch - 695us/step\n",
      "Epoch 34/50\n",
      "5814/5814 - 4s - loss: 522.8813 - mse: 693714.0625 - mae: 522.8813 - 4s/epoch - 715us/step\n",
      "Epoch 35/50\n",
      "5814/5814 - 4s - loss: 522.7638 - mse: 693564.4375 - mae: 522.7638 - 4s/epoch - 702us/step\n",
      "Epoch 36/50\n",
      "5814/5814 - 4s - loss: 522.4567 - mse: 692851.0625 - mae: 522.4568 - 4s/epoch - 707us/step\n",
      "Epoch 37/50\n",
      "5814/5814 - 4s - loss: 522.1744 - mse: 691790.0625 - mae: 522.1744 - 4s/epoch - 707us/step\n",
      "Epoch 38/50\n",
      "5814/5814 - 4s - loss: 522.0162 - mse: 690922.8750 - mae: 522.0162 - 4s/epoch - 702us/step\n",
      "Epoch 39/50\n",
      "5814/5814 - 4s - loss: 521.7305 - mse: 690137.5000 - mae: 521.7305 - 4s/epoch - 714us/step\n",
      "Epoch 40/50\n",
      "5814/5814 - 4s - loss: 521.5177 - mse: 689913.8125 - mae: 521.5177 - 4s/epoch - 702us/step\n",
      "Epoch 41/50\n",
      "5814/5814 - 4s - loss: 521.3926 - mse: 688689.5000 - mae: 521.3926 - 4s/epoch - 699us/step\n",
      "Epoch 42/50\n",
      "5814/5814 - 4s - loss: 521.1026 - mse: 688374.0000 - mae: 521.1026 - 4s/epoch - 706us/step\n",
      "Epoch 43/50\n",
      "5814/5814 - 4s - loss: 520.7568 - mse: 687617.1875 - mae: 520.7568 - 4s/epoch - 713us/step\n",
      "Epoch 44/50\n",
      "5814/5814 - 4s - loss: 520.7186 - mse: 686636.3125 - mae: 520.7186 - 4s/epoch - 705us/step\n",
      "Epoch 45/50\n",
      "5814/5814 - 4s - loss: 520.3173 - mse: 685490.0000 - mae: 520.3173 - 4s/epoch - 703us/step\n",
      "Epoch 46/50\n",
      "5814/5814 - 4s - loss: 520.0504 - mse: 685976.1250 - mae: 520.0504 - 4s/epoch - 704us/step\n",
      "Epoch 47/50\n",
      "5814/5814 - 5s - loss: 519.7739 - mse: 684789.8125 - mae: 519.7739 - 5s/epoch - 829us/step\n",
      "Epoch 48/50\n",
      "5814/5814 - 5s - loss: 519.6011 - mse: 684815.8125 - mae: 519.6011 - 5s/epoch - 863us/step\n",
      "Epoch 49/50\n",
      "5814/5814 - 4s - loss: 519.1808 - mse: 683149.6875 - mae: 519.1808 - 4s/epoch - 707us/step\n",
      "Epoch 50/50\n",
      "5814/5814 - 4s - loss: 519.0219 - mse: 682827.6250 - mae: 519.0219 - 4s/epoch - 730us/step\n"
     ]
    },
    {
     "data": {
      "text/plain": [
       "<keras.callbacks.History at 0x7f5d605f9550>"
      ]
     },
     "execution_count": 22,
     "metadata": {},
     "output_type": "execute_result"
    }
   ],
   "source": [
    "# Entrenamiento del modelo\n",
    "modelo_2.fit(x_train_transform,y_train,epochs=50,batch_size=10,verbose=2)"
   ]
  },
  {
   "cell_type": "code",
   "execution_count": 18,
   "id": "47c94d79-1ab5-4ea9-9a33-2f175ab20063",
   "metadata": {},
   "outputs": [
    {
     "name": "stdout",
     "output_type": "stream",
     "text": [
      "455/455 [==============================] - 0s 745us/step\n",
      "Error absoluto medio 546.3714164951018\n",
      "Error cuadrático medio 612587.9254594041\n"
     ]
    }
   ],
   "source": [
    "y_pred = modelo_1.predict(x_test_transform)\n",
    "\n",
    "mae = mean_absolute_error(y_test,y_pred)\n",
    "mse = mean_squared_error(y_test,y_pred)\n",
    "\n",
    "print(f\"Error absoluto medio {mae}\")\n",
    "print(f\"Error cuadrático medio {mse}\")"
   ]
  },
  {
   "cell_type": "markdown",
   "id": "14f09e30-626b-462a-a0a6-94f20f067bdb",
   "metadata": {},
   "source": [
    "Obtengo mismo resultado"
   ]
  },
  {
   "cell_type": "markdown",
   "id": "0dd27b9a-e1f7-437a-b6de-8e1b438f947e",
   "metadata": {
    "jp-MarkdownHeadingCollapsed": true,
    "tags": []
   },
   "source": [
    "## Modelo 3\n",
    "\n",
    "Optimizador adam"
   ]
  },
  {
   "cell_type": "code",
   "execution_count": 11,
   "id": "e33f40c1-ad6b-411e-a5a1-290032a1669f",
   "metadata": {},
   "outputs": [
    {
     "name": "stderr",
     "output_type": "stream",
     "text": [
      "2022-12-08 20:12:02.995598: W tensorflow/tsl/platform/default/dso_loader.cc:66] Could not load dynamic library 'libcuda.so.1'; dlerror: libcuda.so.1: cannot open shared object file: No such file or directory\n",
      "2022-12-08 20:12:02.995630: W tensorflow/compiler/xla/stream_executor/cuda/cuda_driver.cc:265] failed call to cuInit: UNKNOWN ERROR (303)\n",
      "2022-12-08 20:12:02.995659: I tensorflow/compiler/xla/stream_executor/cuda/cuda_diagnostics.cc:156] kernel driver does not appear to be running on this host (lucia-Ubuntu-laptop): /proc/driver/nvidia/version does not exist\n",
      "2022-12-08 20:12:02.995980: I tensorflow/core/platform/cpu_feature_guard.cc:193] This TensorFlow binary is optimized with oneAPI Deep Neural Network Library (oneDNN) to use the following CPU instructions in performance-critical operations:  AVX2 FMA\n",
      "To enable them in other operations, rebuild TensorFlow with the appropriate compiler flags.\n"
     ]
    }
   ],
   "source": [
    "d_in=6\n",
    "d_out=1\n",
    "\n",
    "modelo_3 = keras.Sequential([\n",
    "    keras.layers.Dense(6,input_shape=(d_in,), activation=\"relu\"),\n",
    "    \n",
    "    keras.layers.Dense(d_out)])"
   ]
  },
  {
   "cell_type": "code",
   "execution_count": 12,
   "id": "dbfb9d24-14d0-47ff-89cb-aa8557c0d344",
   "metadata": {},
   "outputs": [
    {
     "name": "stdout",
     "output_type": "stream",
     "text": [
      "Model: \"sequential\"\n",
      "_________________________________________________________________\n",
      " Layer (type)                Output Shape              Param #   \n",
      "=================================================================\n",
      " dense (Dense)               (None, 6)                 42        \n",
      "                                                                 \n",
      " dense_1 (Dense)             (None, 1)                 7         \n",
      "                                                                 \n",
      "=================================================================\n",
      "Total params: 49\n",
      "Trainable params: 49\n",
      "Non-trainable params: 0\n",
      "_________________________________________________________________\n"
     ]
    }
   ],
   "source": [
    "modelo_3.summary()"
   ]
  },
  {
   "cell_type": "code",
   "execution_count": 13,
   "id": "ad8579a7-8171-40b3-9624-08b83bfdad4c",
   "metadata": {},
   "outputs": [],
   "source": [
    "modelo_3.compile(\n",
    "      optimizer=keras.optimizers.Adam(learning_rate=0.01, beta_1=0.9, beta_2=0.999), \n",
    "      loss='mae', \n",
    "      metrics=['mse','mae'], \n",
    ")"
   ]
  },
  {
   "cell_type": "code",
   "execution_count": 14,
   "id": "8ba8b164-a027-49d2-b76b-ad07c04db5d7",
   "metadata": {
    "collapsed": true,
    "jupyter": {
     "outputs_hidden": true
    },
    "tags": []
   },
   "outputs": [
    {
     "name": "stdout",
     "output_type": "stream",
     "text": [
      "Epoch 1/50\n",
      "5814/5814 - 5s - loss: 841.8068 - mse: 1556017.1250 - mae: 841.8068 - 5s/epoch - 806us/step\n",
      "Epoch 2/50\n",
      "5814/5814 - 4s - loss: 561.5845 - mse: 791761.5000 - mae: 561.5845 - 4s/epoch - 736us/step\n",
      "Epoch 3/50\n",
      "5814/5814 - 4s - loss: 556.6748 - mse: 773541.3125 - mae: 556.6747 - 4s/epoch - 749us/step\n",
      "Epoch 4/50\n",
      "5814/5814 - 4s - loss: 554.5261 - mse: 765022.0625 - mae: 554.5261 - 4s/epoch - 741us/step\n",
      "Epoch 5/50\n",
      "5814/5814 - 4s - loss: 551.9435 - mse: 757135.3125 - mae: 551.9435 - 4s/epoch - 741us/step\n",
      "Epoch 6/50\n",
      "5814/5814 - 4s - loss: 549.6460 - mse: 751141.9375 - mae: 549.6460 - 4s/epoch - 751us/step\n",
      "Epoch 7/50\n",
      "5814/5814 - 4s - loss: 546.5311 - mse: 746206.0000 - mae: 546.5311 - 4s/epoch - 745us/step\n",
      "Epoch 8/50\n",
      "5814/5814 - 4s - loss: 539.2139 - mse: 736367.6875 - mae: 539.2139 - 4s/epoch - 731us/step\n",
      "Epoch 9/50\n",
      "5814/5814 - 4s - loss: 534.3906 - mse: 729132.5000 - mae: 534.3906 - 4s/epoch - 733us/step\n",
      "Epoch 10/50\n",
      "5814/5814 - 4s - loss: 531.4589 - mse: 721672.6875 - mae: 531.4589 - 4s/epoch - 726us/step\n",
      "Epoch 11/50\n",
      "5814/5814 - 4s - loss: 530.0223 - mse: 718463.6250 - mae: 530.0223 - 4s/epoch - 732us/step\n",
      "Epoch 12/50\n",
      "5814/5814 - 4s - loss: 529.0914 - mse: 716310.6875 - mae: 529.0914 - 4s/epoch - 737us/step\n",
      "Epoch 13/50\n",
      "5814/5814 - 4s - loss: 528.0800 - mse: 714401.3125 - mae: 528.0800 - 4s/epoch - 749us/step\n",
      "Epoch 14/50\n",
      "5814/5814 - 4s - loss: 526.9830 - mse: 710583.6875 - mae: 526.9830 - 4s/epoch - 739us/step\n",
      "Epoch 15/50\n",
      "5814/5814 - 4s - loss: 525.5433 - mse: 706146.9375 - mae: 525.5433 - 4s/epoch - 724us/step\n",
      "Epoch 16/50\n",
      "5814/5814 - 4s - loss: 524.2635 - mse: 701594.3125 - mae: 524.2635 - 4s/epoch - 734us/step\n",
      "Epoch 17/50\n",
      "5814/5814 - 4s - loss: 523.2339 - mse: 698103.8750 - mae: 523.2339 - 4s/epoch - 743us/step\n",
      "Epoch 18/50\n",
      "5814/5814 - 4s - loss: 522.2376 - mse: 693767.8125 - mae: 522.2376 - 4s/epoch - 737us/step\n",
      "Epoch 19/50\n",
      "5814/5814 - 4s - loss: 521.6071 - mse: 692870.1875 - mae: 521.6071 - 4s/epoch - 721us/step\n",
      "Epoch 20/50\n",
      "5814/5814 - 4s - loss: 521.2469 - mse: 690281.5000 - mae: 521.2469 - 4s/epoch - 737us/step\n",
      "Epoch 21/50\n",
      "5814/5814 - 4s - loss: 521.0334 - mse: 688429.1250 - mae: 521.0334 - 4s/epoch - 727us/step\n",
      "Epoch 22/50\n",
      "5814/5814 - 5s - loss: 520.6595 - mse: 687308.4375 - mae: 520.6595 - 5s/epoch - 844us/step\n",
      "Epoch 23/50\n",
      "5814/5814 - 6s - loss: 520.3914 - mse: 684429.7500 - mae: 520.3914 - 6s/epoch - 961us/step\n",
      "Epoch 24/50\n",
      "5814/5814 - 5s - loss: 520.2501 - mse: 684373.3750 - mae: 520.2501 - 5s/epoch - 881us/step\n",
      "Epoch 25/50\n",
      "5814/5814 - 5s - loss: 520.0886 - mse: 683998.6875 - mae: 520.0886 - 5s/epoch - 880us/step\n",
      "Epoch 26/50\n",
      "5814/5814 - 5s - loss: 520.1827 - mse: 683429.2500 - mae: 520.1827 - 5s/epoch - 880us/step\n",
      "Epoch 27/50\n",
      "5814/5814 - 4s - loss: 519.8340 - mse: 682283.1250 - mae: 519.8340 - 4s/epoch - 741us/step\n",
      "Epoch 28/50\n",
      "5814/5814 - 4s - loss: 519.6313 - mse: 681224.3750 - mae: 519.6314 - 4s/epoch - 730us/step\n",
      "Epoch 29/50\n",
      "5814/5814 - 5s - loss: 519.3079 - mse: 680689.0000 - mae: 519.3079 - 5s/epoch - 779us/step\n",
      "Epoch 30/50\n",
      "5814/5814 - 5s - loss: 519.2444 - mse: 680056.7500 - mae: 519.2444 - 5s/epoch - 802us/step\n",
      "Epoch 31/50\n",
      "5814/5814 - 4s - loss: 518.9435 - mse: 677959.1875 - mae: 518.9435 - 4s/epoch - 737us/step\n",
      "Epoch 32/50\n",
      "5814/5814 - 4s - loss: 518.7454 - mse: 678100.0000 - mae: 518.7454 - 4s/epoch - 740us/step\n",
      "Epoch 33/50\n",
      "5814/5814 - 4s - loss: 518.6160 - mse: 677349.3750 - mae: 518.6160 - 4s/epoch - 759us/step\n",
      "Epoch 34/50\n",
      "5814/5814 - 4s - loss: 518.2331 - mse: 676656.8125 - mae: 518.2331 - 4s/epoch - 748us/step\n",
      "Epoch 35/50\n",
      "5814/5814 - 4s - loss: 518.0955 - mse: 675984.5625 - mae: 518.0955 - 4s/epoch - 737us/step\n",
      "Epoch 36/50\n",
      "5814/5814 - 4s - loss: 517.6852 - mse: 674840.0625 - mae: 517.6852 - 4s/epoch - 736us/step\n",
      "Epoch 37/50\n",
      "5814/5814 - 4s - loss: 517.5226 - mse: 674851.6250 - mae: 517.5226 - 4s/epoch - 737us/step\n",
      "Epoch 38/50\n",
      "5814/5814 - 4s - loss: 517.1770 - mse: 674151.8125 - mae: 517.1770 - 4s/epoch - 737us/step\n",
      "Epoch 39/50\n",
      "5814/5814 - 4s - loss: 516.8353 - mse: 672601.1250 - mae: 516.8353 - 4s/epoch - 753us/step\n",
      "Epoch 40/50\n",
      "5814/5814 - 4s - loss: 516.5596 - mse: 672364.6875 - mae: 516.5596 - 4s/epoch - 732us/step\n",
      "Epoch 41/50\n",
      "5814/5814 - 4s - loss: 516.3882 - mse: 670920.6875 - mae: 516.3882 - 4s/epoch - 743us/step\n",
      "Epoch 42/50\n",
      "5814/5814 - 4s - loss: 516.1114 - mse: 669885.1875 - mae: 516.1114 - 4s/epoch - 733us/step\n",
      "Epoch 43/50\n",
      "5814/5814 - 4s - loss: 515.9349 - mse: 670281.8125 - mae: 515.9349 - 4s/epoch - 736us/step\n",
      "Epoch 44/50\n",
      "5814/5814 - 4s - loss: 515.8597 - mse: 668190.3125 - mae: 515.8597 - 4s/epoch - 727us/step\n",
      "Epoch 45/50\n",
      "5814/5814 - 4s - loss: 515.6357 - mse: 667297.6250 - mae: 515.6357 - 4s/epoch - 731us/step\n",
      "Epoch 46/50\n",
      "5814/5814 - 4s - loss: 515.5339 - mse: 668125.0000 - mae: 515.5339 - 4s/epoch - 735us/step\n",
      "Epoch 47/50\n",
      "5814/5814 - 4s - loss: 515.2337 - mse: 665911.2500 - mae: 515.2337 - 4s/epoch - 744us/step\n",
      "Epoch 48/50\n",
      "5814/5814 - 4s - loss: 515.1496 - mse: 666969.7500 - mae: 515.1496 - 4s/epoch - 743us/step\n",
      "Epoch 49/50\n",
      "5814/5814 - 4s - loss: 515.0663 - mse: 665200.8750 - mae: 515.0663 - 4s/epoch - 744us/step\n",
      "Epoch 50/50\n",
      "5814/5814 - 4s - loss: 514.9811 - mse: 665989.8125 - mae: 514.9811 - 4s/epoch - 737us/step\n"
     ]
    },
    {
     "data": {
      "text/plain": [
       "<keras.callbacks.History at 0x7fe808210a30>"
      ]
     },
     "execution_count": 14,
     "metadata": {},
     "output_type": "execute_result"
    }
   ],
   "source": [
    "# Entrenamiento del modelo\n",
    "modelo_3.fit(x_train_transform,y_train,epochs=50,batch_size=10,verbose=2)"
   ]
  },
  {
   "cell_type": "code",
   "execution_count": 16,
   "id": "85916f5a-e08f-4098-98ff-ecbb99363349",
   "metadata": {},
   "outputs": [
    {
     "name": "stdout",
     "output_type": "stream",
     "text": [
      "455/455 [==============================] - 0s 729us/step\n",
      "Error absoluto medio 582.6529809429456\n",
      "Error cuadrático medio 652750.5472689988\n"
     ]
    }
   ],
   "source": [
    "y_pred = modelo_3.predict(x_test_transform)\n",
    "\n",
    "mae = mean_absolute_error(y_test,y_pred)\n",
    "mse = mean_squared_error(y_test,y_pred)\n",
    "\n",
    "print(f\"Error absoluto medio {mae}\")\n",
    "print(f\"Error cuadrático medio {mse}\")"
   ]
  },
  {
   "cell_type": "markdown",
   "id": "52a3f0b7-d7b4-4932-8931-4a34a8b86bc8",
   "metadata": {},
   "source": [
    "# Con tres capas"
   ]
  },
  {
   "cell_type": "markdown",
   "id": "1d00f08c-7013-4dfe-bd6c-69113b1baab6",
   "metadata": {
    "tags": []
   },
   "source": [
    "## Modelo 4"
   ]
  },
  {
   "cell_type": "code",
   "execution_count": 55,
   "id": "5106173e-9389-4e73-843d-781d78ec735f",
   "metadata": {},
   "outputs": [],
   "source": [
    "d_in=6\n",
    "d_out=1\n",
    "\n",
    "modelo_4 = keras.Sequential([\n",
    "    \n",
    "    keras.layers.Dense(6,input_shape=(d_in,), activation=\"relu\"),\n",
    "    #keras.layers.Dense(6,input_shape=(d_in,), activation=\"relu\", kernel_initializer='normal'),\n",
    "    \n",
    "    keras.layers.Dense(6, activation=\"relu\"),\n",
    "    \n",
    "    keras.layers.Dense(d_out)])"
   ]
  },
  {
   "cell_type": "code",
   "execution_count": 47,
   "id": "56da9052-6e41-460c-bad8-a43b47c5869b",
   "metadata": {},
   "outputs": [
    {
     "name": "stdout",
     "output_type": "stream",
     "text": [
      "Model: \"sequential_9\"\n",
      "_________________________________________________________________\n",
      " Layer (type)                Output Shape              Param #   \n",
      "=================================================================\n",
      " dense_25 (Dense)            (None, 6)                 42        \n",
      "                                                                 \n",
      " dense_26 (Dense)            (None, 1)                 7         \n",
      "                                                                 \n",
      "=================================================================\n",
      "Total params: 49\n",
      "Trainable params: 49\n",
      "Non-trainable params: 0\n",
      "_________________________________________________________________\n"
     ]
    }
   ],
   "source": [
    "modelo_4.summary()"
   ]
  },
  {
   "cell_type": "code",
   "execution_count": 49,
   "id": "97f7ca79-15c1-48da-bc9c-46fdf5932457",
   "metadata": {},
   "outputs": [],
   "source": [
    "modelo_4.compile(\n",
    "      #optimizer=keras.optimizers.SGD(learning_rate=0.01), \n",
    "      optimizer=keras.optimizers.RMSprop(learning_rate=0.0001, rho=0.9), \n",
    "      loss='mae', \n",
    "      metrics=['mse','mae'], \n",
    ")"
   ]
  },
  {
   "cell_type": "code",
   "execution_count": 52,
   "id": "16a17921-daea-4114-8317-5624e65b023e",
   "metadata": {
    "collapsed": true,
    "jupyter": {
     "outputs_hidden": true
    },
    "tags": []
   },
   "outputs": [
    {
     "name": "stdout",
     "output_type": "stream",
     "text": [
      "Epoch 1/100\n",
      "1817/1817 - 1s - loss: 561.8891 - mse: 786407.4375 - mae: 561.8891 - 1s/epoch - 806us/step\n",
      "Epoch 2/100\n",
      "1817/1817 - 1s - loss: 561.7044 - mse: 784973.3125 - mae: 561.7044 - 1s/epoch - 747us/step\n",
      "Epoch 3/100\n",
      "1817/1817 - 1s - loss: 561.5707 - mse: 784731.3125 - mae: 561.5707 - 1s/epoch - 743us/step\n",
      "Epoch 4/100\n",
      "1817/1817 - 1s - loss: 561.4315 - mse: 783341.1250 - mae: 561.4315 - 1s/epoch - 790us/step\n",
      "Epoch 5/100\n",
      "1817/1817 - 1s - loss: 561.3050 - mse: 783685.3125 - mae: 561.3050 - 1s/epoch - 760us/step\n",
      "Epoch 6/100\n",
      "1817/1817 - 1s - loss: 561.1725 - mse: 783254.6875 - mae: 561.1725 - 1s/epoch - 769us/step\n",
      "Epoch 7/100\n",
      "1817/1817 - 1s - loss: 561.0247 - mse: 782685.3125 - mae: 561.0247 - 1s/epoch - 757us/step\n",
      "Epoch 8/100\n",
      "1817/1817 - 1s - loss: 560.8830 - mse: 782792.5625 - mae: 560.8830 - 1s/epoch - 754us/step\n",
      "Epoch 9/100\n",
      "1817/1817 - 1s - loss: 560.7208 - mse: 782341.4375 - mae: 560.7208 - 1s/epoch - 756us/step\n",
      "Epoch 10/100\n",
      "1817/1817 - 1s - loss: 560.6011 - mse: 781142.1250 - mae: 560.6011 - 1s/epoch - 754us/step\n",
      "Epoch 11/100\n",
      "1817/1817 - 1s - loss: 560.4735 - mse: 781404.9375 - mae: 560.4735 - 1s/epoch - 741us/step\n",
      "Epoch 12/100\n",
      "1817/1817 - 1s - loss: 560.3306 - mse: 780796.0625 - mae: 560.3306 - 1s/epoch - 766us/step\n",
      "Epoch 13/100\n",
      "1817/1817 - 1s - loss: 560.2062 - mse: 780983.3750 - mae: 560.2062 - 1s/epoch - 740us/step\n",
      "Epoch 14/100\n",
      "1817/1817 - 1s - loss: 560.0840 - mse: 780016.2500 - mae: 560.0840 - 1s/epoch - 752us/step\n",
      "Epoch 15/100\n",
      "1817/1817 - 1s - loss: 559.9763 - mse: 779681.1875 - mae: 559.9763 - 1s/epoch - 734us/step\n",
      "Epoch 16/100\n",
      "1817/1817 - 1s - loss: 559.8456 - mse: 779306.8125 - mae: 559.8456 - 1s/epoch - 753us/step\n",
      "Epoch 17/100\n",
      "1817/1817 - 1s - loss: 559.7494 - mse: 779554.4375 - mae: 559.7494 - 1s/epoch - 768us/step\n",
      "Epoch 18/100\n",
      "1817/1817 - 1s - loss: 559.6219 - mse: 778600.0625 - mae: 559.6219 - 1s/epoch - 768us/step\n",
      "Epoch 19/100\n",
      "1817/1817 - 1s - loss: 559.5071 - mse: 779187.8750 - mae: 559.5071 - 1s/epoch - 743us/step\n",
      "Epoch 20/100\n",
      "1817/1817 - 1s - loss: 559.4044 - mse: 778448.7500 - mae: 559.4044 - 1s/epoch - 787us/step\n",
      "Epoch 21/100\n",
      "1817/1817 - 1s - loss: 559.2964 - mse: 778140.8125 - mae: 559.2964 - 1s/epoch - 738us/step\n",
      "Epoch 22/100\n",
      "1817/1817 - 1s - loss: 559.1732 - mse: 778056.4375 - mae: 559.1732 - 1s/epoch - 750us/step\n",
      "Epoch 23/100\n",
      "1817/1817 - 1s - loss: 559.0428 - mse: 776752.6875 - mae: 559.0428 - 1s/epoch - 745us/step\n",
      "Epoch 24/100\n",
      "1817/1817 - 1s - loss: 558.9378 - mse: 777323.8125 - mae: 558.9378 - 1s/epoch - 761us/step\n",
      "Epoch 25/100\n",
      "1817/1817 - 1s - loss: 558.7961 - mse: 776756.6250 - mae: 558.7961 - 1s/epoch - 742us/step\n",
      "Epoch 26/100\n",
      "1817/1817 - 1s - loss: 558.6834 - mse: 776508.6875 - mae: 558.6834 - 1s/epoch - 781us/step\n",
      "Epoch 27/100\n",
      "1817/1817 - 1s - loss: 558.5497 - mse: 777048.5625 - mae: 558.5497 - 1s/epoch - 739us/step\n",
      "Epoch 28/100\n",
      "1817/1817 - 1s - loss: 558.4294 - mse: 774948.1250 - mae: 558.4294 - 1s/epoch - 762us/step\n",
      "Epoch 29/100\n",
      "1817/1817 - 1s - loss: 558.2863 - mse: 775693.6250 - mae: 558.2863 - 1s/epoch - 764us/step\n",
      "Epoch 30/100\n",
      "1817/1817 - 1s - loss: 558.1399 - mse: 775056.1875 - mae: 558.1399 - 1s/epoch - 766us/step\n",
      "Epoch 31/100\n",
      "1817/1817 - 1s - loss: 558.0220 - mse: 774502.0625 - mae: 558.0220 - 1s/epoch - 748us/step\n",
      "Epoch 32/100\n",
      "1817/1817 - 1s - loss: 557.8799 - mse: 774116.5000 - mae: 557.8799 - 1s/epoch - 745us/step\n",
      "Epoch 33/100\n",
      "1817/1817 - 1s - loss: 557.7418 - mse: 773943.8750 - mae: 557.7418 - 1s/epoch - 755us/step\n",
      "Epoch 34/100\n",
      "1817/1817 - 1s - loss: 557.6008 - mse: 774043.8750 - mae: 557.6008 - 1s/epoch - 757us/step\n",
      "Epoch 35/100\n",
      "1817/1817 - 1s - loss: 557.4541 - mse: 773209.5000 - mae: 557.4541 - 1s/epoch - 796us/step\n",
      "Epoch 36/100\n",
      "1817/1817 - 1s - loss: 557.3030 - mse: 771755.3750 - mae: 557.3030 - 1s/epoch - 751us/step\n",
      "Epoch 37/100\n",
      "1817/1817 - 1s - loss: 557.1522 - mse: 772528.0625 - mae: 557.1522 - 1s/epoch - 769us/step\n",
      "Epoch 38/100\n",
      "1817/1817 - 1s - loss: 557.0129 - mse: 771835.3125 - mae: 557.0129 - 1s/epoch - 778us/step\n",
      "Epoch 39/100\n",
      "1817/1817 - 1s - loss: 556.8668 - mse: 771067.8750 - mae: 556.8668 - 1s/epoch - 750us/step\n",
      "Epoch 40/100\n",
      "1817/1817 - 1s - loss: 556.7075 - mse: 770510.0000 - mae: 556.7075 - 1s/epoch - 752us/step\n",
      "Epoch 41/100\n",
      "1817/1817 - 1s - loss: 556.5717 - mse: 770883.1250 - mae: 556.5717 - 1s/epoch - 802us/step\n",
      "Epoch 42/100\n",
      "1817/1817 - 2s - loss: 556.4130 - mse: 770004.9375 - mae: 556.4130 - 2s/epoch - 845us/step\n",
      "Epoch 43/100\n",
      "1817/1817 - 1s - loss: 556.2556 - mse: 769722.6250 - mae: 556.2556 - 1s/epoch - 749us/step\n",
      "Epoch 44/100\n",
      "1817/1817 - 1s - loss: 556.0778 - mse: 769769.5625 - mae: 556.0778 - 1s/epoch - 752us/step\n",
      "Epoch 45/100\n",
      "1817/1817 - 1s - loss: 555.9097 - mse: 769045.3750 - mae: 555.9097 - 1s/epoch - 753us/step\n",
      "Epoch 46/100\n",
      "1817/1817 - 1s - loss: 555.7258 - mse: 768304.4375 - mae: 555.7258 - 1s/epoch - 748us/step\n",
      "Epoch 47/100\n",
      "1817/1817 - 1s - loss: 555.5350 - mse: 767282.1250 - mae: 555.5350 - 1s/epoch - 767us/step\n",
      "Epoch 48/100\n",
      "1817/1817 - 1s - loss: 555.3577 - mse: 767382.0625 - mae: 555.3577 - 1s/epoch - 738us/step\n",
      "Epoch 49/100\n",
      "1817/1817 - 1s - loss: 555.1573 - mse: 766966.5000 - mae: 555.1573 - 1s/epoch - 758us/step\n",
      "Epoch 50/100\n",
      "1817/1817 - 1s - loss: 554.9701 - mse: 766284.9375 - mae: 554.9701 - 1s/epoch - 748us/step\n",
      "Epoch 51/100\n",
      "1817/1817 - 1s - loss: 554.7936 - mse: 765680.4375 - mae: 554.7936 - 1s/epoch - 750us/step\n",
      "Epoch 52/100\n",
      "1817/1817 - 1s - loss: 554.5963 - mse: 765173.4375 - mae: 554.5963 - 1s/epoch - 736us/step\n",
      "Epoch 53/100\n",
      "1817/1817 - 2s - loss: 554.4021 - mse: 765031.7500 - mae: 554.4021 - 2s/epoch - 888us/step\n",
      "Epoch 54/100\n",
      "1817/1817 - 2s - loss: 554.2007 - mse: 764234.9375 - mae: 554.2007 - 2s/epoch - 941us/step\n",
      "Epoch 55/100\n",
      "1817/1817 - 1s - loss: 553.9935 - mse: 763902.0625 - mae: 553.9935 - 1s/epoch - 796us/step\n",
      "Epoch 56/100\n",
      "1817/1817 - 1s - loss: 553.7976 - mse: 763332.0000 - mae: 553.7976 - 1s/epoch - 745us/step\n",
      "Epoch 57/100\n",
      "1817/1817 - 1s - loss: 553.5994 - mse: 763203.6875 - mae: 553.5994 - 1s/epoch - 771us/step\n",
      "Epoch 58/100\n",
      "1817/1817 - 1s - loss: 553.3969 - mse: 761830.0000 - mae: 553.3969 - 1s/epoch - 736us/step\n",
      "Epoch 59/100\n",
      "1817/1817 - 1s - loss: 553.1747 - mse: 761685.7500 - mae: 553.1747 - 1s/epoch - 819us/step\n",
      "Epoch 60/100\n",
      "1817/1817 - 1s - loss: 552.9609 - mse: 761248.3750 - mae: 552.9609 - 1s/epoch - 778us/step\n",
      "Epoch 61/100\n",
      "1817/1817 - 1s - loss: 552.7288 - mse: 760525.5625 - mae: 552.7288 - 1s/epoch - 726us/step\n",
      "Epoch 62/100\n",
      "1817/1817 - 1s - loss: 552.5009 - mse: 759542.3750 - mae: 552.5009 - 1s/epoch - 783us/step\n",
      "Epoch 63/100\n",
      "1817/1817 - 1s - loss: 552.2821 - mse: 759372.1875 - mae: 552.2821 - 1s/epoch - 752us/step\n",
      "Epoch 64/100\n",
      "1817/1817 - 1s - loss: 552.0450 - mse: 759307.0000 - mae: 552.0450 - 1s/epoch - 765us/step\n",
      "Epoch 65/100\n",
      "1817/1817 - 1s - loss: 551.8115 - mse: 757651.3125 - mae: 551.8115 - 1s/epoch - 744us/step\n",
      "Epoch 66/100\n",
      "1817/1817 - 1s - loss: 551.5764 - mse: 758480.8125 - mae: 551.5764 - 1s/epoch - 742us/step\n",
      "Epoch 67/100\n",
      "1817/1817 - 1s - loss: 551.3182 - mse: 756763.6250 - mae: 551.3182 - 1s/epoch - 756us/step\n",
      "Epoch 68/100\n",
      "1817/1817 - 1s - loss: 551.0527 - mse: 755990.3750 - mae: 551.0527 - 1s/epoch - 757us/step\n",
      "Epoch 69/100\n",
      "1817/1817 - 1s - loss: 550.7855 - mse: 756141.5000 - mae: 550.7855 - 1s/epoch - 774us/step\n",
      "Epoch 70/100\n",
      "1817/1817 - 1s - loss: 550.5021 - mse: 755498.6250 - mae: 550.5021 - 1s/epoch - 790us/step\n",
      "Epoch 71/100\n",
      "1817/1817 - 1s - loss: 550.2346 - mse: 753992.6875 - mae: 550.2346 - 1s/epoch - 758us/step\n",
      "Epoch 72/100\n",
      "1817/1817 - 2s - loss: 549.9593 - mse: 754134.6250 - mae: 549.9593 - 2s/epoch - 880us/step\n",
      "Epoch 73/100\n",
      "1817/1817 - 2s - loss: 549.6780 - mse: 753754.0625 - mae: 549.6780 - 2s/epoch - 890us/step\n",
      "Epoch 74/100\n",
      "1817/1817 - 1s - loss: 549.4000 - mse: 752032.5000 - mae: 549.4000 - 1s/epoch - 756us/step\n",
      "Epoch 75/100\n",
      "1817/1817 - 1s - loss: 549.0963 - mse: 752519.9375 - mae: 549.0963 - 1s/epoch - 749us/step\n",
      "Epoch 76/100\n",
      "1817/1817 - 1s - loss: 548.7897 - mse: 750600.8125 - mae: 548.7897 - 1s/epoch - 778us/step\n",
      "Epoch 77/100\n",
      "1817/1817 - 1s - loss: 548.4626 - mse: 749393.9375 - mae: 548.4626 - 1s/epoch - 765us/step\n",
      "Epoch 78/100\n",
      "1817/1817 - 1s - loss: 548.1490 - mse: 748798.6875 - mae: 548.1490 - 1s/epoch - 754us/step\n",
      "Epoch 79/100\n",
      "1817/1817 - 1s - loss: 547.8396 - mse: 748701.6875 - mae: 547.8396 - 1s/epoch - 752us/step\n",
      "Epoch 80/100\n",
      "1817/1817 - 1s - loss: 547.5411 - mse: 747852.8750 - mae: 547.5411 - 1s/epoch - 767us/step\n",
      "Epoch 81/100\n",
      "1817/1817 - 1s - loss: 547.2210 - mse: 746227.1875 - mae: 547.2210 - 1s/epoch - 753us/step\n",
      "Epoch 82/100\n",
      "1817/1817 - 1s - loss: 546.9178 - mse: 746688.6875 - mae: 546.9178 - 1s/epoch - 745us/step\n",
      "Epoch 83/100\n",
      "1817/1817 - 1s - loss: 546.6348 - mse: 744683.0000 - mae: 546.6348 - 1s/epoch - 746us/step\n",
      "Epoch 84/100\n",
      "1817/1817 - 1s - loss: 546.3239 - mse: 743828.2500 - mae: 546.3239 - 1s/epoch - 738us/step\n",
      "Epoch 85/100\n",
      "1817/1817 - 1s - loss: 546.0367 - mse: 742943.5625 - mae: 546.0367 - 1s/epoch - 750us/step\n",
      "Epoch 86/100\n",
      "1817/1817 - 1s - loss: 545.7349 - mse: 742054.6875 - mae: 545.7349 - 1s/epoch - 735us/step\n",
      "Epoch 87/100\n",
      "1817/1817 - 1s - loss: 545.4352 - mse: 741081.8125 - mae: 545.4352 - 1s/epoch - 766us/step\n",
      "Epoch 88/100\n",
      "1817/1817 - 1s - loss: 545.1362 - mse: 740201.4375 - mae: 545.1362 - 1s/epoch - 750us/step\n",
      "Epoch 89/100\n",
      "1817/1817 - 1s - loss: 544.8027 - mse: 739723.7500 - mae: 544.8027 - 1s/epoch - 748us/step\n",
      "Epoch 90/100\n",
      "1817/1817 - 1s - loss: 544.4949 - mse: 738470.8750 - mae: 544.4949 - 1s/epoch - 764us/step\n",
      "Epoch 91/100\n",
      "1817/1817 - 1s - loss: 544.1572 - mse: 737347.0625 - mae: 544.1572 - 1s/epoch - 754us/step\n",
      "Epoch 92/100\n",
      "1817/1817 - 1s - loss: 543.8357 - mse: 736385.0000 - mae: 543.8357 - 1s/epoch - 754us/step\n",
      "Epoch 93/100\n",
      "1817/1817 - 1s - loss: 543.5112 - mse: 736109.0000 - mae: 543.5112 - 1s/epoch - 750us/step\n",
      "Epoch 94/100\n",
      "1817/1817 - 1s - loss: 543.2017 - mse: 734731.7500 - mae: 543.2017 - 1s/epoch - 747us/step\n",
      "Epoch 95/100\n",
      "1817/1817 - 1s - loss: 542.8849 - mse: 733862.2500 - mae: 542.8849 - 1s/epoch - 776us/step\n",
      "Epoch 96/100\n",
      "1817/1817 - 1s - loss: 542.5970 - mse: 733182.8125 - mae: 542.5970 - 1s/epoch - 784us/step\n",
      "Epoch 97/100\n",
      "1817/1817 - 1s - loss: 542.2896 - mse: 732238.8750 - mae: 542.2896 - 1s/epoch - 795us/step\n",
      "Epoch 98/100\n",
      "1817/1817 - 1s - loss: 541.9808 - mse: 731197.0000 - mae: 541.9808 - 1s/epoch - 755us/step\n",
      "Epoch 99/100\n",
      "1817/1817 - 1s - loss: 541.6898 - mse: 730400.9375 - mae: 541.6898 - 1s/epoch - 757us/step\n",
      "Epoch 100/100\n",
      "1817/1817 - 1s - loss: 541.3712 - mse: 729691.3125 - mae: 541.3712 - 1s/epoch - 751us/step\n"
     ]
    },
    {
     "data": {
      "text/plain": [
       "<keras.callbacks.History at 0x7fe7cc241dc0>"
      ]
     },
     "execution_count": 52,
     "metadata": {},
     "output_type": "execute_result"
    }
   ],
   "source": [
    "# Entrenamiento del modelo\n",
    "#modelo_4.fit(x_train_transform,y_train,epochs=100,batch_size=10,verbose=2)\n",
    "modelo_4.fit(x_train_transform,y_train,epochs=100,batch_size=32,verbose=2)"
   ]
  },
  {
   "cell_type": "code",
   "execution_count": 53,
   "id": "d5626c47-f5cd-4dd3-b6a2-030ac4d79e23",
   "metadata": {},
   "outputs": [
    {
     "name": "stdout",
     "output_type": "stream",
     "text": [
      "455/455 [==============================] - 0s 765us/step\n",
      "Error absoluto medio 547.8497718569255\n",
      "Error cuadrático medio 661041.217672852\n"
     ]
    }
   ],
   "source": [
    "y_pred = modelo_4.predict(x_test_transform)\n",
    "\n",
    "mae = mean_absolute_error(y_test,y_pred)\n",
    "mse = mean_squared_error(y_test,y_pred)\n",
    "\n",
    "print(f\"Error absoluto medio {mae}\")\n",
    "print(f\"Error cuadrático medio {mse}\")"
   ]
  }
 ],
 "metadata": {
  "kernelspec": {
   "display_name": "Python 3 (ipykernel)",
   "language": "python",
   "name": "python3"
  },
  "language_info": {
   "codemirror_mode": {
    "name": "ipython",
    "version": 3
   },
   "file_extension": ".py",
   "mimetype": "text/x-python",
   "name": "python",
   "nbconvert_exporter": "python",
   "pygments_lexer": "ipython3",
   "version": "3.8.10"
  }
 },
 "nbformat": 4,
 "nbformat_minor": 5
}
