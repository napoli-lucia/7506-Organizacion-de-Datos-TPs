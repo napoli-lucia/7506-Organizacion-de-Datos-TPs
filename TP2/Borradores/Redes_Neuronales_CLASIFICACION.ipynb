{
 "cells": [
  {
   "cell_type": "markdown",
   "id": "aa302853-9918-4c2c-a45a-f57f1b6c3a95",
   "metadata": {},
   "source": [
    "# <center>Organizaci&oacute;n de Datos</center>\n",
    "#### <center>C&aacute;tedra Ing. Rodriguez, Juan Manuel </center>\n",
    "\n",
    "## <center>Trabajo Práctico 2:</center>\n",
    "### <center> Propiedades en Venta </center>\n",
    "### <center>  Grupo 18</center>\n",
    "\n",
    "\n",
    "#### **Integrantes:**\n",
    "\n",
    "* Analía Acevedo\n",
    "* Santiago Daniel Marczewski Neudeck\n",
    "* Lucia Belén Napoli\n",
    "* Brayan Ricaldi"
   ]
  },
  {
   "cell_type": "code",
   "execution_count": 1,
   "id": "4621e92d-429a-41cd-8c6d-279e8baccf5b",
   "metadata": {},
   "outputs": [
    {
     "name": "stderr",
     "output_type": "stream",
     "text": [
      "/home/lucia/.local/lib/python3.8/site-packages/pandas/core/computation/expressions.py:20: UserWarning: Pandas requires version '2.7.3' or newer of 'numexpr' (version '2.7.1' currently installed).\n",
      "  from pandas.core.computation.check import NUMEXPR_INSTALLED\n",
      "2022-12-08 00:17:02.623870: I tensorflow/core/platform/cpu_feature_guard.cc:193] This TensorFlow binary is optimized with oneAPI Deep Neural Network Library (oneDNN) to use the following CPU instructions in performance-critical operations:  AVX2 FMA\n",
      "To enable them in other operations, rebuild TensorFlow with the appropriate compiler flags.\n",
      "2022-12-08 00:17:03.138675: W tensorflow/compiler/xla/stream_executor/platform/default/dso_loader.cc:64] Could not load dynamic library 'libcudart.so.11.0'; dlerror: libcudart.so.11.0: cannot open shared object file: No such file or directory\n",
      "2022-12-08 00:17:03.138711: I tensorflow/compiler/xla/stream_executor/cuda/cudart_stub.cc:29] Ignore above cudart dlerror if you do not have a GPU set up on your machine.\n",
      "2022-12-08 00:17:04.686835: W tensorflow/compiler/xla/stream_executor/platform/default/dso_loader.cc:64] Could not load dynamic library 'libnvinfer.so.7'; dlerror: libnvinfer.so.7: cannot open shared object file: No such file or directory\n",
      "2022-12-08 00:17:04.687023: W tensorflow/compiler/xla/stream_executor/platform/default/dso_loader.cc:64] Could not load dynamic library 'libnvinfer_plugin.so.7'; dlerror: libnvinfer_plugin.so.7: cannot open shared object file: No such file or directory\n",
      "2022-12-08 00:17:04.687039: W tensorflow/compiler/tf2tensorrt/utils/py_utils.cc:38] TF-TRT Warning: Cannot dlopen some TensorRT libraries. If you would like to use Nvidia GPU with TensorRT, please make sure the missing libraries mentioned above are installed properly.\n"
     ]
    }
   ],
   "source": [
    "import pandas as pd\n",
    "import matplotlib.pyplot as plt\n",
    "import seaborn as sns\n",
    "import numpy as np\n",
    "import sklearn.preprocessing as skp\n",
    "\n",
    "from sklearn.impute import KNNImputer, SimpleImputer\n",
    "from sklearn.preprocessing import (\n",
    "    KBinsDiscretizer,\n",
    "    LabelEncoder,\n",
    "    MinMaxScaler,\n",
    "    Normalizer,\n",
    "    OneHotEncoder,\n",
    "    OrdinalEncoder,\n",
    "    PowerTransformer,\n",
    "    RobustScaler,\n",
    "    StandardScaler,\n",
    ")\n",
    "\n",
    "import warnings\n",
    "\n",
    "warnings.simplefilter(action=\"ignore\", category=FutureWarning)\n",
    "from preprocessing import preprocesamiento\n",
    "\n",
    "from sklearn.model_selection import RandomizedSearchCV\n",
    "from joblib import dump, load\n",
    "\n",
    "pd.options.display.max_columns = None\n",
    "\n",
    "from sklearn.ensemble import RandomForestClassifier \n",
    "from sklearn.linear_model import LogisticRegression \n",
    "from sklearn.neighbors import KNeighborsClassifier\n",
    "from sklearn.tree import DecisionTreeClassifier\n",
    "from sklearn.svm import SVC\n",
    "from sklearn.neural_network import MLPClassifier\n",
    "from sklearn.linear_model import LogisticRegressionCV\n",
    "from sklearn.ensemble import VotingClassifier\n",
    "from sklearn.model_selection import train_test_split\n",
    "from sklearn.metrics import f1_score,  recall_score, precision_score, accuracy_score\n",
    "from sklearn.datasets import make_classification\n",
    "from collections import defaultdict\n",
    "from keras.utils import np_utils\n",
    "from sklearn.metrics import confusion_matrix, classification_report\n",
    "from sklearn.model_selection import GridSearchCV\n",
    "\n",
    "import plotly.graph_objects as go\n",
    "%matplotlib inline\n",
    "\n",
    "\n",
    "from sklearn.model_selection import cross_val_score, RepeatedStratifiedKFold\n",
    "\n",
    "from sklearn.metrics import mean_absolute_error, mean_squared_error\n",
    "from sklearn.preprocessing import StandardScaler\n",
    "\n",
    "import tensorflow as tf\n",
    "import tensorflow as tfa\n",
    "from tensorflow import keras\n",
    "import keras_tuner as kt\n",
    "import visualkeras\n",
    "from keras.wrappers.scikit_learn import KerasClassifier\n",
    "from keras import backend as K\n",
    "\n",
    "np.random.seed(1)\n",
    "tf.random.set_seed(1)\n",
    "\n",
    "import warnings\n",
    "warnings.filterwarnings(\"ignore\", category=DeprecationWarning) "
   ]
  },
  {
   "cell_type": "markdown",
   "id": "8201a314-d045-466f-975e-1b5c0b1bbdf7",
   "metadata": {},
   "source": [
    "Descargo los datos para el modelo 1"
   ]
  },
  {
   "cell_type": "code",
   "execution_count": 2,
   "id": "d5c9c4f4-dfc4-4170-a50d-fca9a2c5a295",
   "metadata": {},
   "outputs": [],
   "source": [
    "_x_train_model1 = pd.read_csv('./DataSet/x_train')\n",
    "_x_train_model1.drop(columns=['Unnamed: 0'],inplace=True)\n",
    "_y_train_model1 = pd.read_csv('./DataSet/y_train')\n",
    "_y_train_model1.drop(columns=['Unnamed: 0'],inplace=True)\n",
    "_x_test_model1 = pd.read_csv('./DataSet/x_test')\n",
    "_x_test_model1.drop(columns=['Unnamed: 0'],inplace=True)\n",
    "_y_test_model1 = pd.read_csv('./DataSet/y_test')\n",
    "_y_test_model1.drop(columns=['Unnamed: 0'],inplace=True)\n",
    "_y_train_model1.rename(columns={'0':'pxm2'}, inplace=True)\n",
    "_y_test_model1.rename(columns={'0':'pxm2'}, inplace=True)"
   ]
  },
  {
   "cell_type": "markdown",
   "id": "3330f4c6-6e10-40c3-a710-51dd14f0d056",
   "metadata": {},
   "source": [
    "# Redes neuronales"
   ]
  },
  {
   "cell_type": "markdown",
   "id": "c5390c5a-0439-40e6-af58-d59a8676e5e6",
   "metadata": {},
   "source": [
    "Construir dos modelos de redes neuronales, uno para regresión y otro para clasificación,\n",
    "considerando los datasets creados en el TP1. Mejorar estos modelos de redes\n",
    "neuronales a través de la búsqueda de arquitectura e hiperparámetros adecuados. Se\n",
    "pide:\n",
    "\n",
    "● Regresión: predecir el precio de la propiedad y utilizar como métrica de\n",
    "evaluación el error cuadrático medio.\n",
    "\n",
    "● Clasificación: predecir el atributo tipo_precio creado en el TP 1 y utilizar como\n",
    "métricas precisión, recall y F1-Score.\n"
   ]
  },
  {
   "cell_type": "markdown",
   "id": "38b94891-0d86-46da-8d7b-d3e1771fc9da",
   "metadata": {
    "id": "NTFyS4teZKip",
    "tags": []
   },
   "source": [
    "# Modelo de Redes Neuronales para clasificación"
   ]
  },
  {
   "cell_type": "markdown",
   "id": "2b7619e8-9907-495e-8814-4e840dc4b93f",
   "metadata": {},
   "source": [
    "Los hiperparametros a buscar son los siguientes:\n",
    "\n",
    "- **Función de activación:** Vamos a usar relu y softmax\n",
    "- **Cantidad de capas:** Es la cantidad de capas que tendrá la red neuronal. Tendremos una capa input, ? ocultas y una capa de salida.\n",
    "- **Cantidad de neuronas por capa:** Tendremos tres neuronas en la capa de salida porque son tres las clases que queremos predecir: alto, medio y bajo. En la capa de entrada tendremos 8 neuronas, la cantidad de features que tiene el dataset.\n",
    "- **Optimizador:** Un optimizador es una implementación concreta del algoritmo de descenso por gradiente dentro de backpropagation.\n",
    "    - SGD (Stochastic Gradient Descent): Backpropagation simple, sin ningún tipo de optimización. \n",
    "    - Adam (Adaptive moment estimation): Hace un seguimiento de una media de decaimiento exponencial de gradientes pasados y de gradientes cuadrados pasados.\n",
    "- **Loss function o función de perdida:** Es la función utilizada por el optimizador para minimizar. Usaremos categorical_crossentropy.\n",
    "- **Learning rate o tasa de aprendizaje:** Indica qué tan rápido se va descediendo en la función de costo, qué tan rápido va acercandose al minimo local o global.\n",
    "- **Metricas:** Se van calculando en cada iteracion o batch. Utilizaremos precision, recall y F1-Score\n",
    "- **Cantidad de epochs:** Es la cantidad de iteraciones que tendrá el entrenamiento. En este caso 100."
   ]
  },
  {
   "cell_type": "markdown",
   "id": "a718d946-5d09-4d32-b03c-bce332c7d0b4",
   "metadata": {},
   "source": [
    "Defino funciones:"
   ]
  },
  {
   "cell_type": "code",
   "execution_count": 3,
   "id": "fe668fbc-e3b5-42e0-8655-ea26ba2919b9",
   "metadata": {},
   "outputs": [],
   "source": [
    "def recall_m(y_true, y_pred):\n",
    "    true_positives = K.sum(K.round(K.clip(y_true * y_pred, 0, 1)))\n",
    "    possible_positives = K.sum(K.round(K.clip(y_true, 0, 1)))\n",
    "    recall = true_positives / (possible_positives + K.epsilon())\n",
    "    return recall\n",
    "\n",
    "def precision_m(y_true, y_pred):\n",
    "    true_positives = K.sum(K.round(K.clip(y_true * y_pred, 0, 1)))\n",
    "    predicted_positives = K.sum(K.round(K.clip(y_pred, 0, 1)))\n",
    "    precision = true_positives / (predicted_positives + K.epsilon())\n",
    "    return precision\n",
    "\n",
    "def f1_m(y_true, y_pred):\n",
    "    precision = precision_m(y_true, y_pred)\n",
    "    recall = recall_m(y_true, y_pred)\n",
    "    return 2*((precision*recall)/(precision+recall+K.epsilon()))"
   ]
  },
  {
   "cell_type": "markdown",
   "id": "cad75013-2980-4486-8d77-8551b1d7dadb",
   "metadata": {},
   "source": [
    "Ejecutamos una copia de los modelos"
   ]
  },
  {
   "cell_type": "code",
   "execution_count": 4,
   "id": "c6c264bd-b9b7-42d7-b7a5-52ebcbcad36b",
   "metadata": {},
   "outputs": [],
   "source": [
    "x_train = _x_train_model1.copy()\n",
    "y_train = _y_train_model1.copy()\n",
    "x_test = _x_test_model1.copy()\n",
    "y_test = _y_test_model1.copy()"
   ]
  },
  {
   "cell_type": "markdown",
   "id": "85089be4-575f-4fc7-8a39-92d671063c12",
   "metadata": {},
   "source": [
    "Clasifico mi target"
   ]
  },
  {
   "cell_type": "code",
   "execution_count": 5,
   "id": "35fd2450-7048-4e73-a8fa-870344f3c628",
   "metadata": {},
   "outputs": [],
   "source": [
    "labels=[\"bajo\",\"medio\",\"alto\"]\n",
    "new_target_train, bins = pd.qcut(y_train['pxm2'],q=[0,0.25,0.75,1], labels=labels, retbins=True)"
   ]
  },
  {
   "cell_type": "markdown",
   "id": "fcf38a10-59c2-4f73-8405-bdc670850661",
   "metadata": {},
   "source": [
    "Reflejo la clasificacion en el test"
   ]
  },
  {
   "cell_type": "code",
   "execution_count": 6,
   "id": "27252fa1-5e97-4fff-85cd-c50f29682278",
   "metadata": {},
   "outputs": [],
   "source": [
    "bins[0] = min(y_test['pxm2']) - 1\n",
    "bins[3] = max(y_test['pxm2']) + 1"
   ]
  },
  {
   "cell_type": "code",
   "execution_count": 7,
   "id": "db2339e9-c5f4-42b9-b01b-d2fadb0cc833",
   "metadata": {},
   "outputs": [],
   "source": [
    "new_target_test = pd.cut(y_test['pxm2'], bins=bins, labels=labels, include_lowest=True)"
   ]
  },
  {
   "cell_type": "code",
   "execution_count": 8,
   "id": "f29e44b5-c632-455f-9591-c25319e3c047",
   "metadata": {},
   "outputs": [],
   "source": [
    "y_train = new_target_train\n",
    "y_test = new_target_test"
   ]
  },
  {
   "cell_type": "code",
   "execution_count": 9,
   "id": "9e2eed7a-b258-4df3-ad90-de776422dbbb",
   "metadata": {},
   "outputs": [
    {
     "data": {
      "text/html": [
       "<div>\n",
       "<style scoped>\n",
       "    .dataframe tbody tr th:only-of-type {\n",
       "        vertical-align: middle;\n",
       "    }\n",
       "\n",
       "    .dataframe tbody tr th {\n",
       "        vertical-align: top;\n",
       "    }\n",
       "\n",
       "    .dataframe thead th {\n",
       "        text-align: right;\n",
       "    }\n",
       "</style>\n",
       "<table border=\"1\" class=\"dataframe\">\n",
       "  <thead>\n",
       "    <tr style=\"text-align: right;\">\n",
       "      <th></th>\n",
       "      <th>latitud</th>\n",
       "      <th>longitud</th>\n",
       "      <th>ambientes</th>\n",
       "      <th>dormitorios</th>\n",
       "      <th>superficie_cubierta</th>\n",
       "      <th>comuna</th>\n",
       "      <th>Departamento</th>\n",
       "      <th>PH</th>\n",
       "    </tr>\n",
       "  </thead>\n",
       "  <tbody>\n",
       "    <tr>\n",
       "      <th>0</th>\n",
       "      <td>-34.583010</td>\n",
       "      <td>-58.481533</td>\n",
       "      <td>4.0</td>\n",
       "      <td>3.0</td>\n",
       "      <td>70.0</td>\n",
       "      <td>15</td>\n",
       "      <td>1.0</td>\n",
       "      <td>0.0</td>\n",
       "    </tr>\n",
       "    <tr>\n",
       "      <th>1</th>\n",
       "      <td>-34.660079</td>\n",
       "      <td>-58.485894</td>\n",
       "      <td>6.0</td>\n",
       "      <td>4.0</td>\n",
       "      <td>275.0</td>\n",
       "      <td>9</td>\n",
       "      <td>0.0</td>\n",
       "      <td>0.0</td>\n",
       "    </tr>\n",
       "    <tr>\n",
       "      <th>2</th>\n",
       "      <td>-34.581856</td>\n",
       "      <td>-58.425088</td>\n",
       "      <td>3.0</td>\n",
       "      <td>2.0</td>\n",
       "      <td>97.0</td>\n",
       "      <td>14</td>\n",
       "      <td>1.0</td>\n",
       "      <td>0.0</td>\n",
       "    </tr>\n",
       "    <tr>\n",
       "      <th>3</th>\n",
       "      <td>-34.607547</td>\n",
       "      <td>-58.442194</td>\n",
       "      <td>2.0</td>\n",
       "      <td>1.0</td>\n",
       "      <td>42.0</td>\n",
       "      <td>6</td>\n",
       "      <td>1.0</td>\n",
       "      <td>0.0</td>\n",
       "    </tr>\n",
       "    <tr>\n",
       "      <th>4</th>\n",
       "      <td>-34.607416</td>\n",
       "      <td>-58.509680</td>\n",
       "      <td>2.0</td>\n",
       "      <td>1.0</td>\n",
       "      <td>38.0</td>\n",
       "      <td>11</td>\n",
       "      <td>1.0</td>\n",
       "      <td>0.0</td>\n",
       "    </tr>\n",
       "  </tbody>\n",
       "</table>\n",
       "</div>"
      ],
      "text/plain": [
       "     latitud   longitud  ambientes  dormitorios  superficie_cubierta  comuna  \\\n",
       "0 -34.583010 -58.481533        4.0          3.0                 70.0      15   \n",
       "1 -34.660079 -58.485894        6.0          4.0                275.0       9   \n",
       "2 -34.581856 -58.425088        3.0          2.0                 97.0      14   \n",
       "3 -34.607547 -58.442194        2.0          1.0                 42.0       6   \n",
       "4 -34.607416 -58.509680        2.0          1.0                 38.0      11   \n",
       "\n",
       "   Departamento   PH  \n",
       "0           1.0  0.0  \n",
       "1           0.0  0.0  \n",
       "2           1.0  0.0  \n",
       "3           1.0  0.0  \n",
       "4           1.0  0.0  "
      ]
     },
     "execution_count": 9,
     "metadata": {},
     "output_type": "execute_result"
    }
   ],
   "source": [
    "x_train.head()"
   ]
  },
  {
   "cell_type": "code",
   "execution_count": 10,
   "id": "b0956746-af3f-4145-b82b-8307711ce76d",
   "metadata": {},
   "outputs": [
    {
     "data": {
      "text/plain": [
       "0     alto\n",
       "1     bajo\n",
       "2    medio\n",
       "3     bajo\n",
       "4     alto\n",
       "Name: pxm2, dtype: category\n",
       "Categories (3, object): ['bajo' < 'medio' < 'alto']"
      ]
     },
     "execution_count": 10,
     "metadata": {},
     "output_type": "execute_result"
    }
   ],
   "source": [
    "y_train.head()"
   ]
  },
  {
   "cell_type": "code",
   "execution_count": 11,
   "id": "f0f4c416-493f-4723-92d5-ede6f9f77c3e",
   "metadata": {},
   "outputs": [],
   "source": [
    "scaler = StandardScaler()\n",
    "x_train_scaled = scaler.fit_transform(x_train)\n",
    "x_test_scaled = scaler.transform(x_test)"
   ]
  },
  {
   "cell_type": "code",
   "execution_count": 12,
   "id": "d3608193-73ec-4db1-a199-7244495a9e23",
   "metadata": {},
   "outputs": [
    {
     "data": {
      "text/plain": [
       "array([[ 0.50172268, -1.12215239,  0.89519544,  1.11266314, -0.0867647 ,\n",
       "         1.27157065,  0.40756802, -0.34041477],\n",
       "       [-2.41244287, -1.23741004,  2.38416976,  2.11040252,  3.24390971,\n",
       "         0.04401013, -2.45357818, -0.34041477],\n",
       "       [ 0.54533212,  0.36963696,  0.15070829,  0.11492376,  0.35190949,\n",
       "         1.06697723,  0.40756802, -0.34041477],\n",
       "       [-0.42611094, -0.08247136, -0.59377887, -0.88281562, -0.54168608,\n",
       "        -0.56977013,  0.40756802, -0.34041477],\n",
       "       [-0.42116132, -1.86603329, -0.59377887, -0.88281562, -0.60667485,\n",
       "         0.45319697,  0.40756802, -0.34041477]])"
      ]
     },
     "execution_count": 12,
     "metadata": {},
     "output_type": "execute_result"
    }
   ],
   "source": [
    "x_train_scaled[0:5]"
   ]
  },
  {
   "cell_type": "code",
   "execution_count": 13,
   "id": "fd5b26bb-2637-4ae8-a7e5-d02d4c203d43",
   "metadata": {},
   "outputs": [
    {
     "data": {
      "text/plain": [
       "array([[ 0.71775929,  0.84185548,  0.89519544,  1.11266314,  1.45671856,\n",
       "        -1.59273724, -2.45357818, 45.55169185],\n",
       "       [ 1.93801313, -0.55876081,  0.89519544,  1.11266314,  0.3356623 ,\n",
       "        -1.59273724, -2.45357818, 42.27368424],\n",
       "       [ 0.15948763,  1.1736359 ,  0.89519544,  1.11266314,  0.69310053,\n",
       "        -1.59273724, -2.45357818,  6.21560046],\n",
       "       [-1.23918317,  0.15928422, -1.33826603, -0.88281562, -0.68791081,\n",
       "        -1.59273724, -2.45357818, 22.60563854],\n",
       "       [ 0.15594841,  1.60679493,  0.15070829,  0.11492376,  1.31049383,\n",
       "        -1.59273724, -2.45357818,  2.93759284]])"
      ]
     },
     "execution_count": 13,
     "metadata": {},
     "output_type": "execute_result"
    }
   ],
   "source": [
    "x_test_scaled[0:5]"
   ]
  },
  {
   "cell_type": "code",
   "execution_count": 14,
   "id": "27f3e086-0174-4aa0-bb13-0374f33493d3",
   "metadata": {},
   "outputs": [],
   "source": [
    "# One hot encoding\n",
    "enc = OneHotEncoder()\n",
    "y_train_encoder = enc.fit_transform(y_train[:, np.newaxis]).toarray()\n",
    "y_test_encoder = enc.transform(y_test[:, np.newaxis]).toarray()"
   ]
  },
  {
   "cell_type": "code",
   "execution_count": 15,
   "id": "d186a9c0-3bda-43b9-b914-2365540e34d2",
   "metadata": {},
   "outputs": [
    {
     "data": {
      "text/plain": [
       "array([[1., 0., 0.],\n",
       "       [0., 1., 0.],\n",
       "       [0., 0., 1.],\n",
       "       [0., 1., 0.],\n",
       "       [1., 0., 0.]])"
      ]
     },
     "execution_count": 15,
     "metadata": {},
     "output_type": "execute_result"
    }
   ],
   "source": [
    "y_train_encoder[0:5]"
   ]
  },
  {
   "cell_type": "code",
   "execution_count": 16,
   "id": "7e6b5302-1373-43d7-ab49-6800d8588038",
   "metadata": {},
   "outputs": [
    {
     "data": {
      "text/plain": [
       "array([[1., 0., 0.],\n",
       "       [1., 0., 0.],\n",
       "       [1., 0., 0.],\n",
       "       [0., 1., 0.],\n",
       "       [1., 0., 0.]])"
      ]
     },
     "execution_count": 16,
     "metadata": {},
     "output_type": "execute_result"
    }
   ],
   "source": [
    "y_test_encoder[0:5]"
   ]
  },
  {
   "cell_type": "markdown",
   "id": "8111b9d3-a3c8-4192-8ffd-d1f89301c359",
   "metadata": {},
   "source": [
    "+ Cantidad de capas ocultas tiene que estar entre 3 y 8"
   ]
  },
  {
   "cell_type": "code",
   "execution_count": 17,
   "id": "4450de99-c8d0-4c0d-ad03-165265d61ebf",
   "metadata": {},
   "outputs": [],
   "source": [
    "cant_clases = len(np.unique(y_train))\n",
    "\n",
    "d_in = len(x_train.columns.tolist())"
   ]
  },
  {
   "cell_type": "markdown",
   "id": "b7ed56c2-d1b7-4f1e-9dde-b71c1078a120",
   "metadata": {
    "tags": []
   },
   "source": [
    "## Modelo 1"
   ]
  },
  {
   "cell_type": "code",
   "execution_count": 18,
   "id": "30e6e55a-6272-4579-8a4b-4b17dfd731c7",
   "metadata": {},
   "outputs": [
    {
     "name": "stdout",
     "output_type": "stream",
     "text": [
      "Model: \"sequential\"\n",
      "_________________________________________________________________\n",
      " Layer (type)                Output Shape              Param #   \n",
      "=================================================================\n",
      " dense (Dense)               (None, 8)                 72        \n",
      "                                                                 \n",
      " dense_1 (Dense)             (None, 5)                 45        \n",
      "                                                                 \n",
      " dense_2 (Dense)             (None, 3)                 18        \n",
      "                                                                 \n",
      "=================================================================\n",
      "Total params: 135\n",
      "Trainable params: 135\n",
      "Non-trainable params: 0\n",
      "_________________________________________________________________\n"
     ]
    },
    {
     "name": "stderr",
     "output_type": "stream",
     "text": [
      "2022-12-08 00:17:36.206049: W tensorflow/compiler/xla/stream_executor/platform/default/dso_loader.cc:64] Could not load dynamic library 'libcuda.so.1'; dlerror: libcuda.so.1: cannot open shared object file: No such file or directory\n",
      "2022-12-08 00:17:36.206551: W tensorflow/compiler/xla/stream_executor/cuda/cuda_driver.cc:265] failed call to cuInit: UNKNOWN ERROR (303)\n",
      "2022-12-08 00:17:36.206589: I tensorflow/compiler/xla/stream_executor/cuda/cuda_diagnostics.cc:156] kernel driver does not appear to be running on this host (lucia-UbuntuNotebook): /proc/driver/nvidia/version does not exist\n",
      "2022-12-08 00:17:36.207348: I tensorflow/core/platform/cpu_feature_guard.cc:193] This TensorFlow binary is optimized with oneAPI Deep Neural Network Library (oneDNN) to use the following CPU instructions in performance-critical operations:  AVX2 FMA\n",
      "To enable them in other operations, rebuild TensorFlow with the appropriate compiler flags.\n"
     ]
    }
   ],
   "source": [
    "modelo_1 = keras.Sequential([\n",
    "    \n",
    "    keras.layers.Dense(8,input_shape=(d_in,), activation='relu'),\n",
    "    \n",
    "    keras.layers.Dense(5, activation='relu'),\n",
    "    \n",
    "    keras.layers.Dense(cant_clases, activation='softmax')])\n",
    "\n",
    "modelo_1.summary()"
   ]
  },
  {
   "cell_type": "code",
   "execution_count": 19,
   "id": "7fb4462f-883c-4288-9d78-40c29db4f635",
   "metadata": {},
   "outputs": [],
   "source": [
    "modelo_1.compile(\n",
    "  optimizer=keras.optimizers.SGD(learning_rate=0.01), \n",
    "  loss='categorical_crossentropy', \n",
    "  metrics=[precision_m, recall_m, f1_m], \n",
    ")"
   ]
  },
  {
   "cell_type": "code",
   "execution_count": 20,
   "id": "698d9b9e-415e-4886-96e2-2cfc17ee801d",
   "metadata": {},
   "outputs": [
    {
     "name": "stdout",
     "output_type": "stream",
     "text": [
      "Epoch 1/50\n",
      "5814/5814 [==============================] - 12s 2ms/step - loss: 0.8666 - precision_m: 0.6191 - recall_m: 0.4779 - f1_m: 0.5336\n",
      "Epoch 2/50\n",
      "5814/5814 [==============================] - 11s 2ms/step - loss: 0.8170 - precision_m: 0.6377 - recall_m: 0.5534 - f1_m: 0.5903\n",
      "Epoch 3/50\n",
      "5814/5814 [==============================] - 11s 2ms/step - loss: 0.8063 - precision_m: 0.6388 - recall_m: 0.5628 - f1_m: 0.5963\n",
      "Epoch 4/50\n",
      "5814/5814 [==============================] - 11s 2ms/step - loss: 0.8009 - precision_m: 0.6401 - recall_m: 0.5691 - f1_m: 0.6005\n",
      "Epoch 5/50\n",
      "5814/5814 [==============================] - 11s 2ms/step - loss: 0.7974 - precision_m: 0.6404 - recall_m: 0.5725 - f1_m: 0.6026\n",
      "Epoch 6/50\n",
      "5814/5814 [==============================] - 11s 2ms/step - loss: 0.7951 - precision_m: 0.6405 - recall_m: 0.5750 - f1_m: 0.6041\n",
      "Epoch 7/50\n",
      "5814/5814 [==============================] - 11s 2ms/step - loss: 0.7921 - precision_m: 0.6404 - recall_m: 0.5760 - f1_m: 0.6047\n",
      "Epoch 8/50\n",
      "5814/5814 [==============================] - 12s 2ms/step - loss: 0.7893 - precision_m: 0.6410 - recall_m: 0.5801 - f1_m: 0.6073\n",
      "Epoch 9/50\n",
      "5814/5814 [==============================] - 11s 2ms/step - loss: 0.7874 - precision_m: 0.6424 - recall_m: 0.5822 - f1_m: 0.6092\n",
      "Epoch 10/50\n",
      "5814/5814 [==============================] - 10s 2ms/step - loss: 0.7856 - precision_m: 0.6425 - recall_m: 0.5852 - f1_m: 0.6109\n",
      "Epoch 11/50\n",
      "5814/5814 [==============================] - 10s 2ms/step - loss: 0.7846 - precision_m: 0.6431 - recall_m: 0.5847 - f1_m: 0.6109\n",
      "Epoch 12/50\n",
      "5814/5814 [==============================] - 10s 2ms/step - loss: 0.7829 - precision_m: 0.6450 - recall_m: 0.5875 - f1_m: 0.6133\n",
      "Epoch 13/50\n",
      "5814/5814 [==============================] - 11s 2ms/step - loss: 0.7819 - precision_m: 0.6452 - recall_m: 0.5877 - f1_m: 0.6135\n",
      "Epoch 14/50\n",
      "5814/5814 [==============================] - 15s 3ms/step - loss: 0.7803 - precision_m: 0.6458 - recall_m: 0.5905 - f1_m: 0.6154\n",
      "Epoch 15/50\n",
      "5814/5814 [==============================] - 17s 3ms/step - loss: 0.7796 - precision_m: 0.6448 - recall_m: 0.5908 - f1_m: 0.6152\n",
      "Epoch 16/50\n",
      "5814/5814 [==============================] - 17s 3ms/step - loss: 0.7785 - precision_m: 0.6462 - recall_m: 0.5912 - f1_m: 0.6160\n",
      "Epoch 17/50\n",
      "5814/5814 [==============================] - 17s 3ms/step - loss: 0.7777 - precision_m: 0.6458 - recall_m: 0.5892 - f1_m: 0.6146\n",
      "Epoch 18/50\n",
      "5814/5814 [==============================] - 12s 2ms/step - loss: 0.7770 - precision_m: 0.6469 - recall_m: 0.5899 - f1_m: 0.6154\n",
      "Epoch 19/50\n",
      "5814/5814 [==============================] - 12s 2ms/step - loss: 0.7766 - precision_m: 0.6478 - recall_m: 0.5917 - f1_m: 0.6168\n",
      "Epoch 20/50\n",
      "5814/5814 [==============================] - 10s 2ms/step - loss: 0.7759 - precision_m: 0.6464 - recall_m: 0.5901 - f1_m: 0.6154\n",
      "Epoch 21/50\n",
      "5814/5814 [==============================] - 10s 2ms/step - loss: 0.7757 - precision_m: 0.6485 - recall_m: 0.5915 - f1_m: 0.6170\n",
      "Epoch 22/50\n",
      "5814/5814 [==============================] - 10s 2ms/step - loss: 0.7753 - precision_m: 0.6494 - recall_m: 0.5900 - f1_m: 0.6166\n",
      "Epoch 23/50\n",
      "5814/5814 [==============================] - 10s 2ms/step - loss: 0.7750 - precision_m: 0.6495 - recall_m: 0.5889 - f1_m: 0.6160\n",
      "Epoch 24/50\n",
      "5814/5814 [==============================] - 11s 2ms/step - loss: 0.7749 - precision_m: 0.6495 - recall_m: 0.5915 - f1_m: 0.6175\n",
      "Epoch 25/50\n",
      "5814/5814 [==============================] - 11s 2ms/step - loss: 0.7746 - precision_m: 0.6498 - recall_m: 0.5891 - f1_m: 0.6163\n",
      "Epoch 26/50\n",
      "5814/5814 [==============================] - 11s 2ms/step - loss: 0.7745 - precision_m: 0.6482 - recall_m: 0.5893 - f1_m: 0.6157\n",
      "Epoch 27/50\n",
      "5814/5814 [==============================] - 10s 2ms/step - loss: 0.7742 - precision_m: 0.6507 - recall_m: 0.5914 - f1_m: 0.6180\n",
      "Epoch 28/50\n",
      "5814/5814 [==============================] - 10s 2ms/step - loss: 0.7740 - precision_m: 0.6487 - recall_m: 0.5893 - f1_m: 0.6159\n",
      "Epoch 29/50\n",
      "5814/5814 [==============================] - 10s 2ms/step - loss: 0.7735 - precision_m: 0.6495 - recall_m: 0.5920 - f1_m: 0.6178\n",
      "Epoch 30/50\n",
      "5814/5814 [==============================] - 10s 2ms/step - loss: 0.7737 - precision_m: 0.6497 - recall_m: 0.5912 - f1_m: 0.6174\n",
      "Epoch 31/50\n",
      "5814/5814 [==============================] - 10s 2ms/step - loss: 0.7730 - precision_m: 0.6502 - recall_m: 0.5924 - f1_m: 0.6184\n",
      "Epoch 32/50\n",
      "5814/5814 [==============================] - 10s 2ms/step - loss: 0.7726 - precision_m: 0.6490 - recall_m: 0.5929 - f1_m: 0.6181\n",
      "Epoch 33/50\n",
      "5814/5814 [==============================] - 10s 2ms/step - loss: 0.7728 - precision_m: 0.6505 - recall_m: 0.5927 - f1_m: 0.6187\n",
      "Epoch 34/50\n",
      "5814/5814 [==============================] - 10s 2ms/step - loss: 0.7725 - precision_m: 0.6483 - recall_m: 0.5927 - f1_m: 0.6177\n",
      "Epoch 35/50\n",
      "5814/5814 [==============================] - 10s 2ms/step - loss: 0.7725 - precision_m: 0.6498 - recall_m: 0.5940 - f1_m: 0.6191\n",
      "Epoch 36/50\n",
      "5814/5814 [==============================] - 10s 2ms/step - loss: 0.7715 - precision_m: 0.6497 - recall_m: 0.5943 - f1_m: 0.6192\n",
      "Epoch 37/50\n",
      "5814/5814 [==============================] - 10s 2ms/step - loss: 0.7714 - precision_m: 0.6502 - recall_m: 0.5945 - f1_m: 0.6195\n",
      "Epoch 38/50\n",
      "5814/5814 [==============================] - 10s 2ms/step - loss: 0.7715 - precision_m: 0.6498 - recall_m: 0.5947 - f1_m: 0.6195\n",
      "Epoch 39/50\n",
      "5814/5814 [==============================] - 10s 2ms/step - loss: 0.7717 - precision_m: 0.6499 - recall_m: 0.5938 - f1_m: 0.6190\n",
      "Epoch 40/50\n",
      "5814/5814 [==============================] - 12s 2ms/step - loss: 0.7716 - precision_m: 0.6493 - recall_m: 0.5938 - f1_m: 0.6187\n",
      "Epoch 41/50\n",
      "5814/5814 [==============================] - 12s 2ms/step - loss: 0.7713 - precision_m: 0.6509 - recall_m: 0.5946 - f1_m: 0.6199\n",
      "Epoch 42/50\n",
      "5814/5814 [==============================] - 11s 2ms/step - loss: 0.7712 - precision_m: 0.6512 - recall_m: 0.5953 - f1_m: 0.6203\n",
      "Epoch 43/50\n",
      "5814/5814 [==============================] - 11s 2ms/step - loss: 0.7711 - precision_m: 0.6501 - recall_m: 0.5952 - f1_m: 0.6199\n",
      "Epoch 44/50\n",
      "5814/5814 [==============================] - 12s 2ms/step - loss: 0.7711 - precision_m: 0.6510 - recall_m: 0.5954 - f1_m: 0.6205\n",
      "Epoch 45/50\n",
      "5814/5814 [==============================] - 11s 2ms/step - loss: 0.7709 - precision_m: 0.6498 - recall_m: 0.5942 - f1_m: 0.6193\n",
      "Epoch 46/50\n",
      "5814/5814 [==============================] - 12s 2ms/step - loss: 0.7710 - precision_m: 0.6506 - recall_m: 0.5952 - f1_m: 0.6200\n",
      "Epoch 47/50\n",
      "5814/5814 [==============================] - 12s 2ms/step - loss: 0.7704 - precision_m: 0.6491 - recall_m: 0.5947 - f1_m: 0.6192\n",
      "Epoch 48/50\n",
      "5814/5814 [==============================] - 11s 2ms/step - loss: 0.7703 - precision_m: 0.6503 - recall_m: 0.5952 - f1_m: 0.6200\n",
      "Epoch 49/50\n",
      "5814/5814 [==============================] - 12s 2ms/step - loss: 0.7707 - precision_m: 0.6504 - recall_m: 0.5969 - f1_m: 0.6210\n",
      "Epoch 50/50\n",
      "5814/5814 [==============================] - 11s 2ms/step - loss: 0.7705 - precision_m: 0.6494 - recall_m: 0.5950 - f1_m: 0.6194\n"
     ]
    }
   ],
   "source": [
    "cant_epochs=50\n",
    "\n",
    "historia_modelo_1 = modelo_1.fit(x_train_scaled,y_train_encoder,epochs=cant_epochs,batch_size=10)"
   ]
  },
  {
   "cell_type": "code",
   "execution_count": 21,
   "id": "f2be5ef2-23b9-4e46-8942-f8263386d4aa",
   "metadata": {},
   "outputs": [
    {
     "name": "stdout",
     "output_type": "stream",
     "text": [
      "455/455 [==============================] - 1s 2ms/step\n"
     ]
    }
   ],
   "source": [
    "y_predic = modelo_1.predict(x_test_scaled)"
   ]
  },
  {
   "cell_type": "code",
   "execution_count": 22,
   "id": "413c4b30-6524-444e-9d1a-a1e43b91b9b8",
   "metadata": {},
   "outputs": [
    {
     "data": {
      "text/plain": [
       "array([[8.1330556e-03, 2.5405927e-02, 9.6646100e-01],\n",
       "       [4.5680249e-01, 5.2781434e-05, 5.4314476e-01],\n",
       "       [1.3955226e-02, 7.3037189e-01, 2.5567293e-01],\n",
       "       [6.2690419e-06, 9.0257126e-01, 9.7422443e-02],\n",
       "       [7.1451604e-02, 5.5630898e-01, 3.7223944e-01]], dtype=float32)"
      ]
     },
     "execution_count": 22,
     "metadata": {},
     "output_type": "execute_result"
    }
   ],
   "source": [
    "y_predic[0:5]"
   ]
  },
  {
   "cell_type": "code",
   "execution_count": 23,
   "id": "be26e50b-ddfc-48f7-8340-ce7d680c4675",
   "metadata": {},
   "outputs": [],
   "source": [
    "y_predic_clases=np.argmax(y_predic,axis=1).tolist()\n",
    "y_real_clases=np.argmax(y_test_encoder,axis=1).tolist()"
   ]
  },
  {
   "cell_type": "code",
   "execution_count": 24,
   "id": "aa6336cb-b7c7-4dbc-ba60-5871398dcc0a",
   "metadata": {},
   "outputs": [
    {
     "data": {
      "image/png": "[encoded data removed]",
      "text/plain": [
       "<Figure size 432x288 with 2 Axes>"
      ]
     },
     "metadata": {
      "needs_background": "light"
     },
     "output_type": "display_data"
    }
   ],
   "source": [
    "ds_validacion=pd.DataFrame(y_predic_clases,y_real_clases).reset_index()\n",
    "ds_validacion.columns=['y_pred','y_real']\n",
    "\n",
    "tabla=pd.crosstab(ds_validacion.y_pred, ds_validacion.y_real)\n",
    "grf=sns.heatmap(tabla,annot=True, cmap = 'Blues')\n",
    "plt.show()"
   ]
  },
  {
   "cell_type": "code",
   "execution_count": 25,
   "id": "2d729963-1c04-48c4-b132-2d6f84dfb7f7",
   "metadata": {},
   "outputs": [],
   "source": [
    "epochs = range(cant_epochs)"
   ]
  },
  {
   "cell_type": "code",
   "execution_count": 26,
   "id": "46385f2c-ece6-405e-8192-0f89ebd02140",
   "metadata": {},
   "outputs": [
    {
     "data": {
      "text/plain": [
       "<matplotlib.legend.Legend at 0x7fc78ced63a0>"
      ]
     },
     "execution_count": 26,
     "metadata": {},
     "output_type": "execute_result"
    },
    {
     "data": {
      "image/png": "[encoded data removed]",
      "text/plain": [
       "<Figure size 432x288 with 1 Axes>"
      ]
     },
     "metadata": {
      "needs_background": "light"
     },
     "output_type": "display_data"
    }
   ],
   "source": [
    "plt.plot(epochs, historia_modelo_1.history['precision_m'], color='orange', label='precision')\n",
    "plt.xlabel(\"epochs\")\n",
    "plt.ylabel(\"precision\")\n",
    "plt.legend()"
   ]
  },
  {
   "cell_type": "code",
   "execution_count": 27,
   "id": "cbad3050-26b9-4ea2-b6d0-3ced42971a2e",
   "metadata": {},
   "outputs": [
    {
     "data": {
      "text/plain": [
       "<matplotlib.legend.Legend at 0x7fc78c72da90>"
      ]
     },
     "execution_count": 27,
     "metadata": {},
     "output_type": "execute_result"
    },
    {
     "data": {
      "image/png": "[encoded data removed]",
      "text/plain": [
       "<Figure size 432x288 with 1 Axes>"
      ]
     },
     "metadata": {
      "needs_background": "light"
     },
     "output_type": "display_data"
    }
   ],
   "source": [
    "plt.plot(epochs, historia_modelo_1.history['recall_m'], color='orange', label='recall')\n",
    "plt.xlabel(\"epochs\")\n",
    "plt.ylabel(\"recall\")\n",
    "plt.legend()"
   ]
  },
  {
   "cell_type": "code",
   "execution_count": 28,
   "id": "8894015e-74f2-4028-ae06-725fe8ac9eb1",
   "metadata": {},
   "outputs": [
    {
     "name": "stdout",
     "output_type": "stream",
     "text": [
      "              precision    recall  f1-score   support\n",
      "\n",
      "           0       0.60      0.06      0.11      3438\n",
      "           1       0.43      0.73      0.54      3660\n",
      "           2       0.57      0.61      0.59      7436\n",
      "\n",
      "    accuracy                           0.51     14534\n",
      "   macro avg       0.53      0.46      0.41     14534\n",
      "weighted avg       0.54      0.51      0.46     14534\n",
      "\n"
     ]
    }
   ],
   "source": [
    "#Arbol Reporte y Matriz de Confusion\n",
    "y_pred=np.argmax(y_predic,axis=1)\n",
    "y_test_enc=np.argmax(y_test_encoder,axis=1)\n",
    "\n",
    "print(classification_report(y_test_enc,y_pred))"
   ]
  },
  {
   "cell_type": "code",
   "execution_count": 29,
   "id": "76674c87-4c7c-46b7-8eac-3c42111b1457",
   "metadata": {},
   "outputs": [
    {
     "name": "stdout",
     "output_type": "stream",
     "text": [
      "Accuracy: 0.507774872712261\n",
      "Precision: 0.507774872712261\n",
      "Recall: 0.507774872712261\n",
      "F1-Score: 0.507774872712261\n"
     ]
    }
   ],
   "source": [
    "print('Accuracy: {}'.format(accuracy_score(y_test_enc, y_pred))) \n",
    "print('Precision: {}'.format(precision_score(y_test_enc, y_pred, average= 'micro'))) \n",
    "print('Recall: {}'.format(recall_score(y_test_enc, y_pred, average= 'micro'))) \n",
    "print('F1-Score: {}'.format(f1_score(y_test_enc, y_pred, average= 'micro'))) "
   ]
  },
  {
   "cell_type": "markdown",
   "id": "2dec2eb0-c255-4c95-8281-c6deabcfc6bc",
   "metadata": {
    "tags": []
   },
   "source": [
    "## Modelo 2: incremento epochs y batches"
   ]
  },
  {
   "cell_type": "code",
   "execution_count": 47,
   "id": "37e8dce0-9d2c-4425-9539-f8bdc9821654",
   "metadata": {},
   "outputs": [
    {
     "name": "stdout",
     "output_type": "stream",
     "text": [
      "Model: \"sequential_1\"\n",
      "_________________________________________________________________\n",
      " Layer (type)                Output Shape              Param #   \n",
      "=================================================================\n",
      " dense_3 (Dense)             (None, 8)                 72        \n",
      "                                                                 \n",
      " dense_4 (Dense)             (None, 5)                 45        \n",
      "                                                                 \n",
      " dense_5 (Dense)             (None, 3)                 18        \n",
      "                                                                 \n",
      "=================================================================\n",
      "Total params: 135\n",
      "Trainable params: 135\n",
      "Non-trainable params: 0\n",
      "_________________________________________________________________\n"
     ]
    }
   ],
   "source": [
    "modelo_2 = keras.Sequential([\n",
    "    \n",
    "    keras.layers.Dense(8,input_shape=(d_in,), activation='relu'),\n",
    "    \n",
    "    keras.layers.Dense(5, activation='relu'),\n",
    "    \n",
    "    keras.layers.Dense(cant_clases, activation='softmax')])\n",
    "\n",
    "modelo_2.summary()"
   ]
  },
  {
   "cell_type": "code",
   "execution_count": 48,
   "id": "ba0d341b-b2a2-43f1-b5e1-07b02fc5e811",
   "metadata": {},
   "outputs": [],
   "source": [
    "modelo_2.compile(\n",
    "  optimizer=keras.optimizers.SGD(learning_rate=0.01), \n",
    "  loss='categorical_crossentropy', \n",
    "  metrics=[precision_m, recall_m, f1_m], \n",
    ")"
   ]
  },
  {
   "cell_type": "code",
   "execution_count": 50,
   "id": "d1c4b0c3-8851-43f5-9372-c67a6cfa01b2",
   "metadata": {
    "collapsed": true,
    "jupyter": {
     "outputs_hidden": true
    },
    "tags": []
   },
   "outputs": [
    {
     "name": "stdout",
     "output_type": "stream",
     "text": [
      "Epoch 1/100\n",
      "5814/5814 - 8s - loss: 0.7804 - precision_m: 0.6453 - recall_m: 0.5912 - f1_m: 0.6156 - 8s/epoch - 1ms/step\n",
      "Epoch 2/100\n",
      "5814/5814 - 8s - loss: 0.7803 - precision_m: 0.6449 - recall_m: 0.5920 - f1_m: 0.6158 - 8s/epoch - 1ms/step\n",
      "Epoch 3/100\n",
      "5814/5814 - 8s - loss: 0.7804 - precision_m: 0.6448 - recall_m: 0.5917 - f1_m: 0.6157 - 8s/epoch - 1ms/step\n",
      "Epoch 4/100\n",
      "5814/5814 - 8s - loss: 0.7799 - precision_m: 0.6453 - recall_m: 0.5928 - f1_m: 0.6164 - 8s/epoch - 1ms/step\n",
      "Epoch 5/100\n",
      "5814/5814 - 8s - loss: 0.7795 - precision_m: 0.6459 - recall_m: 0.5921 - f1_m: 0.6163 - 8s/epoch - 1ms/step\n",
      "Epoch 6/100\n",
      "5814/5814 - 8s - loss: 0.7796 - precision_m: 0.6439 - recall_m: 0.5922 - f1_m: 0.6155 - 8s/epoch - 1ms/step\n",
      "Epoch 7/100\n",
      "5814/5814 - 8s - loss: 0.7796 - precision_m: 0.6430 - recall_m: 0.5912 - f1_m: 0.6145 - 8s/epoch - 1ms/step\n",
      "Epoch 8/100\n",
      "5814/5814 - 8s - loss: 0.7793 - precision_m: 0.6442 - recall_m: 0.5917 - f1_m: 0.6153 - 8s/epoch - 1ms/step\n",
      "Epoch 9/100\n",
      "5814/5814 - 8s - loss: 0.7790 - precision_m: 0.6445 - recall_m: 0.5938 - f1_m: 0.6167 - 8s/epoch - 1ms/step\n",
      "Epoch 10/100\n",
      "5814/5814 - 8s - loss: 0.7785 - precision_m: 0.6440 - recall_m: 0.5944 - f1_m: 0.6169 - 8s/epoch - 1ms/step\n",
      "Epoch 11/100\n",
      "5814/5814 - 8s - loss: 0.7785 - precision_m: 0.6446 - recall_m: 0.5918 - f1_m: 0.6156 - 8s/epoch - 1ms/step\n",
      "Epoch 12/100\n",
      "5814/5814 - 8s - loss: 0.7776 - precision_m: 0.6449 - recall_m: 0.5946 - f1_m: 0.6173 - 8s/epoch - 1ms/step\n",
      "Epoch 13/100\n",
      "5814/5814 - 10s - loss: 0.7777 - precision_m: 0.6436 - recall_m: 0.5945 - f1_m: 0.6167 - 10s/epoch - 2ms/step\n",
      "Epoch 14/100\n",
      "5814/5814 - 8s - loss: 0.7771 - precision_m: 0.6455 - recall_m: 0.5949 - f1_m: 0.6177 - 8s/epoch - 1ms/step\n",
      "Epoch 15/100\n",
      "5814/5814 - 9s - loss: 0.7771 - precision_m: 0.6438 - recall_m: 0.5942 - f1_m: 0.6167 - 9s/epoch - 2ms/step\n",
      "Epoch 16/100\n",
      "5814/5814 - 8s - loss: 0.7767 - precision_m: 0.6463 - recall_m: 0.5956 - f1_m: 0.6185 - 8s/epoch - 1ms/step\n",
      "Epoch 17/100\n",
      "5814/5814 - 9s - loss: 0.7766 - precision_m: 0.6450 - recall_m: 0.5943 - f1_m: 0.6172 - 9s/epoch - 1ms/step\n",
      "Epoch 18/100\n",
      "5814/5814 - 9s - loss: 0.7766 - precision_m: 0.6456 - recall_m: 0.5930 - f1_m: 0.6167 - 9s/epoch - 2ms/step\n",
      "Epoch 19/100\n",
      "5814/5814 - 8s - loss: 0.7760 - precision_m: 0.6459 - recall_m: 0.5945 - f1_m: 0.6176 - 8s/epoch - 1ms/step\n",
      "Epoch 20/100\n",
      "5814/5814 - 9s - loss: 0.7755 - precision_m: 0.6454 - recall_m: 0.5949 - f1_m: 0.6177 - 9s/epoch - 1ms/step\n",
      "Epoch 21/100\n",
      "5814/5814 - 9s - loss: 0.7759 - precision_m: 0.6453 - recall_m: 0.5946 - f1_m: 0.6175 - 9s/epoch - 1ms/step\n",
      "Epoch 22/100\n",
      "5814/5814 - 9s - loss: 0.7756 - precision_m: 0.6468 - recall_m: 0.5958 - f1_m: 0.6189 - 9s/epoch - 2ms/step\n",
      "Epoch 23/100\n",
      "5814/5814 - 8s - loss: 0.7752 - precision_m: 0.6459 - recall_m: 0.5944 - f1_m: 0.6176 - 8s/epoch - 1ms/step\n",
      "Epoch 24/100\n",
      "5814/5814 - 8s - loss: 0.7752 - precision_m: 0.6466 - recall_m: 0.5966 - f1_m: 0.6192 - 8s/epoch - 1ms/step\n",
      "Epoch 25/100\n",
      "5814/5814 - 9s - loss: 0.7748 - precision_m: 0.6457 - recall_m: 0.5959 - f1_m: 0.6184 - 9s/epoch - 1ms/step\n",
      "Epoch 26/100\n",
      "5814/5814 - 10s - loss: 0.7748 - precision_m: 0.6465 - recall_m: 0.5953 - f1_m: 0.6184 - 10s/epoch - 2ms/step\n",
      "Epoch 27/100\n",
      "5814/5814 - 10s - loss: 0.7745 - precision_m: 0.6469 - recall_m: 0.5964 - f1_m: 0.6192 - 10s/epoch - 2ms/step\n",
      "Epoch 28/100\n",
      "5814/5814 - 9s - loss: 0.7743 - precision_m: 0.6452 - recall_m: 0.5954 - f1_m: 0.6179 - 9s/epoch - 2ms/step\n",
      "Epoch 29/100\n",
      "5814/5814 - 8s - loss: 0.7740 - precision_m: 0.6459 - recall_m: 0.5946 - f1_m: 0.6177 - 8s/epoch - 1ms/step\n",
      "Epoch 30/100\n",
      "5814/5814 - 8s - loss: 0.7746 - precision_m: 0.6457 - recall_m: 0.5953 - f1_m: 0.6180 - 8s/epoch - 1ms/step\n",
      "Epoch 31/100\n",
      "5814/5814 - 8s - loss: 0.7741 - precision_m: 0.6468 - recall_m: 0.5970 - f1_m: 0.6195 - 8s/epoch - 1ms/step\n",
      "Epoch 32/100\n",
      "5814/5814 - 8s - loss: 0.7737 - precision_m: 0.6457 - recall_m: 0.5960 - f1_m: 0.6184 - 8s/epoch - 1ms/step\n",
      "Epoch 33/100\n",
      "5814/5814 - 8s - loss: 0.7740 - precision_m: 0.6473 - recall_m: 0.5965 - f1_m: 0.6194 - 8s/epoch - 1ms/step\n",
      "Epoch 34/100\n",
      "5814/5814 - 8s - loss: 0.7741 - precision_m: 0.6453 - recall_m: 0.5951 - f1_m: 0.6178 - 8s/epoch - 1ms/step\n",
      "Epoch 35/100\n",
      "5814/5814 - 8s - loss: 0.7739 - precision_m: 0.6476 - recall_m: 0.5975 - f1_m: 0.6201 - 8s/epoch - 1ms/step\n",
      "Epoch 36/100\n",
      "5814/5814 - 8s - loss: 0.7735 - precision_m: 0.6469 - recall_m: 0.5967 - f1_m: 0.6194 - 8s/epoch - 1ms/step\n",
      "Epoch 37/100\n",
      "5814/5814 - 8s - loss: 0.7736 - precision_m: 0.6466 - recall_m: 0.5967 - f1_m: 0.6193 - 8s/epoch - 1ms/step\n",
      "Epoch 38/100\n",
      "5814/5814 - 8s - loss: 0.7737 - precision_m: 0.6455 - recall_m: 0.5947 - f1_m: 0.6176 - 8s/epoch - 1ms/step\n",
      "Epoch 39/100\n",
      "5814/5814 - 8s - loss: 0.7737 - precision_m: 0.6458 - recall_m: 0.5957 - f1_m: 0.6184 - 8s/epoch - 1ms/step\n",
      "Epoch 40/100\n",
      "5814/5814 - 8s - loss: 0.7735 - precision_m: 0.6462 - recall_m: 0.5952 - f1_m: 0.6182 - 8s/epoch - 1ms/step\n",
      "Epoch 41/100\n",
      "5814/5814 - 8s - loss: 0.7736 - precision_m: 0.6465 - recall_m: 0.5980 - f1_m: 0.6199 - 8s/epoch - 1ms/step\n",
      "Epoch 42/100\n",
      "5814/5814 - 8s - loss: 0.7736 - precision_m: 0.6467 - recall_m: 0.5950 - f1_m: 0.6183 - 8s/epoch - 1ms/step\n",
      "Epoch 43/100\n",
      "5814/5814 - 8s - loss: 0.7737 - precision_m: 0.6462 - recall_m: 0.5961 - f1_m: 0.6187 - 8s/epoch - 1ms/step\n",
      "Epoch 44/100\n",
      "5814/5814 - 8s - loss: 0.7738 - precision_m: 0.6479 - recall_m: 0.5974 - f1_m: 0.6202 - 8s/epoch - 1ms/step\n",
      "Epoch 45/100\n",
      "5814/5814 - 8s - loss: 0.7734 - precision_m: 0.6475 - recall_m: 0.5970 - f1_m: 0.6198 - 8s/epoch - 1ms/step\n",
      "Epoch 46/100\n",
      "5814/5814 - 8s - loss: 0.7736 - precision_m: 0.6459 - recall_m: 0.5965 - f1_m: 0.6188 - 8s/epoch - 1ms/step\n",
      "Epoch 47/100\n",
      "5814/5814 - 8s - loss: 0.7734 - precision_m: 0.6460 - recall_m: 0.5958 - f1_m: 0.6186 - 8s/epoch - 1ms/step\n",
      "Epoch 48/100\n",
      "5814/5814 - 8s - loss: 0.7735 - precision_m: 0.6462 - recall_m: 0.5962 - f1_m: 0.6188 - 8s/epoch - 1ms/step\n",
      "Epoch 49/100\n",
      "5814/5814 - 8s - loss: 0.7735 - precision_m: 0.6459 - recall_m: 0.5960 - f1_m: 0.6186 - 8s/epoch - 1ms/step\n",
      "Epoch 50/100\n",
      "5814/5814 - 8s - loss: 0.7733 - precision_m: 0.6466 - recall_m: 0.5963 - f1_m: 0.6190 - 8s/epoch - 1ms/step\n",
      "Epoch 51/100\n",
      "5814/5814 - 8s - loss: 0.7735 - precision_m: 0.6466 - recall_m: 0.5970 - f1_m: 0.6194 - 8s/epoch - 1ms/step\n",
      "Epoch 52/100\n",
      "5814/5814 - 8s - loss: 0.7735 - precision_m: 0.6460 - recall_m: 0.5960 - f1_m: 0.6186 - 8s/epoch - 1ms/step\n",
      "Epoch 53/100\n",
      "5814/5814 - 8s - loss: 0.7731 - precision_m: 0.6464 - recall_m: 0.5963 - f1_m: 0.6189 - 8s/epoch - 1ms/step\n",
      "Epoch 54/100\n",
      "5814/5814 - 8s - loss: 0.7735 - precision_m: 0.6454 - recall_m: 0.5977 - f1_m: 0.6192 - 8s/epoch - 1ms/step\n",
      "Epoch 55/100\n",
      "5814/5814 - 8s - loss: 0.7730 - precision_m: 0.6463 - recall_m: 0.5960 - f1_m: 0.6188 - 8s/epoch - 1ms/step\n",
      "Epoch 56/100\n",
      "5814/5814 - 8s - loss: 0.7733 - precision_m: 0.6469 - recall_m: 0.5963 - f1_m: 0.6191 - 8s/epoch - 1ms/step\n",
      "Epoch 57/100\n",
      "5814/5814 - 8s - loss: 0.7738 - precision_m: 0.6451 - recall_m: 0.5976 - f1_m: 0.6191 - 8s/epoch - 1ms/step\n",
      "Epoch 58/100\n",
      "5814/5814 - 8s - loss: 0.7733 - precision_m: 0.6460 - recall_m: 0.5977 - f1_m: 0.6197 - 8s/epoch - 1ms/step\n",
      "Epoch 59/100\n",
      "5814/5814 - 8s - loss: 0.7733 - precision_m: 0.6468 - recall_m: 0.5959 - f1_m: 0.6190 - 8s/epoch - 1ms/step\n",
      "Epoch 60/100\n",
      "5814/5814 - 8s - loss: 0.7736 - precision_m: 0.6455 - recall_m: 0.5956 - f1_m: 0.6182 - 8s/epoch - 1ms/step\n",
      "Epoch 61/100\n",
      "5814/5814 - 8s - loss: 0.7736 - precision_m: 0.6451 - recall_m: 0.5963 - f1_m: 0.6184 - 8s/epoch - 1ms/step\n",
      "Epoch 62/100\n",
      "5814/5814 - 8s - loss: 0.7730 - precision_m: 0.6467 - recall_m: 0.5967 - f1_m: 0.6193 - 8s/epoch - 1ms/step\n",
      "Epoch 63/100\n",
      "5814/5814 - 8s - loss: 0.7728 - precision_m: 0.6466 - recall_m: 0.5970 - f1_m: 0.6194 - 8s/epoch - 1ms/step\n",
      "Epoch 64/100\n",
      "5814/5814 - 8s - loss: 0.7737 - precision_m: 0.6468 - recall_m: 0.5961 - f1_m: 0.6190 - 8s/epoch - 1ms/step\n",
      "Epoch 65/100\n",
      "5814/5814 - 8s - loss: 0.7731 - precision_m: 0.6448 - recall_m: 0.5959 - f1_m: 0.6180 - 8s/epoch - 1ms/step\n",
      "Epoch 66/100\n",
      "5814/5814 - 8s - loss: 0.7732 - precision_m: 0.6461 - recall_m: 0.5960 - f1_m: 0.6187 - 8s/epoch - 1ms/step\n",
      "Epoch 67/100\n",
      "5814/5814 - 8s - loss: 0.7735 - precision_m: 0.6451 - recall_m: 0.5959 - f1_m: 0.6182 - 8s/epoch - 1ms/step\n",
      "Epoch 68/100\n",
      "5814/5814 - 9s - loss: 0.7733 - precision_m: 0.6466 - recall_m: 0.5966 - f1_m: 0.6193 - 9s/epoch - 1ms/step\n",
      "Epoch 69/100\n",
      "5814/5814 - 8s - loss: 0.7732 - precision_m: 0.6471 - recall_m: 0.5964 - f1_m: 0.6194 - 8s/epoch - 1ms/step\n",
      "Epoch 70/100\n",
      "5814/5814 - 9s - loss: 0.7735 - precision_m: 0.6455 - recall_m: 0.5971 - f1_m: 0.6191 - 9s/epoch - 2ms/step\n",
      "Epoch 71/100\n",
      "5814/5814 - 8s - loss: 0.7734 - precision_m: 0.6464 - recall_m: 0.5968 - f1_m: 0.6192 - 8s/epoch - 1ms/step\n",
      "Epoch 72/100\n",
      "5814/5814 - 8s - loss: 0.7736 - precision_m: 0.6468 - recall_m: 0.5968 - f1_m: 0.6194 - 8s/epoch - 1ms/step\n",
      "Epoch 73/100\n",
      "5814/5814 - 8s - loss: 0.7732 - precision_m: 0.6460 - recall_m: 0.5971 - f1_m: 0.6193 - 8s/epoch - 1ms/step\n",
      "Epoch 74/100\n",
      "5814/5814 - 8s - loss: 0.7730 - precision_m: 0.6464 - recall_m: 0.5968 - f1_m: 0.6192 - 8s/epoch - 1ms/step\n",
      "Epoch 75/100\n",
      "5814/5814 - 8s - loss: 0.7733 - precision_m: 0.6455 - recall_m: 0.5960 - f1_m: 0.6183 - 8s/epoch - 1ms/step\n",
      "Epoch 76/100\n",
      "5814/5814 - 8s - loss: 0.7727 - precision_m: 0.6473 - recall_m: 0.5987 - f1_m: 0.6207 - 8s/epoch - 1ms/step\n",
      "Epoch 77/100\n",
      "5814/5814 - 8s - loss: 0.7736 - precision_m: 0.6469 - recall_m: 0.5975 - f1_m: 0.6199 - 8s/epoch - 1ms/step\n",
      "Epoch 78/100\n",
      "5814/5814 - 8s - loss: 0.7730 - precision_m: 0.6459 - recall_m: 0.5966 - f1_m: 0.6189 - 8s/epoch - 1ms/step\n",
      "Epoch 79/100\n",
      "5814/5814 - 8s - loss: 0.7730 - precision_m: 0.6474 - recall_m: 0.5974 - f1_m: 0.6200 - 8s/epoch - 1ms/step\n",
      "Epoch 80/100\n",
      "5814/5814 - 8s - loss: 0.7731 - precision_m: 0.6463 - recall_m: 0.5977 - f1_m: 0.6197 - 8s/epoch - 1ms/step\n",
      "Epoch 81/100\n",
      "5814/5814 - 8s - loss: 0.7728 - precision_m: 0.6467 - recall_m: 0.5976 - f1_m: 0.6198 - 8s/epoch - 1ms/step\n",
      "Epoch 82/100\n",
      "5814/5814 - 8s - loss: 0.7728 - precision_m: 0.6461 - recall_m: 0.5976 - f1_m: 0.6195 - 8s/epoch - 1ms/step\n",
      "Epoch 83/100\n",
      "5814/5814 - 8s - loss: 0.7729 - precision_m: 0.6455 - recall_m: 0.5963 - f1_m: 0.6186 - 8s/epoch - 1ms/step\n",
      "Epoch 84/100\n",
      "5814/5814 - 8s - loss: 0.7733 - precision_m: 0.6452 - recall_m: 0.5975 - f1_m: 0.6191 - 8s/epoch - 1ms/step\n",
      "Epoch 85/100\n",
      "5814/5814 - 8s - loss: 0.7727 - precision_m: 0.6459 - recall_m: 0.5969 - f1_m: 0.6191 - 8s/epoch - 1ms/step\n",
      "Epoch 86/100\n",
      "5814/5814 - 8s - loss: 0.7728 - precision_m: 0.6467 - recall_m: 0.5955 - f1_m: 0.6186 - 8s/epoch - 1ms/step\n",
      "Epoch 87/100\n",
      "5814/5814 - 8s - loss: 0.7731 - precision_m: 0.6456 - recall_m: 0.5970 - f1_m: 0.6190 - 8s/epoch - 1ms/step\n",
      "Epoch 88/100\n",
      "5814/5814 - 8s - loss: 0.7730 - precision_m: 0.6453 - recall_m: 0.5967 - f1_m: 0.6187 - 8s/epoch - 1ms/step\n",
      "Epoch 89/100\n",
      "5814/5814 - 8s - loss: 0.7728 - precision_m: 0.6464 - recall_m: 0.5966 - f1_m: 0.6192 - 8s/epoch - 1ms/step\n",
      "Epoch 90/100\n",
      "5814/5814 - 8s - loss: 0.7722 - precision_m: 0.6477 - recall_m: 0.5992 - f1_m: 0.6211 - 8s/epoch - 1ms/step\n",
      "Epoch 91/100\n",
      "5814/5814 - 8s - loss: 0.7733 - precision_m: 0.6454 - recall_m: 0.5962 - f1_m: 0.6185 - 8s/epoch - 1ms/step\n",
      "Epoch 92/100\n",
      "5814/5814 - 9s - loss: 0.7729 - precision_m: 0.6464 - recall_m: 0.5979 - f1_m: 0.6199 - 9s/epoch - 2ms/step\n",
      "Epoch 93/100\n",
      "5814/5814 - 9s - loss: 0.7730 - precision_m: 0.6466 - recall_m: 0.5978 - f1_m: 0.6199 - 9s/epoch - 2ms/step\n",
      "Epoch 94/100\n",
      "5814/5814 - 8s - loss: 0.7723 - precision_m: 0.6455 - recall_m: 0.5974 - f1_m: 0.6192 - 8s/epoch - 1ms/step\n",
      "Epoch 95/100\n",
      "5814/5814 - 8s - loss: 0.7726 - precision_m: 0.6472 - recall_m: 0.5982 - f1_m: 0.6203 - 8s/epoch - 1ms/step\n",
      "Epoch 96/100\n",
      "5814/5814 - 8s - loss: 0.7727 - precision_m: 0.6459 - recall_m: 0.5978 - f1_m: 0.6196 - 8s/epoch - 1ms/step\n",
      "Epoch 97/100\n",
      "5814/5814 - 8s - loss: 0.7733 - precision_m: 0.6457 - recall_m: 0.5969 - f1_m: 0.6190 - 8s/epoch - 1ms/step\n",
      "Epoch 98/100\n",
      "5814/5814 - 8s - loss: 0.7729 - precision_m: 0.6474 - recall_m: 0.5982 - f1_m: 0.6205 - 8s/epoch - 1ms/step\n",
      "Epoch 99/100\n",
      "5814/5814 - 8s - loss: 0.7728 - precision_m: 0.6456 - recall_m: 0.5984 - f1_m: 0.6198 - 8s/epoch - 1ms/step\n",
      "Epoch 100/100\n",
      "5814/5814 - 8s - loss: 0.7732 - precision_m: 0.6447 - recall_m: 0.5959 - f1_m: 0.6180 - 8s/epoch - 1ms/step\n"
     ]
    }
   ],
   "source": [
    "cant_epochs=100\n",
    "\n",
    "historia_modelo_1 = modelo_1.fit(x_train_scaled,y_train_encoder,epochs=cant_epochs,batch_size=10, verbose=2)"
   ]
  },
  {
   "cell_type": "code",
   "execution_count": 51,
   "id": "bd4612df-a9a0-490c-8219-1c8614029d03",
   "metadata": {},
   "outputs": [
    {
     "name": "stdout",
     "output_type": "stream",
     "text": [
      "455/455 [==============================] - 1s 2ms/step\n"
     ]
    }
   ],
   "source": [
    "y_predic = modelo_1.predict(x_test_scaled)"
   ]
  },
  {
   "cell_type": "code",
   "execution_count": 52,
   "id": "b853e7e5-6fba-47c9-b5ec-529c9677b92e",
   "metadata": {},
   "outputs": [
    {
     "data": {
      "text/plain": [
       "array([[9.8563055e-07, 9.5902944e-01, 4.0969599e-02],\n",
       "       [1.3447882e-06, 9.5482904e-01, 4.5169670e-02],\n",
       "       [2.7061166e-02, 4.4868624e-01, 5.2425253e-01],\n",
       "       [9.4010271e-03, 3.7383810e-01, 6.1676085e-01],\n",
       "       [4.8866805e-02, 4.2595211e-01, 5.2518106e-01]], dtype=float32)"
      ]
     },
     "execution_count": 52,
     "metadata": {},
     "output_type": "execute_result"
    }
   ],
   "source": [
    "y_predic[0:5]"
   ]
  },
  {
   "cell_type": "code",
   "execution_count": 53,
   "id": "2299eea8-dd04-496a-b91d-33b926cfec28",
   "metadata": {},
   "outputs": [],
   "source": [
    "y_predic_clases=np.argmax(y_predic,axis=1).tolist()\n",
    "y_real_clases=np.argmax(y_test_encoder,axis=1).tolist()"
   ]
  },
  {
   "cell_type": "code",
   "execution_count": 54,
   "id": "e3eba586-509a-48c8-b0d1-75a772610307",
   "metadata": {},
   "outputs": [
    {
     "data": {
      "image/png": "[encoded data removed]",
      "text/plain": [
       "<Figure size 432x288 with 2 Axes>"
      ]
     },
     "metadata": {
      "needs_background": "light"
     },
     "output_type": "display_data"
    }
   ],
   "source": [
    "ds_validacion=pd.DataFrame(y_predic_clases,y_real_clases).reset_index()\n",
    "ds_validacion.columns=['y_pred','y_real']\n",
    "\n",
    "tabla=pd.crosstab(ds_validacion.y_pred, ds_validacion.y_real)\n",
    "grf=sns.heatmap(tabla,annot=True, cmap = 'Blues')\n",
    "plt.show()"
   ]
  },
  {
   "cell_type": "code",
   "execution_count": 55,
   "id": "582ffefe-f40b-4dca-8ff8-5accb9247f5c",
   "metadata": {},
   "outputs": [],
   "source": [
    "epochs = range(cant_epochs)"
   ]
  },
  {
   "cell_type": "code",
   "execution_count": 56,
   "id": "a53a3e82-6c0a-451e-93f3-2e71de8f4489",
   "metadata": {},
   "outputs": [
    {
     "data": {
      "text/plain": [
       "<matplotlib.legend.Legend at 0x7feaa81979a0>"
      ]
     },
     "execution_count": 56,
     "metadata": {},
     "output_type": "execute_result"
    },
    {
     "data": {
      "image/png": "[encoded data removed]",
      "text/plain": [
       "<Figure size 432x288 with 1 Axes>"
      ]
     },
     "metadata": {
      "needs_background": "light"
     },
     "output_type": "display_data"
    }
   ],
   "source": [
    "plt.plot(epochs, historia_modelo_1.history['precision_m'], color='orange', label='precision')\n",
    "plt.xlabel(\"epochs\")\n",
    "plt.ylabel(\"precision\")\n",
    "plt.legend()"
   ]
  },
  {
   "cell_type": "code",
   "execution_count": 57,
   "id": "f070a4fc-d10c-4f6d-842f-d7a597dbeb3c",
   "metadata": {},
   "outputs": [
    {
     "data": {
      "text/plain": [
       "<matplotlib.legend.Legend at 0x7feaa80819a0>"
      ]
     },
     "execution_count": 57,
     "metadata": {},
     "output_type": "execute_result"
    },
    {
     "data": {
      "image/png": "[encoded data removed]",
      "text/plain": [
       "<Figure size 432x288 with 1 Axes>"
      ]
     },
     "metadata": {
      "needs_background": "light"
     },
     "output_type": "display_data"
    }
   ],
   "source": [
    "plt.plot(epochs, historia_modelo_1.history['recall_m'], color='orange', label='recall')\n",
    "plt.xlabel(\"epochs\")\n",
    "plt.ylabel(\"recall\")\n",
    "plt.legend()"
   ]
  },
  {
   "cell_type": "code",
   "execution_count": 58,
   "id": "16431fdc-823d-4eba-960e-70601e7a2198",
   "metadata": {},
   "outputs": [
    {
     "name": "stdout",
     "output_type": "stream",
     "text": [
      "              precision    recall  f1-score   support\n",
      "\n",
      "           0       0.00      0.00      0.00      3438\n",
      "           1       0.24      0.62      0.35      3660\n",
      "           2       0.57      0.39      0.46      7436\n",
      "\n",
      "    accuracy                           0.36     14534\n",
      "   macro avg       0.27      0.34      0.27     14534\n",
      "weighted avg       0.35      0.36      0.32     14534\n",
      "\n"
     ]
    }
   ],
   "source": [
    "#Arbol Reporte y Matriz de Confusion\n",
    "y_pred=np.argmax(y_predic,axis=1)\n",
    "y_test_enc=np.argmax(y_test_encoder,axis=1)\n",
    "\n",
    "print(classification_report(y_test_enc,y_pred))"
   ]
  },
  {
   "cell_type": "code",
   "execution_count": 59,
   "id": "23c70c49-014e-4797-84d0-41ada7101cd4",
   "metadata": {},
   "outputs": [
    {
     "name": "stdout",
     "output_type": "stream",
     "text": [
      "Accuracy: 0.35571762763176\n",
      "Precision: 0.35571762763176\n",
      "Recall: 0.35571762763176\n",
      "F1-Score: 0.35571762763176\n"
     ]
    }
   ],
   "source": [
    "print('Accuracy: {}'.format(accuracy_score(y_test_enc, y_pred))) \n",
    "print('Precision: {}'.format(precision_score(y_test_enc, y_pred, average= 'micro'))) \n",
    "print('Recall: {}'.format(recall_score(y_test_enc, y_pred, average= 'micro'))) \n",
    "print('F1-Score: {}'.format(f1_score(y_test_enc, y_pred, average= 'micro'))) "
   ]
  },
  {
   "cell_type": "markdown",
   "id": "e449c019-5bd1-4730-8fb0-b4675483a16a",
   "metadata": {
    "tags": []
   },
   "source": [
    "## Modelo 3: cambio learning rate"
   ]
  },
  {
   "cell_type": "code",
   "execution_count": 67,
   "id": "3731f5e6-6c90-4549-9491-941f4c1a48f6",
   "metadata": {},
   "outputs": [
    {
     "name": "stdout",
     "output_type": "stream",
     "text": [
      "Model: \"sequential_2\"\n",
      "_________________________________________________________________\n",
      " Layer (type)                Output Shape              Param #   \n",
      "=================================================================\n",
      " dense_6 (Dense)             (None, 8)                 72        \n",
      "                                                                 \n",
      " dense_7 (Dense)             (None, 5)                 45        \n",
      "                                                                 \n",
      " dense_8 (Dense)             (None, 3)                 18        \n",
      "                                                                 \n",
      "=================================================================\n",
      "Total params: 135\n",
      "Trainable params: 135\n",
      "Non-trainable params: 0\n",
      "_________________________________________________________________\n"
     ]
    }
   ],
   "source": [
    "modelo_3 = keras.Sequential([\n",
    "    \n",
    "    keras.layers.Dense(8,input_shape=(d_in,), activation='relu'),\n",
    "    \n",
    "    keras.layers.Dense(5, activation='relu'),\n",
    "    \n",
    "    keras.layers.Dense(cant_clases, activation='softmax')])\n",
    "\n",
    "modelo_3.summary()"
   ]
  },
  {
   "cell_type": "code",
   "execution_count": 68,
   "id": "6a5d4fbe-591f-48b0-a4b7-235394186cf5",
   "metadata": {},
   "outputs": [],
   "source": [
    "modelo_3.compile(\n",
    "  optimizer=keras.optimizers.SGD(learning_rate=0.001), \n",
    "  loss='categorical_crossentropy', \n",
    "  metrics=[precision_m, recall_m, f1_m], \n",
    ")"
   ]
  },
  {
   "cell_type": "code",
   "execution_count": 69,
   "id": "8deb19f8-3749-4433-baab-fdef92d56a42",
   "metadata": {},
   "outputs": [
    {
     "name": "stdout",
     "output_type": "stream",
     "text": [
      "Epoch 1/100\n",
      "5814/5814 - 9s - loss: 0.9884 - precision_m: 0.5794 - recall_m: 0.2419 - f1_m: 0.3307 - 9s/epoch - 1ms/step\n",
      "Epoch 2/100\n",
      "5814/5814 - 8s - loss: 0.8960 - precision_m: 0.6300 - recall_m: 0.3715 - f1_m: 0.4584 - 8s/epoch - 1ms/step\n",
      "Epoch 3/100\n",
      "5814/5814 - 8s - loss: 0.8521 - precision_m: 0.6373 - recall_m: 0.4865 - f1_m: 0.5470 - 8s/epoch - 1ms/step\n",
      "Epoch 4/100\n",
      "5814/5814 - 8s - loss: 0.8369 - precision_m: 0.6365 - recall_m: 0.5299 - f1_m: 0.5753 - 8s/epoch - 1ms/step\n",
      "Epoch 5/100\n",
      "5814/5814 - 8s - loss: 0.8307 - precision_m: 0.6369 - recall_m: 0.5409 - f1_m: 0.5823 - 8s/epoch - 1ms/step\n",
      "Epoch 6/100\n",
      "5814/5814 - 8s - loss: 0.8274 - precision_m: 0.6378 - recall_m: 0.5467 - f1_m: 0.5862 - 8s/epoch - 1ms/step\n",
      "Epoch 7/100\n",
      "5814/5814 - 8s - loss: 0.8252 - precision_m: 0.6386 - recall_m: 0.5484 - f1_m: 0.5875 - 8s/epoch - 1ms/step\n",
      "Epoch 8/100\n",
      "5814/5814 - 8s - loss: 0.8237 - precision_m: 0.6390 - recall_m: 0.5500 - f1_m: 0.5886 - 8s/epoch - 1ms/step\n",
      "Epoch 9/100\n",
      "5814/5814 - 8s - loss: 0.8225 - precision_m: 0.6385 - recall_m: 0.5510 - f1_m: 0.5891 - 8s/epoch - 1ms/step\n",
      "Epoch 10/100\n",
      "5814/5814 - 8s - loss: 0.8212 - precision_m: 0.6390 - recall_m: 0.5519 - f1_m: 0.5898 - 8s/epoch - 1ms/step\n",
      "Epoch 11/100\n",
      "5814/5814 - 8s - loss: 0.8203 - precision_m: 0.6388 - recall_m: 0.5526 - f1_m: 0.5902 - 8s/epoch - 1ms/step\n",
      "Epoch 12/100\n",
      "5814/5814 - 8s - loss: 0.8194 - precision_m: 0.6395 - recall_m: 0.5524 - f1_m: 0.5903 - 8s/epoch - 1ms/step\n",
      "Epoch 13/100\n",
      "5814/5814 - 8s - loss: 0.8186 - precision_m: 0.6390 - recall_m: 0.5539 - f1_m: 0.5910 - 8s/epoch - 1ms/step\n",
      "Epoch 14/100\n",
      "5814/5814 - 8s - loss: 0.8178 - precision_m: 0.6390 - recall_m: 0.5555 - f1_m: 0.5919 - 8s/epoch - 1ms/step\n",
      "Epoch 15/100\n",
      "5814/5814 - 8s - loss: 0.8171 - precision_m: 0.6393 - recall_m: 0.5567 - f1_m: 0.5928 - 8s/epoch - 1ms/step\n",
      "Epoch 16/100\n",
      "5814/5814 - 8s - loss: 0.8164 - precision_m: 0.6396 - recall_m: 0.5572 - f1_m: 0.5933 - 8s/epoch - 1ms/step\n",
      "Epoch 17/100\n",
      "5814/5814 - 8s - loss: 0.8157 - precision_m: 0.6404 - recall_m: 0.5596 - f1_m: 0.5951 - 8s/epoch - 1ms/step\n",
      "Epoch 18/100\n",
      "5814/5814 - 8s - loss: 0.8150 - precision_m: 0.6399 - recall_m: 0.5592 - f1_m: 0.5945 - 8s/epoch - 1ms/step\n",
      "Epoch 19/100\n",
      "5814/5814 - 8s - loss: 0.8143 - precision_m: 0.6394 - recall_m: 0.5611 - f1_m: 0.5955 - 8s/epoch - 1ms/step\n",
      "Epoch 20/100\n",
      "5814/5814 - 8s - loss: 0.8137 - precision_m: 0.6393 - recall_m: 0.5610 - f1_m: 0.5954 - 8s/epoch - 1ms/step\n",
      "Epoch 21/100\n",
      "5814/5814 - 8s - loss: 0.8131 - precision_m: 0.6381 - recall_m: 0.5619 - f1_m: 0.5954 - 8s/epoch - 1ms/step\n",
      "Epoch 22/100\n",
      "5814/5814 - 8s - loss: 0.8126 - precision_m: 0.6383 - recall_m: 0.5625 - f1_m: 0.5960 - 8s/epoch - 1ms/step\n",
      "Epoch 23/100\n",
      "5814/5814 - 8s - loss: 0.8120 - precision_m: 0.6384 - recall_m: 0.5619 - f1_m: 0.5955 - 8s/epoch - 1ms/step\n",
      "Epoch 24/100\n",
      "5814/5814 - 8s - loss: 0.8116 - precision_m: 0.6390 - recall_m: 0.5636 - f1_m: 0.5968 - 8s/epoch - 1ms/step\n",
      "Epoch 25/100\n",
      "5814/5814 - 8s - loss: 0.8110 - precision_m: 0.6386 - recall_m: 0.5647 - f1_m: 0.5974 - 8s/epoch - 1ms/step\n",
      "Epoch 26/100\n",
      "5814/5814 - 8s - loss: 0.8106 - precision_m: 0.6384 - recall_m: 0.5645 - f1_m: 0.5972 - 8s/epoch - 1ms/step\n",
      "Epoch 27/100\n",
      "5814/5814 - 8s - loss: 0.8101 - precision_m: 0.6392 - recall_m: 0.5652 - f1_m: 0.5979 - 8s/epoch - 1ms/step\n",
      "Epoch 28/100\n",
      "5814/5814 - 8s - loss: 0.8096 - precision_m: 0.6380 - recall_m: 0.5662 - f1_m: 0.5980 - 8s/epoch - 1ms/step\n",
      "Epoch 29/100\n",
      "5814/5814 - 8s - loss: 0.8093 - precision_m: 0.6380 - recall_m: 0.5661 - f1_m: 0.5979 - 8s/epoch - 1ms/step\n",
      "Epoch 30/100\n",
      "5814/5814 - 8s - loss: 0.8088 - precision_m: 0.6381 - recall_m: 0.5663 - f1_m: 0.5981 - 8s/epoch - 1ms/step\n",
      "Epoch 31/100\n",
      "5814/5814 - 8s - loss: 0.8085 - precision_m: 0.6383 - recall_m: 0.5676 - f1_m: 0.5989 - 8s/epoch - 1ms/step\n",
      "Epoch 32/100\n",
      "5814/5814 - 8s - loss: 0.8081 - precision_m: 0.6383 - recall_m: 0.5685 - f1_m: 0.5993 - 8s/epoch - 1ms/step\n",
      "Epoch 33/100\n",
      "5814/5814 - 8s - loss: 0.8079 - precision_m: 0.6380 - recall_m: 0.5685 - f1_m: 0.5994 - 8s/epoch - 1ms/step\n",
      "Epoch 34/100\n",
      "5814/5814 - 8s - loss: 0.8075 - precision_m: 0.6382 - recall_m: 0.5692 - f1_m: 0.5998 - 8s/epoch - 1ms/step\n",
      "Epoch 35/100\n",
      "5814/5814 - 8s - loss: 0.8072 - precision_m: 0.6382 - recall_m: 0.5698 - f1_m: 0.6002 - 8s/epoch - 1ms/step\n",
      "Epoch 36/100\n",
      "5814/5814 - 8s - loss: 0.8070 - precision_m: 0.6387 - recall_m: 0.5698 - f1_m: 0.6003 - 8s/epoch - 1ms/step\n",
      "Epoch 37/100\n",
      "5814/5814 - 8s - loss: 0.8066 - precision_m: 0.6388 - recall_m: 0.5695 - f1_m: 0.6003 - 8s/epoch - 1ms/step\n",
      "Epoch 38/100\n",
      "5814/5814 - 8s - loss: 0.8065 - precision_m: 0.6386 - recall_m: 0.5703 - f1_m: 0.6007 - 8s/epoch - 1ms/step\n",
      "Epoch 39/100\n",
      "5814/5814 - 8s - loss: 0.8062 - precision_m: 0.6382 - recall_m: 0.5707 - f1_m: 0.6007 - 8s/epoch - 1ms/step\n",
      "Epoch 40/100\n",
      "5814/5814 - 8s - loss: 0.8059 - precision_m: 0.6387 - recall_m: 0.5704 - f1_m: 0.6007 - 8s/epoch - 1ms/step\n",
      "Epoch 41/100\n",
      "5814/5814 - 8s - loss: 0.8056 - precision_m: 0.6384 - recall_m: 0.5723 - f1_m: 0.6017 - 8s/epoch - 1ms/step\n",
      "Epoch 42/100\n",
      "5814/5814 - 8s - loss: 0.8052 - precision_m: 0.6396 - recall_m: 0.5713 - f1_m: 0.6016 - 8s/epoch - 1ms/step\n",
      "Epoch 43/100\n",
      "5814/5814 - 8s - loss: 0.8049 - precision_m: 0.6390 - recall_m: 0.5723 - f1_m: 0.6019 - 8s/epoch - 1ms/step\n",
      "Epoch 44/100\n",
      "5814/5814 - 8s - loss: 0.8046 - precision_m: 0.6388 - recall_m: 0.5726 - f1_m: 0.6021 - 8s/epoch - 1ms/step\n",
      "Epoch 45/100\n",
      "5814/5814 - 8s - loss: 0.8042 - precision_m: 0.6398 - recall_m: 0.5721 - f1_m: 0.6022 - 8s/epoch - 1ms/step\n",
      "Epoch 46/100\n",
      "5814/5814 - 8s - loss: 0.8038 - precision_m: 0.6392 - recall_m: 0.5730 - f1_m: 0.6025 - 8s/epoch - 1ms/step\n",
      "Epoch 47/100\n",
      "5814/5814 - 8s - loss: 0.8037 - precision_m: 0.6389 - recall_m: 0.5730 - f1_m: 0.6024 - 8s/epoch - 1ms/step\n",
      "Epoch 48/100\n",
      "5814/5814 - 8s - loss: 0.8034 - precision_m: 0.6393 - recall_m: 0.5737 - f1_m: 0.6030 - 8s/epoch - 1ms/step\n",
      "Epoch 49/100\n",
      "5814/5814 - 8s - loss: 0.8032 - precision_m: 0.6400 - recall_m: 0.5736 - f1_m: 0.6031 - 8s/epoch - 1ms/step\n",
      "Epoch 50/100\n",
      "5814/5814 - 8s - loss: 0.8030 - precision_m: 0.6398 - recall_m: 0.5741 - f1_m: 0.6034 - 8s/epoch - 1ms/step\n",
      "Epoch 51/100\n",
      "5814/5814 - 8s - loss: 0.8027 - precision_m: 0.6402 - recall_m: 0.5738 - f1_m: 0.6034 - 8s/epoch - 1ms/step\n",
      "Epoch 52/100\n",
      "5814/5814 - 8s - loss: 0.8025 - precision_m: 0.6403 - recall_m: 0.5737 - f1_m: 0.6034 - 8s/epoch - 1ms/step\n",
      "Epoch 53/100\n",
      "5814/5814 - 8s - loss: 0.8022 - precision_m: 0.6405 - recall_m: 0.5744 - f1_m: 0.6039 - 8s/epoch - 1ms/step\n",
      "Epoch 54/100\n",
      "5814/5814 - 8s - loss: 0.8020 - precision_m: 0.6406 - recall_m: 0.5747 - f1_m: 0.6041 - 8s/epoch - 1ms/step\n",
      "Epoch 55/100\n",
      "5814/5814 - 8s - loss: 0.8019 - precision_m: 0.6402 - recall_m: 0.5741 - f1_m: 0.6036 - 8s/epoch - 1ms/step\n",
      "Epoch 56/100\n",
      "5814/5814 - 8s - loss: 0.8016 - precision_m: 0.6407 - recall_m: 0.5750 - f1_m: 0.6042 - 8s/epoch - 1ms/step\n",
      "Epoch 57/100\n",
      "5814/5814 - 8s - loss: 0.8013 - precision_m: 0.6408 - recall_m: 0.5751 - f1_m: 0.6044 - 8s/epoch - 1ms/step\n",
      "Epoch 58/100\n",
      "5814/5814 - 8s - loss: 0.8012 - precision_m: 0.6409 - recall_m: 0.5748 - f1_m: 0.6043 - 8s/epoch - 1ms/step\n",
      "Epoch 59/100\n",
      "5814/5814 - 8s - loss: 0.8009 - precision_m: 0.6403 - recall_m: 0.5743 - f1_m: 0.6036 - 8s/epoch - 1ms/step\n",
      "Epoch 60/100\n",
      "5814/5814 - 8s - loss: 0.8007 - precision_m: 0.6416 - recall_m: 0.5750 - f1_m: 0.6046 - 8s/epoch - 1ms/step\n",
      "Epoch 61/100\n",
      "5814/5814 - 8s - loss: 0.8005 - precision_m: 0.6408 - recall_m: 0.5759 - f1_m: 0.6048 - 8s/epoch - 1ms/step\n",
      "Epoch 62/100\n",
      "5814/5814 - 8s - loss: 0.8003 - precision_m: 0.6403 - recall_m: 0.5754 - f1_m: 0.6043 - 8s/epoch - 1ms/step\n",
      "Epoch 63/100\n",
      "5814/5814 - 8s - loss: 0.8000 - precision_m: 0.6408 - recall_m: 0.5758 - f1_m: 0.6048 - 8s/epoch - 1ms/step\n",
      "Epoch 64/100\n",
      "5814/5814 - 8s - loss: 0.8000 - precision_m: 0.6407 - recall_m: 0.5764 - f1_m: 0.6051 - 8s/epoch - 1ms/step\n",
      "Epoch 65/100\n",
      "5814/5814 - 8s - loss: 0.7998 - precision_m: 0.6410 - recall_m: 0.5757 - f1_m: 0.6048 - 8s/epoch - 1ms/step\n",
      "Epoch 66/100\n",
      "5814/5814 - 8s - loss: 0.7996 - precision_m: 0.6411 - recall_m: 0.5755 - f1_m: 0.6047 - 8s/epoch - 1ms/step\n",
      "Epoch 67/100\n",
      "5814/5814 - 8s - loss: 0.7994 - precision_m: 0.6410 - recall_m: 0.5765 - f1_m: 0.6053 - 8s/epoch - 1ms/step\n",
      "Epoch 68/100\n",
      "5814/5814 - 8s - loss: 0.7993 - precision_m: 0.6409 - recall_m: 0.5764 - f1_m: 0.6052 - 8s/epoch - 1ms/step\n",
      "Epoch 69/100\n",
      "5814/5814 - 8s - loss: 0.7991 - precision_m: 0.6410 - recall_m: 0.5759 - f1_m: 0.6049 - 8s/epoch - 1ms/step\n",
      "Epoch 70/100\n",
      "5814/5814 - 8s - loss: 0.7989 - precision_m: 0.6419 - recall_m: 0.5767 - f1_m: 0.6057 - 8s/epoch - 1ms/step\n",
      "Epoch 71/100\n",
      "5814/5814 - 8s - loss: 0.7987 - precision_m: 0.6420 - recall_m: 0.5774 - f1_m: 0.6062 - 8s/epoch - 1ms/step\n",
      "Epoch 72/100\n",
      "5814/5814 - 8s - loss: 0.7986 - precision_m: 0.6422 - recall_m: 0.5769 - f1_m: 0.6059 - 8s/epoch - 1ms/step\n",
      "Epoch 73/100\n",
      "5814/5814 - 8s - loss: 0.7984 - precision_m: 0.6419 - recall_m: 0.5781 - f1_m: 0.6066 - 8s/epoch - 1ms/step\n",
      "Epoch 74/100\n",
      "5814/5814 - 8s - loss: 0.7982 - precision_m: 0.6423 - recall_m: 0.5777 - f1_m: 0.6065 - 8s/epoch - 1ms/step\n",
      "Epoch 75/100\n",
      "5814/5814 - 8s - loss: 0.7982 - precision_m: 0.6424 - recall_m: 0.5777 - f1_m: 0.6066 - 8s/epoch - 1ms/step\n",
      "Epoch 76/100\n",
      "5814/5814 - 8s - loss: 0.7980 - precision_m: 0.6428 - recall_m: 0.5777 - f1_m: 0.6067 - 8s/epoch - 1ms/step\n",
      "Epoch 77/100\n",
      "5814/5814 - 8s - loss: 0.7978 - precision_m: 0.6420 - recall_m: 0.5777 - f1_m: 0.6064 - 8s/epoch - 1ms/step\n",
      "Epoch 78/100\n",
      "5814/5814 - 8s - loss: 0.7977 - precision_m: 0.6422 - recall_m: 0.5773 - f1_m: 0.6062 - 8s/epoch - 1ms/step\n",
      "Epoch 79/100\n",
      "5814/5814 - 8s - loss: 0.7976 - precision_m: 0.6420 - recall_m: 0.5779 - f1_m: 0.6065 - 8s/epoch - 1ms/step\n",
      "Epoch 80/100\n",
      "5814/5814 - 8s - loss: 0.7974 - precision_m: 0.6423 - recall_m: 0.5780 - f1_m: 0.6067 - 8s/epoch - 1ms/step\n",
      "Epoch 81/100\n",
      "5814/5814 - 8s - loss: 0.7973 - precision_m: 0.6431 - recall_m: 0.5769 - f1_m: 0.6064 - 8s/epoch - 1ms/step\n",
      "Epoch 82/100\n",
      "5814/5814 - 8s - loss: 0.7972 - precision_m: 0.6426 - recall_m: 0.5790 - f1_m: 0.6073 - 8s/epoch - 1ms/step\n",
      "Epoch 83/100\n",
      "5814/5814 - 8s - loss: 0.7972 - precision_m: 0.6428 - recall_m: 0.5774 - f1_m: 0.6065 - 8s/epoch - 1ms/step\n",
      "Epoch 84/100\n",
      "5814/5814 - 8s - loss: 0.7970 - precision_m: 0.6426 - recall_m: 0.5783 - f1_m: 0.6069 - 8s/epoch - 1ms/step\n",
      "Epoch 85/100\n",
      "5814/5814 - 8s - loss: 0.7969 - precision_m: 0.6415 - recall_m: 0.5780 - f1_m: 0.6064 - 8s/epoch - 1ms/step\n",
      "Epoch 86/100\n",
      "5814/5814 - 8s - loss: 0.7969 - precision_m: 0.6418 - recall_m: 0.5778 - f1_m: 0.6063 - 8s/epoch - 1ms/step\n",
      "Epoch 87/100\n",
      "5814/5814 - 8s - loss: 0.7968 - precision_m: 0.6430 - recall_m: 0.5791 - f1_m: 0.6076 - 8s/epoch - 1ms/step\n",
      "Epoch 88/100\n",
      "5814/5814 - 8s - loss: 0.7967 - precision_m: 0.6433 - recall_m: 0.5784 - f1_m: 0.6074 - 8s/epoch - 1ms/step\n",
      "Epoch 89/100\n",
      "5814/5814 - 8s - loss: 0.7965 - precision_m: 0.6428 - recall_m: 0.5791 - f1_m: 0.6075 - 8s/epoch - 1ms/step\n",
      "Epoch 90/100\n",
      "5814/5814 - 8s - loss: 0.7965 - precision_m: 0.6433 - recall_m: 0.5788 - f1_m: 0.6075 - 8s/epoch - 1ms/step\n",
      "Epoch 91/100\n",
      "5814/5814 - 8s - loss: 0.7963 - precision_m: 0.6428 - recall_m: 0.5786 - f1_m: 0.6073 - 8s/epoch - 1ms/step\n",
      "Epoch 92/100\n",
      "5814/5814 - 8s - loss: 0.7963 - precision_m: 0.6435 - recall_m: 0.5779 - f1_m: 0.6071 - 8s/epoch - 1ms/step\n",
      "Epoch 93/100\n",
      "5814/5814 - 8s - loss: 0.7961 - precision_m: 0.6430 - recall_m: 0.5788 - f1_m: 0.6074 - 8s/epoch - 1ms/step\n",
      "Epoch 94/100\n",
      "5814/5814 - 8s - loss: 0.7962 - precision_m: 0.6433 - recall_m: 0.5791 - f1_m: 0.6077 - 8s/epoch - 1ms/step\n",
      "Epoch 95/100\n",
      "5814/5814 - 8s - loss: 0.7960 - precision_m: 0.6434 - recall_m: 0.5789 - f1_m: 0.6077 - 8s/epoch - 1ms/step\n",
      "Epoch 96/100\n",
      "5814/5814 - 8s - loss: 0.7959 - precision_m: 0.6438 - recall_m: 0.5785 - f1_m: 0.6076 - 8s/epoch - 1ms/step\n",
      "Epoch 97/100\n",
      "5814/5814 - 8s - loss: 0.7959 - precision_m: 0.6428 - recall_m: 0.5785 - f1_m: 0.6073 - 8s/epoch - 1ms/step\n",
      "Epoch 98/100\n",
      "5814/5814 - 8s - loss: 0.7958 - precision_m: 0.6434 - recall_m: 0.5793 - f1_m: 0.6080 - 8s/epoch - 1ms/step\n",
      "Epoch 99/100\n",
      "5814/5814 - 8s - loss: 0.7958 - precision_m: 0.6432 - recall_m: 0.5780 - f1_m: 0.6070 - 8s/epoch - 1ms/step\n",
      "Epoch 100/100\n",
      "5814/5814 - 8s - loss: 0.7957 - precision_m: 0.6431 - recall_m: 0.5791 - f1_m: 0.6076 - 8s/epoch - 1ms/step\n"
     ]
    }
   ],
   "source": [
    "cant_epochs=100\n",
    "\n",
    "historia_modelo_3 = modelo_3.fit(x_train_scaled,y_train_encoder,epochs=cant_epochs,batch_size=10, verbose=2)"
   ]
  },
  {
   "cell_type": "code",
   "execution_count": 70,
   "id": "625ca661-1a39-48fc-a7f2-d09fd6d1e56e",
   "metadata": {},
   "outputs": [
    {
     "name": "stdout",
     "output_type": "stream",
     "text": [
      "455/455 [==============================] - 1s 2ms/step\n"
     ]
    }
   ],
   "source": [
    "y_predic = modelo_1.predict(x_test_scaled)"
   ]
  },
  {
   "cell_type": "code",
   "execution_count": 71,
   "id": "47046085-2e39-446c-92dd-f2b46c6a7da1",
   "metadata": {},
   "outputs": [
    {
     "data": {
      "text/plain": [
       "array([[9.8563055e-07, 9.5902944e-01, 4.0969599e-02],\n",
       "       [1.3447882e-06, 9.5482904e-01, 4.5169670e-02],\n",
       "       [2.7061166e-02, 4.4868624e-01, 5.2425253e-01],\n",
       "       [9.4010271e-03, 3.7383810e-01, 6.1676085e-01],\n",
       "       [4.8866805e-02, 4.2595211e-01, 5.2518106e-01]], dtype=float32)"
      ]
     },
     "execution_count": 71,
     "metadata": {},
     "output_type": "execute_result"
    }
   ],
   "source": [
    "y_predic[0:5]"
   ]
  },
  {
   "cell_type": "code",
   "execution_count": 72,
   "id": "7c0e75f3-f74b-48b5-ac67-b23ed4bf8a88",
   "metadata": {},
   "outputs": [],
   "source": [
    "y_predic_clases=np.argmax(y_predic,axis=1).tolist()\n",
    "y_real_clases=np.argmax(y_test_encoder,axis=1).tolist()"
   ]
  },
  {
   "cell_type": "code",
   "execution_count": 73,
   "id": "bb425e59-c1a2-44ed-8f58-d45a7ddc556b",
   "metadata": {},
   "outputs": [
    {
     "data": {
      "image/png": "[encoded data removed]",
      "text/plain": [
       "<Figure size 432x288 with 2 Axes>"
      ]
     },
     "metadata": {
      "needs_background": "light"
     },
     "output_type": "display_data"
    }
   ],
   "source": [
    "ds_validacion=pd.DataFrame(y_predic_clases,y_real_clases).reset_index()\n",
    "ds_validacion.columns=['y_pred','y_real']\n",
    "\n",
    "tabla=pd.crosstab(ds_validacion.y_pred, ds_validacion.y_real)\n",
    "grf=sns.heatmap(tabla,annot=True, cmap = 'Blues')\n",
    "plt.show()"
   ]
  },
  {
   "cell_type": "code",
   "execution_count": 74,
   "id": "d2e4537a-9402-42e1-96c9-b9c72cd990ba",
   "metadata": {},
   "outputs": [],
   "source": [
    "epochs = range(cant_epochs)"
   ]
  },
  {
   "cell_type": "code",
   "execution_count": 75,
   "id": "243ccc51-3415-4f06-8768-4a2e89b96747",
   "metadata": {},
   "outputs": [
    {
     "data": {
      "text/plain": [
       "<matplotlib.legend.Legend at 0x7fea805fe790>"
      ]
     },
     "execution_count": 75,
     "metadata": {},
     "output_type": "execute_result"
    },
    {
     "data": {
      "image/png": "[encoded data removed]",
      "text/plain": [
       "<Figure size 432x288 with 1 Axes>"
      ]
     },
     "metadata": {
      "needs_background": "light"
     },
     "output_type": "display_data"
    }
   ],
   "source": [
    "plt.plot(epochs, historia_modelo_1.history['precision_m'], color='orange', label='precision')\n",
    "plt.xlabel(\"epochs\")\n",
    "plt.ylabel(\"precision\")\n",
    "plt.legend()"
   ]
  },
  {
   "cell_type": "code",
   "execution_count": 76,
   "id": "96bfa93b-8e6e-43d2-854d-594f29ff1a19",
   "metadata": {},
   "outputs": [
    {
     "data": {
      "text/plain": [
       "<matplotlib.legend.Legend at 0x7fea80574970>"
      ]
     },
     "execution_count": 76,
     "metadata": {},
     "output_type": "execute_result"
    },
    {
     "data": {
      "image/png": "[encoded data removed]",
      "text/plain": [
       "<Figure size 432x288 with 1 Axes>"
      ]
     },
     "metadata": {
      "needs_background": "light"
     },
     "output_type": "display_data"
    }
   ],
   "source": [
    "plt.plot(epochs, historia_modelo_1.history['recall_m'], color='orange', label='recall')\n",
    "plt.xlabel(\"epochs\")\n",
    "plt.ylabel(\"recall\")\n",
    "plt.legend()"
   ]
  },
  {
   "cell_type": "code",
   "execution_count": 77,
   "id": "e7bbb478-b2d0-49dc-97bd-7928e9b894a5",
   "metadata": {},
   "outputs": [
    {
     "name": "stdout",
     "output_type": "stream",
     "text": [
      "              precision    recall  f1-score   support\n",
      "\n",
      "           0       0.00      0.00      0.00      3438\n",
      "           1       0.24      0.62      0.35      3660\n",
      "           2       0.57      0.39      0.46      7436\n",
      "\n",
      "    accuracy                           0.36     14534\n",
      "   macro avg       0.27      0.34      0.27     14534\n",
      "weighted avg       0.35      0.36      0.32     14534\n",
      "\n"
     ]
    }
   ],
   "source": [
    "#Arbol Reporte y Matriz de Confusion\n",
    "y_pred=np.argmax(y_predic,axis=1)\n",
    "y_test_enc=np.argmax(y_test_encoder,axis=1)\n",
    "\n",
    "print(classification_report(y_test_enc,y_pred))"
   ]
  },
  {
   "cell_type": "code",
   "execution_count": 78,
   "id": "50887363-bba5-47e8-a6be-7e9be69e8ae2",
   "metadata": {},
   "outputs": [
    {
     "name": "stdout",
     "output_type": "stream",
     "text": [
      "Accuracy: 0.35571762763176\n",
      "Precision: 0.35571762763176\n",
      "Recall: 0.35571762763176\n",
      "F1-Score: 0.35571762763176\n"
     ]
    }
   ],
   "source": [
    "print('Accuracy: {}'.format(accuracy_score(y_test_enc, y_pred))) \n",
    "print('Precision: {}'.format(precision_score(y_test_enc, y_pred, average= 'micro'))) \n",
    "print('Recall: {}'.format(recall_score(y_test_enc, y_pred, average= 'micro'))) \n",
    "print('F1-Score: {}'.format(f1_score(y_test_enc, y_pred, average= 'micro'))) "
   ]
  },
  {
   "cell_type": "markdown",
   "id": "7819ca31-f6c8-4760-9d41-6a2e6b804218",
   "metadata": {},
   "source": [
    "Con la misma cantidad de epochs y batches no hay diferencia en los resultados obtenidos"
   ]
  },
  {
   "cell_type": "markdown",
   "id": "a124e0ce-7da5-4a33-952f-20aa20abf1b8",
   "metadata": {
    "tags": []
   },
   "source": [
    "## Modelo 4: incremento batches y optimizador adam"
   ]
  },
  {
   "cell_type": "code",
   "execution_count": null,
   "id": "6a4daa16-6074-4606-9ea8-3edaa5ea63bc",
   "metadata": {},
   "outputs": [],
   "source": [
    "modelo_4 = keras.Sequential([\n",
    "    \n",
    "    keras.layers.Dense(8,input_shape=(d_in,), activation='relu'),\n",
    "    \n",
    "    keras.layers.Dense(5, activation='relu'),\n",
    "    \n",
    "    keras.layers.Dense(cant_clases, activation='softmax')])\n",
    "\n",
    "modelo_4.summary()"
   ]
  },
  {
   "cell_type": "code",
   "execution_count": null,
   "id": "20a57ff9-c416-4ece-9a31-f94955614d6c",
   "metadata": {},
   "outputs": [],
   "source": [
    "modelo_4.compile(\n",
    "  optimizer='adam', \n",
    "  loss='categorical_crossentropy', \n",
    "  metrics=[precision_m, recall_m, f1_m], \n",
    ")"
   ]
  },
  {
   "cell_type": "code",
   "execution_count": 50,
   "id": "02701682-9274-438d-8b86-a4144af14f90",
   "metadata": {},
   "outputs": [
    {
     "name": "stdout",
     "output_type": "stream",
     "text": [
      "Epoch 1/100\n",
      "5814/5814 - 8s - loss: 0.7804 - precision_m: 0.6453 - recall_m: 0.5912 - f1_m: 0.6156 - 8s/epoch - 1ms/step\n",
      "Epoch 2/100\n",
      "5814/5814 - 8s - loss: 0.7803 - precision_m: 0.6449 - recall_m: 0.5920 - f1_m: 0.6158 - 8s/epoch - 1ms/step\n",
      "Epoch 3/100\n",
      "5814/5814 - 8s - loss: 0.7804 - precision_m: 0.6448 - recall_m: 0.5917 - f1_m: 0.6157 - 8s/epoch - 1ms/step\n",
      "Epoch 4/100\n",
      "5814/5814 - 8s - loss: 0.7799 - precision_m: 0.6453 - recall_m: 0.5928 - f1_m: 0.6164 - 8s/epoch - 1ms/step\n",
      "Epoch 5/100\n",
      "5814/5814 - 8s - loss: 0.7795 - precision_m: 0.6459 - recall_m: 0.5921 - f1_m: 0.6163 - 8s/epoch - 1ms/step\n",
      "Epoch 6/100\n",
      "5814/5814 - 8s - loss: 0.7796 - precision_m: 0.6439 - recall_m: 0.5922 - f1_m: 0.6155 - 8s/epoch - 1ms/step\n",
      "Epoch 7/100\n",
      "5814/5814 - 8s - loss: 0.7796 - precision_m: 0.6430 - recall_m: 0.5912 - f1_m: 0.6145 - 8s/epoch - 1ms/step\n",
      "Epoch 8/100\n",
      "5814/5814 - 8s - loss: 0.7793 - precision_m: 0.6442 - recall_m: 0.5917 - f1_m: 0.6153 - 8s/epoch - 1ms/step\n",
      "Epoch 9/100\n",
      "5814/5814 - 8s - loss: 0.7790 - precision_m: 0.6445 - recall_m: 0.5938 - f1_m: 0.6167 - 8s/epoch - 1ms/step\n",
      "Epoch 10/100\n",
      "5814/5814 - 8s - loss: 0.7785 - precision_m: 0.6440 - recall_m: 0.5944 - f1_m: 0.6169 - 8s/epoch - 1ms/step\n",
      "Epoch 11/100\n",
      "5814/5814 - 8s - loss: 0.7785 - precision_m: 0.6446 - recall_m: 0.5918 - f1_m: 0.6156 - 8s/epoch - 1ms/step\n",
      "Epoch 12/100\n",
      "5814/5814 - 8s - loss: 0.7776 - precision_m: 0.6449 - recall_m: 0.5946 - f1_m: 0.6173 - 8s/epoch - 1ms/step\n",
      "Epoch 13/100\n",
      "5814/5814 - 10s - loss: 0.7777 - precision_m: 0.6436 - recall_m: 0.5945 - f1_m: 0.6167 - 10s/epoch - 2ms/step\n",
      "Epoch 14/100\n",
      "5814/5814 - 8s - loss: 0.7771 - precision_m: 0.6455 - recall_m: 0.5949 - f1_m: 0.6177 - 8s/epoch - 1ms/step\n",
      "Epoch 15/100\n",
      "5814/5814 - 9s - loss: 0.7771 - precision_m: 0.6438 - recall_m: 0.5942 - f1_m: 0.6167 - 9s/epoch - 2ms/step\n",
      "Epoch 16/100\n",
      "5814/5814 - 8s - loss: 0.7767 - precision_m: 0.6463 - recall_m: 0.5956 - f1_m: 0.6185 - 8s/epoch - 1ms/step\n",
      "Epoch 17/100\n",
      "5814/5814 - 9s - loss: 0.7766 - precision_m: 0.6450 - recall_m: 0.5943 - f1_m: 0.6172 - 9s/epoch - 1ms/step\n",
      "Epoch 18/100\n",
      "5814/5814 - 9s - loss: 0.7766 - precision_m: 0.6456 - recall_m: 0.5930 - f1_m: 0.6167 - 9s/epoch - 2ms/step\n",
      "Epoch 19/100\n",
      "5814/5814 - 8s - loss: 0.7760 - precision_m: 0.6459 - recall_m: 0.5945 - f1_m: 0.6176 - 8s/epoch - 1ms/step\n",
      "Epoch 20/100\n",
      "5814/5814 - 9s - loss: 0.7755 - precision_m: 0.6454 - recall_m: 0.5949 - f1_m: 0.6177 - 9s/epoch - 1ms/step\n",
      "Epoch 21/100\n",
      "5814/5814 - 9s - loss: 0.7759 - precision_m: 0.6453 - recall_m: 0.5946 - f1_m: 0.6175 - 9s/epoch - 1ms/step\n",
      "Epoch 22/100\n",
      "5814/5814 - 9s - loss: 0.7756 - precision_m: 0.6468 - recall_m: 0.5958 - f1_m: 0.6189 - 9s/epoch - 2ms/step\n",
      "Epoch 23/100\n",
      "5814/5814 - 8s - loss: 0.7752 - precision_m: 0.6459 - recall_m: 0.5944 - f1_m: 0.6176 - 8s/epoch - 1ms/step\n",
      "Epoch 24/100\n",
      "5814/5814 - 8s - loss: 0.7752 - precision_m: 0.6466 - recall_m: 0.5966 - f1_m: 0.6192 - 8s/epoch - 1ms/step\n",
      "Epoch 25/100\n",
      "5814/5814 - 9s - loss: 0.7748 - precision_m: 0.6457 - recall_m: 0.5959 - f1_m: 0.6184 - 9s/epoch - 1ms/step\n",
      "Epoch 26/100\n",
      "5814/5814 - 10s - loss: 0.7748 - precision_m: 0.6465 - recall_m: 0.5953 - f1_m: 0.6184 - 10s/epoch - 2ms/step\n",
      "Epoch 27/100\n",
      "5814/5814 - 10s - loss: 0.7745 - precision_m: 0.6469 - recall_m: 0.5964 - f1_m: 0.6192 - 10s/epoch - 2ms/step\n",
      "Epoch 28/100\n",
      "5814/5814 - 9s - loss: 0.7743 - precision_m: 0.6452 - recall_m: 0.5954 - f1_m: 0.6179 - 9s/epoch - 2ms/step\n",
      "Epoch 29/100\n",
      "5814/5814 - 8s - loss: 0.7740 - precision_m: 0.6459 - recall_m: 0.5946 - f1_m: 0.6177 - 8s/epoch - 1ms/step\n",
      "Epoch 30/100\n",
      "5814/5814 - 8s - loss: 0.7746 - precision_m: 0.6457 - recall_m: 0.5953 - f1_m: 0.6180 - 8s/epoch - 1ms/step\n",
      "Epoch 31/100\n",
      "5814/5814 - 8s - loss: 0.7741 - precision_m: 0.6468 - recall_m: 0.5970 - f1_m: 0.6195 - 8s/epoch - 1ms/step\n",
      "Epoch 32/100\n",
      "5814/5814 - 8s - loss: 0.7737 - precision_m: 0.6457 - recall_m: 0.5960 - f1_m: 0.6184 - 8s/epoch - 1ms/step\n",
      "Epoch 33/100\n",
      "5814/5814 - 8s - loss: 0.7740 - precision_m: 0.6473 - recall_m: 0.5965 - f1_m: 0.6194 - 8s/epoch - 1ms/step\n",
      "Epoch 34/100\n",
      "5814/5814 - 8s - loss: 0.7741 - precision_m: 0.6453 - recall_m: 0.5951 - f1_m: 0.6178 - 8s/epoch - 1ms/step\n",
      "Epoch 35/100\n",
      "5814/5814 - 8s - loss: 0.7739 - precision_m: 0.6476 - recall_m: 0.5975 - f1_m: 0.6201 - 8s/epoch - 1ms/step\n",
      "Epoch 36/100\n",
      "5814/5814 - 8s - loss: 0.7735 - precision_m: 0.6469 - recall_m: 0.5967 - f1_m: 0.6194 - 8s/epoch - 1ms/step\n",
      "Epoch 37/100\n",
      "5814/5814 - 8s - loss: 0.7736 - precision_m: 0.6466 - recall_m: 0.5967 - f1_m: 0.6193 - 8s/epoch - 1ms/step\n",
      "Epoch 38/100\n",
      "5814/5814 - 8s - loss: 0.7737 - precision_m: 0.6455 - recall_m: 0.5947 - f1_m: 0.6176 - 8s/epoch - 1ms/step\n",
      "Epoch 39/100\n",
      "5814/5814 - 8s - loss: 0.7737 - precision_m: 0.6458 - recall_m: 0.5957 - f1_m: 0.6184 - 8s/epoch - 1ms/step\n",
      "Epoch 40/100\n",
      "5814/5814 - 8s - loss: 0.7735 - precision_m: 0.6462 - recall_m: 0.5952 - f1_m: 0.6182 - 8s/epoch - 1ms/step\n",
      "Epoch 41/100\n",
      "5814/5814 - 8s - loss: 0.7736 - precision_m: 0.6465 - recall_m: 0.5980 - f1_m: 0.6199 - 8s/epoch - 1ms/step\n",
      "Epoch 42/100\n",
      "5814/5814 - 8s - loss: 0.7736 - precision_m: 0.6467 - recall_m: 0.5950 - f1_m: 0.6183 - 8s/epoch - 1ms/step\n",
      "Epoch 43/100\n",
      "5814/5814 - 8s - loss: 0.7737 - precision_m: 0.6462 - recall_m: 0.5961 - f1_m: 0.6187 - 8s/epoch - 1ms/step\n",
      "Epoch 44/100\n",
      "5814/5814 - 8s - loss: 0.7738 - precision_m: 0.6479 - recall_m: 0.5974 - f1_m: 0.6202 - 8s/epoch - 1ms/step\n",
      "Epoch 45/100\n",
      "5814/5814 - 8s - loss: 0.7734 - precision_m: 0.6475 - recall_m: 0.5970 - f1_m: 0.6198 - 8s/epoch - 1ms/step\n",
      "Epoch 46/100\n",
      "5814/5814 - 8s - loss: 0.7736 - precision_m: 0.6459 - recall_m: 0.5965 - f1_m: 0.6188 - 8s/epoch - 1ms/step\n",
      "Epoch 47/100\n",
      "5814/5814 - 8s - loss: 0.7734 - precision_m: 0.6460 - recall_m: 0.5958 - f1_m: 0.6186 - 8s/epoch - 1ms/step\n",
      "Epoch 48/100\n",
      "5814/5814 - 8s - loss: 0.7735 - precision_m: 0.6462 - recall_m: 0.5962 - f1_m: 0.6188 - 8s/epoch - 1ms/step\n",
      "Epoch 49/100\n",
      "5814/5814 - 8s - loss: 0.7735 - precision_m: 0.6459 - recall_m: 0.5960 - f1_m: 0.6186 - 8s/epoch - 1ms/step\n",
      "Epoch 50/100\n",
      "5814/5814 - 8s - loss: 0.7733 - precision_m: 0.6466 - recall_m: 0.5963 - f1_m: 0.6190 - 8s/epoch - 1ms/step\n",
      "Epoch 51/100\n",
      "5814/5814 - 8s - loss: 0.7735 - precision_m: 0.6466 - recall_m: 0.5970 - f1_m: 0.6194 - 8s/epoch - 1ms/step\n",
      "Epoch 52/100\n",
      "5814/5814 - 8s - loss: 0.7735 - precision_m: 0.6460 - recall_m: 0.5960 - f1_m: 0.6186 - 8s/epoch - 1ms/step\n",
      "Epoch 53/100\n",
      "5814/5814 - 8s - loss: 0.7731 - precision_m: 0.6464 - recall_m: 0.5963 - f1_m: 0.6189 - 8s/epoch - 1ms/step\n",
      "Epoch 54/100\n",
      "5814/5814 - 8s - loss: 0.7735 - precision_m: 0.6454 - recall_m: 0.5977 - f1_m: 0.6192 - 8s/epoch - 1ms/step\n",
      "Epoch 55/100\n",
      "5814/5814 - 8s - loss: 0.7730 - precision_m: 0.6463 - recall_m: 0.5960 - f1_m: 0.6188 - 8s/epoch - 1ms/step\n",
      "Epoch 56/100\n",
      "5814/5814 - 8s - loss: 0.7733 - precision_m: 0.6469 - recall_m: 0.5963 - f1_m: 0.6191 - 8s/epoch - 1ms/step\n",
      "Epoch 57/100\n",
      "5814/5814 - 8s - loss: 0.7738 - precision_m: 0.6451 - recall_m: 0.5976 - f1_m: 0.6191 - 8s/epoch - 1ms/step\n",
      "Epoch 58/100\n",
      "5814/5814 - 8s - loss: 0.7733 - precision_m: 0.6460 - recall_m: 0.5977 - f1_m: 0.6197 - 8s/epoch - 1ms/step\n",
      "Epoch 59/100\n",
      "5814/5814 - 8s - loss: 0.7733 - precision_m: 0.6468 - recall_m: 0.5959 - f1_m: 0.6190 - 8s/epoch - 1ms/step\n",
      "Epoch 60/100\n",
      "5814/5814 - 8s - loss: 0.7736 - precision_m: 0.6455 - recall_m: 0.5956 - f1_m: 0.6182 - 8s/epoch - 1ms/step\n",
      "Epoch 61/100\n",
      "5814/5814 - 8s - loss: 0.7736 - precision_m: 0.6451 - recall_m: 0.5963 - f1_m: 0.6184 - 8s/epoch - 1ms/step\n",
      "Epoch 62/100\n",
      "5814/5814 - 8s - loss: 0.7730 - precision_m: 0.6467 - recall_m: 0.5967 - f1_m: 0.6193 - 8s/epoch - 1ms/step\n",
      "Epoch 63/100\n",
      "5814/5814 - 8s - loss: 0.7728 - precision_m: 0.6466 - recall_m: 0.5970 - f1_m: 0.6194 - 8s/epoch - 1ms/step\n",
      "Epoch 64/100\n",
      "5814/5814 - 8s - loss: 0.7737 - precision_m: 0.6468 - recall_m: 0.5961 - f1_m: 0.6190 - 8s/epoch - 1ms/step\n",
      "Epoch 65/100\n",
      "5814/5814 - 8s - loss: 0.7731 - precision_m: 0.6448 - recall_m: 0.5959 - f1_m: 0.6180 - 8s/epoch - 1ms/step\n",
      "Epoch 66/100\n",
      "5814/5814 - 8s - loss: 0.7732 - precision_m: 0.6461 - recall_m: 0.5960 - f1_m: 0.6187 - 8s/epoch - 1ms/step\n",
      "Epoch 67/100\n",
      "5814/5814 - 8s - loss: 0.7735 - precision_m: 0.6451 - recall_m: 0.5959 - f1_m: 0.6182 - 8s/epoch - 1ms/step\n",
      "Epoch 68/100\n",
      "5814/5814 - 9s - loss: 0.7733 - precision_m: 0.6466 - recall_m: 0.5966 - f1_m: 0.6193 - 9s/epoch - 1ms/step\n",
      "Epoch 69/100\n",
      "5814/5814 - 8s - loss: 0.7732 - precision_m: 0.6471 - recall_m: 0.5964 - f1_m: 0.6194 - 8s/epoch - 1ms/step\n",
      "Epoch 70/100\n",
      "5814/5814 - 9s - loss: 0.7735 - precision_m: 0.6455 - recall_m: 0.5971 - f1_m: 0.6191 - 9s/epoch - 2ms/step\n",
      "Epoch 71/100\n",
      "5814/5814 - 8s - loss: 0.7734 - precision_m: 0.6464 - recall_m: 0.5968 - f1_m: 0.6192 - 8s/epoch - 1ms/step\n",
      "Epoch 72/100\n",
      "5814/5814 - 8s - loss: 0.7736 - precision_m: 0.6468 - recall_m: 0.5968 - f1_m: 0.6194 - 8s/epoch - 1ms/step\n",
      "Epoch 73/100\n",
      "5814/5814 - 8s - loss: 0.7732 - precision_m: 0.6460 - recall_m: 0.5971 - f1_m: 0.6193 - 8s/epoch - 1ms/step\n",
      "Epoch 74/100\n",
      "5814/5814 - 8s - loss: 0.7730 - precision_m: 0.6464 - recall_m: 0.5968 - f1_m: 0.6192 - 8s/epoch - 1ms/step\n",
      "Epoch 75/100\n",
      "5814/5814 - 8s - loss: 0.7733 - precision_m: 0.6455 - recall_m: 0.5960 - f1_m: 0.6183 - 8s/epoch - 1ms/step\n",
      "Epoch 76/100\n",
      "5814/5814 - 8s - loss: 0.7727 - precision_m: 0.6473 - recall_m: 0.5987 - f1_m: 0.6207 - 8s/epoch - 1ms/step\n",
      "Epoch 77/100\n",
      "5814/5814 - 8s - loss: 0.7736 - precision_m: 0.6469 - recall_m: 0.5975 - f1_m: 0.6199 - 8s/epoch - 1ms/step\n",
      "Epoch 78/100\n",
      "5814/5814 - 8s - loss: 0.7730 - precision_m: 0.6459 - recall_m: 0.5966 - f1_m: 0.6189 - 8s/epoch - 1ms/step\n",
      "Epoch 79/100\n",
      "5814/5814 - 8s - loss: 0.7730 - precision_m: 0.6474 - recall_m: 0.5974 - f1_m: 0.6200 - 8s/epoch - 1ms/step\n",
      "Epoch 80/100\n",
      "5814/5814 - 8s - loss: 0.7731 - precision_m: 0.6463 - recall_m: 0.5977 - f1_m: 0.6197 - 8s/epoch - 1ms/step\n",
      "Epoch 81/100\n",
      "5814/5814 - 8s - loss: 0.7728 - precision_m: 0.6467 - recall_m: 0.5976 - f1_m: 0.6198 - 8s/epoch - 1ms/step\n",
      "Epoch 82/100\n",
      "5814/5814 - 8s - loss: 0.7728 - precision_m: 0.6461 - recall_m: 0.5976 - f1_m: 0.6195 - 8s/epoch - 1ms/step\n",
      "Epoch 83/100\n",
      "5814/5814 - 8s - loss: 0.7729 - precision_m: 0.6455 - recall_m: 0.5963 - f1_m: 0.6186 - 8s/epoch - 1ms/step\n",
      "Epoch 84/100\n",
      "5814/5814 - 8s - loss: 0.7733 - precision_m: 0.6452 - recall_m: 0.5975 - f1_m: 0.6191 - 8s/epoch - 1ms/step\n",
      "Epoch 85/100\n",
      "5814/5814 - 8s - loss: 0.7727 - precision_m: 0.6459 - recall_m: 0.5969 - f1_m: 0.6191 - 8s/epoch - 1ms/step\n",
      "Epoch 86/100\n",
      "5814/5814 - 8s - loss: 0.7728 - precision_m: 0.6467 - recall_m: 0.5955 - f1_m: 0.6186 - 8s/epoch - 1ms/step\n",
      "Epoch 87/100\n",
      "5814/5814 - 8s - loss: 0.7731 - precision_m: 0.6456 - recall_m: 0.5970 - f1_m: 0.6190 - 8s/epoch - 1ms/step\n",
      "Epoch 88/100\n",
      "5814/5814 - 8s - loss: 0.7730 - precision_m: 0.6453 - recall_m: 0.5967 - f1_m: 0.6187 - 8s/epoch - 1ms/step\n",
      "Epoch 89/100\n",
      "5814/5814 - 8s - loss: 0.7728 - precision_m: 0.6464 - recall_m: 0.5966 - f1_m: 0.6192 - 8s/epoch - 1ms/step\n",
      "Epoch 90/100\n",
      "5814/5814 - 8s - loss: 0.7722 - precision_m: 0.6477 - recall_m: 0.5992 - f1_m: 0.6211 - 8s/epoch - 1ms/step\n",
      "Epoch 91/100\n",
      "5814/5814 - 8s - loss: 0.7733 - precision_m: 0.6454 - recall_m: 0.5962 - f1_m: 0.6185 - 8s/epoch - 1ms/step\n",
      "Epoch 92/100\n",
      "5814/5814 - 9s - loss: 0.7729 - precision_m: 0.6464 - recall_m: 0.5979 - f1_m: 0.6199 - 9s/epoch - 2ms/step\n",
      "Epoch 93/100\n",
      "5814/5814 - 9s - loss: 0.7730 - precision_m: 0.6466 - recall_m: 0.5978 - f1_m: 0.6199 - 9s/epoch - 2ms/step\n",
      "Epoch 94/100\n",
      "5814/5814 - 8s - loss: 0.7723 - precision_m: 0.6455 - recall_m: 0.5974 - f1_m: 0.6192 - 8s/epoch - 1ms/step\n",
      "Epoch 95/100\n",
      "5814/5814 - 8s - loss: 0.7726 - precision_m: 0.6472 - recall_m: 0.5982 - f1_m: 0.6203 - 8s/epoch - 1ms/step\n",
      "Epoch 96/100\n",
      "5814/5814 - 8s - loss: 0.7727 - precision_m: 0.6459 - recall_m: 0.5978 - f1_m: 0.6196 - 8s/epoch - 1ms/step\n",
      "Epoch 97/100\n",
      "5814/5814 - 8s - loss: 0.7733 - precision_m: 0.6457 - recall_m: 0.5969 - f1_m: 0.6190 - 8s/epoch - 1ms/step\n",
      "Epoch 98/100\n",
      "5814/5814 - 8s - loss: 0.7729 - precision_m: 0.6474 - recall_m: 0.5982 - f1_m: 0.6205 - 8s/epoch - 1ms/step\n",
      "Epoch 99/100\n",
      "5814/5814 - 8s - loss: 0.7728 - precision_m: 0.6456 - recall_m: 0.5984 - f1_m: 0.6198 - 8s/epoch - 1ms/step\n",
      "Epoch 100/100\n",
      "5814/5814 - 8s - loss: 0.7732 - precision_m: 0.6447 - recall_m: 0.5959 - f1_m: 0.6180 - 8s/epoch - 1ms/step\n"
     ]
    }
   ],
   "source": [
    "cant_epochs=100\n",
    "\n",
    "historia_modelo_1 = modelo_1.fit(x_train_scaled,y_train_encoder,epochs=cant_epochs,batch_size=18, verbose=2)"
   ]
  },
  {
   "cell_type": "code",
   "execution_count": 51,
   "id": "9b9885eb-aeab-4615-90dc-5a298c113252",
   "metadata": {},
   "outputs": [
    {
     "name": "stdout",
     "output_type": "stream",
     "text": [
      "455/455 [==============================] - 1s 2ms/step\n"
     ]
    }
   ],
   "source": [
    "y_predic = modelo_1.predict(x_test_scaled)"
   ]
  },
  {
   "cell_type": "code",
   "execution_count": 52,
   "id": "37ead445-32cd-449f-85f5-91a7663d2fda",
   "metadata": {},
   "outputs": [
    {
     "data": {
      "text/plain": [
       "array([[9.8563055e-07, 9.5902944e-01, 4.0969599e-02],\n",
       "       [1.3447882e-06, 9.5482904e-01, 4.5169670e-02],\n",
       "       [2.7061166e-02, 4.4868624e-01, 5.2425253e-01],\n",
       "       [9.4010271e-03, 3.7383810e-01, 6.1676085e-01],\n",
       "       [4.8866805e-02, 4.2595211e-01, 5.2518106e-01]], dtype=float32)"
      ]
     },
     "execution_count": 52,
     "metadata": {},
     "output_type": "execute_result"
    }
   ],
   "source": [
    "y_predic[0:5]"
   ]
  },
  {
   "cell_type": "code",
   "execution_count": 53,
   "id": "3ba9f1a1-47ad-438b-a4c5-0a571ff7012d",
   "metadata": {},
   "outputs": [],
   "source": [
    "y_predic_clases=np.argmax(y_predic,axis=1).tolist()\n",
    "y_real_clases=np.argmax(y_test_encoder,axis=1).tolist()"
   ]
  },
  {
   "cell_type": "code",
   "execution_count": 54,
   "id": "c7477b69-19c6-429c-ab6f-f2c6b4c382f6",
   "metadata": {},
   "outputs": [
    {
     "data": {
      "image/png": "[encoded data removed]",
      "text/plain": [
       "<Figure size 432x288 with 2 Axes>"
      ]
     },
     "metadata": {
      "needs_background": "light"
     },
     "output_type": "display_data"
    }
   ],
   "source": [
    "ds_validacion=pd.DataFrame(y_predic_clases,y_real_clases).reset_index()\n",
    "ds_validacion.columns=['y_pred','y_real']\n",
    "\n",
    "tabla=pd.crosstab(ds_validacion.y_pred, ds_validacion.y_real)\n",
    "grf=sns.heatmap(tabla,annot=True, cmap = 'Blues')\n",
    "plt.show()"
   ]
  },
  {
   "cell_type": "code",
   "execution_count": 55,
   "id": "9f3911ed-b94d-4399-9b32-63b62f77269e",
   "metadata": {},
   "outputs": [],
   "source": [
    "epochs = range(cant_epochs)"
   ]
  },
  {
   "cell_type": "code",
   "execution_count": 56,
   "id": "43d373d0-0768-4821-8bda-7f5a3a265590",
   "metadata": {},
   "outputs": [
    {
     "data": {
      "text/plain": [
       "<matplotlib.legend.Legend at 0x7feaa81979a0>"
      ]
     },
     "execution_count": 56,
     "metadata": {},
     "output_type": "execute_result"
    },
    {
     "data": {
      "image/png": "[encoded data removed]",
      "text/plain": [
       "<Figure size 432x288 with 1 Axes>"
      ]
     },
     "metadata": {
      "needs_background": "light"
     },
     "output_type": "display_data"
    }
   ],
   "source": [
    "plt.plot(epochs, historia_modelo_1.history['precision_m'], color='orange', label='precision')\n",
    "plt.xlabel(\"epochs\")\n",
    "plt.ylabel(\"precision\")\n",
    "plt.legend()"
   ]
  },
  {
   "cell_type": "code",
   "execution_count": 57,
   "id": "f10d2106-fe2c-41f9-8d0f-348f4991974c",
   "metadata": {},
   "outputs": [
    {
     "data": {
      "text/plain": [
       "<matplotlib.legend.Legend at 0x7feaa80819a0>"
      ]
     },
     "execution_count": 57,
     "metadata": {},
     "output_type": "execute_result"
    },
    {
     "data": {
      "image/png": "[encoded data removed]",
      "text/plain": [
       "<Figure size 432x288 with 1 Axes>"
      ]
     },
     "metadata": {
      "needs_background": "light"
     },
     "output_type": "display_data"
    }
   ],
   "source": [
    "plt.plot(epochs, historia_modelo_1.history['recall_m'], color='orange', label='recall')\n",
    "plt.xlabel(\"epochs\")\n",
    "plt.ylabel(\"recall\")\n",
    "plt.legend()"
   ]
  },
  {
   "cell_type": "code",
   "execution_count": 58,
   "id": "94b43fc9-3d80-42fa-b2eb-4088c9c6593f",
   "metadata": {},
   "outputs": [
    {
     "name": "stdout",
     "output_type": "stream",
     "text": [
      "              precision    recall  f1-score   support\n",
      "\n",
      "           0       0.00      0.00      0.00      3438\n",
      "           1       0.24      0.62      0.35      3660\n",
      "           2       0.57      0.39      0.46      7436\n",
      "\n",
      "    accuracy                           0.36     14534\n",
      "   macro avg       0.27      0.34      0.27     14534\n",
      "weighted avg       0.35      0.36      0.32     14534\n",
      "\n"
     ]
    }
   ],
   "source": [
    "#Arbol Reporte y Matriz de Confusion\n",
    "y_pred=np.argmax(y_predic,axis=1)\n",
    "y_test_enc=np.argmax(y_test_encoder,axis=1)\n",
    "\n",
    "print(classification_report(y_test_enc,y_pred))"
   ]
  },
  {
   "cell_type": "code",
   "execution_count": 59,
   "id": "77d703a5-322e-41b8-bb29-f21829337857",
   "metadata": {},
   "outputs": [
    {
     "name": "stdout",
     "output_type": "stream",
     "text": [
      "Accuracy: 0.35571762763176\n",
      "Precision: 0.35571762763176\n",
      "Recall: 0.35571762763176\n",
      "F1-Score: 0.35571762763176\n"
     ]
    }
   ],
   "source": [
    "print('Accuracy: {}'.format(accuracy_score(y_test_enc, y_pred))) \n",
    "print('Precision: {}'.format(precision_score(y_test_enc, y_pred, average= 'micro'))) \n",
    "print('Recall: {}'.format(recall_score(y_test_enc, y_pred, average= 'micro'))) \n",
    "print('F1-Score: {}'.format(f1_score(y_test_enc, y_pred, average= 'micro'))) "
   ]
  },
  {
   "cell_type": "markdown",
   "id": "28713ff1-47eb-4428-82e0-d25298c13625",
   "metadata": {
    "jp-MarkdownHeadingCollapsed": true,
    "tags": []
   },
   "source": [
    "## Modelo: Cross validation"
   ]
  },
  {
   "cell_type": "code",
   "execution_count": 101,
   "id": "411177d7-c054-45f1-b767-f8a344b1e0f2",
   "metadata": {},
   "outputs": [],
   "source": [
    "def create_model(lr, neurona):\n",
    "    \n",
    "    modelo = keras.Sequential([\n",
    "    keras.layers.Dense(8,input_shape=(d_in,), activation='relu'),\n",
    "    keras.layers.Dense(neurona, activation='relu'),\n",
    "    keras.layers.Dense(cant_clases, activation='softmax')])\n",
    "    \n",
    "        \n",
    "    modelo.compile(\n",
    "      optimizer=keras.optimizers.SGD(learning_rate=lr), \n",
    "      loss='categorical_crossentropy', \n",
    "      metrics=[precision_m, recall_m, f1_m],\n",
    "    )\n",
    "    \n",
    "    return modelo"
   ]
  },
  {
   "cell_type": "code",
   "execution_count": 102,
   "id": "a678d723-0752-4a02-b55f-ca126d4c9596",
   "metadata": {},
   "outputs": [],
   "source": [
    "modelo_cv = KerasClassifier(build_fn=create_model, epochs=50, batch_size=10)"
   ]
  },
  {
   "cell_type": "code",
   "execution_count": null,
   "id": "bd7123ba-6b42-4ac9-b19e-1532d87fb75b",
   "metadata": {
    "tags": []
   },
   "outputs": [
    {
     "name": "stdout",
     "output_type": "stream",
     "text": [
      "Fitting 5 folds for each of 6 candidates, totalling 30 fits\n",
      "Epoch 1/50\n",
      "4651/4651 [==============================] - 10s 2ms/step - loss: 1.0387 - precision_m: 0.4123 - recall_m: 0.1258 - f1_m: 0.1847\n",
      "Epoch 2/50\n",
      "4651/4651 [==============================] - 9s 2ms/step - loss: 0.9679 - precision_m: 0.5272 - recall_m: 0.2337 - f1_m: 0.3150\n",
      "Epoch 3/50\n",
      "4651/4651 [==============================] - 9s 2ms/step - loss: 0.9237 - precision_m: 0.5756 - recall_m: 0.2500 - f1_m: 0.3386\n",
      "Epoch 4/50\n",
      "4651/4651 [==============================] - 9s 2ms/step - loss: 0.8982 - precision_m: 0.6154 - recall_m: 0.2961 - f1_m: 0.3889\n",
      "Epoch 5/50\n",
      "4651/4651 [==============================] - 9s 2ms/step - loss: 0.8835 - precision_m: 0.6131 - recall_m: 0.3885 - f1_m: 0.4686\n",
      "Epoch 6/50\n",
      "4651/4651 [==============================] - 9s 2ms/step - loss: 0.8740 - precision_m: 0.6072 - recall_m: 0.4225 - f1_m: 0.4928\n",
      "Epoch 7/50\n",
      "4651/4651 [==============================] - 9s 2ms/step - loss: 0.8666 - precision_m: 0.6074 - recall_m: 0.4409 - f1_m: 0.5059\n",
      "Epoch 8/50\n",
      "4651/4651 [==============================] - 9s 2ms/step - loss: 0.8601 - precision_m: 0.6142 - recall_m: 0.4495 - f1_m: 0.5142\n",
      "Epoch 9/50\n",
      "4651/4651 [==============================] - 9s 2ms/step - loss: 0.8543 - precision_m: 0.6207 - recall_m: 0.4515 - f1_m: 0.5178\n",
      "Epoch 10/50\n",
      "4651/4651 [==============================] - 9s 2ms/step - loss: 0.8492 - precision_m: 0.6284 - recall_m: 0.4491 - f1_m: 0.5186\n",
      "Epoch 11/50\n",
      "4651/4651 [==============================] - 9s 2ms/step - loss: 0.8449 - precision_m: 0.6328 - recall_m: 0.4599 - f1_m: 0.5275\n",
      "Epoch 12/50\n",
      "4651/4651 [==============================] - 9s 2ms/step - loss: 0.8409 - precision_m: 0.6370 - recall_m: 0.4660 - f1_m: 0.5333\n",
      "Epoch 13/50\n",
      "4651/4651 [==============================] - 9s 2ms/step - loss: 0.8375 - precision_m: 0.6395 - recall_m: 0.4842 - f1_m: 0.5466\n",
      "Epoch 14/50\n",
      "4651/4651 [==============================] - 9s 2ms/step - loss: 0.8344 - precision_m: 0.6404 - recall_m: 0.4980 - f1_m: 0.5561\n",
      "Epoch 15/50\n",
      "4651/4651 [==============================] - 9s 2ms/step - loss: 0.8319 - precision_m: 0.6405 - recall_m: 0.5071 - f1_m: 0.5621\n",
      "Epoch 16/50\n",
      "4651/4651 [==============================] - 9s 2ms/step - loss: 0.8298 - precision_m: 0.6410 - recall_m: 0.5110 - f1_m: 0.5649\n",
      "Epoch 17/50\n",
      "4651/4651 [==============================] - 9s 2ms/step - loss: 0.8279 - precision_m: 0.6392 - recall_m: 0.5193 - f1_m: 0.5696\n",
      "Epoch 18/50\n",
      "4651/4651 [==============================] - 9s 2ms/step - loss: 0.8263 - precision_m: 0.6395 - recall_m: 0.5226 - f1_m: 0.5718\n",
      "Epoch 19/50\n",
      "4651/4651 [==============================] - 9s 2ms/step - loss: 0.8247 - precision_m: 0.6394 - recall_m: 0.5276 - f1_m: 0.5749\n",
      "Epoch 20/50\n",
      "4651/4651 [==============================] - 9s 2ms/step - loss: 0.8235 - precision_m: 0.6383 - recall_m: 0.5323 - f1_m: 0.5775\n",
      "Epoch 21/50\n",
      "4651/4651 [==============================] - 9s 2ms/step - loss: 0.8223 - precision_m: 0.6383 - recall_m: 0.5340 - f1_m: 0.5785\n",
      "Epoch 22/50\n",
      "4651/4651 [==============================] - 9s 2ms/step - loss: 0.8211 - precision_m: 0.6378 - recall_m: 0.5376 - f1_m: 0.5807\n",
      "Epoch 23/50\n",
      "4651/4651 [==============================] - 9s 2ms/step - loss: 0.8202 - precision_m: 0.6381 - recall_m: 0.5411 - f1_m: 0.5828\n",
      "Epoch 24/50\n",
      "4651/4651 [==============================] - 9s 2ms/step - loss: 0.8192 - precision_m: 0.6379 - recall_m: 0.5433 - f1_m: 0.5841\n",
      "Epoch 25/50\n",
      "4651/4651 [==============================] - 9s 2ms/step - loss: 0.8184 - precision_m: 0.6372 - recall_m: 0.5464 - f1_m: 0.5857\n",
      "Epoch 26/50\n",
      "4651/4651 [==============================] - 9s 2ms/step - loss: 0.8176 - precision_m: 0.6364 - recall_m: 0.5470 - f1_m: 0.5858\n",
      "Epoch 27/50\n",
      "4651/4651 [==============================] - 9s 2ms/step - loss: 0.8168 - precision_m: 0.6364 - recall_m: 0.5490 - f1_m: 0.5869\n",
      "Epoch 28/50\n",
      "4651/4651 [==============================] - 9s 2ms/step - loss: 0.8161 - precision_m: 0.6366 - recall_m: 0.5513 - f1_m: 0.5886\n",
      "Epoch 29/50\n",
      "4651/4651 [==============================] - 9s 2ms/step - loss: 0.8156 - precision_m: 0.6352 - recall_m: 0.5514 - f1_m: 0.5880\n",
      "Epoch 30/50\n",
      "4651/4651 [==============================] - 9s 2ms/step - loss: 0.8150 - precision_m: 0.6354 - recall_m: 0.5529 - f1_m: 0.5890\n",
      "Epoch 31/50\n",
      "4651/4651 [==============================] - 9s 2ms/step - loss: 0.8145 - precision_m: 0.6366 - recall_m: 0.5532 - f1_m: 0.5896\n",
      "Epoch 32/50\n",
      "4651/4651 [==============================] - 9s 2ms/step - loss: 0.8141 - precision_m: 0.6356 - recall_m: 0.5553 - f1_m: 0.5905\n",
      "Epoch 33/50\n",
      "4651/4651 [==============================] - 9s 2ms/step - loss: 0.8136 - precision_m: 0.6365 - recall_m: 0.5549 - f1_m: 0.5906\n",
      "Epoch 34/50\n",
      "4651/4651 [==============================] - 9s 2ms/step - loss: 0.8132 - precision_m: 0.6354 - recall_m: 0.5565 - f1_m: 0.5911\n",
      "Epoch 35/50\n",
      "4651/4651 [==============================] - 9s 2ms/step - loss: 0.8128 - precision_m: 0.6358 - recall_m: 0.5560 - f1_m: 0.5910\n",
      "Epoch 36/50\n",
      "4651/4651 [==============================] - 10s 2ms/step - loss: 0.8124 - precision_m: 0.6354 - recall_m: 0.5572 - f1_m: 0.5915\n",
      "Epoch 37/50\n",
      "4651/4651 [==============================] - 9s 2ms/step - loss: 0.8121 - precision_m: 0.6365 - recall_m: 0.5591 - f1_m: 0.5931\n",
      "Epoch 38/50\n",
      "4651/4651 [==============================] - 9s 2ms/step - loss: 0.8117 - precision_m: 0.6362 - recall_m: 0.5592 - f1_m: 0.5931\n",
      "Epoch 39/50\n",
      "4651/4651 [==============================] - 10s 2ms/step - loss: 0.8114 - precision_m: 0.6357 - recall_m: 0.5590 - f1_m: 0.5927\n",
      "Epoch 40/50\n",
      "4651/4651 [==============================] - 10s 2ms/step - loss: 0.8111 - precision_m: 0.6362 - recall_m: 0.5599 - f1_m: 0.5934\n",
      "Epoch 41/50\n",
      "4651/4651 [==============================] - 10s 2ms/step - loss: 0.8108 - precision_m: 0.6350 - recall_m: 0.5603 - f1_m: 0.5932\n",
      "Epoch 42/50\n",
      "4651/4651 [==============================] - 9s 2ms/step - loss: 0.8105 - precision_m: 0.6366 - recall_m: 0.5603 - f1_m: 0.5939\n",
      "Epoch 43/50\n",
      "4651/4651 [==============================] - 8s 2ms/step - loss: 0.8101 - precision_m: 0.6356 - recall_m: 0.5609 - f1_m: 0.5939\n",
      "Epoch 44/50\n",
      "4651/4651 [==============================] - 8s 2ms/step - loss: 0.8098 - precision_m: 0.6355 - recall_m: 0.5613 - f1_m: 0.5941\n",
      "Epoch 45/50\n",
      "4651/4651 [==============================] - 8s 2ms/step - loss: 0.8095 - precision_m: 0.6358 - recall_m: 0.5627 - f1_m: 0.5951\n",
      "Epoch 46/50\n",
      "4651/4651 [==============================] - 8s 2ms/step - loss: 0.8092 - precision_m: 0.6354 - recall_m: 0.5635 - f1_m: 0.5953\n",
      "Epoch 47/50\n",
      "4651/4651 [==============================] - 8s 2ms/step - loss: 0.8089 - precision_m: 0.6359 - recall_m: 0.5629 - f1_m: 0.5951\n",
      "Epoch 48/50\n",
      "4651/4651 [==============================] - 8s 2ms/step - loss: 0.8087 - precision_m: 0.6362 - recall_m: 0.5642 - f1_m: 0.5961\n",
      "Epoch 49/50\n",
      "4651/4651 [==============================] - 8s 2ms/step - loss: 0.8083 - precision_m: 0.6361 - recall_m: 0.5631 - f1_m: 0.5954\n",
      "Epoch 50/50\n",
      "4651/4651 [==============================] - 8s 2ms/step - loss: 0.8081 - precision_m: 0.6354 - recall_m: 0.5647 - f1_m: 0.5960\n",
      "1163/1163 [==============================] - 2s 1ms/step - loss: 0.7979 - precision_m: 0.6410 - recall_m: 0.5685 - f1_m: 0.6005\n",
      "[CV] END ................................lr=0.001, neurona=4; total time= 7.6min\n",
      "Epoch 1/50\n"
     ]
    },
    {
     "name": "stderr",
     "output_type": "stream",
     "text": [
      "/home/lucia/.local/lib/python3.8/site-packages/sklearn/model_selection/_validation.py:776: UserWarning: Scoring failed. The score on this train-test partition for these parameters will be set to nan. Details: \n",
      "Traceback (most recent call last):\n",
      "  File \"/home/lucia/.local/lib/python3.8/site-packages/sklearn/model_selection/_validation.py\", line 767, in _score\n",
      "    scores = scorer(estimator, X_test, y_test)\n",
      "  File \"/home/lucia/.local/lib/python3.8/site-packages/sklearn/metrics/_scorer.py\", line 429, in _passthrough_scorer\n",
      "    return estimator.score(*args, **kwargs)\n",
      "  File \"/home/lucia/.local/lib/python3.8/site-packages/keras/wrappers/scikit_learn.py\", line 335, in score\n",
      "    raise ValueError(\n",
      "ValueError: The model is not configured to compute accuracy. You should pass `metrics=[\"accuracy\"]` to the `model.compile()` method.\n",
      "\n",
      "  warnings.warn(\n"
     ]
    },
    {
     "name": "stdout",
     "output_type": "stream",
     "text": [
      "4651/4651 [==============================] - 8s 2ms/step - loss: 1.0512 - precision_m: 0.3774 - recall_m: 0.1354 - f1_m: 0.1872\n",
      "Epoch 2/50\n",
      "4651/4651 [==============================] - 8s 2ms/step - loss: 1.0114 - precision_m: 0.5763 - recall_m: 0.3355 - f1_m: 0.4168\n",
      "Epoch 3/50\n",
      "4651/4651 [==============================] - 8s 2ms/step - loss: 0.9902 - precision_m: 0.5818 - recall_m: 0.3533 - f1_m: 0.4325\n",
      "Epoch 4/50\n",
      "4651/4651 [==============================] - 8s 2ms/step - loss: 0.9630 - precision_m: 0.5858 - recall_m: 0.3621 - f1_m: 0.4410\n",
      "Epoch 5/50\n",
      "4651/4651 [==============================] - 8s 2ms/step - loss: 0.9318 - precision_m: 0.5875 - recall_m: 0.3764 - f1_m: 0.4524\n",
      "Epoch 6/50\n",
      "4651/4651 [==============================] - 8s 2ms/step - loss: 0.9046 - precision_m: 0.5969 - recall_m: 0.3789 - f1_m: 0.4568\n",
      "Epoch 7/50\n",
      "4651/4651 [==============================] - 8s 2ms/step - loss: 0.8837 - precision_m: 0.6159 - recall_m: 0.4421 - f1_m: 0.5091\n",
      "Epoch 8/50\n",
      "4651/4651 [==============================] - 8s 2ms/step - loss: 0.8673 - precision_m: 0.6267 - recall_m: 0.4858 - f1_m: 0.5432\n",
      "Epoch 9/50\n",
      "4651/4651 [==============================] - 8s 2ms/step - loss: 0.8553 - precision_m: 0.6304 - recall_m: 0.4978 - f1_m: 0.5524\n",
      "Epoch 10/50\n",
      "4651/4651 [==============================] - 8s 2ms/step - loss: 0.8464 - precision_m: 0.6345 - recall_m: 0.5132 - f1_m: 0.5638\n",
      "Epoch 11/50\n",
      "4651/4651 [==============================] - 8s 2ms/step - loss: 0.8403 - precision_m: 0.6355 - recall_m: 0.5250 - f1_m: 0.5719\n",
      "Epoch 12/50\n",
      "4651/4651 [==============================] - 8s 2ms/step - loss: 0.8357 - precision_m: 0.6363 - recall_m: 0.5293 - f1_m: 0.5749\n",
      "Epoch 13/50\n",
      "4651/4651 [==============================] - 8s 2ms/step - loss: 0.8321 - precision_m: 0.6370 - recall_m: 0.5341 - f1_m: 0.5782\n",
      "Epoch 14/50\n",
      "4651/4651 [==============================] - 8s 2ms/step - loss: 0.8295 - precision_m: 0.6357 - recall_m: 0.5387 - f1_m: 0.5805\n",
      "Epoch 15/50\n",
      "4651/4651 [==============================] - 8s 2ms/step - loss: 0.8273 - precision_m: 0.6366 - recall_m: 0.5409 - f1_m: 0.5822\n",
      "Epoch 16/50\n",
      "4651/4651 [==============================] - 8s 2ms/step - loss: 0.8258 - precision_m: 0.6361 - recall_m: 0.5424 - f1_m: 0.5829\n",
      "Epoch 17/50\n",
      "4651/4651 [==============================] - 8s 2ms/step - loss: 0.8241 - precision_m: 0.6376 - recall_m: 0.5461 - f1_m: 0.5857\n",
      "Epoch 18/50\n",
      "4651/4651 [==============================] - 8s 2ms/step - loss: 0.8229 - precision_m: 0.6375 - recall_m: 0.5472 - f1_m: 0.5863\n",
      "Epoch 19/50\n",
      "4651/4651 [==============================] - 8s 2ms/step - loss: 0.8218 - precision_m: 0.6386 - recall_m: 0.5483 - f1_m: 0.5875\n",
      "Epoch 20/50\n",
      "4651/4651 [==============================] - 8s 2ms/step - loss: 0.8207 - precision_m: 0.6384 - recall_m: 0.5498 - f1_m: 0.5883\n",
      "Epoch 21/50\n",
      "4651/4651 [==============================] - 8s 2ms/step - loss: 0.8198 - precision_m: 0.6387 - recall_m: 0.5516 - f1_m: 0.5895\n",
      "Epoch 22/50\n",
      "4651/4651 [==============================] - 9s 2ms/step - loss: 0.8190 - precision_m: 0.6382 - recall_m: 0.5512 - f1_m: 0.5891\n",
      "Epoch 23/50\n",
      "4651/4651 [==============================] - 8s 2ms/step - loss: 0.8183 - precision_m: 0.6391 - recall_m: 0.5537 - f1_m: 0.5910\n",
      "Epoch 24/50\n",
      "4651/4651 [==============================] - 8s 2ms/step - loss: 0.8177 - precision_m: 0.6384 - recall_m: 0.5524 - f1_m: 0.5899\n",
      "Epoch 25/50\n",
      "4651/4651 [==============================] - 8s 2ms/step - loss: 0.8172 - precision_m: 0.6386 - recall_m: 0.5549 - f1_m: 0.5914\n",
      "Epoch 26/50\n",
      "4651/4651 [==============================] - 8s 2ms/step - loss: 0.8166 - precision_m: 0.6390 - recall_m: 0.5549 - f1_m: 0.5916\n",
      "Epoch 27/50\n",
      "4651/4651 [==============================] - 8s 2ms/step - loss: 0.8161 - precision_m: 0.6394 - recall_m: 0.5578 - f1_m: 0.5935\n",
      "Epoch 28/50\n",
      "4651/4651 [==============================] - 8s 2ms/step - loss: 0.8157 - precision_m: 0.6396 - recall_m: 0.5560 - f1_m: 0.5925\n",
      "Epoch 29/50\n",
      "4651/4651 [==============================] - 8s 2ms/step - loss: 0.8152 - precision_m: 0.6395 - recall_m: 0.5582 - f1_m: 0.5939\n",
      "Epoch 30/50\n",
      "4651/4651 [==============================] - 8s 2ms/step - loss: 0.8146 - precision_m: 0.6393 - recall_m: 0.5565 - f1_m: 0.5926\n",
      "Epoch 31/50\n",
      "4651/4651 [==============================] - 8s 2ms/step - loss: 0.8142 - precision_m: 0.6387 - recall_m: 0.5580 - f1_m: 0.5933\n",
      "Epoch 32/50\n",
      "4651/4651 [==============================] - 8s 2ms/step - loss: 0.8137 - precision_m: 0.6389 - recall_m: 0.5589 - f1_m: 0.5939\n",
      "Epoch 33/50\n",
      "4651/4651 [==============================] - 8s 2ms/step - loss: 0.8132 - precision_m: 0.6392 - recall_m: 0.5588 - f1_m: 0.5940\n",
      "Epoch 34/50\n",
      "4651/4651 [==============================] - 8s 2ms/step - loss: 0.8127 - precision_m: 0.6393 - recall_m: 0.5595 - f1_m: 0.5945\n",
      "Epoch 35/50\n",
      "4651/4651 [==============================] - 8s 2ms/step - loss: 0.8122 - precision_m: 0.6385 - recall_m: 0.5597 - f1_m: 0.5943\n",
      "Epoch 36/50\n",
      "4651/4651 [==============================] - 8s 2ms/step - loss: 0.8118 - precision_m: 0.6391 - recall_m: 0.5593 - f1_m: 0.5943\n",
      "Epoch 37/50\n",
      "4651/4651 [==============================] - 8s 2ms/step - loss: 0.8113 - precision_m: 0.6401 - recall_m: 0.5605 - f1_m: 0.5954\n",
      "Epoch 38/50\n",
      "4651/4651 [==============================] - 8s 2ms/step - loss: 0.8108 - precision_m: 0.6395 - recall_m: 0.5619 - f1_m: 0.5960\n",
      "Epoch 39/50\n",
      "4651/4651 [==============================] - 8s 2ms/step - loss: 0.8102 - precision_m: 0.6388 - recall_m: 0.5603 - f1_m: 0.5947\n",
      "Epoch 40/50\n",
      "4651/4651 [==============================] - 8s 2ms/step - loss: 0.8099 - precision_m: 0.6383 - recall_m: 0.5609 - f1_m: 0.5949\n",
      "Epoch 41/50\n",
      "4651/4651 [==============================] - 8s 2ms/step - loss: 0.8095 - precision_m: 0.6390 - recall_m: 0.5624 - f1_m: 0.5962\n",
      "Epoch 42/50\n",
      "4651/4651 [==============================] - 8s 2ms/step - loss: 0.8090 - precision_m: 0.6387 - recall_m: 0.5619 - f1_m: 0.5959\n",
      "Epoch 43/50\n",
      "4651/4651 [==============================] - 8s 2ms/step - loss: 0.8084 - precision_m: 0.6396 - recall_m: 0.5625 - f1_m: 0.5964\n",
      "Epoch 44/50\n",
      "4651/4651 [==============================] - 8s 2ms/step - loss: 0.8080 - precision_m: 0.6402 - recall_m: 0.5618 - f1_m: 0.5963\n",
      "Epoch 45/50\n",
      "4651/4651 [==============================] - 8s 2ms/step - loss: 0.8077 - precision_m: 0.6398 - recall_m: 0.5640 - f1_m: 0.5973\n",
      "Epoch 46/50\n",
      "4651/4651 [==============================] - 8s 2ms/step - loss: 0.8072 - precision_m: 0.6404 - recall_m: 0.5647 - f1_m: 0.5980\n",
      "Epoch 47/50\n",
      "4651/4651 [==============================] - 8s 2ms/step - loss: 0.8068 - precision_m: 0.6399 - recall_m: 0.5647 - f1_m: 0.5978\n",
      "Epoch 48/50\n",
      "4651/4651 [==============================] - 8s 2ms/step - loss: 0.8065 - precision_m: 0.6397 - recall_m: 0.5648 - f1_m: 0.5978\n",
      "Epoch 49/50\n",
      "4651/4651 [==============================] - 8s 2ms/step - loss: 0.8061 - precision_m: 0.6396 - recall_m: 0.5643 - f1_m: 0.5975\n",
      "Epoch 50/50\n",
      "4651/4651 [==============================] - 8s 2ms/step - loss: 0.8058 - precision_m: 0.6388 - recall_m: 0.5662 - f1_m: 0.5982\n",
      "1163/1163 [==============================] - 2s 2ms/step - loss: 0.8135 - precision_m: 0.6405 - recall_m: 0.5650 - f1_m: 0.5982\n",
      "[CV] END ................................lr=0.001, neurona=4; total time= 6.7min\n",
      "Epoch 1/50\n",
      "4651/4651 [==============================] - 9s 2ms/step - loss: 0.9938 - precision_m: 0.4334 - recall_m: 0.1962 - f1_m: 0.2543\n",
      "Epoch 2/50\n",
      "4651/4651 [==============================] - 8s 2ms/step - loss: 0.9216 - precision_m: 0.5843 - recall_m: 0.4099 - f1_m: 0.4762\n",
      "Epoch 3/50\n",
      "4651/4651 [==============================] - 8s 2ms/step - loss: 0.8945 - precision_m: 0.5933 - recall_m: 0.4571 - f1_m: 0.5123\n",
      "Epoch 4/50\n",
      "4651/4651 [==============================] - 8s 2ms/step - loss: 0.8780 - precision_m: 0.5974 - recall_m: 0.4854 - f1_m: 0.5323\n",
      "Epoch 5/50\n",
      "4651/4651 [==============================] - 8s 2ms/step - loss: 0.8668 - precision_m: 0.5979 - recall_m: 0.5039 - f1_m: 0.5442\n",
      "Epoch 6/50\n",
      "4651/4651 [==============================] - 8s 2ms/step - loss: 0.8574 - precision_m: 0.6106 - recall_m: 0.5099 - f1_m: 0.5529\n",
      "Epoch 7/50\n",
      "4651/4651 [==============================] - 8s 2ms/step - loss: 0.8499 - precision_m: 0.6194 - recall_m: 0.5182 - f1_m: 0.5614\n",
      "Epoch 8/50\n",
      "4651/4651 [==============================] - 8s 2ms/step - loss: 0.8439 - precision_m: 0.6249 - recall_m: 0.5251 - f1_m: 0.5679\n",
      "Epoch 9/50\n",
      "4651/4651 [==============================] - 8s 2ms/step - loss: 0.8393 - precision_m: 0.6291 - recall_m: 0.5296 - f1_m: 0.5721\n",
      "Epoch 10/50\n",
      "4651/4651 [==============================] - 8s 2ms/step - loss: 0.8357 - precision_m: 0.6300 - recall_m: 0.5355 - f1_m: 0.5762\n",
      "Epoch 11/50\n",
      "4651/4651 [==============================] - 8s 2ms/step - loss: 0.8329 - precision_m: 0.6296 - recall_m: 0.5418 - f1_m: 0.5799\n",
      "Epoch 12/50\n",
      "4651/4651 [==============================] - 8s 2ms/step - loss: 0.8307 - precision_m: 0.6295 - recall_m: 0.5434 - f1_m: 0.5809\n",
      "Epoch 13/50\n",
      "4651/4651 [==============================] - 8s 2ms/step - loss: 0.8289 - precision_m: 0.6306 - recall_m: 0.5475 - f1_m: 0.5837\n",
      "Epoch 14/50\n",
      "4651/4651 [==============================] - 8s 2ms/step - loss: 0.8274 - precision_m: 0.6298 - recall_m: 0.5510 - f1_m: 0.5856\n",
      "Epoch 15/50\n",
      "4651/4651 [==============================] - 8s 2ms/step - loss: 0.8261 - precision_m: 0.6300 - recall_m: 0.5537 - f1_m: 0.5872\n",
      "Epoch 16/50\n",
      "4651/4651 [==============================] - 8s 2ms/step - loss: 0.8249 - precision_m: 0.6294 - recall_m: 0.5534 - f1_m: 0.5868\n",
      "Epoch 17/50\n",
      "4651/4651 [==============================] - 8s 2ms/step - loss: 0.8239 - precision_m: 0.6301 - recall_m: 0.5559 - f1_m: 0.5886\n",
      "Epoch 18/50\n",
      "4651/4651 [==============================] - 8s 2ms/step - loss: 0.8230 - precision_m: 0.6298 - recall_m: 0.5572 - f1_m: 0.5892\n",
      "Epoch 19/50\n",
      "4651/4651 [==============================] - 8s 2ms/step - loss: 0.8221 - precision_m: 0.6308 - recall_m: 0.5569 - f1_m: 0.5895\n",
      "Epoch 20/50\n",
      "4651/4651 [==============================] - 8s 2ms/step - loss: 0.8214 - precision_m: 0.6312 - recall_m: 0.5580 - f1_m: 0.5902\n",
      "Epoch 21/50\n",
      "4651/4651 [==============================] - 8s 2ms/step - loss: 0.8206 - precision_m: 0.6318 - recall_m: 0.5591 - f1_m: 0.5912\n",
      "Epoch 22/50\n",
      "4651/4651 [==============================] - 8s 2ms/step - loss: 0.8199 - precision_m: 0.6318 - recall_m: 0.5592 - f1_m: 0.5913\n",
      "Epoch 23/50\n",
      "4651/4651 [==============================] - 8s 2ms/step - loss: 0.8189 - precision_m: 0.6316 - recall_m: 0.5594 - f1_m: 0.5913\n",
      "Epoch 24/50\n",
      "4651/4651 [==============================] - 8s 2ms/step - loss: 0.8180 - precision_m: 0.6326 - recall_m: 0.5592 - f1_m: 0.5915\n",
      "Epoch 25/50\n",
      "4651/4651 [==============================] - 8s 2ms/step - loss: 0.8170 - precision_m: 0.6327 - recall_m: 0.5606 - f1_m: 0.5925\n",
      "Epoch 26/50\n",
      "4651/4651 [==============================] - 8s 2ms/step - loss: 0.8161 - precision_m: 0.6334 - recall_m: 0.5601 - f1_m: 0.5924\n",
      "Epoch 27/50\n",
      "4651/4651 [==============================] - 8s 2ms/step - loss: 0.8153 - precision_m: 0.6331 - recall_m: 0.5613 - f1_m: 0.5931\n",
      "Epoch 28/50\n",
      "4651/4651 [==============================] - 8s 2ms/step - loss: 0.8146 - precision_m: 0.6334 - recall_m: 0.5584 - f1_m: 0.5915\n",
      "Epoch 29/50\n",
      "4651/4651 [==============================] - 8s 2ms/step - loss: 0.8139 - precision_m: 0.6334 - recall_m: 0.5610 - f1_m: 0.5930\n",
      "Epoch 30/50\n",
      "4651/4651 [==============================] - 8s 2ms/step - loss: 0.8133 - precision_m: 0.6343 - recall_m: 0.5594 - f1_m: 0.5924\n",
      "Epoch 31/50\n",
      "4651/4651 [==============================] - 8s 2ms/step - loss: 0.8129 - precision_m: 0.6341 - recall_m: 0.5618 - f1_m: 0.5937\n",
      "Epoch 32/50\n",
      "4651/4651 [==============================] - 8s 2ms/step - loss: 0.8124 - precision_m: 0.6353 - recall_m: 0.5614 - f1_m: 0.5940\n",
      "Epoch 33/50\n",
      "4651/4651 [==============================] - 8s 2ms/step - loss: 0.8120 - precision_m: 0.6348 - recall_m: 0.5617 - f1_m: 0.5940\n",
      "Epoch 34/50\n",
      "4651/4651 [==============================] - 8s 2ms/step - loss: 0.8116 - precision_m: 0.6339 - recall_m: 0.5619 - f1_m: 0.5938\n",
      "Epoch 35/50\n",
      "4651/4651 [==============================] - 8s 2ms/step - loss: 0.8112 - precision_m: 0.6352 - recall_m: 0.5617 - f1_m: 0.5942\n",
      "Epoch 36/50\n",
      "4651/4651 [==============================] - 8s 2ms/step - loss: 0.8109 - precision_m: 0.6355 - recall_m: 0.5607 - f1_m: 0.5937\n",
      "Epoch 37/50\n",
      "4651/4651 [==============================] - 8s 2ms/step - loss: 0.8106 - precision_m: 0.6355 - recall_m: 0.5617 - f1_m: 0.5943\n",
      "Epoch 38/50\n",
      "4651/4651 [==============================] - 8s 2ms/step - loss: 0.8103 - precision_m: 0.6353 - recall_m: 0.5628 - f1_m: 0.5949\n",
      "Epoch 39/50\n",
      "4651/4651 [==============================] - 8s 2ms/step - loss: 0.8100 - precision_m: 0.6371 - recall_m: 0.5626 - f1_m: 0.5954\n",
      "Epoch 40/50\n",
      "4651/4651 [==============================] - 8s 2ms/step - loss: 0.8098 - precision_m: 0.6360 - recall_m: 0.5632 - f1_m: 0.5953\n",
      "Epoch 41/50\n",
      "4651/4651 [==============================] - 8s 2ms/step - loss: 0.8096 - precision_m: 0.6366 - recall_m: 0.5631 - f1_m: 0.5954\n",
      "Epoch 42/50\n",
      "4651/4651 [==============================] - 8s 2ms/step - loss: 0.8093 - precision_m: 0.6367 - recall_m: 0.5635 - f1_m: 0.5959\n",
      "Epoch 43/50\n",
      "4651/4651 [==============================] - 8s 2ms/step - loss: 0.8091 - precision_m: 0.6357 - recall_m: 0.5645 - f1_m: 0.5959\n",
      "Epoch 44/50\n",
      "4651/4651 [==============================] - 8s 2ms/step - loss: 0.8088 - precision_m: 0.6365 - recall_m: 0.5637 - f1_m: 0.5959\n",
      "Epoch 45/50\n",
      "4651/4651 [==============================] - 8s 2ms/step - loss: 0.8087 - precision_m: 0.6365 - recall_m: 0.5647 - f1_m: 0.5965\n",
      "Epoch 46/50\n",
      "4651/4651 [==============================] - 8s 2ms/step - loss: 0.8083 - precision_m: 0.6373 - recall_m: 0.5645 - f1_m: 0.5967\n",
      "Epoch 47/50\n",
      "4651/4651 [==============================] - 8s 2ms/step - loss: 0.8082 - precision_m: 0.6361 - recall_m: 0.5650 - f1_m: 0.5964\n",
      "Epoch 48/50\n",
      "4651/4651 [==============================] - 8s 2ms/step - loss: 0.8080 - precision_m: 0.6363 - recall_m: 0.5650 - f1_m: 0.5965\n",
      "Epoch 49/50\n",
      "4651/4651 [==============================] - 8s 2ms/step - loss: 0.8077 - precision_m: 0.6372 - recall_m: 0.5649 - f1_m: 0.5970\n",
      "Epoch 50/50\n",
      "4651/4651 [==============================] - 8s 2ms/step - loss: 0.8076 - precision_m: 0.6368 - recall_m: 0.5656 - f1_m: 0.5971\n",
      "1163/1163 [==============================] - 2s 2ms/step - loss: 0.8160 - precision_m: 0.6271 - recall_m: 0.5590 - f1_m: 0.5892\n",
      "[CV] END ................................lr=0.001, neurona=4; total time= 6.8min\n",
      "Epoch 1/50\n",
      "4651/4651 [==============================] - 9s 2ms/step - loss: 1.0561 - precision_m: 0.2769 - recall_m: 0.0491 - f1_m: 0.0807\n",
      "Epoch 2/50\n",
      "4651/4651 [==============================] - 8s 2ms/step - loss: 0.9882 - precision_m: 0.5299 - recall_m: 0.1550 - f1_m: 0.2294\n",
      "Epoch 3/50\n",
      "4651/4651 [==============================] - 8s 2ms/step - loss: 0.9291 - precision_m: 0.5890 - recall_m: 0.3279 - f1_m: 0.4096\n",
      "Epoch 4/50\n",
      "4651/4651 [==============================] - 8s 2ms/step - loss: 0.8988 - precision_m: 0.5986 - recall_m: 0.4173 - f1_m: 0.4862\n",
      "Epoch 5/50\n",
      "4651/4651 [==============================] - 8s 2ms/step - loss: 0.8779 - precision_m: 0.6019 - recall_m: 0.4304 - f1_m: 0.4968\n",
      "Epoch 6/50\n",
      "4651/4651 [==============================] - 8s 2ms/step - loss: 0.8611 - precision_m: 0.6109 - recall_m: 0.4642 - f1_m: 0.5232\n",
      "Epoch 7/50\n",
      "4651/4651 [==============================] - 8s 2ms/step - loss: 0.8498 - precision_m: 0.6106 - recall_m: 0.4975 - f1_m: 0.5451\n",
      "Epoch 8/50\n",
      "4651/4651 [==============================] - 8s 2ms/step - loss: 0.8421 - precision_m: 0.6146 - recall_m: 0.5174 - f1_m: 0.5591\n",
      "Epoch 9/50\n",
      "4651/4651 [==============================] - 8s 2ms/step - loss: 0.8362 - precision_m: 0.6192 - recall_m: 0.5306 - f1_m: 0.5691\n",
      "Epoch 10/50\n",
      "4651/4651 [==============================] - 8s 2ms/step - loss: 0.8316 - precision_m: 0.6224 - recall_m: 0.5396 - f1_m: 0.5757\n",
      "Epoch 11/50\n",
      "4651/4651 [==============================] - 8s 2ms/step - loss: 0.8281 - precision_m: 0.6261 - recall_m: 0.5452 - f1_m: 0.5806\n",
      "Epoch 12/50\n",
      "4651/4651 [==============================] - 8s 2ms/step - loss: 0.8251 - precision_m: 0.6289 - recall_m: 0.5493 - f1_m: 0.5843\n",
      "Epoch 13/50\n",
      "4651/4651 [==============================] - 8s 2ms/step - loss: 0.8227 - precision_m: 0.6309 - recall_m: 0.5504 - f1_m: 0.5856\n",
      "Epoch 14/50\n",
      "4651/4651 [==============================] - 8s 2ms/step - loss: 0.8207 - precision_m: 0.6326 - recall_m: 0.5538 - f1_m: 0.5883\n",
      "Epoch 15/50\n",
      "4651/4651 [==============================] - 8s 2ms/step - loss: 0.8191 - precision_m: 0.6332 - recall_m: 0.5555 - f1_m: 0.5896\n",
      "Epoch 16/50\n",
      "4651/4651 [==============================] - 8s 2ms/step - loss: 0.8177 - precision_m: 0.6344 - recall_m: 0.5559 - f1_m: 0.5904\n",
      "Epoch 17/50\n",
      "4651/4651 [==============================] - 8s 2ms/step - loss: 0.8164 - precision_m: 0.6350 - recall_m: 0.5575 - f1_m: 0.5915\n",
      "Epoch 18/50\n",
      "4651/4651 [==============================] - 9s 2ms/step - loss: 0.8152 - precision_m: 0.6356 - recall_m: 0.5595 - f1_m: 0.5930\n",
      "Epoch 19/50\n",
      "4651/4651 [==============================] - 11s 2ms/step - loss: 0.8142 - precision_m: 0.6366 - recall_m: 0.5597 - f1_m: 0.5936\n",
      "Epoch 20/50\n",
      "4651/4651 [==============================] - 11s 2ms/step - loss: 0.8132 - precision_m: 0.6374 - recall_m: 0.5593 - f1_m: 0.5936\n",
      "Epoch 21/50\n",
      "4651/4651 [==============================] - 10s 2ms/step - loss: 0.8122 - precision_m: 0.6379 - recall_m: 0.5599 - f1_m: 0.5941\n",
      "Epoch 22/50\n",
      "4651/4651 [==============================] - 10s 2ms/step - loss: 0.8114 - precision_m: 0.6380 - recall_m: 0.5592 - f1_m: 0.5939\n",
      "Epoch 23/50\n",
      "4651/4651 [==============================] - 10s 2ms/step - loss: 0.8107 - precision_m: 0.6381 - recall_m: 0.5621 - f1_m: 0.5956\n",
      "Epoch 24/50\n",
      "4651/4651 [==============================] - 10s 2ms/step - loss: 0.8099 - precision_m: 0.6379 - recall_m: 0.5629 - f1_m: 0.5960\n",
      "Epoch 25/50\n",
      "4651/4651 [==============================] - 10s 2ms/step - loss: 0.8094 - precision_m: 0.6380 - recall_m: 0.5623 - f1_m: 0.5956\n",
      "Epoch 26/50\n",
      "4651/4651 [==============================] - 10s 2ms/step - loss: 0.8088 - precision_m: 0.6382 - recall_m: 0.5651 - f1_m: 0.5974\n",
      "Epoch 27/50\n",
      "4651/4651 [==============================] - 10s 2ms/step - loss: 0.8083 - precision_m: 0.6371 - recall_m: 0.5651 - f1_m: 0.5970\n",
      "Epoch 28/50\n",
      "4651/4651 [==============================] - 10s 2ms/step - loss: 0.8078 - precision_m: 0.6374 - recall_m: 0.5661 - f1_m: 0.5976\n",
      "Epoch 29/50\n",
      "4651/4651 [==============================] - 10s 2ms/step - loss: 0.8072 - precision_m: 0.6372 - recall_m: 0.5671 - f1_m: 0.5981\n",
      "Epoch 30/50\n",
      "4651/4651 [==============================] - 10s 2ms/step - loss: 0.8069 - precision_m: 0.6370 - recall_m: 0.5673 - f1_m: 0.5982\n",
      "Epoch 31/50\n",
      "4651/4651 [==============================] - 10s 2ms/step - loss: 0.8065 - precision_m: 0.6370 - recall_m: 0.5689 - f1_m: 0.5991\n",
      "Epoch 32/50\n",
      "4651/4651 [==============================] - 10s 2ms/step - loss: 0.8060 - precision_m: 0.6374 - recall_m: 0.5702 - f1_m: 0.6001\n",
      "Epoch 33/50\n",
      "4651/4651 [==============================] - 10s 2ms/step - loss: 0.8057 - precision_m: 0.6394 - recall_m: 0.5684 - f1_m: 0.5998\n",
      "Epoch 34/50\n",
      "4651/4651 [==============================] - 10s 2ms/step - loss: 0.8054 - precision_m: 0.6376 - recall_m: 0.5705 - f1_m: 0.6004\n",
      "Epoch 35/50\n",
      "4651/4651 [==============================] - 10s 2ms/step - loss: 0.8050 - precision_m: 0.6365 - recall_m: 0.5694 - f1_m: 0.5993\n",
      "Epoch 36/50\n",
      "4651/4651 [==============================] - 10s 2ms/step - loss: 0.8048 - precision_m: 0.6375 - recall_m: 0.5719 - f1_m: 0.6011\n",
      "Epoch 37/50\n",
      "4651/4651 [==============================] - 10s 2ms/step - loss: 0.8045 - precision_m: 0.6383 - recall_m: 0.5707 - f1_m: 0.6008\n",
      "Epoch 38/50\n",
      "4651/4651 [==============================] - 10s 2ms/step - loss: 0.8042 - precision_m: 0.6381 - recall_m: 0.5705 - f1_m: 0.6006\n",
      "Epoch 39/50\n",
      "4651/4651 [==============================] - 10s 2ms/step - loss: 0.8039 - precision_m: 0.6389 - recall_m: 0.5720 - f1_m: 0.6018\n",
      "Epoch 40/50\n",
      "4651/4651 [==============================] - 10s 2ms/step - loss: 0.8036 - precision_m: 0.6395 - recall_m: 0.5702 - f1_m: 0.6010\n",
      "Epoch 41/50\n",
      "4651/4651 [==============================] - 10s 2ms/step - loss: 0.8034 - precision_m: 0.6387 - recall_m: 0.5718 - f1_m: 0.6016\n",
      "Epoch 42/50\n",
      "4651/4651 [==============================] - 10s 2ms/step - loss: 0.8031 - precision_m: 0.6398 - recall_m: 0.5720 - f1_m: 0.6022\n",
      "Epoch 43/50\n",
      "4651/4651 [==============================] - 10s 2ms/step - loss: 0.8028 - precision_m: 0.6389 - recall_m: 0.5714 - f1_m: 0.6014\n",
      "Epoch 44/50\n",
      "4651/4651 [==============================] - 10s 2ms/step - loss: 0.8026 - precision_m: 0.6390 - recall_m: 0.5722 - f1_m: 0.6018\n",
      "Epoch 45/50\n",
      "4651/4651 [==============================] - 10s 2ms/step - loss: 0.8023 - precision_m: 0.6392 - recall_m: 0.5711 - f1_m: 0.6014\n",
      "Epoch 46/50\n",
      "4651/4651 [==============================] - 10s 2ms/step - loss: 0.8021 - precision_m: 0.6389 - recall_m: 0.5712 - f1_m: 0.6013\n",
      "Epoch 47/50\n",
      "4651/4651 [==============================] - 10s 2ms/step - loss: 0.8018 - precision_m: 0.6392 - recall_m: 0.5720 - f1_m: 0.6020\n",
      "Epoch 48/50\n",
      "4651/4651 [==============================] - 10s 2ms/step - loss: 0.8016 - precision_m: 0.6395 - recall_m: 0.5718 - f1_m: 0.6019\n",
      "Epoch 49/50\n",
      "4651/4651 [==============================] - 10s 2ms/step - loss: 0.8013 - precision_m: 0.6393 - recall_m: 0.5718 - f1_m: 0.6018\n",
      "Epoch 50/50\n",
      "4651/4651 [==============================] - 10s 2ms/step - loss: 0.8011 - precision_m: 0.6400 - recall_m: 0.5712 - f1_m: 0.6017\n",
      "1163/1163 [==============================] - 3s 2ms/step - loss: 0.8035 - precision_m: 0.6422 - recall_m: 0.5758 - f1_m: 0.6055\n",
      "[CV] END ................................lr=0.001, neurona=4; total time= 7.8min\n",
      "Epoch 1/50\n",
      "4651/4651 [==============================] - 10s 2ms/step - loss: 1.0478 - precision_m: 0.3688 - recall_m: 0.1029 - f1_m: 0.1513\n",
      "Epoch 2/50\n",
      "4651/4651 [==============================] - 10s 2ms/step - loss: 0.9523 - precision_m: 0.5984 - recall_m: 0.4198 - f1_m: 0.4876\n",
      "Epoch 3/50\n",
      "4651/4651 [==============================] - 9s 2ms/step - loss: 0.9215 - precision_m: 0.6023 - recall_m: 0.4445 - f1_m: 0.5069\n",
      "Epoch 4/50\n",
      "4651/4651 [==============================] - 8s 2ms/step - loss: 0.9001 - precision_m: 0.6105 - recall_m: 0.4416 - f1_m: 0.5075\n",
      "Epoch 5/50\n",
      "4651/4651 [==============================] - 9s 2ms/step - loss: 0.8849 - precision_m: 0.6193 - recall_m: 0.4319 - f1_m: 0.5033\n",
      "Epoch 6/50\n",
      "4651/4651 [==============================] - 11s 2ms/step - loss: 0.8746 - precision_m: 0.6292 - recall_m: 0.4189 - f1_m: 0.4965\n",
      "Epoch 7/50\n",
      "4651/4651 [==============================] - 9s 2ms/step - loss: 0.8674 - precision_m: 0.6343 - recall_m: 0.4176 - f1_m: 0.4968\n",
      "Epoch 8/50\n",
      "4651/4651 [==============================] - 8s 2ms/step - loss: 0.8619 - precision_m: 0.6372 - recall_m: 0.4205 - f1_m: 0.5000\n",
      "Epoch 9/50\n",
      "4651/4651 [==============================] - 8s 2ms/step - loss: 0.8572 - precision_m: 0.6375 - recall_m: 0.4355 - f1_m: 0.5114\n",
      "Epoch 10/50\n",
      "4651/4651 [==============================] - 8s 2ms/step - loss: 0.8531 - precision_m: 0.6398 - recall_m: 0.4523 - f1_m: 0.5243\n",
      "Epoch 11/50\n",
      "4651/4651 [==============================] - 9s 2ms/step - loss: 0.8497 - precision_m: 0.6367 - recall_m: 0.4856 - f1_m: 0.5465\n",
      "Epoch 12/50\n",
      "4651/4651 [==============================] - 8s 2ms/step - loss: 0.8468 - precision_m: 0.6373 - recall_m: 0.5022 - f1_m: 0.5577\n",
      "Epoch 13/50\n",
      "4651/4651 [==============================] - 9s 2ms/step - loss: 0.8445 - precision_m: 0.6371 - recall_m: 0.5106 - f1_m: 0.5633\n",
      "Epoch 14/50\n",
      "4651/4651 [==============================] - 8s 2ms/step - loss: 0.8424 - precision_m: 0.6374 - recall_m: 0.5170 - f1_m: 0.5674\n",
      "Epoch 15/50\n",
      "4651/4651 [==============================] - 8s 2ms/step - loss: 0.8407 - precision_m: 0.6384 - recall_m: 0.5205 - f1_m: 0.5701\n",
      "Epoch 16/50\n",
      "4651/4651 [==============================] - 8s 2ms/step - loss: 0.8393 - precision_m: 0.6389 - recall_m: 0.5221 - f1_m: 0.5712\n",
      "Epoch 17/50\n",
      "4651/4651 [==============================] - 8s 2ms/step - loss: 0.8380 - precision_m: 0.6391 - recall_m: 0.5248 - f1_m: 0.5729\n",
      "Epoch 18/50\n",
      "4651/4651 [==============================] - 8s 2ms/step - loss: 0.8368 - precision_m: 0.6393 - recall_m: 0.5287 - f1_m: 0.5756\n",
      "Epoch 19/50\n",
      "4651/4651 [==============================] - 8s 2ms/step - loss: 0.8358 - precision_m: 0.6400 - recall_m: 0.5305 - f1_m: 0.5771\n",
      "Epoch 20/50\n",
      "4651/4651 [==============================] - 8s 2ms/step - loss: 0.8347 - precision_m: 0.6398 - recall_m: 0.5316 - f1_m: 0.5776\n",
      "Epoch 21/50\n",
      "4651/4651 [==============================] - 9s 2ms/step - loss: 0.8338 - precision_m: 0.6401 - recall_m: 0.5325 - f1_m: 0.5783\n",
      "Epoch 22/50\n",
      "4651/4651 [==============================] - 8s 2ms/step - loss: 0.8330 - precision_m: 0.6410 - recall_m: 0.5334 - f1_m: 0.5790\n",
      "Epoch 23/50\n",
      "4651/4651 [==============================] - 8s 2ms/step - loss: 0.8322 - precision_m: 0.6397 - recall_m: 0.5353 - f1_m: 0.5797\n",
      "Epoch 24/50\n",
      "4651/4651 [==============================] - 8s 2ms/step - loss: 0.8314 - precision_m: 0.6413 - recall_m: 0.5360 - f1_m: 0.5810\n",
      "Epoch 25/50\n",
      "4651/4651 [==============================] - 8s 2ms/step - loss: 0.8308 - precision_m: 0.6410 - recall_m: 0.5373 - f1_m: 0.5816\n",
      "Epoch 26/50\n",
      "4651/4651 [==============================] - 8s 2ms/step - loss: 0.8302 - precision_m: 0.6404 - recall_m: 0.5376 - f1_m: 0.5816\n",
      "Epoch 27/50\n",
      "4651/4651 [==============================] - 8s 2ms/step - loss: 0.8295 - precision_m: 0.6397 - recall_m: 0.5409 - f1_m: 0.5834\n",
      "Epoch 28/50\n",
      "4651/4651 [==============================] - 8s 2ms/step - loss: 0.8289 - precision_m: 0.6407 - recall_m: 0.5398 - f1_m: 0.5829\n",
      "Epoch 29/50\n",
      "4651/4651 [==============================] - 8s 2ms/step - loss: 0.8285 - precision_m: 0.6413 - recall_m: 0.5417 - f1_m: 0.5845\n",
      "Epoch 30/50\n",
      "4651/4651 [==============================] - 9s 2ms/step - loss: 0.8279 - precision_m: 0.6400 - recall_m: 0.5427 - f1_m: 0.5847\n",
      "Epoch 31/50\n",
      "4651/4651 [==============================] - 8s 2ms/step - loss: 0.8274 - precision_m: 0.6398 - recall_m: 0.5436 - f1_m: 0.5851\n",
      "Epoch 32/50\n",
      "4651/4651 [==============================] - 8s 2ms/step - loss: 0.8270 - precision_m: 0.6402 - recall_m: 0.5446 - f1_m: 0.5858\n",
      "Epoch 33/50\n",
      "4651/4651 [==============================] - 8s 2ms/step - loss: 0.8264 - precision_m: 0.6400 - recall_m: 0.5437 - f1_m: 0.5851\n",
      "Epoch 34/50\n",
      "4651/4651 [==============================] - 8s 2ms/step - loss: 0.8260 - precision_m: 0.6397 - recall_m: 0.5467 - f1_m: 0.5868\n",
      "Epoch 35/50\n",
      "4651/4651 [==============================] - 8s 2ms/step - loss: 0.8255 - precision_m: 0.6390 - recall_m: 0.5460 - f1_m: 0.5862\n",
      "Epoch 36/50\n",
      "4651/4651 [==============================] - 8s 2ms/step - loss: 0.8252 - precision_m: 0.6394 - recall_m: 0.5478 - f1_m: 0.5875\n",
      "Epoch 37/50\n",
      "4651/4651 [==============================] - 8s 2ms/step - loss: 0.8248 - precision_m: 0.6385 - recall_m: 0.5495 - f1_m: 0.5882\n",
      "Epoch 38/50\n",
      "4651/4651 [==============================] - 8s 2ms/step - loss: 0.8244 - precision_m: 0.6394 - recall_m: 0.5492 - f1_m: 0.5884\n",
      "Epoch 39/50\n",
      "4651/4651 [==============================] - 9s 2ms/step - loss: 0.8240 - precision_m: 0.6380 - recall_m: 0.5510 - f1_m: 0.5888\n",
      "Epoch 40/50\n",
      "4651/4651 [==============================] - 8s 2ms/step - loss: 0.8237 - precision_m: 0.6381 - recall_m: 0.5510 - f1_m: 0.5889\n",
      "Epoch 41/50\n",
      "4651/4651 [==============================] - 8s 2ms/step - loss: 0.8232 - precision_m: 0.6393 - recall_m: 0.5528 - f1_m: 0.5905\n",
      "Epoch 42/50\n",
      "4651/4651 [==============================] - 8s 2ms/step - loss: 0.8229 - precision_m: 0.6386 - recall_m: 0.5533 - f1_m: 0.5905\n",
      "Epoch 43/50\n",
      "4651/4651 [==============================] - 9s 2ms/step - loss: 0.8226 - precision_m: 0.6381 - recall_m: 0.5535 - f1_m: 0.5904\n",
      "Epoch 44/50\n",
      "4651/4651 [==============================] - 9s 2ms/step - loss: 0.8221 - precision_m: 0.6380 - recall_m: 0.5537 - f1_m: 0.5904\n",
      "Epoch 45/50\n",
      "4651/4651 [==============================] - 8s 2ms/step - loss: 0.8218 - precision_m: 0.6375 - recall_m: 0.5558 - f1_m: 0.5916\n",
      "Epoch 46/50\n",
      "4651/4651 [==============================] - 8s 2ms/step - loss: 0.8214 - precision_m: 0.6380 - recall_m: 0.5554 - f1_m: 0.5915\n",
      "Epoch 47/50\n",
      "4651/4651 [==============================] - 8s 2ms/step - loss: 0.8210 - precision_m: 0.6371 - recall_m: 0.5562 - f1_m: 0.5917\n",
      "Epoch 48/50\n",
      "4651/4651 [==============================] - 9s 2ms/step - loss: 0.8207 - precision_m: 0.6382 - recall_m: 0.5565 - f1_m: 0.5923\n",
      "Epoch 49/50\n",
      "4651/4651 [==============================] - 8s 2ms/step - loss: 0.8203 - precision_m: 0.6372 - recall_m: 0.5574 - f1_m: 0.5924\n",
      "Epoch 50/50\n",
      "4651/4651 [==============================] - 8s 2ms/step - loss: 0.8200 - precision_m: 0.6376 - recall_m: 0.5577 - f1_m: 0.5929\n",
      "1163/1163 [==============================] - 2s 2ms/step - loss: 0.8169 - precision_m: 0.6431 - recall_m: 0.5633 - f1_m: 0.5984\n",
      "[CV] END ................................lr=0.001, neurona=4; total time= 7.2min\n",
      "Epoch 1/50\n",
      "4651/4651 [==============================] - 9s 2ms/step - loss: 1.0641 - precision_m: 0.0075 - recall_m: 0.0010 - f1_m: 0.0017\n",
      "Epoch 2/50\n",
      "4651/4651 [==============================] - 8s 2ms/step - loss: 1.0299 - precision_m: 0.2296 - recall_m: 0.0522 - f1_m: 0.0806\n",
      "Epoch 3/50\n",
      "4651/4651 [==============================] - 8s 2ms/step - loss: 1.0158 - precision_m: 0.5472 - recall_m: 0.3457 - f1_m: 0.4147\n",
      "Epoch 4/50\n",
      "4651/4651 [==============================] - 8s 2ms/step - loss: 0.9884 - precision_m: 0.5684 - recall_m: 0.3357 - f1_m: 0.4121\n",
      "Epoch 5/50\n",
      "4651/4651 [==============================] - 8s 2ms/step - loss: 0.9532 - precision_m: 0.5781 - recall_m: 0.3193 - f1_m: 0.4020\n",
      "Epoch 6/50\n",
      "4651/4651 [==============================] - 8s 2ms/step - loss: 0.9202 - precision_m: 0.6061 - recall_m: 0.2706 - f1_m: 0.3641\n",
      "Epoch 7/50\n",
      "4651/4651 [==============================] - 8s 2ms/step - loss: 0.8889 - precision_m: 0.6287 - recall_m: 0.3449 - f1_m: 0.4366\n",
      "Epoch 8/50\n",
      "4651/4651 [==============================] - 8s 2ms/step - loss: 0.8713 - precision_m: 0.6354 - recall_m: 0.3970 - f1_m: 0.4813\n",
      "Epoch 9/50\n",
      "4651/4651 [==============================] - 8s 2ms/step - loss: 0.8618 - precision_m: 0.6415 - recall_m: 0.4380 - f1_m: 0.5142\n",
      "Epoch 10/50\n",
      "4651/4651 [==============================] - 8s 2ms/step - loss: 0.8546 - precision_m: 0.6409 - recall_m: 0.4637 - f1_m: 0.5330\n",
      "Epoch 11/50\n",
      "4651/4651 [==============================] - 8s 2ms/step - loss: 0.8489 - precision_m: 0.6355 - recall_m: 0.4899 - f1_m: 0.5489\n",
      "Epoch 12/50\n",
      "4651/4651 [==============================] - 8s 2ms/step - loss: 0.8439 - precision_m: 0.6364 - recall_m: 0.5000 - f1_m: 0.5561\n",
      "Epoch 13/50\n",
      "4651/4651 [==============================] - 8s 2ms/step - loss: 0.8396 - precision_m: 0.6359 - recall_m: 0.5098 - f1_m: 0.5621\n",
      "Epoch 14/50\n",
      "4651/4651 [==============================] - 8s 2ms/step - loss: 0.8357 - precision_m: 0.6370 - recall_m: 0.5202 - f1_m: 0.5693\n",
      "Epoch 15/50\n",
      "4651/4651 [==============================] - 8s 2ms/step - loss: 0.8323 - precision_m: 0.6364 - recall_m: 0.5269 - f1_m: 0.5733\n",
      "Epoch 16/50\n",
      "4651/4651 [==============================] - 8s 2ms/step - loss: 0.8295 - precision_m: 0.6378 - recall_m: 0.5304 - f1_m: 0.5760\n",
      "Epoch 17/50\n",
      "4651/4651 [==============================] - 8s 2ms/step - loss: 0.8269 - precision_m: 0.6377 - recall_m: 0.5339 - f1_m: 0.5783\n",
      "Epoch 18/50\n",
      "4651/4651 [==============================] - 8s 2ms/step - loss: 0.8246 - precision_m: 0.6398 - recall_m: 0.5367 - f1_m: 0.5806\n",
      "Epoch 19/50\n",
      "4651/4651 [==============================] - 8s 2ms/step - loss: 0.8224 - precision_m: 0.6408 - recall_m: 0.5386 - f1_m: 0.5825\n",
      "Epoch 20/50\n",
      "4651/4651 [==============================] - 8s 2ms/step - loss: 0.8207 - precision_m: 0.6405 - recall_m: 0.5414 - f1_m: 0.5840\n",
      "Epoch 21/50\n",
      "4651/4651 [==============================] - 8s 2ms/step - loss: 0.8190 - precision_m: 0.6416 - recall_m: 0.5429 - f1_m: 0.5854\n",
      "Epoch 22/50\n",
      "4651/4651 [==============================] - 8s 2ms/step - loss: 0.8175 - precision_m: 0.6410 - recall_m: 0.5446 - f1_m: 0.5862\n",
      "Epoch 23/50\n",
      "4651/4651 [==============================] - 8s 2ms/step - loss: 0.8162 - precision_m: 0.6406 - recall_m: 0.5463 - f1_m: 0.5871\n",
      "Epoch 24/50\n",
      "4651/4651 [==============================] - 8s 2ms/step - loss: 0.8150 - precision_m: 0.6407 - recall_m: 0.5480 - f1_m: 0.5881\n",
      "Epoch 25/50\n",
      "4651/4651 [==============================] - 8s 2ms/step - loss: 0.8139 - precision_m: 0.6410 - recall_m: 0.5498 - f1_m: 0.5894\n",
      "Epoch 26/50\n",
      "4651/4651 [==============================] - 8s 2ms/step - loss: 0.8130 - precision_m: 0.6400 - recall_m: 0.5509 - f1_m: 0.5896\n",
      "Epoch 27/50\n",
      "4651/4651 [==============================] - 8s 2ms/step - loss: 0.8121 - precision_m: 0.6407 - recall_m: 0.5532 - f1_m: 0.5912\n",
      "Epoch 28/50\n",
      "4651/4651 [==============================] - 9s 2ms/step - loss: 0.8114 - precision_m: 0.6401 - recall_m: 0.5543 - f1_m: 0.5917\n",
      "Epoch 29/50\n",
      "4651/4651 [==============================] - 8s 2ms/step - loss: 0.8107 - precision_m: 0.6395 - recall_m: 0.5558 - f1_m: 0.5923\n",
      "Epoch 30/50\n",
      "4651/4651 [==============================] - 8s 2ms/step - loss: 0.8100 - precision_m: 0.6405 - recall_m: 0.5569 - f1_m: 0.5934\n",
      "Epoch 31/50\n",
      "4651/4651 [==============================] - 8s 2ms/step - loss: 0.8095 - precision_m: 0.6395 - recall_m: 0.5579 - f1_m: 0.5937\n",
      "Epoch 32/50\n",
      "4651/4651 [==============================] - 8s 2ms/step - loss: 0.8089 - precision_m: 0.6388 - recall_m: 0.5585 - f1_m: 0.5937\n",
      "Epoch 33/50\n",
      "4651/4651 [==============================] - 8s 2ms/step - loss: 0.8084 - precision_m: 0.6393 - recall_m: 0.5601 - f1_m: 0.5949\n",
      "Epoch 34/50\n",
      "4651/4651 [==============================] - 8s 2ms/step - loss: 0.8079 - precision_m: 0.6381 - recall_m: 0.5600 - f1_m: 0.5943\n",
      "Epoch 35/50\n",
      "4651/4651 [==============================] - 8s 2ms/step - loss: 0.8075 - precision_m: 0.6385 - recall_m: 0.5609 - f1_m: 0.5950\n",
      "Epoch 36/50\n",
      "4651/4651 [==============================] - 8s 2ms/step - loss: 0.8071 - precision_m: 0.6386 - recall_m: 0.5619 - f1_m: 0.5956\n",
      "Epoch 37/50\n",
      "4651/4651 [==============================] - 8s 2ms/step - loss: 0.8068 - precision_m: 0.6390 - recall_m: 0.5622 - f1_m: 0.5960\n",
      "Epoch 38/50\n",
      "4651/4651 [==============================] - 8s 2ms/step - loss: 0.8065 - precision_m: 0.6390 - recall_m: 0.5631 - f1_m: 0.5966\n",
      "Epoch 39/50\n",
      "4651/4651 [==============================] - 9s 2ms/step - loss: 0.8061 - precision_m: 0.6374 - recall_m: 0.5626 - f1_m: 0.5956\n",
      "Epoch 40/50\n",
      "4651/4651 [==============================] - 8s 2ms/step - loss: 0.8058 - precision_m: 0.6373 - recall_m: 0.5636 - f1_m: 0.5962\n",
      "Epoch 41/50\n",
      "4651/4651 [==============================] - 8s 2ms/step - loss: 0.8056 - precision_m: 0.6367 - recall_m: 0.5639 - f1_m: 0.5961\n",
      "Epoch 42/50\n",
      "4651/4651 [==============================] - 8s 2ms/step - loss: 0.8054 - precision_m: 0.6382 - recall_m: 0.5645 - f1_m: 0.5972\n",
      "Epoch 43/50\n",
      "4651/4651 [==============================] - 8s 2ms/step - loss: 0.8050 - precision_m: 0.6379 - recall_m: 0.5649 - f1_m: 0.5972\n",
      "Epoch 44/50\n",
      "4651/4651 [==============================] - 8s 2ms/step - loss: 0.8048 - precision_m: 0.6381 - recall_m: 0.5651 - f1_m: 0.5974\n",
      "Epoch 45/50\n",
      "4651/4651 [==============================] - 8s 2ms/step - loss: 0.8045 - precision_m: 0.6390 - recall_m: 0.5654 - f1_m: 0.5979\n",
      "Epoch 46/50\n",
      "4651/4651 [==============================] - 8s 2ms/step - loss: 0.8043 - precision_m: 0.6369 - recall_m: 0.5657 - f1_m: 0.5972\n",
      "Epoch 47/50\n",
      "4651/4651 [==============================] - 8s 2ms/step - loss: 0.8040 - precision_m: 0.6369 - recall_m: 0.5671 - f1_m: 0.5979\n",
      "Epoch 48/50\n",
      "4651/4651 [==============================] - 8s 2ms/step - loss: 0.8038 - precision_m: 0.6378 - recall_m: 0.5668 - f1_m: 0.5983\n",
      "Epoch 49/50\n",
      "4651/4651 [==============================] - 8s 2ms/step - loss: 0.8036 - precision_m: 0.6377 - recall_m: 0.5667 - f1_m: 0.5981\n",
      "Epoch 50/50\n",
      "4651/4651 [==============================] - 8s 2ms/step - loss: 0.8034 - precision_m: 0.6364 - recall_m: 0.5665 - f1_m: 0.5974\n",
      "1163/1163 [==============================] - 2s 2ms/step - loss: 0.7974 - precision_m: 0.6395 - recall_m: 0.5691 - f1_m: 0.6003\n",
      "[CV] END ................................lr=0.001, neurona=5; total time= 6.9min\n",
      "Epoch 1/50\n",
      "4651/4651 [==============================] - 11s 2ms/step - loss: 1.0690 - precision_m: 0.2206 - recall_m: 0.0443 - f1_m: 0.0708\n",
      "Epoch 2/50\n",
      "4651/4651 [==============================] - 8s 2ms/step - loss: 0.9810 - precision_m: 0.5886 - recall_m: 0.3082 - f1_m: 0.3863\n",
      "Epoch 3/50\n",
      "4651/4651 [==============================] - 8s 2ms/step - loss: 0.9113 - precision_m: 0.6182 - recall_m: 0.4489 - f1_m: 0.5148\n",
      "Epoch 4/50\n",
      "4651/4651 [==============================] - 8s 2ms/step - loss: 0.8606 - precision_m: 0.6395 - recall_m: 0.4696 - f1_m: 0.5364\n",
      "Epoch 5/50\n",
      "4651/4651 [==============================] - 8s 2ms/step - loss: 0.8403 - precision_m: 0.6415 - recall_m: 0.4987 - f1_m: 0.5570\n",
      "Epoch 6/50\n",
      "4651/4651 [==============================] - 8s 2ms/step - loss: 0.8312 - precision_m: 0.6432 - recall_m: 0.5130 - f1_m: 0.5671\n",
      "Epoch 7/50\n",
      "4651/4651 [==============================] - 9s 2ms/step - loss: 0.8260 - precision_m: 0.6419 - recall_m: 0.5281 - f1_m: 0.5761\n",
      "Epoch 8/50\n",
      "4651/4651 [==============================] - 8s 2ms/step - loss: 0.8224 - precision_m: 0.6420 - recall_m: 0.5360 - f1_m: 0.5812\n",
      "Epoch 9/50\n",
      "4651/4651 [==============================] - 8s 2ms/step - loss: 0.8197 - precision_m: 0.6419 - recall_m: 0.5408 - f1_m: 0.5841\n",
      "Epoch 10/50\n",
      "4651/4651 [==============================] - 8s 2ms/step - loss: 0.8175 - precision_m: 0.6409 - recall_m: 0.5485 - f1_m: 0.5885\n",
      "Epoch 11/50\n",
      "4651/4651 [==============================] - 8s 2ms/step - loss: 0.8160 - precision_m: 0.6404 - recall_m: 0.5527 - f1_m: 0.5909\n",
      "Epoch 12/50\n",
      "4651/4651 [==============================] - 8s 2ms/step - loss: 0.8146 - precision_m: 0.6413 - recall_m: 0.5562 - f1_m: 0.5934\n",
      "Epoch 13/50\n",
      "4651/4651 [==============================] - 8s 2ms/step - loss: 0.8134 - precision_m: 0.6412 - recall_m: 0.5586 - f1_m: 0.5947\n",
      "Epoch 14/50\n",
      "4651/4651 [==============================] - 8s 2ms/step - loss: 0.8123 - precision_m: 0.6394 - recall_m: 0.5614 - f1_m: 0.5957\n",
      "Epoch 15/50\n",
      "4651/4651 [==============================] - 8s 2ms/step - loss: 0.8113 - precision_m: 0.6396 - recall_m: 0.5623 - f1_m: 0.5962\n",
      "Epoch 16/50\n",
      "4651/4651 [==============================] - 8s 2ms/step - loss: 0.8104 - precision_m: 0.6388 - recall_m: 0.5631 - f1_m: 0.5964\n",
      "Epoch 17/50\n",
      "4651/4651 [==============================] - 8s 2ms/step - loss: 0.8096 - precision_m: 0.6386 - recall_m: 0.5646 - f1_m: 0.5973\n",
      "Epoch 18/50\n",
      "4651/4651 [==============================] - 9s 2ms/step - loss: 0.8089 - precision_m: 0.6388 - recall_m: 0.5662 - f1_m: 0.5983\n",
      "Epoch 19/50\n",
      "4651/4651 [==============================] - 9s 2ms/step - loss: 0.8083 - precision_m: 0.6380 - recall_m: 0.5658 - f1_m: 0.5977\n",
      "Epoch 20/50\n",
      "4651/4651 [==============================] - 8s 2ms/step - loss: 0.8076 - precision_m: 0.6385 - recall_m: 0.5669 - f1_m: 0.5986\n",
      "Epoch 21/50\n",
      "4651/4651 [==============================] - 8s 2ms/step - loss: 0.8071 - precision_m: 0.6396 - recall_m: 0.5685 - f1_m: 0.6000\n",
      "Epoch 22/50\n",
      "4651/4651 [==============================] - 8s 2ms/step - loss: 0.8065 - precision_m: 0.6388 - recall_m: 0.5686 - f1_m: 0.5997\n",
      "Epoch 23/50\n",
      "4651/4651 [==============================] - 9s 2ms/step - loss: 0.8059 - precision_m: 0.6390 - recall_m: 0.5703 - f1_m: 0.6009\n",
      "Epoch 24/50\n",
      "4651/4651 [==============================] - 8s 2ms/step - loss: 0.8053 - precision_m: 0.6387 - recall_m: 0.5697 - f1_m: 0.6004\n",
      "Epoch 25/50\n",
      "4651/4651 [==============================] - 8s 2ms/step - loss: 0.8048 - precision_m: 0.6383 - recall_m: 0.5711 - f1_m: 0.6010\n",
      "Epoch 26/50\n",
      "4651/4651 [==============================] - 8s 2ms/step - loss: 0.8042 - precision_m: 0.6391 - recall_m: 0.5700 - f1_m: 0.6006\n",
      "Epoch 27/50\n",
      "4651/4651 [==============================] - 8s 2ms/step - loss: 0.8036 - precision_m: 0.6390 - recall_m: 0.5729 - f1_m: 0.6023\n",
      "Epoch 28/50\n",
      "4651/4651 [==============================] - 8s 2ms/step - loss: 0.8032 - precision_m: 0.6396 - recall_m: 0.5725 - f1_m: 0.6023\n",
      "Epoch 29/50\n",
      "4651/4651 [==============================] - 8s 2ms/step - loss: 0.8026 - precision_m: 0.6391 - recall_m: 0.5730 - f1_m: 0.6025\n",
      "Epoch 30/50\n",
      "4651/4651 [==============================] - 8s 2ms/step - loss: 0.8020 - precision_m: 0.6393 - recall_m: 0.5731 - f1_m: 0.6025\n",
      "Epoch 31/50\n",
      "4651/4651 [==============================] - 8s 2ms/step - loss: 0.8015 - precision_m: 0.6393 - recall_m: 0.5734 - f1_m: 0.6027\n",
      "Epoch 32/50\n",
      "4651/4651 [==============================] - 8s 2ms/step - loss: 0.8010 - precision_m: 0.6398 - recall_m: 0.5734 - f1_m: 0.6030\n",
      "Epoch 33/50\n",
      "4651/4651 [==============================] - 8s 2ms/step - loss: 0.8005 - precision_m: 0.6398 - recall_m: 0.5747 - f1_m: 0.6036\n",
      "Epoch 34/50\n",
      "4651/4651 [==============================] - 9s 2ms/step - loss: 0.7999 - precision_m: 0.6399 - recall_m: 0.5746 - f1_m: 0.6037\n",
      "Epoch 35/50\n",
      "4651/4651 [==============================] - 8s 2ms/step - loss: 0.7994 - precision_m: 0.6401 - recall_m: 0.5754 - f1_m: 0.6043\n",
      "Epoch 36/50\n",
      "4651/4651 [==============================] - 8s 2ms/step - loss: 0.7989 - precision_m: 0.6402 - recall_m: 0.5742 - f1_m: 0.6035\n",
      "Epoch 37/50\n",
      "4651/4651 [==============================] - 8s 2ms/step - loss: 0.7984 - precision_m: 0.6406 - recall_m: 0.5747 - f1_m: 0.6040\n",
      "Epoch 38/50\n",
      " 188/4651 [>.............................] - ETA: 8s - loss: 0.7869 - precision_m: 0.6522 - recall_m: 0.5819 - f1_m: 0.6130"
     ]
    }
   ],
   "source": [
    "lr = [0.001, 0.01]\n",
    "neurona = [4, 5, 6]\n",
    "\n",
    "param_grid = dict(lr=lr, neurona=neurona)\n",
    "\n",
    "grid = GridSearchCV(estimator=modelo_cv, param_grid=param_grid, verbose=2)\n",
    "grid_result = grid.fit(x_train_scaled, y_train_encoder)"
   ]
  },
  {
   "cell_type": "markdown",
   "id": "ca816d52-e340-4499-85fb-90fc78962fb3",
   "metadata": {},
   "source": [
    "-----------\n",
    "\n",
    "----\n"
   ]
  }
 ],
 "metadata": {
  "kernelspec": {
   "display_name": "Python 3 (ipykernel)",
   "language": "python",
   "name": "python3"
  },
  "language_info": {
   "codemirror_mode": {
    "name": "ipython",
    "version": 3
   },
   "file_extension": ".py",
   "mimetype": "text/x-python",
   "name": "python",
   "nbconvert_exporter": "python",
   "pygments_lexer": "ipython3",
   "version": "3.8.10"
  }
 },
 "nbformat": 4,
 "nbformat_minor": 5
}
